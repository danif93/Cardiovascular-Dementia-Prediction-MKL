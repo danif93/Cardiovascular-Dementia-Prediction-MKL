{
 "cells": [
  {
   "cell_type": "code",
   "execution_count": 1,
   "metadata": {},
   "outputs": [
    {
     "name": "stderr",
     "output_type": "stream",
     "text": [
      "/Users/danilo/.conda/envs/bcb/lib/python3.7/site-packages/sklearn/utils/__init__.py:4: DeprecationWarning: Using or importing the ABCs from 'collections' instead of from 'collections.abc' is deprecated, and in 3.8 it will stop working\n",
      "  from collections import Sequence\n"
     ]
    }
   ],
   "source": [
    "import pandas as pd\n",
    "import os\n",
    "import numpy as np\n",
    "\n",
    "import Utils as ut\n",
    "import CortesAlignmentFile as ca\n",
    "import mySampler as ms\n",
    " \n",
    "from sklearn.model_selection import train_test_split, ShuffleSplit"
   ]
  },
  {
   "cell_type": "code",
   "execution_count": 2,
   "metadata": {},
   "outputs": [],
   "source": [
    "d_clinical = pd.read_csv(os.path.join('data', 'dataset_clinical_cleaned.csv'))\n",
    "d_genetic = pd.read_csv(os.path.join('data', 'dataset_genetic_cleaned_noOHE.csv'))\n",
    "d_vampire = pd.read_csv(os.path.join('data', 'dataset_vampire_cleaned.csv'))\n",
    "outputs = pd.read_csv(os.path.join('data', 'outputs_cleaned.csv'))"
   ]
  },
  {
   "cell_type": "markdown",
   "metadata": {},
   "source": [
    "## Dementia"
   ]
  },
  {
   "cell_type": "code",
   "execution_count": 3,
   "metadata": {},
   "outputs": [],
   "source": [
    "y_class = outputs[\"cvd_fail\"].values\n",
    "meaningful_idxs = np.where(y_class==1)\n",
    "y = outputs[\"dement_time_age\"].values[meaningful_idxs]\n",
    "C = d_clinical.values[meaningful_idxs]\n",
    "G = d_genetic.values[meaningful_idxs]\n",
    "V = d_vampire.values[meaningful_idxs]"
   ]
  },
  {
   "cell_type": "code",
   "execution_count": 4,
   "metadata": {},
   "outputs": [],
   "source": [
    "# COMPUTATIONAL COMPLEXITY: Reduce #samples\n",
    "#tr_idx, ts_idx = next(StratifiedShuffleSplit(n_splits=1, test_size=0.75).split(C, y))\n",
    "C_, C_test, G_, G_test, V_, V_test, y_, y_test = train_test_split(C, G, V, y, test_size=0.25)"
   ]
  },
  {
   "cell_type": "code",
   "execution_count": 5,
   "metadata": {},
   "outputs": [],
   "source": [
    "ds_list = [C_, G_, V_]\n",
    "ds_test = [C_test, G_test, V_test]\n",
    "ds_names = ['clinic', 'genetic', 'vampire']"
   ]
  },
  {
   "cell_type": "markdown",
   "metadata": {},
   "source": [
    "## Kernel Configuration"
   ]
  },
  {
   "cell_type": "code",
   "execution_count": 6,
   "metadata": {},
   "outputs": [],
   "source": [
    "kernel_names = ['linear', 'gaussian']\n",
    "kernel_type = [{'linear':[0.5], 'gaussian':[0.1, 0.5, 0.7]},\n",
    "               {'linear':[0.2], 'gaussian':[0.7, 1]}]\n",
    "estimator = ca.centeredKernelAlignment"
   ]
  },
  {
   "cell_type": "markdown",
   "metadata": {},
   "source": [
    "## Basic approach"
   ]
  },
  {
   "cell_type": "code",
   "execution_count": 7,
   "metadata": {},
   "outputs": [],
   "source": [
    "sampler = ms.mySampler(n_splits=3, test_size=.25, Ptype=\"regression\")"
   ]
  },
  {
   "cell_type": "code",
   "execution_count": 8,
   "metadata": {
    "scrolled": true
   },
   "outputs": [
    {
     "name": "stdout",
     "output_type": "stream",
     "text": [
      "\n",
      "1 split out of 3 ...\n",
      "\tWorking on config 1 of 2: {'linear': [0.5], 'gaussian': [0.1, 0.5, 0.7]}\n",
      "Fold no. 1\n",
      "Fold no. 2\n",
      "Fold no. 3\n",
      "Validation complete, config selected:[[0.5, 0.1], [0.5, 0.1], [0.5, 0.1]]\n",
      "\tResult of 1:\n",
      "CA: 0.002937355678745542\n",
      "Average error: 77.68558196470589\n",
      "Error variance: 69.68576090051883\n",
      "[linear:0.5, gaussian:0.1, ]\n",
      "[linear:0.5, gaussian:0.1, ]\n",
      "[linear:0.5, gaussian:0.1, ]\n",
      "\n",
      "eta vector: [ 1.36921731e-08  1.18270754e-11  1.40725662e-08  1.20817132e-11\n",
      " -5.44377795e-16  1.18274490e-11]\n",
      "\n",
      "\n",
      "\tCompleted in 0.1 minutes\n",
      "\tWorking on config 2 of 2: {'linear': [0.2], 'gaussian': [0.7, 1]}\n",
      "Fold no. 1\n",
      "Fold no. 2\n",
      "Fold no. 3\n",
      "Validation complete, config selected:[[0.2, 1], [0.2, 0.7], [0.2, 1]]\n",
      "\tResult of 1:\n",
      "CA: 0.002937355678745542\n",
      "Average error: 77.68558196470589\n",
      "Error variance: 69.68576090051883\n",
      "[linear:0.5, gaussian:0.1, ]\n",
      "[linear:0.5, gaussian:0.1, ]\n",
      "[linear:0.5, gaussian:0.1, ]\n",
      "\n",
      "eta vector: [ 1.36921731e-08  1.18270754e-11  1.40725662e-08  1.20817132e-11\n",
      " -5.44377795e-16  1.18274490e-11]\n",
      "\n",
      "CA: 0.0029373556774868696\n",
      "Average error: 77.68558196470589\n",
      "Error variance: 69.68576090051849\n",
      "[linear:0.2, gaussian:1, ]\n",
      "[linear:0.2, gaussian:0.7, ]\n",
      "[linear:0.2, gaussian:1, ]\n",
      "\n",
      "eta vector: [ 1.36921731e-08  1.18275373e-11  1.40725635e-08  1.18274375e-11\n",
      " -5.44377780e-16  1.18274374e-11]\n",
      "\n",
      "\n",
      "\tCompleted in 0.15 minutes\n",
      "\n",
      "2 split out of 3 ...\n",
      "\tWorking on config 1 of 2: {'linear': [0.5], 'gaussian': [0.1, 0.5, 0.7]}\n",
      "Fold no. 1\n",
      "Fold no. 2\n",
      "Fold no. 3\n",
      "Validation complete, config selected:[[0.5, 0.1], [0.5, 0.1], [0.5, 0.1]]\n",
      "\tResult of 2:\n",
      "CA: 0.0028424245019992174\n",
      "Average error: 78.77687321764705\n",
      "Error variance: 71.00019577172287\n",
      "[linear:0.5, gaussian:0.1, ]\n",
      "[linear:0.5, gaussian:0.1, ]\n",
      "[linear:0.5, gaussian:0.1, ]\n",
      "\n",
      "eta vector: [1.28444291e-08 1.90696726e-11 2.34131202e-08 1.98140971e-11\n",
      " 5.60402972e-16 1.90743173e-11]\n",
      "\n",
      "\n",
      "\tCompleted in 0.1 minutes\n",
      "\tWorking on config 2 of 2: {'linear': [0.2], 'gaussian': [0.7, 1]}\n",
      "Fold no. 1\n",
      "Fold no. 2\n",
      "Fold no. 3\n",
      "Validation complete, config selected:[[0.2, 1], [0.2, 1], [0.2, 1]]\n",
      "\tResult of 2:\n",
      "CA: 0.0028424245019992174\n",
      "Average error: 78.77687321764705\n",
      "Error variance: 71.00019577172287\n",
      "[linear:0.5, gaussian:0.1, ]\n",
      "[linear:0.5, gaussian:0.1, ]\n",
      "[linear:0.5, gaussian:0.1, ]\n",
      "\n",
      "eta vector: [1.28444291e-08 1.90696726e-11 2.34131202e-08 1.98140971e-11\n",
      " 5.60402972e-16 1.90743173e-11]\n",
      "\n",
      "CA: 0.0028424244991696592\n",
      "Average error: 78.77687321764705\n",
      "Error variance: 71.00019577172897\n",
      "[linear:0.2, gaussian:1, ]\n",
      "[linear:0.2, gaussian:1, ]\n",
      "[linear:0.2, gaussian:1, ]\n",
      "\n",
      "eta vector: [1.28444291e-08 1.90741419e-11 2.34131174e-08 1.90743316e-11\n",
      " 5.60403024e-16 1.90743316e-11]\n",
      "\n",
      "\n",
      "\tCompleted in 0.13333333333333333 minutes\n",
      "\n",
      "3 split out of 3 ...\n",
      "\tWorking on config 1 of 2: {'linear': [0.5], 'gaussian': [0.1, 0.5, 0.7]}\n",
      "Fold no. 1\n",
      "Fold no. 2\n",
      "Fold no. 3\n",
      "Validation complete, config selected:[[0.5, 0.1], [0.5, 0.1], [0.5, 0.1]]\n",
      "\tResult of 3:\n",
      "CA: 0.002878597831696044\n",
      "Average error: 79.48446265882353\n",
      "Error variance: 68.21871139827729\n",
      "[linear:0.5, gaussian:0.1, ]\n",
      "[linear:0.5, gaussian:0.1, ]\n",
      "[linear:0.5, gaussian:0.1, ]\n",
      "\n",
      "eta vector: [ 1.27575799e-08  1.07953096e-11  1.36462512e-08  1.11533622e-11\n",
      " -5.67914875e-16  1.07964340e-11]\n",
      "\n",
      "\n",
      "\tCompleted in 0.11666666666666667 minutes\n",
      "\tWorking on config 2 of 2: {'linear': [0.2], 'gaussian': [0.7, 1]}\n",
      "Fold no. 1\n",
      "Fold no. 2\n",
      "Fold no. 3\n",
      "Validation complete, config selected:[[0.2, 1], [0.2, 1], [0.2, 1]]\n",
      "\tResult of 3:\n",
      "CA: 0.002878597831696044\n",
      "Average error: 79.48446265882353\n",
      "Error variance: 68.21871139827729\n",
      "[linear:0.5, gaussian:0.1, ]\n",
      "[linear:0.5, gaussian:0.1, ]\n",
      "[linear:0.5, gaussian:0.1, ]\n",
      "\n",
      "eta vector: [ 1.27575799e-08  1.07953096e-11  1.36462512e-08  1.11533622e-11\n",
      " -5.67914875e-16  1.07964340e-11]\n",
      "\n",
      "CA: 0.0028785978300876654\n",
      "Average error: 79.48446265882352\n",
      "Error variance: 68.21871139827678\n",
      "[linear:0.2, gaussian:1, ]\n",
      "[linear:0.2, gaussian:1, ]\n",
      "[linear:0.2, gaussian:1, ]\n",
      "\n",
      "eta vector: [ 1.27575799e-08  1.07965108e-11  1.36462480e-08  1.07965146e-11\n",
      " -5.67914852e-16  1.07965146e-11]\n",
      "\n",
      "\n",
      "\tCompleted in 0.15 minutes\n"
     ]
    }
   ],
   "source": [
    "result1 = sampler.sample(kernel_type, estimator, ds_list, y_, valid_fold = 3, verbose=True)"
   ]
  },
  {
   "cell_type": "code",
   "execution_count": 9,
   "metadata": {},
   "outputs": [
    {
     "name": "stdout",
     "output_type": "stream",
     "text": [
      "Perfomances computed for dictionary settings 1:\n",
      "\tAverage error: 77.4938248362832\n",
      "\tError variance: 78.33555750876612\n",
      "\tPred: [-3.58733233e-07 -8.63141382e-06 -7.25558611e-06 -1.93870718e-06\n",
      " -6.62089308e-07  5.04044483e-06 -2.88840972e-07  1.32097943e-05\n",
      " -2.04922991e-05  1.99113115e-05  2.08698794e-06  2.12036271e-05\n",
      "  2.29947385e-07 -1.13737399e-05  2.13809350e-06 -2.23138858e-05\n",
      "  1.88586936e-06 -2.96948131e-05 -6.66076560e-06  3.57550306e-05\n",
      "  3.46508096e-05 -2.10623597e-05 -1.85784082e-05 -2.90296787e-05\n",
      "  3.45871330e-06 -1.88094430e-06  4.53778226e-06 -2.01454131e-05\n",
      " -1.15799803e-06  1.01554977e-05 -2.15923253e-05  1.80483806e-05\n",
      " -3.02306526e-06  1.17131510e-05 -4.54012809e-06 -5.67022149e-06\n",
      " -6.30109328e-06  9.95907377e-06  3.83879992e-06 -5.78030514e-06\n",
      " -7.85745331e-06 -1.00280059e-06  1.77837594e-05  1.09786170e-05\n",
      "  3.87385806e-06 -2.37919626e-06  1.03523308e-05  1.47554107e-05\n",
      "  2.69557184e-05  1.98271026e-05 -1.86472437e-05  9.62557771e-06\n",
      " -7.14898951e-06  4.00811519e-05  9.26136707e-06 -1.97694573e-05\n",
      "  1.35866100e-05 -7.54008140e-06 -1.26115646e-05  3.18270841e-06\n",
      " -1.01660669e-05  7.95190828e-06 -1.04547683e-05  6.70467041e-06\n",
      "  2.86568615e-06 -1.05649898e-07  5.56526335e-06 -2.00350177e-07\n",
      " -2.49494103e-06 -2.37779636e-05  1.93331063e-05 -1.10436181e-05\n",
      " -6.70791923e-06  8.50747386e-06 -6.14278063e-06 -3.76671283e-05\n",
      "  1.59400450e-05 -3.20482618e-06 -6.68633387e-06 -2.42848469e-05\n",
      "  5.07276403e-06 -1.35826190e-05 -1.68400431e-05 -2.62642034e-06\n",
      " -1.86943336e-05  1.45581360e-05 -1.72926166e-05  1.77092408e-05\n",
      "  8.51470340e-06 -6.88330174e-06 -1.96508153e-05  3.96242725e-06\n",
      " -4.64090077e-06  1.53207542e-05  1.14528095e-05  8.63168121e-06\n",
      " -1.50876653e-06 -8.13439498e-06  1.34263871e-06  2.28319518e-06\n",
      "  7.51530342e-06  1.81427951e-05  1.37213454e-05  2.69654496e-06\n",
      " -1.33724421e-05 -2.55698539e-05 -9.25197589e-07  7.14972169e-06\n",
      "  2.16697026e-05  1.34482654e-05 -9.10289147e-06 -7.30296232e-06\n",
      " -1.53412980e-05  1.91853360e-05 -5.92538315e-06  8.13302752e-06\n",
      "  1.68475275e-05  1.36638024e-05 -6.73108228e-06 -5.32368758e-06\n",
      " -1.83025446e-05 -1.64596560e-05 -2.03402466e-05  8.48174272e-06\n",
      "  2.93319562e-06  7.47951642e-06 -1.00065888e-05 -1.04649373e-05\n",
      "  5.80001925e-06 -3.87802509e-06  3.32339098e-06  1.94172524e-05\n",
      "  1.89993645e-05 -1.58561973e-05 -1.80005993e-05 -1.35638458e-05\n",
      " -3.49765049e-06 -1.94903977e-05  8.46293802e-06  5.71082481e-06\n",
      "  4.66241878e-06  3.66463895e-05 -9.45681919e-06 -2.80168712e-05\n",
      "  9.37970153e-06  1.05914680e-05  8.36697790e-06 -9.78353609e-06\n",
      "  6.36720208e-06 -5.91786758e-06  1.51248769e-05 -3.97465223e-06\n",
      "  2.37047199e-06  2.41348599e-05 -5.03693554e-06  3.27800733e-05\n",
      " -6.62236524e-07 -1.42049743e-05 -7.34473512e-06 -1.95537589e-05\n",
      " -2.59303010e-05  1.75602930e-05  1.49117101e-05 -2.85559417e-05\n",
      " -9.56008761e-06  2.58688956e-05  3.64069404e-05 -3.84886575e-06\n",
      " -1.49886238e-05  1.48900136e-06 -1.98012281e-05  1.48021822e-06\n",
      " -7.26946956e-06  1.70264911e-05 -1.18023652e-05  2.00381835e-05\n",
      "  2.81011797e-06  5.14359592e-06 -1.82893256e-05 -9.54634621e-06\n",
      " -1.70035413e-05  2.44727947e-05  8.54074419e-07  1.41922741e-06\n",
      "  1.59542588e-05 -1.53607036e-05  1.11443293e-06  1.03138562e-05\n",
      "  2.27756670e-05  1.53802307e-06  5.71294299e-06 -3.17961041e-06\n",
      "  2.26876641e-05 -8.44790888e-06 -2.48911185e-06  8.65149401e-06\n",
      " -3.21281008e-05  2.12923493e-06  6.58256967e-06  1.00381980e-05\n",
      "  4.16170701e-06  3.31977713e-05 -1.11352859e-05 -3.39155047e-06\n",
      " -2.07477552e-05 -7.45910310e-07 -2.85372378e-06 -1.21490817e-05\n",
      "  6.30646066e-06  1.07265406e-05 -1.71869062e-05 -1.18909351e-05\n",
      "  1.87815357e-05 -1.05466427e-05  6.87221946e-06 -1.71415920e-06\n",
      " -8.25381567e-06  1.36336915e-08 -8.32430818e-06 -8.10519422e-06\n",
      " -2.71935814e-05  1.35944469e-05  6.59324976e-06 -1.23526104e-06\n",
      " -1.21013218e-07  1.11479984e-05]\n",
      "\tPred_multiplied: [-7.35541916e-04 -1.76977377e-02 -1.48767586e-02 -3.97509978e-03\n",
      " -1.35753923e-03  1.03348620e-02 -5.92235741e-04  2.70851889e-02\n",
      " -4.20171412e-02  4.08258920e-02  4.27913271e-03  4.34756389e-02\n",
      "  4.71481102e-04 -2.33205671e-02  4.38391886e-03 -4.57520988e-02\n",
      "  3.86676180e-03 -6.08858554e-02 -1.36571464e-02  7.33116458e-02\n",
      "  7.10475656e-02 -4.31859861e-02 -3.80929246e-02 -5.95220726e-02\n",
      "  7.09170038e-03 -3.85666352e-03  9.30420922e-03 -4.13058908e-02\n",
      " -2.37434397e-03  2.08226994e-02 -4.42726206e-02  3.70061628e-02\n",
      " -6.19845337e-03  2.40164912e-02 -9.30901910e-03 -1.16261478e-02\n",
      " -1.29196790e-02  2.04199542e-02  7.87102501e-03 -1.18518618e-02\n",
      " -1.61108192e-02 -2.05612918e-03  3.64635871e-02  2.25104123e-02\n",
      "  7.94290776e-03 -4.87827280e-03  2.12262833e-02  3.02543006e-02\n",
      "  5.52696514e-02  4.06532312e-02 -3.82340639e-02  1.97361583e-02\n",
      " -1.46581943e-02  8.21818682e-02  1.89893856e-02 -4.05350359e-02\n",
      "  2.78578069e-02 -1.54600840e-02 -2.58585867e-02  6.52578358e-03\n",
      " -2.08443701e-02  1.63044885e-02 -2.14363198e-02  1.37471683e-02\n",
      "  5.87576529e-03 -2.16623166e-04  1.14109430e-02 -4.10795376e-04\n",
      " -5.11559437e-03 -4.87540247e-02  3.96403476e-02 -2.26436898e-02\n",
      " -1.37538296e-02  1.74436128e-02 -1.25950768e-02 -7.72321859e-02\n",
      "  3.26832592e-02 -6.57113357e-03 -1.37095713e-02 -4.97933315e-02\n",
      "  1.04011288e-02 -2.78496238e-02 -3.45286034e-02 -5.38517781e-03\n",
      " -3.83306165e-02  2.98498112e-02 -3.54565543e-02  3.63107950e-02\n",
      "  1.74584362e-02 -1.41134316e-02 -4.02917739e-02  8.12450887e-03\n",
      " -9.51564207e-03  3.14134734e-02  2.34826905e-02  1.76982860e-02\n",
      " -3.09355510e-03 -1.66786568e-02  2.75292881e-03  4.68143345e-03\n",
      "  1.54092796e-02  3.71997490e-02  2.81340666e-02  5.52896041e-03\n",
      " -2.74186799e-02 -5.24280931e-02 -1.89701300e-03  1.46596956e-02\n",
      "  4.44312741e-02  2.75741470e-02 -1.86644493e-02 -1.49738982e-02\n",
      " -3.14555963e-02  3.93373612e-02 -1.21493279e-02  1.66758530e-02\n",
      "  3.45439495e-02  2.80160812e-02 -1.38013228e-02 -1.09156192e-02\n",
      " -3.75272974e-02 -3.37486629e-02 -4.17053748e-02  1.73908540e-02\n",
      "  6.01418583e-03  1.53359024e-02 -2.05173784e-02 -2.14571701e-02\n",
      "  1.18922834e-02 -7.95145179e-03  6.81423727e-03  3.98128797e-02\n",
      "  3.89560477e-02 -3.25113390e-02 -3.69081927e-02 -2.78111316e-02\n",
      " -7.17153669e-03 -3.99628559e-02  1.73522971e-02  1.17094003e-02\n",
      "  9.55976233e-03  7.51392764e-02 -1.93901380e-02 -5.74454254e-02\n",
      "  1.92320170e-02  2.17166071e-02  1.71555417e-02 -2.00600341e-02\n",
      "  1.30552276e-02 -1.21339181e-02  3.10118493e-02 -8.14957480e-03\n",
      "  4.86038469e-03  4.94858002e-02 -1.03276666e-02  6.72118325e-02\n",
      " -1.35784108e-03 -2.91256930e-02 -1.50595486e-02 -4.00927708e-02\n",
      " -5.31671491e-02  3.60053944e-02  3.05747747e-02 -5.85507283e-02\n",
      " -1.96018782e-02  5.30412443e-02  7.46483130e-02 -7.89166386e-03\n",
      " -3.07324777e-02  3.05302886e-03 -4.06001784e-02  3.03502003e-03\n",
      " -1.49052250e-02  3.49108941e-02 -2.41994147e-02  4.10860287e-02\n",
      "  5.76182904e-03  1.05463616e-02 -3.75001932e-02 -1.95737031e-02\n",
      " -3.48638381e-02  5.01786974e-02  1.75118299e-03  2.90996528e-03\n",
      "  3.27124031e-02 -3.14953852e-02  2.28501865e-03  2.11473956e-02\n",
      "  4.66989289e-02  3.15354233e-03  1.17137434e-02 -6.51943149e-03\n",
      "  4.65184889e-02 -1.73214816e-02 -5.10364229e-03  1.77389098e-02\n",
      " -6.58750364e-02  4.36575537e-03  1.34968145e-02  2.05821895e-02\n",
      "  8.53310947e-03  6.80682749e-02 -2.28316442e-02 -6.95399060e-03\n",
      " -4.25409251e-02 -1.52940472e-03 -5.85123780e-03 -2.49103178e-02\n",
      "  1.29306842e-02  2.19935582e-02 -3.52398070e-02 -2.43810173e-02\n",
      "  3.85094144e-02 -2.16246978e-02  1.40907087e-02 -3.51468953e-03\n",
      " -1.69235154e-02  2.79543423e-05 -1.70680523e-02 -1.66187839e-02\n",
      " -5.57573626e-02  2.78738755e-02  1.35187128e-02 -2.53276304e-03\n",
      " -2.48123916e-04  2.28577098e-02]\n",
      "Perfomances computed for dictionary settings 2:\n",
      "\tAverage error: 77.49382483628321\n",
      "\tError variance: 162.6609285134363\n",
      "\tPred: [-0.00071172 -0.00081549 -0.0021881  -0.00152895 -0.00334315 -0.00258146\n",
      " -0.00236718  0.0092232  -0.00343626 -0.0014232  -0.00378587 -0.0025119\n",
      " -0.00319094 -0.00282836  0.00028051  0.00808348 -0.00199076 -0.00328913\n",
      " -0.00104917 -0.00317262  0.00879919 -0.00278915 -0.00202176 -0.00153052\n",
      " -0.00185384 -0.00039071 -0.00247397  0.00521609 -0.00196177  0.00236384\n",
      " -0.00310282 -0.00230423  0.00269389  0.00649062 -0.00285105 -0.00098999\n",
      " -0.00048375 -0.00205536 -0.0030905  -0.00329736  0.00852592 -0.00712506\n",
      " -0.00212901  0.00810206 -0.00300761 -0.00133312  0.00315933  0.0002435\n",
      " -0.00118387  0.00335688 -0.0017799   0.00233371  0.0091679  -0.00323162\n",
      " -0.00081621 -0.00305527 -0.00138538 -0.0004839  -0.00111809  0.00474227\n",
      " -0.0017921  -0.00292127 -0.00247305 -0.00179305  0.00753933  0.00801921\n",
      " -0.00158628 -0.00304898 -0.00125981 -0.00081457 -0.00106969 -0.00141028\n",
      "  0.00777818 -0.00427077 -0.00097174  0.00753139  0.00719478 -0.00082361\n",
      " -0.00350683 -0.00168776 -0.00143794 -0.001992    0.01003076 -0.00093704\n",
      " -0.00150215 -0.00262354  0.00822404 -0.00087667 -0.00076296 -0.00311165\n",
      " -0.00142823  0.00763408 -0.00286571  0.00106201  0.00916285  0.00771934\n",
      " -0.00047056 -0.00211785  0.00037997 -0.00170625 -0.00056717  0.00963639\n",
      "  0.0090846   0.00951351 -0.00090652 -0.00247778 -0.00235104 -0.00165042\n",
      " -0.0030186  -0.00143755 -0.00192002  0.00965499  0.00667501  0.00179235\n",
      "  0.00298015 -0.002528   -0.00279614  0.00806664  0.00202054 -0.00110984\n",
      " -0.00153971  0.00508722 -0.00102806  0.00882335 -0.00359534 -0.00140771\n",
      " -0.00254991 -0.00183834 -0.00374059  0.00012236  0.00266609 -0.00333816\n",
      " -0.00286936  0.00937349 -0.00286975 -0.00405337 -0.00178    -0.00273275\n",
      " -0.00169695 -0.00376236  0.00106383  0.00581256  0.00852936  0.00967015\n",
      " -0.00161748 -0.00198054 -0.00397759 -0.00269716 -0.00267111 -0.00273314\n",
      " -0.00343417 -0.00089366  0.00969901 -0.00256344  0.00923058 -0.0018047\n",
      " -0.00084965 -0.00352316 -0.00345833 -0.00176899 -0.0002434   0.00822598\n",
      "  0.00724615 -0.0001034  -0.00384053 -0.00199753 -0.00184018  0.00504454\n",
      " -0.00092553 -0.00154243 -0.00408708 -0.00119996 -0.00140334 -0.00146936\n",
      " -0.00055911 -0.00274334  0.00161455 -0.00100481 -0.00196575 -0.00359017\n",
      " -0.00248326 -0.00277797 -0.00078381 -0.00342895 -0.00181052 -0.00417591\n",
      " -0.0028978  -0.00242653  0.00226519 -0.00098623  0.00039057 -0.00219399\n",
      " -0.00198518 -0.0018496   0.00777751 -0.00564723  0.00486227 -0.00315139\n",
      " -0.00513251  0.0083845  -0.00166289 -0.00427521 -0.00180141  0.00758041\n",
      " -0.0022679  -0.01643124  0.00865052 -0.0024025   0.00123541 -0.00142406\n",
      "  0.0089841   0.00120475 -0.00323698 -0.0019256  -0.00263808  0.00749778\n",
      " -0.00236905 -0.00116763 -0.00256627 -0.00285175 -0.00064058 -0.00297979\n",
      " -0.00332843 -0.00110632 -0.002896   -0.00444519]\n",
      "\tPred_multiplied: [ -1.45930209  -1.67207682  -4.48645338  -3.13492992  -6.85474748\n",
      "  -5.29299718  -4.85363816  18.91113628  -7.0456524   -2.91810528\n",
      "  -7.76250341  -5.15036482  -6.54266727  -5.7992229    0.57514863\n",
      "  16.57425433  -4.08182613  -6.74399161  -2.15121235  -6.50510839\n",
      "  18.04175275  -5.71883424  -4.14538742  -3.13816277  -3.80108058\n",
      "  -0.80111507  -5.072596    10.69499318  -4.02239311   4.84678796\n",
      "  -6.36198949  -4.72456963   5.52350909  13.30828433  -5.84576318\n",
      "  -2.02985338  -0.99186519  -4.21428789  -6.33672666  -6.76086092\n",
      "  17.48142982 -14.60913248  -4.36529048  16.61235458  -6.16676729\n",
      "  -2.73341511   6.4778506    0.49927869  -2.42738799   6.88290239\n",
      "  -3.64947886   4.7850022   18.79774684  -6.62607085  -1.67355259\n",
      "  -6.26447957  -2.84055907  -0.99219095  -2.29252451   9.72347825\n",
      "  -3.67450702  -5.98973059  -5.07070935  -3.67644766  15.45853369\n",
      "  16.44249237  -3.25249036  -6.25159284  -2.58309884  -1.67017945\n",
      "  -2.19328238  -2.89162805  15.94826949  -8.7567359   -1.99243537\n",
      "  15.44226288  14.75209033  -1.68872409  -7.19035804  -3.46055336\n",
      "  -2.94833745  -4.08436415  20.56693218  -1.92129805  -3.07999214\n",
      "  -5.3792704   16.86247205  -1.79750788  -1.56437168  -6.38008813\n",
      "  -2.92842322  15.65280748  -5.87581532   2.17752965  18.78737756\n",
      "  15.82763234  -0.96483837  -4.34240907   0.77908841  -3.49847313\n",
      "  -1.16291298  19.75832758  18.62694041  19.50637323  -1.85872233\n",
      "  -5.08041751  -4.82053676  -3.38399704  -6.18928934  -2.94753894\n",
      "  -3.93679052  19.79647397  13.68635657   3.67500588   6.11045293\n",
      "  -5.18337377  -5.7331608   16.53973629   4.14288791  -2.27560226\n",
      "  -3.15699689  10.43077234  -2.1079234   18.09127187  -7.37184395\n",
      "  -2.88634031  -5.2282986   -3.76929936  -7.6696624    0.25088045\n",
      "   5.46652013  -6.84451561  -5.88330627  19.21927171  -5.88410559\n",
      "  -8.31097261  -3.649686    -5.60319384  -3.47940265  -7.71430118\n",
      "   2.18126106  11.91798703  17.48848317  19.82754037  -3.31646152\n",
      "  -4.0608801   -8.1556023   -5.53021932  -5.47681057  -5.60400263\n",
      "  -7.04138435  -1.83234734  19.88672518  -5.25605078  18.92625426\n",
      "  -3.70033607  -1.74210715  -7.2238393   -7.0909145   -3.62710642\n",
      "  -0.49905803  16.86644733  14.85741057  -0.21201544  -7.8745666\n",
      "  -4.09571586  -3.77308891  10.34326635  -1.89770457  -3.1625883\n",
      "  -8.38009292  -2.46037243  -2.87739419  -3.01276457  -1.1463848\n",
      "  -5.62489983   3.31046098  -2.06025396  -4.03055368  -7.36123572\n",
      "  -5.09164666  -5.69590838  -1.60710689  -7.03068369  -3.71226207\n",
      "  -8.56223209  -5.94161593  -4.97531912   4.64452466  -2.02215382\n",
      "   0.80081099  -4.49853036  -4.07038084  -3.79240012  15.94691398\n",
      " -11.57900542   9.96954261  -6.46156085 -10.5236289   17.19147703\n",
      "  -3.40956889  -8.76582835  -3.69359419  15.54277324  -4.6500694\n",
      " -33.69040508  17.73690695  -4.92605365   2.53306691  -2.91986716\n",
      "  18.42087538   2.47019712  -6.63706342  -3.94821529  -5.40908112\n",
      "  15.37335145  -4.85747645  -2.39408519  -5.26185304  -5.84720081\n",
      "  -1.31343406  -6.10973176  -6.82457643  -2.26837441  -5.93792895\n",
      "  -9.11436317]\n"
     ]
    }
   ],
   "source": [
    "w_dict, w_list = result1.votingOverCA(ds_names, kernel_names)\n",
    "ut.testConfigurations(estimator, y_, y_test, w_list, ds_list, ds_test, kernel_names, Ptype='regression')"
   ]
  },
  {
   "cell_type": "code",
   "execution_count": 10,
   "metadata": {},
   "outputs": [
    {
     "data": {
      "text/plain": [
       "[{'clinic': {'linear': 0.5, 'gaussian': 0.1},\n",
       "  'genetic': {'linear': 0.5, 'gaussian': 0.1},\n",
       "  'vampire': {'linear': 0.5, 'gaussian': 0.1}},\n",
       " {'clinic': {'linear': 0.2, 'gaussian': 1},\n",
       "  'genetic': {'linear': 0.2, 'gaussian': 1},\n",
       "  'vampire': {'linear': 0.2, 'gaussian': 1}}]"
      ]
     },
     "execution_count": 10,
     "metadata": {},
     "output_type": "execute_result"
    }
   ],
   "source": [
    "w_dict"
   ]
  },
  {
   "cell_type": "code",
   "execution_count": 11,
   "metadata": {},
   "outputs": [
    {
     "name": "stdout",
     "output_type": "stream",
     "text": [
      "statistics of configuration 1\n",
      "{'config': {'linear': [[0.5, 0.5, 0.5], [0.5, 0.5, 0.5], [0.5, 0.5, 0.5]], 'gaussian': [[0.1, 0.1, 0.1], [0.1, 0.1, 0.1], [0.1, 0.1, 0.1]]}, 'CA': (0.0028861260041469342, 1.5303247432988233e-09), 'meanErr': (78.64897261372549, 0.5475079075199448), 'varErr': (69.63488935683966, 1.2907365102651418), 'eta': (array([ 1.30980607e-08,  1.38973525e-11,  1.70439792e-08,  1.43497242e-11,\n",
      "       -1.83963233e-16,  1.38994001e-11]), array([1.77741931e-19, 1.35538707e-23, 2.03132693e-17, 1.50733252e-23,\n",
      "       2.77132856e-31, 1.35670494e-23]))}\n",
      "statistics of configuration 2\n",
      "{'config': {'linear': [[0.2, 0.2, 0.2], [0.2, 0.2, 0.2], [0.2, 0.2, 0.2]], 'gaussian': [[1, 0.7, 1], [1, 1, 1], [1, 1, 1]]}, 'CA': (0.0028861260022480643, 1.530324790820636e-09), 'meanErr': (78.64897261372549, 0.5475079075199369), 'varErr': (69.63488935684141, 1.290736510271162), 'eta': (array([ 1.30980607e-08,  1.38993967e-11,  1.70439763e-08,  1.38994279e-11,\n",
      "       -1.83963203e-16,  1.38994279e-11]), array([1.77741930e-19, 1.35661634e-23, 2.03132700e-17, 1.35669480e-23,\n",
      "       2.77132872e-31, 1.35669482e-23]))}\n"
     ]
    }
   ],
   "source": [
    "result1.performancesFeatures()"
   ]
  },
  {
   "cell_type": "markdown",
   "metadata": {},
   "source": [
    "## Kernel normalization"
   ]
  },
  {
   "cell_type": "code",
   "execution_count": null,
   "metadata": {},
   "outputs": [],
   "source": [
    "sampler = ms.mySampler(n_splits=3, test_size=.25, Ptype=\"regression\", normalize_kernels = True)"
   ]
  },
  {
   "cell_type": "code",
   "execution_count": null,
   "metadata": {
    "scrolled": true
   },
   "outputs": [],
   "source": [
    "result3 = sampler.sample(kernel_type, estimator, ds_list, y_, valid_fold = 3, verbose=True)"
   ]
  },
  {
   "cell_type": "code",
   "execution_count": null,
   "metadata": {},
   "outputs": [],
   "source": [
    "w_dict, w_list = result3.votingOverCA(ds_names, kernel_names)\n",
    "ut.testConfigurations(estimator, y_, y_test, w_list, ds_list, ds_test, kernel_names, Ptype='regression')"
   ]
  },
  {
   "cell_type": "code",
   "execution_count": null,
   "metadata": {},
   "outputs": [],
   "source": [
    "w_dict"
   ]
  },
  {
   "cell_type": "code",
   "execution_count": null,
   "metadata": {},
   "outputs": [],
   "source": [
    "result3.performancesFeatures()"
   ]
  },
  {
   "cell_type": "markdown",
   "metadata": {},
   "source": [
    "## Normalized data"
   ]
  },
  {
   "cell_type": "code",
   "execution_count": null,
   "metadata": {},
   "outputs": [],
   "source": [
    "sampler = ms.mySampler(n_splits=3, test_size=.25, Ptype=\"regression\", normalizing = True)"
   ]
  },
  {
   "cell_type": "code",
   "execution_count": null,
   "metadata": {
    "scrolled": true
   },
   "outputs": [],
   "source": [
    "result4 = sampler.sample(kernel_type, estimator, ds_list, y_, valid_fold = 3, verbose=True, exclusion_list = [[0, 3, 8, 13, 14], list(range(G.shape[1]-3)), []])"
   ]
  },
  {
   "cell_type": "code",
   "execution_count": null,
   "metadata": {},
   "outputs": [],
   "source": [
    "w_dict, w_list = result4.votingOverCA(ds_names, kernel_names)\n",
    "ut.testConfigurations(estimator, y_, y_test, w_list, ds_list, ds_test, kernel_names, Ptype='regression')"
   ]
  },
  {
   "cell_type": "code",
   "execution_count": null,
   "metadata": {},
   "outputs": [],
   "source": [
    "w_dict"
   ]
  },
  {
   "cell_type": "code",
   "execution_count": null,
   "metadata": {},
   "outputs": [],
   "source": [
    "result4.performancesFeatures()"
   ]
  },
  {
   "cell_type": "markdown",
   "metadata": {},
   "source": [
    "## Origin Data Centering"
   ]
  },
  {
   "cell_type": "code",
   "execution_count": null,
   "metadata": {},
   "outputs": [],
   "source": [
    "sampler = ms.mySampler(n_splits=3, test_size=.25, Ptype=\"regression\", centering = True)"
   ]
  },
  {
   "cell_type": "code",
   "execution_count": null,
   "metadata": {
    "scrolled": true
   },
   "outputs": [],
   "source": [
    "result5 = sampler.sample(kernel_type, estimator, ds_list, y_, valid_fold = 3, verbose=True, exclusion_list = [[5,6,7,9,10,13,15,16,17,18,19], list(range(G.shape[1]-3)), []])"
   ]
  },
  {
   "cell_type": "code",
   "execution_count": null,
   "metadata": {},
   "outputs": [],
   "source": [
    "w_dict, w_list = result5.votingOverCA(ds_names, kernel_names)\n",
    "ut.testConfigurations(estimator, y_, y_test, w_list, ds_list, ds_test, kernel_names, Ptype='regression')"
   ]
  },
  {
   "cell_type": "code",
   "execution_count": null,
   "metadata": {},
   "outputs": [],
   "source": [
    "w_dict"
   ]
  },
  {
   "cell_type": "code",
   "execution_count": null,
   "metadata": {
    "scrolled": true
   },
   "outputs": [],
   "source": [
    "result5.performancesFeatures()"
   ]
  },
  {
   "cell_type": "markdown",
   "metadata": {},
   "source": [
    "## Origin Data  Centering and Normalization"
   ]
  },
  {
   "cell_type": "code",
   "execution_count": null,
   "metadata": {},
   "outputs": [],
   "source": [
    "sampler = ms.mySampler(n_splits=3, test_size=.25, Ptype=\"regression\", centering = True, normalizing = True)"
   ]
  },
  {
   "cell_type": "code",
   "execution_count": null,
   "metadata": {},
   "outputs": [],
   "source": [
    "result6 = sampler.sample(kernel_type, estimator, ds_list, y_, valid_fold = 3, verbose=True, exclusion_list = [[5,6,7,9,10,13,15,16,17,18,19], list(range(G.shape[1]-3)), []])"
   ]
  },
  {
   "cell_type": "code",
   "execution_count": null,
   "metadata": {},
   "outputs": [],
   "source": [
    "w_dict, w_list = result6.votingOverCA(ds_names, kernel_names)\n",
    "ut.testConfigurations(estimator, y_, y_test, w_list, ds_list, ds_test, kernel_names, Ptype='regression')"
   ]
  },
  {
   "cell_type": "code",
   "execution_count": null,
   "metadata": {},
   "outputs": [],
   "source": [
    "w_dict"
   ]
  },
  {
   "cell_type": "code",
   "execution_count": null,
   "metadata": {
    "scrolled": true
   },
   "outputs": [],
   "source": [
    "result6.performancesFeatures()"
   ]
  },
  {
   "cell_type": "markdown",
   "metadata": {},
   "source": [
    "## Normalization, Kernel Normalization"
   ]
  },
  {
   "cell_type": "code",
   "execution_count": null,
   "metadata": {},
   "outputs": [],
   "source": [
    "sampler = ms.mySampler(n_splits=3, test_size=.25, Ptype=\"regression\", normalizing = True, normalize_kernels = True)"
   ]
  },
  {
   "cell_type": "code",
   "execution_count": null,
   "metadata": {},
   "outputs": [],
   "source": [
    "result10 = sampler.sample(kernel_type, estimator, ds_list, y_, valid_fold = 3, verbose=True, exclusion_list = [[5,6,7,9,10,13,15,16,17,18,19], list(range(G.shape[1]-3)), []])"
   ]
  },
  {
   "cell_type": "code",
   "execution_count": null,
   "metadata": {},
   "outputs": [],
   "source": [
    "w_dict, w_list = result10.votingOverCA(ds_names, kernel_names)\n",
    "ut.testConfigurations(estimator, y_, y_test, w_list, ds_list, ds_test, kernel_names, Ptype='regression')"
   ]
  },
  {
   "cell_type": "code",
   "execution_count": null,
   "metadata": {},
   "outputs": [],
   "source": [
    "w_dict"
   ]
  },
  {
   "cell_type": "code",
   "execution_count": null,
   "metadata": {
    "scrolled": false
   },
   "outputs": [],
   "source": [
    "result10.performancesFeatures()"
   ]
  },
  {
   "cell_type": "markdown",
   "metadata": {},
   "source": [
    "## Centering, Kernel Normalization"
   ]
  },
  {
   "cell_type": "code",
   "execution_count": null,
   "metadata": {},
   "outputs": [],
   "source": [
    "sampler = ms.mySampler(n_splits=3, test_size=.25, Ptype=\"regression\", centering = True, normalize_kernels = True)"
   ]
  },
  {
   "cell_type": "code",
   "execution_count": null,
   "metadata": {
    "scrolled": true
   },
   "outputs": [],
   "source": [
    "result11 = sampler.sample(kernel_type, estimator, ds_list, y_, valid_fold = 3, verbose=True, exclusion_list = [[5,6,7,9,10,13,15,16,17,18,19], list(range(G.shape[1]-3)), []])"
   ]
  },
  {
   "cell_type": "code",
   "execution_count": null,
   "metadata": {},
   "outputs": [],
   "source": [
    "w_dict, w_list = result11.votingOverCA(ds_names, kernel_names)\n",
    "ut.testConfigurations(estimator, y_, y_test, w_list, ds_list, ds_test, kernel_names, Ptype='regression')"
   ]
  },
  {
   "cell_type": "code",
   "execution_count": null,
   "metadata": {},
   "outputs": [],
   "source": [
    "w_dict"
   ]
  },
  {
   "cell_type": "code",
   "execution_count": null,
   "metadata": {
    "scrolled": true
   },
   "outputs": [],
   "source": [
    "result11.performancesFeatures()"
   ]
  },
  {
   "cell_type": "markdown",
   "metadata": {},
   "source": [
    "## Centering, Normalization, Kernel Normalization"
   ]
  },
  {
   "cell_type": "code",
   "execution_count": null,
   "metadata": {},
   "outputs": [],
   "source": [
    "sampler = ms.mySampler(n_splits=3, test_size=.25, Ptype=\"regression\", centering = True, normalizing = True, normalize_kernels = True)"
   ]
  },
  {
   "cell_type": "code",
   "execution_count": null,
   "metadata": {},
   "outputs": [],
   "source": [
    "result7 = sampler.sample(kernel_type, estimator, ds_list, y_, valid_fold = 3, verbose=True, exclusion_list = [[5,6,7,9,10,13,15,16,17,18,19], list(range(G.shape[1]-3)), []])"
   ]
  },
  {
   "cell_type": "code",
   "execution_count": null,
   "metadata": {},
   "outputs": [],
   "source": [
    "w_dict, w_list = result7.votingOverCA(ds_names, kernel_names)\n",
    "ut.testConfigurations(estimator, y_, y_test, w_list, ds_list, ds_test, kernel_names, Ptype='regression')"
   ]
  },
  {
   "cell_type": "code",
   "execution_count": null,
   "metadata": {},
   "outputs": [],
   "source": [
    "w_dict"
   ]
  },
  {
   "cell_type": "code",
   "execution_count": null,
   "metadata": {
    "scrolled": true
   },
   "outputs": [],
   "source": [
    "result7.performancesFeatures()"
   ]
  },
  {
   "cell_type": "markdown",
   "metadata": {},
   "source": [
    "## L2 Penalty, Centering, K-Normalization"
   ]
  },
  {
   "cell_type": "code",
   "execution_count": 12,
   "metadata": {},
   "outputs": [],
   "source": [
    "sampler = ms.mySampler(n_splits=3, test_size=.25, Ptype=\"regression\", lamb = 0.5, centering = True, normalize_kernels = False)"
   ]
  },
  {
   "cell_type": "code",
   "execution_count": 13,
   "metadata": {
    "scrolled": true
   },
   "outputs": [
    {
     "name": "stdout",
     "output_type": "stream",
     "text": [
      "\n",
      "1 split out of 3 ...\n",
      "\tWorking on config 1 of 2: {'linear': [0.5], 'gaussian': [0.1, 0.5, 0.7]}\n",
      "Fold no. 1\n",
      "Fold no. 2\n",
      "Fold no. 3\n",
      "Validation complete, config selected:[[0.5, 0.1], [0.5, 0.5], [0.5, 0.1]]\n",
      "\tResult of 1:\n",
      "CA: 0.004060544812182261\n",
      "Average error: 0.5690943318836446\n",
      "Error variance: 4.674303182618229\n",
      "[linear:0.5, gaussian:0.1, ]\n",
      "[linear:0.5, gaussian:0.5, ]\n",
      "[linear:0.5, gaussian:0.1, ]\n",
      "\n",
      "eta vector: [ 1.62083034e-05 -5.25920177e-06 -4.73265845e-05  7.42071270e-05\n",
      "  5.55225495e-06 -3.26728200e-05]\n",
      "\n",
      "\n",
      "\tCompleted in 0.1 minutes\n",
      "\tWorking on config 2 of 2: {'linear': [0.2], 'gaussian': [0.7, 1]}\n",
      "Fold no. 1\n",
      "Fold no. 2\n",
      "Fold no. 3\n",
      "Validation complete, config selected:[[0.2, 0.7], [0.2, 0.7], [0.2, 1]]\n",
      "\tResult of 1:\n",
      "CA: 0.004060544812182261\n",
      "Average error: 0.5690943318836446\n",
      "Error variance: 4.674303182618229\n",
      "[linear:0.5, gaussian:0.1, ]\n",
      "[linear:0.5, gaussian:0.5, ]\n",
      "[linear:0.5, gaussian:0.1, ]\n",
      "\n",
      "eta vector: [ 1.62083034e-05 -5.25920177e-06 -4.73265845e-05  7.42071270e-05\n",
      "  5.55225495e-06 -3.26728200e-05]\n",
      "\n",
      "CA: 0.004062172686720977\n",
      "Average error: 0.3843053986284424\n",
      "Error variance: 4.1187799812180925\n",
      "[linear:0.2, gaussian:0.7, ]\n",
      "[linear:0.2, gaussian:0.7, ]\n",
      "[linear:0.2, gaussian:1, ]\n",
      "\n",
      "eta vector: [ 1.42703179e-05  2.58211031e-06 -2.55594471e-05  3.47833039e-05\n",
      " -5.12776068e-06  4.34933028e-06]\n",
      "\n",
      "\n",
      "\tCompleted in 0.15 minutes\n",
      "\n",
      "2 split out of 3 ...\n",
      "\tWorking on config 1 of 2: {'linear': [0.5], 'gaussian': [0.1, 0.5, 0.7]}\n",
      "Fold no. 1\n",
      "Fold no. 2\n",
      "Fold no. 3\n",
      "Validation complete, config selected:[[0.5, 0.1], [0.5, 0.5], [0.5, 0.1]]\n",
      "\tResult of 2:\n",
      "CA: 0.0035818618059043064\n",
      "Average error: 0.38203352146238406\n",
      "Error variance: 3.8844400082536623\n",
      "[linear:0.5, gaussian:0.1, ]\n",
      "[linear:0.5, gaussian:0.5, ]\n",
      "[linear:0.5, gaussian:0.1, ]\n",
      "\n",
      "eta vector: [ 1.00004270e-05  2.11438608e-05 -5.33207371e-05  8.42758291e-05\n",
      "  7.09326652e-06 -4.12654199e-05]\n",
      "\n",
      "\n",
      "\tCompleted in 0.11666666666666667 minutes\n",
      "\tWorking on config 2 of 2: {'linear': [0.2], 'gaussian': [0.7, 1]}\n",
      "Fold no. 1\n",
      "Fold no. 2\n",
      "Fold no. 3\n",
      "Validation complete, config selected:[[0.2, 0.7], [0.2, 0.7], [0.2, 0.7]]\n",
      "\tResult of 2:\n",
      "CA: 0.0035818618059043064\n",
      "Average error: 0.38203352146238406\n",
      "Error variance: 3.8844400082536623\n",
      "[linear:0.5, gaussian:0.1, ]\n",
      "[linear:0.5, gaussian:0.5, ]\n",
      "[linear:0.5, gaussian:0.1, ]\n",
      "\n",
      "eta vector: [ 1.00004270e-05  2.11438608e-05 -5.33207371e-05  8.42758291e-05\n",
      "  7.09326652e-06 -4.12654199e-05]\n",
      "\n",
      "CA: 0.003583960202388193\n",
      "Average error: 0.10917767664265984\n",
      "Error variance: 1.3923045179432616\n",
      "[linear:0.2, gaussian:0.7, ]\n",
      "[linear:0.2, gaussian:0.7, ]\n",
      "[linear:0.2, gaussian:0.7, ]\n",
      "\n",
      "eta vector: [ 1.21791456e-05  3.15514210e-06 -2.79880414e-05  3.90387832e-05\n",
      " -4.17736171e-06  4.27837264e-06]\n",
      "\n",
      "\n",
      "\tCompleted in 0.15 minutes\n",
      "\n",
      "3 split out of 3 ...\n",
      "\tWorking on config 1 of 2: {'linear': [0.5], 'gaussian': [0.1, 0.5, 0.7]}\n",
      "Fold no. 1\n",
      "Fold no. 2\n",
      "Fold no. 3\n",
      "Validation complete, config selected:[[0.5, 0.1], [0.5, 0.5], [0.5, 0.1]]\n",
      "\tResult of 3:\n",
      "CA: 0.00373973820387467\n",
      "Average error: 0.0761763653050174\n",
      "Error variance: 0.0001819174703279568\n",
      "[linear:0.5, gaussian:0.1, ]\n",
      "[linear:0.5, gaussian:0.5, ]\n",
      "[linear:0.5, gaussian:0.1, ]\n",
      "\n",
      "eta vector: [ 1.02247676e-05  2.30006104e-05 -6.67346029e-05  1.02747566e-04\n",
      "  4.58364464e-06 -2.85893356e-05]\n",
      "\n",
      "\n",
      "\tCompleted in 0.13333333333333333 minutes\n",
      "\tWorking on config 2 of 2: {'linear': [0.2], 'gaussian': [0.7, 1]}\n",
      "Fold no. 1\n",
      "Fold no. 2\n",
      "Fold no. 3\n",
      "Validation complete, config selected:[[0.2, 0.7], [0.2, 0.7], [0.2, 0.7]]\n",
      "\tResult of 3:\n",
      "CA: 0.00373973820387467\n",
      "Average error: 0.0761763653050174\n",
      "Error variance: 0.0001819174703279568\n",
      "[linear:0.5, gaussian:0.1, ]\n",
      "[linear:0.5, gaussian:0.5, ]\n",
      "[linear:0.5, gaussian:0.1, ]\n",
      "\n",
      "eta vector: [ 1.02247676e-05  2.30006104e-05 -6.67346029e-05  1.02747566e-04\n",
      "  4.58364464e-06 -2.85893356e-05]\n",
      "\n",
      "CA: 0.003740710013675451\n",
      "Average error: 0.07617636530501737\n",
      "Error variance: 0.00011077740929525887\n",
      "[linear:0.2, gaussian:0.7, ]\n",
      "[linear:0.2, gaussian:0.7, ]\n",
      "[linear:0.2, gaussian:0.7, ]\n",
      "\n",
      "eta vector: [ 1.31750486e-05  2.03223534e-06 -3.81021234e-05  5.03645984e-05\n",
      " -2.16330590e-06  1.74173511e-06]\n",
      "\n",
      "\n",
      "\tCompleted in 0.16666666666666666 minutes\n"
     ]
    }
   ],
   "source": [
    "result9 = sampler.sample(kernel_type, estimator, ds_list, y_, valid_fold = 3, verbose=True, exclusion_list = [[5,6,7,9,10,13,15,16,17,18,19], list(range(G.shape[1]-3)), []])"
   ]
  },
  {
   "cell_type": "code",
   "execution_count": 14,
   "metadata": {},
   "outputs": [
    {
     "ename": "KeyboardInterrupt",
     "evalue": "",
     "output_type": "error",
     "traceback": [
      "\u001b[1;31m---------------------------------------------------------------------------\u001b[0m",
      "\u001b[1;31mKeyboardInterrupt\u001b[0m                         Traceback (most recent call last)",
      "\u001b[1;32m<ipython-input-14-43ff20d05cbf>\u001b[0m in \u001b[0;36m<module>\u001b[1;34m()\u001b[0m\n\u001b[0;32m      1\u001b[0m \u001b[0mw_dict\u001b[0m\u001b[1;33m,\u001b[0m \u001b[0mw_list\u001b[0m \u001b[1;33m=\u001b[0m \u001b[0mresult9\u001b[0m\u001b[1;33m.\u001b[0m\u001b[0mvotingOverCA\u001b[0m\u001b[1;33m(\u001b[0m\u001b[0mds_names\u001b[0m\u001b[1;33m,\u001b[0m \u001b[0mkernel_names\u001b[0m\u001b[1;33m)\u001b[0m\u001b[1;33m\u001b[0m\u001b[0m\n\u001b[1;32m----> 2\u001b[1;33m \u001b[0mut\u001b[0m\u001b[1;33m.\u001b[0m\u001b[0mtestConfigurations\u001b[0m\u001b[1;33m(\u001b[0m\u001b[0mestimator\u001b[0m\u001b[1;33m,\u001b[0m \u001b[0my_\u001b[0m\u001b[1;33m,\u001b[0m \u001b[0my_test\u001b[0m\u001b[1;33m,\u001b[0m \u001b[0mw_list\u001b[0m\u001b[1;33m,\u001b[0m \u001b[0mds_list\u001b[0m\u001b[1;33m,\u001b[0m \u001b[0mds_test\u001b[0m\u001b[1;33m,\u001b[0m \u001b[0mkernel_names\u001b[0m\u001b[1;33m,\u001b[0m \u001b[0mPtype\u001b[0m\u001b[1;33m=\u001b[0m\u001b[1;34m'regression'\u001b[0m\u001b[1;33m)\u001b[0m\u001b[1;33m\u001b[0m\u001b[0m\n\u001b[0m",
      "\u001b[1;32m~\\Documents\\Università\\Anaconda\\BCB\\NewLabs\\Project\\Utils.py\u001b[0m in \u001b[0;36mtestConfigurations\u001b[1;34m(estimator, y_train, y_test, config_list, train_list, test_list, kernel_types, Ptype)\u001b[0m\n\u001b[0;32m    200\u001b[0m \u001b[1;33m\u001b[0m\u001b[0m\n\u001b[0;32m    201\u001b[0m         \u001b[1;31m# compute eta vector\u001b[0m\u001b[1;33m\u001b[0m\u001b[1;33m\u001b[0m\u001b[0m\n\u001b[1;32m--> 202\u001b[1;33m         \u001b[0meta\u001b[0m \u001b[1;33m=\u001b[0m \u001b[0mestimator\u001b[0m\u001b[1;33m.\u001b[0m\u001b[0mcomputeEta\u001b[0m\u001b[1;33m(\u001b[0m\u001b[0mkernelMatrix_list\u001b[0m\u001b[1;33m,\u001b[0m \u001b[0mIK_tr\u001b[0m\u001b[1;33m,\u001b[0m \u001b[0my\u001b[0m \u001b[1;33m=\u001b[0m \u001b[0my_train\u001b[0m\u001b[1;33m,\u001b[0m \u001b[0mverbose\u001b[0m \u001b[1;33m=\u001b[0m \u001b[1;32mTrue\u001b[0m\u001b[1;33m)\u001b[0m\u001b[1;33m\u001b[0m\u001b[0m\n\u001b[0m\u001b[0;32m    203\u001b[0m \u001b[1;33m\u001b[0m\u001b[0m\n\u001b[0;32m    204\u001b[0m         \u001b[1;31m# compute k_eta (approximation) for the validation set\u001b[0m\u001b[1;33m\u001b[0m\u001b[1;33m\u001b[0m\u001b[0m\n",
      "\u001b[1;32m~\\Documents\\Università\\Anaconda\\BCB\\NewLabs\\Project\\CortesAlignmentFile.py\u001b[0m in \u001b[0;36mcomputeEta\u001b[1;34m(K_list, IK, y, sparsity, lamb, maxIter, verbose)\u001b[0m\n\u001b[0;32m     55\u001b[0m     \u001b[1;32mdef\u001b[0m \u001b[0mcomputeEta\u001b[0m\u001b[1;33m(\u001b[0m\u001b[0mK_list\u001b[0m\u001b[1;33m,\u001b[0m \u001b[0mIK\u001b[0m\u001b[1;33m,\u001b[0m \u001b[0my\u001b[0m \u001b[1;33m=\u001b[0m \u001b[1;32mNone\u001b[0m\u001b[1;33m,\u001b[0m \u001b[0msparsity\u001b[0m \u001b[1;33m=\u001b[0m \u001b[1;36m0\u001b[0m\u001b[1;33m,\u001b[0m \u001b[0mlamb\u001b[0m \u001b[1;33m=\u001b[0m \u001b[1;36m0\u001b[0m\u001b[1;33m,\u001b[0m \u001b[0mmaxIter\u001b[0m \u001b[1;33m=\u001b[0m \u001b[1;36m0\u001b[0m\u001b[1;33m,\u001b[0m  \u001b[0mverbose\u001b[0m \u001b[1;33m=\u001b[0m \u001b[1;32mFalse\u001b[0m\u001b[1;33m)\u001b[0m\u001b[1;33m:\u001b[0m\u001b[1;33m\u001b[0m\u001b[0m\n\u001b[0;32m     56\u001b[0m \u001b[1;33m\u001b[0m\u001b[0m\n\u001b[1;32m---> 57\u001b[1;33m         \u001b[0mK_c_list\u001b[0m \u001b[1;33m=\u001b[0m \u001b[1;33m[\u001b[0m\u001b[0mcenteredKernelAlignment\u001b[0m\u001b[1;33m.\u001b[0m\u001b[0mcenteredKernel\u001b[0m\u001b[1;33m(\u001b[0m\u001b[0mK\u001b[0m\u001b[1;33m)\u001b[0m \u001b[1;32mfor\u001b[0m \u001b[0mK\u001b[0m \u001b[1;32min\u001b[0m \u001b[0mK_list\u001b[0m\u001b[1;33m]\u001b[0m\u001b[1;33m\u001b[0m\u001b[0m\n\u001b[0m\u001b[0;32m     58\u001b[0m         \u001b[0mM\u001b[0m \u001b[1;33m=\u001b[0m \u001b[0mcenteredKernelAlignment\u001b[0m\u001b[1;33m.\u001b[0m\u001b[0m_kernelSimilarityMatrix\u001b[0m\u001b[1;33m(\u001b[0m\u001b[0mK_c_list\u001b[0m\u001b[1;33m)\u001b[0m\u001b[1;33m\u001b[0m\u001b[0m\n\u001b[0;32m     59\u001b[0m         \u001b[0ma\u001b[0m \u001b[1;33m=\u001b[0m \u001b[0mcenteredKernelAlignment\u001b[0m\u001b[1;33m.\u001b[0m\u001b[0m_idealSimilarityVector\u001b[0m\u001b[1;33m(\u001b[0m\u001b[0mK_c_list\u001b[0m\u001b[1;33m,\u001b[0m \u001b[0mIK\u001b[0m\u001b[1;33m)\u001b[0m\u001b[1;33m\u001b[0m\u001b[0m\n",
      "\u001b[1;32m~\\Documents\\Università\\Anaconda\\BCB\\NewLabs\\Project\\CortesAlignmentFile.py\u001b[0m in \u001b[0;36m<listcomp>\u001b[1;34m(.0)\u001b[0m\n\u001b[0;32m     55\u001b[0m     \u001b[1;32mdef\u001b[0m \u001b[0mcomputeEta\u001b[0m\u001b[1;33m(\u001b[0m\u001b[0mK_list\u001b[0m\u001b[1;33m,\u001b[0m \u001b[0mIK\u001b[0m\u001b[1;33m,\u001b[0m \u001b[0my\u001b[0m \u001b[1;33m=\u001b[0m \u001b[1;32mNone\u001b[0m\u001b[1;33m,\u001b[0m \u001b[0msparsity\u001b[0m \u001b[1;33m=\u001b[0m \u001b[1;36m0\u001b[0m\u001b[1;33m,\u001b[0m \u001b[0mlamb\u001b[0m \u001b[1;33m=\u001b[0m \u001b[1;36m0\u001b[0m\u001b[1;33m,\u001b[0m \u001b[0mmaxIter\u001b[0m \u001b[1;33m=\u001b[0m \u001b[1;36m0\u001b[0m\u001b[1;33m,\u001b[0m  \u001b[0mverbose\u001b[0m \u001b[1;33m=\u001b[0m \u001b[1;32mFalse\u001b[0m\u001b[1;33m)\u001b[0m\u001b[1;33m:\u001b[0m\u001b[1;33m\u001b[0m\u001b[0m\n\u001b[0;32m     56\u001b[0m \u001b[1;33m\u001b[0m\u001b[0m\n\u001b[1;32m---> 57\u001b[1;33m         \u001b[0mK_c_list\u001b[0m \u001b[1;33m=\u001b[0m \u001b[1;33m[\u001b[0m\u001b[0mcenteredKernelAlignment\u001b[0m\u001b[1;33m.\u001b[0m\u001b[0mcenteredKernel\u001b[0m\u001b[1;33m(\u001b[0m\u001b[0mK\u001b[0m\u001b[1;33m)\u001b[0m \u001b[1;32mfor\u001b[0m \u001b[0mK\u001b[0m \u001b[1;32min\u001b[0m \u001b[0mK_list\u001b[0m\u001b[1;33m]\u001b[0m\u001b[1;33m\u001b[0m\u001b[0m\n\u001b[0m\u001b[0;32m     58\u001b[0m         \u001b[0mM\u001b[0m \u001b[1;33m=\u001b[0m \u001b[0mcenteredKernelAlignment\u001b[0m\u001b[1;33m.\u001b[0m\u001b[0m_kernelSimilarityMatrix\u001b[0m\u001b[1;33m(\u001b[0m\u001b[0mK_c_list\u001b[0m\u001b[1;33m)\u001b[0m\u001b[1;33m\u001b[0m\u001b[0m\n\u001b[0;32m     59\u001b[0m         \u001b[0ma\u001b[0m \u001b[1;33m=\u001b[0m \u001b[0mcenteredKernelAlignment\u001b[0m\u001b[1;33m.\u001b[0m\u001b[0m_idealSimilarityVector\u001b[0m\u001b[1;33m(\u001b[0m\u001b[0mK_c_list\u001b[0m\u001b[1;33m,\u001b[0m \u001b[0mIK\u001b[0m\u001b[1;33m)\u001b[0m\u001b[1;33m\u001b[0m\u001b[0m\n",
      "\u001b[1;32m~\\Documents\\Università\\Anaconda\\BCB\\NewLabs\\Project\\CortesAlignmentFile.py\u001b[0m in \u001b[0;36mcenteredKernel\u001b[1;34m(K)\u001b[0m\n\u001b[0;32m     14\u001b[0m         \u001b[0moneNs\u001b[0m \u001b[1;33m=\u001b[0m \u001b[0mnp\u001b[0m\u001b[1;33m.\u001b[0m\u001b[0mones\u001b[0m\u001b[1;33m(\u001b[0m\u001b[1;33m(\u001b[0m\u001b[0mNs\u001b[0m\u001b[1;33m)\u001b[0m\u001b[1;33m)\u001b[0m\u001b[1;33m.\u001b[0m\u001b[0mreshape\u001b[0m\u001b[1;33m(\u001b[0m\u001b[1;33m-\u001b[0m\u001b[1;36m1\u001b[0m\u001b[1;33m,\u001b[0m\u001b[1;36m1\u001b[0m\u001b[1;33m)\u001b[0m\u001b[1;33m\u001b[0m\u001b[0m\n\u001b[0;32m     15\u001b[0m         \u001b[0moneNt_mat\u001b[0m \u001b[1;33m=\u001b[0m \u001b[0mnp\u001b[0m\u001b[1;33m.\u001b[0m\u001b[0mouter\u001b[0m\u001b[1;33m(\u001b[0m\u001b[0moneNt\u001b[0m\u001b[1;33m,\u001b[0m \u001b[0moneNt\u001b[0m\u001b[1;33m)\u001b[0m\u001b[1;33m\u001b[0m\u001b[0m\n\u001b[1;32m---> 16\u001b[1;33m         \u001b[0moneNs_mat\u001b[0m \u001b[1;33m=\u001b[0m \u001b[0mnp\u001b[0m\u001b[1;33m.\u001b[0m\u001b[0mouter\u001b[0m\u001b[1;33m(\u001b[0m\u001b[0moneNs\u001b[0m\u001b[1;33m,\u001b[0m \u001b[0moneNs\u001b[0m\u001b[1;33m)\u001b[0m\u001b[1;33m\u001b[0m\u001b[0m\n\u001b[0m\u001b[0;32m     17\u001b[0m         \u001b[0mcomposite\u001b[0m \u001b[1;33m=\u001b[0m \u001b[0mnp\u001b[0m\u001b[1;33m.\u001b[0m\u001b[0mouter\u001b[0m\u001b[1;33m(\u001b[0m\u001b[0moneNt\u001b[0m\u001b[1;33m,\u001b[0m \u001b[0moneNs\u001b[0m\u001b[1;33m)\u001b[0m\u001b[1;33m\u001b[0m\u001b[0m\n\u001b[0;32m     18\u001b[0m \u001b[1;33m\u001b[0m\u001b[0m\n",
      "\u001b[1;32m~\\Anaconda3\\lib\\site-packages\\numpy\\core\\numeric.py\u001b[0m in \u001b[0;36mouter\u001b[1;34m(a, b, out)\u001b[0m\n\u001b[0;32m   1118\u001b[0m     \u001b[0ma\u001b[0m \u001b[1;33m=\u001b[0m \u001b[0masarray\u001b[0m\u001b[1;33m(\u001b[0m\u001b[0ma\u001b[0m\u001b[1;33m)\u001b[0m\u001b[1;33m\u001b[0m\u001b[0m\n\u001b[0;32m   1119\u001b[0m     \u001b[0mb\u001b[0m \u001b[1;33m=\u001b[0m \u001b[0masarray\u001b[0m\u001b[1;33m(\u001b[0m\u001b[0mb\u001b[0m\u001b[1;33m)\u001b[0m\u001b[1;33m\u001b[0m\u001b[0m\n\u001b[1;32m-> 1120\u001b[1;33m     \u001b[1;32mreturn\u001b[0m \u001b[0mmultiply\u001b[0m\u001b[1;33m(\u001b[0m\u001b[0ma\u001b[0m\u001b[1;33m.\u001b[0m\u001b[0mravel\u001b[0m\u001b[1;33m(\u001b[0m\u001b[1;33m)\u001b[0m\u001b[1;33m[\u001b[0m\u001b[1;33m:\u001b[0m\u001b[1;33m,\u001b[0m \u001b[0mnewaxis\u001b[0m\u001b[1;33m]\u001b[0m\u001b[1;33m,\u001b[0m \u001b[0mb\u001b[0m\u001b[1;33m.\u001b[0m\u001b[0mravel\u001b[0m\u001b[1;33m(\u001b[0m\u001b[1;33m)\u001b[0m\u001b[1;33m[\u001b[0m\u001b[0mnewaxis\u001b[0m\u001b[1;33m,\u001b[0m\u001b[1;33m:\u001b[0m\u001b[1;33m]\u001b[0m\u001b[1;33m,\u001b[0m \u001b[0mout\u001b[0m\u001b[1;33m)\u001b[0m\u001b[1;33m\u001b[0m\u001b[0m\n\u001b[0m\u001b[0;32m   1121\u001b[0m \u001b[1;33m\u001b[0m\u001b[0m\n\u001b[0;32m   1122\u001b[0m \u001b[1;33m\u001b[0m\u001b[0m\n",
      "\u001b[1;31mKeyboardInterrupt\u001b[0m: "
     ]
    }
   ],
   "source": [
    "w_dict, w_list = result9.votingOverCA(ds_names, kernel_names)\n",
    "ut.testConfigurations(estimator, y_, y_test, w_list, ds_list, ds_test, kernel_names, Ptype='regression')"
   ]
  },
  {
   "cell_type": "code",
   "execution_count": null,
   "metadata": {},
   "outputs": [],
   "source": [
    "w_dict"
   ]
  },
  {
   "cell_type": "code",
   "execution_count": null,
   "metadata": {
    "scrolled": true
   },
   "outputs": [],
   "source": [
    "result9.performancesFeatures()"
   ]
  },
  {
   "cell_type": "markdown",
   "metadata": {},
   "source": [
    "## Sparsity in eta, Centering, K-Normalization"
   ]
  },
  {
   "cell_type": "code",
   "execution_count": null,
   "metadata": {},
   "outputs": [],
   "source": [
    "y_class = outputs[\"cvd_fail\"].values\n",
    "meaningful_idxs = np.where(y_class==1)\n",
    "y = outputs[\"dement_time_age\"].values[meaningful_idxs]\n",
    "C = d_clinical.values[meaningful_idxs]\n",
    "G = d_genetic.values[meaningful_idxs]\n",
    "V = d_vampire.values[meaningful_idxs]"
   ]
  },
  {
   "cell_type": "code",
   "execution_count": null,
   "metadata": {},
   "outputs": [],
   "source": [
    "tr_idx, ts_idx = next(ShuffleSplit(n_splits=1, test_size=0.5).split(C, y))"
   ]
  },
  {
   "cell_type": "code",
   "execution_count": null,
   "metadata": {},
   "outputs": [],
   "source": [
    "y_ = y[tr_idx]\n",
    "y_test = y[ts_idx]\n",
    "C_ = C[tr_idx]\n",
    "C_test = C[ts_idx]\n",
    "G_ = G[tr_idx]\n",
    "G_test = G[ts_idx]\n",
    "V_ = V[tr_idx]\n",
    "V_test = V[ts_idx]"
   ]
  },
  {
   "cell_type": "code",
   "execution_count": null,
   "metadata": {},
   "outputs": [],
   "source": [
    "ds_list = [C_, G_, V_]\n",
    "ds_test = [C_test, G_test, V_test]\n",
    "ds_names = ['clinic', 'genetic', 'vampire']"
   ]
  },
  {
   "cell_type": "code",
   "execution_count": null,
   "metadata": {},
   "outputs": [],
   "source": [
    "sampler = ms.mySampler(n_splits=3, test_size=.25, Ptype=\"regression\", sparsity = 0.7, centering = True, normalize_kernels = True)"
   ]
  },
  {
   "cell_type": "code",
   "execution_count": null,
   "metadata": {
    "scrolled": true
   },
   "outputs": [],
   "source": [
    "result8 = sampler.sample(kernel_type, estimator, ds_list, y_, valid_fold = 3, verbose=True, exclusion_list = [[5,6,7,9,10,13,15,16,17,18,19], list(range(G.shape[1]-3)), []])"
   ]
  },
  {
   "cell_type": "code",
   "execution_count": null,
   "metadata": {},
   "outputs": [],
   "source": [
    "w_dict, w_list = result8.votingOverCA(ds_names, kernel_names)\n",
    "ut.testConfigurations(estimator, y_, y_test, w_list, ds_list, ds_test, kernel_names, Ptype='regression')"
   ]
  },
  {
   "cell_type": "code",
   "execution_count": null,
   "metadata": {},
   "outputs": [],
   "source": [
    "w_dict"
   ]
  },
  {
   "cell_type": "code",
   "execution_count": null,
   "metadata": {
    "scrolled": true
   },
   "outputs": [],
   "source": [
    "result8.performancesFeatures()"
   ]
  }
 ],
 "metadata": {
  "kernelspec": {
   "display_name": "Python 3",
   "language": "python",
   "name": "python3"
  },
  "language_info": {
   "codemirror_mode": {
    "name": "ipython",
    "version": 3
   },
   "file_extension": ".py",
   "mimetype": "text/x-python",
   "name": "python",
   "nbconvert_exporter": "python",
   "pygments_lexer": "ipython3",
   "version": "3.7.0"
  }
 },
 "nbformat": 4,
 "nbformat_minor": 2
}
