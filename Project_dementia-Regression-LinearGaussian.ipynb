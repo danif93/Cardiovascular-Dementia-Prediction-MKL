{
 "cells": [
  {
   "cell_type": "code",
   "execution_count": 1,
   "metadata": {},
   "outputs": [],
   "source": [
    "import pandas as pd\n",
    "import os\n",
    "import numpy as np\n",
    "\n",
    "import Utils as ut\n",
    "import CortesAlignmentFile as ca\n",
    "import mySampler as ms\n",
    " \n",
    "from sklearn.model_selection import train_test_split, ShuffleSplit"
   ]
  },
  {
   "cell_type": "code",
   "execution_count": 2,
   "metadata": {},
   "outputs": [],
   "source": [
    "d_clinical = pd.read_csv(os.path.join('data', 'dataset_clinical_cleaned.csv'))\n",
    "d_genetic = pd.read_csv(os.path.join('data', 'dataset_genetic_cleaned_noOHE.csv'))\n",
    "d_vampire = pd.read_csv(os.path.join('data', 'dataset_vampire_cleaned.csv'))\n",
    "outputs = pd.read_csv(os.path.join('data', 'outputs_cleaned.csv'))"
   ]
  },
  {
   "cell_type": "markdown",
   "metadata": {},
   "source": [
    "## Dementia"
   ]
  },
  {
   "cell_type": "code",
   "execution_count": 3,
   "metadata": {},
   "outputs": [],
   "source": [
    "y_class = outputs[\"cvd_fail\"].values\n",
    "meaningful_idxs = np.where(y_class==1)\n",
    "y = outputs[\"dement_time_age\"].values[meaningful_idxs]\n",
    "C = d_clinical.values[meaningful_idxs]\n",
    "G = d_genetic.values[meaningful_idxs]\n",
    "V = d_vampire.values[meaningful_idxs]"
   ]
  },
  {
   "cell_type": "code",
   "execution_count": 4,
   "metadata": {},
   "outputs": [],
   "source": [
    "# COMPUTATIONAL COMPLEXITY: Reduce #samples\n",
    "#tr_idx, ts_idx = next(StratifiedShuffleSplit(n_splits=1, test_size=0.75).split(C, y))\n",
    "C_, C_test, G_, G_test, V_, V_test, y_, y_test = train_test_split(C, G, V, y, test_size=0.25)"
   ]
  },
  {
   "cell_type": "code",
   "execution_count": 5,
   "metadata": {},
   "outputs": [],
   "source": [
    "ds_list = [C_, G_, V_]\n",
    "ds_test = [C_test, G_test, V_test]\n",
    "ds_names = ['clinic', 'genetic', 'vampire']"
   ]
  },
  {
   "cell_type": "markdown",
   "metadata": {},
   "source": [
    "## Kernel Configuration"
   ]
  },
  {
   "cell_type": "code",
   "execution_count": 6,
   "metadata": {},
   "outputs": [],
   "source": [
    "kernel_names = ['linear', 'gaussian']\n",
    "kernel_type = [{'linear':[0.5], 'gaussian':[0.1, 0.5, 0.7]},\n",
    "               {'linear':[0.2], 'gaussian':[0.7, 1]}]\n",
    "estimator = ca.centeredKernelAlignment"
   ]
  },
  {
   "cell_type": "markdown",
   "metadata": {},
   "source": [
    "## Basic approach"
   ]
  },
  {
   "cell_type": "code",
   "execution_count": 7,
   "metadata": {},
   "outputs": [],
   "source": [
    "sampler = ms.mySampler(n_splits=3, test_size=.25, Ptype=\"regression\")"
   ]
  },
  {
   "cell_type": "code",
   "execution_count": 8,
   "metadata": {
    "scrolled": true
   },
   "outputs": [
    {
     "name": "stdout",
     "output_type": "stream",
     "text": [
      "\n",
      "1 split out of 3 ...\n",
      "\tWorking on config 1 of 2: {'linear': [0.5], 'gaussian': [0.1, 0.5, 0.7]}\n",
      "Fold no. 1\n",
      "Fold no. 2\n",
      "Fold no. 3\n",
      "Validation complete, config selected:[[0.5, 0.1], [0.5, 0.7], [0.5, 0.7]]\n",
      "\tResult of 1:\n",
      "CA: 0.0029245529614775083\n",
      "Average error: 0.07632706320999941\n",
      "Error variance: 7.335527807167394e-05\n",
      "[linear:0.5, gaussian:0.1, ]\n",
      "[linear:0.5, gaussian:0.7, ]\n",
      "[linear:0.5, gaussian:0.7, ]\n",
      "\n",
      "eta vector: [ 1.33127168e-08  1.11617380e-11  1.29712873e-08  1.11608584e-11\n",
      " -6.88421888e-16  1.11608582e-11]\n",
      "\n",
      "\n",
      "\tCompleted in 0.16666666666666666 minutes\n",
      "\tWorking on config 2 of 2: {'linear': [0.2], 'gaussian': [0.7, 1]}\n",
      "Fold no. 1\n",
      "Fold no. 2\n",
      "Fold no. 3\n",
      "Validation complete, config selected:[[0.2, 1], [0.2, 0.7], [0.2, 0.7]]\n",
      "\tResult of 1:\n",
      "CA: 0.0029245529614775083\n",
      "Average error: 0.07632706320999941\n",
      "Error variance: 7.335527807167394e-05\n",
      "[linear:0.5, gaussian:0.1, ]\n",
      "[linear:0.5, gaussian:0.7, ]\n",
      "[linear:0.5, gaussian:0.7, ]\n",
      "\n",
      "eta vector: [ 1.33127168e-08  1.11617380e-11  1.29712873e-08  1.11608584e-11\n",
      " -6.88421888e-16  1.11608582e-11]\n",
      "\n",
      "CA: 0.002924552961063375\n",
      "Average error: 0.07632706320999942\n",
      "Error variance: 7.335527807440721e-05\n",
      "[linear:0.2, gaussian:1, ]\n",
      "[linear:0.2, gaussian:0.7, ]\n",
      "[linear:0.2, gaussian:0.7, ]\n",
      "\n",
      "eta vector: [ 1.33127168e-08  1.11608730e-11  1.29712862e-08  1.11608574e-11\n",
      " -6.88421883e-16  1.11608572e-11]\n",
      "\n",
      "\n",
      "\tCompleted in 0.23333333333333334 minutes\n",
      "\n",
      "2 split out of 3 ...\n",
      "\tWorking on config 1 of 2: {'linear': [0.5], 'gaussian': [0.1, 0.5, 0.7]}\n",
      "Fold no. 1\n",
      "Fold no. 2\n",
      "Fold no. 3\n",
      "Validation complete, config selected:[[0.5, 0.1], [0.5, 0.1], [0.5, 0.1]]\n",
      "\tResult of 2:\n",
      "CA: 0.0027316406644327476\n",
      "Average error: 0.07624575793661727\n",
      "Error variance: 8.401581699944038e-05\n",
      "[linear:0.5, gaussian:0.1, ]\n",
      "[linear:0.5, gaussian:0.1, ]\n",
      "[linear:0.5, gaussian:0.1, ]\n",
      "\n",
      "eta vector: [ 1.27779685e-08  1.32188711e-11  1.57654500e-08  1.36988584e-11\n",
      " -3.91473270e-16  1.32156358e-11]\n",
      "\n",
      "\n",
      "\tCompleted in 0.18333333333333332 minutes\n",
      "\tWorking on config 2 of 2: {'linear': [0.2], 'gaussian': [0.7, 1]}\n",
      "Fold no. 1\n",
      "Fold no. 2\n",
      "Fold no. 3\n",
      "Validation complete, config selected:[[0.2, 1], [0.2, 0.7], [0.2, 1]]\n",
      "\tResult of 2:\n",
      "CA: 0.0027316406644327476\n",
      "Average error: 0.07624575793661727\n",
      "Error variance: 8.401581699944038e-05\n",
      "[linear:0.5, gaussian:0.1, ]\n",
      "[linear:0.5, gaussian:0.1, ]\n",
      "[linear:0.5, gaussian:0.1, ]\n",
      "\n",
      "eta vector: [ 1.27779685e-08  1.32188711e-11  1.57654500e-08  1.36988584e-11\n",
      " -3.91473270e-16  1.32156358e-11]\n",
      "\n",
      "CA: 0.0027316406622640813\n",
      "Average error: 0.07624575793661727\n",
      "Error variance: 8.40158170088748e-05\n",
      "[linear:0.2, gaussian:1, ]\n",
      "[linear:0.2, gaussian:0.7, ]\n",
      "[linear:0.2, gaussian:1, ]\n",
      "\n",
      "eta vector: [ 1.27779685e-08  1.32157290e-11  1.57654463e-08  1.32157729e-11\n",
      " -3.91473234e-16  1.32157726e-11]\n",
      "\n",
      "\n",
      "\tCompleted in 0.23333333333333334 minutes\n",
      "\n",
      "3 split out of 3 ...\n",
      "\tWorking on config 1 of 2: {'linear': [0.5], 'gaussian': [0.1, 0.5, 0.7]}\n",
      "Fold no. 1\n",
      "Fold no. 2\n",
      "Fold no. 3\n",
      "Validation complete, config selected:[[0.5, 0.1], [0.5, 0.1], [0.5, 0.1]]\n",
      "\tResult of 3:\n",
      "CA: 0.002074284097736906\n",
      "Average error: 0.07607819158809684\n",
      "Error variance: 0.00010908550698688599\n",
      "[linear:0.5, gaussian:0.1, ]\n",
      "[linear:0.5, gaussian:0.1, ]\n",
      "[linear:0.5, gaussian:0.1, ]\n",
      "\n",
      "eta vector: [ 1.01161739e-08  9.13270883e-12  1.17095135e-08  9.37865505e-12\n",
      " -2.34781597e-16  9.13384210e-12]\n",
      "\n",
      "\n",
      "\tCompleted in 0.16666666666666666 minutes\n",
      "\tWorking on config 2 of 2: {'linear': [0.2], 'gaussian': [0.7, 1]}\n",
      "Fold no. 1\n",
      "Fold no. 2\n",
      "Fold no. 3\n",
      "Validation complete, config selected:[[0.2, 1], [0.2, 0.7], [0.2, 0.7]]\n",
      "\tResult of 3:\n",
      "CA: 0.002074284097736906\n",
      "Average error: 0.07607819158809684\n",
      "Error variance: 0.00010908550698688599\n",
      "[linear:0.5, gaussian:0.1, ]\n",
      "[linear:0.5, gaussian:0.1, ]\n",
      "[linear:0.5, gaussian:0.1, ]\n",
      "\n",
      "eta vector: [ 1.01161739e-08  9.13270883e-12  1.17095135e-08  9.37865505e-12\n",
      " -2.34781597e-16  9.13384210e-12]\n",
      "\n",
      "CA: 0.002074284096124393\n",
      "Average error: 0.07607819158809684\n",
      "Error variance: 0.0001090855069920386\n",
      "[linear:0.2, gaussian:1, ]\n",
      "[linear:0.2, gaussian:0.7, ]\n",
      "[linear:0.2, gaussian:0.7, ]\n",
      "\n",
      "eta vector: [ 1.01161739e-08  9.13386132e-12  1.17095108e-08  9.13384473e-12\n",
      " -2.34781575e-16  9.13384458e-12]\n",
      "\n",
      "\n",
      "\tCompleted in 0.21666666666666667 minutes\n"
     ]
    }
   ],
   "source": [
    "result1 = sampler.sample(kernel_type, estimator, ds_list, y_, valid_fold = 3, verbose=True)"
   ]
  },
  {
   "cell_type": "code",
   "execution_count": 9,
   "metadata": {},
   "outputs": [
    {
     "name": "stdout",
     "output_type": "stream",
     "text": [
      "Perfomances computed for dictionary settings 1:\n",
      "\tAverage error: 77.77034766814161\n",
      "\tError variance: 87.8952860091704\n",
      "\tPred: [ 2.87497868e-05  1.51674617e-05  2.76936983e-05 -7.88295398e-06\n",
      " -9.98191215e-06  2.46661137e-05 -1.69206536e-05  7.87506547e-07\n",
      "  2.15262153e-05  1.68265883e-05  6.94542713e-06  2.41868196e-05\n",
      "  7.04039890e-06 -2.94487439e-05 -1.11582292e-05  1.52255039e-05\n",
      " -1.27115230e-05 -2.74763013e-05  2.12415631e-05  1.70898013e-05\n",
      " -2.06638311e-05 -4.40891759e-06 -9.29982775e-06  3.86376673e-06\n",
      "  2.50136454e-05  6.21921360e-06  1.74016588e-05  5.39192775e-06\n",
      "  1.30824681e-05  1.42102791e-05 -2.88941088e-05 -7.08055032e-06\n",
      " -9.96424839e-06 -1.38944652e-05 -3.57519679e-06  3.89789185e-05\n",
      " -1.71589667e-06  1.43807284e-05  7.36075622e-06  1.75001019e-05\n",
      "  1.15140805e-05  3.57943603e-05  8.62188152e-06 -6.30657263e-06\n",
      "  5.59852291e-05 -1.53035222e-05 -3.08591196e-06 -7.97440490e-06\n",
      "  2.28591515e-05 -9.25792540e-06  7.81602050e-06 -5.72950439e-06\n",
      " -2.67420586e-05  9.30431824e-06  2.07873628e-05  2.50001380e-05\n",
      " -1.62220121e-05  9.12561630e-06 -1.87894578e-06  9.59075617e-06\n",
      "  3.92474179e-05  2.27932748e-05 -2.57603389e-06 -4.24696336e-06\n",
      "  1.38987399e-05  2.24995290e-05 -3.12125060e-05  3.39706818e-06\n",
      " -1.61050276e-05 -7.65318600e-06  1.05084910e-06  1.53903105e-05\n",
      "  6.41929655e-06  1.42899432e-05  5.70409550e-06 -4.68888290e-06\n",
      "  2.60731666e-05 -1.30307941e-05 -1.99688478e-05  1.58821776e-05\n",
      "  2.77736511e-05  1.87389469e-05  3.26979594e-06 -9.94753752e-06\n",
      " -2.84287350e-06 -1.16692280e-05 -3.00734032e-05  3.52737193e-05\n",
      "  6.58357337e-07  6.94150707e-06  5.19821810e-05  3.02825787e-07\n",
      " -2.11843901e-05  2.75348948e-05 -4.50652760e-07 -1.39612744e-05\n",
      "  3.53970182e-05 -2.35387074e-05  1.26219066e-05 -2.57093475e-05\n",
      "  1.63149938e-05  2.76590754e-05 -2.67913929e-05 -1.22495680e-05\n",
      "  7.83903877e-06 -4.05421291e-06  3.28493761e-05 -2.04390572e-06\n",
      "  2.95914737e-06  1.41578475e-06 -2.07099995e-05 -1.61774716e-05\n",
      "  3.99467787e-05 -3.42776629e-05 -1.03055401e-06  1.43470520e-05\n",
      " -2.30377932e-05 -1.41554693e-05 -4.09256684e-05  3.70528320e-05\n",
      " -6.46335515e-06  2.31427328e-05  1.44826049e-05  7.19513922e-06\n",
      "  1.42386629e-05  1.68274150e-05 -9.59465243e-06 -2.87427866e-06\n",
      "  1.58431218e-05 -9.52972794e-06 -1.42960818e-05 -1.73174913e-05\n",
      " -1.47791430e-06  2.69907280e-05  4.21283015e-06 -2.25313234e-06\n",
      "  1.90281443e-05 -1.73279715e-05 -1.66312059e-05 -1.63703544e-05\n",
      "  1.78201818e-05 -1.22105069e-05 -2.16111715e-06 -2.82968269e-05\n",
      "  1.37445214e-05 -3.92008822e-05 -1.68768789e-05  2.55437595e-05\n",
      "  8.63033870e-06  1.76910624e-05 -3.35109536e-06  5.98559965e-06\n",
      " -5.74737933e-06 -2.72197668e-05 -1.73655676e-05  1.94142629e-05\n",
      " -3.38807558e-05  1.84599206e-05 -1.31246334e-05  3.76210816e-07\n",
      "  1.75334575e-05 -1.63509998e-05  4.48820719e-05 -1.86601946e-05\n",
      "  1.99477336e-05 -1.09323814e-06 -1.75823311e-05 -2.47615246e-05\n",
      " -1.19944490e-05 -1.82157115e-05 -2.11267511e-05 -2.82644825e-05\n",
      " -1.95337069e-06 -2.78102811e-06 -1.18968702e-05  2.00432206e-05\n",
      " -1.52751698e-05 -2.21090636e-05  5.20237729e-05 -2.19629411e-05\n",
      " -3.94229650e-06 -2.77733577e-06  5.66249625e-06  2.86324132e-05\n",
      " -1.00285741e-05 -3.42494612e-09 -4.03859149e-07 -1.01620206e-05\n",
      " -1.54131695e-05 -4.03201110e-05 -8.25284094e-06 -9.91033938e-06\n",
      "  1.61563177e-05 -4.82571442e-06 -8.14887304e-06  7.11909822e-07\n",
      " -8.87983839e-06 -2.00510373e-05 -1.83422630e-05 -6.24222326e-06\n",
      " -2.86132595e-05 -5.98303138e-06 -1.09044907e-05 -8.31143409e-06\n",
      "  9.57561824e-06  5.50193798e-07 -1.97405840e-05 -2.11582346e-05\n",
      "  6.50064370e-06 -2.18692284e-05 -1.21435173e-05  2.73466971e-06\n",
      " -1.20150584e-05  1.26254294e-05  5.65890338e-06  4.94493619e-06\n",
      " -2.53155521e-05 -1.89747020e-05 -6.47768548e-06 -2.32858469e-05\n",
      " -9.26437679e-06  1.39704393e-05  4.64463192e-06 -3.40537927e-05\n",
      "  6.71758072e-06 -2.23117023e-05]\n",
      "\tPred_multiplied: [ 5.88649841e-02  3.10552700e-02  5.67026506e-02 -1.61402923e-02\n",
      " -2.04378942e-02  5.05036926e-02 -3.46449180e-02  1.61241406e-03\n",
      "  4.40747728e-02  3.44523201e-02  1.42207127e-02  4.95223413e-02\n",
      "  1.44151667e-02 -6.02960939e-02 -2.28463951e-02  3.11741110e-02\n",
      " -2.60267531e-02 -5.62575317e-02  4.34919496e-02  3.49912467e-02\n",
      " -4.23090474e-02 -9.02722743e-03 -1.90413312e-02  7.91103492e-03\n",
      "  5.12152613e-02  1.27337956e-02  3.56297728e-02  1.10399338e-02\n",
      "  2.67862604e-02  2.90954454e-02 -5.91604824e-02 -1.44973765e-02\n",
      " -2.04017278e-02 -2.84488188e-02 -7.32019002e-03  7.98090587e-02\n",
      " -3.51328623e-03  2.94444391e-02  1.50710961e-02  3.58313342e-02\n",
      "  2.35749981e-02  7.32886984e-02  1.76532411e-02 -1.29126626e-02\n",
      "  1.14629359e-01 -3.13338530e-02 -6.31838281e-03 -1.63275374e-02\n",
      "  4.68039503e-02 -1.89555365e-02  1.60032464e-02 -1.17311195e-02\n",
      " -5.47541749e-02  1.90505255e-02  4.25619776e-02  5.11876048e-02\n",
      " -3.32144545e-02  1.86846345e-02 -3.84712813e-03  1.96370051e-02\n",
      "  8.03588093e-02  4.66690682e-02 -5.27441109e-03 -8.69562731e-03\n",
      "  2.84575712e-02  4.60676258e-02 -6.39073842e-02  6.95547296e-03\n",
      " -3.29749295e-02 -1.56698440e-02  2.15160606e-03  3.15115513e-02\n",
      "  1.31434641e-02  2.92585572e-02  1.16790950e-02 -9.60045443e-03\n",
      "  5.33846233e-02 -2.66804584e-02 -4.08860740e-02  3.25186458e-02\n",
      "  5.68663532e-02  3.83678606e-02  6.69488396e-03 -2.03675124e-02\n",
      " -5.82076329e-03 -2.38926615e-02 -6.15750793e-02  7.22226896e-02\n",
      "  1.34798197e-03  1.42126864e-02  1.06433146e-01  6.20033647e-04\n",
      " -4.33748882e-02  5.63775014e-02 -9.22708325e-04 -2.85856101e-02\n",
      "  7.24751432e-02 -4.81953362e-02  2.58432641e-02 -5.26397064e-02\n",
      "  3.34048339e-02  5.66317603e-02 -5.48551866e-02 -2.50809034e-02\n",
      "  1.60503762e-02 -8.30097213e-03  6.72588641e-02 -4.18488244e-03\n",
      "  6.05883322e-03  2.89880921e-03 -4.24035768e-02 -3.31232582e-02\n",
      "  8.17907455e-02 -7.01832713e-02 -2.11005201e-03  2.93754871e-02\n",
      " -4.71697178e-02 -2.89832228e-02 -8.37950153e-02  7.58654102e-02\n",
      " -1.32336737e-02  4.73845809e-02  2.96530307e-02  1.47319964e-02\n",
      "  2.91535612e-02  3.44540127e-02 -1.96449827e-02 -5.88506514e-03\n",
      "  3.24386793e-02 -1.95120502e-02 -2.92711259e-02 -3.54574405e-02\n",
      " -3.02601903e-03  5.52633237e-02  8.62573980e-03 -4.61327245e-03\n",
      "  3.89599902e-02 -3.54788985e-02 -3.40522758e-02 -3.35181843e-02\n",
      "  3.64866957e-02 -2.50009262e-02 -4.42487201e-03 -5.79375520e-02\n",
      "  2.81418100e-02 -8.02635278e-02 -3.45552897e-02  5.23006660e-02\n",
      "  1.76705572e-02  3.62223246e-02 -6.86134393e-03  1.22554728e-02\n",
      " -1.17677183e-02 -5.57322791e-02 -3.55558764e-02  3.97505653e-02\n",
      " -6.93706067e-02  3.77965562e-02 -2.68725936e-02  7.70288972e-04\n",
      "  3.58996296e-02 -3.34785560e-02  9.18957233e-02 -3.82066158e-02\n",
      "  4.08428428e-02 -2.23839732e-03 -3.59996980e-02 -5.06990456e-02\n",
      " -2.45585492e-02 -3.72965399e-02 -4.32568729e-02 -5.78713270e-02\n",
      " -3.99951260e-03 -5.69413529e-03 -2.43587572e-02  4.10383518e-02\n",
      " -3.12758016e-02 -4.52681507e-02  1.06518305e-01 -4.49689659e-02\n",
      " -8.07182407e-03 -5.68657526e-03  1.15939208e-02  5.86246626e-02\n",
      " -2.05334343e-02 -7.01255284e-06 -8.26898737e-04 -2.08066650e-02\n",
      " -3.15583551e-02 -8.25551408e-02 -1.68976332e-02 -2.02913495e-02\n",
      "  3.30799458e-02 -9.88061598e-03 -1.66847597e-02  1.45763030e-03\n",
      " -1.81814060e-02 -4.10543564e-02 -3.75556531e-02 -1.27809078e-02\n",
      " -5.85854454e-02 -1.22502142e-02 -2.23268672e-02 -1.70176022e-02\n",
      "  1.96060103e-02  1.12651789e-03 -4.04187055e-02 -4.33213349e-02\n",
      "  1.33100218e-02 -4.47770898e-02 -2.48637655e-02  5.59921680e-03\n",
      " -2.46007467e-02  2.58504770e-02  1.15865645e-02  1.01247217e-02\n",
      " -5.18334131e-02 -3.88505675e-02 -1.32630150e-02 -4.76776060e-02\n",
      " -1.89687456e-02  2.86043752e-02  9.50985086e-03 -6.97248986e-02\n",
      "  1.37541988e-02 -4.56830519e-02]\n",
      "Perfomances computed for dictionary settings 2:\n",
      "\tAverage error: 84.07454997996729\n",
      "\tError variance: 1050.8928494306538\n",
      "\tPred: [-0.01553954 -0.01151814 -0.01355993  0.01734877 -0.00032517 -0.02004475\n",
      " -0.00538601  0.00600898 -0.01315693 -0.01497892 -0.0131166   0.0454782\n",
      " -0.0008925  -0.01158124 -0.00669643  0.0061983  -0.00238479  0.03943306\n",
      " -0.0180398  -0.03705968 -0.0162441  -0.01887505  0.01961069 -0.01144758\n",
      " -0.02157194  0.00928466 -0.01784417 -0.02042562  0.00250904 -0.00129338\n",
      "  0.00299376  0.00406148 -0.00876343  0.04933062 -0.00102576 -0.0264216\n",
      " -0.00979364 -0.00767193 -0.03435191  0.04559273  0.00491695 -0.01372604\n",
      " -0.00915367 -0.02109162 -0.02524724 -0.01122897 -0.00201841 -0.00361257\n",
      "  0.00763551 -0.01208741 -0.00496984 -0.01650261 -0.00481799 -0.01138871\n",
      " -0.00981689 -0.0308374   0.00765046 -0.00991595 -0.01161563  0.00679604\n",
      " -0.02441353  0.10751549 -0.00481722  0.04216798  0.00766112 -0.01611185\n",
      " -0.00338559 -0.01463147  0.00048063 -0.00022963 -0.0106538  -0.01077501\n",
      " -0.01409463 -0.01566239  0.04564051 -0.01720517 -0.01906929 -0.01612163\n",
      " -0.00634731 -0.03391244  0.00499831 -0.01046738 -0.00302216 -0.00684377\n",
      "  0.00742738  0.0265515   0.01483313 -0.01735859 -0.01175025 -0.01052115\n",
      " -0.01239165 -0.01405291  0.08553842 -0.00221635  0.00919387 -0.00936424\n",
      " -0.01322264  0.01286754  0.01157771  0.02898062 -0.00320808 -0.01386728\n",
      " -0.01294099 -0.01119398 -0.01089763 -0.01125104 -0.0171058  -0.00578629\n",
      " -0.01936219 -0.01769162 -0.00622603 -0.00356178 -0.01447856  0.02245934\n",
      " -0.00963741  0.01730044  0.01383982  0.02887649  0.0107621  -0.0098166\n",
      " -0.01399116  0.04755483  0.0036113  -0.01556796 -0.01361292 -0.01910812\n",
      " -0.01182255 -0.01877733 -0.01766305 -0.00483937 -0.01255366 -0.00234482\n",
      " -0.01125776 -0.02072687 -0.00258113 -0.01209788  0.00119397 -0.00643875\n",
      "  0.00941017  0.01299619 -0.01326479  0.02683292 -0.00714635 -0.01241479\n",
      " -0.03787869  0.00214504  0.06946897  0.03970159 -0.0153902   0.04997881\n",
      "  0.0037518  -0.01021025  0.01470692  0.00668142  0.00058515 -0.00825803\n",
      " -0.00118539  0.04717727 -0.01273748 -0.01541765  0.06316456  0.00953589\n",
      "  0.00430818 -0.00875066 -0.01274925  0.06792357 -0.01715877  0.00896588\n",
      "  0.03675956 -0.00902639  0.00115932  0.00871405 -0.0127763  -0.01590551\n",
      " -0.00513741  0.00077419  0.00452529  0.02574453 -0.01140412  0.04619789\n",
      " -0.00370393 -0.00392987  0.00522834 -0.01610769  0.03020494  0.00466572\n",
      "  0.04959154  0.01405361  0.00403428  0.03253934 -0.01617982 -0.02155277\n",
      " -0.01771256  0.04470488  0.00138367 -0.009948   -0.00600446 -0.00669641\n",
      "  0.02708099  0.0027787   0.01324184 -0.00707939 -0.00975263 -0.01435159\n",
      " -0.01022328 -0.02519107  0.00388543 -0.0135622  -0.01902353 -0.00318521\n",
      "  0.00691629 -0.0108465   0.01342149  0.00723968  0.03360754 -0.00705713\n",
      " -0.00755252  0.06551584  0.00176733 -0.00878317  0.00817765 -0.01384848\n",
      " -0.0189377  -0.01332454  0.00838356 -0.00705493]\n",
      "\tPred_multiplied: [-31.8170988  -23.58330348 -27.76385512  35.52148939  -0.66578157\n",
      " -41.04147454 -11.02782348  12.3033377  -26.9387245  -30.66924209\n",
      " -26.85615107  93.11629118  -1.82738253 -23.71250875 -13.71090027\n",
      "  12.69096823  -4.88284593  80.73890421 -36.93635483 -75.87943808\n",
      " -33.25968218 -38.64652882  40.15275803 -23.43883938 -44.16838596\n",
      "  19.01028293 -36.53580821 -41.82131051   5.13723605  -2.64818008\n",
      "   6.12971193   8.31585312 -17.94306522 101.00408614  -2.10023824\n",
      " -54.09803774 -20.05240856 -15.70822925 -70.33530101  93.35079763\n",
      "  10.06742032 -28.10397135 -18.74208446 -43.18495117 -51.69353863\n",
      " -22.99124422  -4.13267152  -7.39670978  15.63364281 -24.74889013\n",
      " -10.17571537 -33.78897958  -9.86479337 -23.31829678 -20.10001248\n",
      " -63.13936752  15.66425779 -20.30283378 -23.7829108   13.91483823\n",
      " -49.98652586 220.1371922   -9.86322261  86.33864586  15.68607874\n",
      " -32.98890354  -6.93197822 -29.95783085   0.98408281  -0.47017415\n",
      " -21.81357068 -22.06175131 -28.85866375 -32.06863515  93.44861418\n",
      " -35.2274574  -39.04422936 -33.00892335 -12.99606906 -69.4354843\n",
      "  10.23401399 -21.43187936  -6.18784616 -14.01256912  15.20751596\n",
      "  54.36399876  30.37073789 -35.54158721 -24.05855174 -21.54198332\n",
      " -25.37181401 -28.77324074 175.13930889  -4.53796443  18.8243735\n",
      " -19.17320632 -27.07325284  26.34620101  23.70527922  59.33761419\n",
      "  -6.5685281  -28.39315171 -26.4965864  -22.91960131 -22.31281211\n",
      " -23.03642173 -35.02400262 -11.84738985 -39.64394501 -36.22347569\n",
      " -12.74776004  -7.29271223 -29.64474507  45.98532932 -19.73252273\n",
      "  35.42251783  28.33693204  59.12441703  22.03531626 -20.09942812\n",
      " -28.64680982  97.36818415   7.39411472 -31.87529078 -27.87235597\n",
      " -39.12373867 -24.20658768 -38.44645025 -36.16496896  -9.90857243\n",
      " -25.70352721  -4.80099505 -23.05018357 -42.43811779  -5.28484811\n",
      " -24.77031967   2.44465493 -13.18330327  19.26726484  26.60960266\n",
      " -27.15956152  54.94021939 -14.63210996 -25.4191998  -77.55634582\n",
      "   4.39196222 142.23721917  81.28871545 -31.5113211  102.33126714\n",
      "   7.68179276 -20.90541158  30.11230524  13.68016096   1.19810049\n",
      " -16.90825687  -2.42708075  96.59511691 -26.07989366 -31.5675334\n",
      " 129.3289877   19.52467173   8.82097717 -17.91691637 -26.10400706\n",
      " 139.0730305  -35.13245232  18.35758424  75.26493709 -18.48146275\n",
      "   2.3736929   17.84195674 -26.15937944 -32.56641748 -10.51880935\n",
      "   1.58514273   9.26550679  52.71174144 -23.34985137  94.58984166\n",
      "  -7.58377429  -8.04639028  10.7049812  -32.98037124  61.84439892\n",
      "   9.55303295 101.53832183  28.77467256   8.26016691  66.62406003\n",
      " -33.12806514 -44.12914642 -36.26633943  91.5329276    2.83304615\n",
      " -20.36846497 -12.29408003 -13.71084413  55.44813984   5.68936238\n",
      "  27.11257437 -14.49499177 -19.96843396 -29.38476969 -20.93209463\n",
      " -51.57853084   7.95539879 -27.76851386 -38.95054898  -6.52169844\n",
      "  14.16104605 -22.20813742  27.48040576  14.82318639  68.81119178\n",
      " -14.44943299 -15.46373966 134.14321348   3.6185975  -17.98348005\n",
      "  16.74368794 -28.35467331 -38.77481138 -27.28189502  17.16528369\n",
      " -14.44491675]\n"
     ]
    }
   ],
   "source": [
    "w_dict, w_list = result1.votingOverCA(ds_names, kernel_names)\n",
    "ut.testConfigurations(estimator, y_, y_test, w_list, ds_list, ds_test, kernel_names, Ptype='regression')"
   ]
  },
  {
   "cell_type": "code",
   "execution_count": 10,
   "metadata": {},
   "outputs": [
    {
     "data": {
      "text/plain": [
       "[{'clinic': {'gaussian': 0.1, 'linear': 0.5},\n",
       "  'genetic': {'gaussian': 0.1, 'linear': 0.5},\n",
       "  'vampire': {'gaussian': 0.1, 'linear': 0.5}},\n",
       " {'clinic': {'gaussian': 1, 'linear': 0.2},\n",
       "  'genetic': {'gaussian': 0.7, 'linear': 0.2},\n",
       "  'vampire': {'gaussian': 0.7, 'linear': 0.2}}]"
      ]
     },
     "execution_count": 10,
     "metadata": {},
     "output_type": "execute_result"
    }
   ],
   "source": [
    "w_dict"
   ]
  },
  {
   "cell_type": "code",
   "execution_count": 11,
   "metadata": {},
   "outputs": [
    {
     "name": "stdout",
     "output_type": "stream",
     "text": [
      "statistics of configuration 1\n",
      "{'config': {'linear': [[0.5, 0.5, 0.5], [0.5, 0.5, 0.5], [0.5, 0.5, 0.5]], 'gaussian': [[0.1, 0.7, 0.7], [0.1, 0.1, 0.1], [0.1, 0.1, 0.1]]}, 'CA': (0.0025768259078823874, 1.3247666119732952e-07), 'meanErr': (0.0762170042449045, 1.0736234758292169e-08), 'varErr': (8.881886735266678e-05, 2.243095227367233e-10), 'eta': (array([ 1.20689531e-08,  1.11711060e-11,  1.34820836e-08,  1.14127906e-11,\n",
      "       -4.38225585e-16,  1.11701120e-11]), array([1.95433257e-18, 2.78283083e-24, 2.87222659e-18, 3.14242780e-24,\n",
      "       3.53911416e-32, 2.77688281e-24]))}\n",
      "statistics of configuration 2\n",
      "{'config': {'linear': [[0.2, 0.2, 0.2], [0.2, 0.2, 0.2], [0.2, 0.2, 0.2]], 'gaussian': [[1, 0.7, 0.7], [1, 0.7, 1], [1, 0.7, 0.7]]}, 'CA': (0.0025768259064839496, 1.3247666141773496e-07), 'meanErr': (0.0762170042449045, 1.0736234758293188e-08), 'varErr': (8.881886735844021e-05, 2.2430952274795392e-10), 'eta': (array([ 1.20689531e-08,  1.11701544e-11,  1.34820811e-08,  1.11701583e-11,\n",
      "       -4.38225564e-16,  1.11701581e-11]), array([1.95433256e-18, 2.77698362e-24, 2.87222454e-18, 2.77706613e-24,\n",
      "       3.53911449e-32, 2.77706600e-24]))}\n"
     ]
    }
   ],
   "source": [
    "result1.performancesFeatures()"
   ]
  },
  {
   "cell_type": "markdown",
   "metadata": {},
   "source": [
    "## Kernel normalization"
   ]
  },
  {
   "cell_type": "code",
   "execution_count": null,
   "metadata": {},
   "outputs": [],
   "source": [
    "sampler = ms.mySampler(n_splits=3, test_size=.25, Ptype=\"regression\", normalize_kernels = True)"
   ]
  },
  {
   "cell_type": "code",
   "execution_count": null,
   "metadata": {
    "scrolled": true
   },
   "outputs": [],
   "source": [
    "result3 = sampler.sample(kernel_type, estimator, ds_list, y_, valid_fold = 3, verbose=True)"
   ]
  },
  {
   "cell_type": "code",
   "execution_count": null,
   "metadata": {},
   "outputs": [],
   "source": [
    "w_dict, w_list = result3.votingOverCA(ds_names, kernel_names)\n",
    "ut.testConfigurations(estimator, y_, y_test, w_list, ds_list, ds_test, kernel_names, Ptype='regression')"
   ]
  },
  {
   "cell_type": "code",
   "execution_count": null,
   "metadata": {},
   "outputs": [],
   "source": [
    "w_dict"
   ]
  },
  {
   "cell_type": "code",
   "execution_count": null,
   "metadata": {},
   "outputs": [],
   "source": [
    "result3.performancesFeatures()"
   ]
  },
  {
   "cell_type": "markdown",
   "metadata": {},
   "source": [
    "## Normalized data"
   ]
  },
  {
   "cell_type": "code",
   "execution_count": null,
   "metadata": {},
   "outputs": [],
   "source": [
    "sampler = ms.mySampler(n_splits=3, test_size=.25, Ptype=\"regression\", normalizing = True)"
   ]
  },
  {
   "cell_type": "code",
   "execution_count": null,
   "metadata": {
    "scrolled": true
   },
   "outputs": [],
   "source": [
    "result4 = sampler.sample(kernel_type, estimator, ds_list, y_, valid_fold = 3, verbose=True, exclusion_list = [[0, 3, 8, 13, 14], list(range(G.shape[1]-3)), []])"
   ]
  },
  {
   "cell_type": "code",
   "execution_count": null,
   "metadata": {},
   "outputs": [],
   "source": [
    "w_dict, w_list = result4.votingOverCA(ds_names, kernel_names)\n",
    "ut.testConfigurations(estimator, y_, y_test, w_list, ds_list, ds_test, kernel_names, Ptype='regression')"
   ]
  },
  {
   "cell_type": "code",
   "execution_count": null,
   "metadata": {},
   "outputs": [],
   "source": [
    "w_dict"
   ]
  },
  {
   "cell_type": "code",
   "execution_count": null,
   "metadata": {},
   "outputs": [],
   "source": [
    "result4.performancesFeatures()"
   ]
  },
  {
   "cell_type": "markdown",
   "metadata": {},
   "source": [
    "## Origin Data Centering"
   ]
  },
  {
   "cell_type": "code",
   "execution_count": null,
   "metadata": {},
   "outputs": [],
   "source": [
    "sampler = ms.mySampler(n_splits=3, test_size=.25, Ptype=\"regression\", centering = True)"
   ]
  },
  {
   "cell_type": "code",
   "execution_count": null,
   "metadata": {
    "scrolled": true
   },
   "outputs": [],
   "source": [
    "result5 = sampler.sample(kernel_type, estimator, ds_list, y_, valid_fold = 3, verbose=True, exclusion_list = [[5,6,7,9,10,13,15,16,17,18,19], list(range(G.shape[1]-3)), []])"
   ]
  },
  {
   "cell_type": "code",
   "execution_count": null,
   "metadata": {},
   "outputs": [],
   "source": [
    "w_dict, w_list = result5.votingOverCA(ds_names, kernel_names)\n",
    "ut.testConfigurations(estimator, y_, y_test, w_list, ds_list, ds_test, kernel_names, Ptype='regression')"
   ]
  },
  {
   "cell_type": "code",
   "execution_count": null,
   "metadata": {},
   "outputs": [],
   "source": [
    "w_dict"
   ]
  },
  {
   "cell_type": "code",
   "execution_count": null,
   "metadata": {
    "scrolled": true
   },
   "outputs": [],
   "source": [
    "result5.performancesFeatures()"
   ]
  },
  {
   "cell_type": "markdown",
   "metadata": {},
   "source": [
    "## Origin Data  Centering and Normalization"
   ]
  },
  {
   "cell_type": "code",
   "execution_count": null,
   "metadata": {},
   "outputs": [],
   "source": [
    "sampler = ms.mySampler(n_splits=3, test_size=.25, Ptype=\"regression\", centering = True, normalizing = True)"
   ]
  },
  {
   "cell_type": "code",
   "execution_count": null,
   "metadata": {},
   "outputs": [],
   "source": [
    "result6 = sampler.sample(kernel_type, estimator, ds_list, y_, valid_fold = 3, verbose=True, exclusion_list = [[5,6,7,9,10,13,15,16,17,18,19], list(range(G.shape[1]-3)), []])"
   ]
  },
  {
   "cell_type": "code",
   "execution_count": null,
   "metadata": {},
   "outputs": [],
   "source": [
    "w_dict, w_list = result6.votingOverCA(ds_names, kernel_names)\n",
    "ut.testConfigurations(estimator, y_, y_test, w_list, ds_list, ds_test, kernel_names, Ptype='regression')"
   ]
  },
  {
   "cell_type": "code",
   "execution_count": null,
   "metadata": {},
   "outputs": [],
   "source": [
    "w_dict"
   ]
  },
  {
   "cell_type": "code",
   "execution_count": null,
   "metadata": {
    "scrolled": true
   },
   "outputs": [],
   "source": [
    "result6.performancesFeatures()"
   ]
  },
  {
   "cell_type": "markdown",
   "metadata": {},
   "source": [
    "## Normalization, Kernel Normalization"
   ]
  },
  {
   "cell_type": "code",
   "execution_count": null,
   "metadata": {},
   "outputs": [],
   "source": [
    "sampler = ms.mySampler(n_splits=3, test_size=.25, Ptype=\"regression\", normalizing = True, normalize_kernels = True)"
   ]
  },
  {
   "cell_type": "code",
   "execution_count": null,
   "metadata": {},
   "outputs": [],
   "source": [
    "result10 = sampler.sample(kernel_type, estimator, ds_list, y_, valid_fold = 3, verbose=True, exclusion_list = [[5,6,7,9,10,13,15,16,17,18,19], list(range(G.shape[1]-3)), []])"
   ]
  },
  {
   "cell_type": "code",
   "execution_count": null,
   "metadata": {},
   "outputs": [],
   "source": [
    "w_dict, w_list = result10.votingOverCA(ds_names, kernel_names)\n",
    "ut.testConfigurations(estimator, y_, y_test, w_list, ds_list, ds_test, kernel_names, Ptype='regression')"
   ]
  },
  {
   "cell_type": "code",
   "execution_count": null,
   "metadata": {},
   "outputs": [],
   "source": [
    "w_dict"
   ]
  },
  {
   "cell_type": "code",
   "execution_count": null,
   "metadata": {
    "scrolled": false
   },
   "outputs": [],
   "source": [
    "result10.performancesFeatures()"
   ]
  },
  {
   "cell_type": "markdown",
   "metadata": {},
   "source": [
    "## Centering, Kernel Normalization"
   ]
  },
  {
   "cell_type": "code",
   "execution_count": null,
   "metadata": {},
   "outputs": [],
   "source": [
    "sampler = ms.mySampler(n_splits=3, test_size=.25, Ptype=\"regression\", centering = True, normalize_kernels = True)"
   ]
  },
  {
   "cell_type": "code",
   "execution_count": null,
   "metadata": {
    "scrolled": true
   },
   "outputs": [],
   "source": [
    "result11 = sampler.sample(kernel_type, estimator, ds_list, y_, valid_fold = 3, verbose=True, exclusion_list = [[5,6,7,9,10,13,15,16,17,18,19], list(range(G.shape[1]-3)), []])"
   ]
  },
  {
   "cell_type": "code",
   "execution_count": null,
   "metadata": {},
   "outputs": [],
   "source": [
    "w_dict, w_list = result11.votingOverCA(ds_names, kernel_names)\n",
    "ut.testConfigurations(estimator, y_, y_test, w_list, ds_list, ds_test, kernel_names, Ptype='regression')"
   ]
  },
  {
   "cell_type": "code",
   "execution_count": null,
   "metadata": {},
   "outputs": [],
   "source": [
    "w_dict"
   ]
  },
  {
   "cell_type": "code",
   "execution_count": null,
   "metadata": {
    "scrolled": true
   },
   "outputs": [],
   "source": [
    "result11.performancesFeatures()"
   ]
  },
  {
   "cell_type": "markdown",
   "metadata": {},
   "source": [
    "## Centering, Normalization, Kernel Normalization"
   ]
  },
  {
   "cell_type": "code",
   "execution_count": null,
   "metadata": {},
   "outputs": [],
   "source": [
    "sampler = ms.mySampler(n_splits=3, test_size=.25, Ptype=\"regression\", centering = True, normalizing = True, normalize_kernels = True)"
   ]
  },
  {
   "cell_type": "code",
   "execution_count": null,
   "metadata": {},
   "outputs": [],
   "source": [
    "result7 = sampler.sample(kernel_type, estimator, ds_list, y_, valid_fold = 3, verbose=True, exclusion_list = [[5,6,7,9,10,13,15,16,17,18,19], list(range(G.shape[1]-3)), []])"
   ]
  },
  {
   "cell_type": "code",
   "execution_count": null,
   "metadata": {},
   "outputs": [],
   "source": [
    "w_dict, w_list = result7.votingOverCA(ds_names, kernel_names)\n",
    "ut.testConfigurations(estimator, y_, y_test, w_list, ds_list, ds_test, kernel_names, Ptype='regression')"
   ]
  },
  {
   "cell_type": "code",
   "execution_count": null,
   "metadata": {},
   "outputs": [],
   "source": [
    "w_dict"
   ]
  },
  {
   "cell_type": "code",
   "execution_count": null,
   "metadata": {
    "scrolled": true
   },
   "outputs": [],
   "source": [
    "result7.performancesFeatures()"
   ]
  },
  {
   "cell_type": "markdown",
   "metadata": {},
   "source": [
    "## L2 Penalty, Centering, K-Normalization"
   ]
  },
  {
   "cell_type": "code",
   "execution_count": 12,
   "metadata": {},
   "outputs": [],
   "source": [
    "sampler = ms.mySampler(n_splits=3, test_size=.25, Ptype=\"regression\", lamb = 0.5, centering = True, normalize_kernels = False)"
   ]
  },
  {
   "cell_type": "code",
   "execution_count": 13,
   "metadata": {
    "scrolled": true
   },
   "outputs": [
    {
     "name": "stdout",
     "output_type": "stream",
     "text": [
      "\n",
      "1 split out of 3 ...\n",
      "\tWorking on config 1 of 2: {'linear': [0.5], 'gaussian': [0.1, 0.5, 0.7]}\n",
      "Fold no. 1\n",
      "Fold no. 2\n",
      "Fold no. 3\n",
      "Validation complete, config selected:[[0.5, 0.1], [0.5, 0.5], [0.5, 0.1]]\n",
      "\tResult of 1:\n",
      "CA: 0.004060544812182261\n",
      "Average error: 0.5690943318836446\n",
      "Error variance: 4.674303182618229\n",
      "[linear:0.5, gaussian:0.1, ]\n",
      "[linear:0.5, gaussian:0.5, ]\n",
      "[linear:0.5, gaussian:0.1, ]\n",
      "\n",
      "eta vector: [ 1.62083034e-05 -5.25920177e-06 -4.73265845e-05  7.42071270e-05\n",
      "  5.55225495e-06 -3.26728200e-05]\n",
      "\n",
      "\n",
      "\tCompleted in 0.1 minutes\n",
      "\tWorking on config 2 of 2: {'linear': [0.2], 'gaussian': [0.7, 1]}\n",
      "Fold no. 1\n",
      "Fold no. 2\n",
      "Fold no. 3\n",
      "Validation complete, config selected:[[0.2, 0.7], [0.2, 0.7], [0.2, 1]]\n",
      "\tResult of 1:\n",
      "CA: 0.004060544812182261\n",
      "Average error: 0.5690943318836446\n",
      "Error variance: 4.674303182618229\n",
      "[linear:0.5, gaussian:0.1, ]\n",
      "[linear:0.5, gaussian:0.5, ]\n",
      "[linear:0.5, gaussian:0.1, ]\n",
      "\n",
      "eta vector: [ 1.62083034e-05 -5.25920177e-06 -4.73265845e-05  7.42071270e-05\n",
      "  5.55225495e-06 -3.26728200e-05]\n",
      "\n",
      "CA: 0.004062172686720977\n",
      "Average error: 0.3843053986284424\n",
      "Error variance: 4.1187799812180925\n",
      "[linear:0.2, gaussian:0.7, ]\n",
      "[linear:0.2, gaussian:0.7, ]\n",
      "[linear:0.2, gaussian:1, ]\n",
      "\n",
      "eta vector: [ 1.42703179e-05  2.58211031e-06 -2.55594471e-05  3.47833039e-05\n",
      " -5.12776068e-06  4.34933028e-06]\n",
      "\n",
      "\n",
      "\tCompleted in 0.15 minutes\n",
      "\n",
      "2 split out of 3 ...\n",
      "\tWorking on config 1 of 2: {'linear': [0.5], 'gaussian': [0.1, 0.5, 0.7]}\n",
      "Fold no. 1\n",
      "Fold no. 2\n",
      "Fold no. 3\n",
      "Validation complete, config selected:[[0.5, 0.1], [0.5, 0.5], [0.5, 0.1]]\n",
      "\tResult of 2:\n",
      "CA: 0.0035818618059043064\n",
      "Average error: 0.38203352146238406\n",
      "Error variance: 3.8844400082536623\n",
      "[linear:0.5, gaussian:0.1, ]\n",
      "[linear:0.5, gaussian:0.5, ]\n",
      "[linear:0.5, gaussian:0.1, ]\n",
      "\n",
      "eta vector: [ 1.00004270e-05  2.11438608e-05 -5.33207371e-05  8.42758291e-05\n",
      "  7.09326652e-06 -4.12654199e-05]\n",
      "\n",
      "\n",
      "\tCompleted in 0.11666666666666667 minutes\n",
      "\tWorking on config 2 of 2: {'linear': [0.2], 'gaussian': [0.7, 1]}\n",
      "Fold no. 1\n",
      "Fold no. 2\n",
      "Fold no. 3\n",
      "Validation complete, config selected:[[0.2, 0.7], [0.2, 0.7], [0.2, 0.7]]\n",
      "\tResult of 2:\n",
      "CA: 0.0035818618059043064\n",
      "Average error: 0.38203352146238406\n",
      "Error variance: 3.8844400082536623\n",
      "[linear:0.5, gaussian:0.1, ]\n",
      "[linear:0.5, gaussian:0.5, ]\n",
      "[linear:0.5, gaussian:0.1, ]\n",
      "\n",
      "eta vector: [ 1.00004270e-05  2.11438608e-05 -5.33207371e-05  8.42758291e-05\n",
      "  7.09326652e-06 -4.12654199e-05]\n",
      "\n",
      "CA: 0.003583960202388193\n",
      "Average error: 0.10917767664265984\n",
      "Error variance: 1.3923045179432616\n",
      "[linear:0.2, gaussian:0.7, ]\n",
      "[linear:0.2, gaussian:0.7, ]\n",
      "[linear:0.2, gaussian:0.7, ]\n",
      "\n",
      "eta vector: [ 1.21791456e-05  3.15514210e-06 -2.79880414e-05  3.90387832e-05\n",
      " -4.17736171e-06  4.27837264e-06]\n",
      "\n",
      "\n",
      "\tCompleted in 0.15 minutes\n",
      "\n",
      "3 split out of 3 ...\n",
      "\tWorking on config 1 of 2: {'linear': [0.5], 'gaussian': [0.1, 0.5, 0.7]}\n",
      "Fold no. 1\n",
      "Fold no. 2\n",
      "Fold no. 3\n",
      "Validation complete, config selected:[[0.5, 0.1], [0.5, 0.5], [0.5, 0.1]]\n",
      "\tResult of 3:\n",
      "CA: 0.00373973820387467\n",
      "Average error: 0.0761763653050174\n",
      "Error variance: 0.0001819174703279568\n",
      "[linear:0.5, gaussian:0.1, ]\n",
      "[linear:0.5, gaussian:0.5, ]\n",
      "[linear:0.5, gaussian:0.1, ]\n",
      "\n",
      "eta vector: [ 1.02247676e-05  2.30006104e-05 -6.67346029e-05  1.02747566e-04\n",
      "  4.58364464e-06 -2.85893356e-05]\n",
      "\n",
      "\n",
      "\tCompleted in 0.13333333333333333 minutes\n",
      "\tWorking on config 2 of 2: {'linear': [0.2], 'gaussian': [0.7, 1]}\n",
      "Fold no. 1\n",
      "Fold no. 2\n",
      "Fold no. 3\n",
      "Validation complete, config selected:[[0.2, 0.7], [0.2, 0.7], [0.2, 0.7]]\n",
      "\tResult of 3:\n",
      "CA: 0.00373973820387467\n",
      "Average error: 0.0761763653050174\n",
      "Error variance: 0.0001819174703279568\n",
      "[linear:0.5, gaussian:0.1, ]\n",
      "[linear:0.5, gaussian:0.5, ]\n",
      "[linear:0.5, gaussian:0.1, ]\n",
      "\n",
      "eta vector: [ 1.02247676e-05  2.30006104e-05 -6.67346029e-05  1.02747566e-04\n",
      "  4.58364464e-06 -2.85893356e-05]\n",
      "\n",
      "CA: 0.003740710013675451\n",
      "Average error: 0.07617636530501737\n",
      "Error variance: 0.00011077740929525887\n",
      "[linear:0.2, gaussian:0.7, ]\n",
      "[linear:0.2, gaussian:0.7, ]\n",
      "[linear:0.2, gaussian:0.7, ]\n",
      "\n",
      "eta vector: [ 1.31750486e-05  2.03223534e-06 -3.81021234e-05  5.03645984e-05\n",
      " -2.16330590e-06  1.74173511e-06]\n",
      "\n",
      "\n",
      "\tCompleted in 0.16666666666666666 minutes\n"
     ]
    }
   ],
   "source": [
    "result9 = sampler.sample(kernel_type, estimator, ds_list, y_, valid_fold = 3, verbose=True, exclusion_list = [[5,6,7,9,10,13,15,16,17,18,19], list(range(G.shape[1]-3)), []])"
   ]
  },
  {
   "cell_type": "code",
   "execution_count": 14,
   "metadata": {},
   "outputs": [
    {
     "ename": "KeyboardInterrupt",
     "evalue": "",
     "output_type": "error",
     "traceback": [
      "\u001b[1;31m---------------------------------------------------------------------------\u001b[0m",
      "\u001b[1;31mKeyboardInterrupt\u001b[0m                         Traceback (most recent call last)",
      "\u001b[1;32m<ipython-input-14-43ff20d05cbf>\u001b[0m in \u001b[0;36m<module>\u001b[1;34m()\u001b[0m\n\u001b[0;32m      1\u001b[0m \u001b[0mw_dict\u001b[0m\u001b[1;33m,\u001b[0m \u001b[0mw_list\u001b[0m \u001b[1;33m=\u001b[0m \u001b[0mresult9\u001b[0m\u001b[1;33m.\u001b[0m\u001b[0mvotingOverCA\u001b[0m\u001b[1;33m(\u001b[0m\u001b[0mds_names\u001b[0m\u001b[1;33m,\u001b[0m \u001b[0mkernel_names\u001b[0m\u001b[1;33m)\u001b[0m\u001b[1;33m\u001b[0m\u001b[0m\n\u001b[1;32m----> 2\u001b[1;33m \u001b[0mut\u001b[0m\u001b[1;33m.\u001b[0m\u001b[0mtestConfigurations\u001b[0m\u001b[1;33m(\u001b[0m\u001b[0mestimator\u001b[0m\u001b[1;33m,\u001b[0m \u001b[0my_\u001b[0m\u001b[1;33m,\u001b[0m \u001b[0my_test\u001b[0m\u001b[1;33m,\u001b[0m \u001b[0mw_list\u001b[0m\u001b[1;33m,\u001b[0m \u001b[0mds_list\u001b[0m\u001b[1;33m,\u001b[0m \u001b[0mds_test\u001b[0m\u001b[1;33m,\u001b[0m \u001b[0mkernel_names\u001b[0m\u001b[1;33m,\u001b[0m \u001b[0mPtype\u001b[0m\u001b[1;33m=\u001b[0m\u001b[1;34m'regression'\u001b[0m\u001b[1;33m)\u001b[0m\u001b[1;33m\u001b[0m\u001b[0m\n\u001b[0m",
      "\u001b[1;32m~\\Documents\\Università\\Anaconda\\BCB\\NewLabs\\Project\\Utils.py\u001b[0m in \u001b[0;36mtestConfigurations\u001b[1;34m(estimator, y_train, y_test, config_list, train_list, test_list, kernel_types, Ptype)\u001b[0m\n\u001b[0;32m    200\u001b[0m \u001b[1;33m\u001b[0m\u001b[0m\n\u001b[0;32m    201\u001b[0m         \u001b[1;31m# compute eta vector\u001b[0m\u001b[1;33m\u001b[0m\u001b[1;33m\u001b[0m\u001b[0m\n\u001b[1;32m--> 202\u001b[1;33m         \u001b[0meta\u001b[0m \u001b[1;33m=\u001b[0m \u001b[0mestimator\u001b[0m\u001b[1;33m.\u001b[0m\u001b[0mcomputeEta\u001b[0m\u001b[1;33m(\u001b[0m\u001b[0mkernelMatrix_list\u001b[0m\u001b[1;33m,\u001b[0m \u001b[0mIK_tr\u001b[0m\u001b[1;33m,\u001b[0m \u001b[0my\u001b[0m \u001b[1;33m=\u001b[0m \u001b[0my_train\u001b[0m\u001b[1;33m,\u001b[0m \u001b[0mverbose\u001b[0m \u001b[1;33m=\u001b[0m \u001b[1;32mTrue\u001b[0m\u001b[1;33m)\u001b[0m\u001b[1;33m\u001b[0m\u001b[0m\n\u001b[0m\u001b[0;32m    203\u001b[0m \u001b[1;33m\u001b[0m\u001b[0m\n\u001b[0;32m    204\u001b[0m         \u001b[1;31m# compute k_eta (approximation) for the validation set\u001b[0m\u001b[1;33m\u001b[0m\u001b[1;33m\u001b[0m\u001b[0m\n",
      "\u001b[1;32m~\\Documents\\Università\\Anaconda\\BCB\\NewLabs\\Project\\CortesAlignmentFile.py\u001b[0m in \u001b[0;36mcomputeEta\u001b[1;34m(K_list, IK, y, sparsity, lamb, maxIter, verbose)\u001b[0m\n\u001b[0;32m     55\u001b[0m     \u001b[1;32mdef\u001b[0m \u001b[0mcomputeEta\u001b[0m\u001b[1;33m(\u001b[0m\u001b[0mK_list\u001b[0m\u001b[1;33m,\u001b[0m \u001b[0mIK\u001b[0m\u001b[1;33m,\u001b[0m \u001b[0my\u001b[0m \u001b[1;33m=\u001b[0m \u001b[1;32mNone\u001b[0m\u001b[1;33m,\u001b[0m \u001b[0msparsity\u001b[0m \u001b[1;33m=\u001b[0m \u001b[1;36m0\u001b[0m\u001b[1;33m,\u001b[0m \u001b[0mlamb\u001b[0m \u001b[1;33m=\u001b[0m \u001b[1;36m0\u001b[0m\u001b[1;33m,\u001b[0m \u001b[0mmaxIter\u001b[0m \u001b[1;33m=\u001b[0m \u001b[1;36m0\u001b[0m\u001b[1;33m,\u001b[0m  \u001b[0mverbose\u001b[0m \u001b[1;33m=\u001b[0m \u001b[1;32mFalse\u001b[0m\u001b[1;33m)\u001b[0m\u001b[1;33m:\u001b[0m\u001b[1;33m\u001b[0m\u001b[0m\n\u001b[0;32m     56\u001b[0m \u001b[1;33m\u001b[0m\u001b[0m\n\u001b[1;32m---> 57\u001b[1;33m         \u001b[0mK_c_list\u001b[0m \u001b[1;33m=\u001b[0m \u001b[1;33m[\u001b[0m\u001b[0mcenteredKernelAlignment\u001b[0m\u001b[1;33m.\u001b[0m\u001b[0mcenteredKernel\u001b[0m\u001b[1;33m(\u001b[0m\u001b[0mK\u001b[0m\u001b[1;33m)\u001b[0m \u001b[1;32mfor\u001b[0m \u001b[0mK\u001b[0m \u001b[1;32min\u001b[0m \u001b[0mK_list\u001b[0m\u001b[1;33m]\u001b[0m\u001b[1;33m\u001b[0m\u001b[0m\n\u001b[0m\u001b[0;32m     58\u001b[0m         \u001b[0mM\u001b[0m \u001b[1;33m=\u001b[0m \u001b[0mcenteredKernelAlignment\u001b[0m\u001b[1;33m.\u001b[0m\u001b[0m_kernelSimilarityMatrix\u001b[0m\u001b[1;33m(\u001b[0m\u001b[0mK_c_list\u001b[0m\u001b[1;33m)\u001b[0m\u001b[1;33m\u001b[0m\u001b[0m\n\u001b[0;32m     59\u001b[0m         \u001b[0ma\u001b[0m \u001b[1;33m=\u001b[0m \u001b[0mcenteredKernelAlignment\u001b[0m\u001b[1;33m.\u001b[0m\u001b[0m_idealSimilarityVector\u001b[0m\u001b[1;33m(\u001b[0m\u001b[0mK_c_list\u001b[0m\u001b[1;33m,\u001b[0m \u001b[0mIK\u001b[0m\u001b[1;33m)\u001b[0m\u001b[1;33m\u001b[0m\u001b[0m\n",
      "\u001b[1;32m~\\Documents\\Università\\Anaconda\\BCB\\NewLabs\\Project\\CortesAlignmentFile.py\u001b[0m in \u001b[0;36m<listcomp>\u001b[1;34m(.0)\u001b[0m\n\u001b[0;32m     55\u001b[0m     \u001b[1;32mdef\u001b[0m \u001b[0mcomputeEta\u001b[0m\u001b[1;33m(\u001b[0m\u001b[0mK_list\u001b[0m\u001b[1;33m,\u001b[0m \u001b[0mIK\u001b[0m\u001b[1;33m,\u001b[0m \u001b[0my\u001b[0m \u001b[1;33m=\u001b[0m \u001b[1;32mNone\u001b[0m\u001b[1;33m,\u001b[0m \u001b[0msparsity\u001b[0m \u001b[1;33m=\u001b[0m \u001b[1;36m0\u001b[0m\u001b[1;33m,\u001b[0m \u001b[0mlamb\u001b[0m \u001b[1;33m=\u001b[0m \u001b[1;36m0\u001b[0m\u001b[1;33m,\u001b[0m \u001b[0mmaxIter\u001b[0m \u001b[1;33m=\u001b[0m \u001b[1;36m0\u001b[0m\u001b[1;33m,\u001b[0m  \u001b[0mverbose\u001b[0m \u001b[1;33m=\u001b[0m \u001b[1;32mFalse\u001b[0m\u001b[1;33m)\u001b[0m\u001b[1;33m:\u001b[0m\u001b[1;33m\u001b[0m\u001b[0m\n\u001b[0;32m     56\u001b[0m \u001b[1;33m\u001b[0m\u001b[0m\n\u001b[1;32m---> 57\u001b[1;33m         \u001b[0mK_c_list\u001b[0m \u001b[1;33m=\u001b[0m \u001b[1;33m[\u001b[0m\u001b[0mcenteredKernelAlignment\u001b[0m\u001b[1;33m.\u001b[0m\u001b[0mcenteredKernel\u001b[0m\u001b[1;33m(\u001b[0m\u001b[0mK\u001b[0m\u001b[1;33m)\u001b[0m \u001b[1;32mfor\u001b[0m \u001b[0mK\u001b[0m \u001b[1;32min\u001b[0m \u001b[0mK_list\u001b[0m\u001b[1;33m]\u001b[0m\u001b[1;33m\u001b[0m\u001b[0m\n\u001b[0m\u001b[0;32m     58\u001b[0m         \u001b[0mM\u001b[0m \u001b[1;33m=\u001b[0m \u001b[0mcenteredKernelAlignment\u001b[0m\u001b[1;33m.\u001b[0m\u001b[0m_kernelSimilarityMatrix\u001b[0m\u001b[1;33m(\u001b[0m\u001b[0mK_c_list\u001b[0m\u001b[1;33m)\u001b[0m\u001b[1;33m\u001b[0m\u001b[0m\n\u001b[0;32m     59\u001b[0m         \u001b[0ma\u001b[0m \u001b[1;33m=\u001b[0m \u001b[0mcenteredKernelAlignment\u001b[0m\u001b[1;33m.\u001b[0m\u001b[0m_idealSimilarityVector\u001b[0m\u001b[1;33m(\u001b[0m\u001b[0mK_c_list\u001b[0m\u001b[1;33m,\u001b[0m \u001b[0mIK\u001b[0m\u001b[1;33m)\u001b[0m\u001b[1;33m\u001b[0m\u001b[0m\n",
      "\u001b[1;32m~\\Documents\\Università\\Anaconda\\BCB\\NewLabs\\Project\\CortesAlignmentFile.py\u001b[0m in \u001b[0;36mcenteredKernel\u001b[1;34m(K)\u001b[0m\n\u001b[0;32m     14\u001b[0m         \u001b[0moneNs\u001b[0m \u001b[1;33m=\u001b[0m \u001b[0mnp\u001b[0m\u001b[1;33m.\u001b[0m\u001b[0mones\u001b[0m\u001b[1;33m(\u001b[0m\u001b[1;33m(\u001b[0m\u001b[0mNs\u001b[0m\u001b[1;33m)\u001b[0m\u001b[1;33m)\u001b[0m\u001b[1;33m.\u001b[0m\u001b[0mreshape\u001b[0m\u001b[1;33m(\u001b[0m\u001b[1;33m-\u001b[0m\u001b[1;36m1\u001b[0m\u001b[1;33m,\u001b[0m\u001b[1;36m1\u001b[0m\u001b[1;33m)\u001b[0m\u001b[1;33m\u001b[0m\u001b[0m\n\u001b[0;32m     15\u001b[0m         \u001b[0moneNt_mat\u001b[0m \u001b[1;33m=\u001b[0m \u001b[0mnp\u001b[0m\u001b[1;33m.\u001b[0m\u001b[0mouter\u001b[0m\u001b[1;33m(\u001b[0m\u001b[0moneNt\u001b[0m\u001b[1;33m,\u001b[0m \u001b[0moneNt\u001b[0m\u001b[1;33m)\u001b[0m\u001b[1;33m\u001b[0m\u001b[0m\n\u001b[1;32m---> 16\u001b[1;33m         \u001b[0moneNs_mat\u001b[0m \u001b[1;33m=\u001b[0m \u001b[0mnp\u001b[0m\u001b[1;33m.\u001b[0m\u001b[0mouter\u001b[0m\u001b[1;33m(\u001b[0m\u001b[0moneNs\u001b[0m\u001b[1;33m,\u001b[0m \u001b[0moneNs\u001b[0m\u001b[1;33m)\u001b[0m\u001b[1;33m\u001b[0m\u001b[0m\n\u001b[0m\u001b[0;32m     17\u001b[0m         \u001b[0mcomposite\u001b[0m \u001b[1;33m=\u001b[0m \u001b[0mnp\u001b[0m\u001b[1;33m.\u001b[0m\u001b[0mouter\u001b[0m\u001b[1;33m(\u001b[0m\u001b[0moneNt\u001b[0m\u001b[1;33m,\u001b[0m \u001b[0moneNs\u001b[0m\u001b[1;33m)\u001b[0m\u001b[1;33m\u001b[0m\u001b[0m\n\u001b[0;32m     18\u001b[0m \u001b[1;33m\u001b[0m\u001b[0m\n",
      "\u001b[1;32m~\\Anaconda3\\lib\\site-packages\\numpy\\core\\numeric.py\u001b[0m in \u001b[0;36mouter\u001b[1;34m(a, b, out)\u001b[0m\n\u001b[0;32m   1118\u001b[0m     \u001b[0ma\u001b[0m \u001b[1;33m=\u001b[0m \u001b[0masarray\u001b[0m\u001b[1;33m(\u001b[0m\u001b[0ma\u001b[0m\u001b[1;33m)\u001b[0m\u001b[1;33m\u001b[0m\u001b[0m\n\u001b[0;32m   1119\u001b[0m     \u001b[0mb\u001b[0m \u001b[1;33m=\u001b[0m \u001b[0masarray\u001b[0m\u001b[1;33m(\u001b[0m\u001b[0mb\u001b[0m\u001b[1;33m)\u001b[0m\u001b[1;33m\u001b[0m\u001b[0m\n\u001b[1;32m-> 1120\u001b[1;33m     \u001b[1;32mreturn\u001b[0m \u001b[0mmultiply\u001b[0m\u001b[1;33m(\u001b[0m\u001b[0ma\u001b[0m\u001b[1;33m.\u001b[0m\u001b[0mravel\u001b[0m\u001b[1;33m(\u001b[0m\u001b[1;33m)\u001b[0m\u001b[1;33m[\u001b[0m\u001b[1;33m:\u001b[0m\u001b[1;33m,\u001b[0m \u001b[0mnewaxis\u001b[0m\u001b[1;33m]\u001b[0m\u001b[1;33m,\u001b[0m \u001b[0mb\u001b[0m\u001b[1;33m.\u001b[0m\u001b[0mravel\u001b[0m\u001b[1;33m(\u001b[0m\u001b[1;33m)\u001b[0m\u001b[1;33m[\u001b[0m\u001b[0mnewaxis\u001b[0m\u001b[1;33m,\u001b[0m\u001b[1;33m:\u001b[0m\u001b[1;33m]\u001b[0m\u001b[1;33m,\u001b[0m \u001b[0mout\u001b[0m\u001b[1;33m)\u001b[0m\u001b[1;33m\u001b[0m\u001b[0m\n\u001b[0m\u001b[0;32m   1121\u001b[0m \u001b[1;33m\u001b[0m\u001b[0m\n\u001b[0;32m   1122\u001b[0m \u001b[1;33m\u001b[0m\u001b[0m\n",
      "\u001b[1;31mKeyboardInterrupt\u001b[0m: "
     ]
    }
   ],
   "source": [
    "w_dict, w_list = result9.votingOverCA(ds_names, kernel_names)\n",
    "ut.testConfigurations(estimator, y_, y_test, w_list, ds_list, ds_test, kernel_names, Ptype='regression')"
   ]
  },
  {
   "cell_type": "code",
   "execution_count": null,
   "metadata": {},
   "outputs": [],
   "source": [
    "w_dict"
   ]
  },
  {
   "cell_type": "code",
   "execution_count": null,
   "metadata": {
    "scrolled": true
   },
   "outputs": [],
   "source": [
    "result9.performancesFeatures()"
   ]
  },
  {
   "cell_type": "markdown",
   "metadata": {},
   "source": [
    "## Sparsity in eta, Centering, K-Normalization"
   ]
  },
  {
   "cell_type": "code",
   "execution_count": null,
   "metadata": {},
   "outputs": [],
   "source": [
    "y_class = outputs[\"cvd_fail\"].values\n",
    "meaningful_idxs = np.where(y_class==1)\n",
    "y = outputs[\"dement_time_age\"].values[meaningful_idxs]\n",
    "C = d_clinical.values[meaningful_idxs]\n",
    "G = d_genetic.values[meaningful_idxs]\n",
    "V = d_vampire.values[meaningful_idxs]"
   ]
  },
  {
   "cell_type": "code",
   "execution_count": null,
   "metadata": {},
   "outputs": [],
   "source": [
    "tr_idx, ts_idx = next(ShuffleSplit(n_splits=1, test_size=0.5).split(C, y))"
   ]
  },
  {
   "cell_type": "code",
   "execution_count": null,
   "metadata": {},
   "outputs": [],
   "source": [
    "y_ = y[tr_idx]\n",
    "y_test = y[ts_idx]\n",
    "C_ = C[tr_idx]\n",
    "C_test = C[ts_idx]\n",
    "G_ = G[tr_idx]\n",
    "G_test = G[ts_idx]\n",
    "V_ = V[tr_idx]\n",
    "V_test = V[ts_idx]"
   ]
  },
  {
   "cell_type": "code",
   "execution_count": null,
   "metadata": {},
   "outputs": [],
   "source": [
    "ds_list = [C_, G_, V_]\n",
    "ds_test = [C_test, G_test, V_test]\n",
    "ds_names = ['clinic', 'genetic', 'vampire']"
   ]
  },
  {
   "cell_type": "code",
   "execution_count": null,
   "metadata": {},
   "outputs": [],
   "source": [
    "sampler = ms.mySampler(n_splits=3, test_size=.25, Ptype=\"regression\", sparsity = 0.7, centering = True, normalize_kernels = True)"
   ]
  },
  {
   "cell_type": "code",
   "execution_count": null,
   "metadata": {
    "scrolled": true
   },
   "outputs": [],
   "source": [
    "result8 = sampler.sample(kernel_type, estimator, ds_list, y_, valid_fold = 3, verbose=True, exclusion_list = [[5,6,7,9,10,13,15,16,17,18,19], list(range(G.shape[1]-3)), []])"
   ]
  },
  {
   "cell_type": "code",
   "execution_count": null,
   "metadata": {},
   "outputs": [],
   "source": [
    "w_dict, w_list = result8.votingOverCA(ds_names, kernel_names)\n",
    "ut.testConfigurations(estimator, y_, y_test, w_list, ds_list, ds_test, kernel_names, Ptype='regression')"
   ]
  },
  {
   "cell_type": "code",
   "execution_count": null,
   "metadata": {},
   "outputs": [],
   "source": [
    "w_dict"
   ]
  },
  {
   "cell_type": "code",
   "execution_count": null,
   "metadata": {
    "scrolled": true
   },
   "outputs": [],
   "source": [
    "result8.performancesFeatures()"
   ]
  },
  {
   "cell_type": "code",
   "execution_count": null,
   "metadata": {},
   "outputs": [],
   "source": []
  }
 ],
 "metadata": {
  "kernelspec": {
   "display_name": "Python 3",
   "language": "python",
   "name": "python3"
  },
  "language_info": {
   "codemirror_mode": {
    "name": "ipython",
    "version": 3
   },
   "file_extension": ".py",
   "mimetype": "text/x-python",
   "name": "python",
   "nbconvert_exporter": "python",
   "pygments_lexer": "ipython3",
   "version": "3.6.5"
  }
 },
 "nbformat": 4,
 "nbformat_minor": 2
}
