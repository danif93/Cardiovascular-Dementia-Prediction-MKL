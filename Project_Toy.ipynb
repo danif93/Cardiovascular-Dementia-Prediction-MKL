{
 "cells": [
  {
   "cell_type": "code",
   "execution_count": 1,
   "metadata": {},
   "outputs": [
    {
     "name": "stderr",
     "output_type": "stream",
     "text": [
      "/Users/danilo/.conda/envs/bcb/lib/python3.7/site-packages/sklearn/utils/__init__.py:4: DeprecationWarning: Using or importing the ABCs from 'collections' instead of from 'collections.abc' is deprecated, and in 3.8 it will stop working\n",
      "  from collections import Sequence\n"
     ]
    }
   ],
   "source": [
    "import pandas as pd\n",
    "import os\n",
    "import numpy as np\n",
    "\n",
    "import Utils as ut\n",
    "import CortesAlignmentFile as ca\n",
    "import mySampler as ms\n",
    " \n",
    "from sklearn.model_selection import StratifiedShuffleSplit"
   ]
  },
  {
   "cell_type": "code",
   "execution_count": 2,
   "metadata": {},
   "outputs": [],
   "source": [
    "from sklearn import datasets\n",
    "# make_classification(n_samples=100, n_features=20, n_informative=2, n_redundant=2, n_repeated=0, \n",
    "#                     n_classes=2, n_clusters_per_class=2, weights=None, flip_y=0.01, class_sep=1.0, \n",
    "#                     hypercube=True, shift=0.0, scale=1.0, shuffle=True, random_state=None)\n",
    "ds, label = datasets.make_classification(n_samples=300, n_features=30, n_informative=10, n_redundant=0, n_classes=2)\n",
    "ds_names = ['ds1', 'ds2', 'ds3']"
   ]
  },
  {
   "cell_type": "code",
   "execution_count": 3,
   "metadata": {},
   "outputs": [],
   "source": [
    "np.where(label==0)\n",
    "label[np.where(label==0)]=-1"
   ]
  },
  {
   "cell_type": "markdown",
   "metadata": {},
   "source": [
    "## Toy"
   ]
  },
  {
   "cell_type": "code",
   "execution_count": 4,
   "metadata": {},
   "outputs": [],
   "source": [
    "def random_sampling(X, y, n_samples):\n",
    "    from sklearn.model_selection import StratifiedShuffleSplit\n",
    "    return next(StratifiedShuffleSplit(n_splits=1, test_size=n_samples).split(X, y))"
   ]
  },
  {
   "cell_type": "code",
   "execution_count": 5,
   "metadata": {},
   "outputs": [],
   "source": [
    "tr_idx, ts_idx = random_sampling(ds, label, n_samples=0.25)\n",
    "\n",
    "ds1 = np.hstack([ds[:,:5], ds[:,10:15]])\n",
    "ds1_tr = ds1[tr_idx]\n",
    "ds1_ts = ds1[ts_idx]\n",
    "\n",
    "ds2 = np.hstack([ds[:,5:10], ds[:,15:20]])\n",
    "ds2_tr = ds2[tr_idx]\n",
    "ds2_ts = ds2[ts_idx]\n",
    "\n",
    "ds3 = ds[:,20:]\n",
    "ds3_tr = ds3[tr_idx]\n",
    "ds3_ts = ds3[ts_idx]\n",
    "\n",
    "y_ = label[tr_idx]\n",
    "y_test = label[ts_idx]\n",
    "\n",
    "ds_list_complete = [ds1, ds2, ds3]\n",
    "ds_list = [ds1_tr, ds2_tr, ds3_tr]\n",
    "ds_test = [ds1_ts, ds2_ts, ds3_ts]"
   ]
  },
  {
   "cell_type": "markdown",
   "metadata": {},
   "source": [
    "## Basic approach"
   ]
  },
  {
   "cell_type": "code",
   "execution_count": null,
   "metadata": {},
   "outputs": [],
   "source": [
    "kernel_names = ['linear', 'polynomial', 'gaussian']\n",
    "kernel_type = [{'linear':[0.5], 'polynomial':[2, 3, 7], 'gaussian':[0.1, 0.5, 0.7]},\n",
    "               {'linear':[0.2], 'polynomial':[4, 5, 8], 'gaussian':[0.7, 1]}]\n",
    "estimator = ca.centeredKernelAlignment\n",
    "sampler = ms.mySampler(n_splits=3, test_size=.25)"
   ]
  },
  {
   "cell_type": "code",
   "execution_count": null,
   "metadata": {},
   "outputs": [],
   "source": [
    "result1 = sampler.sample(kernel_type, estimator, ds_list, y_, valid_fold = 3, verbose=True)"
   ]
  },
  {
   "cell_type": "code",
   "execution_count": null,
   "metadata": {},
   "outputs": [],
   "source": [
    "result1.global_best_"
   ]
  },
  {
   "cell_type": "code",
   "execution_count": null,
   "metadata": {},
   "outputs": [],
   "source": [
    "w_dict, w_list = result1.votingOverCA(ds_names, kernel_names)\n",
    "ut.testConfigurations(estimator, y_, y_test, w_list, ds_list, ds_test, kernel_names)"
   ]
  },
  {
   "cell_type": "code",
   "execution_count": null,
   "metadata": {},
   "outputs": [],
   "source": [
    "w_list"
   ]
  },
  {
   "cell_type": "code",
   "execution_count": null,
   "metadata": {},
   "outputs": [],
   "source": [
    "w_dict"
   ]
  },
  {
   "cell_type": "code",
   "execution_count": null,
   "metadata": {},
   "outputs": [],
   "source": [
    "result1.performancesFeatures()"
   ]
  },
  {
   "cell_type": "markdown",
   "metadata": {},
   "source": [
    "## Kernel normalization"
   ]
  },
  {
   "cell_type": "code",
   "execution_count": null,
   "metadata": {},
   "outputs": [],
   "source": [
    "kernel_names = ['linear', 'polynomial', 'gaussian']\n",
    "kernel_type = [{'linear':[0.5], 'polynomial':[2, 3, 4], 'gaussian':[0.1, 0.3, 0.6]},\n",
    "               {'linear':[0.2], 'polynomial':[4, 5, 8], 'gaussian':[0.7, 1, 1.7]}\n",
    "              ]\n",
    "estimator = ca.centeredKernelAlignment\n",
    "sampler = ms.mySampler(n_splits=3, test_size=.25, normalize_kernels = True)"
   ]
  },
  {
   "cell_type": "code",
   "execution_count": null,
   "metadata": {
    "scrolled": true
   },
   "outputs": [],
   "source": [
    "result3 = sampler.sample(kernel_type, estimator, ds_list, y_, valid_fold = 3, verbose=True)"
   ]
  },
  {
   "cell_type": "code",
   "execution_count": null,
   "metadata": {},
   "outputs": [],
   "source": [
    "w_dict, w_list = result3.votingOverCA(ds_names, kernel_names)\n",
    "ut.testConfigurations(estimator, y_, y_test, w_list, ds_list, ds_test, kernel_names)"
   ]
  },
  {
   "cell_type": "code",
   "execution_count": null,
   "metadata": {},
   "outputs": [],
   "source": [
    "w_dict"
   ]
  },
  {
   "cell_type": "code",
   "execution_count": null,
   "metadata": {},
   "outputs": [],
   "source": [
    "result3.performancesFeatures()"
   ]
  },
  {
   "cell_type": "markdown",
   "metadata": {},
   "source": [
    "## Normalized data"
   ]
  },
  {
   "cell_type": "code",
   "execution_count": null,
   "metadata": {},
   "outputs": [],
   "source": [
    "kernel_names = ['linear', 'polynomial', 'gaussian']\n",
    "kernel_type = [{'linear':[0.5], 'polynomial':[2, 3, 7], 'gaussian':[0.1, 0.5, 0.7]},\n",
    "               {'linear':[0.2], 'polynomial':[4, 5, 8], 'gaussian':[0.7, 1]}]\n",
    "estimator = ca.centeredKernelAlignment\n",
    "sampler = ms.mySampler(n_splits=3, test_size=.25, normalizing = True)"
   ]
  },
  {
   "cell_type": "code",
   "execution_count": null,
   "metadata": {
    "scrolled": true
   },
   "outputs": [],
   "source": [
    "result4 = sampler.sample(kernel_type, estimator, ds_list, y_, valid_fold = 3, verbose=True)"
   ]
  },
  {
   "cell_type": "code",
   "execution_count": null,
   "metadata": {},
   "outputs": [],
   "source": [
    "w_dict, w_list = result4.votingOverCA(ds_names, kernel_names)\n",
    "ut.testConfigurations(estimator, y_, y_test, w_list, ds_list, ds_test, kernel_names)"
   ]
  },
  {
   "cell_type": "code",
   "execution_count": null,
   "metadata": {},
   "outputs": [],
   "source": [
    "result4.performancesFeatures()"
   ]
  },
  {
   "cell_type": "markdown",
   "metadata": {},
   "source": [
    "## Origin Data Centering"
   ]
  },
  {
   "cell_type": "code",
   "execution_count": 6,
   "metadata": {},
   "outputs": [],
   "source": [
    "kernel_names = ['linear', 'polynomial', 'gaussian']\n",
    "kernel_type = [{'linear':[0.5], 'polynomial':[2, 3, 7], 'gaussian':[0.1, 0.5, 0.7]},\n",
    "               {'linear':[0.2], 'polynomial':[4, 5, 8], 'gaussian':[0.7, 1]}]\n",
    "estimator = ca.centeredKernelAlignment\n",
    "sampler = ms.mySampler(n_splits=3, test_size=.25, centering = True)"
   ]
  },
  {
   "cell_type": "code",
   "execution_count": 7,
   "metadata": {
    "scrolled": true
   },
   "outputs": [
    {
     "name": "stdout",
     "output_type": "stream",
     "text": [
      "1 split out of 3 ...\n",
      "\tWorking on config 1 of 2: {'linear': [0.5], 'polynomial': [2, 3, 7], 'gaussian': [0.1, 0.5, 0.7]}\n",
      "Fold no. 1\n",
      "\t\tPerfomances computed for 200\n",
      "\t\tPerfomances computed for 400\n",
      "\t\tPerfomances computed for 600\n",
      "Fold no. 2\n",
      "\t\tPerfomances computed for 200\n",
      "\t\tPerfomances computed for 400\n",
      "\t\tPerfomances computed for 600\n",
      "Fold no. 3\n",
      "\t\tPerfomances computed for 200\n",
      "\t\tPerfomances computed for 400\n",
      "\t\tPerfomances computed for 600\n",
      "Validation complete, config selected:[[0.5, 7, 0.7], [0.5, 2, 0.1], [0.5, 7, 0.7]]\n",
      "\tWorking on config 2 of 2: {'linear': [0.2], 'polynomial': [4, 5, 8], 'gaussian': [0.7, 1]}\n",
      "Fold no. 1\n",
      "\t\tPerfomances computed for 200\n",
      "Fold no. 2\n",
      "\t\tPerfomances computed for 200\n",
      "Fold no. 3\n",
      "\t\tPerfomances computed for 200\n",
      "Validation complete, config selected:[[0.2, 8, 1], [0.2, 4, 0.7], [0.2, 8, 1]]\n",
      "\tResult of 1:\n",
      "CA: 0.2445182945006547\n",
      "Accuracy: 0.40350877192982454\n",
      "Precision: 0.41935483870967744\n",
      "Recall: 0.4482758620689655\n",
      "[linear:0.5, polynomial:7, gaussian:0.7, ]\n",
      "[linear:0.5, polynomial:2, gaussian:0.1, ]\n",
      "[linear:0.5, polynomial:7, gaussian:0.7, ]\n",
      "\n",
      "eta vector: [-0.00490687 -0.00920612  0.02903841  0.0481519  -0.73384601  0.66729433\n",
      " -0.0228001   0.08778659 -0.06849318]\n",
      "\n",
      "CA: 0.24458848154853519\n",
      "Accuracy: 0.8596491228070176\n",
      "Precision: 0.8181818181818182\n",
      "Recall: 0.9310344827586207\n",
      "[linear:0.2, polynomial:8, gaussian:1, ]\n",
      "[linear:0.2, polynomial:4, gaussian:0.7, ]\n",
      "[linear:0.2, polynomial:8, gaussian:1, ]\n",
      "\n",
      "eta vector: [-0.07480882  0.02139618  0.16245285 -0.18629218  0.76853917 -0.03375191\n",
      " -0.10379781  0.44153624 -0.3678726 ]\n",
      "\n",
      "2 split out of 3 ...\n",
      "\tWorking on config 1 of 2: {'linear': [0.5], 'polynomial': [2, 3, 7], 'gaussian': [0.1, 0.5, 0.7]}\n",
      "Fold no. 1\n",
      "\t\tPerfomances computed for 200\n",
      "\t\tPerfomances computed for 400\n",
      "\t\tPerfomances computed for 600\n",
      "Fold no. 2\n",
      "\t\tPerfomances computed for 200\n",
      "\t\tPerfomances computed for 400\n",
      "\t\tPerfomances computed for 600\n",
      "Fold no. 3\n",
      "\t\tPerfomances computed for 200\n",
      "\t\tPerfomances computed for 400\n",
      "\t\tPerfomances computed for 600\n",
      "Validation complete, config selected:[[0.5, 2, 0.1], [0.5, 2, 0.1], [0.5, 7, 0.7]]\n",
      "\tWorking on config 2 of 2: {'linear': [0.2], 'polynomial': [4, 5, 8], 'gaussian': [0.7, 1]}\n",
      "Fold no. 1\n",
      "\t\tPerfomances computed for 200\n",
      "Fold no. 2\n",
      "\t\tPerfomances computed for 200\n",
      "Fold no. 3\n",
      "\t\tPerfomances computed for 200\n",
      "Validation complete, config selected:[[0.2, 4, 0.7], [0.2, 4, 0.7], [0.2, 8, 1]]\n",
      "\tResult of 2:\n",
      "CA: 0.2837406663017428\n",
      "Accuracy: 0.6140350877192983\n",
      "Precision: 0.6206896551724138\n",
      "Recall: 0.6206896551724138\n",
      "[linear:0.5, polynomial:2, gaussian:0.1, ]\n",
      "[linear:0.5, polynomial:2, gaussian:0.1, ]\n",
      "[linear:0.5, polynomial:7, gaussian:0.7, ]\n",
      "\n",
      "eta vector: [ 6.65807840e-02 -6.81167866e-01  4.24302361e-01 -5.01878444e-02\n",
      "  5.05384123e-01 -3.05950659e-01 -3.49745671e-04  2.08655833e-03\n",
      " -1.62223209e-03]\n",
      "\n",
      "CA: 0.2836699631384069\n",
      "Accuracy: 0.6666666666666666\n",
      "Precision: 0.65625\n",
      "Recall: 0.7241379310344828\n",
      "[linear:0.2, polynomial:4, gaussian:0.7, ]\n",
      "[linear:0.2, polynomial:4, gaussian:0.7, ]\n",
      "[linear:0.2, polynomial:8, gaussian:1, ]\n",
      "\n",
      "eta vector: [ 0.20018708 -0.6723368   0.17881164 -0.17634637  0.64897821 -0.14216919\n",
      " -0.00210096  0.04503985 -0.0374022 ]\n",
      "\n",
      "3 split out of 3 ...\n",
      "\tWorking on config 1 of 2: {'linear': [0.5], 'polynomial': [2, 3, 7], 'gaussian': [0.1, 0.5, 0.7]}\n",
      "Fold no. 1\n",
      "\t\tPerfomances computed for 200\n",
      "\t\tPerfomances computed for 400\n",
      "\t\tPerfomances computed for 600\n",
      "Fold no. 2\n",
      "\t\tPerfomances computed for 200\n",
      "\t\tPerfomances computed for 400\n",
      "\t\tPerfomances computed for 600\n",
      "Fold no. 3\n",
      "\t\tPerfomances computed for 200\n",
      "\t\tPerfomances computed for 400\n",
      "\t\tPerfomances computed for 600\n",
      "Validation complete, config selected:[[0.5, 7, 0.7], [0.5, 7, 0.7], [0.5, 7, 0.1]]\n",
      "\tWorking on config 2 of 2: {'linear': [0.2], 'polynomial': [4, 5, 8], 'gaussian': [0.7, 1]}\n",
      "Fold no. 1\n",
      "\t\tPerfomances computed for 200\n",
      "Fold no. 2\n",
      "\t\tPerfomances computed for 200\n",
      "Fold no. 3\n",
      "\t\tPerfomances computed for 200\n",
      "Validation complete, config selected:[[0.2, 8, 1], [0.2, 8, 1], [0.2, 4, 0.7]]\n",
      "\tResult of 3:\n",
      "CA: 0.26923127576431855\n",
      "Accuracy: 0.7017543859649122\n",
      "Precision: 0.6875\n",
      "Recall: 0.7586206896551724\n",
      "[linear:0.5, polynomial:7, gaussian:0.7, ]\n",
      "[linear:0.5, polynomial:7, gaussian:0.7, ]\n",
      "[linear:0.5, polynomial:7, gaussian:0.1, ]\n",
      "\n",
      "eta vector: [-0.12995393  0.20092515 -0.04246943 -0.15269519  0.41828959 -0.27740539\n",
      " -0.04033309 -0.07444234  0.81150061]\n",
      "\n",
      "CA: 0.2693368632653479\n",
      "Accuracy: 0.8245614035087719\n",
      "Precision: 0.7878787878787878\n",
      "Recall: 0.896551724137931\n",
      "[linear:0.2, polynomial:8, gaussian:1, ]\n",
      "[linear:0.2, polynomial:8, gaussian:1, ]\n",
      "[linear:0.2, polynomial:4, gaussian:0.7, ]\n",
      "\n",
      "eta vector: [-0.3183219   0.40430992 -0.06576124 -0.27604153  0.65114958 -0.42808207\n",
      "  0.06478457  0.19642094 -0.06821241]\n",
      "\n"
     ]
    }
   ],
   "source": [
    "result5 = sampler.sample(kernel_type, estimator, ds_list, y_, valid_fold = 3, verbose=True)"
   ]
  },
  {
   "cell_type": "code",
   "execution_count": 8,
   "metadata": {},
   "outputs": [
    {
     "name": "stdout",
     "output_type": "stream",
     "text": [
      "Perfomances computed for 1 dictionary settings:\n",
      "\tAccuracy: 0.7333333333333333\n",
      "\tPrecision: 0.7297297297297297\n",
      "\tRecall: 0.7297297297297297\n",
      "Perfomances computed for 2 dictionary settings:\n",
      "\tAccuracy: 0.7066666666666667\n",
      "\tPrecision: 0.6923076923076923\n",
      "\tRecall: 0.7297297297297297\n"
     ]
    }
   ],
   "source": [
    "w_dict, w_list = result5.votingOverCA(ds_names, kernel_names)\n",
    "ut.testConfigurations(estimator, y_, y_test, w_list, ds_list, ds_test, kernel_names)"
   ]
  },
  {
   "cell_type": "code",
   "execution_count": 10,
   "metadata": {},
   "outputs": [
    {
     "data": {
      "text/plain": [
       "[{'ds1': {'linear': 0.5, 'polynomial': 7, 'gaussian': 0.7},\n",
       "  'ds2': {'linear': 0.5, 'polynomial': 2, 'gaussian': 0.1},\n",
       "  'ds3': {'linear': 0.5, 'polynomial': 7, 'gaussian': 0.7}},\n",
       " {'ds1': {'linear': 0.2, 'polynomial': 8, 'gaussian': 1},\n",
       "  'ds2': {'linear': 0.2, 'polynomial': 4, 'gaussian': 0.7},\n",
       "  'ds3': {'linear': 0.2, 'polynomial': 8, 'gaussian': 1}}]"
      ]
     },
     "execution_count": 10,
     "metadata": {},
     "output_type": "execute_result"
    }
   ],
   "source": [
    "w_dict"
   ]
  },
  {
   "cell_type": "code",
   "execution_count": 9,
   "metadata": {
    "scrolled": true
   },
   "outputs": [
    {
     "name": "stdout",
     "output_type": "stream",
     "text": [
      "statistics of configuration 0\n",
      "{'config': {'linear': [[0.5, 0.5, 0.5], [0.5, 0.5, 0.5], [0.5, 0.5, 0.5]], 'polynomial': [[7, 2, 7], [2, 2, 7], [7, 7, 7]], 'gaussian': [[0.7, 0.1, 0.7], [0.1, 0.1, 0.7], [0.7, 0.7, 0.1]]}, 'CA': (0.265830078855572, 0.00026218314515649883), 'Accuracy': (0.5730994152046783, 0.01566293902397319), 'Precision': (0.5758481646273638, 0.012989017557719756), 'Recall': (0.6091954022988506, 0.016118377592812785), 'eta': (array([-0.02276001, -0.16314961,  0.13695711, -0.05157704,  0.0632759 ,\n",
      "        0.02797943, -0.02116098,  0.0051436 ,  0.2471284 ]), array([6.59701644e-03, 1.41530647e-01, 4.21358748e-02, 6.72422404e-03,\n",
      "       3.18965914e-01, 2.04497578e-01, 2.67788008e-04, 4.39104377e-03,\n",
      "       1.60003282e-01]))}\n",
      "statistics of configuration 1\n",
      "{'config': {'linear': [[0.2, 0.2, 0.2], [0.2, 0.2, 0.2], [0.2, 0.2, 0.2]], 'polynomial': [[8, 4, 8], [4, 4, 8], [8, 8, 4]], 'gaussian': [[1, 0.7, 1], [0.7, 0.7, 1], [1, 1, 0.7]]}, 'CA': (0.2658651026507633, 0.00026058692809240424), 'Accuracy': (0.783625730994152, 0.007044902705105848), 'Precision': (0.7541035353535355, 0.00494070279818386), 'Recall': (0.8505747126436782, 0.008191306645527809), 'eta': (array([-0.06431455, -0.08221023,  0.09183441, -0.21289336,  0.68955565,\n",
      "       -0.20133439, -0.01370473,  0.22766568, -0.15782907]), array([0.04486366, 0.19856184, 0.0124628 , 0.00201033, 0.00311998,\n",
      "       0.02766631, 0.00480399, 0.02668968, 0.02221735]))}\n"
     ]
    }
   ],
   "source": [
    "result5.performancesFeatures()"
   ]
  },
  {
   "cell_type": "markdown",
   "metadata": {},
   "source": [
    "## Origin Data  Centering and Normalization"
   ]
  },
  {
   "cell_type": "code",
   "execution_count": 11,
   "metadata": {},
   "outputs": [],
   "source": [
    "kernel_names = ['linear', 'polynomial', 'gaussian']\n",
    "kernel_type = [{'linear':[0.5], 'polynomial':[2, 3, 7], 'gaussian':[0.1, 0.5, 0.7]},\n",
    "               {'linear':[0.2], 'polynomial':[4, 5, 8], 'gaussian':[0.7, 1, 1.5]}]\n",
    "estimator = ca.centeredKernelAlignment\n",
    "sampler = ms.mySampler(n_splits=3, test_size=.25, centering = True, normalizing = True)"
   ]
  },
  {
   "cell_type": "code",
   "execution_count": 16,
   "metadata": {},
   "outputs": [
    {
     "name": "stdout",
     "output_type": "stream",
     "text": [
      "1 split out of 3 ...\n",
      "\tWorking on config 1 of 2: {'linear': [0.5], 'polynomial': [2, 3, 7], 'gaussian': [0.1, 0.5, 0.7]}\n",
      "Fold no. 1\n",
      "\t\tPerfomances computed for 200\n",
      "\t\tPerfomances computed for 400\n",
      "\t\tPerfomances computed for 600\n",
      "Fold no. 2\n",
      "\t\tPerfomances computed for 200\n",
      "\t\tPerfomances computed for 400\n",
      "\t\tPerfomances computed for 600\n",
      "Fold no. 3\n",
      "\t\tPerfomances computed for 200\n",
      "\t\tPerfomances computed for 400\n",
      "\t\tPerfomances computed for 600\n",
      "Validation complete, config selected:[[0.5, 7, 0.7], [0.5, 2, 0.1], [0.5, 2, 0.7]]\n",
      "\tWorking on config 2 of 2: {'linear': [0.2], 'polynomial': [4, 5, 8], 'gaussian': [0.7, 1, 1.5]}\n",
      "Fold no. 1\n",
      "\t\tPerfomances computed for 200\n",
      "\t\tPerfomances computed for 400\n",
      "\t\tPerfomances computed for 600\n",
      "Fold no. 2\n",
      "\t\tPerfomances computed for 200\n",
      "\t\tPerfomances computed for 400\n",
      "\t\tPerfomances computed for 600\n",
      "Fold no. 3\n",
      "\t\tPerfomances computed for 200\n",
      "\t\tPerfomances computed for 400\n",
      "\t\tPerfomances computed for 600\n",
      "Validation complete, config selected:[[0.2, 4, 1.5], [0.2, 4, 0.7], [0.2, 4, 1.5]]\n",
      "\tResult of 1:\n",
      "CA: 0.2439988115920097\n",
      "Accuracy: 0.9122807017543859\n",
      "Precision: 0.9\n",
      "Recall: 0.9310344827586207\n",
      "[linear:0.5, polynomial:7, gaussian:0.7, ]\n",
      "[linear:0.5, polynomial:2, gaussian:0.1, ]\n",
      "[linear:0.5, polynomial:2, gaussian:0.7, ]\n",
      "\n",
      "eta vector: [-3.44087197e-03 -5.18671513e-04  1.09123531e-02  5.78646223e-02\n",
      " -6.41023060e-01  4.55278453e-01 -1.07283416e-01  6.05259042e-01\n",
      " -2.19823661e-02]\n",
      "\n",
      "CA: 0.24416553657711235\n",
      "Accuracy: 0.9122807017543859\n",
      "Precision: 0.9\n",
      "Recall: 0.9310344827586207\n",
      "[linear:0.2, polynomial:4, gaussian:1.5, ]\n",
      "[linear:0.2, polynomial:4, gaussian:0.7, ]\n",
      "[linear:0.2, polynomial:4, gaussian:1.5, ]\n",
      "\n",
      "eta vector: [-0.16830919  0.40331933  0.05062104  0.07635712 -0.11938262  0.09039278\n",
      " -0.22754131  0.84095322 -0.1386081 ]\n",
      "\n",
      "2 split out of 3 ...\n",
      "\tWorking on config 1 of 2: {'linear': [0.5], 'polynomial': [2, 3, 7], 'gaussian': [0.1, 0.5, 0.7]}\n",
      "Fold no. 1\n",
      "\t\tPerfomances computed for 200\n",
      "\t\tPerfomances computed for 400\n",
      "\t\tPerfomances computed for 600\n",
      "Fold no. 2\n",
      "\t\tPerfomances computed for 200\n",
      "\t\tPerfomances computed for 400\n",
      "\t\tPerfomances computed for 600\n",
      "Fold no. 3\n",
      "\t\tPerfomances computed for 200\n",
      "\t\tPerfomances computed for 400\n",
      "\t\tPerfomances computed for 600\n",
      "Validation complete, config selected:[[0.5, 2, 0.1], [0.5, 2, 0.1], [0.5, 7, 0.7]]\n",
      "\tWorking on config 2 of 2: {'linear': [0.2], 'polynomial': [4, 5, 8], 'gaussian': [0.7, 1, 1.5]}\n",
      "Fold no. 1\n",
      "\t\tPerfomances computed for 200\n",
      "\t\tPerfomances computed for 400\n",
      "\t\tPerfomances computed for 600\n",
      "Fold no. 2\n",
      "\t\tPerfomances computed for 200\n",
      "\t\tPerfomances computed for 400\n",
      "\t\tPerfomances computed for 600\n",
      "Fold no. 3\n",
      "\t\tPerfomances computed for 200\n",
      "\t\tPerfomances computed for 400\n",
      "\t\tPerfomances computed for 600\n",
      "Validation complete, config selected:[[0.2, 4, 0.7], [0.2, 4, 0.7], [0.2, 8, 1.5]]\n",
      "\tResult of 2:\n",
      "CA: 0.24924328592455988\n",
      "Accuracy: 0.9122807017543859\n",
      "Precision: 0.875\n",
      "Recall: 0.9655172413793104\n",
      "[linear:0.5, polynomial:2, gaussian:0.1, ]\n",
      "[linear:0.5, polynomial:2, gaussian:0.1, ]\n",
      "[linear:0.5, polynomial:7, gaussian:0.7, ]\n",
      "\n",
      "eta vector: [ 7.99449631e-02 -8.36389366e-01  5.32192167e-01 -9.70952747e-03\n",
      "  9.15260357e-02 -4.83693261e-02 -7.51224902e-04  3.55118497e-03\n",
      " -3.01191825e-03]\n",
      "\n",
      "CA: 0.24923672251046808\n",
      "Accuracy: 0.9122807017543859\n",
      "Precision: 0.875\n",
      "Recall: 0.9655172413793104\n",
      "[linear:0.2, polynomial:4, gaussian:0.7, ]\n",
      "[linear:0.2, polynomial:4, gaussian:0.7, ]\n",
      "[linear:0.2, polynomial:8, gaussian:1.5, ]\n",
      "\n",
      "eta vector: [ 0.24087115 -0.86606462  0.27852237 -0.07267427  0.31359015 -0.04305524\n",
      " -0.00677278  0.06904603 -0.06364865]\n",
      "\n",
      "3 split out of 3 ...\n",
      "\tWorking on config 1 of 2: {'linear': [0.5], 'polynomial': [2, 3, 7], 'gaussian': [0.1, 0.5, 0.7]}\n",
      "Fold no. 1\n",
      "\t\tPerfomances computed for 200\n",
      "\t\tPerfomances computed for 400\n",
      "\t\tPerfomances computed for 600\n",
      "Fold no. 2\n",
      "\t\tPerfomances computed for 200\n",
      "\t\tPerfomances computed for 400\n",
      "\t\tPerfomances computed for 600\n",
      "Fold no. 3\n",
      "\t\tPerfomances computed for 200\n",
      "\t\tPerfomances computed for 400\n",
      "\t\tPerfomances computed for 600\n",
      "Validation complete, config selected:[[0.5, 2, 0.7], [0.5, 2, 0.1], [0.5, 7, 0.7]]\n",
      "\tWorking on config 2 of 2: {'linear': [0.2], 'polynomial': [4, 5, 8], 'gaussian': [0.7, 1, 1.5]}\n",
      "Fold no. 1\n",
      "\t\tPerfomances computed for 200\n",
      "\t\tPerfomances computed for 400\n",
      "\t\tPerfomances computed for 600\n",
      "Fold no. 2\n",
      "\t\tPerfomances computed for 200\n",
      "\t\tPerfomances computed for 400\n",
      "\t\tPerfomances computed for 600\n",
      "Fold no. 3\n",
      "\t\tPerfomances computed for 200\n",
      "\t\tPerfomances computed for 400\n",
      "\t\tPerfomances computed for 600\n",
      "Validation complete, config selected:[[0.2, 4, 1.5], [0.2, 4, 0.7], [0.2, 8, 1.5]]\n",
      "\tResult of 3:\n",
      "CA: 0.27545945524074034\n",
      "Accuracy: 0.9122807017543859\n",
      "Precision: 0.875\n",
      "Recall: 0.9655172413793104\n",
      "[linear:0.5, polynomial:2, gaussian:0.7, ]\n",
      "[linear:0.5, polynomial:2, gaussian:0.1, ]\n",
      "[linear:0.5, polynomial:7, gaussian:0.7, ]\n",
      "\n",
      "eta vector: [-0.01524945  0.06686761  0.00441989 -0.09454887  0.87624523 -0.46681484\n",
      " -0.00439842  0.01945398 -0.0147496 ]\n",
      "\n",
      "CA: 0.27569772274098064\n",
      "Accuracy: 0.9122807017543859\n",
      "Precision: 0.875\n",
      "Recall: 0.9655172413793104\n",
      "[linear:0.2, polynomial:4, gaussian:1.5, ]\n",
      "[linear:0.2, polynomial:4, gaussian:0.7, ]\n",
      "[linear:0.2, polynomial:8, gaussian:1.5, ]\n",
      "\n",
      "eta vector: [-0.21923234  0.52015431  0.02910173 -0.19162567  0.77189956 -0.08080128\n",
      " -0.02456533  0.16311761 -0.11933472]\n",
      "\n"
     ]
    }
   ],
   "source": [
    "result6 = sampler.sample(kernel_type, estimator, ds_list, y_, valid_fold = 3, verbose=True)"
   ]
  },
  {
   "cell_type": "code",
   "execution_count": 17,
   "metadata": {},
   "outputs": [
    {
     "name": "stdout",
     "output_type": "stream",
     "text": [
      "Perfomances computed for 1 dictionary settings:\n",
      "\tAccuracy: 0.7466666666666667\n",
      "\tPrecision: 0.7368421052631579\n",
      "\tRecall: 0.7567567567567568\n",
      "Perfomances computed for 2 dictionary settings:\n",
      "\tAccuracy: 0.6933333333333334\n",
      "\tPrecision: 0.6944444444444444\n",
      "\tRecall: 0.6756756756756757\n"
     ]
    }
   ],
   "source": [
    "w_dict, w_list = result6.votingOverCA(ds_names, kernel_names)\n",
    "ut.testConfigurations(estimator, y_, y_test, w_list, ds_list, ds_test, kernel_names)"
   ]
  },
  {
   "cell_type": "code",
   "execution_count": 18,
   "metadata": {},
   "outputs": [
    {
     "data": {
      "text/plain": [
       "[{'ds1': {'linear': 0.5, 'polynomial': 2, 'gaussian': 0.7},\n",
       "  'ds2': {'linear': 0.5, 'polynomial': 2, 'gaussian': 0.1},\n",
       "  'ds3': {'linear': 0.5, 'polynomial': 7, 'gaussian': 0.7}},\n",
       " {'ds1': {'linear': 0.2, 'polynomial': 4, 'gaussian': 1.5},\n",
       "  'ds2': {'linear': 0.2, 'polynomial': 4, 'gaussian': 0.7},\n",
       "  'ds3': {'linear': 0.2, 'polynomial': 8, 'gaussian': 1.5}}]"
      ]
     },
     "execution_count": 18,
     "metadata": {},
     "output_type": "execute_result"
    }
   ],
   "source": [
    "w_dict"
   ]
  },
  {
   "cell_type": "code",
   "execution_count": 19,
   "metadata": {
    "scrolled": true
   },
   "outputs": [
    {
     "name": "stdout",
     "output_type": "stream",
     "text": [
      "statistics of configuration 0\n",
      "{'config': {'linear': [[0.5, 0.5, 0.5], [0.5, 0.5, 0.5], [0.5, 0.5, 0.5]], 'polynomial': [[7, 2, 2], [2, 2, 7], [2, 2, 7]], 'gaussian': [[0.7, 0.1, 0.7], [0.1, 0.1, 0.7], [0.7, 0.1, 0.7]]}, 'CA': (0.2562338509191033, 0.0001893960159368705), 'Accuracy': (0.9122807017543858, 1.232595164407831e-32), 'Precision': (0.8833333333333333, 0.00013888888888888916), 'Recall': (0.9540229885057472, 0.00026423569824283365), 'eta': (array([ 0.02041821, -0.25668014,  0.18250814, -0.01546459,  0.10891607,\n",
      "       -0.01996857, -0.03747769,  0.2094214 , -0.01324796]), array([1.79495734e-03, 1.68788211e-01, 6.11464856e-02, 3.88820556e-03,\n",
      "       3.83835052e-01, 1.42112640e-01, 2.43863699e-03, 7.83858689e-02,\n",
      "       6.11071051e-05]))}\n",
      "statistics of configuration 1\n",
      "{'config': {'linear': [[0.2, 0.2, 0.2], [0.2, 0.2, 0.2], [0.2, 0.2, 0.2]], 'polynomial': [[4, 4, 4], [4, 4, 8], [4, 4, 8]], 'gaussian': [[1.5, 0.7, 1.5], [0.7, 0.7, 1.5], [1.5, 0.7, 1.5]]}, 'CA': (0.25636666060952035, 0.0001911311360269665), 'Accuracy': (0.9122807017543858, 1.232595164407831e-32), 'Precision': (0.8833333333333333, 0.00013888888888888916), 'Recall': (0.9540229885057472, 0.00026423569824283365), 'eta': (array([-0.04889013,  0.01913634,  0.11941505, -0.06264761,  0.3220357 ,\n",
      "       -0.01115458, -0.08629314,  0.35770562, -0.10719716]), array([0.04241299, 0.39406544, 0.01273475, 0.0120194 , 0.13243298,\n",
      "       0.00539339, 0.01002829, 0.11823903, 0.00101015]))}\n"
     ]
    }
   ],
   "source": [
    "result6.performancesFeatures()"
   ]
  },
  {
   "cell_type": "markdown",
   "metadata": {},
   "source": [
    "## Normalization, Kernel Normalization"
   ]
  },
  {
   "cell_type": "code",
   "execution_count": 20,
   "metadata": {},
   "outputs": [],
   "source": [
    "kernel_names = ['linear', 'polynomial', 'gaussian']\n",
    "kernel_type = [{'linear':[0.5], 'polynomial':[2, 3,4], 'gaussian':[0.1, 0.3, 0.6]},\n",
    "               {'linear':[0.2], 'polynomial':[4, 5, 8], 'gaussian':[0.7, 1]}\n",
    "              ]\n",
    "estimator = ca.centeredKernelAlignment\n",
    "sampler = ms.mySampler(n_splits=3, test_size=.25, normalizing = True, normalize_kernels = True)"
   ]
  },
  {
   "cell_type": "code",
   "execution_count": 22,
   "metadata": {},
   "outputs": [
    {
     "name": "stdout",
     "output_type": "stream",
     "text": [
      "1 split out of 3 ...\n",
      "\tWorking on config 1 of 2: {'linear': [0.5], 'polynomial': [2, 3, 4], 'gaussian': [0.1, 0.3, 0.6]}\n",
      "Fold no. 1\n",
      "\t\tPerfomances computed for 200\n",
      "\t\tPerfomances computed for 400\n",
      "\t\tPerfomances computed for 600\n",
      "Fold no. 2\n",
      "\t\tPerfomances computed for 200\n",
      "\t\tPerfomances computed for 400\n",
      "\t\tPerfomances computed for 600\n",
      "Fold no. 3\n",
      "\t\tPerfomances computed for 200\n",
      "\t\tPerfomances computed for 400\n",
      "\t\tPerfomances computed for 600\n",
      "Validation complete, config selected:[[0.5, 4, 0.1], [0.5, 3, 0.1], [0.5, 4, 0.1]]\n",
      "\tWorking on config 2 of 2: {'linear': [0.2], 'polynomial': [4, 5, 8], 'gaussian': [0.7, 1]}\n",
      "Fold no. 1\n",
      "\t\tPerfomances computed for 200\n",
      "Fold no. 2\n",
      "\t\tPerfomances computed for 200\n",
      "Fold no. 3\n",
      "\t\tPerfomances computed for 200\n",
      "Validation complete, config selected:[[0.2, 8, 0.7], [0.2, 8, 1], [0.2, 8, 1]]\n",
      "\tResult of 1:\n",
      "CA: 0.25573628307992285\n",
      "Accuracy: 0.9122807017543859\n",
      "Precision: 0.875\n",
      "Recall: 0.9655172413793104\n",
      "[linear:0.5, polynomial:4, gaussian:0.1, ]\n",
      "[linear:0.5, polynomial:3, gaussian:0.1, ]\n",
      "[linear:0.5, polynomial:4, gaussian:0.1, ]\n",
      "\n",
      "eta vector: [ 0.00134989  0.20940866 -0.4290442  -0.00762966 -0.42264448  0.76884462\n",
      "  0.00460571 -0.02826349  0.03792894]\n",
      "\n",
      "CA: 0.2545808076408487\n",
      "Accuracy: 0.8947368421052632\n",
      "Precision: 0.8709677419354839\n",
      "Recall: 0.9310344827586207\n",
      "[linear:0.2, polynomial:8, gaussian:0.7, ]\n",
      "[linear:0.2, polynomial:8, gaussian:1, ]\n",
      "[linear:0.2, polynomial:8, gaussian:1, ]\n",
      "\n",
      "eta vector: [ 0.0098351  -0.30075996  0.17663057 -0.12758316  0.90566534 -0.14372457\n",
      "  0.08076881 -0.11872643  0.02156103]\n",
      "\n",
      "2 split out of 3 ...\n",
      "\tWorking on config 1 of 2: {'linear': [0.5], 'polynomial': [2, 3, 4], 'gaussian': [0.1, 0.3, 0.6]}\n",
      "Fold no. 1\n",
      "\t\tPerfomances computed for 200\n",
      "\t\tPerfomances computed for 400\n",
      "\t\tPerfomances computed for 600\n",
      "Fold no. 2\n",
      "\t\tPerfomances computed for 200\n",
      "\t\tPerfomances computed for 400\n",
      "\t\tPerfomances computed for 600\n",
      "Fold no. 3\n",
      "\t\tPerfomances computed for 200\n",
      "\t\tPerfomances computed for 400\n",
      "\t\tPerfomances computed for 600\n",
      "Validation complete, config selected:[[0.5, 4, 0.6], [0.5, 3, 0.1], [0.5, 3, 0.1]]\n",
      "\tWorking on config 2 of 2: {'linear': [0.2], 'polynomial': [4, 5, 8], 'gaussian': [0.7, 1]}\n",
      "Fold no. 1\n",
      "\t\tPerfomances computed for 200\n",
      "Fold no. 2\n",
      "\t\tPerfomances computed for 200\n",
      "Fold no. 3\n",
      "\t\tPerfomances computed for 200\n",
      "Validation complete, config selected:[[0.2, 4, 0.7], [0.2, 8, 1], [0.2, 8, 1]]\n",
      "\tResult of 2:\n",
      "CA: 0.2891960067515225\n",
      "Accuracy: 0.8070175438596491\n",
      "Precision: 0.8\n",
      "Recall: 0.8275862068965517\n",
      "[linear:0.5, polynomial:4, gaussian:0.6, ]\n",
      "[linear:0.5, polynomial:3, gaussian:0.1, ]\n",
      "[linear:0.5, polynomial:3, gaussian:0.1, ]\n",
      "\n",
      "eta vector: [ 0.00074466 -0.02575411  0.0071369  -0.00592761 -0.34080524  0.62467736\n",
      " -0.00186342 -0.36028188  0.60255587]\n",
      "\n",
      "CA: 0.29024246775028306\n",
      "Accuracy: 0.8070175438596491\n",
      "Precision: 0.8\n",
      "Recall: 0.8275862068965517\n",
      "[linear:0.2, polynomial:4, gaussian:0.7, ]\n",
      "[linear:0.2, polynomial:8, gaussian:1, ]\n",
      "[linear:0.2, polynomial:8, gaussian:1, ]\n",
      "\n",
      "eta vector: [ 0.01249554 -0.50177089  0.13457087 -0.09282002  0.69552918 -0.1053965\n",
      " -0.03623385  0.46693273 -0.08447856]\n",
      "\n",
      "3 split out of 3 ...\n",
      "\tWorking on config 1 of 2: {'linear': [0.5], 'polynomial': [2, 3, 4], 'gaussian': [0.1, 0.3, 0.6]}\n",
      "Fold no. 1\n",
      "\t\tPerfomances computed for 200\n",
      "\t\tPerfomances computed for 400\n",
      "\t\tPerfomances computed for 600\n",
      "Fold no. 2\n",
      "\t\tPerfomances computed for 200\n",
      "\t\tPerfomances computed for 400\n",
      "\t\tPerfomances computed for 600\n",
      "Fold no. 3\n",
      "\t\tPerfomances computed for 200\n",
      "\t\tPerfomances computed for 400\n",
      "\t\tPerfomances computed for 600\n",
      "Validation complete, config selected:[[0.5, 2, 0.3], [0.5, 4, 0.6], [0.5, 4, 0.1]]\n",
      "\tWorking on config 2 of 2: {'linear': [0.2], 'polynomial': [4, 5, 8], 'gaussian': [0.7, 1]}\n",
      "Fold no. 1\n",
      "\t\tPerfomances computed for 200\n",
      "Fold no. 2\n",
      "\t\tPerfomances computed for 200\n",
      "Fold no. 3\n",
      "\t\tPerfomances computed for 200\n",
      "Validation complete, config selected:[[0.2, 4, 0.7], [0.2, 8, 1], [0.2, 8, 1]]\n",
      "\tResult of 3:\n",
      "CA: 0.28682010172684674\n",
      "Accuracy: 0.7719298245614035\n",
      "Precision: 0.7222222222222222\n",
      "Recall: 0.896551724137931\n",
      "[linear:0.5, polynomial:2, gaussian:0.3, ]\n",
      "[linear:0.5, polynomial:4, gaussian:0.6, ]\n",
      "[linear:0.5, polynomial:4, gaussian:0.1, ]\n",
      "\n",
      "eta vector: [ 0.00423547 -0.72793541  0.22716077 -0.04999696  0.55886265 -0.05151857\n",
      "  0.01639188 -0.14462205  0.28253234]\n",
      "\n",
      "CA: 0.28648788867558567\n",
      "Accuracy: 0.7719298245614035\n",
      "Precision: 0.7222222222222222\n",
      "Recall: 0.896551724137931\n",
      "[linear:0.2, polynomial:4, gaussian:0.7, ]\n",
      "[linear:0.2, polynomial:8, gaussian:1, ]\n",
      "[linear:0.2, polynomial:8, gaussian:1, ]\n",
      "\n",
      "eta vector: [ 6.27450683e-04 -4.59793615e-01  1.48519883e-01 -1.24906428e-01\n",
      "  8.52283273e-01 -1.49115830e-01  4.73973949e-02 -7.37952637e-03\n",
      "  2.52729612e-03]\n",
      "\n"
     ]
    }
   ],
   "source": [
    "result10 = sampler.sample(kernel_type, estimator, ds_list, y_, valid_fold = 3, verbose=True)"
   ]
  },
  {
   "cell_type": "code",
   "execution_count": 23,
   "metadata": {},
   "outputs": [
    {
     "name": "stdout",
     "output_type": "stream",
     "text": [
      "Perfomances computed for 1 dictionary settings:\n",
      "\tAccuracy: 0.72\n",
      "\tPrecision: 0.7222222222222222\n",
      "\tRecall: 0.7027027027027027\n",
      "Perfomances computed for 2 dictionary settings:\n",
      "\tAccuracy: 0.7333333333333333\n",
      "\tPrecision: 0.7428571428571429\n",
      "\tRecall: 0.7027027027027027\n"
     ]
    }
   ],
   "source": [
    "w_dict, w_list = result10.votingOverCA(ds_names, kernel_names)\n",
    "ut.testConfigurations(estimator, y_, y_test, w_list, ds_list, ds_test, kernel_names)"
   ]
  },
  {
   "cell_type": "code",
   "execution_count": 25,
   "metadata": {},
   "outputs": [
    {
     "data": {
      "text/plain": [
       "[{'ds1': {'linear': 0.5, 'polynomial': 4, 'gaussian': 0.6},\n",
       "  'ds2': {'linear': 0.5, 'polynomial': 3, 'gaussian': 0.1},\n",
       "  'ds3': {'linear': 0.5, 'polynomial': 4, 'gaussian': 0.1}},\n",
       " {'ds1': {'linear': 0.2, 'polynomial': 4, 'gaussian': 0.7},\n",
       "  'ds2': {'linear': 0.2, 'polynomial': 8, 'gaussian': 1},\n",
       "  'ds3': {'linear': 0.2, 'polynomial': 8, 'gaussian': 1}}]"
      ]
     },
     "execution_count": 25,
     "metadata": {},
     "output_type": "execute_result"
    }
   ],
   "source": [
    "w_dict"
   ]
  },
  {
   "cell_type": "code",
   "execution_count": 24,
   "metadata": {
    "scrolled": false
   },
   "outputs": [
    {
     "name": "stdout",
     "output_type": "stream",
     "text": [
      "statistics of configuration 0\n",
      "{'config': {'linear': [[0.5, 0.5, 0.5], [0.5, 0.5, 0.5], [0.5, 0.5, 0.5]], 'polynomial': [[4, 3, 4], [4, 3, 3], [2, 4, 4]], 'gaussian': [[0.1, 0.1, 0.1], [0.6, 0.1, 0.1], [0.3, 0.6, 0.1]]}, 'CA': (0.27725079718609735, 0.00023237797939343774), 'Accuracy': (0.8304093567251462, 0.0035566499093738235), 'Precision': (0.799074074074074, 0.003890603566529493), 'Recall': (0.896551724137931, 0.003170828378913994), 'eta': (array([ 0.00211001, -0.18142696, -0.06491551, -0.02118474, -0.06819569,\n",
      "        0.44733447,  0.00637805, -0.17772248,  0.30767238]), array([2.31984722e-06, 1.58552667e-01, 7.43632699e-02, 4.15554808e-04,\n",
      "       1.97717359e-01, 1.27891210e-01, 5.71132707e-05, 1.89205209e-02,\n",
      "       5.34499393e-02]))}\n",
      "statistics of configuration 1\n",
      "{'config': {'linear': [[0.2, 0.2, 0.2], [0.2, 0.2, 0.2], [0.2, 0.2, 0.2]], 'polynomial': [[8, 8, 8], [4, 8, 8], [4, 8, 8]], 'gaussian': [[0.7, 1, 1], [0.7, 1, 1], [0.7, 1, 1]]}, 'CA': (0.2771037213555725, 0.0002559902984384717), 'Accuracy': (0.8245614035087719, 0.0026674874320303707), 'Precision': (0.7977299880525687, 0.0036901147495821264), 'Recall': (0.8850574712643677, 0.0018496498876998278), 'eta': (array([ 0.0076527 , -0.42077482,  0.15324044, -0.1151032 ,  0.81782593,\n",
      "       -0.13274563,  0.03064412,  0.11360893, -0.02013008]), array([2.58567090e-05, 7.49546572e-03, 3.05978318e-04, 2.49464298e-04,\n",
      "       7.95318823e-03, 3.78831742e-04, 2.42193994e-03, 6.44852119e-02,\n",
      "       2.13074381e-03]))}\n"
     ]
    }
   ],
   "source": [
    "result10.performancesFeatures()"
   ]
  },
  {
   "cell_type": "markdown",
   "metadata": {},
   "source": [
    "## Centering, Kernel Normalization"
   ]
  },
  {
   "cell_type": "code",
   "execution_count": 26,
   "metadata": {},
   "outputs": [],
   "source": [
    "kernel_names = ['linear', 'polynomial', 'gaussian']\n",
    "kernel_type = [{'linear':[0.5], 'polynomial':[2, 3,4], 'gaussian':[0.1, 0.3, 0.6]},\n",
    "               {'linear':[0.2], 'polynomial':[4, 5, 8], 'gaussian':[0.7, 1]}\n",
    "              ]\n",
    "estimator = ca.centeredKernelAlignment\n",
    "sampler = ms.mySampler(n_splits=3, test_size=.25, centering = True, normalize_kernels = True)"
   ]
  },
  {
   "cell_type": "code",
   "execution_count": 29,
   "metadata": {
    "scrolled": true
   },
   "outputs": [
    {
     "name": "stdout",
     "output_type": "stream",
     "text": [
      "1 split out of 3 ...\n",
      "\tWorking on config 1 of 2: {'linear': [0.5], 'polynomial': [2, 3, 4], 'gaussian': [0.1, 0.3, 0.6]}\n",
      "Fold no. 1\n",
      "\t\tPerfomances computed for 200\n",
      "\t\tPerfomances computed for 400\n",
      "\t\tPerfomances computed for 600\n",
      "Fold no. 2\n",
      "\t\tPerfomances computed for 200\n",
      "\t\tPerfomances computed for 400\n",
      "\t\tPerfomances computed for 600\n",
      "Fold no. 3\n",
      "\t\tPerfomances computed for 200\n",
      "\t\tPerfomances computed for 400\n",
      "\t\tPerfomances computed for 600\n",
      "Validation complete, config selected:[[0.5, 2, 0.1], [0.5, 4, 0.6], [0.5, 4, 0.6]]\n",
      "\tWorking on config 2 of 2: {'linear': [0.2], 'polynomial': [4, 5, 8], 'gaussian': [0.7, 1]}\n",
      "Fold no. 1\n",
      "\t\tPerfomances computed for 200\n",
      "Fold no. 2\n",
      "\t\tPerfomances computed for 200\n",
      "Fold no. 3\n",
      "\t\tPerfomances computed for 200\n",
      "Validation complete, config selected:[[0.2, 5, 0.7], [0.2, 8, 1], [0.2, 8, 1]]\n",
      "\tResult of 1:\n",
      "CA: 0.2496631169403161\n",
      "Accuracy: 0.8421052631578947\n",
      "Precision: 0.7941176470588235\n",
      "Recall: 0.9310344827586207\n",
      "[linear:0.5, polynomial:2, gaussian:0.1, ]\n",
      "[linear:0.5, polynomial:4, gaussian:0.6, ]\n",
      "[linear:0.5, polynomial:4, gaussian:0.6, ]\n",
      "\n",
      "eta vector: [-6.13516852e-05 -7.05989896e-01  7.03613491e-01 -6.18515747e-03\n",
      "  7.82647043e-02 -4.45946958e-03  1.21200802e-03  1.78723697e-02\n",
      " -1.38590071e-03]\n",
      "\n",
      "CA: 0.2509866386316741\n",
      "Accuracy: 0.8245614035087719\n",
      "Precision: 0.7878787878787878\n",
      "Recall: 0.896551724137931\n",
      "[linear:0.2, polynomial:5, gaussian:0.7, ]\n",
      "[linear:0.2, polynomial:8, gaussian:1, ]\n",
      "[linear:0.2, polynomial:8, gaussian:1, ]\n",
      "\n",
      "eta vector: [-0.02415115 -0.38049852  0.20525353 -0.10787512  0.86221836 -0.13390574\n",
      "  0.01932667  0.19544124 -0.03081393]\n",
      "\n",
      "2 split out of 3 ...\n",
      "\tWorking on config 1 of 2: {'linear': [0.5], 'polynomial': [2, 3, 4], 'gaussian': [0.1, 0.3, 0.6]}\n",
      "Fold no. 1\n",
      "\t\tPerfomances computed for 200\n",
      "\t\tPerfomances computed for 400\n",
      "\t\tPerfomances computed for 600\n",
      "Fold no. 2\n",
      "\t\tPerfomances computed for 200\n",
      "\t\tPerfomances computed for 400\n",
      "\t\tPerfomances computed for 600\n",
      "Fold no. 3\n",
      "\t\tPerfomances computed for 200\n",
      "\t\tPerfomances computed for 400\n",
      "\t\tPerfomances computed for 600\n",
      "Validation complete, config selected:[[0.5, 4, 0.6], [0.5, 4, 0.6], [0.5, 4, 0.6]]\n",
      "\tWorking on config 2 of 2: {'linear': [0.2], 'polynomial': [4, 5, 8], 'gaussian': [0.7, 1]}\n",
      "Fold no. 1\n",
      "\t\tPerfomances computed for 200\n",
      "Fold no. 2\n",
      "\t\tPerfomances computed for 200\n",
      "Fold no. 3\n",
      "\t\tPerfomances computed for 200\n",
      "Validation complete, config selected:[[0.2, 8, 0.7], [0.2, 8, 0.7], [0.2, 8, 1]]\n",
      "\tResult of 2:\n",
      "CA: 0.2498457567622714\n",
      "Accuracy: 0.7192982456140351\n",
      "Precision: 0.76\n",
      "Recall: 0.6551724137931034\n",
      "[linear:0.5, polynomial:4, gaussian:0.6, ]\n",
      "[linear:0.5, polynomial:4, gaussian:0.6, ]\n",
      "[linear:0.5, polynomial:4, gaussian:0.6, ]\n",
      "\n",
      "eta vector: [-0.00546974 -0.23301853  0.10202057 -0.07265357  0.93705505 -0.09187238\n",
      "  0.04701157 -0.20163206  0.02464618]\n",
      "\n",
      "CA: 0.25043422627815365\n",
      "Accuracy: 0.7543859649122807\n",
      "Precision: 0.8\n",
      "Recall: 0.6896551724137931\n",
      "[linear:0.2, polynomial:8, gaussian:0.7, ]\n",
      "[linear:0.2, polynomial:8, gaussian:0.7, ]\n",
      "[linear:0.2, polynomial:8, gaussian:1, ]\n",
      "\n",
      "eta vector: [-0.0080877  -0.1971737   0.14593723 -0.08979042  0.91019212 -0.29182793\n",
      "  0.05462583 -0.12006987  0.02613697]\n",
      "\n",
      "3 split out of 3 ...\n",
      "\tWorking on config 1 of 2: {'linear': [0.5], 'polynomial': [2, 3, 4], 'gaussian': [0.1, 0.3, 0.6]}\n",
      "Fold no. 1\n",
      "\t\tPerfomances computed for 200\n",
      "\t\tPerfomances computed for 400\n",
      "\t\tPerfomances computed for 600\n",
      "Fold no. 2\n",
      "\t\tPerfomances computed for 200\n",
      "\t\tPerfomances computed for 400\n",
      "\t\tPerfomances computed for 600\n",
      "Fold no. 3\n",
      "\t\tPerfomances computed for 200\n",
      "\t\tPerfomances computed for 400\n",
      "\t\tPerfomances computed for 600\n",
      "Validation complete, config selected:[[0.5, 4, 0.6], [0.5, 4, 0.6], [0.5, 4, 0.6]]\n",
      "\tWorking on config 2 of 2: {'linear': [0.2], 'polynomial': [4, 5, 8], 'gaussian': [0.7, 1]}\n",
      "Fold no. 1\n",
      "\t\tPerfomances computed for 200\n",
      "Fold no. 2\n",
      "\t\tPerfomances computed for 200\n",
      "Fold no. 3\n",
      "\t\tPerfomances computed for 200\n",
      "Validation complete, config selected:[[0.2, 4, 0.7], [0.2, 8, 0.7], [0.2, 8, 1]]\n",
      "\tResult of 3:\n",
      "CA: 0.30295851194936435\n",
      "Accuracy: 0.6842105263157895\n",
      "Precision: 0.7037037037037037\n",
      "Recall: 0.6551724137931034\n",
      "[linear:0.5, polynomial:4, gaussian:0.6, ]\n",
      "[linear:0.5, polynomial:4, gaussian:0.6, ]\n",
      "[linear:0.5, polynomial:4, gaussian:0.6, ]\n",
      "\n",
      "eta vector: [-0.0066137  -0.16547834  0.07648881 -0.0808347   0.97492455 -0.08941162\n",
      "  0.03373896 -0.02367386 -0.00416042]\n",
      "\n",
      "CA: 0.30367998330062823\n",
      "Accuracy: 0.7192982456140351\n",
      "Precision: 0.7407407407407407\n",
      "Recall: 0.6896551724137931\n",
      "[linear:0.2, polynomial:4, gaussian:0.7, ]\n",
      "[linear:0.2, polynomial:8, gaussian:0.7, ]\n",
      "[linear:0.2, polynomial:8, gaussian:1, ]\n",
      "\n",
      "eta vector: [-0.0094106  -0.18029658  0.07987921 -0.09908094  0.93044535 -0.2882899\n",
      "  0.0419167  -0.02442399  0.00370184]\n",
      "\n"
     ]
    }
   ],
   "source": [
    "result11 = sampler.sample(kernel_type, estimator, ds_list, y_, valid_fold = 3, verbose=True)"
   ]
  },
  {
   "cell_type": "code",
   "execution_count": 30,
   "metadata": {},
   "outputs": [
    {
     "name": "stdout",
     "output_type": "stream",
     "text": [
      "Perfomances computed for 1 dictionary settings:\n",
      "\tAccuracy: 0.7333333333333333\n",
      "\tPrecision: 0.7428571428571429\n",
      "\tRecall: 0.7027027027027027\n",
      "Perfomances computed for 2 dictionary settings:\n",
      "\tAccuracy: 0.72\n",
      "\tPrecision: 0.7105263157894737\n",
      "\tRecall: 0.7297297297297297\n"
     ]
    }
   ],
   "source": [
    "w_dict, w_list = result11.votingOverCA(ds_names, kernel_names)\n",
    "ut.testConfigurations(estimator, y_, y_test, w_list, ds_list, ds_test, kernel_names)"
   ]
  },
  {
   "cell_type": "code",
   "execution_count": 31,
   "metadata": {},
   "outputs": [
    {
     "data": {
      "text/plain": [
       "[{'ds1': {'linear': 0.5, 'polynomial': 4, 'gaussian': 0.6},\n",
       "  'ds2': {'linear': 0.5, 'polynomial': 4, 'gaussian': 0.6},\n",
       "  'ds3': {'linear': 0.5, 'polynomial': 4, 'gaussian': 0.6}},\n",
       " {'ds1': {'linear': 0.2, 'polynomial': 4, 'gaussian': 0.7},\n",
       "  'ds2': {'linear': 0.2, 'polynomial': 8, 'gaussian': 0.7},\n",
       "  'ds3': {'linear': 0.2, 'polynomial': 8, 'gaussian': 1}}]"
      ]
     },
     "execution_count": 31,
     "metadata": {},
     "output_type": "execute_result"
    }
   ],
   "source": [
    "w_dict"
   ]
  },
  {
   "cell_type": "code",
   "execution_count": 32,
   "metadata": {
    "scrolled": true
   },
   "outputs": [
    {
     "name": "stdout",
     "output_type": "stream",
     "text": [
      "statistics of configuration 0\n",
      "{'config': {'linear': [[0.5, 0.5, 0.5], [0.5, 0.5, 0.5], [0.5, 0.5, 0.5]], 'polynomial': [[2, 4, 4], [4, 4, 4], [4, 4, 4]], 'gaussian': [[0.1, 0.6, 0.6], [0.6, 0.6, 0.6], [0.6, 0.6, 0.6]]}, 'CA': (0.2674891285506506, 0.0006290441388932356), 'Accuracy': (0.7485380116959064, 0.004582606614000885), 'Precision': (0.7526071169208425, 0.0013897742189481815), 'Recall': (0.7471264367816092, 0.01691108468754129), 'eta': (array([-0.00404827, -0.36816226,  0.29404096, -0.05322447,  0.66341477,\n",
      "       -0.06191449,  0.02732085, -0.06914452,  0.00636662]), array([8.16585312e-06, 5.78240366e-02, 8.39834753e-02, 1.11750382e-03,\n",
      "       1.71439314e-01, 1.65154898e-03, 3.70196099e-04, 9.06415631e-03,\n",
      "       1.68354130e-04]))}\n",
      "statistics of configuration 1\n",
      "{'config': {'linear': [[0.2, 0.2, 0.2], [0.2, 0.2, 0.2], [0.2, 0.2, 0.2]], 'polynomial': [[5, 8, 8], [8, 8, 8], [4, 8, 8]], 'gaussian': [[0.7, 1, 1], [0.7, 0.7, 1], [0.7, 0.7, 1]]}, 'CA': (0.2683669494034853, 0.000623556041411769), 'Accuracy': (0.7660818713450293, 0.0019151191819705207), 'Precision': (0.7762065095398428, 0.0006533976754702545), 'Recall': (0.7586206896551725, 0.009512485136741971), 'eta': (array([-1.38831521e-02, -2.52656269e-01,  1.43689989e-01, -9.89154925e-02,\n",
      "        9.00951943e-01, -2.38007856e-01,  3.86230679e-02,  1.69824563e-02,\n",
      "       -3.25042108e-04]), array([5.30075876e-05, 8.21929379e-03, 2.62231168e-03, 5.45230756e-05,\n",
      "       8.18510780e-04, 5.42071146e-03, 2.13095788e-04, 1.74484570e-02,\n",
      "       5.48675391e-04]))}\n"
     ]
    }
   ],
   "source": [
    "result11.performancesFeatures()"
   ]
  },
  {
   "cell_type": "markdown",
   "metadata": {},
   "source": [
    "## Centering, Normalization, Kernel Normalization"
   ]
  },
  {
   "cell_type": "code",
   "execution_count": 33,
   "metadata": {},
   "outputs": [],
   "source": [
    "kernel_names = ['linear', 'polynomial', 'gaussian']\n",
    "kernel_type = [{'linear':[0.5], 'polynomial':[2, 3,4], 'gaussian':[0.1, 0.3, 0.6]},\n",
    "               {'linear':[0.2], 'polynomial':[4, 5, 8], 'gaussian':[0.7, 1, 1.5]}\n",
    "              ]\n",
    "estimator = ca.centeredKernelAlignment\n",
    "sampler = ms.mySampler(n_splits=3, test_size=.25, centering = True, normalizing = True, normalize_kernels = True)"
   ]
  },
  {
   "cell_type": "code",
   "execution_count": 34,
   "metadata": {},
   "outputs": [
    {
     "name": "stdout",
     "output_type": "stream",
     "text": [
      "1 split out of 3 ...\n",
      "\tWorking on config 1 of 2: {'linear': [0.5], 'polynomial': [2, 3, 4], 'gaussian': [0.1, 0.3, 0.6]}\n",
      "Fold no. 1\n",
      "\t\tPerfomances computed for 200\n",
      "\t\tPerfomances computed for 400\n",
      "\t\tPerfomances computed for 600\n",
      "Fold no. 2\n",
      "\t\tPerfomances computed for 200\n",
      "\t\tPerfomances computed for 400\n",
      "\t\tPerfomances computed for 600\n",
      "Fold no. 3\n",
      "\t\tPerfomances computed for 200\n",
      "\t\tPerfomances computed for 400\n",
      "\t\tPerfomances computed for 600\n",
      "Validation complete, config selected:[[0.5, 4, 0.6], [0.5, 4, 0.6], [0.5, 4, 0.6]]\n",
      "\tWorking on config 2 of 2: {'linear': [0.2], 'polynomial': [4, 5, 8], 'gaussian': [0.7, 1, 1.5]}\n",
      "Fold no. 1\n",
      "\t\tPerfomances computed for 200\n",
      "\t\tPerfomances computed for 400\n",
      "\t\tPerfomances computed for 600\n",
      "Fold no. 2\n",
      "\t\tPerfomances computed for 200\n",
      "\t\tPerfomances computed for 400\n",
      "\t\tPerfomances computed for 600\n",
      "Fold no. 3\n",
      "\t\tPerfomances computed for 200\n",
      "\t\tPerfomances computed for 400\n",
      "\t\tPerfomances computed for 600\n",
      "Validation complete, config selected:[[0.2, 8, 1], [0.2, 8, 0.7], [0.2, 8, 1.5]]\n",
      "\tResult of 1:\n",
      "CA: 0.2964981051184835\n",
      "Accuracy: 0.7719298245614035\n",
      "Precision: 0.7352941176470589\n",
      "Recall: 0.8620689655172413\n",
      "[linear:0.5, polynomial:4, gaussian:0.6, ]\n",
      "[linear:0.5, polynomial:4, gaussian:0.6, ]\n",
      "[linear:0.5, polynomial:4, gaussian:0.6, ]\n",
      "\n",
      "eta vector: [ 0.00352058 -0.21373677  0.06797833 -0.0869482   0.96518061 -0.07995326\n",
      "  0.0160225   0.06172925 -0.00947624]\n",
      "\n",
      "CA: 0.2965355497702331\n",
      "Accuracy: 0.7894736842105263\n",
      "Precision: 0.7575757575757576\n",
      "Recall: 0.8620689655172413\n",
      "[linear:0.2, polynomial:8, gaussian:1, ]\n",
      "[linear:0.2, polynomial:8, gaussian:0.7, ]\n",
      "[linear:0.2, polynomial:8, gaussian:1.5, ]\n",
      "\n",
      "eta vector: [ 0.00216572 -0.10872929  0.05057166 -0.1080679   0.94406981 -0.28554704\n",
      "  0.02337208  0.02404918 -0.00274701]\n",
      "\n",
      "2 split out of 3 ...\n",
      "\tWorking on config 1 of 2: {'linear': [0.5], 'polynomial': [2, 3, 4], 'gaussian': [0.1, 0.3, 0.6]}\n",
      "Fold no. 1\n",
      "\t\tPerfomances computed for 200\n",
      "\t\tPerfomances computed for 400\n",
      "\t\tPerfomances computed for 600\n",
      "Fold no. 2\n",
      "\t\tPerfomances computed for 200\n",
      "\t\tPerfomances computed for 400\n",
      "\t\tPerfomances computed for 600\n",
      "Fold no. 3\n",
      "\t\tPerfomances computed for 200\n",
      "\t\tPerfomances computed for 400\n",
      "\t\tPerfomances computed for 600\n",
      "Validation complete, config selected:[[0.5, 2, 0.6], [0.5, 4, 0.6], [0.5, 4, 0.1]]\n",
      "\tWorking on config 2 of 2: {'linear': [0.2], 'polynomial': [4, 5, 8], 'gaussian': [0.7, 1, 1.5]}\n",
      "Fold no. 1\n",
      "\t\tPerfomances computed for 200\n",
      "\t\tPerfomances computed for 400\n",
      "\t\tPerfomances computed for 600\n",
      "Fold no. 2\n",
      "\t\tPerfomances computed for 200\n",
      "\t\tPerfomances computed for 400\n",
      "\t\tPerfomances computed for 600\n",
      "Fold no. 3\n",
      "\t\tPerfomances computed for 200\n",
      "\t\tPerfomances computed for 400\n",
      "\t\tPerfomances computed for 600\n",
      "Validation complete, config selected:[[0.2, 4, 0.7], [0.2, 4, 1.5], [0.2, 8, 1]]\n",
      "\tResult of 2:\n",
      "CA: 0.2693921942820676\n",
      "Accuracy: 0.8421052631578947\n",
      "Precision: 0.8125\n",
      "Recall: 0.896551724137931\n",
      "[linear:0.5, polynomial:2, gaussian:0.6, ]\n",
      "[linear:0.5, polynomial:4, gaussian:0.6, ]\n",
      "[linear:0.5, polynomial:4, gaussian:0.1, ]\n",
      "\n",
      "eta vector: [ 0.00810413 -0.27510801  0.0283666  -0.04280441  0.47211155 -0.02252448\n",
      "  0.02879105  0.31600281 -0.77300042]\n",
      "\n",
      "CA: 0.26944492371251594\n",
      "Accuracy: 0.8421052631578947\n",
      "Precision: 0.8125\n",
      "Recall: 0.896551724137931\n",
      "[linear:0.2, polynomial:4, gaussian:0.7, ]\n",
      "[linear:0.2, polynomial:4, gaussian:1.5, ]\n",
      "[linear:0.2, polynomial:8, gaussian:1, ]\n",
      "\n",
      "eta vector: [ 0.01483503 -0.31064043  0.06468039 -0.09243263  0.93867642 -0.01383386\n",
      "  0.05048479 -0.08003702  0.01719512]\n",
      "\n",
      "3 split out of 3 ...\n",
      "\tWorking on config 1 of 2: {'linear': [0.5], 'polynomial': [2, 3, 4], 'gaussian': [0.1, 0.3, 0.6]}\n",
      "Fold no. 1\n",
      "\t\tPerfomances computed for 200\n",
      "\t\tPerfomances computed for 400\n",
      "\t\tPerfomances computed for 600\n",
      "Fold no. 2\n",
      "\t\tPerfomances computed for 200\n",
      "\t\tPerfomances computed for 400\n",
      "\t\tPerfomances computed for 600\n",
      "Fold no. 3\n",
      "\t\tPerfomances computed for 200\n",
      "\t\tPerfomances computed for 400\n",
      "\t\tPerfomances computed for 600\n",
      "Validation complete, config selected:[[0.5, 4, 0.3], [0.5, 4, 0.6], [0.5, 4, 0.6]]\n",
      "\tWorking on config 2 of 2: {'linear': [0.2], 'polynomial': [4, 5, 8], 'gaussian': [0.7, 1, 1.5]}\n",
      "Fold no. 1\n",
      "\t\tPerfomances computed for 200\n",
      "\t\tPerfomances computed for 400\n",
      "\t\tPerfomances computed for 600\n",
      "Fold no. 2\n",
      "\t\tPerfomances computed for 200\n",
      "\t\tPerfomances computed for 400\n",
      "\t\tPerfomances computed for 600\n",
      "Fold no. 3\n",
      "\t\tPerfomances computed for 200\n",
      "\t\tPerfomances computed for 400\n",
      "\t\tPerfomances computed for 600\n",
      "Validation complete, config selected:[[0.2, 8, 0.7], [0.2, 8, 0.7], [0.2, 4, 1]]\n",
      "\tResult of 3:\n",
      "CA: 0.292744259190179\n",
      "Accuracy: 0.8245614035087719\n",
      "Precision: 0.8275862068965517\n",
      "Recall: 0.8275862068965517\n",
      "[linear:0.5, polynomial:4, gaussian:0.3, ]\n",
      "[linear:0.5, polynomial:4, gaussian:0.6, ]\n",
      "[linear:0.5, polynomial:4, gaussian:0.6, ]\n",
      "\n",
      "eta vector: [ 0.00655914 -0.48198703  0.29776    -0.07248267  0.81306792 -0.07118558\n",
      "  0.02673297 -0.08258014  0.00705454]\n",
      "\n",
      "CA: 0.29262339204492444\n",
      "Accuracy: 0.8245614035087719\n",
      "Precision: 0.8275862068965517\n",
      "Recall: 0.8275862068965517\n",
      "[linear:0.2, polynomial:8, gaussian:0.7, ]\n",
      "[linear:0.2, polynomial:8, gaussian:0.7, ]\n",
      "[linear:0.2, polynomial:4, gaussian:1, ]\n",
      "\n",
      "eta vector: [ 0.00394112 -0.1718921   0.10211867 -0.10508194  0.92340141 -0.2829462\n",
      "  0.04132717 -0.1203616   0.00659995]\n",
      "\n"
     ]
    }
   ],
   "source": [
    "result7 = sampler.sample(kernel_type, estimator, ds_list, y_, valid_fold = 3, verbose=True)"
   ]
  },
  {
   "cell_type": "code",
   "execution_count": 35,
   "metadata": {},
   "outputs": [
    {
     "name": "stdout",
     "output_type": "stream",
     "text": [
      "Perfomances computed for 1 dictionary settings:\n",
      "\tAccuracy: 0.7333333333333333\n",
      "\tPrecision: 0.7428571428571429\n",
      "\tRecall: 0.7027027027027027\n",
      "Perfomances computed for 2 dictionary settings:\n",
      "\tAccuracy: 0.72\n",
      "\tPrecision: 0.7105263157894737\n",
      "\tRecall: 0.7297297297297297\n"
     ]
    }
   ],
   "source": [
    "w_dict, w_list = result7.votingOverCA(ds_names, kernel_names)\n",
    "ut.testConfigurations(estimator, y_, y_test, w_list, ds_list, ds_test, kernel_names)"
   ]
  },
  {
   "cell_type": "code",
   "execution_count": 36,
   "metadata": {},
   "outputs": [
    {
     "data": {
      "text/plain": [
       "[{'ds1': {'linear': 0.5, 'polynomial': 4, 'gaussian': 0.6},\n",
       "  'ds2': {'linear': 0.5, 'polynomial': 4, 'gaussian': 0.6},\n",
       "  'ds3': {'linear': 0.5, 'polynomial': 4, 'gaussian': 0.6}},\n",
       " {'ds1': {'linear': 0.2, 'polynomial': 8, 'gaussian': 0.7},\n",
       "  'ds2': {'linear': 0.2, 'polynomial': 8, 'gaussian': 0.7},\n",
       "  'ds3': {'linear': 0.2, 'polynomial': 8, 'gaussian': 1}}]"
      ]
     },
     "execution_count": 36,
     "metadata": {},
     "output_type": "execute_result"
    }
   ],
   "source": [
    "w_dict"
   ]
  },
  {
   "cell_type": "code",
   "execution_count": 38,
   "metadata": {
    "scrolled": true
   },
   "outputs": [
    {
     "name": "stdout",
     "output_type": "stream",
     "text": [
      "statistics of configuration 0\n",
      "{'config': {'linear': [[0.5, 0.5, 0.5], [0.5, 0.5, 0.5], [0.5, 0.5, 0.5]], 'polynomial': [[4, 4, 4], [2, 4, 4], [4, 4, 4]], 'gaussian': [[0.6, 0.6, 0.6], [0.6, 0.6, 0.1], [0.3, 0.6, 0.6]]}, 'CA': (0.2862115195302434, 0.00014379341077753593), 'Accuracy': (0.8128654970760234, 0.0008891624773434565), 'Precision': (0.7917934415145368, 0.001634019071828678), 'Recall': (0.8620689655172414, 0.0007927070947284983), 'eta': (array([ 0.00606128, -0.3236106 ,  0.13136831, -0.06741176,  0.75012003,\n",
      "       -0.05788777,  0.02384884,  0.09838397, -0.25847404]), array([3.62540788e-06, 1.31692842e-02, 1.41046128e-02, 3.37636181e-04,\n",
      "       4.25007345e-02, 6.38093218e-04, 3.13317083e-05, 2.71498447e-02,\n",
      "       1.32414244e-01]))}\n",
      "statistics of configuration 1\n",
      "{'config': {'linear': [[0.2, 0.2, 0.2], [0.2, 0.2, 0.2], [0.2, 0.2, 0.2]], 'polynomial': [[8, 8, 8], [4, 4, 8], [8, 8, 4]], 'gaussian': [[1, 0.7, 1.5], [0.7, 1.5, 1], [0.7, 0.7, 1]]}, 'CA': (0.2862012885092245, 0.0001429387102781356), 'Accuracy': (0.8187134502923977, 0.0004787797954926293), 'Precision': (0.7992206548241031, 0.0009050810065002225), 'Recall': (0.8620689655172414, 0.0007927070947284983), 'eta': (array([ 0.00698062, -0.19708727,  0.07245691, -0.10186082,  0.93538255,\n",
      "       -0.19410904,  0.03839468, -0.05878315,  0.00701602]), array([3.13711742e-05, 7.11208298e-03, 4.73086279e-04, 4.59314047e-05,\n",
      "       7.66218939e-05, 1.62506966e-02, 1.26816242e-04, 3.70160896e-03,\n",
      "       6.63679827e-05]))}\n"
     ]
    }
   ],
   "source": [
    "result7.performancesFeatures()"
   ]
  },
  {
   "cell_type": "markdown",
   "metadata": {},
   "source": [
    "## L2 Penalty, Centering, K-Normalization"
   ]
  },
  {
   "cell_type": "code",
   "execution_count": 40,
   "metadata": {},
   "outputs": [],
   "source": [
    "kernel_names = ['linear', 'polynomial', 'gaussian']\n",
    "kernel_type = [{'linear':[0.5], 'polynomial':[2, 3,4], 'gaussian':[0.1, 0.3, 0.6]},\n",
    "               {'linear':[0.2], 'polynomial':[4, 5, 8], 'gaussian':[0.7, 1, 1.5]}\n",
    "              ]\n",
    "estimator = ca.centeredKernelAlignment\n",
    "sampler = ms.mySampler(n_splits=3, test_size=.25, lamb = 0.5, centering = True, normalize_kernels = False)"
   ]
  },
  {
   "cell_type": "code",
   "execution_count": 41,
   "metadata": {
    "scrolled": true
   },
   "outputs": [
    {
     "name": "stdout",
     "output_type": "stream",
     "text": [
      "1 split out of 3 ...\n",
      "\tWorking on config 1 of 2: {'linear': [0.5], 'polynomial': [2, 3, 4], 'gaussian': [0.1, 0.3, 0.6]}\n",
      "Fold no. 1\n",
      "\t\tPerfomances computed for 200\n",
      "\t\tPerfomances computed for 400\n",
      "\t\tPerfomances computed for 600\n",
      "Fold no. 2\n",
      "\t\tPerfomances computed for 200\n",
      "\t\tPerfomances computed for 400\n",
      "\t\tPerfomances computed for 600\n",
      "Fold no. 3\n",
      "\t\tPerfomances computed for 200\n",
      "\t\tPerfomances computed for 400\n",
      "\t\tPerfomances computed for 600\n",
      "Validation complete, config selected:[[0.5, 4, 0.3], [0.5, 4, 0.1], [0.5, 2, 0.1]]\n",
      "\tWorking on config 2 of 2: {'linear': [0.2], 'polynomial': [4, 5, 8], 'gaussian': [0.7, 1, 1.5]}\n",
      "Fold no. 1\n",
      "\t\tPerfomances computed for 200\n",
      "\t\tPerfomances computed for 400\n",
      "\t\tPerfomances computed for 600\n",
      "Fold no. 2\n",
      "\t\tPerfomances computed for 200\n",
      "\t\tPerfomances computed for 400\n",
      "\t\tPerfomances computed for 600\n",
      "Fold no. 3\n",
      "\t\tPerfomances computed for 200\n",
      "\t\tPerfomances computed for 400\n",
      "\t\tPerfomances computed for 600\n",
      "Validation complete, config selected:[[0.2, 4, 0.7], [0.2, 8, 1.5], [0.2, 5, 0.7]]\n",
      "\tResult of 1:\n",
      "CA: 0.28702130363020717\n",
      "Accuracy: 0.8421052631578947\n",
      "Precision: 0.8125\n",
      "Recall: 0.896551724137931\n",
      "[linear:0.5, polynomial:4, gaussian:0.3, ]\n",
      "[linear:0.5, polynomial:4, gaussian:0.1, ]\n",
      "[linear:0.5, polynomial:2, gaussian:0.1, ]\n",
      "\n",
      "eta vector: [-0.10985729  0.03505378  0.25807306 -0.25968428  0.88780508  0.2287789\n",
      "  0.09633354  0.02639273  0.04637459]\n",
      "\n",
      "CA: 0.2883593543384524\n",
      "Accuracy: 0.7192982456140351\n",
      "Precision: 0.76\n",
      "Recall: 0.6551724137931034\n",
      "[linear:0.2, polynomial:4, gaussian:0.7, ]\n",
      "[linear:0.2, polynomial:8, gaussian:1.5, ]\n",
      "[linear:0.2, polynomial:5, gaussian:0.7, ]\n",
      "\n",
      "eta vector: [-0.07900023 -0.0076096   0.19314766 -0.34772259  0.74731423 -0.42167234\n",
      "  0.19087607 -0.21258398  0.13256057]\n",
      "\n",
      "2 split out of 3 ...\n",
      "\tWorking on config 1 of 2: {'linear': [0.5], 'polynomial': [2, 3, 4], 'gaussian': [0.1, 0.3, 0.6]}\n",
      "Fold no. 1\n",
      "\t\tPerfomances computed for 200\n",
      "\t\tPerfomances computed for 400\n",
      "\t\tPerfomances computed for 600\n",
      "Fold no. 2\n",
      "\t\tPerfomances computed for 200\n",
      "\t\tPerfomances computed for 400\n",
      "\t\tPerfomances computed for 600\n",
      "Fold no. 3\n",
      "\t\tPerfomances computed for 200\n",
      "\t\tPerfomances computed for 400\n",
      "\t\tPerfomances computed for 600\n",
      "Validation complete, config selected:[[0.5, 4, 0.6], [0.5, 2, 0.1], [0.5, 2, 0.1]]\n",
      "\tWorking on config 2 of 2: {'linear': [0.2], 'polynomial': [4, 5, 8], 'gaussian': [0.7, 1, 1.5]}\n",
      "Fold no. 1\n",
      "\t\tPerfomances computed for 200\n",
      "\t\tPerfomances computed for 400\n",
      "\t\tPerfomances computed for 600\n",
      "Fold no. 2\n",
      "\t\tPerfomances computed for 200\n",
      "\t\tPerfomances computed for 400\n",
      "\t\tPerfomances computed for 600\n",
      "Fold no. 3\n",
      "\t\tPerfomances computed for 200\n",
      "\t\tPerfomances computed for 400\n",
      "\t\tPerfomances computed for 600\n",
      "Validation complete, config selected:[[0.2, 4, 1.5], [0.2, 4, 1.5], [0.2, 8, 1.5]]\n",
      "\tResult of 2:\n",
      "CA: 0.2846644179504051\n",
      "Accuracy: 0.8596491228070176\n",
      "Precision: 0.8387096774193549\n",
      "Recall: 0.896551724137931\n",
      "[linear:0.5, polynomial:4, gaussian:0.6, ]\n",
      "[linear:0.5, polynomial:2, gaussian:0.1, ]\n",
      "[linear:0.5, polynomial:2, gaussian:0.1, ]\n",
      "\n",
      "eta vector: [-0.05669136 -0.05469261  0.20334193 -0.07242803  0.4827871   0.82740657\n",
      "  0.07430196  0.07694336  0.13444323]\n",
      "\n",
      "CA: 0.28218074900428053\n",
      "Accuracy: 0.6842105263157895\n",
      "Precision: 0.7037037037037037\n",
      "Recall: 0.6551724137931034\n",
      "[linear:0.2, polynomial:4, gaussian:1.5, ]\n",
      "[linear:0.2, polynomial:4, gaussian:1.5, ]\n",
      "[linear:0.2, polynomial:8, gaussian:1.5, ]\n",
      "\n",
      "eta vector: [ 0.18498109 -0.52995098  0.12099449  0.32401862 -0.71375454  0.07525262\n",
      " -0.06415276  0.1656717  -0.13651019]\n",
      "\n",
      "3 split out of 3 ...\n",
      "\tWorking on config 1 of 2: {'linear': [0.5], 'polynomial': [2, 3, 4], 'gaussian': [0.1, 0.3, 0.6]}\n",
      "Fold no. 1\n",
      "\t\tPerfomances computed for 200\n",
      "\t\tPerfomances computed for 400\n",
      "\t\tPerfomances computed for 600\n",
      "Fold no. 2\n",
      "\t\tPerfomances computed for 200\n",
      "\t\tPerfomances computed for 400\n",
      "\t\tPerfomances computed for 600\n",
      "Fold no. 3\n",
      "\t\tPerfomances computed for 200\n",
      "\t\tPerfomances computed for 400\n",
      "\t\tPerfomances computed for 600\n",
      "Validation complete, config selected:[[0.5, 2, 0.6], [0.5, 2, 0.1], [0.5, 2, 0.1]]\n",
      "\tWorking on config 2 of 2: {'linear': [0.2], 'polynomial': [4, 5, 8], 'gaussian': [0.7, 1, 1.5]}\n",
      "Fold no. 1\n",
      "\t\tPerfomances computed for 200\n",
      "\t\tPerfomances computed for 400\n",
      "\t\tPerfomances computed for 600\n",
      "Fold no. 2\n",
      "\t\tPerfomances computed for 200\n",
      "\t\tPerfomances computed for 400\n",
      "\t\tPerfomances computed for 600\n",
      "Fold no. 3\n",
      "\t\tPerfomances computed for 200\n",
      "\t\tPerfomances computed for 400\n",
      "\t\tPerfomances computed for 600\n",
      "Validation complete, config selected:[[0.2, 8, 1.5], [0.2, 4, 1.5], [0.2, 4, 1]]\n",
      "\tResult of 3:\n",
      "CA: 0.26013376695568063\n",
      "Accuracy: 0.8245614035087719\n",
      "Precision: 0.8064516129032258\n",
      "Recall: 0.8620689655172413\n",
      "[linear:0.5, polynomial:2, gaussian:0.6, ]\n",
      "[linear:0.5, polynomial:2, gaussian:0.1, ]\n",
      "[linear:0.5, polynomial:2, gaussian:0.1, ]\n",
      "\n",
      "eta vector: [-0.06115643  0.01761238  0.13760186  0.25012324 -0.38237604 -0.66730222\n",
      "  0.19867694 -0.25995028 -0.4646541 ]\n",
      "\n",
      "CA: 0.25406602321661215\n",
      "Accuracy: 0.5087719298245614\n",
      "Precision: 0.5161290322580645\n",
      "Recall: 0.5517241379310345\n",
      "[linear:0.2, polynomial:8, gaussian:1.5, ]\n",
      "[linear:0.2, polynomial:4, gaussian:1.5, ]\n",
      "[linear:0.2, polynomial:4, gaussian:1, ]\n",
      "\n",
      "eta vector: [-0.09662115  0.14059938 -0.08985745  0.35118008 -0.8812583   0.13475825\n",
      "  0.09609441 -0.18576859  0.03121328]\n",
      "\n"
     ]
    }
   ],
   "source": [
    "result9 = sampler.sample(kernel_type, estimator, ds_list, y_, valid_fold = 3, verbose=True)"
   ]
  },
  {
   "cell_type": "code",
   "execution_count": 42,
   "metadata": {},
   "outputs": [
    {
     "name": "stdout",
     "output_type": "stream",
     "text": [
      "Perfomances computed for 1 dictionary settings:\n",
      "\tAccuracy: 0.72\n",
      "\tPrecision: 0.7222222222222222\n",
      "\tRecall: 0.7027027027027027\n",
      "Perfomances computed for 2 dictionary settings:\n",
      "\tAccuracy: 0.76\n",
      "\tPrecision: 0.7567567567567568\n",
      "\tRecall: 0.7567567567567568\n"
     ]
    }
   ],
   "source": [
    "w_dict, w_list = result9.votingOverCA(ds_names, kernel_names)\n",
    "ut.testConfigurations(estimator, y_, y_test, w_list, ds_list, ds_test, kernel_names)"
   ]
  },
  {
   "cell_type": "code",
   "execution_count": 43,
   "metadata": {},
   "outputs": [
    {
     "data": {
      "text/plain": [
       "[{'ds1': {'linear': 0.5, 'polynomial': 4, 'gaussian': 0.6},\n",
       "  'ds2': {'linear': 0.5, 'polynomial': 2, 'gaussian': 0.1},\n",
       "  'ds3': {'linear': 0.5, 'polynomial': 2, 'gaussian': 0.1}},\n",
       " {'ds1': {'linear': 0.2, 'polynomial': 4, 'gaussian': 1.5},\n",
       "  'ds2': {'linear': 0.2, 'polynomial': 4, 'gaussian': 1.5},\n",
       "  'ds3': {'linear': 0.2, 'polynomial': 5, 'gaussian': 0.7}}]"
      ]
     },
     "execution_count": 43,
     "metadata": {},
     "output_type": "execute_result"
    }
   ],
   "source": [
    "w_dict"
   ]
  },
  {
   "cell_type": "code",
   "execution_count": 44,
   "metadata": {
    "scrolled": true
   },
   "outputs": [
    {
     "name": "stdout",
     "output_type": "stream",
     "text": [
      "statistics of configuration 0\n",
      "{'config': {'linear': [[0.5, 0.5, 0.5], [0.5, 0.5, 0.5], [0.5, 0.5, 0.5]], 'polynomial': [[4, 4, 2], [4, 2, 2], [2, 2, 2]], 'gaussian': [[0.3, 0.1, 0.1], [0.6, 0.1, 0.1], [0.6, 0.1, 0.1]]}, 'CA': (0.27727316284543096, 0.00014780526408407127), 'Accuracy': (0.8421052631578947, 0.00020519134092541295), 'Precision': (0.819220430107527, 0.00019601254480286823), 'Recall': (0.8850574712643677, 0.00026423569824283365), 'eta': (array([-0.07590169, -0.00067549,  0.19967228, -0.02732969,  0.32940538,\n",
      "        0.12962775,  0.12310414, -0.05220473, -0.0946121 ]), array([0.00057981, 0.00150963, 0.00242562, 0.04433421, 0.28065632,\n",
      "       0.37727453, 0.00293652, 0.022005  , 0.06975822]))}\n",
      "statistics of configuration 1\n",
      "{'config': {'linear': [[0.2, 0.2, 0.2], [0.2, 0.2, 0.2], [0.2, 0.2, 0.2]], 'polynomial': [[4, 8, 5], [4, 4, 8], [8, 4, 4]], 'gaussian': [[0.7, 1.5, 0.7], [1.5, 1.5, 1.5], [1.5, 1.5, 1]]}, 'CA': (0.274868708853115, 0.0002227383921581577), 'Accuracy': (0.6374269005847953, 0.008481242091583735), 'Precision': (0.6599442453205894, 0.010869619916889783), 'Recall': (0.6206896551724138, 0.002378121284185493), 'eta': (array([ 0.0031199 , -0.1323204 ,  0.07476157,  0.10915871, -0.28256621,\n",
      "       -0.07055382,  0.07427257, -0.07756029,  0.00908789]), array([0.0165885 , 0.08271602, 0.01441739, 0.10449321, 0.5350031 ,\n",
      "       0.06223226, 0.01107805, 0.02970074, 0.01231128]))}\n"
     ]
    }
   ],
   "source": [
    "result9.performancesFeatures()"
   ]
  },
  {
   "cell_type": "markdown",
   "metadata": {},
   "source": [
    "## Sparsity in eta, Centering, K-Normalization"
   ]
  },
  {
   "cell_type": "code",
   "execution_count": 6,
   "metadata": {},
   "outputs": [],
   "source": [
    "kernel_names = ['linear', 'polynomial', 'gaussian']\n",
    "kernel_type = [{'linear':[0.5], 'polynomial':[2, 3], 'gaussian':[0.1, 0.3]}#,\n",
    "               #{'linear':[0.2], 'polynomial':[4, 5, 8], 'gaussian':[0.7, 1]}\n",
    "              ]\n",
    "estimator = ca.centeredKernelAlignment\n",
    "sampler = ms.mySampler(n_splits=3, test_size=.25, sparsity = 0.3, centering = True, normalize_kernels = True)"
   ]
  },
  {
   "cell_type": "code",
   "execution_count": 7,
   "metadata": {
    "scrolled": true
   },
   "outputs": [
    {
     "name": "stdout",
     "output_type": "stream",
     "text": [
      "1 split out of 3 ...\n",
      "\tWorking on config 1 of 1: {'linear': [0.5], 'polynomial': [2, 3], 'gaussian': [0.1, 0.3]}\n",
      "Fold no. 1\n",
      "Fold no. 2\n",
      "Fold no. 3\n",
      "Validation complete, config selected:[[0.5, 3, 0.3], [0.5, 2, 0.3], [0.5, 2, 0.3]]\n",
      "\tResult of 1:\n",
      "CA: 0.20952415065930094\n",
      "Accuracy: 0.7719298245614035\n",
      "Precision: 0.7777777777777778\n",
      "Recall: 0.75\n",
      "[linear:0.5, polynomial:3, gaussian:0.3, ]\n",
      "[linear:0.5, polynomial:2, gaussian:0.3, ]\n",
      "[linear:0.5, polynomial:2, gaussian:0.3, ]\n",
      "\n",
      "eta vector: [-0.08006476  0.89409865  0.         -0.0770656   0.          0.43386419\n",
      "  0.          0.          0.        ]\n",
      "\n",
      "2 split out of 3 ...\n",
      "\tWorking on config 1 of 1: {'linear': [0.5], 'polynomial': [2, 3], 'gaussian': [0.1, 0.3]}\n",
      "Fold no. 1\n",
      "Fold no. 2\n",
      "Fold no. 3\n",
      "Validation complete, config selected:[[0.5, 3, 0.3], [0.5, 2, 0.3], [0.5, 2, 0.3]]\n",
      "\tResult of 2:\n",
      "CA: 0.18016592898869638\n",
      "Accuracy: 0.7894736842105263\n",
      "Precision: 0.8076923076923077\n",
      "Recall: 0.75\n",
      "[linear:0.5, polynomial:3, gaussian:0.3, ]\n",
      "[linear:0.5, polynomial:2, gaussian:0.3, ]\n",
      "[linear:0.5, polynomial:2, gaussian:0.3, ]\n",
      "\n",
      "eta vector: [-0.03625688  0.          0.237258   -0.18354785  0.          0.95325981\n",
      "  0.          0.          0.        ]\n",
      "\n",
      "3 split out of 3 ...\n",
      "\tWorking on config 1 of 1: {'linear': [0.5], 'polynomial': [2, 3], 'gaussian': [0.1, 0.3]}\n",
      "Fold no. 1\n",
      "Fold no. 2\n",
      "Fold no. 3\n",
      "Validation complete, config selected:[[0.5, 3, 0.3], [0.5, 2, 0.3], [0.5, 2, 0.1]]\n",
      "\tResult of 3:\n",
      "CA: 0.18281144053659154\n",
      "Accuracy: 0.7368421052631579\n",
      "Precision: 0.76\n",
      "Recall: 0.6785714285714286\n",
      "[linear:0.5, polynomial:3, gaussian:0.3, ]\n",
      "[linear:0.5, polynomial:2, gaussian:0.3, ]\n",
      "[linear:0.5, polynomial:2, gaussian:0.1, ]\n",
      "\n",
      "eta vector: [-0.02801251  0.          0.29124924 -0.17613034  0.          0.93987621\n",
      "  0.          0.          0.        ]\n",
      "\n"
     ]
    }
   ],
   "source": [
    "result8 = sampler.sample(kernel_type, estimator, ds_list, y_, valid_fold = 3, verbose=True)"
   ]
  },
  {
   "cell_type": "code",
   "execution_count": 8,
   "metadata": {},
   "outputs": [
    {
     "name": "stdout",
     "output_type": "stream",
     "text": [
      "Perfomances computed for 1 dictionary settings:\n",
      "\tAccuracy: 0.7333333333333333\n",
      "\tPrecision: 0.7575757575757576\n",
      "\tRecall: 0.6756756756756757\n"
     ]
    }
   ],
   "source": [
    "w_dict, w_list = result8.votingOverCA(ds_names, kernel_names)\n",
    "ut.testConfigurations(estimator, y_, y_test, w_list, ds_list, ds_test, kernel_names)"
   ]
  },
  {
   "cell_type": "code",
   "execution_count": 9,
   "metadata": {},
   "outputs": [
    {
     "data": {
      "text/plain": [
       "[{'ds1': {'linear': 0.5, 'polynomial': 3, 'gaussian': 0.3},\n",
       "  'ds2': {'linear': 0.5, 'polynomial': 2, 'gaussian': 0.3},\n",
       "  'ds3': {'linear': 0.5, 'polynomial': 2, 'gaussian': 0.3}}]"
      ]
     },
     "execution_count": 9,
     "metadata": {},
     "output_type": "execute_result"
    }
   ],
   "source": [
    "w_dict"
   ]
  },
  {
   "cell_type": "code",
   "execution_count": 10,
   "metadata": {
    "scrolled": true
   },
   "outputs": [
    {
     "name": "stdout",
     "output_type": "stream",
     "text": [
      "statistics of configuration 0\n",
      "{'config': {'linear': [[0.5, 0.5, 0.5], [0.5, 0.5, 0.5], [0.5, 0.5, 0.5]], 'polynomial': [[3, 2, 2], [3, 2, 2], [3, 2, 2]], 'gaussian': [[0.3, 0.3, 0.3], [0.3, 0.3, 0.3], [0.3, 0.3, 0.1]]}, 'CA': (0.19083384006152962, 0.00017583031034558924), 'Accuracy': (0.7660818713450293, 0.00047877979549263105), 'Precision': (0.781823361823362, 0.00038727607730456746), 'Recall': (0.7261904761904763, 0.0011337868480725613), 'eta': (array([-0.04811138,  0.29803288,  0.17616908, -0.14558126,  0.        ,\n",
      "        0.77566674,  0.        ,  0.        ,  0.        ]), array([0.00052184, 0.1776472 , 0.01600361, 0.00235637, 0.        ,\n",
      "       0.05844434, 0.        , 0.        , 0.        ]))}\n"
     ]
    }
   ],
   "source": [
    "result8.performancesFeatures()"
   ]
  },
  {
   "cell_type": "code",
   "execution_count": null,
   "metadata": {},
   "outputs": [],
   "source": []
  }
 ],
 "metadata": {
  "kernelspec": {
   "display_name": "Python 3",
   "language": "python",
   "name": "python3"
  },
  "language_info": {
   "codemirror_mode": {
    "name": "ipython",
    "version": 3
   },
   "file_extension": ".py",
   "mimetype": "text/x-python",
   "name": "python",
   "nbconvert_exporter": "python",
   "pygments_lexer": "ipython3",
   "version": "3.7.0"
  }
 },
 "nbformat": 4,
 "nbformat_minor": 2
}
