{
 "cells": [
  {
   "cell_type": "code",
   "execution_count": 19,
   "metadata": {},
   "outputs": [],
   "source": [
    "import pandas as pd\n",
    "import os\n",
    "import numpy as np\n",
    "\n",
    "import Utils as ut\n",
    "import CortesAlignmentFile as ca\n",
    "import mySampler as ms\n",
    " \n",
    "from sklearn.model_selection import StratifiedShuffleSplit"
   ]
  },
  {
   "cell_type": "code",
   "execution_count": 20,
   "metadata": {},
   "outputs": [],
   "source": [
    "d_clinical = pd.read_csv(os.path.join('data', 'dataset_clinical_cleaned.csv'))\n",
    "d_genetic = pd.read_csv(os.path.join('data', 'dataset_genetic_cleaned_noOHE.csv'))\n",
    "d_vampire = pd.read_csv(os.path.join('data', 'dataset_vampire_cleaned.csv'))\n",
    "outputs = pd.read_csv(os.path.join('data', 'outputs_cleaned.csv'))"
   ]
  },
  {
   "cell_type": "markdown",
   "metadata": {},
   "source": [
    "## Dementia"
   ]
  },
  {
   "cell_type": "code",
   "execution_count": 11,
   "metadata": {},
   "outputs": [],
   "source": [
    "y = outputs[\"dement_fail\"].values\n",
    "C = d_clinical.values\n",
    "G = d_genetic.values\n",
    "V = d_vampire.values"
   ]
  },
  {
   "cell_type": "code",
   "execution_count": 12,
   "metadata": {},
   "outputs": [],
   "source": [
    "# COMPUTATIONAL COMPLEXITY: Reduce #samples\n",
    "tr_idx, ts_idx = next(StratifiedShuffleSplit(n_splits=1, test_size=0.5).split(C, y))"
   ]
  },
  {
   "cell_type": "code",
   "execution_count": 13,
   "metadata": {},
   "outputs": [],
   "source": [
    "y_ = y[tr_idx]\n",
    "y_test = y[ts_idx]\n",
    "C_ = C[tr_idx]\n",
    "C_test = C[ts_idx]\n",
    "G_ = G[tr_idx]\n",
    "G_test = G[ts_idx]\n",
    "V_ = V[tr_idx]\n",
    "V_test = V[ts_idx]"
   ]
  },
  {
   "cell_type": "code",
   "execution_count": 14,
   "metadata": {},
   "outputs": [],
   "source": [
    "ds_list = [C_, G_, V_]\n",
    "ds_test = [C_test, G_test, V_test]\n",
    "ds_names = ['clinic', 'genetic', 'vampire']"
   ]
  },
  {
   "cell_type": "markdown",
   "metadata": {},
   "source": [
    "## Basic approach"
   ]
  },
  {
   "cell_type": "code",
   "execution_count": null,
   "metadata": {},
   "outputs": [],
   "source": [
    "kernel_names = ['polynomial', 'gaussian']\n",
    "kernel_type = [{'polynomial':[2, 7], 'gaussian':[0.4, 0.7]},\n",
    "               {'polynomial':[3, 5], 'gaussian':[0.5, 1]}]\n",
    "estimator = ca.centeredKernelAlignment\n",
    "sampler = ms.mySampler(n_splits=3, test_size=.35)"
   ]
  },
  {
   "cell_type": "code",
   "execution_count": null,
   "metadata": {},
   "outputs": [],
   "source": [
    "result1 = sampler.sample(kernel_type, estimator, ds_list, y_, valid_fold = 3, verbose=True)"
   ]
  },
  {
   "cell_type": "code",
   "execution_count": null,
   "metadata": {},
   "outputs": [],
   "source": [
    "w_dict, w_list = result1.votingOverCA(ds_names, kernel_names)\n",
    "ut.testConfigurations(estimator, y_, y_test, w_list, ds_list, ds_test, kernel_names)"
   ]
  },
  {
   "cell_type": "code",
   "execution_count": null,
   "metadata": {},
   "outputs": [],
   "source": [
    "w_dict"
   ]
  },
  {
   "cell_type": "code",
   "execution_count": null,
   "metadata": {},
   "outputs": [],
   "source": [
    "result1.performancesFeatures()"
   ]
  },
  {
   "cell_type": "markdown",
   "metadata": {},
   "source": [
    "## Kernel normalization"
   ]
  },
  {
   "cell_type": "code",
   "execution_count": null,
   "metadata": {},
   "outputs": [],
   "source": [
    "kernel_names = ['polynomial', 'gaussian']\n",
    "kernel_type = [{'polynomial':[2, 7], 'gaussian':[0.4, 0.7]},\n",
    "               {'polynomial':[3, 5], 'gaussian':[0.5, 1]}]\n",
    "estimator = ca.centeredKernelAlignment\n",
    "sampler = ms.mySampler(n_splits=3, test_size=.35, normalize_kernels = True)"
   ]
  },
  {
   "cell_type": "code",
   "execution_count": null,
   "metadata": {
    "scrolled": true
   },
   "outputs": [],
   "source": [
    "result3 = sampler.sample(kernel_type, estimator, ds_list, y_, valid_fold = 3, verbose=True)"
   ]
  },
  {
   "cell_type": "code",
   "execution_count": null,
   "metadata": {},
   "outputs": [],
   "source": [
    "w_dict, w_list = result3.votingOverCA(ds_names, kernel_names)\n",
    "ut.testConfigurations(estimator, y_, y_test, w_list, ds_list, ds_test, kernel_names)"
   ]
  },
  {
   "cell_type": "code",
   "execution_count": null,
   "metadata": {},
   "outputs": [],
   "source": [
    "result3.performancesFeatures()"
   ]
  },
  {
   "cell_type": "markdown",
   "metadata": {},
   "source": [
    "## Normalized data"
   ]
  },
  {
   "cell_type": "code",
   "execution_count": null,
   "metadata": {},
   "outputs": [],
   "source": [
    "kernel_names = ['polynomial', 'gaussian']\n",
    "kernel_type = [{'polynomial':[2, 7], 'gaussian':[0.4, 0.7]},\n",
    "               {'polynomial':[3, 5], 'gaussian':[0.5, 1]}]\n",
    "estimator = ca.centeredKernelAlignment\n",
    "sampler = ms.mySampler(n_splits=3, test_size=.35, normalizing = True)"
   ]
  },
  {
   "cell_type": "code",
   "execution_count": null,
   "metadata": {
    "scrolled": true
   },
   "outputs": [],
   "source": [
    "result4 = sampler.sample(kernel_type, estimator, ds_list, y_, valid_fold = 3, verbose=True, exclusion_list = [[0, 3, 8, 13, 14], list(range(G.shape[1]-3)), []])"
   ]
  },
  {
   "cell_type": "code",
   "execution_count": null,
   "metadata": {},
   "outputs": [],
   "source": [
    "w_dict, w_list = result4.votingOverCA(ds_names, kernel_names)\n",
    "ut.testConfigurations(estimator, y_, y_test, w_list, ds_list, ds_test, kernel_names)"
   ]
  },
  {
   "cell_type": "code",
   "execution_count": null,
   "metadata": {},
   "outputs": [],
   "source": [
    "result4.performancesFeatures()"
   ]
  },
  {
   "cell_type": "markdown",
   "metadata": {},
   "source": [
    "## Origin Data Centering"
   ]
  },
  {
   "cell_type": "code",
   "execution_count": null,
   "metadata": {},
   "outputs": [],
   "source": [
    "kernel_names = ['polynomial', 'gaussian']\n",
    "kernel_type = [{'polynomial':[2, 7], 'gaussian':[0.4, 0.7]},\n",
    "               {'polynomial':[3, 5], 'gaussian':[0.5, 1]}]\n",
    "estimator = ca.centeredKernelAlignment\n",
    "sampler = ms.mySampler(n_splits=3, test_size=.35, centering = True)"
   ]
  },
  {
   "cell_type": "code",
   "execution_count": null,
   "metadata": {
    "scrolled": true
   },
   "outputs": [],
   "source": [
    "result5 = sampler.sample(kernel_type, estimator, ds_list, y_, valid_fold = 3, verbose=True, exclusion_list = [[5,6,7,9,10,13,15,16,17,18,19], list(range(G.shape[1]-3)), []])"
   ]
  },
  {
   "cell_type": "code",
   "execution_count": null,
   "metadata": {},
   "outputs": [],
   "source": [
    "w_dict, w_list = result5.votingOverCA(ds_names, kernel_names)\n",
    "ut.testConfigurations(estimator, y_, y_test, w_list, ds_list, ds_test, kernel_names)"
   ]
  },
  {
   "cell_type": "code",
   "execution_count": null,
   "metadata": {
    "scrolled": true
   },
   "outputs": [],
   "source": [
    "result5.performancesFeatures()"
   ]
  },
  {
   "cell_type": "markdown",
   "metadata": {},
   "source": [
    "## Origin Data  Centering and Normalization"
   ]
  },
  {
   "cell_type": "code",
   "execution_count": null,
   "metadata": {},
   "outputs": [],
   "source": [
    "kernel_names = ['polynomial', 'gaussian']\n",
    "kernel_type = [{'polynomial':[2, 7], 'gaussian':[0.4, 0.7]},\n",
    "               {'polynomial':[3, 5], 'gaussian':[0.5, 1]}]\n",
    "estimator = ca.centeredKernelAlignment\n",
    "sampler = ms.mySampler(n_splits=3, test_size=.35, centering = True, normalizing = True)"
   ]
  },
  {
   "cell_type": "code",
   "execution_count": null,
   "metadata": {},
   "outputs": [],
   "source": [
    "result6 = sampler.sample(kernel_type, estimator, ds_list, y_, valid_fold = 3, verbose=True, exclusion_list = [[5,6,7,9,10,13,15,16,17,18,19], list(range(G.shape[1]-3)), []])"
   ]
  },
  {
   "cell_type": "code",
   "execution_count": null,
   "metadata": {},
   "outputs": [],
   "source": [
    "w_dict, w_list = result6.votingOverCA(ds_names, kernel_names)\n",
    "ut.testConfigurations(estimator, y_, y_test, w_list, ds_list, ds_test, kernel_names)"
   ]
  },
  {
   "cell_type": "code",
   "execution_count": null,
   "metadata": {
    "scrolled": true
   },
   "outputs": [],
   "source": [
    "result6.performancesFeatures()"
   ]
  },
  {
   "cell_type": "markdown",
   "metadata": {},
   "source": [
    "## Normalization, Kernel Normalization"
   ]
  },
  {
   "cell_type": "code",
   "execution_count": null,
   "metadata": {},
   "outputs": [],
   "source": [
    "kernel_names = ['polynomial', 'gaussian']\n",
    "kernel_type = [{'polynomial':[2, 7], 'gaussian':[0.4, 0.7]},\n",
    "               {'polynomial':[3, 5], 'gaussian':[0.5, 1]}]\n",
    "estimator = ca.centeredKernelAlignment\n",
    "sampler = ms.mySampler(n_splits=3, test_size=.35, normalizing = True, normalize_kernels = True)"
   ]
  },
  {
   "cell_type": "code",
   "execution_count": null,
   "metadata": {},
   "outputs": [],
   "source": [
    "result10 = sampler.sample(kernel_type, estimator, ds_list, y_, valid_fold = 3, verbose=True, exclusion_list = [[5,6,7,9,10,13,15,16,17,18,19], list(range(G.shape[1]-3)), []])"
   ]
  },
  {
   "cell_type": "code",
   "execution_count": null,
   "metadata": {},
   "outputs": [],
   "source": [
    "w_dict, w_list = result10.votingOverCA(ds_names, kernel_names)\n",
    "ut.testConfigurations(estimator, y_, y_test, w_list, ds_list, ds_test, kernel_names)"
   ]
  },
  {
   "cell_type": "code",
   "execution_count": null,
   "metadata": {
    "scrolled": false
   },
   "outputs": [],
   "source": [
    "result10.performancesFeatures()"
   ]
  },
  {
   "cell_type": "markdown",
   "metadata": {},
   "source": [
    "## Centering, Kernel Normalization"
   ]
  },
  {
   "cell_type": "code",
   "execution_count": 15,
   "metadata": {},
   "outputs": [],
   "source": [
    "kernel_names = ['polynomial', 'gaussian']\n",
    "kernel_type = [{'polynomial':[2, 7], 'gaussian':[0.4, 0.7]},\n",
    "               {'polynomial':[3, 5], 'gaussian':[0.5, 1]}]\n",
    "estimator = ca.centeredKernelAlignment\n",
    "sampler = ms.mySampler(n_splits=3, test_size=.35, centering = True, normalize_kernels = True)"
   ]
  },
  {
   "cell_type": "code",
   "execution_count": 16,
   "metadata": {
    "scrolled": true
   },
   "outputs": [
    {
     "name": "stdout",
     "output_type": "stream",
     "text": [
      "\n",
      "1 split out of 3 ...\n",
      "\tWorking on config 1 of 2: {'polynomial': [2, 7], 'gaussian': [0.4, 0.7]}\n",
      "Fold no. 1\n",
      "Fold no. 2\n",
      "Fold no. 3\n",
      "Validation complete, config selected:[[2, 0.7], [7, 0.7], [2, 0.4]]\n",
      "\tResult of 1:\n",
      "CA: 0.029232025954077354\n",
      "Accuracy: 0.4479166666666667\n",
      "Precision: 0.3257328990228013\n",
      "Recall: 0.6329113924050633\n",
      "[polynomial:2, gaussian:0.7, polynomial:7, gaussian:0.7, polynomial:2, gaussian:0.4, ]\n",
      "\n",
      "eta vector: [ 4.95050826e+00  7.97506276e-01 -4.56085903e+03  6.50013517e+01\n",
      " -2.86936394e+02  4.43132202e+00]\n",
      "\n",
      "\n",
      "\tCompleted in 1.9 minutes\n",
      "\tWorking on config 2 of 2: {'polynomial': [3, 5], 'gaussian': [0.5, 1]}\n",
      "Fold no. 1\n",
      "Fold no. 2\n",
      "Fold no. 3\n",
      "Validation complete, config selected:[[3, 1], [5, 1], [3, 0.5]]\n",
      "\tResult of 1:\n",
      "CA: 0.029232025954077354\n",
      "Accuracy: 0.4479166666666667\n",
      "Precision: 0.3257328990228013\n",
      "Recall: 0.6329113924050633\n",
      "[polynomial:2, gaussian:0.7, polynomial:7, gaussian:0.7, polynomial:2, gaussian:0.4, ]\n",
      "\n",
      "eta vector: [ 4.95050826e+00  7.97506276e-01 -4.56085903e+03  6.50013517e+01\n",
      " -2.86936394e+02  4.43132202e+00]\n",
      "\n",
      "CA: 0.029546016617784207\n",
      "Accuracy: 0.6166666666666667\n",
      "Precision: 0.3333333333333333\n",
      "Recall: 0.16455696202531644\n",
      "[polynomial:3, gaussian:1, polynomial:5, gaussian:1, polynomial:3, gaussian:0.5, ]\n",
      "\n",
      "eta vector: [ 4.82623124e+00  5.06096430e-01 -4.37833420e+03  3.10269179e+01\n",
      " -1.93242020e+02  3.60165428e+00]\n",
      "\n",
      "\n",
      "\tCompleted in 4.0 minutes\n",
      "\n",
      "2 split out of 3 ...\n",
      "\tWorking on config 1 of 2: {'polynomial': [2, 7], 'gaussian': [0.4, 0.7]}\n",
      "Fold no. 1\n",
      "Fold no. 2\n",
      "Fold no. 3\n",
      "Validation complete, config selected:[[2, 0.7], [2, 0.4], [2, 0.4]]\n",
      "\tResult of 2:\n",
      "CA: 0.03302709254571873\n",
      "Accuracy: 0.42916666666666664\n",
      "Precision: 0.3116883116883117\n",
      "Recall: 0.6075949367088608\n",
      "[polynomial:2, gaussian:0.7, polynomial:2, gaussian:0.4, polynomial:2, gaussian:0.4, ]\n",
      "\n",
      "eta vector: [ 7.99818392e+00  7.64808236e-01 -3.11448930e+04  2.23699775e+02\n",
      " -8.86638623e+01  1.41319154e+00]\n",
      "\n",
      "\n",
      "\tCompleted in 2.033333333333333 minutes\n",
      "\tWorking on config 2 of 2: {'polynomial': [3, 5], 'gaussian': [0.5, 1]}\n",
      "Fold no. 1\n",
      "Fold no. 2\n",
      "Fold no. 3\n",
      "Validation complete, config selected:[[3, 0.5], [3, 0.5], [3, 0.5]]\n",
      "\tResult of 2:\n",
      "CA: 0.03302709254571873\n",
      "Accuracy: 0.42916666666666664\n",
      "Precision: 0.3116883116883117\n",
      "Recall: 0.6075949367088608\n",
      "[polynomial:2, gaussian:0.7, polynomial:2, gaussian:0.4, polynomial:2, gaussian:0.4, ]\n",
      "\n",
      "eta vector: [ 7.99818392e+00  7.64808236e-01 -3.11448930e+04  2.23699775e+02\n",
      " -8.86638623e+01  1.41319154e+00]\n",
      "\n",
      "CA: 0.03301640731602554\n",
      "Accuracy: 0.4875\n",
      "Precision: 0.33941605839416056\n",
      "Recall: 0.5886075949367089\n",
      "[polynomial:3, gaussian:0.5, polynomial:3, gaussian:0.5, polynomial:3, gaussian:0.5, ]\n",
      "\n",
      "eta vector: [ 3.68722144e+00  1.21898731e+00 -1.65290482e+04  1.42342975e+02\n",
      " -6.57388786e+01  1.29200393e+00]\n",
      "\n",
      "\n",
      "\tCompleted in 4.3 minutes\n",
      "\n",
      "3 split out of 3 ...\n",
      "\tWorking on config 1 of 2: {'polynomial': [2, 7], 'gaussian': [0.4, 0.7]}\n",
      "Fold no. 1\n",
      "Fold no. 2\n",
      "Fold no. 3\n",
      "Validation complete, config selected:[[2, 0.7], [7, 0.7], [2, 0.4]]\n",
      "\tResult of 3:\n",
      "CA: 0.03596562161708457\n",
      "Accuracy: 0.45625\n",
      "Precision: 0.3230240549828179\n",
      "Recall: 0.5949367088607594\n",
      "[polynomial:2, gaussian:0.7, polynomial:7, gaussian:0.7, polynomial:2, gaussian:0.4, ]\n",
      "\n",
      "eta vector: [ 1.29695603e+01  5.26195540e-01 -4.45837665e+03  6.36855994e+01\n",
      " -1.41535225e+02  2.17767616e+00]\n",
      "\n",
      "\n",
      "\tCompleted in 2.316666666666667 minutes\n",
      "\tWorking on config 2 of 2: {'polynomial': [3, 5], 'gaussian': [0.5, 1]}\n",
      "Fold no. 1\n",
      "Fold no. 2\n",
      "Fold no. 3\n",
      "Validation complete, config selected:[[3, 1], [5, 1], [3, 0.5]]\n",
      "\tResult of 3:\n",
      "CA: 0.03596562161708457\n",
      "Accuracy: 0.45625\n",
      "Precision: 0.3230240549828179\n",
      "Recall: 0.5949367088607594\n",
      "[polynomial:2, gaussian:0.7, polynomial:7, gaussian:0.7, polynomial:2, gaussian:0.4, ]\n",
      "\n",
      "eta vector: [ 1.29695603e+01  5.26195540e-01 -4.45837665e+03  6.36855994e+01\n",
      " -1.41535225e+02  2.17767616e+00]\n",
      "\n",
      "CA: 0.036186026322989895\n",
      "Accuracy: 0.6104166666666667\n",
      "Precision: 0.3473684210526316\n",
      "Recall: 0.2088607594936709\n",
      "[polynomial:3, gaussian:1, polynomial:5, gaussian:1, polynomial:3, gaussian:0.5, ]\n",
      "\n",
      "eta vector: [ 9.67504109e+00  3.32148116e-01 -4.29192340e+03  3.05186450e+01\n",
      " -8.71487846e+01  1.62482890e+00]\n",
      "\n",
      "\n",
      "\tCompleted in 4.483333333333333 minutes\n"
     ]
    }
   ],
   "source": [
    "result11 = sampler.sample(kernel_type, estimator, ds_list, y_, valid_fold = 3, verbose=True, exclusion_list = [[5,6,7,9,10,13,15,16,17,18,19], list(range(G.shape[1]-3)), []])"
   ]
  },
  {
   "cell_type": "code",
   "execution_count": 17,
   "metadata": {},
   "outputs": [
    {
     "name": "stdout",
     "output_type": "stream",
     "text": [
      "Perfomances computed for dictionary settings 1:\n",
      "\tAccuracy: 0.5149525893508388\n",
      "\tPrecision: 0.34978843441466856\n",
      "\tRecall: 0.5486725663716814\n",
      "Perfomances computed for dictionary settings 2:\n",
      "\tAccuracy: 0.5142231947483589\n",
      "\tPrecision: 0.3488700564971751\n",
      "\tRecall: 0.5464601769911505\n"
     ]
    }
   ],
   "source": [
    "w_dict, w_list = result11.votingOverCA(ds_names, kernel_names)\n",
    "ut.testConfigurations(estimator, y_, y_test, w_list, ds_list, ds_test, kernel_names)"
   ]
  },
  {
   "cell_type": "code",
   "execution_count": 18,
   "metadata": {
    "scrolled": true
   },
   "outputs": [
    {
     "name": "stdout",
     "output_type": "stream",
     "text": [
      "statistics of configuration 1\n",
      "{'config': {'polynomial': [[2, 7, 2], [2, 2, 2], [2, 7, 2]], 'gaussian': [[0.7, 0.7, 0.4], [0.7, 0.4, 0.4], [0.7, 0.7, 0.4]]}, 'CA': (0.032741580038960216, 7.59764378790269e-06), 'Accuracy': (0.4444444444444444, 0.00012827932098765453), 'Precision': (0.32014842189797693, 3.7009705052000186e-05), 'Recall': (0.6118143459915611, 0.00024924780572913995), 'eta': (array([ 8.63941749e+00,  6.96170018e-01, -1.33880429e+04,  1.17462242e+02,\n",
      "       -1.72378494e+02,  2.67406324e+00]), array([1.09231228e+01, 1.46238552e-02, 1.57654613e+08, 5.64349524e+03,\n",
      "       7.02765308e+03, 1.64138533e+00]))}\n",
      "statistics of configuration 2\n",
      "{'config': {'polynomial': [[3, 5, 3], [3, 3, 3], [3, 5, 3]], 'gaussian': [[1, 1, 0.5], [0.5, 0.5, 0.5], [1, 1, 0.5]]}, 'CA': (0.03291615008559988, 7.353313903663933e-06), 'Accuracy': (0.5715277777777779, 0.003536844135802472), 'Precision': (0.34003927092670844, 3.3024811478428684e-05), 'Recall': (0.3206751054852321, 0.03622104719685237), 'eta': (array([ 6.06283126e+00,  6.85743953e-01, -8.39976861e+03,  6.79628458e+01,\n",
      "       -1.15376561e+02,  2.17282903e+00]), array([6.74025384e+00, 1.47217243e-01, 3.30438380e+07, 2.76624483e+03,\n",
      "       3.10791218e+03, 1.03923287e+00]))}\n"
     ]
    }
   ],
   "source": [
    "result11.performancesFeatures()"
   ]
  },
  {
   "cell_type": "markdown",
   "metadata": {},
   "source": [
    "## Centering, Normalization, Kernel Normalization"
   ]
  },
  {
   "cell_type": "code",
   "execution_count": null,
   "metadata": {},
   "outputs": [],
   "source": [
    "kernel_names = ['polynomial', 'gaussian']\n",
    "kernel_type = [{'polynomial':[2, 7], 'gaussian':[0.4, 0.7]},\n",
    "               {'polynomial':[3, 5], 'gaussian':[0.5, 1]}]\n",
    "estimator = ca.centeredKernelAlignment\n",
    "sampler = ms.mySampler(n_splits=3, test_size=.35, centering = True, normalizing = True, normalize_kernels = True)"
   ]
  },
  {
   "cell_type": "code",
   "execution_count": null,
   "metadata": {},
   "outputs": [],
   "source": [
    "result7 = sampler.sample(kernel_type, estimator, ds_list, y_, valid_fold = 3, verbose=True, exclusion_list = [[5,6,7,9,10,13,15,16,17,18,19], list(range(G.shape[1]-3)), []])"
   ]
  },
  {
   "cell_type": "code",
   "execution_count": null,
   "metadata": {},
   "outputs": [],
   "source": [
    "w_dict, w_list = result7.votingOverCA(ds_names, kernel_names)\n",
    "ut.testConfigurations(estimator, y_, y_test, w_list, ds_list, ds_test, kernel_names)"
   ]
  },
  {
   "cell_type": "code",
   "execution_count": null,
   "metadata": {
    "scrolled": true
   },
   "outputs": [],
   "source": [
    "result7.performancesFeatures()"
   ]
  },
  {
   "cell_type": "markdown",
   "metadata": {},
   "source": [
    "## L2 Penalty, Centering, K-Normalization"
   ]
  },
  {
   "cell_type": "code",
   "execution_count": null,
   "metadata": {},
   "outputs": [],
   "source": [
    "kernel_names = ['polynomial', 'gaussian']\n",
    "kernel_type = [{'polynomial':[2, 7], 'gaussian':[0.4, 0.7]},\n",
    "               {'polynomial':[3, 5], 'gaussian':[0.5, 1]}]\n",
    "estimator = ca.centeredKernelAlignment\n",
    "sampler = ms.mySampler(n_splits=3, test_size=.35, lamb = 0.5, centering = True, normalize_kernels = False)"
   ]
  },
  {
   "cell_type": "code",
   "execution_count": null,
   "metadata": {
    "scrolled": true
   },
   "outputs": [],
   "source": [
    "result9 = sampler.sample(kernel_type, estimator, ds_list, y_, valid_fold = 3, verbose=True, exclusion_list = [[5,6,7,9,10,13,15,16,17,18,19], list(range(G.shape[1]-3)), []])"
   ]
  },
  {
   "cell_type": "code",
   "execution_count": null,
   "metadata": {},
   "outputs": [],
   "source": [
    "w_dict, w_list = result9.votingOverCA(ds_names, kernel_names)\n",
    "ut.testConfigurations(estimator, y_, y_test, w_list, ds_list, ds_test, kernel_names)"
   ]
  },
  {
   "cell_type": "code",
   "execution_count": null,
   "metadata": {
    "scrolled": true
   },
   "outputs": [],
   "source": [
    "result9.performancesFeatures()"
   ]
  },
  {
   "cell_type": "markdown",
   "metadata": {},
   "source": [
    "## Sparsity in eta, Centering, K-Normalization"
   ]
  },
  {
   "cell_type": "code",
   "execution_count": 21,
   "metadata": {},
   "outputs": [],
   "source": [
    "y = outputs[\"cvd_fail\"].values\n",
    "C = d_clinical.values\n",
    "G = d_genetic.values\n",
    "V = d_vampire.values"
   ]
  },
  {
   "cell_type": "code",
   "execution_count": 22,
   "metadata": {},
   "outputs": [],
   "source": [
    "tr_idx, ts_idx = next(StratifiedShuffleSplit(n_splits=1, test_size=0.5).split(C, y))"
   ]
  },
  {
   "cell_type": "code",
   "execution_count": 23,
   "metadata": {},
   "outputs": [],
   "source": [
    "y_ = y[tr_idx]\n",
    "y_test = y[ts_idx]\n",
    "C_ = C[tr_idx]\n",
    "C_test = C[ts_idx]\n",
    "G_ = G[tr_idx]\n",
    "G_test = G[ts_idx]\n",
    "V_ = V[tr_idx]\n",
    "V_test = V[ts_idx]"
   ]
  },
  {
   "cell_type": "code",
   "execution_count": 24,
   "metadata": {},
   "outputs": [],
   "source": [
    "ds_list = [C_, G_, V_]\n",
    "ds_test = [C_test, G_test, V_test]\n",
    "ds_names = ['clinic', 'genetic', 'vampire']"
   ]
  },
  {
   "cell_type": "code",
   "execution_count": 25,
   "metadata": {},
   "outputs": [],
   "source": [
    "kernel_names = ['polynomial', 'gaussian']\n",
    "kernel_type = [{'polynomial':[2, 7], 'gaussian':[0.4, 0.7]},\n",
    "               {'polynomial':[3, 5], 'gaussian':[0.5, 1]}]\n",
    "estimator = ca.centeredKernelAlignment\n",
    "sampler = ms.mySampler(n_splits=3, test_size=.35, sparsity = 0.7, centering = True, normalize_kernels = True)"
   ]
  },
  {
   "cell_type": "code",
   "execution_count": 26,
   "metadata": {
    "scrolled": true
   },
   "outputs": [
    {
     "name": "stdout",
     "output_type": "stream",
     "text": [
      "\n",
      "1 split out of 3 ...\n",
      "\tWorking on config 1 of 2: {'polynomial': [2, 7], 'gaussian': [0.4, 0.7]}\n",
      "Fold no. 1\n",
      "Fold no. 2\n",
      "Fold no. 3\n",
      "Validation complete, config selected:[[7, 0.4], [2, 0.7], [2, 0.4]]\n",
      "\tResult of 1:\n",
      "CA: 0.027883276075167097\n",
      "Accuracy: 0.5729166666666666\n",
      "Precision: 0.4063745019920319\n",
      "Recall: 0.6455696202531646\n",
      "[polynomial:7, gaussian:0.4, polynomial:2, gaussian:0.7, polynomial:2, gaussian:0.4, ]\n",
      "\n",
      "eta vector: [ 4.07502442e-01  9.12415607e-01 -0.00000000e+00  3.79406161e-02\n",
      " -0.00000000e+00  1.72551904e-04]\n",
      "\n",
      "\n",
      "\tCompleted in 2.0 minutes\n",
      "\tWorking on config 2 of 2: {'polynomial': [3, 5], 'gaussian': [0.5, 1]}\n",
      "Fold no. 1\n",
      "Fold no. 2\n",
      "Fold no. 3\n",
      "Validation complete, config selected:[[5, 0.5], [3, 1], [3, 0.5]]\n",
      "\tResult of 1:\n",
      "CA: 0.027883276075167097\n",
      "Accuracy: 0.5729166666666666\n",
      "Precision: 0.4063745019920319\n",
      "Recall: 0.6455696202531646\n",
      "[polynomial:7, gaussian:0.4, polynomial:2, gaussian:0.7, polynomial:2, gaussian:0.4, ]\n",
      "\n",
      "eta vector: [ 4.07502442e-01  9.12415607e-01 -0.00000000e+00  3.79406161e-02\n",
      " -0.00000000e+00  1.72551904e-04]\n",
      "\n",
      "CA: 0.02802078636197297\n",
      "Accuracy: 0.54375\n",
      "Precision: 0.3632286995515695\n",
      "Recall: 0.5126582278481012\n",
      "[polynomial:5, gaussian:0.5, polynomial:3, gaussian:1, polynomial:3, gaussian:0.5, ]\n",
      "\n",
      "eta vector: [ 0.25881915  0.96443937 -0.          0.05355375 -0.          0.00116054]\n",
      "\n",
      "\n",
      "\tCompleted in 4.15 minutes\n",
      "\n",
      "2 split out of 3 ...\n",
      "\tWorking on config 1 of 2: {'polynomial': [2, 7], 'gaussian': [0.4, 0.7]}\n",
      "Fold no. 1\n",
      "Fold no. 2\n",
      "Fold no. 3\n",
      "Validation complete, config selected:[[2, 0.7], [2, 0.4], [2, 0.7]]\n",
      "\tResult of 2:\n",
      "CA: 0.01829080415016237\n",
      "Accuracy: 0.525\n",
      "Precision: 0.3793103448275862\n",
      "Recall: 0.6962025316455697\n",
      "[polynomial:2, gaussian:0.7, polynomial:2, gaussian:0.4, polynomial:2, gaussian:0.7, ]\n",
      "\n",
      "eta vector: [ 8.07294090e-02  9.96630629e-01 -0.00000000e+00  1.44796297e-02\n",
      " -0.00000000e+00  7.01278361e-04]\n",
      "\n",
      "\n",
      "\tCompleted in 2.183333333333333 minutes\n",
      "\tWorking on config 2 of 2: {'polynomial': [3, 5], 'gaussian': [0.5, 1]}\n",
      "Fold no. 1\n",
      "Fold no. 2\n",
      "Fold no. 3\n",
      "Validation complete, config selected:[[3, 1], [5, 0.5], [5, 1]]\n",
      "\tResult of 2:\n",
      "CA: 0.01829080415016237\n",
      "Accuracy: 0.525\n",
      "Precision: 0.3793103448275862\n",
      "Recall: 0.6962025316455697\n",
      "[polynomial:2, gaussian:0.7, polynomial:2, gaussian:0.4, polynomial:2, gaussian:0.7, ]\n",
      "\n",
      "eta vector: [ 8.07294090e-02  9.96630629e-01 -0.00000000e+00  1.44796297e-02\n",
      " -0.00000000e+00  7.01278361e-04]\n",
      "\n",
      "CA: 0.01895743109812073\n",
      "Accuracy: 0.5791666666666667\n",
      "Precision: 0.41338582677165353\n",
      "Recall: 0.6645569620253164\n",
      "[polynomial:3, gaussian:1, polynomial:5, gaussian:0.5, polynomial:5, gaussian:1, ]\n",
      "\n",
      "eta vector: [ 0.09771796  0.99510264 -0.          0.01472796 -0.          0.00224287]\n",
      "\n",
      "\n",
      "\tCompleted in 4.666666666666667 minutes\n",
      "\n",
      "3 split out of 3 ...\n",
      "\tWorking on config 1 of 2: {'polynomial': [2, 7], 'gaussian': [0.4, 0.7]}\n",
      "Fold no. 1\n",
      "Fold no. 2\n",
      "Fold no. 3\n",
      "Validation complete, config selected:[[7, 0.7], [2, 0.7], [2, 0.4]]\n",
      "\tResult of 3:\n",
      "CA: 0.02401329837360591\n",
      "Accuracy: 0.58125\n",
      "Precision: 0.4100418410041841\n",
      "Recall: 0.620253164556962\n",
      "[polynomial:7, gaussian:0.7, polynomial:2, gaussian:0.7, polynomial:2, gaussian:0.4, ]\n",
      "\n",
      "eta vector: [ 0.27874771  0.96005024 -0.          0.02456124 -0.         -0.        ]\n",
      "\n",
      "\n",
      "\tCompleted in 2.3 minutes\n",
      "\tWorking on config 2 of 2: {'polynomial': [3, 5], 'gaussian': [0.5, 1]}\n",
      "Fold no. 1\n",
      "Fold no. 2\n",
      "Fold no. 3\n",
      "Validation complete, config selected:[[3, 0.5], [3, 1], [5, 0.5]]\n",
      "\tResult of 3:\n",
      "CA: 0.02401329837360591\n",
      "Accuracy: 0.58125\n",
      "Precision: 0.4100418410041841\n",
      "Recall: 0.620253164556962\n",
      "[polynomial:7, gaussian:0.7, polynomial:2, gaussian:0.7, polynomial:2, gaussian:0.4, ]\n",
      "\n",
      "eta vector: [ 0.27874771  0.96005024 -0.          0.02456124 -0.         -0.        ]\n",
      "\n",
      "CA: 0.023798827156083013\n",
      "Accuracy: 0.6020833333333333\n",
      "Precision: 0.40236686390532544\n",
      "Recall: 0.43037974683544306\n",
      "[polynomial:3, gaussian:0.5, polynomial:3, gaussian:1, polynomial:5, gaussian:0.5, ]\n",
      "\n",
      "eta vector: [ 0.15588065  0.98606601 -0.          0.05809515 -0.         -0.        ]\n",
      "\n",
      "\n",
      "\tCompleted in 4.666666666666667 minutes\n"
     ]
    }
   ],
   "source": [
    "result8 = sampler.sample(kernel_type, estimator, ds_list, y_, valid_fold = 3, verbose=True, exclusion_list = [[5,6,7,9,10,13,15,16,17,18,19], list(range(G.shape[1]-3)), []])"
   ]
  },
  {
   "cell_type": "code",
   "execution_count": 27,
   "metadata": {},
   "outputs": [
    {
     "name": "stdout",
     "output_type": "stream",
     "text": [
      "Perfomances computed for dictionary settings 1:\n",
      "\tAccuracy: 0.4959883296863603\n",
      "\tPrecision: 0.3378561736770692\n",
      "\tRecall: 0.5508849557522124\n",
      "Perfomances computed for dictionary settings 2:\n",
      "\tAccuracy: 0.48431801604668123\n",
      "\tPrecision: 0.33674775928297057\n",
      "\tRecall: 0.581858407079646\n"
     ]
    }
   ],
   "source": [
    "w_dict, w_list = result8.votingOverCA(ds_names, kernel_names)\n",
    "ut.testConfigurations(estimator, y_, y_test, w_list, ds_list, ds_test, kernel_names)"
   ]
  },
  {
   "cell_type": "code",
   "execution_count": 28,
   "metadata": {
    "scrolled": true
   },
   "outputs": [
    {
     "name": "stdout",
     "output_type": "stream",
     "text": [
      "statistics of configuration 1\n",
      "{'config': {'polynomial': [[7, 2, 2], [2, 2, 2], [7, 2, 2]], 'gaussian': [[0.4, 0.7, 0.4], [0.7, 0.4, 0.7], [0.7, 0.7, 0.4]]}, 'CA': (0.023395792866311795, 1.5526576131103264e-05), 'Accuracy': (0.5597222222222222, 0.0006143904320987652), 'Precision': (0.3985755626079341, 0.00018781587063379165), 'Recall': (0.6540084388185654, 0.0009969912229165574), 'eta': (array([2.55659854e-01, 9.56365491e-01, 0.00000000e+00, 2.56604961e-02,\n",
      "       0.00000000e+00, 2.91276755e-04]), array([1.80632938e-02, 1.18881701e-03, 0.00000000e+00, 9.23404932e-05,\n",
      "       0.00000000e+00, 8.90130184e-08]))}\n",
      "statistics of configuration 2\n",
      "{'config': {'polynomial': [[5, 3, 3], [3, 5, 5], [3, 3, 5]], 'gaussian': [[0.5, 1, 0.5], [1, 0.5, 1], [0.5, 1, 0.5]]}, 'CA': (0.02359234820539224, 1.3712051551672204e-05), 'Accuracy': (0.5750000000000001, 0.0005758101851851857), 'Precision': (0.39299379674284945, 0.0004632167625114249), 'Recall': (0.5358649789029536, 0.00940910466627499), 'eta': (array([0.17080592, 0.98186934, 0.        , 0.04212562, 0.        ,\n",
      "       0.00113447]), array([4.43698060e-03, 1.65512014e-04, 0.00000000e+00, 3.78753376e-04,\n",
      "       0.00000000e+00, 8.38751395e-07]))}\n"
     ]
    }
   ],
   "source": [
    "result8.performancesFeatures()"
   ]
  }
 ],
 "metadata": {
  "kernelspec": {
   "display_name": "Python 3",
   "language": "python",
   "name": "python3"
  },
  "language_info": {
   "codemirror_mode": {
    "name": "ipython",
    "version": 3
   },
   "file_extension": ".py",
   "mimetype": "text/x-python",
   "name": "python",
   "nbconvert_exporter": "python",
   "pygments_lexer": "ipython3",
   "version": "3.7.0"
  }
 },
 "nbformat": 4,
 "nbformat_minor": 2
}
