{
 "cells": [
  {
   "cell_type": "code",
   "execution_count": null,
   "metadata": {},
   "outputs": [],
   "source": [
    "import pandas as pd\n",
    "import os\n",
    "import numpy as np\n",
    "import Utils as ut"
   ]
  },
  {
   "cell_type": "code",
   "execution_count": null,
   "metadata": {},
   "outputs": [],
   "source": [
    "#TODO sort wrt id before dropping\n",
    "d_clinical = pd.read_csv(os.path.join('data', 'dataset_clinical.csv')).drop(['id'], axis=1)\n",
    "d_genetic = pd.read_csv(os.path.join('data', 'dataset_genetic.csv')).drop(['id'], axis=1)\n",
    "d_vampire = pd.read_csv(os.path.join('data', 'dataset_vampire.csv')).drop(['id'], axis=1)\n",
    "outputs = pd.read_csv(os.path.join('data', 'outputs.csv')).drop(['id'], axis=1)"
   ]
  },
  {
   "cell_type": "markdown",
   "metadata": {},
   "source": [
    "## Data Imputing"
   ]
  },
  {
   "cell_type": "markdown",
   "metadata": {},
   "source": [
    "### NaN filling"
   ]
  },
  {
   "cell_type": "code",
   "execution_count": null,
   "metadata": {
    "scrolled": true
   },
   "outputs": [],
   "source": [
    "d_clinical = ut.imputing(d_clinical, 'mean', 1, exception=['ther'])\n",
    "d_clinical = ut.imputing(d_clinical, 'most_frequent', 1)\n",
    "\n",
    "d_genetic = ut.imputing(d_genetic, 'min', 1, exception=['bp_gs', 'alzGS', 'cvdGS'])\n",
    "d_genetic = ut.imputing(d_genetic, 'mean', 1)\n",
    "\n",
    "d_vampire = ut.imputing(d_vampire, 'mean', 1)"
   ]
  },
  {
   "cell_type": "markdown",
   "metadata": {},
   "source": [
    "### one-hot encoding"
   ]
  },
  {
   "cell_type": "code",
   "execution_count": null,
   "metadata": {},
   "outputs": [],
   "source": [
    "d_clinical = ut.oneHotEncoder_v2(d_clinical, ['e4', 'ther'])"
   ]
  },
  {
   "cell_type": "markdown",
   "metadata": {},
   "source": [
    "### binary $\\to$ symmetric"
   ]
  },
  {
   "cell_type": "code",
   "execution_count": null,
   "metadata": {},
   "outputs": [],
   "source": [
    "d_clinical['gend'] = np.where(d_clinical['gend'] == 0, -1, 1)\n",
    "d_clinical['pre'] = np.where(d_clinical['pre'] == 0, -1, 1)\n",
    "d_clinical['eversmoker'] = np.where(d_clinical['eversmoker'] == 0, -1, 1)\n",
    "\n",
    "outputs[\"cvd_fail\"] = np.where(outputs[\"cvd_fail\"] == 0, -1, 1)\n",
    "outputs[\"dement_fail\"] = np.where(outputs[\"dement_fail\"] == 0, -1, 1)"
   ]
  },
  {
   "cell_type": "markdown",
   "metadata": {},
   "source": [
    "## Saving"
   ]
  },
  {
   "cell_type": "code",
   "execution_count": null,
   "metadata": {},
   "outputs": [],
   "source": [
    "d_clinical.to_csv(os.path.join('data', 'dataset_clinical_cleaned.csv'), index = False)\n",
    "d_genetic.to_csv(os.path.join('data', 'dataset_genetic_cleaned.csv'), index = False)\n",
    "d_vampire.to_csv(os.path.join('data', 'dataset_vampire_cleaned.csv'), index = False)\n",
    "outputs.to_csv(os.path.join('data', 'outputs_cleaned.csv'), index = False)"
   ]
  }
 ],
 "metadata": {
  "kernelspec": {
   "display_name": "Python 3",
   "language": "python",
   "name": "python3"
  },
  "language_info": {
   "codemirror_mode": {
    "name": "ipython",
    "version": 3
   },
   "file_extension": ".py",
   "mimetype": "text/x-python",
   "name": "python",
   "nbconvert_exporter": "python",
   "pygments_lexer": "ipython3",
   "version": "3.6.5"
  }
 },
 "nbformat": 4,
 "nbformat_minor": 2
}
