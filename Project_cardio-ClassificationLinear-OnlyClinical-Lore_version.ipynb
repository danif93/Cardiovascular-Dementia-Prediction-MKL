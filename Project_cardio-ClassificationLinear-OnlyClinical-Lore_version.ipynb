{
 "cells": [
  {
   "cell_type": "code",
   "execution_count": 1,
   "metadata": {},
   "outputs": [],
   "source": [
    "import pandas as pd\n",
    "import os\n",
    "import numpy as np\n",
    "\n",
    "import Utils as ut\n",
    "import CortesAlignmentFile as ca\n",
    "import mySampler as ms\n",
    " \n",
    "from sklearn.model_selection import StratifiedShuffleSplit"
   ]
  },
  {
   "cell_type": "code",
   "execution_count": 2,
   "metadata": {},
   "outputs": [],
   "source": [
    "d_clinical = pd.read_csv(os.path.join('data', 'dataset_clinical_cleaned.csv'))\n",
    "#d_genetic = pd.read_csv(os.path.join('data', 'dataset_genetic_cleaned_noOHE.csv'))\n",
    "#d_vampire = pd.read_csv(os.path.join('data', 'dataset_vampire_cleaned.csv'))\n",
    "outputs = pd.read_csv(os.path.join('data', 'outputs_cleaned.csv'))"
   ]
  },
  {
   "cell_type": "markdown",
   "metadata": {},
   "source": [
    "## Heart Attack"
   ]
  },
  {
   "cell_type": "code",
   "execution_count": 3,
   "metadata": {},
   "outputs": [],
   "source": [
    "y = outputs[\"cvd_fail\"].values\n",
    "C = d_clinical.values\n",
    "#G = d_genetic.values\n",
    "#V = d_vampire.values"
   ]
  },
  {
   "cell_type": "code",
   "execution_count": 4,
   "metadata": {},
   "outputs": [],
   "source": [
    "# COMPUTATIONAL COMPLEXITY: Reduce #samples\n",
    "tr_idx, ts_idx = next(StratifiedShuffleSplit(n_splits=1, test_size=0.25).split(C, y))"
   ]
  },
  {
   "cell_type": "code",
   "execution_count": 5,
   "metadata": {},
   "outputs": [],
   "source": [
    "y_ = y[tr_idx]\n",
    "y_test = y[ts_idx]\n",
    "C_ = C[tr_idx]\n",
    "C_test = C[ts_idx]\n",
    "#G_ = G[tr_idx]\n",
    "#G_test = G[ts_idx]\n",
    "#V_ = V[tr_idx]\n",
    "#V_test = V[ts_idx]"
   ]
  },
  {
   "cell_type": "code",
   "execution_count": 6,
   "metadata": {},
   "outputs": [],
   "source": [
    "ds_list = [C_]#, G_, V_]\n",
    "ds_test = [C_test]#, G_test, V_test]\n",
    "ds_names = ['clinic']#, 'genetic', 'vampire']"
   ]
  },
  {
   "cell_type": "markdown",
   "metadata": {},
   "source": [
    "## Basic approach"
   ]
  },
  {
   "cell_type": "code",
   "execution_count": null,
   "metadata": {},
   "outputs": [],
   "source": [
    "kernel_names = ['linear', 'laplacian', 'sigmoid', 'polynomial', 'gaussian']\n",
    "kernel_type = [{'linear':[1], 'laplacian':[0.1, 0.05], 'sigmoid':[0.3, 0.6], 'polynomial':[2, 3], 'gaussian':[0.4, 0.7]},\n",
    "               {'linear':[1], 'laplacian':[0.1, 0.15], 'sigmoid':[0.4, 0.5], 'polynomial':[3, 4], 'gaussian':[0.5, 1]}]\n",
    "estimator = ca.centeredKernelAlignment\n",
    "sampler = ms.mySampler(n_splits=3, test_size=.25)"
   ]
  },
  {
   "cell_type": "code",
   "execution_count": null,
   "metadata": {},
   "outputs": [],
   "source": [
    "result1 = sampler.sample(kernel_type, estimator, ds_list, y_, valid_fold = 3, verbose=True)"
   ]
  },
  {
   "cell_type": "code",
   "execution_count": null,
   "metadata": {},
   "outputs": [],
   "source": [
    "w_dict, w_list = result1.votingOverCA(ds_names, kernel_names)\n",
    "ut.testConfigurations(estimator, y_, y_test, w_list, ds_list, ds_test, kernel_names)"
   ]
  },
  {
   "cell_type": "code",
   "execution_count": null,
   "metadata": {},
   "outputs": [],
   "source": [
    "w_dict"
   ]
  },
  {
   "cell_type": "code",
   "execution_count": null,
   "metadata": {},
   "outputs": [],
   "source": [
    "result1.performancesFeatures()"
   ]
  },
  {
   "cell_type": "markdown",
   "metadata": {},
   "source": [
    "## Kernel normalization"
   ]
  },
  {
   "cell_type": "code",
   "execution_count": null,
   "metadata": {},
   "outputs": [],
   "source": [
    "kernel_names = ['linear', 'laplacian', 'sigmoid', 'polynomial', 'gaussian']\n",
    "kernel_type = [{'linear':[1], 'laplacian':[0.1, 0.05], 'sigmoid':[0.3, 0.6], 'polynomial':[2, 3], 'gaussian':[0.4, 0.7]},\n",
    "               {'linear':[1], 'laplacian':[0.1, 0.15], 'sigmoid':[0.4, 0.5], 'polynomial':[3, 4], 'gaussian':[0.5, 1]}]\n",
    "estimator = ca.centeredKernelAlignment\n",
    "sampler = ms.mySampler(n_splits=3, test_size=.25, normalize_kernels = True)"
   ]
  },
  {
   "cell_type": "code",
   "execution_count": null,
   "metadata": {
    "scrolled": true
   },
   "outputs": [],
   "source": [
    "result3 = sampler.sample(kernel_type, estimator, ds_list, y_, valid_fold = 3, verbose=True)"
   ]
  },
  {
   "cell_type": "code",
   "execution_count": null,
   "metadata": {},
   "outputs": [],
   "source": [
    "w_dict, w_list = result3.votingOverCA(ds_names, kernel_names)\n",
    "ut.testConfigurations(estimator, y_, y_test, w_list, ds_list, ds_test, kernel_names)"
   ]
  },
  {
   "cell_type": "code",
   "execution_count": null,
   "metadata": {},
   "outputs": [],
   "source": [
    "result3.performancesFeatures()"
   ]
  },
  {
   "cell_type": "markdown",
   "metadata": {},
   "source": [
    "## Normalized data"
   ]
  },
  {
   "cell_type": "code",
   "execution_count": null,
   "metadata": {},
   "outputs": [],
   "source": [
    "kernel_names = ['linear', 'laplacian', 'sigmoid', 'polynomial', 'gaussian']\n",
    "kernel_type = [{'linear':[1], 'laplacian':[0.1, 0.05], 'sigmoid':[0.3, 0.6], 'polynomial':[2, 3], 'gaussian':[0.4, 0.7]},\n",
    "               {'linear':[1], 'laplacian':[0.1, 0.15], 'sigmoid':[0.4, 0.5], 'polynomial':[3, 4], 'gaussian':[0.5, 1]}]\n",
    "estimator = ca.centeredKernelAlignment\n",
    "sampler = ms.mySampler(n_splits=3, test_size=.25, normalizing = True)"
   ]
  },
  {
   "cell_type": "code",
   "execution_count": null,
   "metadata": {
    "scrolled": true
   },
   "outputs": [],
   "source": [
    "result4 = sampler.sample(kernel_type, estimator, ds_list, y_, valid_fold = 3, verbose=True, exclusion_list = [[5,6,7,9,10,13,15,16,17,18,19]])"
   ]
  },
  {
   "cell_type": "code",
   "execution_count": null,
   "metadata": {},
   "outputs": [],
   "source": [
    "w_dict, w_list = result4.votingOverCA(ds_names, kernel_names)\n",
    "ut.testConfigurations(estimator, y_, y_test, w_list, ds_list, ds_test, kernel_names)"
   ]
  },
  {
   "cell_type": "code",
   "execution_count": null,
   "metadata": {},
   "outputs": [],
   "source": [
    "result4.performancesFeatures()"
   ]
  },
  {
   "cell_type": "markdown",
   "metadata": {},
   "source": [
    "## Origin Data Centering"
   ]
  },
  {
   "cell_type": "code",
   "execution_count": null,
   "metadata": {},
   "outputs": [],
   "source": [
    "kernel_names = ['linear', 'laplacian', 'sigmoid', 'polynomial', 'gaussian']\n",
    "kernel_type = [{'linear':[1], 'laplacian':[0.1, 0.05], 'sigmoid':[0.3, 0.6], 'polynomial':[2, 3], 'gaussian':[0.4, 0.7]},\n",
    "               {'linear':[1], 'laplacian':[0.1, 0.15], 'sigmoid':[0.4, 0.5], 'polynomial':[3, 4], 'gaussian':[0.5, 1]}]\n",
    "estimator = ca.centeredKernelAlignment\n",
    "sampler = ms.mySampler(n_splits=3, test_size=.25, centering = True, exclusion_list = [[5,6,7,9,10,13,15,16,17,18,19]])"
   ]
  },
  {
   "cell_type": "code",
   "execution_count": null,
   "metadata": {
    "scrolled": true
   },
   "outputs": [],
   "source": [
    "result5 = sampler.sample(kernel_type, estimator, ds_list, y_, valid_fold = 3, verbose=True)"
   ]
  },
  {
   "cell_type": "code",
   "execution_count": null,
   "metadata": {},
   "outputs": [],
   "source": [
    "w_dict, w_list = result5.votingOverCA(ds_names, kernel_names)\n",
    "ut.testConfigurations(estimator, y_, y_test, w_list, ds_list, ds_test, kernel_names)"
   ]
  },
  {
   "cell_type": "code",
   "execution_count": null,
   "metadata": {
    "scrolled": true
   },
   "outputs": [],
   "source": [
    "result5.performancesFeatures()"
   ]
  },
  {
   "cell_type": "markdown",
   "metadata": {},
   "source": [
    "## Origin Data  Centering and Normalization"
   ]
  },
  {
   "cell_type": "code",
   "execution_count": null,
   "metadata": {},
   "outputs": [],
   "source": [
    "kernel_names = ['linear', 'laplacian', 'sigmoid', 'polynomial', 'gaussian']\n",
    "kernel_type = [{'linear':[1], 'laplacian':[0.1, 0.05], 'sigmoid':[0.3, 0.6], 'polynomial':[2, 3], 'gaussian':[0.4, 0.7]},\n",
    "               {'linear':[1], 'laplacian':[0.1, 0.15], 'sigmoid':[0.4, 0.5], 'polynomial':[3, 4], 'gaussian':[0.5, 1]}]\n",
    "estimator = ca.centeredKernelAlignment\n",
    "sampler = ms.mySampler(n_splits=3, test_size=.35, centering = True, normalizing = True)"
   ]
  },
  {
   "cell_type": "code",
   "execution_count": null,
   "metadata": {},
   "outputs": [],
   "source": [
    "result6 = sampler.sample(kernel_type, estimator, ds_list, y_, valid_fold = 3, verbose=True, exclusion_list = [[5,6,7,9,10,13,15,16,17,18,19]])"
   ]
  },
  {
   "cell_type": "code",
   "execution_count": null,
   "metadata": {},
   "outputs": [],
   "source": [
    "w_dict, w_list = result6.votingOverCA(ds_names, kernel_names)\n",
    "ut.testConfigurations(estimator, y_, y_test, w_list, ds_list, ds_test, kernel_names)"
   ]
  },
  {
   "cell_type": "code",
   "execution_count": null,
   "metadata": {
    "scrolled": true
   },
   "outputs": [],
   "source": [
    "result6.performancesFeatures()"
   ]
  },
  {
   "cell_type": "markdown",
   "metadata": {},
   "source": [
    "## Normalization, Kernel Normalization"
   ]
  },
  {
   "cell_type": "code",
   "execution_count": null,
   "metadata": {},
   "outputs": [],
   "source": [
    "kernel_names = ['linear', 'laplacian', 'sigmoid', 'polynomial', 'gaussian']\n",
    "kernel_type = [{'linear':[1], 'laplacian':[0.1, 0.05], 'sigmoid':[0.3, 0.6], 'polynomial':[2, 3], 'gaussian':[0.4, 0.7]},\n",
    "               {'linear':[1], 'laplacian':[0.1, 0.15], 'sigmoid':[0.4, 0.5], 'polynomial':[3, 4], 'gaussian':[0.5, 1]}]\n",
    "estimator = ca.centeredKernelAlignment\n",
    "sampler = ms.mySampler(n_splits=3, test_size=.35, normalizing = True, normalize_kernels = True)"
   ]
  },
  {
   "cell_type": "code",
   "execution_count": null,
   "metadata": {},
   "outputs": [],
   "source": [
    "result10 = sampler.sample(kernel_type, estimator, ds_list, y_, valid_fold = 3, verbose=True, exclusion_list = [[5,6,7,9,10,13,15,16,17,18,19], list(range(G.shape[1]-3)), []])"
   ]
  },
  {
   "cell_type": "code",
   "execution_count": null,
   "metadata": {},
   "outputs": [],
   "source": [
    "w_dict, w_list = result10.votingOverCA(ds_names, kernel_names)\n",
    "ut.testConfigurations(estimator, y_, y_test, w_list, ds_list, ds_test, kernel_names)"
   ]
  },
  {
   "cell_type": "code",
   "execution_count": null,
   "metadata": {
    "scrolled": false
   },
   "outputs": [],
   "source": [
    "result10.performancesFeatures()"
   ]
  },
  {
   "cell_type": "markdown",
   "metadata": {},
   "source": [
    "## Centering, Kernel Normalization"
   ]
  },
  {
   "cell_type": "code",
   "execution_count": 47,
   "metadata": {},
   "outputs": [],
   "source": [
    "kernel_names = ['linear', 'laplacian', 'sigmoid', 'polynomial', 'gaussian']\n",
    "kernel_type = [{'linear':[1], 'laplacian':[0.1, 0.05], 'sigmoid':[0.3, 0.6], 'polynomial':[2, 3], 'gaussian':[0.4, 0.7]},\n",
    "               {'linear':[1], 'laplacian':[0.1, 0.15], 'sigmoid':[0.4, 0.5], 'polynomial':[3, 4], 'gaussian':[0.5, 1]}]\n",
    "estimator = ca.centeredKernelAlignment\n",
    "sampler = ms.mySampler(n_splits=3, test_size=.25, centering = True, normalize_kernels = True)"
   ]
  },
  {
   "cell_type": "code",
   "execution_count": 48,
   "metadata": {
    "scrolled": true
   },
   "outputs": [
    {
     "name": "stdout",
     "output_type": "stream",
     "text": [
      "\n",
      "1 split out of 3 ...\n",
      "\tWorking on config 1 of 2: {'linear': [1], 'laplacian': [0.1, 0.05], 'sigmoid': [0.3, 0.6], 'polynomial': [2, 3], 'gaussian': [0.4, 0.7]}\n",
      "Fold no. 1\n",
      "Fold no. 2\n",
      "Fold no. 3\n",
      "Validation complete, config selected:[1, 0.05, 0.3, 3, 0.4]\n",
      "\tResult of 1:\n",
      "CA: 0.025440055151371346\n",
      "Accuracy: 0.48249027237354086\n",
      "Precision: 0.31954887218045114\n",
      "Recall: 0.5\n",
      "[linear:1, laplacian:0.05, sigmoid:0.3, polynomial:3, gaussian:0.4, ]\n",
      "\n",
      "eta vector: [-2.11235008e-02  3.24299106e+01  1.18238087e+02 -2.39809534e+02\n",
      "  1.84319813e+01]\n",
      "\n",
      "\n",
      "\tCompleted in 1.6166666666666667 minutes\n",
      "\tWorking on config 2 of 2: {'linear': [1], 'laplacian': [0.1, 0.15], 'sigmoid': [0.4, 0.5], 'polynomial': [3, 4], 'gaussian': [0.5, 1]}\n",
      "Fold no. 1\n",
      "Fold no. 2\n",
      "Fold no. 3\n",
      "Validation complete, config selected:[1, 0.1, 0.4, 3, 0.5]\n",
      "\tResult of 1:\n",
      "CA: 0.025440055151371346\n",
      "Accuracy: 0.48249027237354086\n",
      "Precision: 0.31954887218045114\n",
      "Recall: 0.5\n",
      "[linear:1, laplacian:0.05, sigmoid:0.3, polynomial:3, gaussian:0.4, ]\n",
      "\n",
      "eta vector: [-2.11235008e-02  3.24299106e+01  1.18238087e+02 -2.39809534e+02\n",
      "  1.84319813e+01]\n",
      "\n",
      "CA: 0.025496720329454284\n",
      "Accuracy: 0.48443579766536965\n",
      "Precision: 0.32075471698113206\n",
      "Recall: 0.5\n",
      "[linear:1, laplacian:0.1, sigmoid:0.4, polynomial:3, gaussian:0.5, ]\n",
      "\n",
      "eta vector: [   0.21316445   16.61288608   53.36861769 -146.97793573    8.48809355]\n",
      "\n",
      "\n",
      "\tCompleted in 3.283333333333333 minutes\n",
      "\n",
      "2 split out of 3 ...\n",
      "\tWorking on config 1 of 2: {'linear': [1], 'laplacian': [0.1, 0.05], 'sigmoid': [0.3, 0.6], 'polynomial': [2, 3], 'gaussian': [0.4, 0.7]}\n",
      "Fold no. 1\n",
      "Fold no. 2\n",
      "Fold no. 3\n",
      "Validation complete, config selected:[1, 0.05, 0.3, 3, 0.4]\n",
      "\tResult of 2:\n",
      "CA: 0.0242604948048589\n",
      "Accuracy: 0.5\n",
      "Precision: 0.32669322709163345\n",
      "Recall: 0.4823529411764706\n",
      "[linear:1, laplacian:0.05, sigmoid:0.3, polynomial:3, gaussian:0.4, ]\n",
      "\n",
      "eta vector: [  -0.41431424   34.09520566  133.95105137 -265.37499936   20.48091056]\n",
      "\n",
      "\n",
      "\tCompleted in 1.5166666666666666 minutes\n",
      "\tWorking on config 2 of 2: {'linear': [1], 'laplacian': [0.1, 0.15], 'sigmoid': [0.4, 0.5], 'polynomial': [3, 4], 'gaussian': [0.5, 1]}\n",
      "Fold no. 1\n",
      "Fold no. 2\n",
      "Fold no. 3\n",
      "Validation complete, config selected:[1, 0.1, 0.4, 3, 0.5]\n",
      "\tResult of 2:\n",
      "CA: 0.0242604948048589\n",
      "Accuracy: 0.5\n",
      "Precision: 0.32669322709163345\n",
      "Recall: 0.4823529411764706\n",
      "[linear:1, laplacian:0.05, sigmoid:0.3, polynomial:3, gaussian:0.4, ]\n",
      "\n",
      "eta vector: [  -0.41431424   34.09520566  133.95105137 -265.37499936   20.48091056]\n",
      "\n",
      "CA: 0.024387311382861876\n",
      "Accuracy: 0.48638132295719844\n",
      "Precision: 0.31496062992125984\n",
      "Recall: 0.47058823529411764\n",
      "[linear:1, laplacian:0.1, sigmoid:0.4, polynomial:3, gaussian:0.5, ]\n",
      "\n",
      "eta vector: [-1.56112865e-01  1.75963919e+01  6.10657707e+01 -1.62428620e+02\n",
      "  9.48880504e+00]\n",
      "\n",
      "\n",
      "\tCompleted in 3.1166666666666667 minutes\n",
      "\n",
      "3 split out of 3 ...\n",
      "\tWorking on config 1 of 2: {'linear': [1], 'laplacian': [0.1, 0.05], 'sigmoid': [0.3, 0.6], 'polynomial': [2, 3], 'gaussian': [0.4, 0.7]}\n",
      "Fold no. 1\n",
      "Fold no. 2\n",
      "Fold no. 3\n",
      "Validation complete, config selected:[1, 0.05, 0.3, 3, 0.4]\n",
      "\tResult of 3:\n",
      "CA: 0.0248342739913701\n",
      "Accuracy: 0.4591439688715953\n",
      "Precision: 0.29699248120300753\n",
      "Recall: 0.4647058823529412\n",
      "[linear:1, laplacian:0.05, sigmoid:0.3, polynomial:3, gaussian:0.4, ]\n",
      "\n",
      "eta vector: [ 1.86175976e-02  3.38426803e+01  1.34360802e+02 -2.71414044e+02\n",
      "  2.05459738e+01]\n",
      "\n",
      "\n",
      "\tCompleted in 1.5166666666666666 minutes\n",
      "\tWorking on config 2 of 2: {'linear': [1], 'laplacian': [0.1, 0.15], 'sigmoid': [0.4, 0.5], 'polynomial': [3, 4], 'gaussian': [0.5, 1]}\n",
      "Fold no. 1\n",
      "Fold no. 2\n",
      "Fold no. 3\n",
      "Validation complete, config selected:[1, 0.1, 0.4, 3, 0.5]\n",
      "\tResult of 3:\n",
      "CA: 0.0248342739913701\n",
      "Accuracy: 0.4591439688715953\n",
      "Precision: 0.29699248120300753\n",
      "Recall: 0.4647058823529412\n",
      "[linear:1, laplacian:0.05, sigmoid:0.3, polynomial:3, gaussian:0.4, ]\n",
      "\n",
      "eta vector: [ 1.86175976e-02  3.38426803e+01  1.34360802e+02 -2.71414044e+02\n",
      "  2.05459738e+01]\n",
      "\n",
      "CA: 0.02488811523213303\n",
      "Accuracy: 0.46108949416342415\n",
      "Precision: 0.299625468164794\n",
      "Recall: 0.47058823529411764\n",
      "[linear:1, laplacian:0.1, sigmoid:0.4, polynomial:3, gaussian:0.5, ]\n",
      "\n",
      "eta vector: [   0.29072316   17.39904984   60.43977249 -166.05234011    9.36506509]\n",
      "\n",
      "\n",
      "\tCompleted in 2.7333333333333334 minutes\n"
     ]
    }
   ],
   "source": [
    "result11 = sampler.sample(kernel_type, estimator, ds_list, y_, valid_fold = 3, verbose=True, exclusion_list = [[5,6,7,9,10,13,15,16,17,18,19]])"
   ]
  },
  {
   "cell_type": "code",
   "execution_count": 49,
   "metadata": {},
   "outputs": [
    {
     "name": "stdout",
     "output_type": "stream",
     "text": [
      "Perfomances computed for dictionary settings 1:\n",
      "\tAccuracy: 0.5845481049562682\n",
      "\tPrecision: 0.4178272980501393\n",
      "\tRecall: 0.6637168141592921\n",
      "Perfomances computed for dictionary settings 2:\n",
      "\tAccuracy: 0.5801749271137027\n",
      "\tPrecision: 0.4157608695652174\n",
      "\tRecall: 0.6769911504424779\n"
     ]
    }
   ],
   "source": [
    "w_dict, w_list = result11.votingOverCA(ds_names, kernel_names)\n",
    "ut.testConfigurations(estimator, y_, y_test, w_list, ds_list, ds_test, kernel_names)"
   ]
  },
  {
   "cell_type": "code",
   "execution_count": 50,
   "metadata": {
    "scrolled": true
   },
   "outputs": [
    {
     "name": "stdout",
     "output_type": "stream",
     "text": [
      "statistics of configuration 1\n",
      "{'config': {'linear': [[1], [1], [1]], 'laplacian': [[0.05], [0.05], [0.05]], 'sigmoid': [[0.3], [0.3], [0.3]], 'polynomial': [[3], [3], [3]], 'gaussian': [[0.4], [0.4], [0.4]]}, 'CA': (0.024844941315866783, 2.319506644167194e-07), 'Accuracy': (0.4805447470817121, 0.0002800950809247683), 'Precision': (0.3144115268250307, 0.00016021854304055158), 'Recall': (0.48235294117647065, 0.00020761245674740469), 'eta': (array([-1.38940048e-01,  3.34559322e+01,  1.28849980e+02, -2.58866193e+02,\n",
      "        1.98196219e+01]), array([3.81786990e-02, 5.36988317e-01, 5.63341170e+01, 1.87656457e+02,\n",
      "       9.63478733e-01]))}\n",
      "statistics of configuration 2\n",
      "{'config': {'linear': [[1], [1], [1]], 'laplacian': [[0.1], [0.1], [0.1]], 'sigmoid': [[0.4], [0.4], [0.4]], 'polynomial': [[3], [3], [3]], 'gaussian': [[0.5], [0.5], [0.5]]}, 'CA': (0.024924048981483066, 2.0577698563438816e-07), 'Accuracy': (0.4773022049286641, 0.00013205683995552088), 'Precision': (0.311780271689062, 7.946486516634145e-05), 'Recall': (0.4803921568627451, 0.0001922337562475972), 'eta': (array([ 1.15924917e-01,  1.72027759e+01,  5.82913869e+01, -1.58486299e+02,\n",
      "        9.11398789e+00]), array([3.80048362e-02, 1.80475666e-01, 1.21821409e+01, 6.84097657e+01,\n",
      "       1.98423793e-01]))}\n"
     ]
    }
   ],
   "source": [
    "result11.performancesFeatures()"
   ]
  },
  {
   "cell_type": "markdown",
   "metadata": {},
   "source": [
    "## Centering, Normalization, Kernel Normalization"
   ]
  },
  {
   "cell_type": "code",
   "execution_count": null,
   "metadata": {},
   "outputs": [],
   "source": [
    "kernel_names = ['linear', 'laplacian', 'sigmoid', 'polynomial', 'gaussian']\n",
    "kernel_type = [{'linear':[1], 'laplacian':[0.1, 0.05], 'sigmoid':[0.3, 0.6], 'polynomial':[2, 3], 'gaussian':[0.4, 0.7]},\n",
    "               {'linear':[1], 'laplacian':[0.1, 0.15], 'sigmoid':[0.4, 0.5], 'polynomial':[3, 4], 'gaussian':[0.5, 1]}]\n",
    "estimator = ca.centeredKernelAlignment\n",
    "sampler = ms.mySampler(n_splits=3, test_size=.25, centering = True, normalizing = True, normalize_kernels = True)"
   ]
  },
  {
   "cell_type": "code",
   "execution_count": null,
   "metadata": {},
   "outputs": [],
   "source": [
    "result7 = sampler.sample(kernel_type, estimator, ds_list, y_, valid_fold = 3, verbose=True, exclusion_list = [[5,6,7,9,10,13,15,16,17,18,19]])"
   ]
  },
  {
   "cell_type": "code",
   "execution_count": null,
   "metadata": {},
   "outputs": [],
   "source": [
    "w_dict, w_list = result7.votingOverCA(ds_names, kernel_names)\n",
    "ut.testConfigurations(estimator, y_, y_test, w_list, ds_list, ds_test, kernel_names)"
   ]
  },
  {
   "cell_type": "code",
   "execution_count": null,
   "metadata": {
    "scrolled": true
   },
   "outputs": [],
   "source": [
    "result7.performancesFeatures()"
   ]
  },
  {
   "cell_type": "markdown",
   "metadata": {},
   "source": [
    "## L2 Penalty, Centering, K-Normalization"
   ]
  },
  {
   "cell_type": "code",
   "execution_count": 63,
   "metadata": {},
   "outputs": [],
   "source": [
    "kernel_names = ['linear', 'laplacian', 'sigmoid', 'polynomial', 'gaussian']\n",
    "kernel_type = [{'linear':[1], 'laplacian':[0.1, 0.05], 'sigmoid':[0.3, 0.6], 'polynomial':[2, 3], 'gaussian':[0.4, 0.7]},\n",
    "               {'linear':[1], 'laplacian':[0.1, 0.15], 'sigmoid':[0.4, 0.5], 'polynomial':[3, 4], 'gaussian':[0.5, 1]}]\n",
    "estimator = ca.centeredKernelAlignment\n",
    "sampler = ms.mySampler(n_splits=3, test_size=.25, lamb = 0.5, centering = True, normalize_kernels = False)"
   ]
  },
  {
   "cell_type": "code",
   "execution_count": 64,
   "metadata": {
    "scrolled": true
   },
   "outputs": [
    {
     "name": "stdout",
     "output_type": "stream",
     "text": [
      "\n",
      "1 split out of 3 ...\n",
      "\tWorking on config 1 of 2: {'linear': [1], 'laplacian': [0.1, 0.05], 'sigmoid': [0.3, 0.6], 'polynomial': [2, 3], 'gaussian': [0.4, 0.7]}\n",
      "Fold no. 1\n",
      "Fold no. 2\n",
      "Fold no. 3\n",
      "Validation complete, config selected:[1, 0.05, 0.6, 3, 0.7]\n",
      "\tResult of 1:\n",
      "CA: 0.031380328915002614\n",
      "Accuracy: 0.5603112840466926\n",
      "Precision: 0.384297520661157\n",
      "Recall: 0.5470588235294118\n",
      "[linear:1, laplacian:0.05, sigmoid:0.6, polynomial:3, gaussian:0.7, ]\n",
      "\n",
      "eta vector: [-0.23646578  1.03285042  0.57320741  0.07395261  0.13470301]\n",
      "\n",
      "\n",
      "\tCompleted in 1.2 minutes\n",
      "\tWorking on config 2 of 2: {'linear': [1], 'laplacian': [0.1, 0.15], 'sigmoid': [0.4, 0.5], 'polynomial': [3, 4], 'gaussian': [0.5, 1]}\n",
      "Fold no. 1\n",
      "Fold no. 2\n",
      "Fold no. 3\n",
      "Validation complete, config selected:[1, 0.1, 0.5, 3, 1]\n",
      "\tResult of 1:\n",
      "CA: 0.031380328915002614\n",
      "Accuracy: 0.5603112840466926\n",
      "Precision: 0.384297520661157\n",
      "Recall: 0.5470588235294118\n",
      "[linear:1, laplacian:0.05, sigmoid:0.6, polynomial:3, gaussian:0.7, ]\n",
      "\n",
      "eta vector: [-0.23646578  1.03285042  0.57320741  0.07395261  0.13470301]\n",
      "\n",
      "CA: 0.031469399145667466\n",
      "Accuracy: 0.5583657587548638\n",
      "Precision: 0.38271604938271603\n",
      "Recall: 0.5470588235294118\n",
      "[linear:1, laplacian:0.1, sigmoid:0.5, polynomial:3, gaussian:1, ]\n",
      "\n",
      "eta vector: [-0.21347745  0.62416406  0.70262233  0.09577265  0.06729049]\n",
      "\n",
      "\n",
      "\tCompleted in 2.5 minutes\n",
      "\n",
      "2 split out of 3 ...\n",
      "\tWorking on config 1 of 2: {'linear': [1], 'laplacian': [0.1, 0.05], 'sigmoid': [0.3, 0.6], 'polynomial': [2, 3], 'gaussian': [0.4, 0.7]}\n",
      "Fold no. 1\n",
      "Fold no. 2\n",
      "Fold no. 3\n",
      "Validation complete, config selected:[1, 0.1, 0.6, 3, 0.4]\n",
      "\tResult of 2:\n",
      "CA: 0.026674672653458877\n",
      "Accuracy: 0.42217898832684825\n",
      "Precision: 0.26037735849056604\n",
      "Recall: 0.40588235294117647\n",
      "[linear:1, laplacian:0.1, sigmoid:0.6, polynomial:3, gaussian:0.4, ]\n",
      "\n",
      "eta vector: [-0.4623321   0.63375487  0.97216965 -0.08988876  0.48438558]\n",
      "\n",
      "\n",
      "\tCompleted in 1.2833333333333334 minutes\n",
      "\tWorking on config 2 of 2: {'linear': [1], 'laplacian': [0.1, 0.15], 'sigmoid': [0.4, 0.5], 'polynomial': [3, 4], 'gaussian': [0.5, 1]}\n",
      "Fold no. 1\n",
      "Fold no. 2\n",
      "Fold no. 3\n",
      "Validation complete, config selected:[1, 0.15, 0.5, 4, 0.5]\n",
      "\tResult of 2:\n",
      "CA: 0.026674672653458877\n",
      "Accuracy: 0.42217898832684825\n",
      "Precision: 0.26037735849056604\n",
      "Recall: 0.40588235294117647\n",
      "[linear:1, laplacian:0.1, sigmoid:0.6, polynomial:3, gaussian:0.4, ]\n",
      "\n",
      "eta vector: [-0.4623321   0.63375487  0.97216965 -0.08988876  0.48438558]\n",
      "\n",
      "CA: 0.026735282223181136\n",
      "Accuracy: 0.4708171206225681\n",
      "Precision: 0.32653061224489793\n",
      "Recall: 0.5647058823529412\n",
      "[linear:1, laplacian:0.15, sigmoid:0.5, polynomial:4, gaussian:0.5, ]\n",
      "\n",
      "eta vector: [-0.36043339  0.50676064  1.18349401 -0.23715346  0.27966412]\n",
      "\n",
      "\n",
      "\tCompleted in 2.6 minutes\n",
      "\n",
      "3 split out of 3 ...\n",
      "\tWorking on config 1 of 2: {'linear': [1], 'laplacian': [0.1, 0.05], 'sigmoid': [0.3, 0.6], 'polynomial': [2, 3], 'gaussian': [0.4, 0.7]}\n",
      "Fold no. 1\n",
      "Fold no. 2\n",
      "Fold no. 3\n",
      "Validation complete, config selected:[1, 0.05, 0.6, 3, 0.4]\n",
      "\tResult of 3:\n",
      "CA: 0.026912259029454343\n",
      "Accuracy: 0.4280155642023346\n",
      "Precision: 0.2578125\n",
      "Recall: 0.38823529411764707\n",
      "[linear:1, laplacian:0.05, sigmoid:0.6, polynomial:3, gaussian:0.4, ]\n",
      "\n",
      "eta vector: [-0.49451556  0.84918093  1.00829054 -0.04982605  0.58324301]\n",
      "\n",
      "\n",
      "\tCompleted in 1.2666666666666666 minutes\n",
      "\tWorking on config 2 of 2: {'linear': [1], 'laplacian': [0.1, 0.15], 'sigmoid': [0.4, 0.5], 'polynomial': [3, 4], 'gaussian': [0.5, 1]}\n",
      "Fold no. 1\n",
      "Fold no. 2\n",
      "Fold no. 3\n",
      "Validation complete, config selected:[1, 0.1, 0.5, 4, 0.5]\n",
      "\tResult of 3:\n",
      "CA: 0.026912259029454343\n",
      "Accuracy: 0.4280155642023346\n",
      "Precision: 0.2578125\n",
      "Recall: 0.38823529411764707\n",
      "[linear:1, laplacian:0.05, sigmoid:0.6, polynomial:3, gaussian:0.4, ]\n",
      "\n",
      "eta vector: [-0.49451556  0.84918093  1.00829054 -0.04982605  0.58324301]\n",
      "\n",
      "CA: 0.027001137845205032\n",
      "Accuracy: 0.46303501945525294\n",
      "Precision: 0.32792207792207795\n",
      "Recall: 0.5941176470588235\n",
      "[linear:1, laplacian:0.1, sigmoid:0.5, polynomial:4, gaussian:0.5, ]\n",
      "\n",
      "eta vector: [-0.4024069   0.5168685   1.25408192 -0.16481343  0.3621226 ]\n",
      "\n",
      "\n",
      "\tCompleted in 2.566666666666667 minutes\n"
     ]
    }
   ],
   "source": [
    "result9 = sampler.sample(kernel_type, estimator, ds_list, y_, valid_fold = 3, verbose=True, exclusion_list = [[5,6,7,9,10,13,15,16,17,18,19]])"
   ]
  },
  {
   "cell_type": "code",
   "execution_count": 65,
   "metadata": {},
   "outputs": [
    {
     "name": "stdout",
     "output_type": "stream",
     "text": [
      "Perfomances computed for dictionary settings 1:\n",
      "\tAccuracy: 0.565597667638484\n",
      "\tPrecision: 0.40217391304347827\n",
      "\tRecall: 0.6548672566371682\n",
      "Perfomances computed for dictionary settings 2:\n",
      "\tAccuracy: 0.5685131195335277\n",
      "\tPrecision: 0.40437158469945356\n",
      "\tRecall: 0.6548672566371682\n"
     ]
    }
   ],
   "source": [
    "w_dict, w_list = result9.votingOverCA(ds_names, kernel_names)\n",
    "ut.testConfigurations(estimator, y_, y_test, w_list, ds_list, ds_test, kernel_names)"
   ]
  },
  {
   "cell_type": "code",
   "execution_count": 66,
   "metadata": {
    "scrolled": true
   },
   "outputs": [
    {
     "name": "stdout",
     "output_type": "stream",
     "text": [
      "statistics of configuration 1\n",
      "{'config': {'linear': [[1], [1], [1]], 'laplacian': [[0.05], [0.1], [0.05]], 'sigmoid': [[0.6], [0.6], [0.6]], 'polynomial': [[3], [3], [3]], 'gaussian': [[0.7], [0.4], [0.4]]}, 'CA': (0.02832242019930528, 4.6848107377786426e-06), 'Accuracy': (0.47016861219195855, 0.0040685282475468555), 'Precision': (0.3008291263839077, 0.0034845828381239465), 'Recall': (0.4470588235294118, 0.005051903114186854), 'eta': (array([-0.39777115,  0.83859541,  0.85122253, -0.02192073,  0.4007772 ]), array([0.01318234, 0.02660224, 0.03886366, 0.00486335, 0.03702654]))}\n",
      "statistics of configuration 2\n",
      "{'config': {'linear': [[1], [1], [1]], 'laplacian': [[0.1], [0.15], [0.1]], 'sigmoid': [[0.5], [0.5], [0.5]], 'polynomial': [[3], [4], [4]], 'gaussian': [[1], [0.5], [0.5]]}, 'CA': (0.028401939738017874, 4.7164334774159335e-06), 'Accuracy': (0.4974059662775616, 0.0018681416658675968), 'Precision': (0.3457229131832307, 0.0006845687590586332), 'Recall': (0.5686274509803922, 0.00037677816224528945), 'eta': (array([-0.32543925,  0.5492644 ,  1.04673275, -0.10206475,  0.23635907]), array([0.00656135, 0.00282201, 0.06003643, 0.020442  , 0.01542533]))}\n"
     ]
    }
   ],
   "source": [
    "result9.performancesFeatures()"
   ]
  },
  {
   "cell_type": "markdown",
   "metadata": {},
   "source": [
    "## Sparsity in eta, Centering, K-Normalization"
   ]
  },
  {
   "cell_type": "code",
   "execution_count": 51,
   "metadata": {},
   "outputs": [],
   "source": [
    "y = outputs[\"cvd_fail\"].values\n",
    "C = d_clinical.values\n",
    "#G = d_genetic.values\n",
    "#V = d_vampire.values"
   ]
  },
  {
   "cell_type": "code",
   "execution_count": 52,
   "metadata": {},
   "outputs": [],
   "source": [
    "tr_idx, ts_idx = next(StratifiedShuffleSplit(n_splits=1, test_size=0.25).split(C, y))"
   ]
  },
  {
   "cell_type": "code",
   "execution_count": 53,
   "metadata": {},
   "outputs": [],
   "source": [
    "y_ = y[tr_idx]\n",
    "y_test = y[ts_idx]\n",
    "C_ = C[tr_idx]\n",
    "C_test = C[ts_idx]\n",
    "#G_ = G[tr_idx]\n",
    "#G_test = G[ts_idx]\n",
    "#V_ = V[tr_idx]\n",
    "#V_test = V[ts_idx]"
   ]
  },
  {
   "cell_type": "code",
   "execution_count": 54,
   "metadata": {},
   "outputs": [],
   "source": [
    "ds_list = [C_]#, G_, V_]\n",
    "ds_test = [C_test]#, G_test, V_test]\n",
    "ds_names = ['clinic']#, 'genetic', 'vampire']"
   ]
  },
  {
   "cell_type": "code",
   "execution_count": 59,
   "metadata": {},
   "outputs": [],
   "source": [
    "kernel_names = ['linear', 'laplacian', 'sigmoid', 'polynomial', 'gaussian']\n",
    "kernel_type = [{'linear':[1], 'laplacian':[0.1, 0.05], 'sigmoid':[0.3, 0.6], 'polynomial':[2, 3], 'gaussian':[0.4, 0.7]},\n",
    "               {'linear':[1], 'laplacian':[0.1, 0.15], 'sigmoid':[0.4, 0.5], 'polynomial':[3, 4], 'gaussian':[0.5, 1]}]\n",
    "estimator = ca.centeredKernelAlignment\n",
    "sampler = ms.mySampler(n_splits=3, test_size=.25, sparsity = 0.7, centering = True, normalize_kernels = True)"
   ]
  },
  {
   "cell_type": "code",
   "execution_count": 60,
   "metadata": {
    "scrolled": true
   },
   "outputs": [
    {
     "name": "stdout",
     "output_type": "stream",
     "text": [
      "\n",
      "1 split out of 3 ...\n",
      "\tWorking on config 1 of 2: {'linear': [1], 'laplacian': [0.1, 0.05], 'sigmoid': [0.3, 0.6], 'polynomial': [2, 3], 'gaussian': [0.4, 0.7]}\n",
      "Fold no. 1\n",
      "Fold no. 2\n",
      "Fold no. 3\n",
      "Validation complete, config selected:[1, 0.1, 0.6, 2, 0.7]\n",
      "\tResult of 1:\n",
      "CA: 0.022156462385752862\n",
      "Accuracy: 0.5817120622568094\n",
      "Precision: 0.4187725631768953\n",
      "Recall: 0.6823529411764706\n",
      "[linear:1, laplacian:0.1, sigmoid:0.6, polynomial:2, gaussian:0.7, ]\n",
      "\n",
      "eta vector: [0.86117539 0.08365906 0.15121173 0.04179688 0.4761997 ]\n",
      "\n",
      "\n",
      "\tCompleted in 1.2666666666666666 minutes\n",
      "\tWorking on config 2 of 2: {'linear': [1], 'laplacian': [0.1, 0.15], 'sigmoid': [0.4, 0.5], 'polynomial': [3, 4], 'gaussian': [0.5, 1]}\n",
      "Fold no. 1\n",
      "Fold no. 2\n",
      "Fold no. 3\n",
      "Validation complete, config selected:[1, 0.15, 0.5, 3, 1]\n",
      "\tResult of 1:\n",
      "CA: 0.022156462385752862\n",
      "Accuracy: 0.5817120622568094\n",
      "Precision: 0.4187725631768953\n",
      "Recall: 0.6823529411764706\n",
      "[linear:1, laplacian:0.1, sigmoid:0.6, polynomial:2, gaussian:0.7, ]\n",
      "\n",
      "eta vector: [0.86117539 0.08365906 0.15121173 0.04179688 0.4761997 ]\n",
      "\n",
      "CA: 0.022304937955991925\n",
      "Accuracy: 0.5953307392996109\n",
      "Precision: 0.42803030303030304\n",
      "Recall: 0.6647058823529411\n",
      "[linear:1, laplacian:0.15, sigmoid:0.5, polynomial:3, gaussian:1, ]\n",
      "\n",
      "eta vector: [0.82031313 0.12097761 0.11774798 0.05978598 0.54314992]\n",
      "\n",
      "\n",
      "\tCompleted in 2.6166666666666667 minutes\n",
      "\n",
      "2 split out of 3 ...\n",
      "\tWorking on config 1 of 2: {'linear': [1], 'laplacian': [0.1, 0.05], 'sigmoid': [0.3, 0.6], 'polynomial': [2, 3], 'gaussian': [0.4, 0.7]}\n",
      "Fold no. 1\n",
      "Fold no. 2\n",
      "Fold no. 3\n",
      "Validation complete, config selected:[1, 0.1, 0.6, 3, 0.7]\n",
      "\tResult of 2:\n",
      "CA: 0.02082486897737446\n",
      "Accuracy: 0.6050583657587548\n",
      "Precision: 0.4404332129963899\n",
      "Recall: 0.7176470588235294\n",
      "[linear:1, laplacian:0.1, sigmoid:0.6, polynomial:3, gaussian:0.7, ]\n",
      "\n",
      "eta vector: [0.85915417 0.08371951 0.15149889 0.06292228 0.47742437]\n",
      "\n",
      "\n",
      "\tCompleted in 1.5 minutes\n",
      "\tWorking on config 2 of 2: {'linear': [1], 'laplacian': [0.1, 0.15], 'sigmoid': [0.4, 0.5], 'polynomial': [3, 4], 'gaussian': [0.5, 1]}\n",
      "Fold no. 1\n",
      "Fold no. 2\n",
      "Fold no. 3\n",
      "Validation complete, config selected:[1, 0.15, 0.5, 4, 1]\n",
      "\tResult of 2:\n",
      "CA: 0.02082486897737446\n",
      "Accuracy: 0.6050583657587548\n",
      "Precision: 0.4404332129963899\n",
      "Recall: 0.7176470588235294\n",
      "[linear:1, laplacian:0.1, sigmoid:0.6, polynomial:3, gaussian:0.7, ]\n",
      "\n",
      "eta vector: [0.85915417 0.08371951 0.15149889 0.06292228 0.47742437]\n",
      "\n",
      "CA: 0.020985234196389584\n",
      "Accuracy: 0.603112840466926\n",
      "Precision: 0.4392857142857143\n",
      "Recall: 0.7235294117647059\n",
      "[linear:1, laplacian:0.15, sigmoid:0.5, polynomial:4, gaussian:1, ]\n",
      "\n",
      "eta vector: [0.81796217 0.12098908 0.11790524 0.07983327 0.54408137]\n",
      "\n",
      "\n",
      "\tCompleted in 3.1166666666666667 minutes\n",
      "\n",
      "3 split out of 3 ...\n",
      "\tWorking on config 1 of 2: {'linear': [1], 'laplacian': [0.1, 0.05], 'sigmoid': [0.3, 0.6], 'polynomial': [2, 3], 'gaussian': [0.4, 0.7]}\n",
      "Fold no. 1\n",
      "Fold no. 2\n",
      "Fold no. 3\n",
      "Validation complete, config selected:[1, 0.1, 0.6, 3, 0.7]\n",
      "\tResult of 3:\n",
      "CA: 0.022821183335119247\n",
      "Accuracy: 0.5525291828793775\n",
      "Precision: 0.391304347826087\n",
      "Recall: 0.6352941176470588\n",
      "[linear:1, laplacian:0.1, sigmoid:0.6, polynomial:3, gaussian:0.7, ]\n",
      "\n",
      "eta vector: [0.85643996 0.08430046 0.15193312 0.06322476 0.48199895]\n",
      "\n",
      "\n",
      "\tCompleted in 1.3 minutes\n",
      "\tWorking on config 2 of 2: {'linear': [1], 'laplacian': [0.1, 0.15], 'sigmoid': [0.4, 0.5], 'polynomial': [3, 4], 'gaussian': [0.5, 1]}\n",
      "Fold no. 1\n",
      "Fold no. 2\n",
      "Fold no. 3\n",
      "Validation complete, config selected:[1, 0.15, 0.5, 4, 1]\n",
      "\tResult of 3:\n",
      "CA: 0.022821183335119247\n",
      "Accuracy: 0.5525291828793775\n",
      "Precision: 0.391304347826087\n",
      "Recall: 0.6352941176470588\n",
      "[linear:1, laplacian:0.1, sigmoid:0.6, polynomial:3, gaussian:0.7, ]\n",
      "\n",
      "eta vector: [0.85643996 0.08430046 0.15193312 0.06322476 0.48199895]\n",
      "\n",
      "CA: 0.02307610742832421\n",
      "Accuracy: 0.566147859922179\n",
      "Precision: 0.4050179211469534\n",
      "Recall: 0.6647058823529411\n",
      "[linear:1, laplacian:0.15, sigmoid:0.5, polynomial:4, gaussian:1, ]\n",
      "\n",
      "eta vector: [0.81413276 0.12166514 0.11807059 0.08008785 0.54957321]\n",
      "\n",
      "\n",
      "\tCompleted in 2.466666666666667 minutes\n"
     ]
    }
   ],
   "source": [
    "result8 = sampler.sample(kernel_type, estimator, ds_list, y_, valid_fold = 3, verbose=True, exclusion_list = [[5,6,7,9,10,13,15,16,17,18,19]])"
   ]
  },
  {
   "cell_type": "code",
   "execution_count": 61,
   "metadata": {},
   "outputs": [
    {
     "name": "stdout",
     "output_type": "stream",
     "text": [
      "Perfomances computed for dictionary settings 1:\n",
      "\tAccuracy: 0.5670553935860059\n",
      "\tPrecision: 0.4032697547683924\n",
      "\tRecall: 0.6548672566371682\n",
      "Perfomances computed for dictionary settings 2:\n",
      "\tAccuracy: 0.5728862973760933\n",
      "\tPrecision: 0.40771349862258954\n",
      "\tRecall: 0.6548672566371682\n"
     ]
    }
   ],
   "source": [
    "w_dict, w_list = result8.votingOverCA(ds_names, kernel_names)\n",
    "ut.testConfigurations(estimator, y_, y_test, w_list, ds_list, ds_test, kernel_names)"
   ]
  },
  {
   "cell_type": "code",
   "execution_count": 62,
   "metadata": {
    "scrolled": true
   },
   "outputs": [
    {
     "name": "stdout",
     "output_type": "stream",
     "text": [
      "statistics of configuration 1\n",
      "{'config': {'linear': [[1], [1], [1]], 'laplacian': [[0.1], [0.1], [0.1]], 'sigmoid': [[0.6], [0.6], [0.6]], 'polynomial': [[2], [3], [3]], 'gaussian': [[0.7], [0.7], [0.7]]}, 'CA': (0.021934171566082187, 6.889184400779272e-07), 'Accuracy': (0.5797665369649806, 0.00046177837665975133), 'Precision': (0.4168367079997907, 0.000404147999786995), 'Recall': (0.6784313725490195, 0.001138023836985776), 'eta': (array([0.85892317, 0.08389301, 0.15154791, 0.05598131, 0.47854101]), array([3.76405729e-06, 8.36165405e-08, 8.79361219e-08, 1.00614252e-04,\n",
      "       6.22865315e-06]))}\n",
      "statistics of configuration 2\n",
      "{'config': {'linear': [[1], [1], [1]], 'laplacian': [[0.15], [0.15], [0.15]], 'sigmoid': [[0.5], [0.5], [0.5]], 'polynomial': [[3], [4], [4]], 'gaussian': [[1], [1], [1]]}, 'CA': (0.022122093193568573, 7.453412489096185e-07), 'Accuracy': (0.5881971465629053, 0.0002531790371121775), 'Precision': (0.4241113128209902, 0.0002033928498971627), 'Recall': (0.684313725490196, 0.0007689350249903887), 'eta': (array([0.81746935, 0.12121061, 0.11790794, 0.0732357 , 0.5456015 ]), array([6.48759453e-06, 1.03321244e-07, 1.73489789e-08, 9.04582479e-05,\n",
      "       8.03184648e-06]))}\n"
     ]
    }
   ],
   "source": [
    "result8.performancesFeatures()"
   ]
  }
 ],
 "metadata": {
  "kernelspec": {
   "display_name": "Python 3",
   "language": "python",
   "name": "python3"
  },
  "language_info": {
   "codemirror_mode": {
    "name": "ipython",
    "version": 3
   },
   "file_extension": ".py",
   "mimetype": "text/x-python",
   "name": "python",
   "nbconvert_exporter": "python",
   "pygments_lexer": "ipython3",
   "version": "3.6.5"
  }
 },
 "nbformat": 4,
 "nbformat_minor": 2
}
