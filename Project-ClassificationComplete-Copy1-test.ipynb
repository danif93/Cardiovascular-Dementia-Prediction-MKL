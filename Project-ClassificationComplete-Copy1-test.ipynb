{
 "cells": [
  {
   "cell_type": "code",
   "execution_count": 1,
   "metadata": {},
   "outputs": [],
   "source": [
    "import pandas as pd\n",
    "import os\n",
    "import numpy as np\n",
    "\n",
    "import Utils as ut\n",
    "import CortesAlignmentFile as ca\n",
    "import mySampler as ms\n",
    " \n",
    "from sklearn.model_selection import StratifiedShuffleSplit\n",
    "\n",
    "from threading import Thread, Lock"
   ]
  },
  {
   "cell_type": "markdown",
   "metadata": {},
   "source": [
    "## Dataset Configuration"
   ]
  },
  {
   "cell_type": "code",
   "execution_count": 2,
   "metadata": {},
   "outputs": [],
   "source": [
    "d_clinical = pd.read_csv(os.path.join('data', 'dataset_clinical_cleaned.csv'))\n",
    "d_genetic = pd.read_csv(os.path.join('data', 'dataset_genetic_cleaned_noOHE.csv'))\n",
    "d_vampire = pd.read_csv(os.path.join('data', 'dataset_vampire_cleaned.csv'))\n",
    "outputs = pd.read_csv(os.path.join('data', 'outputs_cleaned.csv'))"
   ]
  },
  {
   "cell_type": "code",
   "execution_count": 3,
   "metadata": {},
   "outputs": [],
   "source": [
    "C = d_clinical.values\n",
    "\n",
    "V = d_vampire.values"
   ]
  },
  {
   "cell_type": "code",
   "execution_count": 4,
   "metadata": {},
   "outputs": [],
   "source": [
    "y_d = outputs[\"dement_fail\"].values\n",
    "y_c = outputs[\"cvd_fail\"].values"
   ]
  },
  {
   "cell_type": "code",
   "execution_count": 5,
   "metadata": {},
   "outputs": [],
   "source": [
    "# COMPUTATIONAL COMPLEXITY: Reduce #samples\n",
    "tr_idx, ts_idx = next(StratifiedShuffleSplit(n_splits=1, test_size=0.25).split(C, y_d))"
   ]
  },
  {
   "cell_type": "code",
   "execution_count": 6,
   "metadata": {},
   "outputs": [],
   "source": [
    "C_ = C[tr_idx]\n",
    "C_test = C[ts_idx]\n",
    "V_ = V[tr_idx]\n",
    "V_test = V[ts_idx]"
   ]
  },
  {
   "cell_type": "code",
   "execution_count": 7,
   "metadata": {},
   "outputs": [],
   "source": [
    "y_d_ = y_d[tr_idx]\n",
    "y_d_test = y_d[ts_idx]\n",
    "\n",
    "y_c_ = y_c[tr_idx]\n",
    "y_c_test = y_c[ts_idx]"
   ]
  },
  {
   "cell_type": "code",
   "execution_count": 8,
   "metadata": {},
   "outputs": [],
   "source": [
    "ds_list = [C_, V_]\n",
    "ds_test = [C_test, V_test]\n",
    "ds_names = ['clinic', 'vampire']"
   ]
  },
  {
   "cell_type": "markdown",
   "metadata": {},
   "source": [
    "## Kernel Definition"
   ]
  },
  {
   "cell_type": "code",
   "execution_count": 9,
   "metadata": {},
   "outputs": [],
   "source": [
    "kernel_names_3 = ['laplacian', 'gaussian']\n",
    "kernel_type_3 = [{'laplacian':[0.2, 0.6], 'gaussian':[0.3, 0.7]},\n",
    "               {'laplacian':[0.4, 0.9], 'gaussian':[0.5, 1]}]"
   ]
  },
  {
   "cell_type": "code",
   "execution_count": 10,
   "metadata": {},
   "outputs": [],
   "source": [
    "kernel_names_4 = ['linear', 'gaussian']\n",
    "kernel_type_4 = [{'linear':[1], 'gaussian':[0.4, 0.7]},\n",
    "               {'linear':[1], 'gaussian':[0.5, 1]}]"
   ]
  },
  {
   "cell_type": "code",
   "execution_count": 11,
   "metadata": {},
   "outputs": [],
   "source": [
    "kernel_names_5 = ['polynomial', 'gaussian']\n",
    "kernel_type_5 = [{'polynomial':[2, 7], 'gaussian':[0.4, 0.7]},\n",
    "               {'polynomial':[3, 5], 'gaussian':[0.5, 1]}]"
   ]
  },
  {
   "cell_type": "code",
   "execution_count": 12,
   "metadata": {},
   "outputs": [],
   "source": [
    "kernel_names_6 = ['sigmoid', 'gaussian']\n",
    "kernel_type_6 = [{'sigmoid':[0.2, 0.6], 'gaussian':[0.3, 0.7]},\n",
    "               {'sigmoid':[0.4, 0.9], 'gaussian':[0.5, 1]}]"
   ]
  },
  {
   "cell_type": "markdown",
   "metadata": {},
   "source": [
    "## Other shared parameters initialization"
   ]
  },
  {
   "cell_type": "code",
   "execution_count": 13,
   "metadata": {},
   "outputs": [],
   "source": [
    "estimator = ca.centeredKernelAlignment\n",
    "lock_dementia = Lock()\n",
    "lock_cardio = Lock()\n",
    "valid_fold = 3\n",
    "threads = []"
   ]
  },
  {
   "cell_type": "markdown",
   "metadata": {},
   "source": [
    "## Thread"
   ]
  },
  {
   "cell_type": "code",
   "execution_count": 14,
   "metadata": {},
   "outputs": [],
   "source": [
    "def child(sampler,estimator,ds_list,ds_test,y_d_,y_d_test,y_c_,y_c_test,lock_dementia,lock_cardio,valid_fold,exclusion_list,verbose,approach):\n",
    "\n",
    "    #DEMENTIA\n",
    "\n",
    "    #Linear - Gaussian\n",
    "    result1 = sampler.sample(kernel_type_4, estimator, ds_list, y_d_, valid_fold = valid_fold, verbose=verbose)\n",
    "    w_dict, w_list, lamb_list, sparsity = result1.votingOverCA(ds_names, kernel_names_4)\n",
    "    ut.testConfigurations(estimator, y_d_, y_d_test, w_list, ds_list, ds_test, kernel_names_4, lamb_list, sparsity, 'classification', lock_dementia, fileToWrite = 'results_temp/Dementia_test.txt', header = 'Dementia Linear - Gaussian \\n' + approach + '\\n', verbose=verbose)\n",
    "    result1.performancesFeatures(fileToWrite = 'results_temp/Dementia_train.txt', header = '\\nDementia Linear - Gaussian\\n' + approach + '\\n', lock = lock_dementia)\n",
    "    "
   ]
  },
  {
   "cell_type": "markdown",
   "metadata": {},
   "source": [
    "## L1 Penalty, Centering, K-Normalization"
   ]
  },
  {
   "cell_type": "code",
   "execution_count": 15,
   "metadata": {},
   "outputs": [],
   "source": [
    "sampler = ms.mySampleWrapper([0.3, 0.5, 0.7], n_splits=3, test_size=.25, sparsity = True, centering = True, normalize_kernels = True)"
   ]
  },
  {
   "cell_type": "code",
   "execution_count": 16,
   "metadata": {},
   "outputs": [],
   "source": [
    "t = Thread(target=child, args=(sampler, estimator, ds_list, ds_test, y_d_, y_d_test, y_c_, y_c_test, lock_dementia, lock_cardio, valid_fold, [[5,6,7,9,10,13,15,16,17,18,19], []], False, 'L1 - Centering - K Normalizing'))\n",
    "t.start()\n",
    "threads.append(t)"
   ]
  },
  {
   "cell_type": "code",
   "execution_count": 17,
   "metadata": {},
   "outputs": [
    {
     "name": "stdout",
     "output_type": "stream",
     "text": [
      "Operations completed\n"
     ]
    }
   ],
   "source": [
    "for t in threads:\n",
    "    t.join()\n",
    "\n",
    "print(\"Operations completed\")"
   ]
  }
 ],
 "metadata": {
  "kernelspec": {
   "display_name": "Python 3",
   "language": "python",
   "name": "python3"
  },
  "language_info": {
   "codemirror_mode": {
    "name": "ipython",
    "version": 3
   },
   "file_extension": ".py",
   "mimetype": "text/x-python",
   "name": "python",
   "nbconvert_exporter": "python",
   "pygments_lexer": "ipython3",
   "version": "3.6.6"
  }
 },
 "nbformat": 4,
 "nbformat_minor": 2
}
