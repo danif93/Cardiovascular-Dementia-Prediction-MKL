{
 "cells": [
  {
   "cell_type": "code",
   "execution_count": 1,
   "metadata": {},
   "outputs": [],
   "source": [
    "import numpy as np\n",
    "import Utils as ut\n",
    "import KernelFile as kf\n",
    "import CortesAlignmentFile as ca\n",
    "import MKL_SROLAnonNeg as mkl\n",
    "import mySampler as ms\n",
    "import myGridSearch as mgs"
   ]
  },
  {
   "cell_type": "code",
   "execution_count": 2,
   "metadata": {},
   "outputs": [],
   "source": [
    "from sklearn import datasets\n",
    "# make_classification(n_samples=100, n_features=20, n_informative=2, n_redundant=2, n_repeated=0, \n",
    "#                     n_classes=2, n_clusters_per_class=2, weights=None, flip_y=0.01, class_sep=1.0, \n",
    "#                     hypercube=True, shift=0.0, scale=1.0, shuffle=True, random_state=None)\n",
    "ds, label = datasets.make_classification(n_samples=300, n_features=30, n_informative=10, n_redundant=0, n_classes=2)"
   ]
  },
  {
   "cell_type": "code",
   "execution_count": 3,
   "metadata": {},
   "outputs": [],
   "source": [
    "np.where(label==0)\n",
    "label[np.where(label==0)]=-1"
   ]
  },
  {
   "cell_type": "code",
   "execution_count": 4,
   "metadata": {},
   "outputs": [],
   "source": [
    "def random_sampling(X, y, n_samples):\n",
    "    from sklearn.model_selection import StratifiedShuffleSplit\n",
    "    return next(StratifiedShuffleSplit(n_splits=1, test_size=n_samples).split(X, y))"
   ]
  },
  {
   "cell_type": "code",
   "execution_count": 5,
   "metadata": {},
   "outputs": [],
   "source": [
    "tr_idx, ts_idx = random_sampling(ds, label, n_samples=0.25)\n",
    "\n",
    "ds1 = np.hstack([ds[:,:5], ds[:,10:15]])\n",
    "ds1_tr = ds1[tr_idx]\n",
    "ds1_ts = ds1[ts_idx]\n",
    "\n",
    "ds2 = np.hstack([ds[:,5:10], ds[:,15:20]])\n",
    "ds2_tr = ds2[tr_idx]\n",
    "ds2_ts = ds2[ts_idx]\n",
    "\n",
    "ds3 = ds[:,20:]\n",
    "ds3_tr = ds3[tr_idx]\n",
    "ds3_ts = ds3[ts_idx]\n",
    "\n",
    "l_tr = label[tr_idx]\n",
    "l_ts = label[ts_idx]\n",
    "\n",
    "ds_list = [ds1, ds2, ds3]\n",
    "tr_list = [ds1_tr, ds2_tr, ds3_tr]\n",
    "ts_list = [ds1_ts, ds2_ts, ds3_ts]"
   ]
  },
  {
   "cell_type": "code",
   "execution_count": 6,
   "metadata": {},
   "outputs": [],
   "source": [
    "# wrapper testing\n",
    "\n",
    "kernel_type = [{'linear':[0], 'polynomial':[2, 8, 12], 'gaussian':[0.1, 0.5, 0.7]},\n",
    "               {'linear':[0], 'polynomial':[20, 30, 50], 'gaussian':[1, 3, 5]}]\n",
    "estimator = ca.centeredKernelAlignment\n",
    "sampler = ms.mySampler(n_splits=3, test_size=.25)"
   ]
  },
  {
   "cell_type": "code",
   "execution_count": 7,
   "metadata": {},
   "outputs": [
    {
     "name": "stdout",
     "output_type": "stream",
     "text": [
      "1 split out of 4 ...\n",
      "\tWorking on config 1 of 3: {'linear': [0], 'polynomial': [2, 8, 12], 'gaussian': [0.1, 0.5, 0.7]}\n",
      "\tWorking on config 2 of 3: {'linear': [0], 'polynomial': [20, 30, 50], 'gaussian': [1, 3, 5]}\n",
      "\tResult of 0:\n",
      "\t[linear:0, polynomial:2, gaussian:0.1, ]\n",
      "[linear:0, polynomial:8, gaussian:0.5, ]\n",
      "[linear:0, polynomial:2, gaussian:0.1, ]\n",
      "\n",
      "\t[linear:0, polynomial:20, gaussian:1, ]\n",
      "[linear:0, polynomial:20, gaussian:3, ]\n",
      "[linear:0, polynomial:50, gaussian:5, ]\n",
      "\n",
      "2 split out of 4 ...\n",
      "\tWorking on config 1 of 3: {'linear': [0], 'polynomial': [2, 8, 12], 'gaussian': [0.1, 0.5, 0.7]}\n",
      "\tWorking on config 2 of 3: {'linear': [0], 'polynomial': [20, 30, 50], 'gaussian': [1, 3, 5]}\n",
      "\tResult of 1:\n",
      "\t[linear:0, polynomial:12, gaussian:0.1, ]\n",
      "[linear:0, polynomial:8, gaussian:0.7, ]\n",
      "[linear:0, polynomial:12, gaussian:0.1, ]\n",
      "\n",
      "\t[linear:0, polynomial:50, gaussian:3, ]\n",
      "[linear:0, polynomial:20, gaussian:3, ]\n",
      "[linear:0, polynomial:50, gaussian:5, ]\n",
      "\n",
      "3 split out of 4 ...\n",
      "\tWorking on config 1 of 3: {'linear': [0], 'polynomial': [2, 8, 12], 'gaussian': [0.1, 0.5, 0.7]}\n",
      "\tWorking on config 2 of 3: {'linear': [0], 'polynomial': [20, 30, 50], 'gaussian': [1, 3, 5]}\n",
      "\tResult of 2:\n",
      "\t[linear:0, polynomial:2, gaussian:0.1, ]\n",
      "[linear:0, polynomial:2, gaussian:0.7, ]\n",
      "[linear:0, polynomial:2, gaussian:0.5, ]\n",
      "\n",
      "\t[linear:0, polynomial:20, gaussian:5, ]\n",
      "[linear:0, polynomial:20, gaussian:1, ]\n",
      "[linear:0, polynomial:50, gaussian:5, ]\n",
      "\n"
     ]
    }
   ],
   "source": [
    "sampler.sample(kernel_type, estimator, ds_list, label, valid_fold = 3, verbose=True)"
   ]
  },
  {
   "cell_type": "code",
   "execution_count": null,
   "metadata": {},
   "outputs": [],
   "source": []
  },
  {
   "cell_type": "code",
   "execution_count": null,
   "metadata": {},
   "outputs": [],
   "source": []
  },
  {
   "cell_type": "code",
   "execution_count": null,
   "metadata": {},
   "outputs": [],
   "source": [
    "# GRIDSEARCH CV\n",
    "\n",
    "kernel_type = {'linear':[0], 'polynomial':[2, 8, 12], 'gaussian':[0.1, 0.5, 0.7]}\n",
    "estimator = ca.centeredKernelAlignment\n",
    "gs = mgs.myGridSearchCV(estimator, kernel_type, fold = 3).fit(tr_list, l_tr)"
   ]
  },
  {
   "cell_type": "code",
   "execution_count": null,
   "metadata": {
    "scrolled": true
   },
   "outputs": [],
   "source": [
    "sel_accuracy, sel_kWrapp, weights = gs.transform(tr_list, verbose=True)"
   ]
  },
  {
   "cell_type": "code",
   "execution_count": null,
   "metadata": {},
   "outputs": [],
   "source": [
    "weights"
   ]
  },
  {
   "cell_type": "code",
   "execution_count": null,
   "metadata": {},
   "outputs": [],
   "source": [
    "pred = sel_kWrapp.predict(ts_list, weights, l_tr)"
   ]
  },
  {
   "cell_type": "code",
   "execution_count": null,
   "metadata": {},
   "outputs": [],
   "source": [
    "from sklearn.metrics import accuracy_score\n",
    "accuracy_score(l_ts, pred)"
   ]
  },
  {
   "cell_type": "code",
   "execution_count": null,
   "metadata": {},
   "outputs": [],
   "source": []
  },
  {
   "cell_type": "code",
   "execution_count": null,
   "metadata": {},
   "outputs": [],
   "source": []
  },
  {
   "cell_type": "code",
   "execution_count": null,
   "metadata": {},
   "outputs": [],
   "source": []
  },
  {
   "cell_type": "code",
   "execution_count": null,
   "metadata": {},
   "outputs": [],
   "source": [
    "# SimpleMKL APPROACH\n",
    "\n",
    "# kernel_type = {'linear': [0], 'polynomial': [2,3,4], 'gaussian':[0.3, 0.5, 0.7]}\n",
    "kernel_type = {'linear': 0, 'polynomial': 4, 'gaussian': 0.5}\n",
    "\n",
    "smkl = mkl.MKL_simpleSrola(kernel_type, 10, 0.01)\n",
    "smkl.fit(tr_list, l_tr)"
   ]
  },
  {
   "cell_type": "code",
   "execution_count": null,
   "metadata": {},
   "outputs": [],
   "source": [
    "weights = smkl.learnEta(tr_list)"
   ]
  },
  {
   "cell_type": "code",
   "execution_count": null,
   "metadata": {},
   "outputs": [],
   "source": []
  },
  {
   "cell_type": "code",
   "execution_count": null,
   "metadata": {},
   "outputs": [],
   "source": []
  },
  {
   "cell_type": "code",
   "execution_count": null,
   "metadata": {},
   "outputs": [],
   "source": []
  },
  {
   "cell_type": "code",
   "execution_count": null,
   "metadata": {},
   "outputs": [],
   "source": [
    "x1 = np.arange(12).reshape((4, 3))\n",
    "x2 = np.arange(3)\n",
    "np.multiply(x1, x2)"
   ]
  },
  {
   "cell_type": "code",
   "execution_count": null,
   "metadata": {},
   "outputs": [],
   "source": [
    "a = np.array([[1,2],[3,4]])\n",
    "print(a.ravel().reshape(-1,1).shape)"
   ]
  }
 ],
 "metadata": {
  "kernelspec": {
   "display_name": "Python 3",
   "language": "python",
   "name": "python3"
  },
  "language_info": {
   "codemirror_mode": {
    "name": "ipython",
    "version": 3
   },
   "file_extension": ".py",
   "mimetype": "text/x-python",
   "name": "python",
   "nbconvert_exporter": "python",
   "pygments_lexer": "ipython3",
   "version": "3.6.5"
  }
 },
 "nbformat": 4,
 "nbformat_minor": 2
}
