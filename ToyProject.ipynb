{
 "cells": [
  {
   "cell_type": "code",
   "execution_count": 1,
   "metadata": {},
   "outputs": [],
   "source": [
    "import numpy as np\n",
    "import Utils as ut"
   ]
  },
  {
   "cell_type": "code",
   "execution_count": 2,
   "metadata": {},
   "outputs": [],
   "source": [
    "from sklearn import datasets\n",
    "# make_classification(n_samples=100, n_features=20, n_informative=2, n_redundant=2, n_repeated=0, \n",
    "#                     n_classes=2, n_clusters_per_class=2, weights=None, flip_y=0.01, class_sep=1.0, \n",
    "#                     hypercube=True, shift=0.0, scale=1.0, shuffle=True, random_state=None)\n",
    "ds, label = datasets.make_classification(n_samples=300, n_features=30, n_informative=10, n_redundant=0, n_classes=2)"
   ]
  },
  {
   "cell_type": "code",
   "execution_count": 3,
   "metadata": {},
   "outputs": [],
   "source": [
    "np.where(label==0)\n",
    "label[np.where(label==0)]=-1"
   ]
  },
  {
   "cell_type": "code",
   "execution_count": 4,
   "metadata": {},
   "outputs": [],
   "source": [
    "def random_sampling(X, y, n_samples):\n",
    "    \"\"\"Extract n_samples from X and y.\"\"\"\n",
    "    from sklearn.model_selection import StratifiedShuffleSplit\n",
    "    \n",
    "    return next(StratifiedShuffleSplit(n_splits=1, test_size=n_samples).split(X, y))\n",
    "     "
   ]
  },
  {
   "cell_type": "code",
   "execution_count": 5,
   "metadata": {},
   "outputs": [],
   "source": [
    "tr_idx, ts_idx = random_sampling(ds, label, n_samples=0.25)\n",
    "\n",
    "\n",
    "ds1 = np.hstack([ds[:,:5], ds[:,10:15]])\n",
    "ds1_tr = ds1[tr_idx]\n",
    "ds1_ts = ds1[ts_idx]\n",
    "\n",
    "ds2 = np.hstack([ds[:,5:10], ds[:,15:20]])\n",
    "ds2_tr = ds2[tr_idx]\n",
    "ds2_ts = ds2[ts_idx]\n",
    "\n",
    "ds3 = ds[:,20:]\n",
    "ds3_tr = ds3[tr_idx]\n",
    "ds3_ts = ds3[ts_idx]\n",
    "\n",
    "l_tr = label[tr_idx]\n",
    "l_ts = label[ts_idx]"
   ]
  },
  {
   "cell_type": "code",
   "execution_count": 6,
   "metadata": {},
   "outputs": [],
   "source": [
    "kernel_types = ['linear', 'polynomial', 'gaussian']\n",
    "k_dataset_wrapper = []\n",
    "k_train_list = []\n",
    "k_test_list = []\n",
    "\n",
    "for train, test in zip([ds1_tr, ds2_tr, ds3_tr], [ds1_ts, ds2_ts, ds3_ts]):\n",
    "    for k_type in kernel_types:\n",
    "        if k_type=='polynomial': \n",
    "            current = ut.kernel(train, K_type=k_type, param=3)\n",
    "        else:\n",
    "            current = ut.kernel(train, K_type=k_type, param=0.5)\n",
    "            \n",
    "        k_dataset_wrapper.append({'kernel':current, 'train_ds':train, 'test_ds':test})\n",
    "        k_train_list.append(current.kernelMatrix(train))\n",
    "        k_test_list.append(current.kernelMatrix(test))\n"
   ]
  },
  {
   "cell_type": "code",
   "execution_count": null,
   "metadata": {},
   "outputs": [],
   "source": [
    "weights = ut.centeredKernelAlignment(k_train_list, l_tr)\n",
    "print(weights)"
   ]
  },
  {
   "cell_type": "code",
   "execution_count": 7,
   "metadata": {},
   "outputs": [
    {
     "name": "stdout",
     "output_type": "stream",
     "text": [
      "epoch num 1; current CA is: -0.142518744145224\n",
      "\toptimizing 5\n",
      "\t\toptimizing over [0.3,0.6000000000000001]\n",
      "\t\tselected 0.3 with sim: 0.4915986964294047\n",
      "\toptimizing 0\n",
      "\toptimizing 4\n",
      "\t\toptimizing over [1,5]\n",
      "\t\tselected 1 with sim: 0.4977816929487604\n",
      "\toptimizing 7\n",
      "\t\toptimizing over [1,5]\n",
      "\t\tkept 3 with sim: 0.4977816929487604\n",
      "\toptimizing 1\n",
      "\t\toptimizing over [1,5]\n",
      "\t\tkept 3 with sim: 0.4977816929487604\n",
      "\toptimizing 6\n",
      "\toptimizing 3\n",
      "\toptimizing 8\n",
      "\t\toptimizing over [0.3,0.6000000000000001]\n",
      "\t\tkept 0.5 with sim: 0.4977816929487604\n",
      "\toptimizing 2\n",
      "\t\toptimizing over [0.3,0.6000000000000001]\n",
      "\t\tkept 0.5 with sim: 0.4977816929487604\n",
      "epoch num 2; current CA is: 0.033886736144827144\n",
      "\toptimizing 2\n",
      "\t\toptimizing over [0.3,0.6000000000000001]\n",
      "\t\tselected 0.3 with sim: 0.08494842149508869\n",
      "\toptimizing 4\n",
      "\t\toptimizing over [1,3]\n",
      "\t\tkept 1 with sim: 0.08494842149508869\n",
      "\toptimizing 6\n",
      "\toptimizing 0\n",
      "\toptimizing 1\n",
      "\t\toptimizing over [1,5]\n",
      "\t\tselected 4 with sim: 0.499641664902832\n",
      "\toptimizing 7\n",
      "\t\toptimizing over [1,5]\n",
      "\t\tkept 3 with sim: 0.499641664902832\n",
      "\toptimizing 3\n",
      "\toptimizing 8\n",
      "\t\toptimizing over [0.3,0.6000000000000001]\n",
      "\t\tkept 0.5 with sim: 0.499641664902832\n",
      "\toptimizing 5\n",
      "\t\toptimizing over [0.18,0.36]\n",
      "\t\tselected 0.36 with sim: 0.5022334568469674\n",
      "epoch num 3; current CA is: 0.03353491769689483\n"
     ]
    }
   ],
   "source": [
    "#idealK_overTr = np.dot(l_tr.reshape(-1,1), l_tr.reshape(-1,1).T)\n",
    "new_kernels_config = ut.parameterOptimization(k_dataset_wrapper, l_tr, tol=0.001, verbose=True)"
   ]
  },
  {
   "cell_type": "code",
   "execution_count": null,
   "metadata": {},
   "outputs": [],
   "source": [
    "pred = np.zeros(len(ts_idx))\n",
    "for k_test, w in zip(k_test_list, weights):\n",
    "    weighted_labeled_kernel = np.multiply(k_test, l_tr*w)  \n",
    "    pred += np.sum(weighted_labeled_kernel, axis=1)\n",
    "pred = np.sign(pred)"
   ]
  },
  {
   "cell_type": "code",
   "execution_count": null,
   "metadata": {},
   "outputs": [],
   "source": [
    "from sklearn.metrics import accuracy_score\n",
    "accuracy_score(l_ts, pred)"
   ]
  },
  {
   "cell_type": "code",
   "execution_count": null,
   "metadata": {},
   "outputs": [],
   "source": [
    "a = np.array([[1,2],[3,4]])\n",
    "print(a.ravel().reshape(-1,1).shape)"
   ]
  }
 ],
 "metadata": {
  "kernelspec": {
   "display_name": "Python 3",
   "language": "python",
   "name": "python3"
  },
  "language_info": {
   "codemirror_mode": {
    "name": "ipython",
    "version": 3
   },
   "file_extension": ".py",
   "mimetype": "text/x-python",
   "name": "python",
   "nbconvert_exporter": "python",
   "pygments_lexer": "ipython3",
   "version": "3.6.5"
  }
 },
 "nbformat": 4,
 "nbformat_minor": 2
}
