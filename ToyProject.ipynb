{
 "cells": [
  {
   "cell_type": "code",
   "execution_count": 1,
   "metadata": {},
   "outputs": [],
   "source": [
    "import numpy as np\n",
    "import Utils as ut"
   ]
  },
  {
   "cell_type": "code",
   "execution_count": 2,
   "metadata": {},
   "outputs": [],
   "source": [
    "from sklearn import datasets\n",
    "# make_classification(n_samples=100, n_features=20, n_informative=2, n_redundant=2, n_repeated=0, \n",
    "#                     n_classes=2, n_clusters_per_class=2, weights=None, flip_y=0.01, class_sep=1.0, \n",
    "#                     hypercube=True, shift=0.0, scale=1.0, shuffle=True, random_state=None)\n",
    "ds, label = datasets.make_classification(n_samples=300, n_features=30, n_informative=10, n_redundant=0, n_classes=2)"
   ]
  },
  {
   "cell_type": "code",
   "execution_count": 3,
   "metadata": {},
   "outputs": [],
   "source": [
    "def random_sampling(X, y, n_samples):\n",
    "    \"\"\"Extract n_samples from X and y.\"\"\"\n",
    "    from sklearn.model_selection import StratifiedShuffleSplit\n",
    "    \n",
    "    train_idx, test_idx = next(StratifiedShuffleSplit(n_splits=1, test_size=n_samples).split(X, y))\n",
    "    return X[train_idx, :], y[train_idx], X[test_idx,:], y[test_idx]"
   ]
  },
  {
   "cell_type": "code",
   "execution_count": 4,
   "metadata": {},
   "outputs": [],
   "source": [
    "ds1 = np.hstack([ds[:,:5], ds[:,10:15]])\n",
    "ds1_tr, l1_tr, ds1_ts, l1_ts = random_sampling(ds1, label, n_samples=0.25)\n",
    "\n",
    "ds2 = np.hstack([ds[:,5:10], ds[:,15:20]])\n",
    "ds2_tr, l2_tr, ds2_ts, l2_ts = random_sampling(ds2, label, n_samples=0.25)\n",
    "\n",
    "ds3 = ds[:,20:]\n",
    "ds3_tr, l3_tr, ds3_ts, l3_ts = random_sampling(ds3, label, n_samples=0.25)"
   ]
  },
  {
   "cell_type": "code",
   "execution_count": 5,
   "metadata": {},
   "outputs": [],
   "source": [
    "k11 = ut.kernel(ds1_tr, K_type='linear').kernelMatrix(ds1_tr)\n",
    "k12 = ut.kernel(ds1_tr, K_type='polynomial', param = 3).kernelMatrix(ds1_tr)\n",
    "k13 = ut.kernel(ds1_tr, K_type='gaussian', param = 0.5).kernelMatrix(ds1_tr)\n",
    "k21 = ut.kernel(ds2_tr, K_type='linear').kernelMatrix(ds2_tr)\n",
    "k22 = ut.kernel(ds2_tr, K_type='polynomial', param = 3).kernelMatrix(ds2_tr)\n",
    "k23 = ut.kernel(ds2_tr, K_type='gaussian', param = 0.5).kernelMatrix(ds2_tr)\n",
    "k31 = ut.kernel(ds3_tr, K_type='linear').kernelMatrix(ds3_tr)\n",
    "k32 = ut.kernel(ds3_tr, K_type='polynomial', param = 3).kernelMatrix(ds3_tr)\n",
    "k33 = ut.kernel(ds3_tr, K_type='gaussian', param = 0.5).kernelMatrix(ds3_tr)\n",
    "\n",
    "k_list = [k11, k12, k13, k21, k22, k23, k31, k32, k33]"
   ]
  },
  {
   "cell_type": "code",
   "execution_count": 6,
   "metadata": {},
   "outputs": [],
   "source": [
    "weights = ut.centeredKernelAlignment(k_list, label)"
   ]
  },
  {
   "cell_type": "code",
   "execution_count": 13,
   "metadata": {},
   "outputs": [
    {
     "data": {
      "text/plain": [
       "-0.19020099594054482"
      ]
     },
     "execution_count": 13,
     "metadata": {},
     "output_type": "execute_result"
    }
   ],
   "source": []
  }
 ],
 "metadata": {
  "kernelspec": {
   "display_name": "Python 3",
   "language": "python",
   "name": "python3"
  },
  "language_info": {
   "codemirror_mode": {
    "name": "ipython",
    "version": 3
   },
   "file_extension": ".py",
   "mimetype": "text/x-python",
   "name": "python",
   "nbconvert_exporter": "python",
   "pygments_lexer": "ipython3",
   "version": "3.6.5"
  }
 },
 "nbformat": 4,
 "nbformat_minor": 2
}
