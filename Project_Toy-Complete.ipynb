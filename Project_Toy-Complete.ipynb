{
 "cells": [
  {
   "cell_type": "code",
   "execution_count": 1,
   "metadata": {},
   "outputs": [],
   "source": [
    "import pandas as pd\n",
    "import os\n",
    "import numpy as np\n",
    "\n",
    "import Utils as ut\n",
    "import CortesAlignmentFile as ca\n",
    "import mySampler as ms\n",
    " \n",
    "from sklearn.model_selection import StratifiedShuffleSplit"
   ]
  },
  {
   "cell_type": "markdown",
   "metadata": {},
   "source": [
    "## Dataset Configuration - Toy"
   ]
  },
  {
   "cell_type": "code",
   "execution_count": 2,
   "metadata": {},
   "outputs": [],
   "source": [
    "ds = pd.read_csv(os.path.join('data', 'toyDataset.csv')).values\n",
    "label = pd.read_csv(os.path.join('data', 'toyLabel.csv')).values.reshape(-1)\n",
    "ds_names = ['ds1', 'ds2', 'ds3']"
   ]
  },
  {
   "cell_type": "code",
   "execution_count": 3,
   "metadata": {},
   "outputs": [],
   "source": [
    "def random_sampling(X, y, n_samples):\n",
    "    return next(StratifiedShuffleSplit(n_splits=1, test_size=n_samples).split(X, y))"
   ]
  },
  {
   "cell_type": "code",
   "execution_count": 4,
   "metadata": {},
   "outputs": [],
   "source": [
    "tr_idx, ts_idx = random_sampling(ds, label, n_samples=0.25)\n",
    "\n",
    "ds1 = np.hstack([ds[:,:5], ds[:,10:15]])\n",
    "ds1_tr = ds1[tr_idx]\n",
    "ds1_ts = ds1[ts_idx]\n",
    "\n",
    "ds2 = np.hstack([ds[:,5:10], ds[:,15:20]])\n",
    "ds2_tr = ds2[tr_idx]\n",
    "ds2_ts = ds2[ts_idx]\n",
    "\n",
    "ds3 = ds[:,20:]\n",
    "ds3_tr = ds3[tr_idx]\n",
    "ds3_ts = ds3[ts_idx]\n",
    "\n",
    "y_c_ = label[tr_idx]\n",
    "y_c_test = label[ts_idx]\n",
    "\n",
    "ds_list_complete = [ds1, ds2, ds3]\n",
    "ds_list = [ds1_tr, ds2_tr, ds3_tr]\n",
    "ds_test = [ds1_ts, ds2_ts, ds3_ts]"
   ]
  },
  {
   "cell_type": "markdown",
   "metadata": {},
   "source": [
    "## Kernel Definition"
   ]
  },
  {
   "cell_type": "code",
   "execution_count": 5,
   "metadata": {},
   "outputs": [],
   "source": [
    "kernel_names_1 = ['laplacian', 'polynomial', 'gaussian']\n",
    "kernel_type_1 = [{'laplacian':[0.1, 0.2, 0.3], 'polynomial':[2, 3], 'gaussian':[0.2, 0.3]},\n",
    "               {'laplacian':[0.5, 0.7], 'polynomial':[5, 8], 'gaussian':[0.5, 0.7]}]"
   ]
  },
  {
   "cell_type": "code",
   "execution_count": 6,
   "metadata": {},
   "outputs": [],
   "source": [
    "kernel_names_2 = ['sigmoid', 'polynomial', 'gaussian']\n",
    "kernel_type_2 = [{'sigmoid':[0.1, 0.2, 0.3], 'polynomial':[2, 3], 'gaussian':[0.2, 0.3]},\n",
    "               {'sigmoid':[0.5, 0.7], 'polynomial':[5, 8], 'gaussian':[0.5, 0.7]}]"
   ]
  },
  {
   "cell_type": "code",
   "execution_count": 7,
   "metadata": {},
   "outputs": [],
   "source": [
    "kernel_names_3 = ['linear', 'polynomial', 'gaussian']\n",
    "kernel_type_3 = [{'linear':[0.5], 'polynomial':[2, 3, 7], 'gaussian':[0.1, 0.5, 0.7]},\n",
    "               {'linear':[0.2], 'polynomial':[4, 5, 8], 'gaussian':[0.7, 1]}]"
   ]
  },
  {
   "cell_type": "code",
   "execution_count": 8,
   "metadata": {},
   "outputs": [],
   "source": [
    "estimator = ca.centeredKernelAlignment"
   ]
  },
  {
   "cell_type": "markdown",
   "metadata": {},
   "source": [
    "## Basic approach"
   ]
  },
  {
   "cell_type": "code",
   "execution_count": 9,
   "metadata": {},
   "outputs": [],
   "source": [
    "sampler = ms.mySampler(n_splits=3, test_size=.25)"
   ]
  },
  {
   "cell_type": "code",
   "execution_count": 10,
   "metadata": {},
   "outputs": [],
   "source": [
    "result1 = sampler.sample(kernel_type_1, estimator, ds_list, y_c_, valid_fold = 3, verbose=False)"
   ]
  },
  {
   "cell_type": "code",
   "execution_count": 11,
   "metadata": {},
   "outputs": [
    {
     "name": "stdout",
     "output_type": "stream",
     "text": [
      "Perfomances computed for dictionary settings 1:\n",
      "\tAccuracy: 0.7866666666666666\n",
      "\tPrecision: 0.7837837837837838\n",
      "\tRecall: 0.7837837837837838\n",
      "Perfomances computed for dictionary settings 2:\n",
      "\tAccuracy: 0.7733333333333333\n",
      "\tPrecision: 0.7777777777777778\n",
      "\tRecall: 0.7567567567567568\n"
     ]
    }
   ],
   "source": [
    "w_dict, w_list = result1.votingOverCA(ds_names, kernel_names_1)\n",
    "ut.testConfigurations(estimator, y_c_, y_c_test, w_list, ds_list, ds_test, kernel_names_1)"
   ]
  },
  {
   "cell_type": "code",
   "execution_count": 12,
   "metadata": {},
   "outputs": [
    {
     "data": {
      "text/plain": [
       "[{'ds1': {'gaussian': 0.2, 'laplacian': 0.3, 'polynomial': 2},\n",
       "  'ds2': {'gaussian': 0.3, 'laplacian': 0.3, 'polynomial': 2},\n",
       "  'ds3': {'gaussian': 0.3, 'laplacian': 0.2, 'polynomial': 2}},\n",
       " {'ds1': {'gaussian': 0.5, 'laplacian': 0.7, 'polynomial': 5},\n",
       "  'ds2': {'gaussian': 0.7, 'laplacian': 0.5, 'polynomial': 5},\n",
       "  'ds3': {'gaussian': 0.5, 'laplacian': 0.5, 'polynomial': 5}}]"
      ]
     },
     "execution_count": 12,
     "metadata": {},
     "output_type": "execute_result"
    }
   ],
   "source": [
    "w_dict"
   ]
  },
  {
   "cell_type": "code",
   "execution_count": 13,
   "metadata": {},
   "outputs": [
    {
     "name": "stdout",
     "output_type": "stream",
     "text": [
      "statistics of configuration 1\n",
      "{'config': {'laplacian': [[0.3, 0.3, 0.2], [0.1, 0.3, 0.2], [0.3, 0.2, 0.2]], 'polynomial': [[2, 2, 2], [3, 2, 2], [2, 3, 2]], 'gaussian': [[0.2, 0.2, 0.3], [0.3, 0.3, 0.2], [0.2, 0.3, 0.3]]}, 'CA': (0.21530940455138745, 0.00012638172916540553), 'Accuracy': (0.7777777777777778, 0.0012995451591942834), 'Precision': (0.7518634622082899, 0.0017920372851371296), 'Recall': (0.8214285714285715, 0.000850340136054421), 'eta': (array([-0.14969077,  0.00505858, -0.00515273,  0.2939025 ,  0.00127958,\n",
      "       -0.18046998,  0.67941264,  0.00788768, -0.52854728]), array([2.27704378e-02, 9.13624254e-06, 1.04278460e-02, 2.85078837e-02,\n",
      "       9.04019528e-07, 3.93977744e-02, 8.60931829e-03, 2.16799716e-06,\n",
      "       7.83935343e-03]))}\n",
      "statistics of configuration 2\n",
      "{'config': {'laplacian': [[0.5, 0.5, 0.5], [0.7, 0.5, 0.5], [0.7, 0.5, 0.5]], 'polynomial': [[5, 5, 5], [5, 5, 5], [5, 5, 5]], 'gaussian': [[0.7, 0.7, 0.7], [0.5, 0.7, 0.5], [0.5, 0.7, 0.5]]}, 'CA': (0.13850795641270844, 2.8855807938567334e-05), 'Accuracy': (0.8070175438596491, 0.00020519134092541295), 'Precision': (0.7938271604938271, 0.0004054260021338197), 'Recall': (0.8214285714285715, 0.000850340136054421), 'eta': (array([-2.03069561e-01,  1.00226957e-05,  3.24933008e-02,  2.46213898e-01,\n",
      "        4.56879697e-07, -2.49431852e-01,  7.09516644e-01,  4.32596703e-07,\n",
      "       -5.17235966e-01]), array([2.58902436e-02, 9.98958191e-12, 1.66556276e-03, 8.50593309e-03,\n",
      "       1.63735241e-14, 6.59024505e-03, 3.89139549e-03, 1.20074469e-16,\n",
      "       1.73791141e-02]))}\n"
     ]
    }
   ],
   "source": [
    "result1.performancesFeatures()"
   ]
  },
  {
   "cell_type": "code",
   "execution_count": 14,
   "metadata": {},
   "outputs": [],
   "source": [
    "result1 = sampler.sample(kernel_type_2, estimator, ds_list, y_c_, valid_fold = 3, verbose=False)"
   ]
  },
  {
   "cell_type": "code",
   "execution_count": 15,
   "metadata": {},
   "outputs": [
    {
     "name": "stdout",
     "output_type": "stream",
     "text": [
      "Perfomances computed for dictionary settings 1:\n",
      "\tAccuracy: 0.7866666666666666\n",
      "\tPrecision: 0.7692307692307693\n",
      "\tRecall: 0.8108108108108109\n",
      "Perfomances computed for dictionary settings 2:\n",
      "\tAccuracy: 0.7866666666666666\n",
      "\tPrecision: 0.7837837837837838\n",
      "\tRecall: 0.7837837837837838\n"
     ]
    }
   ],
   "source": [
    "w_dict, w_list = result1.votingOverCA(ds_names, kernel_names_2)\n",
    "ut.testConfigurations(estimator, y_c_, y_c_test, w_list, ds_list, ds_test, kernel_names_2)"
   ]
  },
  {
   "cell_type": "code",
   "execution_count": 16,
   "metadata": {},
   "outputs": [
    {
     "data": {
      "text/plain": [
       "[{'ds1': {'gaussian': 0.3, 'polynomial': 3, 'sigmoid': 0.3},\n",
       "  'ds2': {'gaussian': 0.3, 'polynomial': 2, 'sigmoid': 0.3},\n",
       "  'ds3': {'gaussian': 0.2, 'polynomial': 2, 'sigmoid': 0.3}},\n",
       " {'ds1': {'gaussian': 0.7, 'polynomial': 8, 'sigmoid': 0.7},\n",
       "  'ds2': {'gaussian': 0.5, 'polynomial': 5, 'sigmoid': 0.7},\n",
       "  'ds3': {'gaussian': 0.5, 'polynomial': 5, 'sigmoid': 0.7}}]"
      ]
     },
     "execution_count": 16,
     "metadata": {},
     "output_type": "execute_result"
    }
   ],
   "source": [
    "w_dict"
   ]
  },
  {
   "cell_type": "code",
   "execution_count": 17,
   "metadata": {},
   "outputs": [
    {
     "name": "stdout",
     "output_type": "stream",
     "text": [
      "statistics of configuration 1\n",
      "{'config': {'sigmoid': [[0.3, 0.3, 0.1], [0.1, 0.3, 0.3], [0.3, 0.1, 0.2]], 'polynomial': [[3, 2, 2], [3, 2, 2], [3, 2, 2]], 'gaussian': [[0.3, 0.3, 0.2], [0.3, 0.3, 0.2], [0.3, 0.2, 0.3]]}, 'CA': (0.21333350091546865, 0.00020058896271114144), 'Accuracy': (0.7836257309941521, 0.0041722239321500655), 'Precision': (0.7468253968253968, 0.005178886369362562), 'Recall': (0.8571428571428571, 0.0008503401360544236), 'eta': (array([ 4.24172100e-02,  1.82776051e-04, -3.92688925e-01,  5.24841262e-02,\n",
      "        7.69012296e-03,  1.55293614e-01,  7.32119909e-02,  2.99816525e-02,\n",
      "        4.48655177e-01]), array([4.89705730e-04, 1.66597127e-06, 1.43007777e-02, 8.16601591e-05,\n",
      "       1.27651542e-05, 2.84586213e-01, 3.52967458e-05, 3.77832109e-05,\n",
      "       3.09970097e-01]))}\n",
      "statistics of configuration 2\n",
      "{'config': {'sigmoid': [[0.7, 0.7, 0.7], [0.7, 0.7, 0.7], [0.7, 0.5, 0.7]], 'polynomial': [[8, 5, 5], [8, 8, 5], [8, 5, 5]], 'gaussian': [[0.7, 0.7, 0.5], [0.5, 0.5, 0.5], [0.7, 0.5, 0.7]]}, 'CA': (0.179726803513127, 5.521524935184757e-05), 'Accuracy': (0.7485380116959064, 0.0012995451591942834), 'Precision': (0.7405372405372406, 0.0027737152279276845), 'Recall': (0.7619047619047619, 0.0011337868480725613), 'eta': (array([ 1.03515444e-02,  2.00959043e-07, -4.75205908e-01,  2.16489926e-02,\n",
      "        4.24220387e-06,  2.55262625e-01,  4.44810356e-02,  5.32909162e-06,\n",
      "        4.27582529e-01]), array([1.89510594e-05, 1.17395925e-14, 1.32964550e-02, 5.47661701e-05,\n",
      "       9.20760038e-12, 2.39509325e-01, 3.96733595e-04, 4.67133856e-12,\n",
      "       2.70362891e-01]))}\n"
     ]
    }
   ],
   "source": [
    "result1.performancesFeatures()"
   ]
  },
  {
   "cell_type": "code",
   "execution_count": 18,
   "metadata": {
    "scrolled": true
   },
   "outputs": [],
   "source": [
    "result13 = sampler.sample(kernel_type_3, estimator, ds_list, y_c_, valid_fold = 3, verbose=False)"
   ]
  },
  {
   "cell_type": "code",
   "execution_count": 19,
   "metadata": {},
   "outputs": [
    {
     "name": "stdout",
     "output_type": "stream",
     "text": [
      "Perfomances computed for dictionary settings 1:\n",
      "\tAccuracy: 0.7733333333333333\n",
      "\tPrecision: 0.7631578947368421\n",
      "\tRecall: 0.7837837837837838\n",
      "Perfomances computed for dictionary settings 2:\n",
      "\tAccuracy: 0.7733333333333333\n",
      "\tPrecision: 0.7941176470588235\n",
      "\tRecall: 0.7297297297297297\n"
     ]
    }
   ],
   "source": [
    "w_dict, w_list = result1.votingOverCA(ds_names, kernel_names_3)\n",
    "ut.testConfigurations(estimator, y_c_, y_c_test, w_list, ds_list, ds_test, kernel_names_3)"
   ]
  },
  {
   "cell_type": "code",
   "execution_count": 20,
   "metadata": {},
   "outputs": [
    {
     "data": {
      "text/plain": [
       "[{'ds1': {'gaussian': 0.5, 'linear': 0.5, 'polynomial': 2},\n",
       "  'ds2': {'gaussian': 0.1, 'linear': 0.5, 'polynomial': 7},\n",
       "  'ds3': {'gaussian': 0.1, 'linear': 0.5, 'polynomial': 2}},\n",
       " {'ds1': {'gaussian': 0.7, 'linear': 0.2, 'polynomial': 8},\n",
       "  'ds2': {'gaussian': 1, 'linear': 0.2, 'polynomial': 8},\n",
       "  'ds3': {'gaussian': 0.7, 'linear': 0.2, 'polynomial': 5}}]"
      ]
     },
     "execution_count": 20,
     "metadata": {},
     "output_type": "execute_result"
    }
   ],
   "source": [
    "w_dict"
   ]
  },
  {
   "cell_type": "code",
   "execution_count": 21,
   "metadata": {
    "scrolled": true
   },
   "outputs": [
    {
     "name": "stdout",
     "output_type": "stream",
     "text": [
      "statistics of configuration 1\n",
      "{'config': {'linear': [[0.5, 0.5, 0.5], [0.5, 0.5, 0.5], [0.5, 0.5, 0.5]], 'polynomial': [[2, 7, 2], [2, 7, 2], [2, 3, 2]], 'gaussian': [[0.1, 0.1, 0.1], [0.5, 0.1, 0.1], [0.5, 0.7, 0.1]]}, 'CA': (0.23195632179910905, 0.0001834776697784154), 'Accuracy': (0.7836257309941521, 0.002941075886597587), 'Precision': (0.7587404214559387, 0.0027868895513131066), 'Recall': (0.8214285714285715, 0.0034013605442176896), 'eta': (array([ 0.01487126, -0.03486218, -0.53217537,  0.00732352, -0.00077187,\n",
      "        0.38824985,  0.00891451,  0.02038721,  0.68412355]), array([1.22497251e-04, 7.56423520e-04, 3.26303292e-02, 1.61709195e-05,\n",
      "       1.18773467e-06, 5.88812247e-02, 1.82286428e-05, 1.47357307e-04,\n",
      "       3.46711711e-03]))}\n",
      "statistics of configuration 2\n",
      "{'config': {'linear': [[0.2, 0.2, 0.2], [0.2, 0.2, 0.2], [0.2, 0.2, 0.2]], 'polynomial': [[4, 8, 8], [8, 8, 5], [5, 4, 5]], 'gaussian': [[1, 0.7, 0.7], [0.7, 1, 0.7], [0.7, 1, 0.7]]}, 'CA': (0.21769285146451747, 0.00017633942217502632), 'Accuracy': (0.7836257309941521, 0.0033514585684484115), 'Precision': (0.7598180076628352, 0.003545276970390924), 'Recall': (0.8214285714285715, 0.002551020408163268), 'eta': (array([ 1.17855902e-02, -1.34851538e-03, -1.27373644e-01,  1.49509055e-02,\n",
      "       -1.00653155e-05,  1.47470553e-01,  2.33664336e-02, -2.11550519e-06,\n",
      "        5.97934749e-01]), array([2.00619912e-04, 3.66872129e-06, 3.09335314e-01, 3.51643134e-04,\n",
      "       1.94436355e-10, 2.70110639e-01, 7.89572558e-04, 5.16317302e-12,\n",
      "       2.28007317e-02]))}\n"
     ]
    }
   ],
   "source": [
    "result13.performancesFeatures()"
   ]
  },
  {
   "cell_type": "markdown",
   "metadata": {},
   "source": [
    "## Kernel normalization"
   ]
  },
  {
   "cell_type": "code",
   "execution_count": 22,
   "metadata": {},
   "outputs": [],
   "source": [
    "sampler = ms.mySampler(n_splits=3, test_size=.25, normalize_kernels = True)"
   ]
  },
  {
   "cell_type": "code",
   "execution_count": 23,
   "metadata": {},
   "outputs": [],
   "source": [
    "result1 = sampler.sample(kernel_type_1, estimator, ds_list, y_c_, valid_fold = 3, verbose=False)"
   ]
  },
  {
   "cell_type": "code",
   "execution_count": 24,
   "metadata": {},
   "outputs": [
    {
     "name": "stdout",
     "output_type": "stream",
     "text": [
      "Perfomances computed for dictionary settings 1:\n",
      "\tAccuracy: 0.7866666666666666\n",
      "\tPrecision: 0.7837837837837838\n",
      "\tRecall: 0.7837837837837838\n",
      "Perfomances computed for dictionary settings 2:\n",
      "\tAccuracy: 0.7733333333333333\n",
      "\tPrecision: 0.7777777777777778\n",
      "\tRecall: 0.7567567567567568\n"
     ]
    }
   ],
   "source": [
    "w_dict, w_list = result1.votingOverCA(ds_names, kernel_names_1)\n",
    "ut.testConfigurations(estimator, y_c_, y_c_test, w_list, ds_list, ds_test, kernel_names_1)"
   ]
  },
  {
   "cell_type": "code",
   "execution_count": 25,
   "metadata": {},
   "outputs": [
    {
     "data": {
      "text/plain": [
       "[{'ds1': {'gaussian': 0.2, 'laplacian': 0.1, 'polynomial': 2},\n",
       "  'ds2': {'gaussian': 0.2, 'laplacian': 0.1, 'polynomial': 2},\n",
       "  'ds3': {'gaussian': 0.2, 'laplacian': 0.1, 'polynomial': 2}},\n",
       " {'ds1': {'gaussian': 0.5, 'laplacian': 0.7, 'polynomial': 5},\n",
       "  'ds2': {'gaussian': 0.7, 'laplacian': 0.5, 'polynomial': 5},\n",
       "  'ds3': {'gaussian': 0.5, 'laplacian': 0.5, 'polynomial': 5}}]"
      ]
     },
     "execution_count": 25,
     "metadata": {},
     "output_type": "execute_result"
    }
   ],
   "source": [
    "w_dict"
   ]
  },
  {
   "cell_type": "code",
   "execution_count": 26,
   "metadata": {},
   "outputs": [
    {
     "name": "stdout",
     "output_type": "stream",
     "text": [
      "statistics of configuration 1\n",
      "{'config': {'laplacian': [[0.1, 0.1, 0.1], [0.2, 0.1, 0.1], [0.1, 0.1, 0.3]], 'polynomial': [[2, 3, 2], [2, 2, 2], [2, 2, 2]], 'gaussian': [[0.2, 0.2, 0.3], [0.2, 0.2, 0.2], [0.2, 0.2, 0.2]]}, 'CA': (0.210365728317791, 0.00010812960276678411), 'Accuracy': (0.8128654970760234, 6.839711364180474e-05), 'Precision': (0.8098765432098766, 4.877305288827864e-05), 'Recall': (0.8095238095238094, 0.0011337868480725613), 'eta': (array([-0.37039396,  0.33198639, -0.06893542,  0.1051362 ,  0.17792942,\n",
      "        0.06259554,  0.48829628,  0.55427889, -0.10256937]), array([0.01586293, 0.00280395, 0.00176862, 0.00911542, 0.00730137,\n",
      "       0.00049259, 0.09407228, 0.00976412, 0.00385047]))}\n",
      "statistics of configuration 2\n",
      "{'config': {'laplacian': [[0.7, 0.5, 0.5], [0.7, 0.5, 0.5], [0.7, 0.5, 0.5]], 'polynomial': [[5, 5, 5], [5, 5, 5], [5, 5, 5]], 'gaussian': [[0.5, 0.7, 0.5], [0.7, 0.7, 0.7], [0.5, 0.7, 0.5]]}, 'CA': (0.164145310404292, 3.3855335360027685e-05), 'Accuracy': (0.8011695906432749, 0.0008891624773434557), 'Precision': (0.7654998258446534, 0.00026279501921774796), 'Recall': (0.8571428571428571, 0.0034013605442176896), 'eta': (array([-0.29055962,  0.01837206,  0.0244363 ,  0.26253858,  0.01461148,\n",
      "       -0.21151484,  0.7255829 ,  0.04097192, -0.50877564]), array([7.64339662e-03, 2.38094334e-05, 7.52957147e-04, 7.72037939e-04,\n",
      "       1.02317739e-05, 2.33210177e-04, 3.60495208e-04, 6.31830803e-05,\n",
      "       3.90069537e-03]))}\n"
     ]
    }
   ],
   "source": [
    "result1.performancesFeatures()"
   ]
  },
  {
   "cell_type": "code",
   "execution_count": 27,
   "metadata": {},
   "outputs": [],
   "source": [
    "result1 = sampler.sample(kernel_type_2, estimator, ds_list, y_c_, valid_fold = 3, verbose=False)"
   ]
  },
  {
   "cell_type": "code",
   "execution_count": 28,
   "metadata": {},
   "outputs": [
    {
     "name": "stdout",
     "output_type": "stream",
     "text": [
      "Perfomances computed for dictionary settings 1:\n",
      "\tAccuracy: 0.8\n",
      "\tPrecision: 0.7894736842105263\n",
      "\tRecall: 0.8108108108108109\n",
      "Perfomances computed for dictionary settings 2:\n",
      "\tAccuracy: 0.8\n",
      "\tPrecision: 0.84375\n",
      "\tRecall: 0.7297297297297297\n"
     ]
    }
   ],
   "source": [
    "w_dict, w_list = result1.votingOverCA(ds_names, kernel_names_2)\n",
    "ut.testConfigurations(estimator, y_c_, y_c_test, w_list, ds_list, ds_test, kernel_names_2)"
   ]
  },
  {
   "cell_type": "code",
   "execution_count": 29,
   "metadata": {},
   "outputs": [
    {
     "data": {
      "text/plain": [
       "[{'ds1': {'gaussian': 0.2, 'polynomial': 3, 'sigmoid': 0.1},\n",
       "  'ds2': {'gaussian': 0.3, 'polynomial': 2, 'sigmoid': 0.3},\n",
       "  'ds3': {'gaussian': 0.2, 'polynomial': 2, 'sigmoid': 0.1}},\n",
       " {'ds1': {'gaussian': 0.5, 'polynomial': 8, 'sigmoid': 0.5},\n",
       "  'ds2': {'gaussian': 0.7, 'polynomial': 5, 'sigmoid': 0.7},\n",
       "  'ds3': {'gaussian': 0.5, 'polynomial': 8, 'sigmoid': 0.5}}]"
      ]
     },
     "execution_count": 29,
     "metadata": {},
     "output_type": "execute_result"
    }
   ],
   "source": [
    "w_dict"
   ]
  },
  {
   "cell_type": "code",
   "execution_count": 30,
   "metadata": {},
   "outputs": [
    {
     "name": "stdout",
     "output_type": "stream",
     "text": [
      "statistics of configuration 1\n",
      "{'config': {'sigmoid': [[0.1, 0.3, 0.1], [0.1, 0.1, 0.3], [0.1, 0.3, 0.1]], 'polynomial': [[2, 2, 2], [3, 2, 2], [3, 3, 2]], 'gaussian': [[0.2, 0.3, 0.2], [0.2, 0.3, 0.2], [0.2, 0.2, 0.2]]}, 'CA': (0.20630796958133302, 8.534861661343183e-05), 'Accuracy': (0.8304093567251462, 0.0002735884545672172), 'Precision': (0.8090470893585465, 0.00020154502269718617), 'Recall': (0.8571428571428571, 0.0008503401360544236), 'eta': (array([ 0.41617825,  0.11693864, -0.08433552,  0.04789822,  0.17557501,\n",
      "        0.09665466,  0.23527191,  0.78199635, -0.0017878 ]), array([0.05703983, 0.00743735, 0.00176943, 0.0027296 , 0.00374906,\n",
      "       0.00067679, 0.0204455 , 0.00171769, 0.00110597]))}\n",
      "statistics of configuration 2\n",
      "{'config': {'sigmoid': [[0.7, 0.5, 0.5], [0.5, 0.7, 0.7], [0.5, 0.7, 0.5]], 'polynomial': [[8, 5, 8], [8, 5, 5], [8, 5, 8]], 'gaussian': [[0.5, 0.7, 0.5], [0.5, 0.5, 0.5], [0.5, 0.7, 0.5]]}, 'CA': (0.1764138574172348, 4.62724309180011e-05), 'Accuracy': (0.8245614035087718, 0.00020519134092541295), 'Precision': (0.814231666382204, 3.7554912158882125e-05), 'Recall': (0.8333333333333334, 0.0019841269841269866), 'eta': (array([ 0.24881369,  0.0959434 , -0.30843004,  0.15165585,  0.14445858,\n",
      "        0.14526046,  0.59180782,  0.32359896,  0.24454104]), array([0.00642884, 0.00018061, 0.0099638 , 0.00169772, 0.00033924,\n",
      "       0.07529849, 0.00319108, 0.00695942, 0.14997683]))}\n"
     ]
    }
   ],
   "source": [
    "result1.performancesFeatures()"
   ]
  },
  {
   "cell_type": "code",
   "execution_count": 31,
   "metadata": {
    "scrolled": true
   },
   "outputs": [],
   "source": [
    "result13 = sampler.sample(kernel_type_3, estimator, ds_list, y_c_, valid_fold = 3, verbose=False)"
   ]
  },
  {
   "cell_type": "code",
   "execution_count": 32,
   "metadata": {},
   "outputs": [
    {
     "name": "stdout",
     "output_type": "stream",
     "text": [
      "Perfomances computed for dictionary settings 1:\n",
      "\tAccuracy: 0.7866666666666666\n",
      "\tPrecision: 0.7692307692307693\n",
      "\tRecall: 0.8108108108108109\n",
      "Perfomances computed for dictionary settings 2:\n",
      "\tAccuracy: 0.7733333333333333\n",
      "\tPrecision: 0.7777777777777778\n",
      "\tRecall: 0.7567567567567568\n"
     ]
    }
   ],
   "source": [
    "w_dict, w_list = result1.votingOverCA(ds_names, kernel_names_3)\n",
    "ut.testConfigurations(estimator, y_c_, y_c_test, w_list, ds_list, ds_test, kernel_names_3)"
   ]
  },
  {
   "cell_type": "code",
   "execution_count": 33,
   "metadata": {},
   "outputs": [
    {
     "data": {
      "text/plain": [
       "[{'ds1': {'gaussian': 0.1, 'linear': 0.5, 'polynomial': 7},\n",
       "  'ds2': {'gaussian': 0.1, 'linear': 0.5, 'polynomial': 7},\n",
       "  'ds3': {'gaussian': 0.1, 'linear': 0.5, 'polynomial': 2}},\n",
       " {'ds1': {'gaussian': 0.7, 'linear': 0.2, 'polynomial': 8},\n",
       "  'ds2': {'gaussian': 0.7, 'linear': 0.2, 'polynomial': 8},\n",
       "  'ds3': {'gaussian': 0.7, 'linear': 0.2, 'polynomial': 4}}]"
      ]
     },
     "execution_count": 33,
     "metadata": {},
     "output_type": "execute_result"
    }
   ],
   "source": [
    "w_dict"
   ]
  },
  {
   "cell_type": "code",
   "execution_count": 34,
   "metadata": {
    "scrolled": true
   },
   "outputs": [
    {
     "name": "stdout",
     "output_type": "stream",
     "text": [
      "statistics of configuration 1\n",
      "{'config': {'linear': [[0.5, 0.5, 0.5], [0.5, 0.5, 0.5], [0.5, 0.5, 0.5]], 'polynomial': [[7, 2, 2], [7, 7, 2], [2, 7, 2]], 'gaussian': [[0.1, 0.1, 0.7], [0.1, 0.1, 0.1], [0.1, 0.1, 0.1]]}, 'CA': (0.20775777692666286, 1.378520227605339e-05), 'Accuracy': (0.8187134502923975, 0.0008891624773434565), 'Precision': (0.7971059113300493, 0.00012758893688271983), 'Recall': (0.8452380952380952, 0.0036848072562358307), 'eta': (array([ 0.20166786,  0.12237425, -0.12756934,  0.13868606,  0.00232093,\n",
      "        0.25384182,  0.23546766,  0.7819423 ,  0.03342111]), array([0.02513081, 0.05688192, 0.00291058, 0.01971647, 0.03851765,\n",
      "       0.00258915, 0.00613391, 0.00298014, 0.02154943]))}\n",
      "statistics of configuration 2\n",
      "{'config': {'linear': [[0.2, 0.2, 0.2], [0.2, 0.2, 0.2], [0.2, 0.2, 0.2]], 'polynomial': [[5, 8, 8], [4, 8, 4], [8, 4, 4]], 'gaussian': [[0.7, 0.7, 0.7], [0.7, 0.7, 0.7], [0.7, 0.7, 0.7]]}, 'CA': (0.19591678226844786, 2.8920469351506368e-05), 'Accuracy': (0.7953216374269007, 6.839711364180387e-05), 'Precision': (0.78584229390681, 0.0012252540434989285), 'Recall': (0.8095238095238094, 0.004535147392290245), 'eta': (array([ 0.22383668, -0.02975625, -0.35168219,  0.25797801, -0.00559108,\n",
      "        0.26827   ,  0.6200206 ,  0.14827701,  0.17960237]), array([0.00163752, 0.00017579, 0.05273035, 0.00165353, 0.00250798,\n",
      "       0.03398484, 0.00374551, 0.0076848 , 0.14398968]))}\n"
     ]
    }
   ],
   "source": [
    "result13.performancesFeatures()"
   ]
  },
  {
   "cell_type": "markdown",
   "metadata": {},
   "source": [
    "## Normalized data"
   ]
  },
  {
   "cell_type": "code",
   "execution_count": 35,
   "metadata": {},
   "outputs": [],
   "source": [
    "sampler = ms.mySampler(n_splits=3, test_size=.25, normalizing = True)"
   ]
  },
  {
   "cell_type": "code",
   "execution_count": 36,
   "metadata": {},
   "outputs": [],
   "source": [
    "result1 = sampler.sample(kernel_type_1, estimator, ds_list, y_c_, valid_fold = 3, verbose=False)"
   ]
  },
  {
   "cell_type": "code",
   "execution_count": 37,
   "metadata": {},
   "outputs": [
    {
     "name": "stdout",
     "output_type": "stream",
     "text": [
      "Perfomances computed for dictionary settings 1:\n",
      "\tAccuracy: 0.7866666666666666\n",
      "\tPrecision: 0.7837837837837838\n",
      "\tRecall: 0.7837837837837838\n",
      "Perfomances computed for dictionary settings 2:\n",
      "\tAccuracy: 0.64\n",
      "\tPrecision: 0.6470588235294118\n",
      "\tRecall: 0.5945945945945946\n"
     ]
    }
   ],
   "source": [
    "w_dict, w_list = result1.votingOverCA(ds_names, kernel_names_1)\n",
    "ut.testConfigurations(estimator, y_c_, y_c_test, w_list, ds_list, ds_test, kernel_names_1)"
   ]
  },
  {
   "cell_type": "code",
   "execution_count": 38,
   "metadata": {},
   "outputs": [
    {
     "data": {
      "text/plain": [
       "[{'ds1': {'gaussian': 0.2, 'laplacian': 0.3, 'polynomial': 2},\n",
       "  'ds2': {'gaussian': 0.3, 'laplacian': 0.1, 'polynomial': 3},\n",
       "  'ds3': {'gaussian': 0.2, 'laplacian': 0.3, 'polynomial': 2}},\n",
       " {'ds1': {'gaussian': 0.5, 'laplacian': 0.5, 'polynomial': 5},\n",
       "  'ds2': {'gaussian': 0.7, 'laplacian': 0.5, 'polynomial': 8},\n",
       "  'ds3': {'gaussian': 0.5, 'laplacian': 0.7, 'polynomial': 5}}]"
      ]
     },
     "execution_count": 38,
     "metadata": {},
     "output_type": "execute_result"
    }
   ],
   "source": [
    "w_dict"
   ]
  },
  {
   "cell_type": "code",
   "execution_count": 39,
   "metadata": {},
   "outputs": [
    {
     "name": "stdout",
     "output_type": "stream",
     "text": [
      "statistics of configuration 1\n",
      "{'config': {'laplacian': [[0.2, 0.1, 0.3], [0.3, 0.1, 0.3], [0.3, 0.1, 0.1]], 'polynomial': [[3, 3, 2], [2, 2, 2], [2, 3, 3]], 'gaussian': [[0.3, 0.3, 0.2], [0.2, 0.3, 0.2], [0.2, 0.3, 0.3]]}, 'CA': (0.23086388869349336, 0.0001881686401862606), 'Accuracy': (0.8011695906432749, 0.00335145856844841), 'Precision': (0.7426197458455523, 0.002870422128770443), 'Recall': (0.9166666666666666, 0.00878684807256236), 'eta': (array([-0.03827834, -0.02940655,  0.0580245 , -0.05720706, -0.09622344,\n",
      "        0.13282222, -0.00813585, -0.71790983,  0.64500849]), array([1.43893148e-04, 1.12975115e-03, 1.46230793e-03, 9.65001283e-04,\n",
      "       1.04903838e-02, 1.43058151e-02, 9.21763678e-06, 4.03536897e-03,\n",
      "       9.14364444e-05]))}\n",
      "statistics of configuration 2\n",
      "{'config': {'laplacian': [[0.5, 0.5, 0.7], [0.5, 0.5, 0.7], [0.7, 0.5, 0.5]], 'polynomial': [[5, 8, 5], [5, 5, 5], [8, 8, 8]], 'gaussian': [[0.7, 0.7, 0.5], [0.5, 0.7, 0.5], [0.5, 0.7, 0.7]]}, 'CA': (0.23019827884393765, 0.00018699494130007988), 'Accuracy': (0.8011695906432749, 0.00335145856844841), 'Precision': (0.7426197458455523, 0.002870422128770443), 'Recall': (0.9166666666666666, 0.00878684807256236), 'eta': (array([-0.11796122,  0.01859406,  0.04806816, -0.07374871, -0.04398605,\n",
      "        0.21192805, -0.05941215, -0.40742183,  0.84642229]), array([8.36267754e-04, 8.38037138e-05, 8.96735528e-04, 1.20626014e-03,\n",
      "       3.13106813e-03, 2.71537955e-02, 1.67663803e-04, 1.15027970e-02,\n",
      "       2.10281531e-04]))}\n"
     ]
    }
   ],
   "source": [
    "result1.performancesFeatures()"
   ]
  },
  {
   "cell_type": "code",
   "execution_count": 40,
   "metadata": {},
   "outputs": [],
   "source": [
    "result1 = sampler.sample(kernel_type_2, estimator, ds_list, y_c_, valid_fold = 3, verbose=False)"
   ]
  },
  {
   "cell_type": "code",
   "execution_count": 41,
   "metadata": {},
   "outputs": [
    {
     "name": "stdout",
     "output_type": "stream",
     "text": [
      "Perfomances computed for dictionary settings 1:\n",
      "\tAccuracy: 0.8\n",
      "\tPrecision: 0.7894736842105263\n",
      "\tRecall: 0.8108108108108109\n",
      "Perfomances computed for dictionary settings 2:\n",
      "\tAccuracy: 0.8\n",
      "\tPrecision: 0.8055555555555556\n",
      "\tRecall: 0.7837837837837838\n"
     ]
    }
   ],
   "source": [
    "w_dict, w_list = result1.votingOverCA(ds_names, kernel_names_2)\n",
    "ut.testConfigurations(estimator, y_c_, y_c_test, w_list, ds_list, ds_test, kernel_names_2)"
   ]
  },
  {
   "cell_type": "code",
   "execution_count": 42,
   "metadata": {},
   "outputs": [
    {
     "data": {
      "text/plain": [
       "[{'ds1': {'gaussian': 0.3, 'polynomial': 3, 'sigmoid': 0.1},\n",
       "  'ds2': {'gaussian': 0.3, 'polynomial': 3, 'sigmoid': 0.1},\n",
       "  'ds3': {'gaussian': 0.2, 'polynomial': 2, 'sigmoid': 0.1}},\n",
       " {'ds1': {'gaussian': 0.7, 'polynomial': 8, 'sigmoid': 0.5},\n",
       "  'ds2': {'gaussian': 0.7, 'polynomial': 8, 'sigmoid': 0.5},\n",
       "  'ds3': {'gaussian': 0.5, 'polynomial': 5, 'sigmoid': 0.5}}]"
      ]
     },
     "execution_count": 42,
     "metadata": {},
     "output_type": "execute_result"
    }
   ],
   "source": [
    "w_dict"
   ]
  },
  {
   "cell_type": "code",
   "execution_count": 43,
   "metadata": {},
   "outputs": [
    {
     "name": "stdout",
     "output_type": "stream",
     "text": [
      "statistics of configuration 1\n",
      "{'config': {'sigmoid': [[0.1, 0.1, 0.2], [0.1, 0.1, 0.1], [0.1, 0.2, 0.3]], 'polynomial': [[3, 3, 2], [2, 3, 3], [3, 2, 2]], 'gaussian': [[0.3, 0.3, 0.2], [0.2, 0.3, 0.3], [0.3, 0.2, 0.2]]}, 'CA': (0.22814459759815373, 8.368735263694871e-05), 'Accuracy': (0.8011695906432749, 0.00047877979549263105), 'Precision': (0.7498514557338086, 0.0002633726026826574), 'Recall': (0.8928571428571428, 0.0008503401360544236), 'eta': (array([-0.70024836,  0.21849287, -0.08475132,  0.50971519, -0.25674867,\n",
      "        0.11336656, -0.19789977,  0.03999938,  0.01279837]), array([8.06620672e-04, 2.36045924e-03, 7.89393039e-05, 1.16892255e-02,\n",
      "       2.76063872e-02, 5.50870688e-03, 2.55266009e-02, 1.08662401e-03,\n",
      "       5.57244584e-04]))}\n",
      "statistics of configuration 2\n",
      "{'config': {'sigmoid': [[0.5, 0.5, 0.5], [0.5, 0.5, 0.5], [0.5, 0.5, 0.7]], 'polynomial': [[8, 8, 5], [5, 8, 8], [8, 5, 5]], 'gaussian': [[0.7, 0.7, 0.5], [0.5, 0.7, 0.7], [0.7, 0.5, 0.5]]}, 'CA': (0.22811219746144765, 8.391046401253654e-05), 'Accuracy': (0.8011695906432749, 0.00047877979549263105), 'Precision': (0.7498514557338086, 0.0002633726026826574), 'Recall': (0.8928571428571428, 0.0008503401360544236), 'eta': (array([-0.2926263 ,  0.31161583, -0.36312445,  0.30502262, -0.32030266,\n",
      "        0.39309591, -0.40097105,  0.24313016, -0.00606886]), array([0.00440948, 0.01077457, 0.002716  , 0.00394844, 0.03226614,\n",
      "       0.01230405, 0.02729304, 0.00338261, 0.01822786]))}\n"
     ]
    }
   ],
   "source": [
    "result1.performancesFeatures()"
   ]
  },
  {
   "cell_type": "code",
   "execution_count": 44,
   "metadata": {
    "scrolled": true
   },
   "outputs": [],
   "source": [
    "result13 = sampler.sample(kernel_type_3, estimator, ds_list, y_c_, valid_fold = 3, verbose=False)"
   ]
  },
  {
   "cell_type": "code",
   "execution_count": 45,
   "metadata": {},
   "outputs": [
    {
     "name": "stdout",
     "output_type": "stream",
     "text": [
      "Perfomances computed for dictionary settings 1:\n",
      "\tAccuracy: 0.7733333333333333\n",
      "\tPrecision: 0.7631578947368421\n",
      "\tRecall: 0.7837837837837838\n",
      "Perfomances computed for dictionary settings 2:\n",
      "\tAccuracy: 0.7733333333333333\n",
      "\tPrecision: 0.7777777777777778\n",
      "\tRecall: 0.7567567567567568\n"
     ]
    }
   ],
   "source": [
    "w_dict, w_list = result1.votingOverCA(ds_names, kernel_names_3)\n",
    "ut.testConfigurations(estimator, y_c_, y_c_test, w_list, ds_list, ds_test, kernel_names_3)"
   ]
  },
  {
   "cell_type": "code",
   "execution_count": 46,
   "metadata": {},
   "outputs": [
    {
     "data": {
      "text/plain": [
       "[{'ds1': {'gaussian': 0.1, 'linear': 0.5, 'polynomial': 2},\n",
       "  'ds2': {'gaussian': 0.5, 'linear': 0.5, 'polynomial': 2},\n",
       "  'ds3': {'gaussian': 0.1, 'linear': 0.5, 'polynomial': 2}},\n",
       " {'ds1': {'gaussian': 1, 'linear': 0.2, 'polynomial': 4},\n",
       "  'ds2': {'gaussian': 0.7, 'linear': 0.2, 'polynomial': 4},\n",
       "  'ds3': {'gaussian': 1, 'linear': 0.2, 'polynomial': 8}}]"
      ]
     },
     "execution_count": 46,
     "metadata": {},
     "output_type": "execute_result"
    }
   ],
   "source": [
    "w_dict"
   ]
  },
  {
   "cell_type": "code",
   "execution_count": 47,
   "metadata": {
    "scrolled": true
   },
   "outputs": [
    {
     "name": "stdout",
     "output_type": "stream",
     "text": [
      "statistics of configuration 1\n",
      "{'config': {'linear': [[0.5, 0.5, 0.5], [0.5, 0.5, 0.5], [0.5, 0.5, 0.5]], 'polynomial': [[2, 7, 7], [2, 2, 2], [7, 3, 2]], 'gaussian': [[0.1, 0.5, 0.7], [0.1, 0.1, 0.1], [0.7, 0.5, 0.1]]}, 'CA': (0.254895604942698, 1.5389080432855493e-05), 'Accuracy': (0.7251461988304092, 0.0002735884545672172), 'Precision': (0.67994227994228, 0.00028102088708149375), 'Recall': (0.8333333333333334, 0.0002834467120181403), 'eta': (array([-0.04863045,  0.4810648 , -0.29676164,  0.02791274, -0.20536456,\n",
      "        0.10709265, -0.05179931,  0.4380074 , -0.22381666]), array([0.00111213, 0.12232567, 0.04563816, 0.00032639, 0.03581032,\n",
      "       0.01586046, 0.00141905, 0.12301518, 0.0335868 ]))}\n",
      "statistics of configuration 2\n",
      "{'config': {'linear': [[0.2, 0.2, 0.2], [0.2, 0.2, 0.2], [0.2, 0.2, 0.2]], 'polynomial': [[4, 8, 8], [4, 4, 4], [8, 4, 8]], 'gaussian': [[0.7, 0.7, 1], [1, 0.7, 0.7], [1, 0.7, 1]]}, 'CA': (0.2550817579084271, 1.446063426127329e-05), 'Accuracy': (0.7251461988304092, 0.0002735884545672172), 'Precision': (0.67994227994228, 0.00028102088708149375), 'Recall': (0.8333333333333334, 0.0002834467120181403), 'eta': (array([-0.12450559,  0.38593673, -0.1061803 ,  0.16916947, -0.50211418,\n",
      "        0.18524186, -0.17996995,  0.43272321, -0.0955845 ]), array([0.00814129, 0.09162439, 0.00338303, 0.00759334, 0.08629325,\n",
      "       0.00441297, 0.00501145, 0.07365948, 0.00033129]))}\n"
     ]
    }
   ],
   "source": [
    "result13.performancesFeatures()"
   ]
  },
  {
   "cell_type": "markdown",
   "metadata": {},
   "source": [
    "## Origin Data Centering"
   ]
  },
  {
   "cell_type": "code",
   "execution_count": 48,
   "metadata": {},
   "outputs": [],
   "source": [
    "sampler = ms.mySampler(n_splits=3, test_size=.25, centering = True)"
   ]
  },
  {
   "cell_type": "code",
   "execution_count": 49,
   "metadata": {},
   "outputs": [],
   "source": [
    "result1 = sampler.sample(kernel_type_1, estimator, ds_list, y_c_, valid_fold = 3, verbose=False)"
   ]
  },
  {
   "cell_type": "code",
   "execution_count": 50,
   "metadata": {},
   "outputs": [
    {
     "name": "stdout",
     "output_type": "stream",
     "text": [
      "Perfomances computed for dictionary settings 1:\n",
      "\tAccuracy: 0.7866666666666666\n",
      "\tPrecision: 0.7837837837837838\n",
      "\tRecall: 0.7837837837837838\n",
      "Perfomances computed for dictionary settings 2:\n",
      "\tAccuracy: 0.7333333333333333\n",
      "\tPrecision: 0.7297297297297297\n",
      "\tRecall: 0.7297297297297297\n"
     ]
    }
   ],
   "source": [
    "w_dict, w_list = result1.votingOverCA(ds_names, kernel_names_1)\n",
    "ut.testConfigurations(estimator, y_c_, y_c_test, w_list, ds_list, ds_test, kernel_names_1)"
   ]
  },
  {
   "cell_type": "code",
   "execution_count": 51,
   "metadata": {},
   "outputs": [
    {
     "data": {
      "text/plain": [
       "[{'ds1': {'gaussian': 0.2, 'laplacian': 0.3, 'polynomial': 3},\n",
       "  'ds2': {'gaussian': 0.3, 'laplacian': 0.1, 'polynomial': 3},\n",
       "  'ds3': {'gaussian': 0.2, 'laplacian': 0.1, 'polynomial': 2}},\n",
       " {'ds1': {'gaussian': 0.5, 'laplacian': 0.7, 'polynomial': 8},\n",
       "  'ds2': {'gaussian': 0.7, 'laplacian': 0.5, 'polynomial': 8},\n",
       "  'ds3': {'gaussian': 0.7, 'laplacian': 0.5, 'polynomial': 8}}]"
      ]
     },
     "execution_count": 51,
     "metadata": {},
     "output_type": "execute_result"
    }
   ],
   "source": [
    "w_dict"
   ]
  },
  {
   "cell_type": "code",
   "execution_count": 52,
   "metadata": {},
   "outputs": [
    {
     "name": "stdout",
     "output_type": "stream",
     "text": [
      "statistics of configuration 1\n",
      "{'config': {'laplacian': [[0.3, 0.1, 0.1], [0.3, 0.3, 0.1], [0.3, 0.1, 0.3]], 'polynomial': [[3, 3, 2], [2, 3, 2], [3, 3, 2]], 'gaussian': [[0.2, 0.3, 0.2], [0.2, 0.3, 0.2], [0.2, 0.3, 0.2]]}, 'CA': (0.2307990717035282, 0.0006396721225788413), 'Accuracy': (0.23391812865497075, 0.002941075886597585), 'Precision': (0.22292768959435624, 0.0032147911748146903), 'Recall': (0.2261904761904762, 0.0036848072562358273), 'eta': (array([-0.09927678,  0.02583762,  0.0739369 , -0.07931339, -0.29782938,\n",
      "        0.39460331,  0.15425535, -0.54087141,  0.60157161]), array([0.00102691, 0.01002293, 0.0020371 , 0.0075611 , 0.01545057,\n",
      "       0.0047096 , 0.00633605, 0.00692032, 0.00101558]))}\n",
      "statistics of configuration 2\n",
      "{'config': {'laplacian': [[0.5, 0.5, 0.5], [0.7, 0.5, 0.5], [0.7, 0.7, 0.5]], 'polynomial': [[8, 8, 8], [5, 5, 8], [8, 8, 8]], 'gaussian': [[0.5, 0.7, 0.7], [0.5, 0.7, 0.7], [0.7, 0.7, 0.5]]}, 'CA': (0.2302012228101912, 0.0006133872494610246), 'Accuracy': (0.6959064327485379, 0.0019151191819705207), 'Precision': (0.7039682539682538, 0.0005076845553036015), 'Recall': (0.6547619047619048, 0.013888888888888888), 'eta': (array([-0.43560095,  0.10765559, -0.00163578, -0.11663088, -0.0461718 ,\n",
      "        0.54550855,  0.3353715 ,  0.21005543,  0.14237745]), array([0.00520533, 0.03432004, 0.07814504, 0.08151457, 0.02631121,\n",
      "       0.00313176, 0.00863778, 0.01177129, 0.05943954]))}\n"
     ]
    }
   ],
   "source": [
    "result1.performancesFeatures()"
   ]
  },
  {
   "cell_type": "code",
   "execution_count": 53,
   "metadata": {},
   "outputs": [],
   "source": [
    "result1 = sampler.sample(kernel_type_2, estimator, ds_list, y_c_, valid_fold = 3, verbose=False)"
   ]
  },
  {
   "cell_type": "code",
   "execution_count": 54,
   "metadata": {},
   "outputs": [
    {
     "name": "stdout",
     "output_type": "stream",
     "text": [
      "Perfomances computed for dictionary settings 1:\n",
      "\tAccuracy: 0.8\n",
      "\tPrecision: 0.7894736842105263\n",
      "\tRecall: 0.8108108108108109\n",
      "Perfomances computed for dictionary settings 2:\n",
      "\tAccuracy: 0.8\n",
      "\tPrecision: 0.8055555555555556\n",
      "\tRecall: 0.7837837837837838\n"
     ]
    }
   ],
   "source": [
    "w_dict, w_list = result1.votingOverCA(ds_names, kernel_names_2)\n",
    "ut.testConfigurations(estimator, y_c_, y_c_test, w_list, ds_list, ds_test, kernel_names_2)"
   ]
  },
  {
   "cell_type": "code",
   "execution_count": 55,
   "metadata": {},
   "outputs": [
    {
     "data": {
      "text/plain": [
       "[{'ds1': {'gaussian': 0.3, 'polynomial': 3, 'sigmoid': 0.1},\n",
       "  'ds2': {'gaussian': 0.3, 'polynomial': 3, 'sigmoid': 0.1},\n",
       "  'ds3': {'gaussian': 0.2, 'polynomial': 2, 'sigmoid': 0.2}},\n",
       " {'ds1': {'gaussian': 0.7, 'polynomial': 8, 'sigmoid': 0.7},\n",
       "  'ds2': {'gaussian': 0.7, 'polynomial': 8, 'sigmoid': 0.5},\n",
       "  'ds3': {'gaussian': 0.5, 'polynomial': 5, 'sigmoid': 0.5}}]"
      ]
     },
     "execution_count": 55,
     "metadata": {},
     "output_type": "execute_result"
    }
   ],
   "source": [
    "w_dict"
   ]
  },
  {
   "cell_type": "code",
   "execution_count": 56,
   "metadata": {},
   "outputs": [
    {
     "name": "stdout",
     "output_type": "stream",
     "text": [
      "statistics of configuration 1\n",
      "{'config': {'sigmoid': [[0.1, 0.1, 0.2], [0.1, 0.1, 0.2], [0.3, 0.1, 0.1]], 'polynomial': [[3, 3, 2], [3, 3, 2], [2, 3, 3]], 'gaussian': [[0.3, 0.3, 0.2], [0.3, 0.3, 0.2], [0.2, 0.3, 0.3]]}, 'CA': (0.22499172002549814, 0.00012353149228017398), 'Accuracy': (0.5321637426900585, 0.029205567525050435), 'Precision': (0.5299702000851426, 0.028744063078751842), 'Recall': (0.5357142857142857, 0.023809523809523805), 'eta': (array([-0.63804077,  0.19237164, -0.07975163, -0.24318598,  0.0422306 ,\n",
      "       -0.00166064, -0.12191519,  0.00692295,  0.02683754]), array([0.17491268, 0.00441083, 0.00050778, 0.23181663, 0.01570734,\n",
      "       0.00244429, 0.02954654, 0.01188008, 0.00175353]))}\n",
      "statistics of configuration 2\n",
      "{'config': {'sigmoid': [[0.7, 0.7, 0.7], [0.5, 0.5, 0.5], [0.7, 0.5, 0.5]], 'polynomial': [[8, 8, 5], [8, 8, 5], [5, 8, 8]], 'gaussian': [[0.7, 0.7, 0.5], [0.7, 0.7, 0.5], [0.5, 0.7, 0.7]]}, 'CA': (0.22501724765877099, 0.00012449038748716095), 'Accuracy': (0.6549707602339181, 0.023870592660989707), 'Precision': (0.6331403363661429, 0.02260461451955356), 'Recall': (0.6666666666666666, 0.037698412698412696), 'eta': (array([-0.31212389,  0.33952693, -0.42665926, -0.22369676,  0.13134881,\n",
      "       -0.00810459, -0.21761539,  0.27445241,  0.03619321]), array([0.04819755, 0.01340781, 0.0388922 , 0.06160367, 0.04878487,\n",
      "       0.08599003, 0.02589842, 0.05817315, 0.03296537]))}\n"
     ]
    }
   ],
   "source": [
    "result1.performancesFeatures()"
   ]
  },
  {
   "cell_type": "code",
   "execution_count": 57,
   "metadata": {
    "scrolled": true
   },
   "outputs": [],
   "source": [
    "result13 = sampler.sample(kernel_type_3, estimator, ds_list, y_c_, valid_fold = 3, verbose=False)"
   ]
  },
  {
   "cell_type": "code",
   "execution_count": 58,
   "metadata": {},
   "outputs": [
    {
     "name": "stdout",
     "output_type": "stream",
     "text": [
      "Perfomances computed for dictionary settings 1:\n",
      "\tAccuracy: 0.76\n",
      "\tPrecision: 0.7714285714285715\n",
      "\tRecall: 0.7297297297297297\n",
      "Perfomances computed for dictionary settings 2:\n",
      "\tAccuracy: 0.7866666666666666\n",
      "\tPrecision: 0.8\n",
      "\tRecall: 0.7567567567567568\n"
     ]
    }
   ],
   "source": [
    "w_dict, w_list = result1.votingOverCA(ds_names, kernel_names_3)\n",
    "ut.testConfigurations(estimator, y_c_, y_c_test, w_list, ds_list, ds_test, kernel_names_3)"
   ]
  },
  {
   "cell_type": "code",
   "execution_count": 59,
   "metadata": {},
   "outputs": [
    {
     "data": {
      "text/plain": [
       "[{'ds1': {'gaussian': 0.1, 'linear': 0.5, 'polynomial': 2},\n",
       "  'ds2': {'gaussian': 0.1, 'linear': 0.5, 'polynomial': 2},\n",
       "  'ds3': {'gaussian': 0.7, 'linear': 0.5, 'polynomial': 7}},\n",
       " {'ds1': {'gaussian': 0.7, 'linear': 0.2, 'polynomial': 4},\n",
       "  'ds2': {'gaussian': 0.7, 'linear': 0.2, 'polynomial': 4},\n",
       "  'ds3': {'gaussian': 1, 'linear': 0.2, 'polynomial': 4}}]"
      ]
     },
     "execution_count": 59,
     "metadata": {},
     "output_type": "execute_result"
    }
   ],
   "source": [
    "w_dict"
   ]
  },
  {
   "cell_type": "code",
   "execution_count": 60,
   "metadata": {
    "scrolled": true
   },
   "outputs": [
    {
     "name": "stdout",
     "output_type": "stream",
     "text": [
      "statistics of configuration 1\n",
      "{'config': {'linear': [[0.5, 0.5, 0.5], [0.5, 0.5, 0.5], [0.5, 0.5, 0.5]], 'polynomial': [[2, 7, 7], [2, 2, 7], [2, 2, 2]], 'gaussian': [[0.1, 0.7, 0.7], [0.1, 0.1, 0.7], [0.1, 0.1, 0.7]]}, 'CA': (0.23964602972290813, 3.3440506397062546e-05), 'Accuracy': (0.5263157894736842, 0.041243459526008), 'Precision': (0.523741690408357, 0.043704100525879565), 'Recall': (0.511904761904762, 0.037698412698412696), 'eta': (array([-0.07447229,  0.72486608, -0.42833034,  0.02897241, -0.32027019,\n",
      "        0.20731251, -0.00956433,  0.04608911, -0.00353623]), array([2.83024808e-04, 2.21493805e-02, 6.31858247e-03, 7.98459941e-04,\n",
      "       7.53003708e-02, 2.94221848e-02, 7.72086293e-05, 2.58638992e-03,\n",
      "       1.50381698e-06]))}\n",
      "statistics of configuration 2\n",
      "{'config': {'linear': [[0.2, 0.2, 0.2], [0.2, 0.2, 0.2], [0.2, 0.2, 0.2]], 'polynomial': [[4, 8, 8], [4, 4, 4], [4, 4, 4]], 'gaussian': [[0.7, 1, 1], [0.7, 0.7, 1], [0.7, 0.7, 1]]}, 'CA': (0.23958582555496274, 3.274656874828011e-05), 'Accuracy': (0.7017543859649122, 0.010054375705345233), 'Precision': (0.6743295019157088, 0.004747067717737553), 'Recall': (0.7261904761904763, 0.03599773242630386), 'eta': (array([-0.22638417,  0.71267264, -0.13743958,  0.01899659, -0.12622917,\n",
      "        0.04302949, -0.1459648 ,  0.46202713, -0.05366176]), array([0.0037319 , 0.02939095, 0.00053853, 0.01136427, 0.08302357,\n",
      "       0.00843343, 0.00287702, 0.02643948, 0.00035854]))}\n"
     ]
    }
   ],
   "source": [
    "result13.performancesFeatures()"
   ]
  },
  {
   "cell_type": "markdown",
   "metadata": {},
   "source": [
    "## Origin Data  Centering and Normalization"
   ]
  },
  {
   "cell_type": "code",
   "execution_count": 61,
   "metadata": {},
   "outputs": [],
   "source": [
    "sampler = ms.mySampler(n_splits=3, test_size=.25, centering = True, normalizing = True)"
   ]
  },
  {
   "cell_type": "code",
   "execution_count": 62,
   "metadata": {},
   "outputs": [],
   "source": [
    "result1 = sampler.sample(kernel_type_1, estimator, ds_list, y_c_, valid_fold = 3, verbose=False)"
   ]
  },
  {
   "cell_type": "code",
   "execution_count": 63,
   "metadata": {},
   "outputs": [
    {
     "name": "stdout",
     "output_type": "stream",
     "text": [
      "Perfomances computed for dictionary settings 1:\n",
      "\tAccuracy: 0.7733333333333333\n",
      "\tPrecision: 0.7631578947368421\n",
      "\tRecall: 0.7837837837837838\n",
      "Perfomances computed for dictionary settings 2:\n",
      "\tAccuracy: 0.7466666666666667\n",
      "\tPrecision: 0.75\n",
      "\tRecall: 0.7297297297297297\n"
     ]
    }
   ],
   "source": [
    "w_dict, w_list = result1.votingOverCA(ds_names, kernel_names_1)\n",
    "ut.testConfigurations(estimator, y_c_, y_c_test, w_list, ds_list, ds_test, kernel_names_1)"
   ]
  },
  {
   "cell_type": "code",
   "execution_count": 64,
   "metadata": {},
   "outputs": [
    {
     "data": {
      "text/plain": [
       "[{'ds1': {'gaussian': 0.3, 'laplacian': 0.3, 'polynomial': 3},\n",
       "  'ds2': {'gaussian': 0.3, 'laplacian': 0.3, 'polynomial': 3},\n",
       "  'ds3': {'gaussian': 0.2, 'laplacian': 0.1, 'polynomial': 2}},\n",
       " {'ds1': {'gaussian': 0.7, 'laplacian': 0.5, 'polynomial': 8},\n",
       "  'ds2': {'gaussian': 0.7, 'laplacian': 0.5, 'polynomial': 5},\n",
       "  'ds3': {'gaussian': 0.7, 'laplacian': 0.5, 'polynomial': 8}}]"
      ]
     },
     "execution_count": 64,
     "metadata": {},
     "output_type": "execute_result"
    }
   ],
   "source": [
    "w_dict"
   ]
  },
  {
   "cell_type": "code",
   "execution_count": 65,
   "metadata": {},
   "outputs": [
    {
     "name": "stdout",
     "output_type": "stream",
     "text": [
      "statistics of configuration 1\n",
      "{'config': {'laplacian': [[0.3, 0.3, 0.1], [0.1, 0.1, 0.1], [0.2, 0.3, 0.1]], 'polynomial': [[3, 3, 2], [3, 3, 2], [2, 2, 3]], 'gaussian': [[0.3, 0.3, 0.2], [0.3, 0.3, 0.2], [0.2, 0.2, 0.3]]}, 'CA': (0.23134431570443703, 0.00013443804044500085), 'Accuracy': (0.7836257309941521, 0.0012995451591942834), 'Precision': (0.753225806451613, 0.0013648976760319116), 'Recall': (0.8333333333333334, 0.0011337868480725613), 'eta': (array([-0.11194722, -0.18493735,  0.23441521, -0.06389042, -0.34765003,\n",
      "        0.3757956 ,  0.12176667, -0.48179148,  0.51017292]), array([0.00139123, 0.02717807, 0.02355982, 0.00223385, 0.01405741,\n",
      "       0.00890631, 0.00644336, 0.03087473, 0.0102793 ]))}\n",
      "statistics of configuration 2\n",
      "{'config': {'laplacian': [[0.7, 0.5, 0.5], [0.5, 0.5, 0.5], [0.5, 0.7, 0.5]], 'polynomial': [[8, 5, 8], [8, 8, 5], [5, 5, 8]], 'gaussian': [[0.7, 0.7, 0.7], [0.7, 0.7, 0.5], [0.5, 0.5, 0.7]]}, 'CA': (0.2307183110779777, 0.0001269000200855439), 'Accuracy': (0.8187134502923975, 0.0002735884545672172), 'Precision': (0.7849462365591396, 0.00023124060585038694), 'Recall': (0.8690476190476191, 0.00028344671201814206), 'eta': (array([-0.44028335, -0.10078903,  0.43380524, -0.13362538, -0.14494755,\n",
      "        0.47012601,  0.25891683,  0.07419892,  0.28193519]), array([0.00772602, 0.006203  , 0.0204279 , 0.04942497, 0.00071277,\n",
      "       0.01639363, 0.03791674, 0.01066892, 0.04641636]))}\n"
     ]
    }
   ],
   "source": [
    "result1.performancesFeatures()"
   ]
  },
  {
   "cell_type": "code",
   "execution_count": null,
   "metadata": {},
   "outputs": [],
   "source": [
    "result1 = sampler.sample(kernel_type_2, estimator, ds_list, y_c_, valid_fold = 3, verbose=False)"
   ]
  },
  {
   "cell_type": "code",
   "execution_count": null,
   "metadata": {},
   "outputs": [],
   "source": [
    "w_dict, w_list = result1.votingOverCA(ds_names, kernel_names_2)\n",
    "ut.testConfigurations(estimator, y_c_, y_c_test, w_list, ds_list, ds_test, kernel_names_2)"
   ]
  },
  {
   "cell_type": "code",
   "execution_count": null,
   "metadata": {},
   "outputs": [],
   "source": [
    "w_dict"
   ]
  },
  {
   "cell_type": "code",
   "execution_count": null,
   "metadata": {},
   "outputs": [],
   "source": [
    "result1.performancesFeatures()"
   ]
  },
  {
   "cell_type": "code",
   "execution_count": null,
   "metadata": {
    "scrolled": true
   },
   "outputs": [],
   "source": [
    "result13 = sampler.sample(kernel_type_3, estimator, ds_list, y_c_, valid_fold = 3, verbose=False)"
   ]
  },
  {
   "cell_type": "code",
   "execution_count": null,
   "metadata": {},
   "outputs": [],
   "source": [
    "w_dict, w_list = result1.votingOverCA(ds_names, kernel_names_3)\n",
    "ut.testConfigurations(estimator, y_c_, y_c_test, w_list, ds_list, ds_test, kernel_names_3)"
   ]
  },
  {
   "cell_type": "code",
   "execution_count": null,
   "metadata": {},
   "outputs": [],
   "source": [
    "w_dict"
   ]
  },
  {
   "cell_type": "code",
   "execution_count": null,
   "metadata": {
    "scrolled": true
   },
   "outputs": [],
   "source": [
    "result13.performancesFeatures()"
   ]
  },
  {
   "cell_type": "markdown",
   "metadata": {},
   "source": [
    "## Normalization, Kernel Normalization"
   ]
  },
  {
   "cell_type": "code",
   "execution_count": null,
   "metadata": {},
   "outputs": [],
   "source": [
    "sampler = ms.mySampler(n_splits=3, test_size=.25, normalizing = True, normalize_kernels = True)"
   ]
  },
  {
   "cell_type": "code",
   "execution_count": null,
   "metadata": {},
   "outputs": [],
   "source": [
    "result1 = sampler.sample(kernel_type_1, estimator, ds_list, y_c_, valid_fold = 3, verbose=False)"
   ]
  },
  {
   "cell_type": "code",
   "execution_count": null,
   "metadata": {},
   "outputs": [],
   "source": [
    "w_dict, w_list = result1.votingOverCA(ds_names, kernel_names_1)\n",
    "ut.testConfigurations(estimator, y_c_, y_c_test, w_list, ds_list, ds_test, kernel_names_1)"
   ]
  },
  {
   "cell_type": "code",
   "execution_count": null,
   "metadata": {},
   "outputs": [],
   "source": [
    "w_dict"
   ]
  },
  {
   "cell_type": "code",
   "execution_count": null,
   "metadata": {},
   "outputs": [],
   "source": [
    "result1.performancesFeatures()"
   ]
  },
  {
   "cell_type": "code",
   "execution_count": null,
   "metadata": {},
   "outputs": [],
   "source": [
    "result1 = sampler.sample(kernel_type_2, estimator, ds_list, y_c_, valid_fold = 3, verbose=False)"
   ]
  },
  {
   "cell_type": "code",
   "execution_count": null,
   "metadata": {},
   "outputs": [],
   "source": [
    "w_dict, w_list = result1.votingOverCA(ds_names, kernel_names_2)\n",
    "ut.testConfigurations(estimator, y_c_, y_c_test, w_list, ds_list, ds_test, kernel_names_2)"
   ]
  },
  {
   "cell_type": "code",
   "execution_count": null,
   "metadata": {},
   "outputs": [],
   "source": [
    "w_dict"
   ]
  },
  {
   "cell_type": "code",
   "execution_count": null,
   "metadata": {},
   "outputs": [],
   "source": [
    "result1.performancesFeatures()"
   ]
  },
  {
   "cell_type": "code",
   "execution_count": null,
   "metadata": {
    "scrolled": true
   },
   "outputs": [],
   "source": [
    "result13 = sampler.sample(kernel_type_3, estimator, ds_list, y_c_, valid_fold = 3, verbose=False)"
   ]
  },
  {
   "cell_type": "code",
   "execution_count": null,
   "metadata": {},
   "outputs": [],
   "source": [
    "w_dict, w_list = result1.votingOverCA(ds_names, kernel_names_3)\n",
    "ut.testConfigurations(estimator, y_c_, y_c_test, w_list, ds_list, ds_test, kernel_names_3)"
   ]
  },
  {
   "cell_type": "code",
   "execution_count": null,
   "metadata": {},
   "outputs": [],
   "source": [
    "w_dict"
   ]
  },
  {
   "cell_type": "code",
   "execution_count": null,
   "metadata": {
    "scrolled": true
   },
   "outputs": [],
   "source": [
    "result13.performancesFeatures()"
   ]
  },
  {
   "cell_type": "markdown",
   "metadata": {},
   "source": [
    "## Centering, Kernel Normalization"
   ]
  },
  {
   "cell_type": "code",
   "execution_count": null,
   "metadata": {},
   "outputs": [],
   "source": [
    "sampler = ms.mySampler(n_splits=3, test_size=.25, centering = True, normalize_kernels = True)"
   ]
  },
  {
   "cell_type": "code",
   "execution_count": null,
   "metadata": {},
   "outputs": [],
   "source": [
    "result1 = sampler.sample(kernel_type_1, estimator, ds_list, y_c_, valid_fold = 3, verbose=False)"
   ]
  },
  {
   "cell_type": "code",
   "execution_count": null,
   "metadata": {},
   "outputs": [],
   "source": [
    "w_dict, w_list = result1.votingOverCA(ds_names, kernel_names_1)\n",
    "ut.testConfigurations(estimator, y_c_, y_c_test, w_list, ds_list, ds_test, kernel_names_1)"
   ]
  },
  {
   "cell_type": "code",
   "execution_count": null,
   "metadata": {},
   "outputs": [],
   "source": [
    "w_dict"
   ]
  },
  {
   "cell_type": "code",
   "execution_count": null,
   "metadata": {},
   "outputs": [],
   "source": [
    "result1.performancesFeatures()"
   ]
  },
  {
   "cell_type": "code",
   "execution_count": null,
   "metadata": {},
   "outputs": [],
   "source": [
    "result1 = sampler.sample(kernel_type_2, estimator, ds_list, y_c_, valid_fold = 3, verbose=False)"
   ]
  },
  {
   "cell_type": "code",
   "execution_count": null,
   "metadata": {},
   "outputs": [],
   "source": [
    "w_dict, w_list = result1.votingOverCA(ds_names, kernel_names_2)\n",
    "ut.testConfigurations(estimator, y_c_, y_c_test, w_list, ds_list, ds_test, kernel_names_2)"
   ]
  },
  {
   "cell_type": "code",
   "execution_count": null,
   "metadata": {},
   "outputs": [],
   "source": [
    "w_dict"
   ]
  },
  {
   "cell_type": "code",
   "execution_count": null,
   "metadata": {},
   "outputs": [],
   "source": [
    "result1.performancesFeatures()"
   ]
  },
  {
   "cell_type": "code",
   "execution_count": null,
   "metadata": {
    "scrolled": true
   },
   "outputs": [],
   "source": [
    "result13 = sampler.sample(kernel_type_3, estimator, ds_list, y_c_, valid_fold = 3, verbose=False)"
   ]
  },
  {
   "cell_type": "code",
   "execution_count": null,
   "metadata": {},
   "outputs": [],
   "source": [
    "w_dict, w_list = result1.votingOverCA(ds_names, kernel_names_3)\n",
    "ut.testConfigurations(estimator, y_c_, y_c_test, w_list, ds_list, ds_test, kernel_names_3)"
   ]
  },
  {
   "cell_type": "code",
   "execution_count": null,
   "metadata": {},
   "outputs": [],
   "source": [
    "w_dict"
   ]
  },
  {
   "cell_type": "code",
   "execution_count": null,
   "metadata": {
    "scrolled": true
   },
   "outputs": [],
   "source": [
    "result13.performancesFeatures()"
   ]
  },
  {
   "cell_type": "markdown",
   "metadata": {},
   "source": [
    "## Centering, Normalization, Kernel Normalization"
   ]
  },
  {
   "cell_type": "code",
   "execution_count": null,
   "metadata": {},
   "outputs": [],
   "source": [
    "sampler = ms.mySampler(n_splits=3, test_size=.25, centering = True, normalizing = True, normalize_kernels = True)"
   ]
  },
  {
   "cell_type": "code",
   "execution_count": null,
   "metadata": {},
   "outputs": [],
   "source": [
    "result1 = sampler.sample(kernel_type_1, estimator, ds_list, y_c_, valid_fold = 3, verbose=False)"
   ]
  },
  {
   "cell_type": "code",
   "execution_count": null,
   "metadata": {},
   "outputs": [],
   "source": [
    "w_dict, w_list = result1.votingOverCA(ds_names, kernel_names_1)\n",
    "ut.testConfigurations(estimator, y_c_, y_c_test, w_list, ds_list, ds_test, kernel_names_1)"
   ]
  },
  {
   "cell_type": "code",
   "execution_count": null,
   "metadata": {},
   "outputs": [],
   "source": [
    "w_dict"
   ]
  },
  {
   "cell_type": "code",
   "execution_count": null,
   "metadata": {},
   "outputs": [],
   "source": [
    "result1.performancesFeatures()"
   ]
  },
  {
   "cell_type": "code",
   "execution_count": null,
   "metadata": {},
   "outputs": [],
   "source": [
    "result1 = sampler.sample(kernel_type_2, estimator, ds_list, y_c_, valid_fold = 3, verbose=False)"
   ]
  },
  {
   "cell_type": "code",
   "execution_count": null,
   "metadata": {},
   "outputs": [],
   "source": [
    "w_dict, w_list = result1.votingOverCA(ds_names, kernel_names_2)\n",
    "ut.testConfigurations(estimator, y_c_, y_c_test, w_list, ds_list, ds_test, kernel_names_2)"
   ]
  },
  {
   "cell_type": "code",
   "execution_count": null,
   "metadata": {},
   "outputs": [],
   "source": [
    "w_dict"
   ]
  },
  {
   "cell_type": "code",
   "execution_count": null,
   "metadata": {},
   "outputs": [],
   "source": [
    "result1.performancesFeatures()"
   ]
  },
  {
   "cell_type": "code",
   "execution_count": null,
   "metadata": {
    "scrolled": true
   },
   "outputs": [],
   "source": [
    "result13 = sampler.sample(kernel_type_3, estimator, ds_list, y_c_, valid_fold = 3, verbose=False)"
   ]
  },
  {
   "cell_type": "code",
   "execution_count": null,
   "metadata": {},
   "outputs": [],
   "source": [
    "w_dict, w_list = result1.votingOverCA(ds_names, kernel_names_3)\n",
    "ut.testConfigurations(estimator, y_c_, y_c_test, w_list, ds_list, ds_test, kernel_names_3)"
   ]
  },
  {
   "cell_type": "code",
   "execution_count": null,
   "metadata": {},
   "outputs": [],
   "source": [
    "w_dict"
   ]
  },
  {
   "cell_type": "code",
   "execution_count": null,
   "metadata": {
    "scrolled": true
   },
   "outputs": [],
   "source": [
    "result13.performancesFeatures()"
   ]
  },
  {
   "cell_type": "markdown",
   "metadata": {},
   "source": [
    "## L2 Penalty, Centering, K-Normalization"
   ]
  },
  {
   "cell_type": "code",
   "execution_count": null,
   "metadata": {},
   "outputs": [],
   "source": [
    "sampler = ms.mySampler(n_splits=3, test_size=0.25, lamb = 0.7, centering = True, normalize_kernels = True)"
   ]
  },
  {
   "cell_type": "code",
   "execution_count": null,
   "metadata": {},
   "outputs": [],
   "source": [
    "result1 = sampler.sample(kernel_type_1, estimator, ds_list, y_c_, valid_fold = 3, verbose=False)"
   ]
  },
  {
   "cell_type": "code",
   "execution_count": null,
   "metadata": {},
   "outputs": [],
   "source": [
    "w_dict, w_list = result1.votingOverCA(ds_names, kernel_names_1)\n",
    "ut.testConfigurations(estimator, y_c_, y_c_test, w_list, ds_list, ds_test, kernel_names_1)"
   ]
  },
  {
   "cell_type": "code",
   "execution_count": null,
   "metadata": {},
   "outputs": [],
   "source": [
    "w_dict"
   ]
  },
  {
   "cell_type": "code",
   "execution_count": null,
   "metadata": {},
   "outputs": [],
   "source": [
    "result1.performancesFeatures()"
   ]
  },
  {
   "cell_type": "code",
   "execution_count": null,
   "metadata": {},
   "outputs": [],
   "source": [
    "result1 = sampler.sample(kernel_type_2, estimator, ds_list, y_c_, valid_fold = 3, verbose=False)"
   ]
  },
  {
   "cell_type": "code",
   "execution_count": null,
   "metadata": {},
   "outputs": [],
   "source": [
    "w_dict, w_list = result1.votingOverCA(ds_names, kernel_names_2)\n",
    "ut.testConfigurations(estimator, y_c_, y_c_test, w_list, ds_list, ds_test, kernel_names_2)"
   ]
  },
  {
   "cell_type": "code",
   "execution_count": null,
   "metadata": {},
   "outputs": [],
   "source": [
    "w_dict"
   ]
  },
  {
   "cell_type": "code",
   "execution_count": null,
   "metadata": {},
   "outputs": [],
   "source": [
    "result1.performancesFeatures()"
   ]
  },
  {
   "cell_type": "code",
   "execution_count": null,
   "metadata": {
    "scrolled": true
   },
   "outputs": [],
   "source": [
    "result13 = sampler.sample(kernel_type_3, estimator, ds_list, y_c_, valid_fold = 3, verbose=False)"
   ]
  },
  {
   "cell_type": "code",
   "execution_count": null,
   "metadata": {},
   "outputs": [],
   "source": [
    "w_dict, w_list = result1.votingOverCA(ds_names, kernel_names_3)\n",
    "ut.testConfigurations(estimator, y_c_, y_c_test, w_list, ds_list, ds_test, kernel_names_3)"
   ]
  },
  {
   "cell_type": "code",
   "execution_count": null,
   "metadata": {},
   "outputs": [],
   "source": [
    "w_dict"
   ]
  },
  {
   "cell_type": "code",
   "execution_count": null,
   "metadata": {
    "scrolled": true
   },
   "outputs": [],
   "source": [
    "result13.performancesFeatures()"
   ]
  },
  {
   "cell_type": "markdown",
   "metadata": {},
   "source": [
    "## Sparsity in eta, Centering, K-Normalization"
   ]
  },
  {
   "cell_type": "code",
   "execution_count": null,
   "metadata": {},
   "outputs": [],
   "source": [
    "sampler = ms.mySampler(n_splits=3, test_size=0.25, lamb = 0.7, centering = True, normalize_kernels = True)"
   ]
  },
  {
   "cell_type": "code",
   "execution_count": null,
   "metadata": {},
   "outputs": [],
   "source": [
    "result1 = sampler.sample(kernel_type_1, estimator, ds_list, y_c_, valid_fold = 3, verbose=False)"
   ]
  },
  {
   "cell_type": "code",
   "execution_count": null,
   "metadata": {},
   "outputs": [],
   "source": [
    "w_dict, w_list = result1.votingOverCA(ds_names, kernel_names_1)\n",
    "ut.testConfigurations(estimator, y_c_, y_c_test, w_list, ds_list, ds_test, kernel_names_1)"
   ]
  },
  {
   "cell_type": "code",
   "execution_count": null,
   "metadata": {},
   "outputs": [],
   "source": [
    "w_dict"
   ]
  },
  {
   "cell_type": "code",
   "execution_count": null,
   "metadata": {},
   "outputs": [],
   "source": [
    "result1.performancesFeatures()"
   ]
  },
  {
   "cell_type": "code",
   "execution_count": null,
   "metadata": {},
   "outputs": [],
   "source": [
    "result1 = sampler.sample(kernel_type_2, estimator, ds_list, y_c_, valid_fold = 3, verbose=False)"
   ]
  },
  {
   "cell_type": "code",
   "execution_count": null,
   "metadata": {},
   "outputs": [],
   "source": [
    "w_dict, w_list = result1.votingOverCA(ds_names, kernel_names_2)\n",
    "ut.testConfigurations(estimator, y_c_, y_c_test, w_list, ds_list, ds_test, kernel_names_2)"
   ]
  },
  {
   "cell_type": "code",
   "execution_count": null,
   "metadata": {},
   "outputs": [],
   "source": [
    "w_dict"
   ]
  },
  {
   "cell_type": "code",
   "execution_count": null,
   "metadata": {},
   "outputs": [],
   "source": [
    "result1.performancesFeatures()"
   ]
  },
  {
   "cell_type": "code",
   "execution_count": null,
   "metadata": {
    "scrolled": true
   },
   "outputs": [],
   "source": [
    "result13 = sampler.sample(kernel_type_3, estimator, ds_list, y_c_, valid_fold = 3, verbose=False)"
   ]
  },
  {
   "cell_type": "code",
   "execution_count": null,
   "metadata": {},
   "outputs": [],
   "source": [
    "w_dict, w_list = result1.votingOverCA(ds_names, kernel_names_3)\n",
    "ut.testConfigurations(estimator, y_c_, y_c_test, w_list, ds_list, ds_test, kernel_names_3)"
   ]
  },
  {
   "cell_type": "code",
   "execution_count": null,
   "metadata": {},
   "outputs": [],
   "source": [
    "w_dict"
   ]
  },
  {
   "cell_type": "code",
   "execution_count": null,
   "metadata": {
    "scrolled": true
   },
   "outputs": [],
   "source": [
    "result13.performancesFeatures()"
   ]
  }
 ],
 "metadata": {
  "kernelspec": {
   "display_name": "Python 3",
   "language": "python",
   "name": "python3"
  },
  "language_info": {
   "codemirror_mode": {
    "name": "ipython",
    "version": 3
   },
   "file_extension": ".py",
   "mimetype": "text/x-python",
   "name": "python",
   "nbconvert_exporter": "python",
   "pygments_lexer": "ipython3",
   "version": "3.6.6"
  }
 },
 "nbformat": 4,
 "nbformat_minor": 2
}
