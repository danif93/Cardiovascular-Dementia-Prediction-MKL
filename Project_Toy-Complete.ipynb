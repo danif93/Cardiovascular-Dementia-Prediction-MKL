{
 "cells": [
  {
   "cell_type": "code",
   "execution_count": 1,
   "metadata": {},
   "outputs": [
    {
     "name": "stderr",
     "output_type": "stream",
     "text": [
      "/Users/danilo/.conda/envs/bcb/lib/python3.7/site-packages/sklearn/utils/__init__.py:4: DeprecationWarning: Using or importing the ABCs from 'collections' instead of from 'collections.abc' is deprecated, and in 3.8 it will stop working\n",
      "  from collections import Sequence\n"
     ]
    }
   ],
   "source": [
    "import pandas as pd\n",
    "import os\n",
    "import numpy as np\n",
    "\n",
    "import Utils as ut\n",
    "import CortesAlignmentFile as ca\n",
    "import mySampler as ms\n",
    " \n",
    "from sklearn.model_selection import StratifiedShuffleSplit"
   ]
  },
  {
   "cell_type": "code",
   "execution_count": 2,
   "metadata": {},
   "outputs": [],
   "source": [
    "from sklearn import datasets\n",
    "# make_classification(n_samples=100, n_features=20, n_informative=2, n_redundant=2, n_repeated=0, \n",
    "#                     n_classes=2, n_clusters_per_class=2, weights=None, flip_y=0.01, class_sep=1.0, \n",
    "#                     hypercube=True, shift=0.0, scale=1.0, shuffle=True, random_state=None)\n",
    "ds, label = datasets.make_classification(n_samples=300, n_features=30, n_informative=10, n_redundant=0, n_classes=2)\n",
    "ds_names = ['ds1', 'ds2', 'ds3']"
   ]
  },
  {
   "cell_type": "code",
   "execution_count": 3,
   "metadata": {},
   "outputs": [],
   "source": [
    "np.where(label==0)\n",
    "label[np.where(label==0)]=-1"
   ]
  },
  {
   "cell_type": "markdown",
   "metadata": {},
   "source": [
    "## Toy"
   ]
  },
  {
   "cell_type": "code",
   "execution_count": 4,
   "metadata": {},
   "outputs": [],
   "source": [
    "def random_sampling(X, y, n_samples):\n",
    "    from sklearn.model_selection import StratifiedShuffleSplit\n",
    "    return next(StratifiedShuffleSplit(n_splits=1, test_size=n_samples).split(X, y))"
   ]
  },
  {
   "cell_type": "code",
   "execution_count": 5,
   "metadata": {},
   "outputs": [],
   "source": [
    "tr_idx, ts_idx = random_sampling(ds, label, n_samples=0.25)\n",
    "\n",
    "ds1 = np.hstack([ds[:,:5], ds[:,10:15]])\n",
    "ds1_tr = ds1[tr_idx]\n",
    "ds1_ts = ds1[ts_idx]\n",
    "\n",
    "ds2 = np.hstack([ds[:,5:10], ds[:,15:20]])\n",
    "ds2_tr = ds2[tr_idx]\n",
    "ds2_ts = ds2[ts_idx]\n",
    "\n",
    "ds3 = ds[:,20:]\n",
    "ds3_tr = ds3[tr_idx]\n",
    "ds3_ts = ds3[ts_idx]\n",
    "\n",
    "y_ = label[tr_idx]\n",
    "y_test = label[ts_idx]\n",
    "\n",
    "ds_list_complete = [ds1, ds2, ds3]\n",
    "ds_list = [ds1_tr, ds2_tr, ds3_tr]\n",
    "ds_test = [ds1_ts, ds2_ts, ds3_ts]"
   ]
  },
  {
   "cell_type": "markdown",
   "metadata": {},
   "source": [
    "## Basic approach"
   ]
  },
  {
   "cell_type": "code",
   "execution_count": 6,
   "metadata": {},
   "outputs": [],
   "source": [
    "kernel_names = ['laplacian', 'polynomial', 'gaussian']\n",
    "kernel_type = [{'laplacian':[0.1, 0.5, 0.7], 'polynomial':[2, 3], 'gaussian':[0.1, 0.5]},\n",
    "               {'laplacian':[0.7, 1], 'polynomial':[5, 8], 'gaussian':[0.7, 1]}]\n",
    "estimator = ca.centeredKernelAlignment\n",
    "sampler = ms.mySampler(n_splits=3, test_size=.25)"
   ]
  },
  {
   "cell_type": "code",
   "execution_count": 7,
   "metadata": {},
   "outputs": [
    {
     "name": "stdout",
     "output_type": "stream",
     "text": [
      "\n",
      "1 split out of 3 ...\n",
      "\tWorking on config 1 of 2: {'laplacian': [0.1, 0.5, 0.7], 'polynomial': [2, 3], 'gaussian': [0.1, 0.5]}\n",
      "Fold no. 1\n",
      "\t\tPerfomances computed for 200\n",
      "\t\tPerfomances computed for 400\n",
      "\t\tPerfomances computed for 600\n",
      "\t\tPerfomances computed for 800\n",
      "\t\tPerfomances computed for 1000\n",
      "\t\tPerfomances computed for 1200\n",
      "\t\tPerfomances computed for 1400\n",
      "\t\tPerfomances computed for 1600\n",
      "Fold no. 2\n",
      "\t\tPerfomances computed for 200\n",
      "\t\tPerfomances computed for 400\n",
      "\t\tPerfomances computed for 600\n",
      "\t\tPerfomances computed for 800\n",
      "\t\tPerfomances computed for 1000\n",
      "\t\tPerfomances computed for 1200\n",
      "\t\tPerfomances computed for 1400\n",
      "\t\tPerfomances computed for 1600\n",
      "Fold no. 3\n",
      "\t\tPerfomances computed for 200\n",
      "\t\tPerfomances computed for 400\n",
      "\t\tPerfomances computed for 600\n",
      "\t\tPerfomances computed for 800\n",
      "\t\tPerfomances computed for 1000\n",
      "\t\tPerfomances computed for 1200\n",
      "\t\tPerfomances computed for 1400\n",
      "\t\tPerfomances computed for 1600\n",
      "Validation complete, config selected:[[0.7, 2, 0.1], [0.5, 2, 0.1], [0.7, 2, 0.5]]\n",
      "\tResult of 1:\n",
      "CA: 0.22411028590929352\n",
      "Accuracy: 0.7719298245614035\n",
      "Precision: 0.7857142857142857\n",
      "Recall: 0.7586206896551724\n",
      "[laplacian:0.7, polynomial:2, gaussian:0.1, ]\n",
      "[laplacian:0.5, polynomial:2, gaussian:0.1, ]\n",
      "[laplacian:0.7, polynomial:2, gaussian:0.5, ]\n",
      "\n",
      "eta vector: [ 0.53980148  0.00461571  0.00892833 -0.82281821  0.00603968  0.11485729\n",
      "  0.03989253 -0.00100064  0.12908314]\n",
      "\n",
      "\n",
      "\tCompleted in 0.55 minutes\n",
      "\tWorking on config 2 of 2: {'laplacian': [0.7, 1], 'polynomial': [5, 8], 'gaussian': [0.7, 1]}\n",
      "Fold no. 1\n",
      "\t\tPerfomances computed for 200\n",
      "\t\tPerfomances computed for 400\n",
      "Fold no. 2\n",
      "\t\tPerfomances computed for 200\n",
      "\t\tPerfomances computed for 400\n",
      "Fold no. 3\n",
      "\t\tPerfomances computed for 200\n",
      "\t\tPerfomances computed for 400\n",
      "Validation complete, config selected:[[0.7, 5, 0.7], [0.7, 5, 1], [1, 5, 0.7]]\n",
      "\tResult of 1:\n",
      "CA: 0.22411028590929352\n",
      "Accuracy: 0.7719298245614035\n",
      "Precision: 0.7857142857142857\n",
      "Recall: 0.7586206896551724\n",
      "[laplacian:0.7, polynomial:2, gaussian:0.1, ]\n",
      "[laplacian:0.5, polynomial:2, gaussian:0.1, ]\n",
      "[laplacian:0.7, polynomial:2, gaussian:0.5, ]\n",
      "\n",
      "eta vector: [ 0.53980148  0.00461571  0.00892833 -0.82281821  0.00603968  0.11485729\n",
      "  0.03989253 -0.00100064  0.12908314]\n",
      "\n",
      "CA: 0.12062180732234093\n",
      "Accuracy: 0.7017543859649122\n",
      "Precision: 0.7142857142857143\n",
      "Recall: 0.6896551724137931\n",
      "[laplacian:0.7, polynomial:5, gaussian:0.7, ]\n",
      "[laplacian:0.7, polynomial:5, gaussian:1, ]\n",
      "[laplacian:1, polynomial:5, gaussian:0.7, ]\n",
      "\n",
      "eta vector: [ 2.14687910e-01  1.39930147e-06 -5.51159829e-02  6.10861760e-01\n",
      "  4.15815484e-07 -7.59582369e-01 -2.20549049e-02  1.26583533e-06\n",
      "  1.63537906e-02]\n",
      "\n",
      "\n",
      "\tCompleted in 0.75 minutes\n",
      "\n",
      "2 split out of 3 ...\n",
      "\tWorking on config 1 of 2: {'laplacian': [0.1, 0.5, 0.7], 'polynomial': [2, 3], 'gaussian': [0.1, 0.5]}\n",
      "Fold no. 1\n",
      "\t\tPerfomances computed for 200\n",
      "\t\tPerfomances computed for 400\n",
      "\t\tPerfomances computed for 600\n",
      "\t\tPerfomances computed for 800\n",
      "\t\tPerfomances computed for 1000\n",
      "\t\tPerfomances computed for 1200\n",
      "\t\tPerfomances computed for 1400\n",
      "\t\tPerfomances computed for 1600\n",
      "Fold no. 2\n",
      "\t\tPerfomances computed for 200\n",
      "\t\tPerfomances computed for 400\n",
      "\t\tPerfomances computed for 600\n",
      "\t\tPerfomances computed for 800\n",
      "\t\tPerfomances computed for 1000\n",
      "\t\tPerfomances computed for 1200\n",
      "\t\tPerfomances computed for 1400\n",
      "\t\tPerfomances computed for 1600\n",
      "Fold no. 3\n",
      "\t\tPerfomances computed for 200\n",
      "\t\tPerfomances computed for 400\n",
      "\t\tPerfomances computed for 600\n",
      "\t\tPerfomances computed for 800\n",
      "\t\tPerfomances computed for 1000\n",
      "\t\tPerfomances computed for 1200\n",
      "\t\tPerfomances computed for 1400\n",
      "\t\tPerfomances computed for 1600\n",
      "Validation complete, config selected:[[0.7, 3, 0.5], [0.5, 2, 0.1], [0.1, 3, 0.5]]\n",
      "\tResult of 2:\n",
      "CA: 0.19565723793134093\n",
      "Accuracy: 0.7894736842105263\n",
      "Precision: 0.8148148148148148\n",
      "Recall: 0.7586206896551724\n",
      "[laplacian:0.7, polynomial:3, gaussian:0.5, ]\n",
      "[laplacian:0.5, polynomial:2, gaussian:0.1, ]\n",
      "[laplacian:0.1, polynomial:3, gaussian:0.5, ]\n",
      "\n",
      "eta vector: [ 7.11726836e-01  3.08005267e-04 -1.15232463e-01 -6.87106145e-01\n",
      "  2.12672712e-03  8.00609978e-02 -1.98138318e-02  2.98812646e-04\n",
      "  3.52771571e-02]\n",
      "\n",
      "\n",
      "\tCompleted in 0.6166666666666667 minutes\n",
      "\tWorking on config 2 of 2: {'laplacian': [0.7, 1], 'polynomial': [5, 8], 'gaussian': [0.7, 1]}\n",
      "Fold no. 1\n",
      "\t\tPerfomances computed for 200\n",
      "\t\tPerfomances computed for 400\n",
      "Fold no. 2\n",
      "\t\tPerfomances computed for 200\n",
      "\t\tPerfomances computed for 400\n",
      "Fold no. 3\n",
      "\t\tPerfomances computed for 200\n",
      "\t\tPerfomances computed for 400\n",
      "Validation complete, config selected:[[0.7, 5, 0.7], [0.7, 5, 0.7], [1, 5, 0.7]]\n",
      "\tResult of 2:\n",
      "CA: 0.19565723793134093\n",
      "Accuracy: 0.7894736842105263\n",
      "Precision: 0.8148148148148148\n",
      "Recall: 0.7586206896551724\n",
      "[laplacian:0.7, polynomial:3, gaussian:0.5, ]\n",
      "[laplacian:0.5, polynomial:2, gaussian:0.1, ]\n",
      "[laplacian:0.1, polynomial:3, gaussian:0.5, ]\n",
      "\n",
      "eta vector: [ 7.11726836e-01  3.08005267e-04 -1.15232463e-01 -6.87106145e-01\n",
      "  2.12672712e-03  8.00609978e-02 -1.98138318e-02  2.98812646e-04\n",
      "  3.52771571e-02]\n",
      "\n",
      "CA: 0.10765265830661015\n",
      "Accuracy: 0.8421052631578947\n",
      "Precision: 0.8125\n",
      "Recall: 0.896551724137931\n",
      "[laplacian:0.7, polynomial:5, gaussian:0.7, ]\n",
      "[laplacian:0.7, polynomial:5, gaussian:0.7, ]\n",
      "[laplacian:1, polynomial:5, gaussian:0.7, ]\n",
      "\n",
      "eta vector: [ 1.19858071e-01  9.51477108e-07 -2.16794005e-02  6.95745513e-01\n",
      "  4.13852394e-07 -1.76369611e-01 -6.81825005e-01  2.32372713e-06\n",
      "  7.14888112e-02]\n",
      "\n",
      "\n",
      "\tCompleted in 0.8166666666666667 minutes\n",
      "\n",
      "3 split out of 3 ...\n",
      "\tWorking on config 1 of 2: {'laplacian': [0.1, 0.5, 0.7], 'polynomial': [2, 3], 'gaussian': [0.1, 0.5]}\n",
      "Fold no. 1\n",
      "\t\tPerfomances computed for 200\n",
      "\t\tPerfomances computed for 400\n",
      "\t\tPerfomances computed for 600\n",
      "\t\tPerfomances computed for 800\n",
      "\t\tPerfomances computed for 1000\n",
      "\t\tPerfomances computed for 1200\n",
      "\t\tPerfomances computed for 1400\n",
      "\t\tPerfomances computed for 1600\n",
      "Fold no. 2\n",
      "\t\tPerfomances computed for 200\n",
      "\t\tPerfomances computed for 400\n",
      "\t\tPerfomances computed for 600\n",
      "\t\tPerfomances computed for 800\n",
      "\t\tPerfomances computed for 1000\n",
      "\t\tPerfomances computed for 1200\n",
      "\t\tPerfomances computed for 1400\n",
      "\t\tPerfomances computed for 1600\n",
      "Fold no. 3\n",
      "\t\tPerfomances computed for 200\n",
      "\t\tPerfomances computed for 400\n",
      "\t\tPerfomances computed for 600\n",
      "\t\tPerfomances computed for 800\n",
      "\t\tPerfomances computed for 1000\n",
      "\t\tPerfomances computed for 1200\n",
      "\t\tPerfomances computed for 1400\n",
      "\t\tPerfomances computed for 1600\n",
      "Validation complete, config selected:[[0.7, 2, 0.5], [0.5, 2, 0.1], [0.7, 3, 0.1]]\n",
      "\tResult of 3:\n",
      "CA: 0.20999547592979942\n",
      "Accuracy: 0.7894736842105263\n",
      "Precision: 0.84\n",
      "Recall: 0.7241379310344828\n",
      "[laplacian:0.7, polynomial:2, gaussian:0.5, ]\n",
      "[laplacian:0.5, polynomial:2, gaussian:0.1, ]\n",
      "[laplacian:0.7, polynomial:3, gaussian:0.1, ]\n",
      "\n",
      "eta vector: [ 5.92438233e-01  2.95391901e-03 -9.99754560e-02 -7.65105317e-01\n",
      "  4.44379082e-03  7.28767488e-02  2.19220433e-01 -1.25988209e-04\n",
      " -1.54464808e-02]\n",
      "\n",
      "\n",
      "\tCompleted in 0.6 minutes\n",
      "\tWorking on config 2 of 2: {'laplacian': [0.7, 1], 'polynomial': [5, 8], 'gaussian': [0.7, 1]}\n",
      "Fold no. 1\n",
      "\t\tPerfomances computed for 200\n",
      "\t\tPerfomances computed for 400\n",
      "Fold no. 2\n",
      "\t\tPerfomances computed for 200\n",
      "\t\tPerfomances computed for 400\n",
      "Fold no. 3\n",
      "\t\tPerfomances computed for 200\n",
      "\t\tPerfomances computed for 400\n",
      "Validation complete, config selected:[[0.7, 5, 0.7], [0.7, 5, 1], [0.7, 5, 0.7]]\n",
      "\tResult of 3:\n",
      "CA: 0.20999547592979942\n",
      "Accuracy: 0.7894736842105263\n",
      "Precision: 0.84\n",
      "Recall: 0.7241379310344828\n",
      "[laplacian:0.7, polynomial:2, gaussian:0.5, ]\n",
      "[laplacian:0.5, polynomial:2, gaussian:0.1, ]\n",
      "[laplacian:0.7, polynomial:3, gaussian:0.1, ]\n",
      "\n",
      "eta vector: [ 5.92438233e-01  2.95391901e-03 -9.99754560e-02 -7.65105317e-01\n",
      "  4.44379082e-03  7.28767488e-02  2.19220433e-01 -1.25988209e-04\n",
      " -1.54464808e-02]\n",
      "\n",
      "CA: 0.11261068448987205\n",
      "Accuracy: 0.8070175438596491\n",
      "Precision: 0.8461538461538461\n",
      "Recall: 0.7586206896551724\n",
      "[laplacian:0.7, polynomial:5, gaussian:0.7, ]\n",
      "[laplacian:0.7, polynomial:5, gaussian:1, ]\n",
      "[laplacian:0.7, polynomial:5, gaussian:0.7, ]\n",
      "\n",
      "eta vector: [ 1.72852173e-01  2.06565203e-06 -3.67886157e-02  6.48874214e-01\n",
      "  5.69998142e-07 -7.36286723e-01 -6.96806283e-02  1.00733834e-06\n",
      "  2.75218156e-02]\n",
      "\n",
      "\n",
      "\tCompleted in 0.8 minutes\n"
     ]
    }
   ],
   "source": [
    "result1 = sampler.sample(kernel_type, estimator, ds_list, y_, valid_fold = 3, verbose=True)"
   ]
  },
  {
   "cell_type": "code",
   "execution_count": 8,
   "metadata": {},
   "outputs": [
    {
     "name": "stdout",
     "output_type": "stream",
     "text": [
      "Perfomances computed for 1 dictionary settings:\n",
      "\tAccuracy: 0.72\n",
      "\tPrecision: 0.7352941176470589\n",
      "\tRecall: 0.6756756756756757\n",
      "Perfomances computed for 2 dictionary settings:\n",
      "\tAccuracy: 0.6266666666666667\n",
      "\tPrecision: 0.6153846153846154\n",
      "\tRecall: 0.6486486486486487\n"
     ]
    }
   ],
   "source": [
    "w_dict, w_list = result1.votingOverCA(ds_names, kernel_names)\n",
    "ut.testConfigurations(estimator, y_, y_test, w_list, ds_list, ds_test, kernel_names)"
   ]
  },
  {
   "cell_type": "code",
   "execution_count": 9,
   "metadata": {},
   "outputs": [
    {
     "data": {
      "text/plain": [
       "[{'ds1': {'laplacian': 0.7, 'polynomial': 2, 'gaussian': 0.5},\n",
       "  'ds2': {'laplacian': 0.5, 'polynomial': 2, 'gaussian': 0.1},\n",
       "  'ds3': {'laplacian': 0.7, 'polynomial': 3, 'gaussian': 0.5}},\n",
       " {'ds1': {'laplacian': 0.7, 'polynomial': 5, 'gaussian': 0.7},\n",
       "  'ds2': {'laplacian': 0.7, 'polynomial': 5, 'gaussian': 1},\n",
       "  'ds3': {'laplacian': 1, 'polynomial': 5, 'gaussian': 0.7}}]"
      ]
     },
     "execution_count": 9,
     "metadata": {},
     "output_type": "execute_result"
    }
   ],
   "source": [
    "w_dict"
   ]
  },
  {
   "cell_type": "code",
   "execution_count": 10,
   "metadata": {},
   "outputs": [
    {
     "name": "stdout",
     "output_type": "stream",
     "text": [
      "statistics of configuration 1\n",
      "{'config': {'laplacian': [[0.7, 0.5, 0.7], [0.7, 0.5, 0.1], [0.7, 0.5, 0.7]], 'polynomial': [[2, 2, 2], [3, 2, 3], [2, 2, 3]], 'gaussian': [[0.1, 0.1, 0.5], [0.5, 0.1, 0.5], [0.5, 0.1, 0.1]]}, 'CA': (0.20992099992347793, 0.00013493209654370412), 'Accuracy': (0.7836257309941521, 6.839711364180474e-05), 'Precision': (0.8135097001763668, 0.0004920081246947793), 'Recall': (0.7471264367816092, 0.00026423569824283197), 'eta': (array([ 6.14655515e-01,  2.62587780e-03, -6.87598633e-02, -7.58343223e-01,\n",
      "        4.20339794e-03,  8.92650108e-02,  7.97663773e-02, -2.75938366e-04,\n",
      "        4.96379394e-02]), array([5.17319203e-03, 3.14652425e-06, 3.05652368e-03, 3.09249022e-03,\n",
      "       2.58075570e-06, 3.36084510e-04, 1.03178585e-02, 2.92671854e-07,\n",
      "       3.58458466e-03]))}\n",
      "statistics of configuration 2\n",
      "{'config': {'laplacian': [[0.7, 0.7, 1], [0.7, 0.7, 1], [0.7, 0.7, 0.7]], 'polynomial': [[5, 5, 5], [5, 5, 5], [5, 5, 5]], 'gaussian': [[0.7, 1, 0.7], [0.7, 0.7, 0.7], [0.7, 1, 0.7]]}, 'CA': (0.11362838337294105, 2.8550993207005036e-05), 'Accuracy': (0.783625730994152, 0.0035566499093738235), 'Precision': (0.7909798534798536, 0.0031297590535227884), 'Recall': (0.7816091954022989, 0.007398599550799312), 'eta': (array([ 1.69132718e-01,  1.47214354e-06, -3.78613331e-02,  6.51827162e-01,\n",
      "        4.66555340e-07, -5.57412901e-01, -2.57853513e-01,  1.53230027e-06,\n",
      "        3.84548058e-02]), array([1.50570024e-03, 2.09550609e-13, 1.86909535e-04, 1.20523521e-03,\n",
      "       5.35084893e-15, 7.26874423e-02, 9.02539482e-02, 3.24315024e-13,\n",
      "       5.66410220e-04]))}\n"
     ]
    }
   ],
   "source": [
    "result1.performancesFeatures()"
   ]
  },
  {
   "cell_type": "code",
   "execution_count": 11,
   "metadata": {},
   "outputs": [],
   "source": [
    "kernel_names = ['sigmoid', 'polynomial', 'gaussian']\n",
    "kernel_type = [{'sigmoid':[0.1, 0.5, 0.7], 'polynomial':[2, 3], 'gaussian':[0.1, 0.5]},\n",
    "               {'sigmoid':[0.7, 1], 'polynomial':[5, 8], 'gaussian':[0.7, 1]}]\n",
    "estimator = ca.centeredKernelAlignment\n",
    "sampler = ms.mySampler(n_splits=3, test_size=.25)"
   ]
  },
  {
   "cell_type": "code",
   "execution_count": 12,
   "metadata": {},
   "outputs": [
    {
     "name": "stdout",
     "output_type": "stream",
     "text": [
      "\n",
      "1 split out of 3 ...\n",
      "\tWorking on config 1 of 2: {'sigmoid': [0.1, 0.5, 0.7], 'polynomial': [2, 3], 'gaussian': [0.1, 0.5]}\n",
      "Fold no. 1\n",
      "\t\tPerfomances computed for 200\n",
      "\t\tPerfomances computed for 400\n",
      "\t\tPerfomances computed for 600\n",
      "\t\tPerfomances computed for 800\n",
      "\t\tPerfomances computed for 1000\n",
      "\t\tPerfomances computed for 1200\n",
      "\t\tPerfomances computed for 1400\n",
      "\t\tPerfomances computed for 1600\n",
      "Fold no. 2\n",
      "\t\tPerfomances computed for 200\n",
      "\t\tPerfomances computed for 400\n",
      "\t\tPerfomances computed for 600\n",
      "\t\tPerfomances computed for 800\n",
      "\t\tPerfomances computed for 1000\n",
      "\t\tPerfomances computed for 1200\n",
      "\t\tPerfomances computed for 1400\n",
      "\t\tPerfomances computed for 1600\n",
      "Fold no. 3\n",
      "\t\tPerfomances computed for 200\n",
      "\t\tPerfomances computed for 400\n",
      "\t\tPerfomances computed for 600\n",
      "\t\tPerfomances computed for 800\n",
      "\t\tPerfomances computed for 1000\n",
      "\t\tPerfomances computed for 1200\n",
      "\t\tPerfomances computed for 1400\n",
      "\t\tPerfomances computed for 1600\n",
      "Validation complete, config selected:[[0.1, 2, 0.5], [0.5, 2, 0.1], [0.1, 3, 0.5]]\n",
      "\tResult of 1:\n",
      "CA: 0.21364751889056555\n",
      "Accuracy: 0.8421052631578947\n",
      "Precision: 0.9166666666666666\n",
      "Recall: 0.7586206896551724\n",
      "[sigmoid:0.1, polynomial:2, gaussian:0.5, ]\n",
      "[sigmoid:0.5, polynomial:2, gaussian:0.1, ]\n",
      "[sigmoid:0.1, polynomial:3, gaussian:0.5, ]\n",
      "\n",
      "eta vector: [-0.12455932  0.03159507 -0.74233794  0.01758347  0.03494708  0.04247119\n",
      " -0.05857267  0.0008807   0.65242264]\n",
      "\n",
      "\n",
      "\tCompleted in 0.48333333333333334 minutes\n",
      "\tWorking on config 2 of 2: {'sigmoid': [0.7, 1], 'polynomial': [5, 8], 'gaussian': [0.7, 1]}\n",
      "Fold no. 1\n",
      "\t\tPerfomances computed for 200\n",
      "\t\tPerfomances computed for 400\n",
      "Fold no. 2\n",
      "\t\tPerfomances computed for 200\n",
      "\t\tPerfomances computed for 400\n",
      "Fold no. 3\n",
      "\t\tPerfomances computed for 200\n",
      "\t\tPerfomances computed for 400\n",
      "Validation complete, config selected:[[1, 5, 0.7], [1, 5, 1], [0.7, 5, 0.7]]\n",
      "\tResult of 1:\n",
      "CA: 0.21364751889056555\n",
      "Accuracy: 0.8421052631578947\n",
      "Precision: 0.9166666666666666\n",
      "Recall: 0.7586206896551724\n",
      "[sigmoid:0.1, polynomial:2, gaussian:0.5, ]\n",
      "[sigmoid:0.5, polynomial:2, gaussian:0.1, ]\n",
      "[sigmoid:0.1, polynomial:3, gaussian:0.5, ]\n",
      "\n",
      "eta vector: [-0.12455932  0.03159507 -0.74233794  0.01758347  0.03494708  0.04247119\n",
      " -0.05857267  0.0008807   0.65242264]\n",
      "\n",
      "CA: 0.14936333543298203\n",
      "Accuracy: 0.7894736842105263\n",
      "Precision: 0.84\n",
      "Recall: 0.7241379310344828\n",
      "[sigmoid:1, polynomial:5, gaussian:0.7, ]\n",
      "[sigmoid:1, polynomial:5, gaussian:1, ]\n",
      "[sigmoid:0.7, polynomial:5, gaussian:0.7, ]\n",
      "\n",
      "eta vector: [ 1.69775865e-02  3.85132008e-05  2.00154649e-01  6.52796501e-02\n",
      "  6.42399538e-05 -6.36377421e-01  5.82663790e-04  5.11045500e-05\n",
      "  7.41897483e-01]\n",
      "\n",
      "\n",
      "\tCompleted in 0.6833333333333333 minutes\n",
      "\n",
      "2 split out of 3 ...\n",
      "\tWorking on config 1 of 2: {'sigmoid': [0.1, 0.5, 0.7], 'polynomial': [2, 3], 'gaussian': [0.1, 0.5]}\n",
      "Fold no. 1\n",
      "\t\tPerfomances computed for 200\n",
      "\t\tPerfomances computed for 400\n",
      "\t\tPerfomances computed for 600\n",
      "\t\tPerfomances computed for 800\n",
      "\t\tPerfomances computed for 1000\n",
      "\t\tPerfomances computed for 1200\n",
      "\t\tPerfomances computed for 1400\n",
      "\t\tPerfomances computed for 1600\n",
      "Fold no. 2\n",
      "\t\tPerfomances computed for 200\n",
      "\t\tPerfomances computed for 400\n",
      "\t\tPerfomances computed for 600\n",
      "\t\tPerfomances computed for 800\n",
      "\t\tPerfomances computed for 1000\n",
      "\t\tPerfomances computed for 1200\n",
      "\t\tPerfomances computed for 1400\n",
      "\t\tPerfomances computed for 1600\n",
      "Fold no. 3\n",
      "\t\tPerfomances computed for 200\n",
      "\t\tPerfomances computed for 400\n",
      "\t\tPerfomances computed for 600\n",
      "\t\tPerfomances computed for 800\n",
      "\t\tPerfomances computed for 1000\n",
      "\t\tPerfomances computed for 1200\n",
      "\t\tPerfomances computed for 1400\n",
      "\t\tPerfomances computed for 1600\n",
      "Validation complete, config selected:[[0.1, 2, 0.5], [0.7, 2, 0.1], [0.1, 3, 0.5]]\n",
      "\tResult of 2:\n",
      "CA: 0.2091007736936335\n",
      "Accuracy: 0.8245614035087719\n",
      "Precision: 0.8518518518518519\n",
      "Recall: 0.7931034482758621\n",
      "[sigmoid:0.1, polynomial:2, gaussian:0.5, ]\n",
      "[sigmoid:0.7, polynomial:2, gaussian:0.1, ]\n",
      "[sigmoid:0.1, polynomial:3, gaussian:0.5, ]\n",
      "\n",
      "eta vector: [-0.09624887  0.03388463 -0.78870838  0.03302083  0.02599319  0.29093633\n",
      " -0.06739868  0.00226807  0.52589865]\n",
      "\n",
      "\n",
      "\tCompleted in 0.55 minutes\n",
      "\tWorking on config 2 of 2: {'sigmoid': [0.7, 1], 'polynomial': [5, 8], 'gaussian': [0.7, 1]}\n",
      "Fold no. 1\n",
      "\t\tPerfomances computed for 200\n",
      "\t\tPerfomances computed for 400\n",
      "Fold no. 2\n",
      "\t\tPerfomances computed for 200\n",
      "\t\tPerfomances computed for 400\n",
      "Fold no. 3\n",
      "\t\tPerfomances computed for 200\n",
      "\t\tPerfomances computed for 400\n",
      "Validation complete, config selected:[[1, 5, 0.7], [1, 5, 1], [0.7, 8, 0.7]]\n",
      "\tResult of 2:\n",
      "CA: 0.2091007736936335\n",
      "Accuracy: 0.8245614035087719\n",
      "Precision: 0.8518518518518519\n",
      "Recall: 0.7931034482758621\n",
      "[sigmoid:0.1, polynomial:2, gaussian:0.5, ]\n",
      "[sigmoid:0.7, polynomial:2, gaussian:0.1, ]\n",
      "[sigmoid:0.1, polynomial:3, gaussian:0.5, ]\n",
      "\n",
      "eta vector: [-0.09624887  0.03388463 -0.78870838  0.03302083  0.02599319  0.29093633\n",
      " -0.06739868  0.00226807  0.52589865]\n",
      "\n",
      "CA: 0.15794571609588404\n",
      "Accuracy: 0.7368421052631579\n",
      "Precision: 0.75\n",
      "Recall: 0.7241379310344828\n",
      "[sigmoid:1, polynomial:5, gaussian:0.7, ]\n",
      "[sigmoid:1, polynomial:5, gaussian:1, ]\n",
      "[sigmoid:0.7, polynomial:8, gaussian:0.7, ]\n",
      "\n",
      "eta vector: [ 2.49189602e-02  1.44804813e-04 -1.07488861e-01  9.12334200e-02\n",
      "  3.70766149e-05 -3.99820665e-01 -5.95372960e-03  7.12495978e-08\n",
      "  9.05322937e-01]\n",
      "\n",
      "\n",
      "\tCompleted in 0.7166666666666667 minutes\n",
      "\n",
      "3 split out of 3 ...\n",
      "\tWorking on config 1 of 2: {'sigmoid': [0.1, 0.5, 0.7], 'polynomial': [2, 3], 'gaussian': [0.1, 0.5]}\n",
      "Fold no. 1\n",
      "\t\tPerfomances computed for 200\n",
      "\t\tPerfomances computed for 400\n",
      "\t\tPerfomances computed for 600\n",
      "\t\tPerfomances computed for 800\n",
      "\t\tPerfomances computed for 1000\n",
      "\t\tPerfomances computed for 1200\n",
      "\t\tPerfomances computed for 1400\n",
      "\t\tPerfomances computed for 1600\n",
      "Fold no. 2\n",
      "\t\tPerfomances computed for 200\n",
      "\t\tPerfomances computed for 400\n",
      "\t\tPerfomances computed for 600\n",
      "\t\tPerfomances computed for 800\n",
      "\t\tPerfomances computed for 1000\n",
      "\t\tPerfomances computed for 1200\n",
      "\t\tPerfomances computed for 1400\n",
      "\t\tPerfomances computed for 1600\n",
      "Fold no. 3\n",
      "\t\tPerfomances computed for 200\n",
      "\t\tPerfomances computed for 400\n",
      "\t\tPerfomances computed for 600\n",
      "\t\tPerfomances computed for 800\n",
      "\t\tPerfomances computed for 1000\n",
      "\t\tPerfomances computed for 1200\n",
      "\t\tPerfomances computed for 1400\n",
      "\t\tPerfomances computed for 1600\n",
      "Validation complete, config selected:[[0.1, 2, 0.5], [0.7, 2, 0.5], [0.1, 3, 0.1]]\n",
      "\tResult of 3:\n",
      "CA: 0.1892486100199174\n",
      "Accuracy: 0.8070175438596491\n",
      "Precision: 0.8\n",
      "Recall: 0.8275862068965517\n",
      "[sigmoid:0.1, polynomial:2, gaussian:0.5, ]\n",
      "[sigmoid:0.7, polynomial:2, gaussian:0.5, ]\n",
      "[sigmoid:0.1, polynomial:3, gaussian:0.1, ]\n",
      "\n",
      "eta vector: [-0.15431828  0.06334479  0.47942424  0.06637059  0.07221668 -0.66514367\n",
      " -0.32525704  0.00663014  0.42948015]\n",
      "\n",
      "\n",
      "\tCompleted in 0.5166666666666667 minutes\n",
      "\tWorking on config 2 of 2: {'sigmoid': [0.7, 1], 'polynomial': [5, 8], 'gaussian': [0.7, 1]}\n",
      "Fold no. 1\n",
      "\t\tPerfomances computed for 200\n",
      "\t\tPerfomances computed for 400\n",
      "Fold no. 2\n",
      "\t\tPerfomances computed for 200\n",
      "\t\tPerfomances computed for 400\n",
      "Fold no. 3\n",
      "\t\tPerfomances computed for 200\n",
      "\t\tPerfomances computed for 400\n",
      "Validation complete, config selected:[[0.7, 5, 1], [1, 5, 1], [0.7, 8, 0.7]]\n",
      "\tResult of 3:\n",
      "CA: 0.1892486100199174\n",
      "Accuracy: 0.8070175438596491\n",
      "Precision: 0.8\n",
      "Recall: 0.8275862068965517\n",
      "[sigmoid:0.1, polynomial:2, gaussian:0.5, ]\n",
      "[sigmoid:0.7, polynomial:2, gaussian:0.5, ]\n",
      "[sigmoid:0.1, polynomial:3, gaussian:0.1, ]\n",
      "\n",
      "eta vector: [-0.15431828  0.06334479  0.47942424  0.06637059  0.07221668 -0.66514367\n",
      " -0.32525704  0.00663014  0.42948015]\n",
      "\n",
      "CA: 0.14123375649269918\n",
      "Accuracy: 0.7719298245614035\n",
      "Precision: 0.8333333333333334\n",
      "Recall: 0.6896551724137931\n",
      "[sigmoid:0.7, polynomial:5, gaussian:1, ]\n",
      "[sigmoid:1, polynomial:5, gaussian:1, ]\n",
      "[sigmoid:0.7, polynomial:8, gaussian:0.7, ]\n",
      "\n",
      "eta vector: [ 4.09419567e-03  6.26023942e-06  6.22125199e-01  1.22610190e-02\n",
      "  4.62947423e-06 -7.54254770e-01 -1.75056381e-03  2.14475324e-09\n",
      "  2.09498972e-01]\n",
      "\n",
      "\n",
      "\tCompleted in 0.6833333333333333 minutes\n"
     ]
    }
   ],
   "source": [
    "result1 = sampler.sample(kernel_type, estimator, ds_list, y_, valid_fold = 3, verbose=True)"
   ]
  },
  {
   "cell_type": "code",
   "execution_count": 13,
   "metadata": {},
   "outputs": [
    {
     "name": "stdout",
     "output_type": "stream",
     "text": [
      "Perfomances computed for 1 dictionary settings:\n",
      "\tAccuracy: 0.68\n",
      "\tPrecision: 0.7096774193548387\n",
      "\tRecall: 0.5945945945945946\n",
      "Perfomances computed for 2 dictionary settings:\n",
      "\tAccuracy: 0.6266666666666667\n",
      "\tPrecision: 0.6363636363636364\n",
      "\tRecall: 0.5675675675675675\n"
     ]
    }
   ],
   "source": [
    "w_dict, w_list = result1.votingOverCA(ds_names, kernel_names)\n",
    "ut.testConfigurations(estimator, y_, y_test, w_list, ds_list, ds_test, kernel_names)"
   ]
  },
  {
   "cell_type": "code",
   "execution_count": 14,
   "metadata": {},
   "outputs": [
    {
     "data": {
      "text/plain": [
       "[{'ds1': {'sigmoid': 0.1, 'polynomial': 2, 'gaussian': 0.5},\n",
       "  'ds2': {'sigmoid': 0.7, 'polynomial': 2, 'gaussian': 0.1},\n",
       "  'ds3': {'sigmoid': 0.1, 'polynomial': 3, 'gaussian': 0.5}},\n",
       " {'ds1': {'sigmoid': 1, 'polynomial': 5, 'gaussian': 0.7},\n",
       "  'ds2': {'sigmoid': 1, 'polynomial': 5, 'gaussian': 1},\n",
       "  'ds3': {'sigmoid': 0.7, 'polynomial': 8, 'gaussian': 0.7}}]"
      ]
     },
     "execution_count": 14,
     "metadata": {},
     "output_type": "execute_result"
    }
   ],
   "source": [
    "w_dict"
   ]
  },
  {
   "cell_type": "code",
   "execution_count": 15,
   "metadata": {},
   "outputs": [
    {
     "name": "stdout",
     "output_type": "stream",
     "text": [
      "statistics of configuration 1\n",
      "{'config': {'sigmoid': [[0.1, 0.5, 0.1], [0.1, 0.7, 0.1], [0.1, 0.7, 0.1]], 'polynomial': [[2, 2, 3], [2, 2, 3], [2, 2, 3]], 'gaussian': [[0.5, 0.1, 0.5], [0.5, 0.1, 0.5], [0.5, 0.5, 0.1]]}, 'CA': (0.20399896753470548, 0.00011223200538800328), 'Accuracy': (0.8245614035087718, 0.00020519134092541295), 'Precision': (0.856172839506173, 0.0022778539856729125), 'Recall': (0.7931034482758621, 0.0007927070947284983), 'eta': (array([-0.12504215,  0.0429415 , -0.35054069,  0.03899163,  0.04438565,\n",
      "       -0.11057872, -0.15040946,  0.00325964,  0.53593381]), array([5.62125962e-04, 2.09020886e-04, 3.44779262e-01, 4.14522297e-04,\n",
      "       4.00645077e-04, 1.64060298e-01, 1.52988202e-02, 6.00092871e-06,\n",
      "       8.33424411e-03]))}\n",
      "statistics of configuration 2\n",
      "{'config': {'sigmoid': [[1, 1, 0.7], [1, 1, 0.7], [0.7, 1, 0.7]], 'polynomial': [[5, 5, 5], [5, 5, 8], [5, 5, 8]], 'gaussian': [[0.7, 1, 0.7], [0.7, 1, 0.7], [1, 1, 0.7]]}, 'CA': (0.14951426934052173, 4.6559656151969725e-05), 'Accuracy': (0.7660818713450291, 0.00047877979549263105), 'Precision': (0.8077777777777778, 0.0016765432098765432), 'Recall': (0.7126436781609197, 0.00026423569824283197), 'eta': (array([ 1.53302475e-02,  6.31927511e-05,  2.38263662e-01,  5.62580297e-02,\n",
      "        3.53153477e-05, -5.96817618e-01, -2.37387654e-03,  1.70593148e-05,\n",
      "        6.18906464e-01]), array([7.36353326e-05, 3.50363992e-09, 8.94489279e-02, 1.08013484e-03,\n",
      "       5.93785911e-10, 2.17197448e-02, 7.31499913e-06, 5.79539817e-10,\n",
      "       8.82585605e-02]))}\n"
     ]
    }
   ],
   "source": [
    "result1.performancesFeatures()"
   ]
  },
  {
   "cell_type": "markdown",
   "metadata": {},
   "source": [
    "## Kernel normalization"
   ]
  },
  {
   "cell_type": "code",
   "execution_count": 16,
   "metadata": {},
   "outputs": [],
   "source": [
    "kernel_names = ['laplacian', 'polynomial', 'gaussian']\n",
    "kernel_type = [{'laplacian':[0.1, 0.5, 0.7], 'polynomial':[2, 3], 'gaussian':[0.1, 0.5]},\n",
    "               {'laplacian':[0.7, 1], 'polynomial':[5, 8], 'gaussian':[0.7, 1]}]\n",
    "estimator = ca.centeredKernelAlignment\n",
    "sampler = ms.mySampler(n_splits=3, test_size=.25, normalize_kernels = True)"
   ]
  },
  {
   "cell_type": "code",
   "execution_count": 17,
   "metadata": {
    "scrolled": true
   },
   "outputs": [
    {
     "name": "stdout",
     "output_type": "stream",
     "text": [
      "\n",
      "1 split out of 3 ...\n",
      "\tWorking on config 1 of 2: {'laplacian': [0.1, 0.5, 0.7], 'polynomial': [2, 3], 'gaussian': [0.1, 0.5]}\n",
      "Fold no. 1\n",
      "\t\tPerfomances computed for 200\n",
      "\t\tPerfomances computed for 400\n",
      "\t\tPerfomances computed for 600\n",
      "\t\tPerfomances computed for 800\n",
      "\t\tPerfomances computed for 1000\n",
      "\t\tPerfomances computed for 1200\n",
      "\t\tPerfomances computed for 1400\n",
      "\t\tPerfomances computed for 1600\n",
      "Fold no. 2\n",
      "\t\tPerfomances computed for 200\n",
      "\t\tPerfomances computed for 400\n",
      "\t\tPerfomances computed for 600\n",
      "\t\tPerfomances computed for 800\n",
      "\t\tPerfomances computed for 1000\n",
      "\t\tPerfomances computed for 1200\n",
      "\t\tPerfomances computed for 1400\n",
      "\t\tPerfomances computed for 1600\n",
      "Fold no. 3\n",
      "\t\tPerfomances computed for 200\n",
      "\t\tPerfomances computed for 400\n",
      "\t\tPerfomances computed for 600\n",
      "\t\tPerfomances computed for 800\n",
      "\t\tPerfomances computed for 1000\n",
      "\t\tPerfomances computed for 1200\n",
      "\t\tPerfomances computed for 1400\n",
      "\t\tPerfomances computed for 1600\n",
      "Validation complete, config selected:[[0.1, 2, 0.1], [0.1, 2, 0.1], [0.1, 3, 0.1]]\n",
      "\tResult of 1:\n",
      "CA: 0.1773543602697066\n",
      "Accuracy: 0.8421052631578947\n",
      "Precision: 0.8571428571428571\n",
      "Recall: 0.8275862068965517\n",
      "[laplacian:0.1, polynomial:2, gaussian:0.1, ]\n",
      "[laplacian:0.1, polynomial:2, gaussian:0.1, ]\n",
      "[laplacian:0.1, polynomial:3, gaussian:0.1, ]\n",
      "\n",
      "eta vector: [-0.29704205  0.37907688  0.04685863 -0.00676105  0.8488029   0.06309884\n",
      "  0.09457419 -0.1360786   0.11796529]\n",
      "\n",
      "\n",
      "\tCompleted in 0.7333333333333333 minutes\n",
      "\tWorking on config 2 of 2: {'laplacian': [0.7, 1], 'polynomial': [5, 8], 'gaussian': [0.7, 1]}\n",
      "Fold no. 1\n",
      "\t\tPerfomances computed for 200\n",
      "\t\tPerfomances computed for 400\n",
      "Fold no. 2\n",
      "\t\tPerfomances computed for 200\n",
      "\t\tPerfomances computed for 400\n",
      "Fold no. 3\n",
      "\t\tPerfomances computed for 200\n",
      "\t\tPerfomances computed for 400\n",
      "Validation complete, config selected:[[0.7, 8, 0.7], [0.7, 5, 0.7], [1, 8, 0.7]]\n",
      "\tResult of 1:\n",
      "CA: 0.1773543602697066\n",
      "Accuracy: 0.8421052631578947\n",
      "Precision: 0.8571428571428571\n",
      "Recall: 0.8275862068965517\n",
      "[laplacian:0.1, polynomial:2, gaussian:0.1, ]\n",
      "[laplacian:0.1, polynomial:2, gaussian:0.1, ]\n",
      "[laplacian:0.1, polynomial:3, gaussian:0.1, ]\n",
      "\n",
      "eta vector: [-0.29704205  0.37907688  0.04685863 -0.00676105  0.8488029   0.06309884\n",
      "  0.09457419 -0.1360786   0.11796529]\n",
      "\n",
      "CA: 0.1415722384573349\n",
      "Accuracy: 0.7368421052631579\n",
      "Precision: 0.75\n",
      "Recall: 0.7241379310344828\n",
      "[laplacian:0.7, polynomial:8, gaussian:0.7, ]\n",
      "[laplacian:0.7, polynomial:5, gaussian:0.7, ]\n",
      "[laplacian:1, polynomial:8, gaussian:0.7, ]\n",
      "\n",
      "eta vector: [-0.11138508  0.01090987  0.09577791  0.72495408  0.03833269 -0.21960291\n",
      " -0.62058144 -0.00315309  0.1338522 ]\n",
      "\n",
      "\n",
      "\tCompleted in 1.05 minutes\n",
      "\n",
      "2 split out of 3 ...\n",
      "\tWorking on config 1 of 2: {'laplacian': [0.1, 0.5, 0.7], 'polynomial': [2, 3], 'gaussian': [0.1, 0.5]}\n",
      "Fold no. 1\n",
      "\t\tPerfomances computed for 200\n",
      "\t\tPerfomances computed for 400\n",
      "\t\tPerfomances computed for 600\n",
      "\t\tPerfomances computed for 800\n",
      "\t\tPerfomances computed for 1000\n",
      "\t\tPerfomances computed for 1200\n",
      "\t\tPerfomances computed for 1400\n",
      "\t\tPerfomances computed for 1600\n",
      "Fold no. 2\n",
      "\t\tPerfomances computed for 200\n",
      "\t\tPerfomances computed for 400\n",
      "\t\tPerfomances computed for 600\n",
      "\t\tPerfomances computed for 800\n",
      "\t\tPerfomances computed for 1000\n",
      "\t\tPerfomances computed for 1200\n",
      "\t\tPerfomances computed for 1400\n",
      "\t\tPerfomances computed for 1600\n",
      "Fold no. 3\n",
      "\t\tPerfomances computed for 200\n",
      "\t\tPerfomances computed for 400\n",
      "\t\tPerfomances computed for 600\n",
      "\t\tPerfomances computed for 800\n",
      "\t\tPerfomances computed for 1000\n",
      "\t\tPerfomances computed for 1200\n",
      "\t\tPerfomances computed for 1400\n",
      "\t\tPerfomances computed for 1600\n",
      "Validation complete, config selected:[[0.1, 2, 0.1], [0.5, 2, 0.1], [0.1, 3, 0.1]]\n",
      "\tResult of 2:\n",
      "CA: 0.19722112078938198\n",
      "Accuracy: 0.8245614035087719\n",
      "Precision: 0.88\n",
      "Recall: 0.7586206896551724\n",
      "[laplacian:0.1, polynomial:2, gaussian:0.1, ]\n",
      "[laplacian:0.5, polynomial:2, gaussian:0.1, ]\n",
      "[laplacian:0.1, polynomial:3, gaussian:0.1, ]\n",
      "\n",
      "eta vector: [-0.63651754  0.46950519  0.11832976 -0.00761883  0.5792335   0.07597051\n",
      "  0.0144517  -0.09963492  0.094506  ]\n",
      "\n",
      "\n",
      "\tCompleted in 1.15 minutes\n",
      "\tWorking on config 2 of 2: {'laplacian': [0.7, 1], 'polynomial': [5, 8], 'gaussian': [0.7, 1]}\n",
      "Fold no. 1\n",
      "\t\tPerfomances computed for 200\n",
      "\t\tPerfomances computed for 400\n",
      "Fold no. 2\n",
      "\t\tPerfomances computed for 200\n",
      "\t\tPerfomances computed for 400\n",
      "Fold no. 3\n",
      "\t\tPerfomances computed for 200\n",
      "\t\tPerfomances computed for 400\n",
      "Validation complete, config selected:[[0.7, 5, 0.7], [0.7, 5, 0.7], [1, 8, 1]]\n",
      "\tResult of 2:\n",
      "CA: 0.19722112078938198\n",
      "Accuracy: 0.8245614035087719\n",
      "Precision: 0.88\n",
      "Recall: 0.7586206896551724\n",
      "[laplacian:0.1, polynomial:2, gaussian:0.1, ]\n",
      "[laplacian:0.5, polynomial:2, gaussian:0.1, ]\n",
      "[laplacian:0.1, polynomial:3, gaussian:0.1, ]\n",
      "\n",
      "eta vector: [-0.63651754  0.46950519  0.11832976 -0.00761883  0.5792335   0.07597051\n",
      "  0.0144517  -0.09963492  0.094506  ]\n",
      "\n",
      "CA: 0.1530925929993139\n",
      "Accuracy: 0.7017543859649122\n",
      "Precision: 0.75\n",
      "Recall: 0.6206896551724138\n",
      "[laplacian:0.7, polynomial:5, gaussian:0.7, ]\n",
      "[laplacian:0.7, polynomial:5, gaussian:0.7, ]\n",
      "[laplacian:1, polynomial:8, gaussian:1, ]\n",
      "\n",
      "eta vector: [-2.75444178e-01  2.56013493e-02  1.11499226e-01  7.21286663e-01\n",
      "  3.76215885e-02 -2.14729405e-01 -5.49634638e-01 -6.65713057e-04\n",
      "  2.02893489e-01]\n",
      "\n",
      "\n",
      "\tCompleted in 1.45 minutes\n",
      "\n",
      "3 split out of 3 ...\n",
      "\tWorking on config 1 of 2: {'laplacian': [0.1, 0.5, 0.7], 'polynomial': [2, 3], 'gaussian': [0.1, 0.5]}\n",
      "Fold no. 1\n",
      "\t\tPerfomances computed for 200\n",
      "\t\tPerfomances computed for 400\n",
      "\t\tPerfomances computed for 600\n",
      "\t\tPerfomances computed for 800\n",
      "\t\tPerfomances computed for 1000\n",
      "\t\tPerfomances computed for 1200\n",
      "\t\tPerfomances computed for 1400\n",
      "\t\tPerfomances computed for 1600\n",
      "Fold no. 2\n",
      "\t\tPerfomances computed for 200\n",
      "\t\tPerfomances computed for 400\n",
      "\t\tPerfomances computed for 600\n",
      "\t\tPerfomances computed for 800\n",
      "\t\tPerfomances computed for 1000\n",
      "\t\tPerfomances computed for 1200\n",
      "\t\tPerfomances computed for 1400\n",
      "\t\tPerfomances computed for 1600\n",
      "Fold no. 3\n",
      "\t\tPerfomances computed for 200\n",
      "\t\tPerfomances computed for 400\n",
      "\t\tPerfomances computed for 600\n",
      "\t\tPerfomances computed for 800\n",
      "\t\tPerfomances computed for 1000\n",
      "\t\tPerfomances computed for 1200\n",
      "\t\tPerfomances computed for 1400\n",
      "\t\tPerfomances computed for 1600\n",
      "Validation complete, config selected:[[0.1, 3, 0.1], [0.1, 2, 0.1], [0.7, 2, 0.1]]\n",
      "\tResult of 3:\n",
      "CA: 0.18374426255211365\n",
      "Accuracy: 0.7894736842105263\n",
      "Precision: 0.84\n",
      "Recall: 0.7241379310344828\n",
      "[laplacian:0.1, polynomial:3, gaussian:0.1, ]\n",
      "[laplacian:0.1, polynomial:2, gaussian:0.1, ]\n",
      "[laplacian:0.7, polynomial:2, gaussian:0.1, ]\n",
      "\n",
      "eta vector: [-0.24933096  0.24998284  0.11701212  0.06679874  0.86568285 -0.04773843\n",
      " -0.00515642 -0.25843848  0.19668743]\n",
      "\n",
      "\n",
      "\tCompleted in 0.8666666666666667 minutes\n",
      "\tWorking on config 2 of 2: {'laplacian': [0.7, 1], 'polynomial': [5, 8], 'gaussian': [0.7, 1]}\n",
      "Fold no. 1\n",
      "\t\tPerfomances computed for 200\n",
      "\t\tPerfomances computed for 400\n",
      "Fold no. 2\n",
      "\t\tPerfomances computed for 200\n",
      "\t\tPerfomances computed for 400\n",
      "Fold no. 3\n",
      "\t\tPerfomances computed for 200\n",
      "\t\tPerfomances computed for 400\n",
      "Validation complete, config selected:[[0.7, 5, 0.7], [0.7, 5, 0.7], [1, 5, 0.7]]\n",
      "\tResult of 3:\n",
      "CA: 0.18374426255211365\n",
      "Accuracy: 0.7894736842105263\n",
      "Precision: 0.84\n",
      "Recall: 0.7241379310344828\n",
      "[laplacian:0.1, polynomial:3, gaussian:0.1, ]\n",
      "[laplacian:0.1, polynomial:2, gaussian:0.1, ]\n",
      "[laplacian:0.7, polynomial:2, gaussian:0.1, ]\n",
      "\n",
      "eta vector: [-0.24933096  0.24998284  0.11701212  0.06679874  0.86568285 -0.04773843\n",
      " -0.00515642 -0.25843848  0.19668743]\n",
      "\n",
      "CA: 0.14540661656734272\n",
      "Accuracy: 0.7543859649122807\n",
      "Precision: 0.8\n",
      "Recall: 0.6896551724137931\n",
      "[laplacian:0.7, polynomial:5, gaussian:0.7, ]\n",
      "[laplacian:0.7, polynomial:5, gaussian:0.7, ]\n",
      "[laplacian:1, polynomial:5, gaussian:0.7, ]\n",
      "\n",
      "eta vector: [ 0.21831403  0.02191528 -0.16012075  0.70900723  0.04814472 -0.35427894\n",
      " -0.53032493 -0.00826485  0.11993533]\n",
      "\n",
      "\n",
      "\tCompleted in 1.1333333333333333 minutes\n"
     ]
    }
   ],
   "source": [
    "result3 = sampler.sample(kernel_type, estimator, ds_list, y_, valid_fold = 3, verbose=True)"
   ]
  },
  {
   "cell_type": "code",
   "execution_count": 18,
   "metadata": {},
   "outputs": [
    {
     "name": "stdout",
     "output_type": "stream",
     "text": [
      "Perfomances computed for 1 dictionary settings:\n",
      "\tAccuracy: 0.6533333333333333\n",
      "\tPrecision: 0.6571428571428571\n",
      "\tRecall: 0.6216216216216216\n",
      "Perfomances computed for 2 dictionary settings:\n",
      "\tAccuracy: 0.6266666666666667\n",
      "\tPrecision: 0.6097560975609756\n",
      "\tRecall: 0.6756756756756757\n"
     ]
    }
   ],
   "source": [
    "w_dict, w_list = result3.votingOverCA(ds_names, kernel_names)\n",
    "ut.testConfigurations(estimator, y_, y_test, w_list, ds_list, ds_test, kernel_names)"
   ]
  },
  {
   "cell_type": "code",
   "execution_count": 19,
   "metadata": {},
   "outputs": [
    {
     "data": {
      "text/plain": [
       "[{'ds1': {'laplacian': 0.1, 'polynomial': 2, 'gaussian': 0.1},\n",
       "  'ds2': {'laplacian': 0.1, 'polynomial': 2, 'gaussian': 0.1},\n",
       "  'ds3': {'laplacian': 0.1, 'polynomial': 3, 'gaussian': 0.1}},\n",
       " {'ds1': {'laplacian': 0.7, 'polynomial': 5, 'gaussian': 0.7},\n",
       "  'ds2': {'laplacian': 0.7, 'polynomial': 5, 'gaussian': 0.7},\n",
       "  'ds3': {'laplacian': 1, 'polynomial': 8, 'gaussian': 0.7}}]"
      ]
     },
     "execution_count": 19,
     "metadata": {},
     "output_type": "execute_result"
    }
   ],
   "source": [
    "w_dict"
   ]
  },
  {
   "cell_type": "code",
   "execution_count": 20,
   "metadata": {},
   "outputs": [
    {
     "name": "stdout",
     "output_type": "stream",
     "text": [
      "statistics of configuration 1\n",
      "{'config': {'laplacian': [[0.1, 0.1, 0.1], [0.1, 0.5, 0.1], [0.1, 0.1, 0.7]], 'polynomial': [[2, 2, 3], [2, 2, 3], [3, 2, 2]], 'gaussian': [[0.1, 0.1, 0.1], [0.1, 0.1, 0.1], [0.1, 0.1, 0.1]]}, 'CA': (0.18610658120373405, 6.857163696358553e-05), 'Accuracy': (0.8187134502923975, 0.0004787797954926293), 'Precision': (0.859047619047619, 0.0002684807256235833), 'Recall': (0.7701149425287356, 0.001849649887699828), 'eta': (array([-0.39429685,  0.3661883 ,  0.09406684,  0.01747295,  0.76457308,\n",
      "        0.03044364,  0.03462316, -0.16471734,  0.13638624]), array([0.02971482, 0.00811473, 0.0011146 , 0.00121664, 0.01722287,\n",
      "       0.00308383, 0.00186114, 0.00461318, 0.00190984]))}\n",
      "statistics of configuration 2\n",
      "{'config': {'laplacian': [[0.7, 0.7, 1], [0.7, 0.7, 1], [0.7, 0.7, 1]], 'polynomial': [[8, 5, 8], [5, 5, 8], [5, 5, 5]], 'gaussian': [[0.7, 0.7, 0.7], [0.7, 0.7, 1], [0.7, 0.7, 0.7]]}, 'CA': (0.14669048267466384, 2.2943917552913315e-05), 'Accuracy': (0.7309941520467836, 0.00047877979549263105), 'Precision': (0.7666666666666666, 0.0005555555555555565), 'Recall': (0.6781609195402298, 0.0018496498876998278), 'eta': (array([-0.05617174,  0.0194755 ,  0.01571879,  0.71841599,  0.04136633,\n",
      "       -0.26287042, -0.566847  , -0.00402788,  0.15222701]), array([4.21571178e-02, 3.89495213e-05, 1.55009657e-02, 4.65040716e-05,\n",
      "       2.30575383e-05, 4.18171712e-03, 1.50583904e-03, 1.00071031e-05,\n",
      "       1.31582601e-03]))}\n"
     ]
    }
   ],
   "source": [
    "result3.performancesFeatures()"
   ]
  },
  {
   "cell_type": "code",
   "execution_count": null,
   "metadata": {},
   "outputs": [],
   "source": [
    "kernel_names = ['sigmoid', 'polynomial', 'gaussian']\n",
    "kernel_type = [{'sigmoid':[0.1, 0.5, 0.7], 'polynomial':[2, 3], 'gaussian':[0.1, 0.5]},\n",
    "               {'sigmoid':[0.7, 1], 'polynomial':[5, 8], 'gaussian':[0.7, 1]}]\n",
    "estimator = ca.centeredKernelAlignment\n",
    "sampler = ms.mySampler(n_splits=3, test_size=.25, normalize_kernels = True)"
   ]
  },
  {
   "cell_type": "code",
   "execution_count": null,
   "metadata": {},
   "outputs": [],
   "source": [
    "result1 = sampler.sample(kernel_type, estimator, ds_list, y_, valid_fold = 3, verbose=True)"
   ]
  },
  {
   "cell_type": "code",
   "execution_count": null,
   "metadata": {},
   "outputs": [],
   "source": [
    "w_dict, w_list = result1.votingOverCA(ds_names, kernel_names)\n",
    "ut.testConfigurations(estimator, y_, y_test, w_list, ds_list, ds_test, kernel_names)"
   ]
  },
  {
   "cell_type": "code",
   "execution_count": null,
   "metadata": {},
   "outputs": [],
   "source": [
    "w_dict"
   ]
  },
  {
   "cell_type": "code",
   "execution_count": null,
   "metadata": {},
   "outputs": [],
   "source": [
    "result1.performancesFeatures()"
   ]
  },
  {
   "cell_type": "markdown",
   "metadata": {},
   "source": [
    "## Normalized data"
   ]
  },
  {
   "cell_type": "code",
   "execution_count": null,
   "metadata": {},
   "outputs": [],
   "source": [
    "kernel_names = ['laplacian', 'polynomial', 'gaussian']\n",
    "kernel_type = [{'laplacian':[0.1, 0.5, 0.7], 'polynomial':[2, 3], 'gaussian':[0.1, 0.5]},\n",
    "               {'laplacian':[0.7, 1], 'polynomial':[5, 8], 'gaussian':[0.7, 1]}]\n",
    "estimator = ca.centeredKernelAlignment\n",
    "sampler = ms.mySampler(n_splits=3, test_size=.25, normalizing = True)"
   ]
  },
  {
   "cell_type": "code",
   "execution_count": null,
   "metadata": {
    "scrolled": true
   },
   "outputs": [],
   "source": [
    "result4 = sampler.sample(kernel_type, estimator, ds_list, y_, valid_fold = 3, verbose=True)"
   ]
  },
  {
   "cell_type": "code",
   "execution_count": null,
   "metadata": {},
   "outputs": [],
   "source": [
    "w_dict, w_list = result4.votingOverCA(ds_names, kernel_names)\n",
    "ut.testConfigurations(estimator, y_, y_test, w_list, ds_list, ds_test, kernel_names)"
   ]
  },
  {
   "cell_type": "code",
   "execution_count": null,
   "metadata": {},
   "outputs": [],
   "source": [
    "w_dict"
   ]
  },
  {
   "cell_type": "code",
   "execution_count": null,
   "metadata": {},
   "outputs": [],
   "source": [
    "result4.performancesFeatures()"
   ]
  },
  {
   "cell_type": "code",
   "execution_count": null,
   "metadata": {},
   "outputs": [],
   "source": [
    "kernel_names = ['sigmoid', 'polynomial', 'gaussian']\n",
    "kernel_type = [{'sigmoid':[0.1, 0.5, 0.7], 'polynomial':[2, 3], 'gaussian':[0.1, 0.5]},\n",
    "               {'sigmoid':[0.7, 1], 'polynomial':[5, 8], 'gaussian':[0.7, 1]}]\n",
    "estimator = ca.centeredKernelAlignment\n",
    "sampler = ms.mySampler(n_splits=3, test_size=.25, normalizing = True)"
   ]
  },
  {
   "cell_type": "code",
   "execution_count": null,
   "metadata": {},
   "outputs": [],
   "source": [
    "result1 = sampler.sample(kernel_type, estimator, ds_list, y_, valid_fold = 3, verbose=True)"
   ]
  },
  {
   "cell_type": "code",
   "execution_count": null,
   "metadata": {},
   "outputs": [],
   "source": [
    "w_dict, w_list = result1.votingOverCA(ds_names, kernel_names)\n",
    "ut.testConfigurations(estimator, y_, y_test, w_list, ds_list, ds_test, kernel_names)"
   ]
  },
  {
   "cell_type": "code",
   "execution_count": null,
   "metadata": {},
   "outputs": [],
   "source": [
    "w_dict"
   ]
  },
  {
   "cell_type": "code",
   "execution_count": null,
   "metadata": {},
   "outputs": [],
   "source": [
    "result1.performancesFeatures()"
   ]
  },
  {
   "cell_type": "markdown",
   "metadata": {},
   "source": [
    "## Origin Data Centering"
   ]
  },
  {
   "cell_type": "code",
   "execution_count": null,
   "metadata": {},
   "outputs": [],
   "source": [
    "kernel_names = ['laplacian', 'polynomial', 'gaussian']\n",
    "kernel_type = [{'laplacian':[0.1, 0.5, 0.7], 'polynomial':[2, 3], 'gaussian':[0.1, 0.5]},\n",
    "               {'laplacian':[0.7, 1], 'polynomial':[5, 8], 'gaussian':[0.7, 1]}]\n",
    "estimator = ca.centeredKernelAlignment\n",
    "sampler = ms.mySampler(n_splits=3, test_size=.25, centering = True)"
   ]
  },
  {
   "cell_type": "code",
   "execution_count": null,
   "metadata": {
    "scrolled": true
   },
   "outputs": [],
   "source": [
    "result5 = sampler.sample(kernel_type, estimator, ds_list, y_, valid_fold = 3, verbose=True)"
   ]
  },
  {
   "cell_type": "code",
   "execution_count": null,
   "metadata": {},
   "outputs": [],
   "source": [
    "w_dict, w_list = result5.votingOverCA(ds_names, kernel_names)\n",
    "ut.testConfigurations(estimator, y_, y_test, w_list, ds_list, ds_test, kernel_names)"
   ]
  },
  {
   "cell_type": "code",
   "execution_count": null,
   "metadata": {},
   "outputs": [],
   "source": [
    "w_dict"
   ]
  },
  {
   "cell_type": "code",
   "execution_count": null,
   "metadata": {
    "scrolled": true
   },
   "outputs": [],
   "source": [
    "result5.performancesFeatures()"
   ]
  },
  {
   "cell_type": "code",
   "execution_count": null,
   "metadata": {},
   "outputs": [],
   "source": [
    "kernel_names = ['sigmoid', 'polynomial', 'gaussian']\n",
    "kernel_type = [{'sigmoid':[0.1, 0.5, 0.7], 'polynomial':[2, 3], 'gaussian':[0.1, 0.5]},\n",
    "               {'sigmoid':[0.7, 1], 'polynomial':[5, 8], 'gaussian':[0.7, 1]}]\n",
    "estimator = ca.centeredKernelAlignment\n",
    "sampler = ms.mySampler(n_splits=3, test_size=.25, centering = True)"
   ]
  },
  {
   "cell_type": "code",
   "execution_count": null,
   "metadata": {},
   "outputs": [],
   "source": [
    "result1 = sampler.sample(kernel_type, estimator, ds_list, y_, valid_fold = 3, verbose=True)"
   ]
  },
  {
   "cell_type": "code",
   "execution_count": null,
   "metadata": {},
   "outputs": [],
   "source": [
    "w_dict, w_list = result1.votingOverCA(ds_names, kernel_names)\n",
    "ut.testConfigurations(estimator, y_, y_test, w_list, ds_list, ds_test, kernel_names)"
   ]
  },
  {
   "cell_type": "code",
   "execution_count": null,
   "metadata": {},
   "outputs": [],
   "source": [
    "w_dict"
   ]
  },
  {
   "cell_type": "code",
   "execution_count": null,
   "metadata": {},
   "outputs": [],
   "source": [
    "result1.performancesFeatures()"
   ]
  },
  {
   "cell_type": "markdown",
   "metadata": {},
   "source": [
    "## Origin Data  Centering and Normalization"
   ]
  },
  {
   "cell_type": "code",
   "execution_count": null,
   "metadata": {},
   "outputs": [],
   "source": [
    "kernel_names = ['laplacian', 'polynomial', 'gaussian']\n",
    "kernel_type = [{'laplacian':[0.1, 0.5, 0.7], 'polynomial':[2, 3], 'gaussian':[0.1, 0.5]},\n",
    "               {'laplacian':[0.7, 1], 'polynomial':[5, 8], 'gaussian':[0.7, 1]}]\n",
    "estimator = ca.centeredKernelAlignment\n",
    "sampler = ms.mySampler(n_splits=3, test_size=.25, centering = True, normalizing = True)"
   ]
  },
  {
   "cell_type": "code",
   "execution_count": null,
   "metadata": {},
   "outputs": [],
   "source": [
    "result6 = sampler.sample(kernel_type, estimator, ds_list, y_, valid_fold = 3, verbose=True)"
   ]
  },
  {
   "cell_type": "code",
   "execution_count": null,
   "metadata": {},
   "outputs": [],
   "source": [
    "w_dict, w_list = result6.votingOverCA(ds_names, kernel_names)\n",
    "ut.testConfigurations(estimator, y_, y_test, w_list, ds_list, ds_test, kernel_names)"
   ]
  },
  {
   "cell_type": "code",
   "execution_count": null,
   "metadata": {},
   "outputs": [],
   "source": [
    "w_dict"
   ]
  },
  {
   "cell_type": "code",
   "execution_count": null,
   "metadata": {
    "scrolled": true
   },
   "outputs": [],
   "source": [
    "result6.performancesFeatures()"
   ]
  },
  {
   "cell_type": "code",
   "execution_count": null,
   "metadata": {},
   "outputs": [],
   "source": [
    "kernel_names = ['sigmoid', 'polynomial', 'gaussian']\n",
    "kernel_type = [{'sigmoid':[0.1, 0.5, 0.7], 'polynomial':[2, 3], 'gaussian':[0.1, 0.5]},\n",
    "               {'sigmoid':[0.7, 1], 'polynomial':[5, 8], 'gaussian':[0.7, 1]}]\n",
    "estimator = ca.centeredKernelAlignment\n",
    "sampler = ms.mySampler(n_splits=3, test_size=.25, centering = True, normalizing = True)"
   ]
  },
  {
   "cell_type": "code",
   "execution_count": null,
   "metadata": {},
   "outputs": [],
   "source": [
    "result1 = sampler.sample(kernel_type, estimator, ds_list, y_, valid_fold = 3, verbose=True)"
   ]
  },
  {
   "cell_type": "code",
   "execution_count": null,
   "metadata": {},
   "outputs": [],
   "source": [
    "w_dict, w_list = result1.votingOverCA(ds_names, kernel_names)\n",
    "ut.testConfigurations(estimator, y_, y_test, w_list, ds_list, ds_test, kernel_names)"
   ]
  },
  {
   "cell_type": "code",
   "execution_count": null,
   "metadata": {},
   "outputs": [],
   "source": [
    "w_dict"
   ]
  },
  {
   "cell_type": "code",
   "execution_count": null,
   "metadata": {},
   "outputs": [],
   "source": [
    "result1.performancesFeatures()"
   ]
  },
  {
   "cell_type": "markdown",
   "metadata": {},
   "source": [
    "## Normalization, Kernel Normalization"
   ]
  },
  {
   "cell_type": "code",
   "execution_count": null,
   "metadata": {},
   "outputs": [],
   "source": [
    "kernel_names = ['laplacian', 'polynomial', 'gaussian']\n",
    "kernel_type = [{'laplacian':[0.1, 0.5, 0.7], 'polynomial':[2, 3], 'gaussian':[0.1, 0.5]},\n",
    "               {'laplacian':[0.7, 1], 'polynomial':[5, 8], 'gaussian':[0.7, 1]}]\n",
    "estimator = ca.centeredKernelAlignment\n",
    "sampler = ms.mySampler(n_splits=3, test_size=.25, normalizing = True, normalize_kernels = True)"
   ]
  },
  {
   "cell_type": "code",
   "execution_count": null,
   "metadata": {},
   "outputs": [],
   "source": [
    "result10 = sampler.sample(kernel_type, estimator, ds_list, y_, valid_fold = 3, verbose=True)"
   ]
  },
  {
   "cell_type": "code",
   "execution_count": null,
   "metadata": {},
   "outputs": [],
   "source": [
    "w_dict, w_list = result10.votingOverCA(ds_names, kernel_names)\n",
    "ut.testConfigurations(estimator, y_, y_test, w_list, ds_list, ds_test, kernel_names)"
   ]
  },
  {
   "cell_type": "code",
   "execution_count": null,
   "metadata": {},
   "outputs": [],
   "source": [
    "w_dict"
   ]
  },
  {
   "cell_type": "code",
   "execution_count": null,
   "metadata": {
    "scrolled": false
   },
   "outputs": [],
   "source": [
    "result10.performancesFeatures()"
   ]
  },
  {
   "cell_type": "code",
   "execution_count": null,
   "metadata": {},
   "outputs": [],
   "source": [
    "kernel_names = ['sigmoid', 'polynomial', 'gaussian']\n",
    "kernel_type = [{'sigmoid':[0.1, 0.5, 0.7], 'polynomial':[2, 3], 'gaussian':[0.1, 0.5]},\n",
    "               {'sigmoid':[0.7, 1], 'polynomial':[5, 8], 'gaussian':[0.7, 1]}]\n",
    "estimator = ca.centeredKernelAlignment\n",
    "sampler = ms.mySampler(n_splits=3, test_size=.25, normalizing = True, normalize_kernels = True)"
   ]
  },
  {
   "cell_type": "code",
   "execution_count": null,
   "metadata": {},
   "outputs": [],
   "source": [
    "result1 = sampler.sample(kernel_type, estimator, ds_list, y_, valid_fold = 3, verbose=True)"
   ]
  },
  {
   "cell_type": "code",
   "execution_count": null,
   "metadata": {},
   "outputs": [],
   "source": [
    "w_dict, w_list = result1.votingOverCA(ds_names, kernel_names)\n",
    "ut.testConfigurations(estimator, y_, y_test, w_list, ds_list, ds_test, kernel_names)"
   ]
  },
  {
   "cell_type": "code",
   "execution_count": null,
   "metadata": {},
   "outputs": [],
   "source": [
    "w_dict"
   ]
  },
  {
   "cell_type": "code",
   "execution_count": null,
   "metadata": {},
   "outputs": [],
   "source": [
    "result1.performancesFeatures()"
   ]
  },
  {
   "cell_type": "markdown",
   "metadata": {},
   "source": [
    "## Centering, Kernel Normalization"
   ]
  },
  {
   "cell_type": "code",
   "execution_count": null,
   "metadata": {},
   "outputs": [],
   "source": [
    "kernel_names = ['laplacian', 'polynomial', 'gaussian']\n",
    "kernel_type = [{'laplacian':[0.1, 0.5, 0.7], 'polynomial':[2, 3], 'gaussian':[0.1, 0.5]},\n",
    "               {'laplacian':[0.7, 1], 'polynomial':[5, 8], 'gaussian':[0.7, 1]}]\n",
    "estimator = ca.centeredKernelAlignment\n",
    "sampler = ms.mySampler(n_splits=3, test_size=.25, centering = True, normalize_kernels = True)"
   ]
  },
  {
   "cell_type": "code",
   "execution_count": null,
   "metadata": {
    "scrolled": true
   },
   "outputs": [],
   "source": [
    "result11 = sampler.sample(kernel_type, estimator, ds_list, y_, valid_fold = 3, verbose=True)"
   ]
  },
  {
   "cell_type": "code",
   "execution_count": null,
   "metadata": {},
   "outputs": [],
   "source": [
    "w_dict, w_list = result11.votingOverCA(ds_names, kernel_names)\n",
    "ut.testConfigurations(estimator, y_, y_test, w_list, ds_list, ds_test, kernel_names)"
   ]
  },
  {
   "cell_type": "code",
   "execution_count": null,
   "metadata": {},
   "outputs": [],
   "source": [
    "w_dict"
   ]
  },
  {
   "cell_type": "code",
   "execution_count": null,
   "metadata": {
    "scrolled": true
   },
   "outputs": [],
   "source": [
    "result11.performancesFeatures()"
   ]
  },
  {
   "cell_type": "code",
   "execution_count": null,
   "metadata": {},
   "outputs": [],
   "source": [
    "kernel_names = ['sigmoid', 'polynomial', 'gaussian']\n",
    "kernel_type = [{'sigmoid':[0.1, 0.5, 0.7], 'polynomial':[2, 3], 'gaussian':[0.1, 0.5]},\n",
    "               {'sigmoid':[0.7, 1], 'polynomial':[5, 8], 'gaussian':[0.7, 1]}]\n",
    "estimator = ca.centeredKernelAlignment\n",
    "sampler = ms.mySampler(n_splits=3, test_size=.25, centering = True, normalize_kernels = True)"
   ]
  },
  {
   "cell_type": "code",
   "execution_count": null,
   "metadata": {},
   "outputs": [],
   "source": [
    "result1 = sampler.sample(kernel_type, estimator, ds_list, y_, valid_fold = 3, verbose=True)"
   ]
  },
  {
   "cell_type": "code",
   "execution_count": null,
   "metadata": {},
   "outputs": [],
   "source": [
    "w_dict, w_list = result1.votingOverCA(ds_names, kernel_names)\n",
    "ut.testConfigurations(estimator, y_, y_test, w_list, ds_list, ds_test, kernel_names)"
   ]
  },
  {
   "cell_type": "code",
   "execution_count": null,
   "metadata": {},
   "outputs": [],
   "source": [
    "w_dict"
   ]
  },
  {
   "cell_type": "code",
   "execution_count": null,
   "metadata": {},
   "outputs": [],
   "source": [
    "result1.performancesFeatures()"
   ]
  },
  {
   "cell_type": "markdown",
   "metadata": {},
   "source": [
    "## Centering, Normalization, Kernel Normalization"
   ]
  },
  {
   "cell_type": "code",
   "execution_count": null,
   "metadata": {},
   "outputs": [],
   "source": [
    "kernel_names = ['laplacian', 'polynomial', 'gaussian']\n",
    "kernel_type = [{'laplacian':[0.1, 0.5, 0.7], 'polynomial':[2, 3], 'gaussian':[0.1, 0.5]},\n",
    "               {'laplacian':[0.7, 1], 'polynomial':[5, 8], 'gaussian':[0.7, 1]}]\n",
    "estimator = ca.centeredKernelAlignment\n",
    "sampler = ms.mySampler(n_splits=3, test_size=.25, centering = True, normalizing = True, normalize_kernels = True)"
   ]
  },
  {
   "cell_type": "code",
   "execution_count": null,
   "metadata": {},
   "outputs": [],
   "source": [
    "result7 = sampler.sample(kernel_type, estimator, ds_list, y_, valid_fold = 3, verbose=True)"
   ]
  },
  {
   "cell_type": "code",
   "execution_count": null,
   "metadata": {},
   "outputs": [],
   "source": [
    "w_dict, w_list = result7.votingOverCA(ds_names, kernel_names)\n",
    "ut.testConfigurations(estimator, y_, y_test, w_list, ds_list, ds_test, kernel_names)"
   ]
  },
  {
   "cell_type": "code",
   "execution_count": null,
   "metadata": {},
   "outputs": [],
   "source": [
    "w_dict"
   ]
  },
  {
   "cell_type": "code",
   "execution_count": null,
   "metadata": {
    "scrolled": true
   },
   "outputs": [],
   "source": [
    "result7.performancesFeatures()"
   ]
  },
  {
   "cell_type": "code",
   "execution_count": null,
   "metadata": {},
   "outputs": [],
   "source": [
    "kernel_names = ['sigmoid', 'polynomial', 'gaussian']\n",
    "kernel_type = [{'sigmoid':[0.1, 0.5, 0.7], 'polynomial':[2, 3], 'gaussian':[0.1, 0.5]},\n",
    "               {'sigmoid':[0.7, 1], 'polynomial':[5, 8], 'gaussian':[0.7, 1]}]\n",
    "estimator = ca.centeredKernelAlignment\n",
    "sampler = ms.mySampler(n_splits=3, test_size=.25, centering = True, normalizing = True, normalize_kernels = True)"
   ]
  },
  {
   "cell_type": "code",
   "execution_count": null,
   "metadata": {},
   "outputs": [],
   "source": [
    "result1 = sampler.sample(kernel_type, estimator, ds_list, y_, valid_fold = 3, verbose=True)"
   ]
  },
  {
   "cell_type": "code",
   "execution_count": null,
   "metadata": {},
   "outputs": [],
   "source": [
    "w_dict, w_list = result1.votingOverCA(ds_names, kernel_names)\n",
    "ut.testConfigurations(estimator, y_, y_test, w_list, ds_list, ds_test, kernel_names)"
   ]
  },
  {
   "cell_type": "code",
   "execution_count": null,
   "metadata": {},
   "outputs": [],
   "source": [
    "w_dict"
   ]
  },
  {
   "cell_type": "code",
   "execution_count": null,
   "metadata": {},
   "outputs": [],
   "source": [
    "result1.performancesFeatures()"
   ]
  },
  {
   "cell_type": "markdown",
   "metadata": {},
   "source": [
    "## L2 Penalty, Centering, K-Normalization"
   ]
  },
  {
   "cell_type": "code",
   "execution_count": 21,
   "metadata": {},
   "outputs": [],
   "source": [
    "kernel_names = ['laplacian', 'polynomial', 'gaussian']\n",
    "kernel_type = [{'laplacian':[0.1, 0.5, 0.7], 'polynomial':[2, 3], 'gaussian':[0.1, 0.5]},\n",
    "               {'laplacian':[0.7, 1], 'polynomial':[5, 8], 'gaussian':[0.7, 1]}]\n",
    "estimator = ca.centeredKernelAlignment\n",
    "sampler = ms.mySampler(n_splits=3, test_size=.25, lamb = 0.5, centering = True, normalize_kernels = False)"
   ]
  },
  {
   "cell_type": "code",
   "execution_count": 22,
   "metadata": {
    "scrolled": true
   },
   "outputs": [
    {
     "name": "stdout",
     "output_type": "stream",
     "text": [
      "\n",
      "1 split out of 3 ...\n",
      "\tWorking on config 1 of 2: {'laplacian': [0.1, 0.5, 0.7], 'polynomial': [2, 3], 'gaussian': [0.1, 0.5]}\n",
      "Fold no. 1\n",
      "\t\tPerfomances computed for 200\n",
      "\t\tPerfomances computed for 400\n",
      "\t\tPerfomances computed for 600\n",
      "\t\tPerfomances computed for 800\n",
      "\t\tPerfomances computed for 1000\n",
      "\t\tPerfomances computed for 1200\n",
      "\t\tPerfomances computed for 1400\n",
      "\t\tPerfomances computed for 1600\n",
      "Fold no. 2\n",
      "\t\tPerfomances computed for 200\n",
      "\t\tPerfomances computed for 400\n",
      "\t\tPerfomances computed for 600\n",
      "\t\tPerfomances computed for 800\n",
      "\t\tPerfomances computed for 1000\n",
      "\t\tPerfomances computed for 1200\n",
      "\t\tPerfomances computed for 1400\n",
      "\t\tPerfomances computed for 1600\n",
      "Fold no. 3\n",
      "\t\tPerfomances computed for 200\n",
      "\t\tPerfomances computed for 400\n",
      "\t\tPerfomances computed for 600\n",
      "\t\tPerfomances computed for 800\n",
      "\t\tPerfomances computed for 1000\n",
      "\t\tPerfomances computed for 1200\n",
      "\t\tPerfomances computed for 1400\n",
      "\t\tPerfomances computed for 1600\n",
      "Validation complete, config selected:[[0.1, 2, 0.5], [0.5, 3, 0.5], [0.1, 2, 0.1]]\n",
      "\tResult of 1:\n",
      "CA: 0.17980146251103266\n",
      "Accuracy: 0.21052631578947367\n",
      "Precision: 0.21428571428571427\n",
      "Recall: 0.20689655172413793\n",
      "[laplacian:0.1, polynomial:2, gaussian:0.5, ]\n",
      "[laplacian:0.5, polynomial:3, gaussian:0.5, ]\n",
      "[laplacian:0.1, polynomial:2, gaussian:0.1, ]\n",
      "\n",
      "eta vector: [-0.03708926 -0.4629691   0.27438192 -0.16840087 -0.55009073  0.61017374\n",
      "  0.04996202 -0.05441231  0.01646232]\n",
      "\n",
      "\n",
      "\tCompleted in 0.7833333333333333 minutes\n",
      "\tWorking on config 2 of 2: {'laplacian': [0.7, 1], 'polynomial': [5, 8], 'gaussian': [0.7, 1]}\n",
      "Fold no. 1\n",
      "\t\tPerfomances computed for 200\n",
      "\t\tPerfomances computed for 400\n",
      "Fold no. 2\n",
      "\t\tPerfomances computed for 200\n",
      "\t\tPerfomances computed for 400\n",
      "Fold no. 3\n",
      "\t\tPerfomances computed for 200\n",
      "\t\tPerfomances computed for 400\n",
      "Validation complete, config selected:[[0.7, 5, 0.7], [0.7, 5, 0.7], [0.7, 5, 1]]\n",
      "\tResult of 1:\n",
      "CA: 0.17980146251103266\n",
      "Accuracy: 0.21052631578947367\n",
      "Precision: 0.21428571428571427\n",
      "Recall: 0.20689655172413793\n",
      "[laplacian:0.1, polynomial:2, gaussian:0.5, ]\n",
      "[laplacian:0.5, polynomial:3, gaussian:0.5, ]\n",
      "[laplacian:0.1, polynomial:2, gaussian:0.1, ]\n",
      "\n",
      "eta vector: [-0.03708926 -0.4629691   0.27438192 -0.16840087 -0.55009073  0.61017374\n",
      "  0.04996202 -0.05441231  0.01646232]\n",
      "\n",
      "CA: 0.17940468349825392\n",
      "Accuracy: 0.21052631578947367\n",
      "Precision: 0.23333333333333334\n",
      "Recall: 0.2413793103448276\n",
      "[laplacian:0.7, polynomial:5, gaussian:0.7, ]\n",
      "[laplacian:0.7, polynomial:5, gaussian:0.7, ]\n",
      "[laplacian:0.7, polynomial:5, gaussian:1, ]\n",
      "\n",
      "eta vector: [-0.12013542 -0.24677276  0.40544504 -0.29601784 -0.32857927  0.71709237\n",
      "  0.2040798   0.0047629  -0.09381572]\n",
      "\n",
      "\n",
      "\tCompleted in 1.0333333333333334 minutes\n",
      "\n",
      "2 split out of 3 ...\n",
      "\tWorking on config 1 of 2: {'laplacian': [0.1, 0.5, 0.7], 'polynomial': [2, 3], 'gaussian': [0.1, 0.5]}\n",
      "Fold no. 1\n",
      "\t\tPerfomances computed for 200\n",
      "\t\tPerfomances computed for 400\n",
      "\t\tPerfomances computed for 600\n",
      "\t\tPerfomances computed for 800\n",
      "\t\tPerfomances computed for 1000\n",
      "\t\tPerfomances computed for 1200\n",
      "\t\tPerfomances computed for 1400\n",
      "\t\tPerfomances computed for 1600\n",
      "Fold no. 2\n",
      "\t\tPerfomances computed for 200\n",
      "\t\tPerfomances computed for 400\n",
      "\t\tPerfomances computed for 600\n",
      "\t\tPerfomances computed for 800\n",
      "\t\tPerfomances computed for 1000\n",
      "\t\tPerfomances computed for 1200\n",
      "\t\tPerfomances computed for 1400\n",
      "\t\tPerfomances computed for 1600\n",
      "Fold no. 3\n",
      "\t\tPerfomances computed for 200\n",
      "\t\tPerfomances computed for 400\n",
      "\t\tPerfomances computed for 600\n",
      "\t\tPerfomances computed for 800\n",
      "\t\tPerfomances computed for 1000\n",
      "\t\tPerfomances computed for 1200\n",
      "\t\tPerfomances computed for 1400\n",
      "\t\tPerfomances computed for 1600\n",
      "Validation complete, config selected:[[0.1, 3, 0.5], [0.5, 3, 0.5], [0.1, 2, 0.1]]\n",
      "\tResult of 2:\n",
      "CA: 0.16269497678002612\n",
      "Accuracy: 0.08771929824561403\n",
      "Precision: 0.10344827586206896\n",
      "Recall: 0.10344827586206896\n",
      "[laplacian:0.1, polynomial:3, gaussian:0.5, ]\n",
      "[laplacian:0.5, polynomial:3, gaussian:0.5, ]\n",
      "[laplacian:0.1, polynomial:2, gaussian:0.1, ]\n",
      "\n",
      "eta vector: [-0.10582702 -0.27321803  0.2933035  -0.15582083 -0.59627751  0.65859335\n",
      "  0.09307112 -0.03071194 -0.07034175]\n",
      "\n",
      "\n",
      "\tCompleted in 0.7666666666666667 minutes\n",
      "\tWorking on config 2 of 2: {'laplacian': [0.7, 1], 'polynomial': [5, 8], 'gaussian': [0.7, 1]}\n",
      "Fold no. 1\n",
      "\t\tPerfomances computed for 200\n",
      "\t\tPerfomances computed for 400\n",
      "Fold no. 2\n",
      "\t\tPerfomances computed for 200\n",
      "\t\tPerfomances computed for 400\n",
      "Fold no. 3\n",
      "\t\tPerfomances computed for 200\n",
      "\t\tPerfomances computed for 400\n",
      "Validation complete, config selected:[[0.7, 5, 0.7], [0.7, 8, 0.7], [1, 5, 1]]\n",
      "\tResult of 2:\n",
      "CA: 0.16269497678002612\n",
      "Accuracy: 0.08771929824561403\n",
      "Precision: 0.10344827586206896\n",
      "Recall: 0.10344827586206896\n",
      "[laplacian:0.1, polynomial:3, gaussian:0.5, ]\n",
      "[laplacian:0.5, polynomial:3, gaussian:0.5, ]\n",
      "[laplacian:0.1, polynomial:2, gaussian:0.1, ]\n",
      "\n",
      "eta vector: [-0.10582702 -0.27321803  0.2933035  -0.15582083 -0.59627751  0.65859335\n",
      "  0.09307112 -0.03071194 -0.07034175]\n",
      "\n",
      "CA: 0.1627297398225166\n",
      "Accuracy: 0.08771929824561403\n",
      "Precision: 0.15151515151515152\n",
      "Recall: 0.1724137931034483\n",
      "[laplacian:0.7, polynomial:5, gaussian:0.7, ]\n",
      "[laplacian:0.7, polynomial:8, gaussian:0.7, ]\n",
      "[laplacian:1, polynomial:5, gaussian:1, ]\n",
      "\n",
      "eta vector: [-0.1647125  -0.13982769  0.297672   -0.3127485  -0.24574577  0.79155439\n",
      "  0.27324189 -0.00704381 -0.0723719 ]\n",
      "\n",
      "\n",
      "\tCompleted in 1.0166666666666666 minutes\n",
      "\n",
      "3 split out of 3 ...\n",
      "\tWorking on config 1 of 2: {'laplacian': [0.1, 0.5, 0.7], 'polynomial': [2, 3], 'gaussian': [0.1, 0.5]}\n",
      "Fold no. 1\n",
      "\t\tPerfomances computed for 200\n",
      "\t\tPerfomances computed for 400\n",
      "\t\tPerfomances computed for 600\n",
      "\t\tPerfomances computed for 800\n",
      "\t\tPerfomances computed for 1000\n",
      "\t\tPerfomances computed for 1200\n",
      "\t\tPerfomances computed for 1400\n",
      "\t\tPerfomances computed for 1600\n",
      "Fold no. 2\n",
      "\t\tPerfomances computed for 200\n",
      "\t\tPerfomances computed for 400\n",
      "\t\tPerfomances computed for 600\n",
      "\t\tPerfomances computed for 800\n",
      "\t\tPerfomances computed for 1000\n",
      "\t\tPerfomances computed for 1200\n",
      "\t\tPerfomances computed for 1400\n",
      "\t\tPerfomances computed for 1600\n",
      "Fold no. 3\n",
      "\t\tPerfomances computed for 200\n",
      "\t\tPerfomances computed for 400\n",
      "\t\tPerfomances computed for 600\n",
      "\t\tPerfomances computed for 800\n",
      "\t\tPerfomances computed for 1000\n",
      "\t\tPerfomances computed for 1200\n",
      "\t\tPerfomances computed for 1400\n",
      "\t\tPerfomances computed for 1600\n",
      "Validation complete, config selected:[[0.1, 3, 0.5], [0.1, 3, 0.5], [0.1, 3, 0.5]]\n",
      "\tResult of 3:\n",
      "CA: 0.19983727483283562\n",
      "Accuracy: 0.17543859649122806\n",
      "Precision: 0.2\n",
      "Recall: 0.20689655172413793\n",
      "[laplacian:0.1, polynomial:3, gaussian:0.5, ]\n",
      "[laplacian:0.1, polynomial:3, gaussian:0.5, ]\n",
      "[laplacian:0.1, polynomial:3, gaussian:0.5, ]\n",
      "\n",
      "eta vector: [-0.12735344 -0.34374427  0.34168581 -0.44289981 -0.39054375  0.61739644\n",
      "  0.07230826  0.07545117 -0.08992994]\n",
      "\n",
      "\n",
      "\tCompleted in 0.8166666666666667 minutes\n",
      "\tWorking on config 2 of 2: {'laplacian': [0.7, 1], 'polynomial': [5, 8], 'gaussian': [0.7, 1]}\n",
      "Fold no. 1\n",
      "\t\tPerfomances computed for 200\n",
      "\t\tPerfomances computed for 400\n",
      "Fold no. 2\n",
      "\t\tPerfomances computed for 200\n",
      "\t\tPerfomances computed for 400\n",
      "Fold no. 3\n",
      "\t\tPerfomances computed for 200\n",
      "\t\tPerfomances computed for 400\n",
      "Validation complete, config selected:[[0.7, 8, 1], [0.7, 8, 1], [1, 5, 1]]\n",
      "\tResult of 3:\n",
      "CA: 0.19983727483283562\n",
      "Accuracy: 0.17543859649122806\n",
      "Precision: 0.2\n",
      "Recall: 0.20689655172413793\n",
      "[laplacian:0.1, polynomial:3, gaussian:0.5, ]\n",
      "[laplacian:0.1, polynomial:3, gaussian:0.5, ]\n",
      "[laplacian:0.1, polynomial:3, gaussian:0.5, ]\n",
      "\n",
      "eta vector: [-0.12735344 -0.34374427  0.34168581 -0.44289981 -0.39054375  0.61739644\n",
      "  0.07230826  0.07545117 -0.08992994]\n",
      "\n",
      "CA: 0.19649329540647875\n",
      "Accuracy: 0.19298245614035087\n",
      "Precision: 0.18518518518518517\n",
      "Recall: 0.1724137931034483\n",
      "[laplacian:0.7, polynomial:8, gaussian:1, ]\n",
      "[laplacian:0.7, polynomial:8, gaussian:1, ]\n",
      "[laplacian:1, polynomial:5, gaussian:1, ]\n",
      "\n",
      "eta vector: [-0.17064181 -0.10447578  0.39034745 -0.52034265 -0.0474024   0.64585592\n",
      "  0.30549418  0.04489609 -0.14872582]\n",
      "\n",
      "\n",
      "\tCompleted in 1.05 minutes\n"
     ]
    }
   ],
   "source": [
    "result9 = sampler.sample(kernel_type, estimator, ds_list, y_, valid_fold = 3, verbose=True)"
   ]
  },
  {
   "cell_type": "code",
   "execution_count": 23,
   "metadata": {},
   "outputs": [
    {
     "name": "stdout",
     "output_type": "stream",
     "text": [
      "Perfomances computed for 1 dictionary settings:\n",
      "\tAccuracy: 0.64\n",
      "\tPrecision: 0.6470588235294118\n",
      "\tRecall: 0.5945945945945946\n",
      "Perfomances computed for 2 dictionary settings:\n",
      "\tAccuracy: 0.6\n",
      "\tPrecision: 0.5813953488372093\n",
      "\tRecall: 0.6756756756756757\n"
     ]
    }
   ],
   "source": [
    "w_dict, w_list = result9.votingOverCA(ds_names, kernel_names)\n",
    "ut.testConfigurations(estimator, y_, y_test, w_list, ds_list, ds_test, kernel_names)"
   ]
  },
  {
   "cell_type": "code",
   "execution_count": 24,
   "metadata": {},
   "outputs": [
    {
     "data": {
      "text/plain": [
       "[{'ds1': {'laplacian': 0.1, 'polynomial': 3, 'gaussian': 0.5},\n",
       "  'ds2': {'laplacian': 0.5, 'polynomial': 3, 'gaussian': 0.5},\n",
       "  'ds3': {'laplacian': 0.1, 'polynomial': 2, 'gaussian': 0.1}},\n",
       " {'ds1': {'laplacian': 0.7, 'polynomial': 5, 'gaussian': 0.7},\n",
       "  'ds2': {'laplacian': 0.7, 'polynomial': 8, 'gaussian': 0.7},\n",
       "  'ds3': {'laplacian': 1, 'polynomial': 5, 'gaussian': 1}}]"
      ]
     },
     "execution_count": 24,
     "metadata": {},
     "output_type": "execute_result"
    }
   ],
   "source": [
    "w_dict"
   ]
  },
  {
   "cell_type": "code",
   "execution_count": 25,
   "metadata": {
    "scrolled": true
   },
   "outputs": [
    {
     "name": "stdout",
     "output_type": "stream",
     "text": [
      "statistics of configuration 1\n",
      "{'config': {'laplacian': [[0.1, 0.5, 0.1], [0.1, 0.5, 0.1], [0.1, 0.1, 0.1]], 'polynomial': [[2, 3, 2], [3, 3, 2], [3, 3, 3]], 'gaussian': [[0.5, 0.5, 0.1], [0.5, 0.5, 0.1], [0.5, 0.5, 0.5]]}, 'CA': (0.18077790470796481, 0.00023040177045593088), 'Accuracy': (0.15789473684210525, 0.002667487432030368), 'Precision': (0.17257799671592777, 0.0024234727581083962), 'Recall': (0.1724137931034483, 0.0023781212841854937), 'eta': (array([-0.0900899 , -0.35997713,  0.30312374, -0.25570717, -0.51230399,\n",
      "        0.62872117,  0.07178047, -0.00322436, -0.04793645]), array([0.00148177, 0.00613266, 0.00080319, 0.01754692, 0.00776831,\n",
      "       0.00045487, 0.00030987, 0.00318854, 0.00213755]))}\n",
      "statistics of configuration 2\n",
      "{'config': {'laplacian': [[0.7, 0.7, 0.7], [0.7, 0.7, 1], [0.7, 0.7, 1]], 'polynomial': [[5, 5, 5], [5, 8, 5], [8, 8, 5]], 'gaussian': [[0.7, 0.7, 1], [0.7, 0.7, 1], [1, 1, 1]]}, 'CA': (0.17954257290908307, 0.00019000578769002644), 'Accuracy': (0.16374269005847952, 0.0029410758865975853), 'Precision': (0.1900112233445567, 0.001127347801496698), 'Recall': (0.19540229885057472, 0.0010569427929713307), 'eta': (array([-0.15182991, -0.16369208,  0.36448816, -0.37636966, -0.20724248,\n",
      "        0.71816756,  0.26093863,  0.01420506, -0.10497114]), array([0.00050813, 0.00365949, 0.00227019, 0.01041076, 0.01391799,\n",
      "       0.00353858, 0.00178983, 0.0004942 , 0.00103388]))}\n"
     ]
    }
   ],
   "source": [
    "result9.performancesFeatures()"
   ]
  },
  {
   "cell_type": "code",
   "execution_count": 31,
   "metadata": {},
   "outputs": [],
   "source": [
    "kernel_names = ['sigmoid', 'polynomial', 'gaussian']\n",
    "kernel_type = [{'sigmoid':[0.1, 0.5, 0.7], 'polynomial':[2, 3], 'gaussian':[0.1, 0.5]},\n",
    "               {'sigmoid':[0.7, 1], 'polynomial':[5, 8], 'gaussian':[0.7, 1]}]\n",
    "estimator = ca.centeredKernelAlignment\n",
    "sampler = ms.mySampler(n_splits=3, test_size=.25, lamb = 0.5, centering = True, normalize_kernels = False)"
   ]
  },
  {
   "cell_type": "code",
   "execution_count": 32,
   "metadata": {},
   "outputs": [
    {
     "name": "stdout",
     "output_type": "stream",
     "text": [
      "\n",
      "1 split out of 3 ...\n",
      "\tWorking on config 1 of 2: {'sigmoid': [0.1, 0.5, 0.7], 'polynomial': [2, 3], 'gaussian': [0.1, 0.5]}\n",
      "Fold no. 1\n",
      "\t\tPerfomances computed for 200\n",
      "\t\tPerfomances computed for 400\n",
      "\t\tPerfomances computed for 600\n",
      "\t\tPerfomances computed for 800\n",
      "\t\tPerfomances computed for 1000\n",
      "\t\tPerfomances computed for 1200\n",
      "\t\tPerfomances computed for 1400\n",
      "\t\tPerfomances computed for 1600\n",
      "Fold no. 2\n",
      "\t\tPerfomances computed for 200\n",
      "\t\tPerfomances computed for 400\n",
      "\t\tPerfomances computed for 600\n",
      "\t\tPerfomances computed for 800\n",
      "\t\tPerfomances computed for 1000\n",
      "\t\tPerfomances computed for 1200\n",
      "\t\tPerfomances computed for 1400\n",
      "\t\tPerfomances computed for 1600\n",
      "Fold no. 3\n",
      "\t\tPerfomances computed for 200\n",
      "\t\tPerfomances computed for 400\n",
      "\t\tPerfomances computed for 600\n",
      "\t\tPerfomances computed for 800\n",
      "\t\tPerfomances computed for 1000\n",
      "\t\tPerfomances computed for 1200\n",
      "\t\tPerfomances computed for 1400\n",
      "\t\tPerfomances computed for 1600\n",
      "Validation complete, config selected:[[0.7, 2, 0.5], [0.7, 3, 0.1], [0.1, 2, 0.1]]\n",
      "\tResult of 1:\n",
      "CA: 0.1724004816668427\n",
      "Accuracy: 0.5964912280701754\n",
      "Precision: 0.6\n",
      "Recall: 0.6206896551724138\n",
      "[sigmoid:0.7, polynomial:2, gaussian:0.5, ]\n",
      "[sigmoid:0.7, polynomial:3, gaussian:0.1, ]\n",
      "[sigmoid:0.1, polynomial:2, gaussian:0.1, ]\n",
      "\n",
      "eta vector: [-9.10679396e-02 -5.16600997e-01  3.79036102e-01 -4.46288822e-01\n",
      "  5.41006771e-01  2.98117259e-01 -2.56057694e-04 -1.87447412e-02\n",
      " -8.62001198e-03]\n",
      "\n",
      "\n",
      "\tCompleted in 0.7166666666666667 minutes\n",
      "\tWorking on config 2 of 2: {'sigmoid': [0.7, 1], 'polynomial': [5, 8], 'gaussian': [0.7, 1]}\n",
      "Fold no. 1\n",
      "\t\tPerfomances computed for 200\n",
      "\t\tPerfomances computed for 400\n",
      "Fold no. 2\n",
      "\t\tPerfomances computed for 200\n",
      "\t\tPerfomances computed for 400\n",
      "Fold no. 3\n",
      "\t\tPerfomances computed for 200\n",
      "\t\tPerfomances computed for 400\n",
      "Validation complete, config selected:[[1, 8, 0.7], [0.7, 8, 0.7], [0.7, 5, 0.7]]\n",
      "\tResult of 1:\n",
      "CA: 0.1724004816668427\n",
      "Accuracy: 0.5964912280701754\n",
      "Precision: 0.6\n",
      "Recall: 0.6206896551724138\n",
      "[sigmoid:0.7, polynomial:2, gaussian:0.5, ]\n",
      "[sigmoid:0.7, polynomial:3, gaussian:0.1, ]\n",
      "[sigmoid:0.1, polynomial:2, gaussian:0.1, ]\n",
      "\n",
      "eta vector: [-9.10679396e-02 -5.16600997e-01  3.79036102e-01 -4.46288822e-01\n",
      "  5.41006771e-01  2.98117259e-01 -2.56057694e-04 -1.87447412e-02\n",
      " -8.62001198e-03]\n",
      "\n",
      "CA: 0.1733457091124663\n",
      "Accuracy: 0.8421052631578947\n",
      "Precision: 0.9166666666666666\n",
      "Recall: 0.7586206896551724\n",
      "[sigmoid:1, polynomial:8, gaussian:0.7, ]\n",
      "[sigmoid:0.7, polynomial:8, gaussian:0.7, ]\n",
      "[sigmoid:0.7, polynomial:5, gaussian:0.7, ]\n",
      "\n",
      "eta vector: [-0.37151958  0.45055424 -0.47146348 -0.45353681  0.39902935 -0.22979539\n",
      "  0.02224759 -0.0952525   0.09696539]\n",
      "\n",
      "\n",
      "\tCompleted in 0.9833333333333333 minutes\n",
      "\n",
      "2 split out of 3 ...\n",
      "\tWorking on config 1 of 2: {'sigmoid': [0.1, 0.5, 0.7], 'polynomial': [2, 3], 'gaussian': [0.1, 0.5]}\n",
      "Fold no. 1\n",
      "\t\tPerfomances computed for 200\n",
      "\t\tPerfomances computed for 400\n",
      "\t\tPerfomances computed for 600\n",
      "\t\tPerfomances computed for 800\n",
      "\t\tPerfomances computed for 1000\n",
      "\t\tPerfomances computed for 1200\n",
      "\t\tPerfomances computed for 1400\n",
      "\t\tPerfomances computed for 1600\n",
      "Fold no. 2\n",
      "\t\tPerfomances computed for 200\n",
      "\t\tPerfomances computed for 400\n",
      "\t\tPerfomances computed for 600\n",
      "\t\tPerfomances computed for 800\n",
      "\t\tPerfomances computed for 1000\n",
      "\t\tPerfomances computed for 1200\n",
      "\t\tPerfomances computed for 1400\n",
      "\t\tPerfomances computed for 1600\n",
      "Fold no. 3\n",
      "\t\tPerfomances computed for 200\n",
      "\t\tPerfomances computed for 400\n",
      "\t\tPerfomances computed for 600\n",
      "\t\tPerfomances computed for 800\n",
      "\t\tPerfomances computed for 1000\n",
      "\t\tPerfomances computed for 1200\n",
      "\t\tPerfomances computed for 1400\n",
      "\t\tPerfomances computed for 1600\n",
      "Validation complete, config selected:[[0.7, 3, 0.1], [0.7, 3, 0.1], [0.1, 3, 0.1]]\n",
      "\tResult of 2:\n",
      "CA: 0.18189773626288996\n",
      "Accuracy: 0.8245614035087719\n",
      "Precision: 0.8518518518518519\n",
      "Recall: 0.7931034482758621\n",
      "[sigmoid:0.7, polynomial:3, gaussian:0.1, ]\n",
      "[sigmoid:0.7, polynomial:3, gaussian:0.1, ]\n",
      "[sigmoid:0.1, polynomial:3, gaussian:0.1, ]\n",
      "\n",
      "eta vector: [-0.45945735  0.41114897  0.22654589 -0.42932555  0.53904447  0.29698584\n",
      " -0.0734762  -0.00638077  0.00173608]\n",
      "\n",
      "\n",
      "\tCompleted in 0.8166666666666667 minutes\n",
      "\tWorking on config 2 of 2: {'sigmoid': [0.7, 1], 'polynomial': [5, 8], 'gaussian': [0.7, 1]}\n",
      "Fold no. 1\n",
      "\t\tPerfomances computed for 200\n",
      "\t\tPerfomances computed for 400\n",
      "Fold no. 2\n",
      "\t\tPerfomances computed for 200\n",
      "\t\tPerfomances computed for 400\n",
      "Fold no. 3\n",
      "\t\tPerfomances computed for 200\n",
      "\t\tPerfomances computed for 400\n",
      "Validation complete, config selected:[[0.7, 5, 0.7], [0.7, 8, 0.7], [0.7, 8, 0.7]]\n",
      "\tResult of 2:\n",
      "CA: 0.18189773626288996\n",
      "Accuracy: 0.8245614035087719\n",
      "Precision: 0.8518518518518519\n",
      "Recall: 0.7931034482758621\n",
      "[sigmoid:0.7, polynomial:3, gaussian:0.1, ]\n",
      "[sigmoid:0.7, polynomial:3, gaussian:0.1, ]\n",
      "[sigmoid:0.1, polynomial:3, gaussian:0.1, ]\n",
      "\n",
      "eta vector: [-0.45945735  0.41114897  0.22654589 -0.42932555  0.53904447  0.29698584\n",
      " -0.0734762  -0.00638077  0.00173608]\n",
      "\n",
      "CA: 0.18194481916204258\n",
      "Accuracy: 0.8596491228070176\n",
      "Precision: 0.92\n",
      "Recall: 0.7931034482758621\n",
      "[sigmoid:0.7, polynomial:5, gaussian:0.7, ]\n",
      "[sigmoid:0.7, polynomial:8, gaussian:0.7, ]\n",
      "[sigmoid:0.7, polynomial:8, gaussian:0.7, ]\n",
      "\n",
      "eta vector: [-0.49075784  0.36194699 -0.01793867 -0.44275988  0.43163362 -0.32252656\n",
      " -0.1474471   0.18565251 -0.29198381]\n",
      "\n",
      "\n",
      "\tCompleted in 1.0 minutes\n",
      "\n",
      "3 split out of 3 ...\n",
      "\tWorking on config 1 of 2: {'sigmoid': [0.1, 0.5, 0.7], 'polynomial': [2, 3], 'gaussian': [0.1, 0.5]}\n",
      "Fold no. 1\n",
      "\t\tPerfomances computed for 200\n",
      "\t\tPerfomances computed for 400\n",
      "\t\tPerfomances computed for 600\n",
      "\t\tPerfomances computed for 800\n",
      "\t\tPerfomances computed for 1000\n",
      "\t\tPerfomances computed for 1200\n",
      "\t\tPerfomances computed for 1400\n",
      "\t\tPerfomances computed for 1600\n",
      "Fold no. 2\n",
      "\t\tPerfomances computed for 200\n",
      "\t\tPerfomances computed for 400\n",
      "\t\tPerfomances computed for 600\n",
      "\t\tPerfomances computed for 800\n",
      "\t\tPerfomances computed for 1000\n",
      "\t\tPerfomances computed for 1200\n",
      "\t\tPerfomances computed for 1400\n",
      "\t\tPerfomances computed for 1600\n",
      "Fold no. 3\n",
      "\t\tPerfomances computed for 200\n",
      "\t\tPerfomances computed for 400\n",
      "\t\tPerfomances computed for 600\n",
      "\t\tPerfomances computed for 800\n",
      "\t\tPerfomances computed for 1000\n",
      "\t\tPerfomances computed for 1200\n",
      "\t\tPerfomances computed for 1400\n",
      "\t\tPerfomances computed for 1600\n",
      "Validation complete, config selected:[[0.7, 2, 0.1], [0.7, 3, 0.1], [0.5, 3, 0.5]]\n",
      "\tResult of 3:\n",
      "CA: 0.20484664353880958\n",
      "Accuracy: 0.7017543859649122\n",
      "Precision: 0.7307692307692307\n",
      "Recall: 0.6551724137931034\n",
      "[sigmoid:0.7, polynomial:2, gaussian:0.1, ]\n",
      "[sigmoid:0.7, polynomial:3, gaussian:0.1, ]\n",
      "[sigmoid:0.5, polynomial:3, gaussian:0.5, ]\n",
      "\n",
      "eta vector: [-0.40237344  0.37554067  0.38964291 -0.43724914  0.48883548  0.27191141\n",
      "  0.14600705 -0.14008971  0.0147407 ]\n",
      "\n",
      "\n",
      "\tCompleted in 0.5333333333333333 minutes\n",
      "\tWorking on config 2 of 2: {'sigmoid': [0.7, 1], 'polynomial': [5, 8], 'gaussian': [0.7, 1]}\n",
      "Fold no. 1\n",
      "\t\tPerfomances computed for 200\n",
      "\t\tPerfomances computed for 400\n",
      "Fold no. 2\n",
      "\t\tPerfomances computed for 200\n",
      "\t\tPerfomances computed for 400\n",
      "Fold no. 3\n",
      "\t\tPerfomances computed for 200\n",
      "\t\tPerfomances computed for 400\n",
      "Validation complete, config selected:[[1, 8, 1], [1, 8, 1], [0.7, 5, 0.7]]\n",
      "\tResult of 3:\n",
      "CA: 0.20484664353880958\n",
      "Accuracy: 0.7017543859649122\n",
      "Precision: 0.7307692307692307\n",
      "Recall: 0.6551724137931034\n",
      "[sigmoid:0.7, polynomial:2, gaussian:0.1, ]\n",
      "[sigmoid:0.7, polynomial:3, gaussian:0.1, ]\n",
      "[sigmoid:0.5, polynomial:3, gaussian:0.5, ]\n",
      "\n",
      "eta vector: [-0.40237344  0.37554067  0.38964291 -0.43724914  0.48883548  0.27191141\n",
      "  0.14600705 -0.14008971  0.0147407 ]\n",
      "\n",
      "CA: 0.20519175371460083\n",
      "Accuracy: 0.8421052631578947\n",
      "Precision: 0.8846153846153846\n",
      "Recall: 0.7931034482758621\n",
      "[sigmoid:1, polynomial:8, gaussian:1, ]\n",
      "[sigmoid:1, polynomial:8, gaussian:1, ]\n",
      "[sigmoid:0.7, polynomial:5, gaussian:0.7, ]\n",
      "\n",
      "eta vector: [-0.34895752  0.33350655 -0.26802063 -0.34261602  0.40134437 -0.23958851\n",
      "  0.2974283  -0.42144241  0.30532604]\n",
      "\n",
      "\n",
      "\tCompleted in 0.7166666666666667 minutes\n"
     ]
    }
   ],
   "source": [
    "result1 = sampler.sample(kernel_type, estimator, ds_list, y_, valid_fold = 3, verbose=True)"
   ]
  },
  {
   "cell_type": "code",
   "execution_count": 28,
   "metadata": {},
   "outputs": [
    {
     "name": "stdout",
     "output_type": "stream",
     "text": [
      "Perfomances computed for 1 dictionary settings:\n",
      "\tAccuracy: 0.68\n",
      "\tPrecision: 0.696969696969697\n",
      "\tRecall: 0.6216216216216216\n",
      "Perfomances computed for 2 dictionary settings:\n",
      "\tAccuracy: 0.6133333333333333\n",
      "\tPrecision: 0.6176470588235294\n",
      "\tRecall: 0.5675675675675675\n"
     ]
    }
   ],
   "source": [
    "w_dict, w_list = result1.votingOverCA(ds_names, kernel_names)\n",
    "ut.testConfigurations(estimator, y_, y_test, w_list, ds_list, ds_test, kernel_names)"
   ]
  },
  {
   "cell_type": "code",
   "execution_count": 29,
   "metadata": {},
   "outputs": [
    {
     "data": {
      "text/plain": [
       "[{'ds1': {'sigmoid': 0.7, 'polynomial': 3, 'gaussian': 0.1},\n",
       "  'ds2': {'sigmoid': 0.7, 'polynomial': 3, 'gaussian': 0.5},\n",
       "  'ds3': {'sigmoid': 0.1, 'polynomial': 3, 'gaussian': 0.1}},\n",
       " {'ds1': {'sigmoid': 1, 'polynomial': 8, 'gaussian': 1},\n",
       "  'ds2': {'sigmoid': 1, 'polynomial': 8, 'gaussian': 1},\n",
       "  'ds3': {'sigmoid': 0.7, 'polynomial': 8, 'gaussian': 0.7}}]"
      ]
     },
     "execution_count": 29,
     "metadata": {},
     "output_type": "execute_result"
    }
   ],
   "source": [
    "w_dict"
   ]
  },
  {
   "cell_type": "code",
   "execution_count": 30,
   "metadata": {},
   "outputs": [
    {
     "name": "stdout",
     "output_type": "stream",
     "text": [
      "statistics of configuration 1\n",
      "{'config': {'sigmoid': [[0.7, 0.7, 0.1], [0.7, 0.7, 0.1], [0.1, 0.7, 0.1]], 'polynomial': [[3, 2, 3], [2, 3, 3], [3, 3, 2]], 'gaussian': [[0.1, 0.1, 0.1], [0.5, 0.5, 0.1], [0.1, 0.5, 0.1]]}, 'CA': (0.20019448391297434, 9.134122560720207e-05), 'Accuracy': (0.48538011695906436, 0.04787797954926303), 'Precision': (0.5152688172043011, 0.0485608972135507), 'Recall': (0.4597701149425288, 0.028801691108468752), 'eta': (array([ 0.2387452 , -0.09466533,  0.14012141, -0.18278146,  0.05005148,\n",
      "        0.47719908, -0.09518994, -0.02334256,  0.01877751]), array([0.22641179, 0.11243009, 0.00967371, 0.05040529, 0.23235589,\n",
      "       0.00521054, 0.00310299, 0.00040844, 0.00081467]))}\n",
      "statistics of configuration 2\n",
      "{'config': {'sigmoid': [[1, 1, 0.7], [1, 1, 1], [0.7, 0.7, 0.7]], 'polynomial': [[8, 8, 5], [8, 8, 8], [8, 5, 8]], 'gaussian': [[1, 1, 0.7], [1, 1, 1], [0.7, 0.7, 0.7]]}, 'CA': (0.20368636313169639, 0.0001111994985962757), 'Accuracy': (0.7309941520467836, 0.024896549365616766), 'Precision': (0.7960279119699409, 0.038820791588261856), 'Recall': (0.6551724137931035, 0.015061434799841456), 'eta': (array([-0.39684023,  0.39035317, -0.29550687, -0.26455074,  0.29209139,\n",
      "        0.07088042, -0.08155896,  0.1138728 , -0.17107831]), array([0.00314223, 0.00432576, 0.04560696, 0.09303751, 0.16473884,\n",
      "       0.03791329, 0.01046139, 0.01568922, 0.01868755]))}\n"
     ]
    }
   ],
   "source": [
    "result1.performancesFeatures()"
   ]
  },
  {
   "cell_type": "markdown",
   "metadata": {},
   "source": [
    "## Sparsity in eta, Centering, K-Normalization"
   ]
  },
  {
   "cell_type": "code",
   "execution_count": null,
   "metadata": {},
   "outputs": [],
   "source": [
    "kernel_names = ['laplacian', 'polynomial', 'gaussian']\n",
    "kernel_type = [{'laplacian':[0.1, 0.5, 0.7], 'polynomial':[2, 3], 'gaussian':[0.1, 0.5]},\n",
    "               {'laplacian':[0.7, 1], 'polynomial':[5, 8], 'gaussian':[0.7, 1]}]\n",
    "estimator = ca.centeredKernelAlignment\n",
    "sampler = ms.mySampler(n_splits=3, test_size=.25, sparsity = 0.3, centering = True, normalize_kernels = True)"
   ]
  },
  {
   "cell_type": "code",
   "execution_count": null,
   "metadata": {
    "scrolled": true
   },
   "outputs": [],
   "source": [
    "result8 = sampler.sample(kernel_type, estimator, ds_list, y_, valid_fold = 3, verbose=True)"
   ]
  },
  {
   "cell_type": "code",
   "execution_count": null,
   "metadata": {},
   "outputs": [],
   "source": [
    "w_dict, w_list = result8.votingOverCA(ds_names, kernel_names)\n",
    "ut.testConfigurations(estimator, y_, y_test, w_list, ds_list, ds_test, kernel_names)"
   ]
  },
  {
   "cell_type": "code",
   "execution_count": null,
   "metadata": {},
   "outputs": [],
   "source": [
    "w_dict"
   ]
  },
  {
   "cell_type": "code",
   "execution_count": null,
   "metadata": {
    "scrolled": true
   },
   "outputs": [],
   "source": [
    "result8.performancesFeatures()"
   ]
  },
  {
   "cell_type": "code",
   "execution_count": null,
   "metadata": {},
   "outputs": [],
   "source": [
    "kernel_names = ['sigmoid', 'polynomial', 'gaussian']\n",
    "kernel_type = [{'sigmoid':[0.1, 0.5, 0.7], 'polynomial':[2, 3], 'gaussian':[0.1, 0.5]},\n",
    "               {'sigmoid':[0.7, 1], 'polynomial':[5, 8], 'gaussian':[0.7, 1]}]\n",
    "estimator = ca.centeredKernelAlignment\n",
    "sampler = ms.mySampler(n_splits=3, test_size=.25, sparsity = 0.3, centering = True, normalize_kernels = True)"
   ]
  },
  {
   "cell_type": "code",
   "execution_count": null,
   "metadata": {},
   "outputs": [],
   "source": [
    "result1 = sampler.sample(kernel_type, estimator, ds_list, y_, valid_fold = 3, verbose=True)"
   ]
  },
  {
   "cell_type": "code",
   "execution_count": null,
   "metadata": {},
   "outputs": [],
   "source": [
    "w_dict, w_list = result1.votingOverCA(ds_names, kernel_names)\n",
    "ut.testConfigurations(estimator, y_, y_test, w_list, ds_list, ds_test, kernel_names)"
   ]
  },
  {
   "cell_type": "code",
   "execution_count": null,
   "metadata": {},
   "outputs": [],
   "source": [
    "w_dict"
   ]
  },
  {
   "cell_type": "code",
   "execution_count": null,
   "metadata": {},
   "outputs": [],
   "source": [
    "result1.performancesFeatures()"
   ]
  }
 ],
 "metadata": {
  "kernelspec": {
   "display_name": "Python 3",
   "language": "python",
   "name": "python3"
  },
  "language_info": {
   "codemirror_mode": {
    "name": "ipython",
    "version": 3
   },
   "file_extension": ".py",
   "mimetype": "text/x-python",
   "name": "python",
   "nbconvert_exporter": "python",
   "pygments_lexer": "ipython3",
   "version": "3.7.0"
  }
 },
 "nbformat": 4,
 "nbformat_minor": 2
}
