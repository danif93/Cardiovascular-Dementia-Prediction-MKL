{
 "cells": [
  {
   "cell_type": "code",
   "execution_count": 1,
   "metadata": {},
   "outputs": [],
   "source": [
    "import pandas as pd\n",
    "import os\n",
    "import numpy as np\n",
    "\n",
    "import Utils as ut\n",
    "import CortesAlignmentFile as ca\n",
    "import mySampler as ms\n",
    " \n",
    "from sklearn.model_selection import StratifiedShuffleSplit"
   ]
  },
  {
   "cell_type": "markdown",
   "metadata": {},
   "source": [
    "## Dataset Configuration - Toy"
   ]
  },
  {
   "cell_type": "code",
   "execution_count": 2,
   "metadata": {},
   "outputs": [],
   "source": [
    "from sklearn import datasets\n",
    "# make_classification(n_samples=100, n_features=20, n_informative=2, n_redundant=2, n_repeated=0, \n",
    "#                     n_classes=2, n_clusters_per_class=2, weights=None, flip_y=0.01, class_sep=1.0, \n",
    "#                     hypercube=True, shift=0.0, scale=1.0, shuffle=True, random_state=None)\n",
    "ds, label = datasets.make_classification(n_samples=300, n_features=30, n_informative=10, n_redundant=0, n_classes=2)\n",
    "ds_names = ['ds1', 'ds2', 'ds3']"
   ]
  },
  {
   "cell_type": "code",
   "execution_count": 3,
   "metadata": {},
   "outputs": [],
   "source": [
    "np.where(label==0)\n",
    "label[np.where(label==0)]=-1"
   ]
  },
  {
   "cell_type": "code",
   "execution_count": 4,
   "metadata": {},
   "outputs": [],
   "source": [
    "def random_sampling(X, y, n_samples):\n",
    "    from sklearn.model_selection import StratifiedShuffleSplit\n",
    "    return next(StratifiedShuffleSplit(n_splits=1, test_size=n_samples).split(X, y))"
   ]
  },
  {
   "cell_type": "code",
   "execution_count": 5,
   "metadata": {},
   "outputs": [],
   "source": [
    "tr_idx, ts_idx = random_sampling(ds, label, n_samples=0.25)\n",
    "\n",
    "ds1 = np.hstack([ds[:,:5], ds[:,10:15]])\n",
    "ds1_tr = ds1[tr_idx]\n",
    "ds1_ts = ds1[ts_idx]\n",
    "\n",
    "ds2 = np.hstack([ds[:,5:10], ds[:,15:20]])\n",
    "ds2_tr = ds2[tr_idx]\n",
    "ds2_ts = ds2[ts_idx]\n",
    "\n",
    "ds3 = ds[:,20:]\n",
    "ds3_tr = ds3[tr_idx]\n",
    "ds3_ts = ds3[ts_idx]\n",
    "\n",
    "y_c_ = label[tr_idx]\n",
    "y_c_test = label[ts_idx]\n",
    "\n",
    "ds_list_complete = [ds1, ds2, ds3]\n",
    "ds_list = [ds1_tr, ds2_tr, ds3_tr]\n",
    "ds_test = [ds1_ts, ds2_ts, ds3_ts]"
   ]
  },
  {
   "cell_type": "markdown",
   "metadata": {},
   "source": [
    "## Kernel Definition"
   ]
  },
  {
   "cell_type": "code",
   "execution_count": 6,
   "metadata": {},
   "outputs": [],
   "source": [
    "kernel_names_1 = ['laplacian', 'polynomial', 'gaussian']\n",
    "kernel_type_1 = [{'laplacian':[0.1, 0.2, 0.3], 'polynomial':[2, 3], 'gaussian':[0.2, 0.3]},\n",
    "               {'laplacian':[0.5, 0.7], 'polynomial':[5, 8], 'gaussian':[0.5, 0.7]}]"
   ]
  },
  {
   "cell_type": "code",
   "execution_count": 7,
   "metadata": {},
   "outputs": [],
   "source": [
    "kernel_names_2 = ['sigmoid', 'polynomial', 'gaussian']\n",
    "kernel_type_2 = [{'sigmoid':[0.1, 0.2, 0.3], 'polynomial':[2, 3], 'gaussian':[0.2, 0.3]},\n",
    "               {'sigmoid':[0.5, 0.7], 'polynomial':[5, 8], 'gaussian':[0.5, 0.7]}]"
   ]
  },
  {
   "cell_type": "code",
   "execution_count": 20,
   "metadata": {},
   "outputs": [],
   "source": [
    "kernel_names_3 = ['linear', 'polynomial', 'gaussian']\n",
    "kernel_type_3 = [{'linear':[0.5], 'polynomial':[2, 3, 7], 'gaussian':[0.1, 0.5, 0.7]},\n",
    "               {'linear':[0.2], 'polynomial':[4, 5, 8], 'gaussian':[0.7, 1]}]"
   ]
  },
  {
   "cell_type": "code",
   "execution_count": 9,
   "metadata": {},
   "outputs": [],
   "source": [
    "estimator = ca.centeredKernelAlignment"
   ]
  },
  {
   "cell_type": "markdown",
   "metadata": {},
   "source": [
    "## Basic approach"
   ]
  },
  {
   "cell_type": "code",
   "execution_count": 10,
   "metadata": {},
   "outputs": [],
   "source": [
    "sampler = ms.mySampler(n_splits=3, test_size=.25)"
   ]
  },
  {
   "cell_type": "code",
   "execution_count": 11,
   "metadata": {},
   "outputs": [
    {
     "name": "stdout",
     "output_type": "stream",
     "text": [
      "\n",
      "1 split out of 3 ...\n",
      "\tWorking on config 1 of 2: {'laplacian': [0.1, 0.2, 0.3], 'polynomial': [2, 3], 'gaussian': [0.2, 0.3]}\n",
      "Fold no. 1\n",
      "\t\tPerfomances computed for 200\n",
      "\t\tPerfomances computed for 400\n",
      "\t\tPerfomances computed for 600\n",
      "\t\tPerfomances computed for 800\n",
      "\t\tPerfomances computed for 1000\n",
      "\t\tPerfomances computed for 1200\n",
      "\t\tPerfomances computed for 1400\n",
      "\t\tPerfomances computed for 1600\n",
      "Fold no. 2\n",
      "\t\tPerfomances computed for 200\n",
      "\t\tPerfomances computed for 400\n",
      "\t\tPerfomances computed for 600\n",
      "\t\tPerfomances computed for 800\n",
      "\t\tPerfomances computed for 1000\n",
      "\t\tPerfomances computed for 1200\n",
      "\t\tPerfomances computed for 1400\n",
      "\t\tPerfomances computed for 1600\n",
      "Fold no. 3\n",
      "\t\tPerfomances computed for 200\n",
      "\t\tPerfomances computed for 400\n",
      "\t\tPerfomances computed for 600\n",
      "\t\tPerfomances computed for 800\n",
      "\t\tPerfomances computed for 1000\n",
      "\t\tPerfomances computed for 1200\n",
      "\t\tPerfomances computed for 1400\n",
      "\t\tPerfomances computed for 1600\n",
      "Validation complete, config selected:[[0.1, 2, 0.2], [0.3, 2, 0.3], [0.3, 3, 0.2]]\n",
      "\tResult of 1:\n",
      "CA: 0.19153878689504134\n",
      "Accuracy: 0.8947368421052632\n",
      "Precision: 0.9583333333333334\n",
      "Recall: 0.8214285714285714\n",
      "[laplacian:0.1, polynomial:2, gaussian:0.2, ]\n",
      "[laplacian:0.3, polynomial:2, gaussian:0.3, ]\n",
      "[laplacian:0.3, polynomial:3, gaussian:0.2, ]\n",
      "\n",
      "eta vector: [ 1.63198569  0.01972192 -1.02291572  2.09903231  0.01349137 -1.02393602\n",
      " -1.1525416   0.00299163  0.2986993 ]\n",
      "\n",
      "\n",
      "\tCompleted in 1.0833333333333333 minutes\n",
      "\tWorking on config 2 of 2: {'laplacian': [0.5, 0.7], 'polynomial': [5, 8], 'gaussian': [0.5, 0.7]}\n",
      "Fold no. 1\n",
      "\t\tPerfomances computed for 200\n",
      "\t\tPerfomances computed for 400\n",
      "Fold no. 2\n",
      "\t\tPerfomances computed for 200\n",
      "\t\tPerfomances computed for 400\n",
      "Fold no. 3\n",
      "\t\tPerfomances computed for 200\n",
      "\t\tPerfomances computed for 400\n",
      "Validation complete, config selected:[[0.5, 5, 0.5], [0.5, 5, 0.5], [0.7, 5, 0.5]]\n",
      "\tResult of 1:\n",
      "CA: 0.19153878689504134\n",
      "Accuracy: 0.8947368421052632\n",
      "Precision: 0.9583333333333334\n",
      "Recall: 0.8214285714285714\n",
      "[laplacian:0.1, polynomial:2, gaussian:0.2, ]\n",
      "[laplacian:0.3, polynomial:2, gaussian:0.3, ]\n",
      "[laplacian:0.3, polynomial:3, gaussian:0.2, ]\n",
      "\n",
      "eta vector: [ 1.63198569  0.01972192 -1.02291572  2.09903231  0.01349137 -1.02393602\n",
      " -1.1525416   0.00299163  0.2986993 ]\n",
      "\n",
      "CA: 0.12585249203356444\n",
      "Accuracy: 0.8947368421052632\n",
      "Precision: 0.8928571428571429\n",
      "Recall: 0.8928571428571429\n",
      "[laplacian:0.5, polynomial:5, gaussian:0.5, ]\n",
      "[laplacian:0.5, polynomial:5, gaussian:0.5, ]\n",
      "[laplacian:0.7, polynomial:5, gaussian:0.5, ]\n",
      "\n",
      "eta vector: [ 3.24124216e+01  2.90308831e-06 -2.14763204e+01  1.25704082e+01\n",
      "  2.93701598e-06 -6.49897889e+00 -1.96425996e+01  6.13960367e-05\n",
      "  3.61895989e+00]\n",
      "\n",
      "\n",
      "\tCompleted in 1.5333333333333334 minutes\n",
      "\n",
      "2 split out of 3 ...\n",
      "\tWorking on config 1 of 2: {'laplacian': [0.1, 0.2, 0.3], 'polynomial': [2, 3], 'gaussian': [0.2, 0.3]}\n",
      "Fold no. 1\n",
      "\t\tPerfomances computed for 200\n",
      "\t\tPerfomances computed for 400\n",
      "\t\tPerfomances computed for 600\n",
      "\t\tPerfomances computed for 800\n",
      "\t\tPerfomances computed for 1000\n",
      "\t\tPerfomances computed for 1200\n",
      "\t\tPerfomances computed for 1400\n",
      "\t\tPerfomances computed for 1600\n",
      "Fold no. 2\n",
      "\t\tPerfomances computed for 200\n",
      "\t\tPerfomances computed for 400\n",
      "\t\tPerfomances computed for 600\n",
      "\t\tPerfomances computed for 800\n",
      "\t\tPerfomances computed for 1000\n",
      "\t\tPerfomances computed for 1200\n",
      "\t\tPerfomances computed for 1400\n",
      "\t\tPerfomances computed for 1600\n",
      "Fold no. 3\n",
      "\t\tPerfomances computed for 200\n",
      "\t\tPerfomances computed for 400\n",
      "\t\tPerfomances computed for 600\n",
      "\t\tPerfomances computed for 800\n",
      "\t\tPerfomances computed for 1000\n",
      "\t\tPerfomances computed for 1200\n",
      "\t\tPerfomances computed for 1400\n",
      "\t\tPerfomances computed for 1600\n",
      "Validation complete, config selected:[[0.2, 2, 0.2], [0.2, 3, 0.3], [0.3, 3, 0.2]]\n",
      "\tResult of 2:\n",
      "CA: 0.20679320595672504\n",
      "Accuracy: 0.7894736842105263\n",
      "Precision: 0.7857142857142857\n",
      "Recall: 0.7857142857142857\n",
      "[laplacian:0.2, polynomial:2, gaussian:0.2, ]\n",
      "[laplacian:0.2, polynomial:3, gaussian:0.3, ]\n",
      "[laplacian:0.3, polynomial:3, gaussian:0.2, ]\n",
      "\n",
      "eta vector: [ 2.95205301e+00  3.22040094e-02 -1.38676823e+00  1.60081462e+00\n",
      " -1.50950497e-03 -1.75136031e+00 -2.06050259e+00  3.91975213e-03\n",
      "  1.34278815e+00]\n",
      "\n",
      "\n",
      "\tCompleted in 1.1 minutes\n",
      "\tWorking on config 2 of 2: {'laplacian': [0.5, 0.7], 'polynomial': [5, 8], 'gaussian': [0.5, 0.7]}\n",
      "Fold no. 1\n",
      "\t\tPerfomances computed for 200\n",
      "\t\tPerfomances computed for 400\n",
      "Fold no. 2\n",
      "\t\tPerfomances computed for 200\n",
      "\t\tPerfomances computed for 400\n",
      "Fold no. 3\n",
      "\t\tPerfomances computed for 200\n",
      "\t\tPerfomances computed for 400\n",
      "Validation complete, config selected:[[0.5, 5, 0.7], [0.5, 5, 0.7], [0.5, 5, 0.7]]\n",
      "\tResult of 2:\n",
      "CA: 0.20679320595672504\n",
      "Accuracy: 0.7894736842105263\n",
      "Precision: 0.7857142857142857\n",
      "Recall: 0.7857142857142857\n",
      "[laplacian:0.2, polynomial:2, gaussian:0.2, ]\n",
      "[laplacian:0.2, polynomial:3, gaussian:0.3, ]\n",
      "[laplacian:0.3, polynomial:3, gaussian:0.2, ]\n",
      "\n",
      "eta vector: [ 2.95205301e+00  3.22040094e-02 -1.38676823e+00  1.60081462e+00\n",
      " -1.50950497e-03 -1.75136031e+00 -2.06050259e+00  3.91975213e-03\n",
      "  1.34278815e+00]\n",
      "\n",
      "CA: 0.13675061834009142\n",
      "Accuracy: 0.7719298245614035\n",
      "Precision: 0.7586206896551724\n",
      "Recall: 0.7857142857142857\n",
      "[laplacian:0.5, polynomial:5, gaussian:0.7, ]\n",
      "[laplacian:0.5, polynomial:5, gaussian:0.7, ]\n",
      "[laplacian:0.5, polynomial:5, gaussian:0.7, ]\n",
      "\n",
      "eta vector: [ 3.07055012e+01  4.15036954e-06 -3.24384103e+01  1.06936869e+01\n",
      " -4.92467449e-06 -1.23150914e+01  3.68188567e+00  8.91117178e-05\n",
      "  6.55847126e-01]\n",
      "\n",
      "\n",
      "\tCompleted in 1.4833333333333334 minutes\n",
      "\n",
      "3 split out of 3 ...\n",
      "\tWorking on config 1 of 2: {'laplacian': [0.1, 0.2, 0.3], 'polynomial': [2, 3], 'gaussian': [0.2, 0.3]}\n",
      "Fold no. 1\n",
      "\t\tPerfomances computed for 200\n",
      "\t\tPerfomances computed for 400\n",
      "\t\tPerfomances computed for 600\n",
      "\t\tPerfomances computed for 800\n",
      "\t\tPerfomances computed for 1000\n",
      "\t\tPerfomances computed for 1200\n",
      "\t\tPerfomances computed for 1400\n",
      "\t\tPerfomances computed for 1600\n",
      "Fold no. 2\n",
      "\t\tPerfomances computed for 200\n",
      "\t\tPerfomances computed for 400\n",
      "\t\tPerfomances computed for 600\n",
      "\t\tPerfomances computed for 800\n",
      "\t\tPerfomances computed for 1000\n",
      "\t\tPerfomances computed for 1200\n",
      "\t\tPerfomances computed for 1400\n",
      "\t\tPerfomances computed for 1600\n",
      "Fold no. 3\n",
      "\t\tPerfomances computed for 200\n",
      "\t\tPerfomances computed for 400\n",
      "\t\tPerfomances computed for 600\n",
      "\t\tPerfomances computed for 800\n",
      "\t\tPerfomances computed for 1000\n",
      "\t\tPerfomances computed for 1200\n",
      "\t\tPerfomances computed for 1400\n",
      "\t\tPerfomances computed for 1600\n",
      "Validation complete, config selected:[[0.2, 2, 0.3], [0.1, 2, 0.2], [0.3, 3, 0.3]]\n",
      "\tResult of 3:\n",
      "CA: 0.18744182532493953\n",
      "Accuracy: 0.8596491228070176\n",
      "Precision: 0.9166666666666666\n",
      "Recall: 0.7857142857142857\n",
      "[laplacian:0.2, polynomial:2, gaussian:0.3, ]\n",
      "[laplacian:0.1, polynomial:2, gaussian:0.2, ]\n",
      "[laplacian:0.3, polynomial:3, gaussian:0.3, ]\n",
      "\n",
      "eta vector: [ 3.11566027e+00  2.14157492e-02 -3.65562629e+00  3.76949404e-01\n",
      "  1.07842950e-02  8.14726425e-01 -2.68418127e-01  1.75964887e-03\n",
      "  3.46566166e-01]\n",
      "\n",
      "\n",
      "\tCompleted in 1.1666666666666667 minutes\n",
      "\tWorking on config 2 of 2: {'laplacian': [0.5, 0.7], 'polynomial': [5, 8], 'gaussian': [0.5, 0.7]}\n",
      "Fold no. 1\n",
      "\t\tPerfomances computed for 200\n",
      "\t\tPerfomances computed for 400\n",
      "Fold no. 2\n",
      "\t\tPerfomances computed for 200\n",
      "\t\tPerfomances computed for 400\n",
      "Fold no. 3\n",
      "\t\tPerfomances computed for 200\n",
      "\t\tPerfomances computed for 400\n",
      "Validation complete, config selected:[[0.5, 5, 0.7], [0.5, 5, 0.7], [0.7, 5, 0.5]]\n",
      "\tResult of 3:\n",
      "CA: 0.18744182532493953\n",
      "Accuracy: 0.8596491228070176\n",
      "Precision: 0.9166666666666666\n",
      "Recall: 0.7857142857142857\n",
      "[laplacian:0.2, polynomial:2, gaussian:0.3, ]\n",
      "[laplacian:0.1, polynomial:2, gaussian:0.2, ]\n",
      "[laplacian:0.3, polynomial:3, gaussian:0.3, ]\n",
      "\n",
      "eta vector: [ 3.11566027e+00  2.14157492e-02 -3.65562629e+00  3.76949404e-01\n",
      "  1.07842950e-02  8.14726425e-01 -2.68418127e-01  1.75964887e-03\n",
      "  3.46566166e-01]\n",
      "\n",
      "CA: 0.13092089845782115\n",
      "Accuracy: 0.8421052631578947\n",
      "Precision: 0.8518518518518519\n",
      "Recall: 0.8214285714285714\n",
      "[laplacian:0.5, polynomial:5, gaussian:0.7, ]\n",
      "[laplacian:0.5, polynomial:5, gaussian:0.7, ]\n",
      "[laplacian:0.7, polynomial:5, gaussian:0.5, ]\n",
      "\n",
      "eta vector: [ 3.42625899e+01  3.54285205e-06 -5.01196379e+01  1.12316496e+01\n",
      " -4.97402229e-06 -3.99678003e+00  1.12880620e+01  5.09735721e-05\n",
      " -1.65727317e+00]\n",
      "\n",
      "\n",
      "\tCompleted in 1.6333333333333333 minutes\n"
     ]
    }
   ],
   "source": [
    "result1 = sampler.sample(kernel_type_1, estimator, ds_list, y_c_, valid_fold = 3, verbose=True)"
   ]
  },
  {
   "cell_type": "code",
   "execution_count": 12,
   "metadata": {},
   "outputs": [
    {
     "name": "stdout",
     "output_type": "stream",
     "text": [
      "Perfomances computed for dictionary settings 1:\n",
      "\tAccuracy: 0.7333333333333333\n",
      "\tPrecision: 0.75\n",
      "\tRecall: 0.7105263157894737\n",
      "Perfomances computed for dictionary settings 2:\n",
      "\tAccuracy: 0.72\n",
      "\tPrecision: 0.7297297297297297\n",
      "\tRecall: 0.7105263157894737\n"
     ]
    }
   ],
   "source": [
    "w_dict, w_list = result1.votingOverCA(ds_names, kernel_names_1)\n",
    "ut.testConfigurations(estimator, y_c_, y_c_test, w_list, ds_list, ds_test, kernel_names_1)"
   ]
  },
  {
   "cell_type": "code",
   "execution_count": 13,
   "metadata": {},
   "outputs": [
    {
     "data": {
      "text/plain": [
       "[{'ds1': {'gaussian': 0.2, 'laplacian': 0.2, 'polynomial': 2},\n",
       "  'ds2': {'gaussian': 0.3, 'laplacian': 0.2, 'polynomial': 2},\n",
       "  'ds3': {'gaussian': 0.2, 'laplacian': 0.3, 'polynomial': 3}},\n",
       " {'ds1': {'gaussian': 0.7, 'laplacian': 0.5, 'polynomial': 5},\n",
       "  'ds2': {'gaussian': 0.7, 'laplacian': 0.5, 'polynomial': 5},\n",
       "  'ds3': {'gaussian': 0.5, 'laplacian': 0.7, 'polynomial': 5}}]"
      ]
     },
     "execution_count": 13,
     "metadata": {},
     "output_type": "execute_result"
    }
   ],
   "source": [
    "w_dict"
   ]
  },
  {
   "cell_type": "code",
   "execution_count": 14,
   "metadata": {},
   "outputs": [
    {
     "name": "stdout",
     "output_type": "stream",
     "text": [
      "statistics of configuration 1\n",
      "{'config': {'laplacian': [[0.1, 0.3, 0.3], [0.2, 0.2, 0.3], [0.2, 0.1, 0.3]], 'polynomial': [[2, 2, 3], [2, 3, 3], [2, 2, 3]], 'gaussian': [[0.2, 0.3, 0.2], [0.2, 0.3, 0.2], [0.3, 0.2, 0.3]]}, 'CA': (0.19525793939223526, 6.932870304139932e-05), 'Accuracy': (0.847953216374269, 0.0019151191819705203), 'Precision': (0.8869047619047619, 0.005409108087679518), 'Recall': (0.7976190476190476, 0.0002834467120181403), 'eta': (array([ 2.56656632,  0.02444723, -2.02177008,  1.35893211,  0.00758872,\n",
      "       -0.6535233 , -1.16048744,  0.00289034,  0.66268454]), array([4.41181704e-01, 3.05620146e-05, 1.35680783e+00, 5.23515163e-01,\n",
      "       4.26102136e-05, 1.16606965e+00, 5.35292686e-01, 7.82803781e-07,\n",
      "       2.31652331e-01]))}\n",
      "statistics of configuration 2\n",
      "{'config': {'laplacian': [[0.5, 0.5, 0.7], [0.5, 0.5, 0.5], [0.5, 0.5, 0.7]], 'polynomial': [[5, 5, 5], [5, 5, 5], [5, 5, 5]], 'gaussian': [[0.5, 0.5, 0.5], [0.7, 0.7, 0.7], [0.7, 0.7, 0.5]]}, 'CA': (0.13117466961049232, 1.9827059397799926e-05), 'Accuracy': (0.8362573099415204, 0.0025306932047467613), 'Precision': (0.834443228121389, 0.0031547676514685537), 'Recall': (0.8333333333333334, 0.0019841269841269866), 'eta': (array([ 3.24601709e+01,  3.53210330e-06, -3.46781229e+01,  1.14985815e+01,\n",
      "       -2.32056027e-06, -7.60361679e+00, -1.55755063e+00,  6.71604422e-05,\n",
      "        8.72511280e-01]), array([2.10995323e+00, 2.59342845e-13, 1.39248095e+02, 6.22640166e-01,\n",
      "       1.38214599e-11, 1.21424966e+01, 1.73176818e+02, 2.59033879e-10,\n",
      "       4.66324423e+00]))}\n"
     ]
    }
   ],
   "source": [
    "result1.performancesFeatures()"
   ]
  },
  {
   "cell_type": "code",
   "execution_count": 15,
   "metadata": {},
   "outputs": [
    {
     "name": "stdout",
     "output_type": "stream",
     "text": [
      "\n",
      "1 split out of 3 ...\n",
      "\tWorking on config 1 of 2: {'sigmoid': [0.1, 0.2, 0.3], 'polynomial': [2, 3], 'gaussian': [0.2, 0.3]}\n",
      "Fold no. 1\n",
      "\t\tPerfomances computed for 200\n",
      "\t\tPerfomances computed for 400\n",
      "\t\tPerfomances computed for 600\n",
      "\t\tPerfomances computed for 800\n",
      "\t\tPerfomances computed for 1000\n",
      "\t\tPerfomances computed for 1200\n",
      "\t\tPerfomances computed for 1400\n",
      "\t\tPerfomances computed for 1600\n",
      "Fold no. 2\n",
      "\t\tPerfomances computed for 200\n",
      "\t\tPerfomances computed for 400\n",
      "\t\tPerfomances computed for 600\n",
      "\t\tPerfomances computed for 800\n",
      "\t\tPerfomances computed for 1000\n",
      "\t\tPerfomances computed for 1200\n",
      "\t\tPerfomances computed for 1400\n",
      "\t\tPerfomances computed for 1600\n",
      "Fold no. 3\n",
      "\t\tPerfomances computed for 200\n",
      "\t\tPerfomances computed for 400\n",
      "\t\tPerfomances computed for 600\n",
      "\t\tPerfomances computed for 800\n",
      "\t\tPerfomances computed for 1000\n",
      "\t\tPerfomances computed for 1200\n",
      "\t\tPerfomances computed for 1400\n",
      "\t\tPerfomances computed for 1600\n",
      "Validation complete, config selected:[[0.1, 2, 0.2], [0.3, 2, 0.2], [0.3, 3, 0.3]]\n",
      "\tResult of 1:\n",
      "CA: 0.22156027665527922\n",
      "Accuracy: 0.7894736842105263\n",
      "Precision: 0.7666666666666667\n",
      "Recall: 0.8214285714285714\n",
      "[sigmoid:0.1, polynomial:2, gaussian:0.2, ]\n",
      "[sigmoid:0.3, polynomial:2, gaussian:0.2, ]\n",
      "[sigmoid:0.3, polynomial:3, gaussian:0.3, ]\n",
      "\n",
      "eta vector: [ 0.20739306  0.02997944  0.32488125  0.08891602  0.00610662  0.88633236\n",
      " -0.01836693  0.00449419 -0.93171942]\n",
      "\n",
      "\n",
      "\tCompleted in 1.1666666666666667 minutes\n",
      "\tWorking on config 2 of 2: {'sigmoid': [0.5, 0.7], 'polynomial': [5, 8], 'gaussian': [0.5, 0.7]}\n",
      "Fold no. 1\n",
      "\t\tPerfomances computed for 200\n",
      "\t\tPerfomances computed for 400\n",
      "Fold no. 2\n",
      "\t\tPerfomances computed for 200\n",
      "\t\tPerfomances computed for 400\n",
      "Fold no. 3\n",
      "\t\tPerfomances computed for 200\n",
      "\t\tPerfomances computed for 400\n",
      "Validation complete, config selected:[[0.7, 5, 0.5], [0.7, 8, 0.5], [0.7, 5, 0.7]]\n",
      "\tResult of 1:\n",
      "CA: 0.22156027665527922\n",
      "Accuracy: 0.7894736842105263\n",
      "Precision: 0.7666666666666667\n",
      "Recall: 0.8214285714285714\n",
      "[sigmoid:0.1, polynomial:2, gaussian:0.2, ]\n",
      "[sigmoid:0.3, polynomial:2, gaussian:0.2, ]\n",
      "[sigmoid:0.3, polynomial:3, gaussian:0.3, ]\n",
      "\n",
      "eta vector: [ 0.20739306  0.02997944  0.32488125  0.08891602  0.00610662  0.88633236\n",
      " -0.01836693  0.00449419 -0.93171942]\n",
      "\n",
      "CA: 0.1929895871813514\n",
      "Accuracy: 0.7368421052631579\n",
      "Precision: 0.7241379310344828\n",
      "Recall: 0.75\n",
      "[sigmoid:0.7, polynomial:5, gaussian:0.5, ]\n",
      "[sigmoid:0.7, polynomial:8, gaussian:0.5, ]\n",
      "[sigmoid:0.7, polynomial:5, gaussian:0.7, ]\n",
      "\n",
      "eta vector: [ 1.71612041e-01  7.31066761e-06  2.26739728e-01  9.84386459e-02\n",
      " -5.75089260e-09  2.26836962e-01 -5.01885463e-03  8.73568071e-05\n",
      "  2.26608574e-01]\n",
      "\n",
      "\n",
      "\tCompleted in 1.5333333333333334 minutes\n",
      "\n",
      "2 split out of 3 ...\n",
      "\tWorking on config 1 of 2: {'sigmoid': [0.1, 0.2, 0.3], 'polynomial': [2, 3], 'gaussian': [0.2, 0.3]}\n",
      "Fold no. 1\n",
      "\t\tPerfomances computed for 200\n",
      "\t\tPerfomances computed for 400\n",
      "\t\tPerfomances computed for 600\n",
      "\t\tPerfomances computed for 800\n",
      "\t\tPerfomances computed for 1000\n",
      "\t\tPerfomances computed for 1200\n",
      "\t\tPerfomances computed for 1400\n",
      "\t\tPerfomances computed for 1600\n",
      "Fold no. 2\n",
      "\t\tPerfomances computed for 200\n",
      "\t\tPerfomances computed for 400\n",
      "\t\tPerfomances computed for 600\n",
      "\t\tPerfomances computed for 800\n",
      "\t\tPerfomances computed for 1000\n",
      "\t\tPerfomances computed for 1200\n",
      "\t\tPerfomances computed for 1400\n",
      "\t\tPerfomances computed for 1600\n",
      "Fold no. 3\n",
      "\t\tPerfomances computed for 200\n",
      "\t\tPerfomances computed for 400\n",
      "\t\tPerfomances computed for 600\n",
      "\t\tPerfomances computed for 800\n",
      "\t\tPerfomances computed for 1000\n",
      "\t\tPerfomances computed for 1200\n",
      "\t\tPerfomances computed for 1400\n",
      "\t\tPerfomances computed for 1600\n",
      "Validation complete, config selected:[[0.3, 2, 0.2], [0.3, 2, 0.2], [0.2, 3, 0.3]]\n",
      "\tResult of 2:\n",
      "CA: 0.19878716349959205\n",
      "Accuracy: 0.7543859649122807\n",
      "Precision: 0.7333333333333333\n",
      "Recall: 0.7857142857142857\n",
      "[sigmoid:0.3, polynomial:2, gaussian:0.2, ]\n",
      "[sigmoid:0.3, polynomial:2, gaussian:0.2, ]\n",
      "[sigmoid:0.2, polynomial:3, gaussian:0.3, ]\n",
      "\n",
      "eta vector: [ 0.11430213  0.02783426  0.58352636  0.06273401  0.006366    0.41788147\n",
      " -0.04048005  0.00300313 -0.58506048]\n",
      "\n",
      "\n",
      "\tCompleted in 1.1166666666666667 minutes\n",
      "\tWorking on config 2 of 2: {'sigmoid': [0.5, 0.7], 'polynomial': [5, 8], 'gaussian': [0.5, 0.7]}\n",
      "Fold no. 1\n",
      "\t\tPerfomances computed for 200\n",
      "\t\tPerfomances computed for 400\n",
      "Fold no. 2\n",
      "\t\tPerfomances computed for 200\n",
      "\t\tPerfomances computed for 400\n",
      "Fold no. 3\n",
      "\t\tPerfomances computed for 200\n",
      "\t\tPerfomances computed for 400\n",
      "Validation complete, config selected:[[0.7, 5, 0.5], [0.7, 8, 0.5], [0.7, 5, 0.5]]\n",
      "\tResult of 2:\n",
      "CA: 0.19878716349959205\n",
      "Accuracy: 0.7543859649122807\n",
      "Precision: 0.7333333333333333\n",
      "Recall: 0.7857142857142857\n",
      "[sigmoid:0.3, polynomial:2, gaussian:0.2, ]\n",
      "[sigmoid:0.3, polynomial:2, gaussian:0.2, ]\n",
      "[sigmoid:0.2, polynomial:3, gaussian:0.3, ]\n",
      "\n",
      "eta vector: [ 0.11430213  0.02783426  0.58352636  0.06273401  0.006366    0.41788147\n",
      " -0.04048005  0.00300313 -0.58506048]\n",
      "\n",
      "CA: 0.17222884739994337\n",
      "Accuracy: 0.7543859649122807\n",
      "Precision: 0.75\n",
      "Recall: 0.75\n",
      "[sigmoid:0.7, polynomial:5, gaussian:0.5, ]\n",
      "[sigmoid:0.7, polynomial:8, gaussian:0.5, ]\n",
      "[sigmoid:0.7, polynomial:5, gaussian:0.5, ]\n",
      "\n",
      "eta vector: [ 1.57179546e-01  5.19281138e-06  2.42823441e-01  7.07012321e-02\n",
      "  8.27298212e-10  2.43234578e-01 -1.28224423e-02  1.19716850e-04\n",
      "  2.42897676e-01]\n",
      "\n",
      "\n",
      "\tCompleted in 1.4833333333333334 minutes\n",
      "\n",
      "3 split out of 3 ...\n",
      "\tWorking on config 1 of 2: {'sigmoid': [0.1, 0.2, 0.3], 'polynomial': [2, 3], 'gaussian': [0.2, 0.3]}\n",
      "Fold no. 1\n",
      "\t\tPerfomances computed for 200\n",
      "\t\tPerfomances computed for 400\n",
      "\t\tPerfomances computed for 600\n",
      "\t\tPerfomances computed for 800\n",
      "\t\tPerfomances computed for 1000\n",
      "\t\tPerfomances computed for 1200\n",
      "\t\tPerfomances computed for 1400\n",
      "\t\tPerfomances computed for 1600\n",
      "Fold no. 2\n",
      "\t\tPerfomances computed for 200\n",
      "\t\tPerfomances computed for 400\n",
      "\t\tPerfomances computed for 600\n",
      "\t\tPerfomances computed for 800\n",
      "\t\tPerfomances computed for 1000\n",
      "\t\tPerfomances computed for 1200\n",
      "\t\tPerfomances computed for 1400\n",
      "\t\tPerfomances computed for 1600\n",
      "Fold no. 3\n",
      "\t\tPerfomances computed for 200\n",
      "\t\tPerfomances computed for 400\n",
      "\t\tPerfomances computed for 600\n",
      "\t\tPerfomances computed for 800\n",
      "\t\tPerfomances computed for 1000\n",
      "\t\tPerfomances computed for 1200\n",
      "\t\tPerfomances computed for 1400\n",
      "\t\tPerfomances computed for 1600\n",
      "Validation complete, config selected:[[0.1, 2, 0.2], [0.2, 2, 0.3], [0.3, 3, 0.2]]\n",
      "\tResult of 3:\n",
      "CA: 0.19036152976075857\n",
      "Accuracy: 0.7719298245614035\n",
      "Precision: 0.7586206896551724\n",
      "Recall: 0.7857142857142857\n",
      "[sigmoid:0.1, polynomial:2, gaussian:0.2, ]\n",
      "[sigmoid:0.2, polynomial:2, gaussian:0.3, ]\n",
      "[sigmoid:0.3, polynomial:3, gaussian:0.2, ]\n",
      "\n",
      "eta vector: [ 0.16200593  0.02309239  0.69130784  0.06062248  0.00905396 -0.3516809\n",
      " -0.02806805  0.00368698  0.05971291]\n",
      "\n",
      "\n",
      "\tCompleted in 1.2 minutes\n",
      "\tWorking on config 2 of 2: {'sigmoid': [0.5, 0.7], 'polynomial': [5, 8], 'gaussian': [0.5, 0.7]}\n",
      "Fold no. 1\n",
      "\t\tPerfomances computed for 200\n",
      "\t\tPerfomances computed for 400\n",
      "Fold no. 2\n",
      "\t\tPerfomances computed for 200\n",
      "\t\tPerfomances computed for 400\n",
      "Fold no. 3\n",
      "\t\tPerfomances computed for 200\n",
      "\t\tPerfomances computed for 400\n",
      "Validation complete, config selected:[[0.7, 5, 0.5], [0.7, 8, 0.5], [0.7, 5, 0.5]]\n",
      "\tResult of 3:\n",
      "CA: 0.19036152976075857\n",
      "Accuracy: 0.7719298245614035\n",
      "Precision: 0.7586206896551724\n",
      "Recall: 0.7857142857142857\n",
      "[sigmoid:0.1, polynomial:2, gaussian:0.2, ]\n",
      "[sigmoid:0.2, polynomial:2, gaussian:0.3, ]\n",
      "[sigmoid:0.3, polynomial:3, gaussian:0.2, ]\n",
      "\n",
      "eta vector: [ 0.16200593  0.02309239  0.69130784  0.06062248  0.00905396 -0.3516809\n",
      " -0.02806805  0.00368698  0.05971291]\n",
      "\n",
      "CA: 0.16753402759188643\n",
      "Accuracy: 0.7719298245614035\n",
      "Precision: 0.7586206896551724\n",
      "Recall: 0.7857142857142857\n",
      "[sigmoid:0.7, polynomial:5, gaussian:0.5, ]\n",
      "[sigmoid:0.7, polynomial:8, gaussian:0.5, ]\n",
      "[sigmoid:0.7, polynomial:5, gaussian:0.5, ]\n",
      "\n",
      "eta vector: [ 1.48121944e-01  4.58450814e-06  2.51363722e-01  6.47006564e-02\n",
      " -1.69833314e-08  2.51477269e-01 -5.41594594e-03  7.86514141e-05\n",
      "  2.51555522e-01]\n",
      "\n",
      "\n",
      "\tCompleted in 1.5833333333333333 minutes\n"
     ]
    }
   ],
   "source": [
    "result1 = sampler.sample(kernel_type_2, estimator, ds_list, y_c_, valid_fold = 3, verbose=True)"
   ]
  },
  {
   "cell_type": "code",
   "execution_count": 16,
   "metadata": {},
   "outputs": [
    {
     "name": "stdout",
     "output_type": "stream",
     "text": [
      "Perfomances computed for dictionary settings 1:\n",
      "\tAccuracy: 0.7333333333333333\n",
      "\tPrecision: 0.75\n",
      "\tRecall: 0.7105263157894737\n",
      "Perfomances computed for dictionary settings 2:\n",
      "\tAccuracy: 0.7466666666666667\n",
      "\tPrecision: 0.7435897435897436\n",
      "\tRecall: 0.7631578947368421\n"
     ]
    }
   ],
   "source": [
    "w_dict, w_list = result1.votingOverCA(ds_names, kernel_names_2)\n",
    "ut.testConfigurations(estimator, y_c_, y_c_test, w_list, ds_list, ds_test, kernel_names_2)"
   ]
  },
  {
   "cell_type": "code",
   "execution_count": 17,
   "metadata": {},
   "outputs": [
    {
     "data": {
      "text/plain": [
       "[{'ds1': {'gaussian': 0.2, 'polynomial': 2, 'sigmoid': 0.1},\n",
       "  'ds2': {'gaussian': 0.2, 'polynomial': 2, 'sigmoid': 0.3},\n",
       "  'ds3': {'gaussian': 0.3, 'polynomial': 3, 'sigmoid': 0.3}},\n",
       " {'ds1': {'gaussian': 0.5, 'polynomial': 5, 'sigmoid': 0.7},\n",
       "  'ds2': {'gaussian': 0.5, 'polynomial': 8, 'sigmoid': 0.7},\n",
       "  'ds3': {'gaussian': 0.5, 'polynomial': 5, 'sigmoid': 0.7}}]"
      ]
     },
     "execution_count": 17,
     "metadata": {},
     "output_type": "execute_result"
    }
   ],
   "source": [
    "w_dict"
   ]
  },
  {
   "cell_type": "code",
   "execution_count": 18,
   "metadata": {},
   "outputs": [
    {
     "name": "stdout",
     "output_type": "stream",
     "text": [
      "statistics of configuration 1\n",
      "{'config': {'sigmoid': [[0.1, 0.3, 0.3], [0.3, 0.3, 0.2], [0.1, 0.2, 0.3]], 'polynomial': [[2, 2, 3], [2, 2, 3], [2, 2, 3]], 'gaussian': [[0.2, 0.2, 0.3], [0.2, 0.2, 0.3], [0.2, 0.3, 0.2]]}, 'CA': (0.2035696566385433, 0.0001736630882767848), 'Accuracy': (0.7719298245614036, 0.00020519134092541295), 'Precision': (0.7528735632183908, 0.00020169991632536322), 'Recall': (0.7976190476190476, 0.0002834467120181403), 'eta': (array([ 0.16123371,  0.0269687 ,  0.53323848,  0.07075751,  0.00717553,\n",
      "        0.31751098, -0.02897168,  0.0037281 , -0.485689  ]), array([1.44461839e-03, 8.27985314e-06, 2.36425101e-02, 1.65608952e-04,\n",
      "       1.77546179e-06, 2.60483258e-01, 8.19066431e-05, 3.71391773e-07,\n",
      "       1.68760357e-01]))}\n",
      "statistics of configuration 2\n",
      "{'config': {'sigmoid': [[0.7, 0.7, 0.7], [0.7, 0.7, 0.7], [0.7, 0.7, 0.7]], 'polynomial': [[5, 8, 5], [5, 8, 5], [5, 8, 5]], 'gaussian': [[0.5, 0.5, 0.7], [0.5, 0.5, 0.5], [0.5, 0.5, 0.5]]}, 'CA': (0.17758415405772707, 0.00012233724036825146), 'Accuracy': (0.7543859649122807, 0.00020519134092541295), 'Precision': (0.7442528735632182, 0.00021469150482230108), 'Recall': (0.7619047619047619, 0.0002834467120181403), 'eta': (array([ 1.58971177e-01,  5.69599571e-06,  2.40308964e-01,  7.79468448e-02,\n",
      "       -7.30230861e-09,  2.40516270e-01, -7.75241428e-03,  9.52416904e-05,\n",
      "        2.40353924e-01]), array([9.35690786e-05, 1.36525481e-12, 1.04218145e-04, 2.15958108e-04,\n",
      "       5.40732005e-17, 1.04885384e-04, 1.28788722e-05, 3.12147363e-10,\n",
      "       1.06960376e-04]))}\n"
     ]
    }
   ],
   "source": [
    "result1.performancesFeatures()"
   ]
  },
  {
   "cell_type": "code",
   "execution_count": 26,
   "metadata": {
    "scrolled": true
   },
   "outputs": [
    {
     "name": "stdout",
     "output_type": "stream",
     "text": [
      "\n",
      "1 split out of 3 ...\n",
      "\tWorking on config 1 of 2: {'linear': [0.5], 'polynomial': [2, 3, 7], 'gaussian': [0.1, 0.5, 0.7]}\n",
      "Fold no. 1\n",
      "\t\tPerfomances computed for 200\n",
      "\t\tPerfomances computed for 400\n",
      "\t\tPerfomances computed for 600\n",
      "Fold no. 2\n",
      "\t\tPerfomances computed for 200\n",
      "\t\tPerfomances computed for 400\n",
      "\t\tPerfomances computed for 600\n",
      "Fold no. 3\n",
      "\t\tPerfomances computed for 200\n",
      "\t\tPerfomances computed for 400\n",
      "\t\tPerfomances computed for 600\n",
      "Validation complete, config selected:[[0.5, 2, 0.1], [0.5, 3, 0.1], [0.5, 7, 0.1]]\n",
      "\tResult of 1:\n",
      "CA: 0.20582091129760163\n",
      "Accuracy: 0.7719298245614035\n",
      "Precision: 0.8\n",
      "Recall: 0.7142857142857143\n",
      "[linear:0.5, polynomial:2, gaussian:0.1, ]\n",
      "[linear:0.5, polynomial:3, gaussian:0.1, ]\n",
      "[linear:0.5, polynomial:7, gaussian:0.1, ]\n",
      "\n",
      "eta vector: [ 0.73151087  2.09998511 -0.04762805  1.2954489  -0.69356657  0.91887983\n",
      " -0.27627122 -0.15151821  0.29447802]\n",
      "\n",
      "\n",
      "\tCompleted in 1.15 minutes\n",
      "\tWorking on config 2 of 2: {'linear': [0.2], 'polynomial': [4, 5, 8], 'gaussian': [0.7, 1]}\n",
      "Fold no. 1\n",
      "\t\tPerfomances computed for 200\n",
      "Fold no. 2\n",
      "\t\tPerfomances computed for 200\n",
      "Fold no. 3\n",
      "\t\tPerfomances computed for 200\n",
      "Validation complete, config selected:[[0.2, 4, 1], [0.2, 8, 0.7], [0.2, 4, 0.7]]\n",
      "\tResult of 1:\n",
      "CA: 0.20582091129760163\n",
      "Accuracy: 0.7719298245614035\n",
      "Precision: 0.8\n",
      "Recall: 0.7142857142857143\n",
      "[linear:0.5, polynomial:2, gaussian:0.1, ]\n",
      "[linear:0.5, polynomial:3, gaussian:0.1, ]\n",
      "[linear:0.5, polynomial:7, gaussian:0.1, ]\n",
      "\n",
      "eta vector: [ 0.73151087  2.09998511 -0.04762805  1.2954489  -0.69356657  0.91887983\n",
      " -0.27627122 -0.15151821  0.29447802]\n",
      "\n",
      "CA: 0.1945664078585728\n",
      "Accuracy: 0.7543859649122807\n",
      "Precision: 0.75\n",
      "Recall: 0.75\n",
      "[linear:0.2, polynomial:4, gaussian:1, ]\n",
      "[linear:0.2, polynomial:8, gaussian:0.7, ]\n",
      "[linear:0.2, polynomial:4, gaussian:0.7, ]\n",
      "\n",
      "eta vector: [ 1.67071692  0.69390419 -2.36813626  1.31409763 -0.25352639  3.11698702\n",
      " -0.31218133  0.20403762 -0.4521736 ]\n",
      "\n",
      "\n",
      "\tCompleted in 1.3333333333333333 minutes\n",
      "\n",
      "2 split out of 3 ...\n",
      "\tWorking on config 1 of 2: {'linear': [0.5], 'polynomial': [2, 3, 7], 'gaussian': [0.1, 0.5, 0.7]}\n",
      "Fold no. 1\n",
      "\t\tPerfomances computed for 200\n",
      "\t\tPerfomances computed for 400\n",
      "\t\tPerfomances computed for 600\n",
      "Fold no. 2\n",
      "\t\tPerfomances computed for 200\n",
      "\t\tPerfomances computed for 400\n",
      "\t\tPerfomances computed for 600\n",
      "Fold no. 3\n",
      "\t\tPerfomances computed for 200\n",
      "\t\tPerfomances computed for 400\n",
      "\t\tPerfomances computed for 600\n",
      "Validation complete, config selected:[[0.5, 2, 0.1], [0.5, 7, 0.1], [0.5, 7, 0.1]]\n",
      "\tResult of 2:\n",
      "CA: 0.21762397179020201\n",
      "Accuracy: 0.7017543859649122\n",
      "Precision: 0.6896551724137931\n",
      "Recall: 0.7142857142857143\n",
      "[linear:0.5, polynomial:2, gaussian:0.1, ]\n",
      "[linear:0.5, polynomial:7, gaussian:0.1, ]\n",
      "[linear:0.5, polynomial:7, gaussian:0.1, ]\n",
      "\n",
      "eta vector: [ 1.47306335  1.30988803  0.40795924  1.00309464 -0.31324692  0.50828708\n",
      " -0.03619094 -0.14966076  0.05064929]\n",
      "\n",
      "\n",
      "\tCompleted in 1.1 minutes\n",
      "\tWorking on config 2 of 2: {'linear': [0.2], 'polynomial': [4, 5, 8], 'gaussian': [0.7, 1]}\n",
      "Fold no. 1\n",
      "\t\tPerfomances computed for 200\n",
      "Fold no. 2\n",
      "\t\tPerfomances computed for 200\n",
      "Fold no. 3\n",
      "\t\tPerfomances computed for 200\n",
      "Validation complete, config selected:[[0.2, 8, 0.7], [0.2, 8, 0.7], [0.2, 5, 0.7]]\n",
      "\tResult of 2:\n",
      "CA: 0.21762397179020201\n",
      "Accuracy: 0.7017543859649122\n",
      "Precision: 0.6896551724137931\n",
      "Recall: 0.7142857142857143\n",
      "[linear:0.5, polynomial:2, gaussian:0.1, ]\n",
      "[linear:0.5, polynomial:7, gaussian:0.1, ]\n",
      "[linear:0.5, polynomial:7, gaussian:0.1, ]\n",
      "\n",
      "eta vector: [ 1.47306335  1.30988803  0.40795924  1.00309464 -0.31324692  0.50828708\n",
      " -0.03619094 -0.14966076  0.05064929]\n",
      "\n",
      "CA: 0.20938835187628987\n",
      "Accuracy: 0.7192982456140351\n",
      "Precision: 0.7142857142857143\n",
      "Recall: 0.7142857142857143\n",
      "[linear:0.2, polynomial:8, gaussian:0.7, ]\n",
      "[linear:0.2, polynomial:8, gaussian:0.7, ]\n",
      "[linear:0.2, polynomial:5, gaussian:0.7, ]\n",
      "\n",
      "eta vector: [ 2.42897048  0.02179582  0.94260659  1.17983268 -0.17330345  0.57257767\n",
      " -0.0735275   0.06570572 -1.11112897]\n",
      "\n",
      "\n",
      "\tCompleted in 1.3166666666666667 minutes\n",
      "\n",
      "3 split out of 3 ...\n",
      "\tWorking on config 1 of 2: {'linear': [0.5], 'polynomial': [2, 3, 7], 'gaussian': [0.1, 0.5, 0.7]}\n",
      "Fold no. 1\n",
      "\t\tPerfomances computed for 200\n",
      "\t\tPerfomances computed for 400\n",
      "\t\tPerfomances computed for 600\n",
      "Fold no. 2\n",
      "\t\tPerfomances computed for 200\n",
      "\t\tPerfomances computed for 400\n",
      "\t\tPerfomances computed for 600\n",
      "Fold no. 3\n",
      "\t\tPerfomances computed for 200\n",
      "\t\tPerfomances computed for 400\n",
      "\t\tPerfomances computed for 600\n",
      "Validation complete, config selected:[[0.5, 2, 0.1], [0.5, 2, 0.1], [0.5, 3, 0.5]]\n",
      "\tResult of 3:\n",
      "CA: 0.2029844561431297\n",
      "Accuracy: 0.8245614035087719\n",
      "Precision: 0.78125\n",
      "Recall: 0.8928571428571429\n",
      "[linear:0.5, polynomial:2, gaussian:0.1, ]\n",
      "[linear:0.5, polynomial:2, gaussian:0.1, ]\n",
      "[linear:0.5, polynomial:3, gaussian:0.5, ]\n",
      "\n",
      "eta vector: [ 0.84745915  1.83968154  0.54355821 -0.64939725  2.03632983  0.24710854\n",
      "  0.08397356 -0.08521295 -0.35694114]\n",
      "\n",
      "\n",
      "\tCompleted in 1.05 minutes\n",
      "\tWorking on config 2 of 2: {'linear': [0.2], 'polynomial': [4, 5, 8], 'gaussian': [0.7, 1]}\n",
      "Fold no. 1\n",
      "\t\tPerfomances computed for 200\n",
      "Fold no. 2\n",
      "\t\tPerfomances computed for 200\n",
      "Fold no. 3\n",
      "\t\tPerfomances computed for 200\n",
      "Validation complete, config selected:[[0.2, 8, 0.7], [0.2, 4, 1], [0.2, 4, 0.7]]\n",
      "\tResult of 3:\n",
      "CA: 0.2029844561431297\n",
      "Accuracy: 0.8245614035087719\n",
      "Precision: 0.78125\n",
      "Recall: 0.8928571428571429\n",
      "[linear:0.5, polynomial:2, gaussian:0.1, ]\n",
      "[linear:0.5, polynomial:2, gaussian:0.1, ]\n",
      "[linear:0.5, polynomial:3, gaussian:0.5, ]\n",
      "\n",
      "eta vector: [ 0.84745915  1.83968154  0.54355821 -0.64939725  2.03632983  0.24710854\n",
      "  0.08397356 -0.08521295 -0.35694114]\n",
      "\n",
      "CA: 0.18748024488985968\n",
      "Accuracy: 0.6491228070175439\n",
      "Precision: 0.6333333333333333\n",
      "Recall: 0.6785714285714286\n",
      "[linear:0.2, polynomial:8, gaussian:0.7, ]\n",
      "[linear:0.2, polynomial:4, gaussian:1, ]\n",
      "[linear:0.2, polynomial:4, gaussian:0.7, ]\n",
      "\n",
      "eta vector: [ 2.15738739  0.0555358  -3.74227087  0.33399207  0.67863599 -1.20521944\n",
      "  0.04492501 -0.06399566  5.28108101]\n",
      "\n",
      "\n",
      "\tCompleted in 1.2666666666666666 minutes\n"
     ]
    }
   ],
   "source": [
    "result13 = sampler.sample(kernel_type_3, estimator, ds_list, y_c_, valid_fold = 3, verbose=True)"
   ]
  },
  {
   "cell_type": "code",
   "execution_count": 27,
   "metadata": {},
   "outputs": [
    {
     "name": "stdout",
     "output_type": "stream",
     "text": [
      "Perfomances computed for dictionary settings 1:\n",
      "\tAccuracy: 0.7333333333333333\n",
      "\tPrecision: 0.75\n",
      "\tRecall: 0.7105263157894737\n",
      "Perfomances computed for dictionary settings 2:\n",
      "\tAccuracy: 0.7466666666666667\n",
      "\tPrecision: 0.7567567567567568\n",
      "\tRecall: 0.7368421052631579\n"
     ]
    }
   ],
   "source": [
    "w_dict, w_list = result1.votingOverCA(ds_names, kernel_names_3)\n",
    "ut.testConfigurations(estimator, y_c_, y_c_test, w_list, ds_list, ds_test, kernel_names_3)"
   ]
  },
  {
   "cell_type": "code",
   "execution_count": 28,
   "metadata": {},
   "outputs": [
    {
     "data": {
      "text/plain": [
       "[{'ds1': {'gaussian': 0.2, 'linear': 0.1, 'polynomial': 2},\n",
       "  'ds2': {'gaussian': 0.2, 'linear': 0.3, 'polynomial': 2},\n",
       "  'ds3': {'gaussian': 0.3, 'linear': 0.3, 'polynomial': 3}},\n",
       " {'ds1': {'gaussian': 0.5, 'linear': 0.7, 'polynomial': 5},\n",
       "  'ds2': {'gaussian': 0.5, 'linear': 0.7, 'polynomial': 8},\n",
       "  'ds3': {'gaussian': 0.5, 'linear': 0.7, 'polynomial': 5}}]"
      ]
     },
     "execution_count": 28,
     "metadata": {},
     "output_type": "execute_result"
    }
   ],
   "source": [
    "w_dict"
   ]
  },
  {
   "cell_type": "code",
   "execution_count": 29,
   "metadata": {
    "scrolled": true
   },
   "outputs": [
    {
     "name": "stdout",
     "output_type": "stream",
     "text": [
      "statistics of configuration 1\n",
      "{'config': {'linear': [[0.5, 0.5, 0.5], [0.5, 0.5, 0.5], [0.5, 0.5, 0.5]], 'polynomial': [[2, 3, 7], [2, 7, 7], [2, 2, 3]], 'gaussian': [[0.1, 0.1, 0.1], [0.1, 0.1, 0.1], [0.1, 0.1, 0.5]]}, 'CA': (0.20880977974364445, 4.018590369068768e-05), 'Accuracy': (0.7660818713450293, 0.0025306932047467617), 'Precision': (0.7569683908045978, 0.0023241284350640763), 'Recall': (0.7738095238095238, 0.007086167800453517), 'eta': (array([ 1.01734446,  1.74985156,  0.30129647,  0.54971543,  0.34317211,\n",
      "        0.55809182, -0.07616287, -0.12879731, -0.00393794]), array([1.06080523e-01, 1.08076945e-01, 6.39386734e-02, 7.33180779e-01,\n",
      "       1.45749870e+00, 7.64530344e-02, 2.24282604e-02, 9.50372996e-04,\n",
      "       7.22143717e-02]))}\n",
      "statistics of configuration 2\n",
      "{'config': {'linear': [[0.2, 0.2, 0.2], [0.2, 0.2, 0.2], [0.2, 0.2, 0.2]], 'polynomial': [[4, 8, 4], [8, 8, 5], [8, 4, 4]], 'gaussian': [[1, 0.7, 0.7], [0.7, 0.7, 0.7], [0.7, 1, 0.7]]}, 'CA': (0.1971450015415741, 8.331876464581912e-05), 'Accuracy': (0.7076023391812866, 0.0019151191819705207), 'Precision': (0.6992063492063493, 0.0023822121441169075), 'Recall': (0.7142857142857144, 0.000850340136054421), 'eta': (array([ 2.0856916 ,  0.2570786 , -1.72260018,  0.94264079,  0.08393539,\n",
      "        0.82811508, -0.11359461,  0.06858256,  1.23925948]), array([0.09839489, 0.09559803, 3.86637121, 0.18823115, 0.17790703,\n",
      "       3.14622779, 0.02205684, 0.01197778, 8.240531  ]))}\n"
     ]
    }
   ],
   "source": [
    "result13.performancesFeatures()"
   ]
  },
  {
   "cell_type": "markdown",
   "metadata": {},
   "source": [
    "## Kernel normalization"
   ]
  },
  {
   "cell_type": "code",
   "execution_count": 30,
   "metadata": {},
   "outputs": [],
   "source": [
    "sampler = ms.mySampler(n_splits=3, test_size=.25, normalize_kernels = True)"
   ]
  },
  {
   "cell_type": "code",
   "execution_count": null,
   "metadata": {},
   "outputs": [
    {
     "name": "stdout",
     "output_type": "stream",
     "text": [
      "\n",
      "1 split out of 3 ...\n",
      "\tWorking on config 1 of 2: {'laplacian': [0.1, 0.2, 0.3], 'polynomial': [2, 3], 'gaussian': [0.2, 0.3]}\n",
      "Fold no. 1\n",
      "\t\tPerfomances computed for 200\n",
      "\t\tPerfomances computed for 400\n",
      "\t\tPerfomances computed for 600\n",
      "\t\tPerfomances computed for 800\n",
      "\t\tPerfomances computed for 1000\n",
      "\t\tPerfomances computed for 1200\n",
      "\t\tPerfomances computed for 1400\n",
      "\t\tPerfomances computed for 1600\n",
      "Fold no. 2\n",
      "\t\tPerfomances computed for 200\n",
      "\t\tPerfomances computed for 400\n",
      "\t\tPerfomances computed for 600\n",
      "\t\tPerfomances computed for 800\n",
      "\t\tPerfomances computed for 1000\n",
      "\t\tPerfomances computed for 1200\n",
      "\t\tPerfomances computed for 1400\n",
      "\t\tPerfomances computed for 1600\n",
      "Fold no. 3\n",
      "\t\tPerfomances computed for 200\n",
      "\t\tPerfomances computed for 400\n",
      "\t\tPerfomances computed for 600\n",
      "\t\tPerfomances computed for 800\n",
      "\t\tPerfomances computed for 1000\n",
      "\t\tPerfomances computed for 1200\n",
      "\t\tPerfomances computed for 1400\n",
      "\t\tPerfomances computed for 1600\n",
      "Validation complete, config selected:[[0.2, 2, 0.2], [0.1, 2, 0.3], [0.3, 2, 0.2]]\n",
      "\tResult of 1:\n",
      "CA: 0.19671255370267646\n",
      "Accuracy: 0.8245614035087719\n",
      "Precision: 0.8214285714285714\n",
      "Recall: 0.8214285714285714\n",
      "[laplacian:0.2, polynomial:2, gaussian:0.2, ]\n",
      "[laplacian:0.1, polynomial:2, gaussian:0.3, ]\n",
      "[laplacian:0.3, polynomial:2, gaussian:0.2, ]\n",
      "\n",
      "eta vector: [ 0.88662716  2.81181993 -0.90848242 -0.55918514  1.56926751  0.49406095\n",
      " -1.0020963   0.21141914  0.91621363]\n",
      "\n",
      "\n",
      "\tCompleted in 6.166666666666667 minutes\n",
      "\tWorking on config 2 of 2: {'laplacian': [0.5, 0.7], 'polynomial': [5, 8], 'gaussian': [0.5, 0.7]}\n",
      "Fold no. 1\n",
      "\t\tPerfomances computed for 200\n",
      "\t\tPerfomances computed for 400\n",
      "Fold no. 2\n",
      "\t\tPerfomances computed for 200\n",
      "\t\tPerfomances computed for 400\n",
      "Fold no. 3\n",
      "\t\tPerfomances computed for 200\n",
      "\t\tPerfomances computed for 400\n",
      "Validation complete, config selected:[[0.5, 5, 0.5], [0.7, 5, 0.5], [0.5, 8, 0.7]]\n",
      "\tResult of 1:\n",
      "CA: 0.19671255370267646\n",
      "Accuracy: 0.8245614035087719\n",
      "Precision: 0.8214285714285714\n",
      "Recall: 0.8214285714285714\n",
      "[laplacian:0.2, polynomial:2, gaussian:0.2, ]\n",
      "[laplacian:0.1, polynomial:2, gaussian:0.3, ]\n",
      "[laplacian:0.3, polynomial:2, gaussian:0.2, ]\n",
      "\n",
      "eta vector: [ 0.88662716  2.81181993 -0.90848242 -0.55918514  1.56926751  0.49406095\n",
      " -1.0020963   0.21141914  0.91621363]\n",
      "\n",
      "CA: 0.14902511735340743\n",
      "Accuracy: 0.8070175438596491\n",
      "Precision: 0.8148148148148148\n",
      "Recall: 0.7857142857142857\n",
      "[laplacian:0.5, polynomial:5, gaussian:0.5, ]\n",
      "[laplacian:0.7, polynomial:5, gaussian:0.5, ]\n",
      "[laplacian:0.5, polynomial:8, gaussian:0.7, ]\n",
      "\n",
      "eta vector: [ 20.48405906   1.43745379 -16.37258532  -4.87688085   0.50399369\n",
      "   4.12872387   5.87488072  -0.13572166  -8.81544255]\n",
      "\n",
      "\n",
      "\tCompleted in 6.783333333333333 minutes\n",
      "\n",
      "2 split out of 3 ...\n",
      "\tWorking on config 1 of 2: {'laplacian': [0.1, 0.2, 0.3], 'polynomial': [2, 3], 'gaussian': [0.2, 0.3]}\n",
      "Fold no. 1\n",
      "\t\tPerfomances computed for 200\n",
      "\t\tPerfomances computed for 400\n",
      "\t\tPerfomances computed for 600\n",
      "\t\tPerfomances computed for 800\n",
      "\t\tPerfomances computed for 1000\n",
      "\t\tPerfomances computed for 1200\n",
      "\t\tPerfomances computed for 1400\n",
      "\t\tPerfomances computed for 1600\n"
     ]
    }
   ],
   "source": [
    "result1 = sampler.sample(kernel_type_1, estimator, ds_list, y_c_, valid_fold = 3, verbose=True)"
   ]
  },
  {
   "cell_type": "code",
   "execution_count": null,
   "metadata": {},
   "outputs": [],
   "source": [
    "w_dict, w_list = result1.votingOverCA(ds_names, kernel_names_1)\n",
    "ut.testConfigurations(estimator, y_c_, y_c_test, w_list, ds_list, ds_test, kernel_names_1)"
   ]
  },
  {
   "cell_type": "code",
   "execution_count": null,
   "metadata": {},
   "outputs": [],
   "source": [
    "w_dict"
   ]
  },
  {
   "cell_type": "code",
   "execution_count": null,
   "metadata": {},
   "outputs": [],
   "source": [
    "result1.performancesFeatures()"
   ]
  },
  {
   "cell_type": "code",
   "execution_count": null,
   "metadata": {},
   "outputs": [],
   "source": [
    "result1 = sampler.sample(kernel_type_2, estimator, ds_list, y_c_, valid_fold = 3, verbose=True)"
   ]
  },
  {
   "cell_type": "code",
   "execution_count": null,
   "metadata": {},
   "outputs": [],
   "source": [
    "w_dict, w_list = result1.votingOverCA(ds_names, kernel_names_2)\n",
    "ut.testConfigurations(estimator, y_c_, y_c_test, w_list, ds_list, ds_test, kernel_names_2)"
   ]
  },
  {
   "cell_type": "code",
   "execution_count": null,
   "metadata": {},
   "outputs": [],
   "source": [
    "w_dict"
   ]
  },
  {
   "cell_type": "code",
   "execution_count": null,
   "metadata": {},
   "outputs": [],
   "source": [
    "result1.performancesFeatures()"
   ]
  },
  {
   "cell_type": "code",
   "execution_count": null,
   "metadata": {
    "scrolled": true
   },
   "outputs": [],
   "source": [
    "result13 = sampler.sample(kernel_type_3, estimator, ds_list, y_c_, valid_fold = 3, verbose=True)"
   ]
  },
  {
   "cell_type": "code",
   "execution_count": null,
   "metadata": {},
   "outputs": [],
   "source": [
    "w_dict, w_list = result1.votingOverCA(ds_names, kernel_names_3)\n",
    "ut.testConfigurations(estimator, y_c_, y_c_test, w_list, ds_list, ds_test, kernel_names_3)"
   ]
  },
  {
   "cell_type": "code",
   "execution_count": null,
   "metadata": {},
   "outputs": [],
   "source": [
    "w_dict"
   ]
  },
  {
   "cell_type": "code",
   "execution_count": null,
   "metadata": {
    "scrolled": true
   },
   "outputs": [],
   "source": [
    "result13.performancesFeatures()"
   ]
  },
  {
   "cell_type": "markdown",
   "metadata": {},
   "source": [
    "## Normalized data"
   ]
  },
  {
   "cell_type": "code",
   "execution_count": null,
   "metadata": {},
   "outputs": [],
   "source": [
    "sampler = ms.mySampler(n_splits=3, test_size=.25, normalizing = True)"
   ]
  },
  {
   "cell_type": "code",
   "execution_count": null,
   "metadata": {},
   "outputs": [],
   "source": [
    "result1 = sampler.sample(kernel_type_1, estimator, ds_list, y_c_, valid_fold = 3, verbose=True)"
   ]
  },
  {
   "cell_type": "code",
   "execution_count": null,
   "metadata": {},
   "outputs": [],
   "source": [
    "w_dict, w_list = result1.votingOverCA(ds_names, kernel_names_1)\n",
    "ut.testConfigurations(estimator, y_c_, y_c_test, w_list, ds_list, ds_test, kernel_names_1)"
   ]
  },
  {
   "cell_type": "code",
   "execution_count": null,
   "metadata": {},
   "outputs": [],
   "source": [
    "w_dict"
   ]
  },
  {
   "cell_type": "code",
   "execution_count": null,
   "metadata": {},
   "outputs": [],
   "source": [
    "result1.performancesFeatures()"
   ]
  },
  {
   "cell_type": "code",
   "execution_count": null,
   "metadata": {},
   "outputs": [],
   "source": [
    "result1 = sampler.sample(kernel_type_2, estimator, ds_list, y_c_, valid_fold = 3, verbose=True)"
   ]
  },
  {
   "cell_type": "code",
   "execution_count": null,
   "metadata": {},
   "outputs": [],
   "source": [
    "w_dict, w_list = result1.votingOverCA(ds_names, kernel_names_2)\n",
    "ut.testConfigurations(estimator, y_c_, y_c_test, w_list, ds_list, ds_test, kernel_names_2)"
   ]
  },
  {
   "cell_type": "code",
   "execution_count": null,
   "metadata": {},
   "outputs": [],
   "source": [
    "w_dict"
   ]
  },
  {
   "cell_type": "code",
   "execution_count": null,
   "metadata": {},
   "outputs": [],
   "source": [
    "result1.performancesFeatures()"
   ]
  },
  {
   "cell_type": "code",
   "execution_count": null,
   "metadata": {
    "scrolled": true
   },
   "outputs": [],
   "source": [
    "result13 = sampler.sample(kernel_type_3, estimator, ds_list, y_c_, valid_fold = 3, verbose=True)"
   ]
  },
  {
   "cell_type": "code",
   "execution_count": null,
   "metadata": {},
   "outputs": [],
   "source": [
    "w_dict, w_list = result1.votingOverCA(ds_names, kernel_names_3)\n",
    "ut.testConfigurations(estimator, y_c_, y_c_test, w_list, ds_list, ds_test, kernel_names_3)"
   ]
  },
  {
   "cell_type": "code",
   "execution_count": null,
   "metadata": {},
   "outputs": [],
   "source": [
    "w_dict"
   ]
  },
  {
   "cell_type": "code",
   "execution_count": null,
   "metadata": {
    "scrolled": true
   },
   "outputs": [],
   "source": [
    "result13.performancesFeatures()"
   ]
  },
  {
   "cell_type": "markdown",
   "metadata": {},
   "source": [
    "## Origin Data Centering"
   ]
  },
  {
   "cell_type": "code",
   "execution_count": null,
   "metadata": {},
   "outputs": [],
   "source": [
    "sampler = ms.mySampler(n_splits=3, test_size=.25, centering = True)"
   ]
  },
  {
   "cell_type": "code",
   "execution_count": null,
   "metadata": {},
   "outputs": [],
   "source": [
    "result1 = sampler.sample(kernel_type_1, estimator, ds_list, y_c_, valid_fold = 3, verbose=True)"
   ]
  },
  {
   "cell_type": "code",
   "execution_count": null,
   "metadata": {},
   "outputs": [],
   "source": [
    "w_dict, w_list = result1.votingOverCA(ds_names, kernel_names_1)\n",
    "ut.testConfigurations(estimator, y_c_, y_c_test, w_list, ds_list, ds_test, kernel_names_1)"
   ]
  },
  {
   "cell_type": "code",
   "execution_count": null,
   "metadata": {},
   "outputs": [],
   "source": [
    "w_dict"
   ]
  },
  {
   "cell_type": "code",
   "execution_count": null,
   "metadata": {},
   "outputs": [],
   "source": [
    "result1.performancesFeatures()"
   ]
  },
  {
   "cell_type": "code",
   "execution_count": null,
   "metadata": {},
   "outputs": [],
   "source": [
    "result1 = sampler.sample(kernel_type_2, estimator, ds_list, y_c_, valid_fold = 3, verbose=True)"
   ]
  },
  {
   "cell_type": "code",
   "execution_count": null,
   "metadata": {},
   "outputs": [],
   "source": [
    "w_dict, w_list = result1.votingOverCA(ds_names, kernel_names_2)\n",
    "ut.testConfigurations(estimator, y_c_, y_c_test, w_list, ds_list, ds_test, kernel_names_2)"
   ]
  },
  {
   "cell_type": "code",
   "execution_count": null,
   "metadata": {},
   "outputs": [],
   "source": [
    "w_dict"
   ]
  },
  {
   "cell_type": "code",
   "execution_count": null,
   "metadata": {},
   "outputs": [],
   "source": [
    "result1.performancesFeatures()"
   ]
  },
  {
   "cell_type": "code",
   "execution_count": null,
   "metadata": {
    "scrolled": true
   },
   "outputs": [],
   "source": [
    "result13 = sampler.sample(kernel_type_3, estimator, ds_list, y_c_, valid_fold = 3, verbose=True)"
   ]
  },
  {
   "cell_type": "code",
   "execution_count": null,
   "metadata": {},
   "outputs": [],
   "source": [
    "w_dict, w_list = result1.votingOverCA(ds_names, kernel_names_3)\n",
    "ut.testConfigurations(estimator, y_c_, y_c_test, w_list, ds_list, ds_test, kernel_names_3)"
   ]
  },
  {
   "cell_type": "code",
   "execution_count": null,
   "metadata": {},
   "outputs": [],
   "source": [
    "w_dict"
   ]
  },
  {
   "cell_type": "code",
   "execution_count": null,
   "metadata": {
    "scrolled": true
   },
   "outputs": [],
   "source": [
    "result13.performancesFeatures()"
   ]
  },
  {
   "cell_type": "markdown",
   "metadata": {},
   "source": [
    "## Origin Data  Centering and Normalization"
   ]
  },
  {
   "cell_type": "code",
   "execution_count": null,
   "metadata": {},
   "outputs": [],
   "source": [
    "sampler = ms.mySampler(n_splits=3, test_size=.25, centering = True, normalizing = True)"
   ]
  },
  {
   "cell_type": "code",
   "execution_count": null,
   "metadata": {},
   "outputs": [],
   "source": [
    "result1 = sampler.sample(kernel_type_1, estimator, ds_list, y_c_, valid_fold = 3, verbose=True)"
   ]
  },
  {
   "cell_type": "code",
   "execution_count": null,
   "metadata": {},
   "outputs": [],
   "source": [
    "w_dict, w_list = result1.votingOverCA(ds_names, kernel_names_1)\n",
    "ut.testConfigurations(estimator, y_c_, y_c_test, w_list, ds_list, ds_test, kernel_names_1)"
   ]
  },
  {
   "cell_type": "code",
   "execution_count": null,
   "metadata": {},
   "outputs": [],
   "source": [
    "w_dict"
   ]
  },
  {
   "cell_type": "code",
   "execution_count": null,
   "metadata": {},
   "outputs": [],
   "source": [
    "result1.performancesFeatures()"
   ]
  },
  {
   "cell_type": "code",
   "execution_count": null,
   "metadata": {},
   "outputs": [],
   "source": [
    "result1 = sampler.sample(kernel_type_2, estimator, ds_list, y_c_, valid_fold = 3, verbose=True)"
   ]
  },
  {
   "cell_type": "code",
   "execution_count": null,
   "metadata": {},
   "outputs": [],
   "source": [
    "w_dict, w_list = result1.votingOverCA(ds_names, kernel_names_2)\n",
    "ut.testConfigurations(estimator, y_c_, y_c_test, w_list, ds_list, ds_test, kernel_names_2)"
   ]
  },
  {
   "cell_type": "code",
   "execution_count": null,
   "metadata": {},
   "outputs": [],
   "source": [
    "w_dict"
   ]
  },
  {
   "cell_type": "code",
   "execution_count": null,
   "metadata": {},
   "outputs": [],
   "source": [
    "result1.performancesFeatures()"
   ]
  },
  {
   "cell_type": "code",
   "execution_count": null,
   "metadata": {
    "scrolled": true
   },
   "outputs": [],
   "source": [
    "result13 = sampler.sample(kernel_type_3, estimator, ds_list, y_c_, valid_fold = 3, verbose=True)"
   ]
  },
  {
   "cell_type": "code",
   "execution_count": null,
   "metadata": {},
   "outputs": [],
   "source": [
    "w_dict, w_list = result1.votingOverCA(ds_names, kernel_names_3)\n",
    "ut.testConfigurations(estimator, y_c_, y_c_test, w_list, ds_list, ds_test, kernel_names_3)"
   ]
  },
  {
   "cell_type": "code",
   "execution_count": null,
   "metadata": {},
   "outputs": [],
   "source": [
    "w_dict"
   ]
  },
  {
   "cell_type": "code",
   "execution_count": null,
   "metadata": {
    "scrolled": true
   },
   "outputs": [],
   "source": [
    "result13.performancesFeatures()"
   ]
  },
  {
   "cell_type": "markdown",
   "metadata": {},
   "source": [
    "## Normalization, Kernel Normalization"
   ]
  },
  {
   "cell_type": "code",
   "execution_count": null,
   "metadata": {},
   "outputs": [],
   "source": [
    "sampler = ms.mySampler(n_splits=3, test_size=.25, normalizing = True, normalize_kernels = True)"
   ]
  },
  {
   "cell_type": "code",
   "execution_count": null,
   "metadata": {},
   "outputs": [],
   "source": [
    "result1 = sampler.sample(kernel_type_1, estimator, ds_list, y_c_, valid_fold = 3, verbose=True)"
   ]
  },
  {
   "cell_type": "code",
   "execution_count": null,
   "metadata": {},
   "outputs": [],
   "source": [
    "w_dict, w_list = result1.votingOverCA(ds_names, kernel_names_1)\n",
    "ut.testConfigurations(estimator, y_c_, y_c_test, w_list, ds_list, ds_test, kernel_names_1)"
   ]
  },
  {
   "cell_type": "code",
   "execution_count": null,
   "metadata": {},
   "outputs": [],
   "source": [
    "w_dict"
   ]
  },
  {
   "cell_type": "code",
   "execution_count": null,
   "metadata": {},
   "outputs": [],
   "source": [
    "result1.performancesFeatures()"
   ]
  },
  {
   "cell_type": "code",
   "execution_count": null,
   "metadata": {},
   "outputs": [],
   "source": [
    "result1 = sampler.sample(kernel_type_2, estimator, ds_list, y_c_, valid_fold = 3, verbose=True)"
   ]
  },
  {
   "cell_type": "code",
   "execution_count": null,
   "metadata": {},
   "outputs": [],
   "source": [
    "w_dict, w_list = result1.votingOverCA(ds_names, kernel_names_2)\n",
    "ut.testConfigurations(estimator, y_c_, y_c_test, w_list, ds_list, ds_test, kernel_names_2)"
   ]
  },
  {
   "cell_type": "code",
   "execution_count": null,
   "metadata": {},
   "outputs": [],
   "source": [
    "w_dict"
   ]
  },
  {
   "cell_type": "code",
   "execution_count": null,
   "metadata": {},
   "outputs": [],
   "source": [
    "result1.performancesFeatures()"
   ]
  },
  {
   "cell_type": "code",
   "execution_count": null,
   "metadata": {
    "scrolled": true
   },
   "outputs": [],
   "source": [
    "result13 = sampler.sample(kernel_type_3, estimator, ds_list, y_c_, valid_fold = 3, verbose=True)"
   ]
  },
  {
   "cell_type": "code",
   "execution_count": null,
   "metadata": {},
   "outputs": [],
   "source": [
    "w_dict, w_list = result1.votingOverCA(ds_names, kernel_names_3)\n",
    "ut.testConfigurations(estimator, y_c_, y_c_test, w_list, ds_list, ds_test, kernel_names_3)"
   ]
  },
  {
   "cell_type": "code",
   "execution_count": null,
   "metadata": {},
   "outputs": [],
   "source": [
    "w_dict"
   ]
  },
  {
   "cell_type": "code",
   "execution_count": null,
   "metadata": {
    "scrolled": true
   },
   "outputs": [],
   "source": [
    "result13.performancesFeatures()"
   ]
  },
  {
   "cell_type": "markdown",
   "metadata": {},
   "source": [
    "## Centering, Kernel Normalization"
   ]
  },
  {
   "cell_type": "code",
   "execution_count": null,
   "metadata": {},
   "outputs": [],
   "source": [
    "sampler = ms.mySampler(n_splits=3, test_size=.25, centering = True, normalize_kernels = True)"
   ]
  },
  {
   "cell_type": "code",
   "execution_count": null,
   "metadata": {},
   "outputs": [],
   "source": [
    "result1 = sampler.sample(kernel_type_1, estimator, ds_list, y_c_, valid_fold = 3, verbose=True)"
   ]
  },
  {
   "cell_type": "code",
   "execution_count": null,
   "metadata": {},
   "outputs": [],
   "source": [
    "w_dict, w_list = result1.votingOverCA(ds_names, kernel_names_1)\n",
    "ut.testConfigurations(estimator, y_c_, y_c_test, w_list, ds_list, ds_test, kernel_names_1)"
   ]
  },
  {
   "cell_type": "code",
   "execution_count": null,
   "metadata": {},
   "outputs": [],
   "source": [
    "w_dict"
   ]
  },
  {
   "cell_type": "code",
   "execution_count": null,
   "metadata": {},
   "outputs": [],
   "source": [
    "result1.performancesFeatures()"
   ]
  },
  {
   "cell_type": "code",
   "execution_count": null,
   "metadata": {},
   "outputs": [],
   "source": [
    "result1 = sampler.sample(kernel_type_2, estimator, ds_list, y_c_, valid_fold = 3, verbose=True)"
   ]
  },
  {
   "cell_type": "code",
   "execution_count": null,
   "metadata": {},
   "outputs": [],
   "source": [
    "w_dict, w_list = result1.votingOverCA(ds_names, kernel_names_2)\n",
    "ut.testConfigurations(estimator, y_c_, y_c_test, w_list, ds_list, ds_test, kernel_names_2)"
   ]
  },
  {
   "cell_type": "code",
   "execution_count": null,
   "metadata": {},
   "outputs": [],
   "source": [
    "w_dict"
   ]
  },
  {
   "cell_type": "code",
   "execution_count": null,
   "metadata": {},
   "outputs": [],
   "source": [
    "result1.performancesFeatures()"
   ]
  },
  {
   "cell_type": "code",
   "execution_count": null,
   "metadata": {
    "scrolled": true
   },
   "outputs": [],
   "source": [
    "result13 = sampler.sample(kernel_type_3, estimator, ds_list, y_c_, valid_fold = 3, verbose=True)"
   ]
  },
  {
   "cell_type": "code",
   "execution_count": null,
   "metadata": {},
   "outputs": [],
   "source": [
    "w_dict, w_list = result1.votingOverCA(ds_names, kernel_names_3)\n",
    "ut.testConfigurations(estimator, y_c_, y_c_test, w_list, ds_list, ds_test, kernel_names_3)"
   ]
  },
  {
   "cell_type": "code",
   "execution_count": null,
   "metadata": {},
   "outputs": [],
   "source": [
    "w_dict"
   ]
  },
  {
   "cell_type": "code",
   "execution_count": null,
   "metadata": {
    "scrolled": true
   },
   "outputs": [],
   "source": [
    "result13.performancesFeatures()"
   ]
  },
  {
   "cell_type": "markdown",
   "metadata": {},
   "source": [
    "## Centering, Normalization, Kernel Normalization"
   ]
  },
  {
   "cell_type": "code",
   "execution_count": null,
   "metadata": {},
   "outputs": [],
   "source": [
    "sampler = ms.mySampler(n_splits=3, test_size=.25, centering = True, normalizing = True, normalize_kernels = True)"
   ]
  },
  {
   "cell_type": "code",
   "execution_count": null,
   "metadata": {},
   "outputs": [],
   "source": [
    "result1 = sampler.sample(kernel_type_1, estimator, ds_list, y_c_, valid_fold = 3, verbose=True)"
   ]
  },
  {
   "cell_type": "code",
   "execution_count": null,
   "metadata": {},
   "outputs": [],
   "source": [
    "w_dict, w_list = result1.votingOverCA(ds_names, kernel_names_1)\n",
    "ut.testConfigurations(estimator, y_c_, y_c_test, w_list, ds_list, ds_test, kernel_names_1)"
   ]
  },
  {
   "cell_type": "code",
   "execution_count": null,
   "metadata": {},
   "outputs": [],
   "source": [
    "w_dict"
   ]
  },
  {
   "cell_type": "code",
   "execution_count": null,
   "metadata": {},
   "outputs": [],
   "source": [
    "result1.performancesFeatures()"
   ]
  },
  {
   "cell_type": "code",
   "execution_count": null,
   "metadata": {},
   "outputs": [],
   "source": [
    "result1 = sampler.sample(kernel_type_2, estimator, ds_list, y_c_, valid_fold = 3, verbose=True)"
   ]
  },
  {
   "cell_type": "code",
   "execution_count": null,
   "metadata": {},
   "outputs": [],
   "source": [
    "w_dict, w_list = result1.votingOverCA(ds_names, kernel_names_2)\n",
    "ut.testConfigurations(estimator, y_c_, y_c_test, w_list, ds_list, ds_test, kernel_names_2)"
   ]
  },
  {
   "cell_type": "code",
   "execution_count": null,
   "metadata": {},
   "outputs": [],
   "source": [
    "w_dict"
   ]
  },
  {
   "cell_type": "code",
   "execution_count": null,
   "metadata": {},
   "outputs": [],
   "source": [
    "result1.performancesFeatures()"
   ]
  },
  {
   "cell_type": "code",
   "execution_count": null,
   "metadata": {
    "scrolled": true
   },
   "outputs": [],
   "source": [
    "result13 = sampler.sample(kernel_type_3, estimator, ds_list, y_c_, valid_fold = 3, verbose=True)"
   ]
  },
  {
   "cell_type": "code",
   "execution_count": null,
   "metadata": {},
   "outputs": [],
   "source": [
    "w_dict, w_list = result1.votingOverCA(ds_names, kernel_names_3)\n",
    "ut.testConfigurations(estimator, y_c_, y_c_test, w_list, ds_list, ds_test, kernel_names_3)"
   ]
  },
  {
   "cell_type": "code",
   "execution_count": null,
   "metadata": {},
   "outputs": [],
   "source": [
    "w_dict"
   ]
  },
  {
   "cell_type": "code",
   "execution_count": null,
   "metadata": {
    "scrolled": true
   },
   "outputs": [],
   "source": [
    "result13.performancesFeatures()"
   ]
  },
  {
   "cell_type": "markdown",
   "metadata": {},
   "source": [
    "## L2 Penalty, Centering, K-Normalization"
   ]
  },
  {
   "cell_type": "code",
   "execution_count": null,
   "metadata": {},
   "outputs": [],
   "source": [
    "sampler = ms.mySampler(n_splits=3, test_size=0.25, lamb = 0.7, centering = True, normalize_kernels = False)"
   ]
  },
  {
   "cell_type": "code",
   "execution_count": null,
   "metadata": {},
   "outputs": [],
   "source": [
    "result1 = sampler.sample(kernel_type_1, estimator, ds_list, y_c_, valid_fold = 3, verbose=True)"
   ]
  },
  {
   "cell_type": "code",
   "execution_count": null,
   "metadata": {},
   "outputs": [],
   "source": [
    "w_dict, w_list = result1.votingOverCA(ds_names, kernel_names_1)\n",
    "ut.testConfigurations(estimator, y_c_, y_c_test, w_list, ds_list, ds_test, kernel_names_1)"
   ]
  },
  {
   "cell_type": "code",
   "execution_count": null,
   "metadata": {},
   "outputs": [],
   "source": [
    "w_dict"
   ]
  },
  {
   "cell_type": "code",
   "execution_count": null,
   "metadata": {},
   "outputs": [],
   "source": [
    "result1.performancesFeatures()"
   ]
  },
  {
   "cell_type": "code",
   "execution_count": null,
   "metadata": {},
   "outputs": [],
   "source": [
    "result1 = sampler.sample(kernel_type_2, estimator, ds_list, y_c_, valid_fold = 3, verbose=True)"
   ]
  },
  {
   "cell_type": "code",
   "execution_count": null,
   "metadata": {},
   "outputs": [],
   "source": [
    "w_dict, w_list = result1.votingOverCA(ds_names, kernel_names_2)\n",
    "ut.testConfigurations(estimator, y_c_, y_c_test, w_list, ds_list, ds_test, kernel_names_2)"
   ]
  },
  {
   "cell_type": "code",
   "execution_count": null,
   "metadata": {},
   "outputs": [],
   "source": [
    "w_dict"
   ]
  },
  {
   "cell_type": "code",
   "execution_count": null,
   "metadata": {},
   "outputs": [],
   "source": [
    "result1.performancesFeatures()"
   ]
  },
  {
   "cell_type": "code",
   "execution_count": null,
   "metadata": {
    "scrolled": true
   },
   "outputs": [],
   "source": [
    "result13 = sampler.sample(kernel_type_3, estimator, ds_list, y_c_, valid_fold = 3, verbose=True)"
   ]
  },
  {
   "cell_type": "code",
   "execution_count": null,
   "metadata": {},
   "outputs": [],
   "source": [
    "w_dict, w_list = result1.votingOverCA(ds_names, kernel_names_3)\n",
    "ut.testConfigurations(estimator, y_c_, y_c_test, w_list, ds_list, ds_test, kernel_names_3)"
   ]
  },
  {
   "cell_type": "code",
   "execution_count": null,
   "metadata": {},
   "outputs": [],
   "source": [
    "w_dict"
   ]
  },
  {
   "cell_type": "code",
   "execution_count": null,
   "metadata": {
    "scrolled": true
   },
   "outputs": [],
   "source": [
    "result13.performancesFeatures()"
   ]
  },
  {
   "cell_type": "markdown",
   "metadata": {},
   "source": [
    "## Sparsity in eta, Centering, K-Normalization"
   ]
  },
  {
   "cell_type": "code",
   "execution_count": null,
   "metadata": {},
   "outputs": [],
   "source": [
    "sampler = ms.mySampler(n_splits=3, test_size=0.25, lamb = 0.7, centering = True, normalize_kernels = False)"
   ]
  },
  {
   "cell_type": "code",
   "execution_count": null,
   "metadata": {},
   "outputs": [],
   "source": [
    "result1 = sampler.sample(kernel_type_1, estimator, ds_list, y_c_, valid_fold = 3, verbose=True)"
   ]
  },
  {
   "cell_type": "code",
   "execution_count": null,
   "metadata": {},
   "outputs": [],
   "source": [
    "w_dict, w_list = result1.votingOverCA(ds_names, kernel_names_1)\n",
    "ut.testConfigurations(estimator, y_c_, y_c_test, w_list, ds_list, ds_test, kernel_names_1)"
   ]
  },
  {
   "cell_type": "code",
   "execution_count": null,
   "metadata": {},
   "outputs": [],
   "source": [
    "w_dict"
   ]
  },
  {
   "cell_type": "code",
   "execution_count": null,
   "metadata": {},
   "outputs": [],
   "source": [
    "result1.performancesFeatures()"
   ]
  },
  {
   "cell_type": "code",
   "execution_count": null,
   "metadata": {},
   "outputs": [],
   "source": [
    "result1 = sampler.sample(kernel_type_2, estimator, ds_list, y_c_, valid_fold = 3, verbose=True)"
   ]
  },
  {
   "cell_type": "code",
   "execution_count": null,
   "metadata": {},
   "outputs": [],
   "source": [
    "w_dict, w_list = result1.votingOverCA(ds_names, kernel_names_2)\n",
    "ut.testConfigurations(estimator, y_c_, y_c_test, w_list, ds_list, ds_test, kernel_names_2)"
   ]
  },
  {
   "cell_type": "code",
   "execution_count": null,
   "metadata": {},
   "outputs": [],
   "source": [
    "w_dict"
   ]
  },
  {
   "cell_type": "code",
   "execution_count": null,
   "metadata": {},
   "outputs": [],
   "source": [
    "result1.performancesFeatures()"
   ]
  },
  {
   "cell_type": "code",
   "execution_count": null,
   "metadata": {
    "scrolled": true
   },
   "outputs": [],
   "source": [
    "result13 = sampler.sample(kernel_type_3, estimator, ds_list, y_c_, valid_fold = 3, verbose=True)"
   ]
  },
  {
   "cell_type": "code",
   "execution_count": null,
   "metadata": {},
   "outputs": [],
   "source": [
    "w_dict, w_list = result1.votingOverCA(ds_names, kernel_names_3)\n",
    "ut.testConfigurations(estimator, y_c_, y_c_test, w_list, ds_list, ds_test, kernel_names_3)"
   ]
  },
  {
   "cell_type": "code",
   "execution_count": null,
   "metadata": {},
   "outputs": [],
   "source": [
    "w_dict"
   ]
  },
  {
   "cell_type": "code",
   "execution_count": null,
   "metadata": {
    "scrolled": true
   },
   "outputs": [],
   "source": [
    "result13.performancesFeatures()"
   ]
  }
 ],
 "metadata": {
  "kernelspec": {
   "display_name": "Python 3",
   "language": "python",
   "name": "python3"
  },
  "language_info": {
   "codemirror_mode": {
    "name": "ipython",
    "version": 3
   },
   "file_extension": ".py",
   "mimetype": "text/x-python",
   "name": "python",
   "nbconvert_exporter": "python",
   "pygments_lexer": "ipython3",
   "version": "3.6.6"
  }
 },
 "nbformat": 4,
 "nbformat_minor": 2
}
