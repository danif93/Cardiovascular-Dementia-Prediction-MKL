{
 "cells": [
  {
   "cell_type": "markdown",
   "metadata": {},
   "source": [
    "# BCB Final Project - a.y. 17/18"
   ]
  },
  {
   "cell_type": "markdown",
   "metadata": {},
   "source": [
    "### Fiaschi Lorenzo\n",
    "### Franco Danilo"
   ]
  },
  {
   "cell_type": "markdown",
   "metadata": {},
   "source": [
    "<ol> <b>TODO</b>\n",
    "    <li>problem presentation (dataset, objectives)</li>\n",
    "    <li>mkl procedure overview</li>\n",
    "    <li>chosen model description (alignment model, cortes approach)</li>\n",
    "    <li>algorithm pipeline (with a major point in the cross-validation decisions, how it is shuffled...)</li>\n",
    "    <li>approach settings</li>\n",
    "    <li>performances over toy (with description on how it is generated</li>\n",
    "    <li>integration needed? comparison with single dataset model</li>\n",
    "    <li>performances over real dataset</li>\n",
    "    <li>what we can learn from the best configuration (sparsity)</li>\n",
    "    <li>kernel integration on the only meaningful dataset (clinical)</li>\n",
    "    <li>overview on the regression approach</li>\n",
    "    <li>regression performances with data integration</li>\n",
    "    <li>single kernel approach after regression results</li>\n",
    "    <li>final comments over the results</li>\n",
    "</ol>"
   ]
  }
 ],
 "metadata": {
  "kernelspec": {
   "display_name": "Python 3",
   "language": "python",
   "name": "python3"
  },
  "language_info": {
   "codemirror_mode": {
    "name": "ipython",
    "version": 3
   },
   "file_extension": ".py",
   "mimetype": "text/x-python",
   "name": "python",
   "nbconvert_exporter": "python",
   "pygments_lexer": "ipython3",
   "version": "3.7.0"
  }
 },
 "nbformat": 4,
 "nbformat_minor": 2
}
