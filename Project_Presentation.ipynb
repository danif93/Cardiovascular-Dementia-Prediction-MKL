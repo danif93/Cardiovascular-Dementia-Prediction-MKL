{
 "cells": [
  {
   "cell_type": "markdown",
   "metadata": {},
   "source": [
    "# BCB Final Project - a.y. 17/18"
   ]
  },
  {
   "cell_type": "markdown",
   "metadata": {},
   "source": [
    "### <i>Fiaschi Lorenzo, Franco Danilo</i>"
   ]
  },
  {
   "cell_type": "markdown",
   "metadata": {},
   "source": [
    "<ol> <b>TODO</b>\n",
    "    <li><strike>problem presentation (dataset, objectives)</strike></li>\n",
    "    <li><strike>preprocessing</strike></li>\n",
    "    <li><strike>mkl procedure overview</strike></li>\n",
    "    <li><strike>chosen model description (alignment model, cortes approach)</strike></li>\n",
    "    <li>algorithm pipeline (with a major point in the cross-validation decisions, how it is shuffled...)</li>\n",
    "    <li>approach settings</li>\n",
    "    <li>performances over toy (with description on how it is generated</li>\n",
    "    <li>integration needed? comparison with single dataset model</li>\n",
    "    <li>performances over real dataset</li>\n",
    "    <li>what we can learn from the best configuration (sparsity)</li>\n",
    "    <li>kernel integration on the only meaningful dataset (clinical)</li>\n",
    "    <li>overview on the regression approach</li>\n",
    "    <li>regression performances with data integration</li>\n",
    "    <li>single kernel approach after regression results</li>\n",
    "    <li>final comments over the results</li>\n",
    "</ol>"
   ]
  },
  {
   "cell_type": "markdown",
   "metadata": {},
   "source": [
    "### 1. The Problem\n",
    "The dataset consists of 2741 aligned patients affected by Diabetes; it is structured in 3 differents tables:\n",
    "<ol>\n",
    "    <li>Genetic Features, 347 - Related to the SNP of 344 genes + 3 composite genes scores [blood pressure, alzheimer, CVD]\n",
    "    </li><li>Retina's Features, 157 - Engineered features extracted from patients' retinas</li>\n",
    "    <li>Clinical Features, 15 - General patients' information</li>\n",
    "</ol>\n",
    "The objective of the study is to find a model that is able to predict whether a patient will incurr in either cardiovascular failures or in episodes of dementia.<br>\n",
    "In the positive case, it is also aked to predict at which age this episodes will occurr.<br>\n",
    "In order to learn such model, the output dataset has been provided; it is composed by two information, both for the occurrence of a cardiovascular failure and for the dementia episode: whether the episode has happened or not and at what age."
   ]
  },
  {
   "cell_type": "markdown",
   "metadata": {},
   "source": [
    "### 2. Data Preprocessing\n",
    "In order to be fed, the tables have been cleaned as follows:\n",
    "<ul>\n",
    "    <li>\n",
    "        <b><i>NaN Filling</i></b>: \n",
    "        <ul>\n",
    "            <li>\n",
    "                Clinical DS: \n",
    "                <ul>\n",
    "                    <li>\n",
    "                        [\"therapy\",\"gender\",\"precedent CVD\", \"smoker\"] $\\rightarrow$ most frequent;\n",
    "                    </li>\n",
    "                    <li>\n",
    "                        Others $\\rightarrow$ mean.\n",
    "                    </li>\n",
    "                </ul>\n",
    "            <li>\n",
    "                Genetic DS: \n",
    "                <ul>\n",
    "                    <li>\n",
    "                        [composite gene scores] $\\rightarrow$ mean;\n",
    "                    </li>\n",
    "                    <li>\n",
    "                        Others $\\rightarrow$ min.\n",
    "                    </li>\n",
    "                </ul>\n",
    "            <li>\n",
    "                Vampire DS: \n",
    "                <ul>\n",
    "                    <li>\n",
    "                        All $\\rightarrow$ mean.\n",
    "                    </li>\n",
    "                </ul>\n",
    "        </ul>\n",
    "    </li>\n",
    "    <li>\n",
    "        <b><i>One-Hot Encoding</i></b>:\n",
    "        <ul>\n",
    "            <li>Clinical DS:\n",
    "                <ul>\n",
    "                    <li>\n",
    "                        \"therapy\" and \"Apoe4Presence\".\n",
    "                    </li>\n",
    "                </ul>\n",
    "            </li>\n",
    "        </ul>\n",
    "    </li>\n",
    "    <li><b><i>Boolean: from binary to symmetric</i></b>: \n",
    "        <ul>\n",
    "            <li>Clinical DS:\n",
    "                <ul>\n",
    "                    <li>\n",
    "                        [\"gender\",\"precedent CVD\", \"smoker\"] $\\rightarrow$ from [0,1] to [-1,1].\n",
    "                    </li>\n",
    "                </ul>\n",
    "            </li>\n",
    "            <li>Outputs:\n",
    "                <ul>\n",
    "                    <li>\n",
    "                        [\"cvd_fail\",\"dement_fail\"] $\\rightarrow$ from [0,1] to [-1,1].\n",
    "                    </li>\n",
    "                </ul>\n",
    "            </li>\n",
    "        </ul>\n",
    "    </li>\n",
    "</ul>"
   ]
  },
  {
   "cell_type": "markdown",
   "metadata": {},
   "source": [
    "### 3. Multiple Kernel Learning\n",
    "<b>Multiple Kernel Learning</b> refers to a set of machine learning methods that use a predefined set of kernels and learn an optimal linear or non-linear combination of kernels as part of the algorithm.<br>\n",
    "Reasons to use multiple kernel learning include:\n",
    "<ul>\n",
    "    <li>the ability to select for an optimal kernel and parameters from a larger set of kernels, reducing bias due to kernel selection while allowing for more automated machine learning methods;\n",
    "    </li>\n",
    "    <li>combining data from different sources (e.g. sound and images from a video) that have different notions of similarity and thus require different kernels;\n",
    "    </li>\n",
    "</ul>\n",
    "<img src='others/mkl.png'>"
   ]
  },
  {
   "cell_type": "code",
   "execution_count": 1,
   "metadata": {},
   "outputs": [
    {
     "data": {
      "application/javascript": [
       "MathJax.Hub.Config({\n",
       "    TeX: { equationNumbers: { autoNumber: \"AMS\" } }\n",
       "});"
      ],
      "text/plain": [
       "<IPython.core.display.Javascript object>"
      ]
     },
     "metadata": {},
     "output_type": "display_data"
    }
   ],
   "source": [
    "%%javascript\n",
    "MathJax.Hub.Config({\n",
    "    TeX: { equationNumbers: { autoNumber: \"AMS\" } }\n",
    "});"
   ]
  },
  {
   "cell_type": "markdown",
   "metadata": {},
   "source": [
    "### 4. The Model\n",
    "<ul>\n",
    "    <li><b><i>Target Function</i></b> $\\rightarrow$ Similarity-based function; it uses a similarity metric between the combined kernel matrix and an optimum kernel matrix calculated from the training data, in order to select the combination function parameters that maximize the similarity. The similarity between two kernel matrices can be calculated using kernel alignment, Euclidean distance, Kullback-Leibler (KL) divergence, or any other similarity measure.\n",
    "    </li>\n",
    "    <li><b><i>Training Method</i></b> $\\rightarrow$ One-step method; it calculates both the combination function parameters and the parameters of the combined base learner in a single pass. One can use a sequential approach or a simultaneous approach. In the sequential approach, the combination function parameters are determined first, and then a kernel-based learner is trained using the combined kernel. In the simultaneous approach, both set of parameters are learned together.\n",
    "    </li>\n",
    "</ul>\n",
    "The chosen algorithm is called <i>Centered-kernel alignment</i> [1] and its main purpose is to compute a set of $P$ kernels $K_i$, $i \\, = \\, 1...P$ from the datasets and to use a linear combination of them to approximate an ideal kernel. Then the obtained approximated kernel can be used for both classification and regression purposes. The functional is:<br>\n",
    "\n",
    "\\begin{equation}\n",
    "\\max\\limits_{\\eta \\in \\mathcal{M}} CA(K_{\\eta}, IK)\n",
    "\\label{eq:problem}\n",
    "\\end{equation}\n",
    "\n",
    "where $IK = y^T y$ is the ideal kernel, $K_{\\eta} = \\sum\\limits_{i=1}^P K_i \\eta_i$ is its approximation and $\\mathcal{M}=\\{\\eta : ||\\eta||_2 = 1\\}$ imposing $\\eta$ being a unit norm vector. In turn, $CA(K_1, K_2)$ is the defined as\n",
    "\n",
    "\\begin{equation*}\n",
    "CA(K_1^c, K_2^c) = \\frac{\\langle K_1^c, K_2^c \\rangle_F}{\\sqrt{\\langle K_1^c, K_1^c\\rangle_F \\; \\langle K_2^c, K_2^c \\rangle_F}}\n",
    "\\end{equation*}\n",
    "\n",
    "with $K^c$ is the centered version of $K$ and can be calculated as\n",
    "\n",
    "\\begin{equation*}\n",
    "K^c = K - \\frac{1}{N} 11^TK - \\frac{1}{N} K11^T + \\frac{1}{N^2} \\left(1^TK1\\right)11^T\n",
    "\\end{equation*}\n",
    "\n",
    "where $1$ is the vector of ones with proper dimension.\n",
    "\n",
    "The optimization problem \\eqref{eq:problem} has then a unique analytical solution\n",
    "\n",
    "\\begin{equation}\n",
    "\\eta = \\frac{M^{-1}a}{||M^{-1}a||_2}\n",
    "\\label{eq:problem_solution}\n",
    "\\end{equation}\n",
    "\n",
    "where $M = \\{\\langle K_m, K_h\\rangle_F\\}_{m,h \\, = \\, 1}^P$ and $a = \\{\\langle K_m, IK\\rangle_F\\}_{m \\, = \\, 1}^P$."
   ]
  },
  {
   "cell_type": "markdown",
   "metadata": {},
   "source": [
    "### 5. The Algorithm\n",
    "\n",
    "<ol>\n",
    "    <li><i>Datasets loading</i> $\\rightarrow$ (Clinical, Genetic, Vampire, Outputs);</li>\n",
    "    <li><i>Outer split</i> $\\rightarrow$ 75% training + 25% test for final testing purposes;</li>\n",
    "    <li><i>Kernel definition</i> $\\rightarrow$ dictionary list: $[\\{\\;<kernelType1>:[parameter list],\\;<kernelType2>:[parameter list],\\;\\cdots\\;\\},\\;\\cdots\\;]$</li>\n",
    "    <li><i>Sampling rounds</i> $\\rightarrow$ 3 rounds of 75% training + 25% mid test (extracted from the previous 75% of training) for statistical stability:\n",
    "        <ol type=\"i\">\n",
    "            <li></li>\n",
    "        </ol>\n",
    "    </li>\n",
    "</ol>\n",
    "\n",
    "(the sampling results will be processed in order to find the best configuration over one dictionary):"
   ]
  },
  {
   "cell_type": "markdown",
   "metadata": {},
   "source": [
    "### References\n",
    "[1] Corinna Cortes, Mehryar Mohri, and Rostamizadeh Afshin. Two-stage learning kernel algorithms. In Proceedings of the 27th International Conference on Machine Learning, 2010a."
   ]
  },
  {
   "cell_type": "code",
   "execution_count": null,
   "metadata": {},
   "outputs": [],
   "source": []
  }
 ],
 "metadata": {
  "kernelspec": {
   "display_name": "Python 3",
   "language": "python",
   "name": "python3"
  },
  "language_info": {
   "codemirror_mode": {
    "name": "ipython",
    "version": 3
   },
   "file_extension": ".py",
   "mimetype": "text/x-python",
   "name": "python",
   "nbconvert_exporter": "python",
   "pygments_lexer": "ipython3",
   "version": "3.6.6"
  }
 },
 "nbformat": 4,
 "nbformat_minor": 2
}
