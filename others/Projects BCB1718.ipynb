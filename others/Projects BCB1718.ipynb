{
 "cells": [
  {
   "cell_type": "markdown",
   "metadata": {},
   "source": [
    "# Projects\n",
    "\n",
    "We require you to work in group. Given the numbers you have to divide in three groups: two groups with two members and one with three. \n",
    "\n",
    "Each group can pick one of the proposition below or propose another evaluation pipeline for the problem at hand. Remember that we are giving you a research problem and we do not know which one of these approaches will work best. We will discover it with you. \n",
    "\n",
    "\n",
    "## The problem\n",
    "\n",
    "We have three data sets obtained on the same diabetic patients: a data set of engineered features of the eye, a data set of genomic data derived from SNPs and a data set of deep learning features learned on the images of the eye.\n",
    "\n",
    "The question is: are we able to integrate these three data sets to better predict a cardiovascular or a dementia event? \n",
    "\n",
    "\n",
    "All the analysis pipeline we propose require some pre-processing of the data, some code implementation for the algorithm you want to use and analysis on the results. We would like to obtain some answer as:\n",
    "    - a dataset is more informative than the others\n",
    "    - within a dataset there are some features that are more informative than the others \n"
   ]
  },
  {
   "cell_type": "markdown",
   "metadata": {},
   "source": [
    "## 1. Sparse group lasso\n",
    "\n",
    "Sparse group lasso is an extension of the group lasso that we saw in class. Not only it tries to be sparse in the groups, selecting only those who are really predictive. This method is sparse also in the selection of the features within a group. This makes the results more interpretable. \n",
    "\n",
    "http://faculty.washington.edu/nrsimon/SGLpaper.pdf\n",
    "<img src='grouplasso.jpg'\\>\n",
    "\n",
    "This project requires you to implement the minimization algorithm for the functional in python, the application of the method on all the datasets together, where the groups are the belonging to a certain dataset. "
   ]
  },
  {
   "cell_type": "markdown",
   "metadata": {},
   "source": [
    "## 2. Multiple kernel learning\n",
    "\n",
    "Multiple kernel learning is a famous method for data integration in which you build, for each different data source, a kernel of your data. At this point the kernels are integrated into a unique kernels that is after used for prediction. \n",
    "\n",
    "The peculiarity of this method is that if you are sparse in the combination of the kernels you have information on the more predictive data source. \n",
    "\n",
    "http://jmlr.csail.mit.edu/papers/volume12/gonen11a/gonen11a.pdf \n",
    "https://en.wikipedia.org/wiki/Multiple_kernel_learning\n",
    "\n",
    "<img src='mkl.png'\\>\n",
    "\n",
    "This project requires you to implement the minimization algorithm for the functional in python, study which similarity measures are the best for constructing the kernels and then apply everything on the data.  \n"
   ]
  },
  {
   "cell_type": "markdown",
   "metadata": {},
   "source": [
    "## 3. Majority vote\n",
    "\n",
    "In this project you will use standard sparse methods for classification on the different datasets. In this way you can obtain statistics on the most informative features separately for each of them. \n",
    "\n",
    "In the end the information on the classification is put together by a consensus between the datasets. You can look at the figure below ar at the code here [VotingClassifier](http://scikit-learn.org/stable/modules/generated/sklearn.ensemble.VotingClassifier.html) to get an idea. \n",
    "\n",
    "<img src=\"consensus.png\" width=\"70%\" \\>\n",
    "\n",
    "\n",
    "This project requires you to implement another version of the VotingClassifier that do not put together different estimators on the same datasets but that is also able of considering multiple datasets. \n",
    "Then you will apply it on data."
   ]
  },
  {
   "cell_type": "markdown",
   "metadata": {},
   "source": [
    "## 4. Anything that you would like to propose to solve the problem.."
   ]
  },
  {
   "cell_type": "code",
   "execution_count": null,
   "metadata": {},
   "outputs": [],
   "source": []
  }
 ],
 "metadata": {
  "kernelspec": {
   "display_name": "Python 3",
   "language": "python",
   "name": "python3"
  },
  "language_info": {
   "codemirror_mode": {
    "name": "ipython",
    "version": 3
   },
   "file_extension": ".py",
   "mimetype": "text/x-python",
   "name": "python",
   "nbconvert_exporter": "python",
   "pygments_lexer": "ipython3",
   "version": "3.6.5"
  }
 },
 "nbformat": 4,
 "nbformat_minor": 2
}
