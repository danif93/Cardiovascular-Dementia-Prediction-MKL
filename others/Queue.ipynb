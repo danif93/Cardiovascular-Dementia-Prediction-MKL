{
 "cells": [
  {
   "cell_type": "code",
   "execution_count": 1,
   "metadata": {},
   "outputs": [],
   "source": [
    "from threading import Thread\n",
    "from queue import Queue"
   ]
  },
  {
   "cell_type": "code",
   "execution_count": 2,
   "metadata": {},
   "outputs": [],
   "source": [
    "def child(queue, num):\n",
    "    \n",
    "    num *= num\n",
    "    print(\"pre queue\")\n",
    "    queue.put(num)\n",
    "    print(\"post queue\")"
   ]
  },
  {
   "cell_type": "code",
   "execution_count": 19,
   "metadata": {},
   "outputs": [
    {
     "name": "stdout",
     "output_type": "stream",
     "text": [
      "pre queuepre queuepre join\n",
      "post queue\n",
      "\n",
      "\n",
      "post queue\n",
      "post join\n",
      "not empty\n",
      "4\n",
      "not empty\n",
      "1\n"
     ]
    }
   ],
   "source": [
    "queue = Queue(maxsize=2)\n",
    "t1 = Thread(target = child, args = (queue, 1))\n",
    "t2 = Thread(target = child, args = (queue, 2))\n",
    "t1.start()\n",
    "t2.start()\n",
    "print(\"pre join\")\n",
    "t1.join()\n",
    "t2.join()\n",
    "print(\"post join\")\n",
    "\n",
    "while queue.qsize() > 0:\n",
    "    print(\"not empty\")\n",
    "    print(queue.get())"
   ]
  },
  {
   "cell_type": "code",
   "execution_count": 16,
   "metadata": {},
   "outputs": [
    {
     "name": "stdout",
     "output_type": "stream",
     "text": [
      "False\n"
     ]
    }
   ],
   "source": [
    "print(~queue.qsize() > 0)"
   ]
  },
  {
   "cell_type": "code",
   "execution_count": 10,
   "metadata": {},
   "outputs": [
    {
     "name": "stdout",
     "output_type": "stream",
     "text": [
      "False\n"
     ]
    }
   ],
   "source": [
    "print(~queue.empty() > 0)"
   ]
  },
  {
   "cell_type": "code",
   "execution_count": null,
   "metadata": {},
   "outputs": [],
   "source": []
  }
 ],
 "metadata": {
  "kernelspec": {
   "display_name": "Python 3",
   "language": "python",
   "name": "python3"
  },
  "language_info": {
   "codemirror_mode": {
    "name": "ipython",
    "version": 3
   },
   "file_extension": ".py",
   "mimetype": "text/x-python",
   "name": "python",
   "nbconvert_exporter": "python",
   "pygments_lexer": "ipython3",
   "version": "3.6.6"
  }
 },
 "nbformat": 4,
 "nbformat_minor": 2
}
