{
 "cells": [
  {
   "cell_type": "code",
   "execution_count": 1,
   "metadata": {},
   "outputs": [],
   "source": [
    "import pandas as pd\n",
    "import os\n",
    "import numpy as np\n",
    "\n",
    "import Utils as ut\n",
    "import CortesAlignmentFile as ca\n",
    "import mySampler as ms\n",
    " \n",
    "from sklearn.model_selection import StratifiedShuffleSplit"
   ]
  },
  {
   "cell_type": "code",
   "execution_count": 2,
   "metadata": {},
   "outputs": [],
   "source": [
    "d_clinical = pd.read_csv(os.path.join('data', 'dataset_clinical_cleaned.csv'))\n",
    "#d_genetic = pd.read_csv(os.path.join('data', 'dataset_genetic_cleaned_noOHE.csv'))\n",
    "#d_vampire = pd.read_csv(os.path.join('data', 'dataset_vampire_cleaned.csv'))\n",
    "outputs = pd.read_csv(os.path.join('data', 'outputs_cleaned.csv'))"
   ]
  },
  {
   "cell_type": "markdown",
   "metadata": {},
   "source": [
    "## Dementia"
   ]
  },
  {
   "cell_type": "code",
   "execution_count": 3,
   "metadata": {},
   "outputs": [],
   "source": [
    "y = outputs[\"dement_fail\"].values\n",
    "C = d_clinical.values\n",
    "#G = d_genetic.values\n",
    "#V = d_vampire.values"
   ]
  },
  {
   "cell_type": "code",
   "execution_count": 4,
   "metadata": {},
   "outputs": [],
   "source": [
    "# COMPUTATIONAL COMPLEXITY: Reduce #samples\n",
    "tr_idx, ts_idx = next(StratifiedShuffleSplit(n_splits=1, test_size=0.5).split(C, y))"
   ]
  },
  {
   "cell_type": "code",
   "execution_count": 5,
   "metadata": {},
   "outputs": [],
   "source": [
    "y_ = y[tr_idx]\n",
    "y_test = y[ts_idx]\n",
    "C_ = C[tr_idx]\n",
    "C_test = C[ts_idx]\n",
    "#G_ = G[tr_idx]\n",
    "#G_test = G[ts_idx]\n",
    "#V_ = V[tr_idx]\n",
    "#V_test = V[ts_idx]"
   ]
  },
  {
   "cell_type": "code",
   "execution_count": 6,
   "metadata": {},
   "outputs": [],
   "source": [
    "ds_list = [C_]#, G_, V_]\n",
    "ds_test = [C_test]#, G_test, V_test]\n",
    "ds_names = ['clinic']#, 'genetic', 'vampire']"
   ]
  },
  {
   "cell_type": "markdown",
   "metadata": {},
   "source": [
    "## Basic approach"
   ]
  },
  {
   "cell_type": "code",
   "execution_count": null,
   "metadata": {},
   "outputs": [],
   "source": [
    "kernel_names = ['linear', 'laplacian', 'gaussian']\n",
    "kernel_type = [{'linear':[1], 'laplacian':[0.2, 0.7], 'gaussian':[0.4, 0.7]},\n",
    "               {'linear':[1], 'laplacian':[0.2, 0.7], 'gaussian':[0.5, 1]}]\n",
    "estimator = ca.centeredKernelAlignment\n",
    "sampler = ms.mySampler(n_splits=3, test_size=.35)"
   ]
  },
  {
   "cell_type": "code",
   "execution_count": null,
   "metadata": {},
   "outputs": [],
   "source": [
    "result1 = sampler.sample(kernel_type, estimator, ds_list, y_, valid_fold = 3, verbose=True)"
   ]
  },
  {
   "cell_type": "code",
   "execution_count": null,
   "metadata": {},
   "outputs": [],
   "source": [
    "w_dict, w_list = result1.votingOverCA(ds_names, kernel_names)\n",
    "ut.testConfigurations(estimator, y_, y_test, w_list, ds_list, ds_test, kernel_names)"
   ]
  },
  {
   "cell_type": "code",
   "execution_count": null,
   "metadata": {},
   "outputs": [],
   "source": [
    "w_dict"
   ]
  },
  {
   "cell_type": "code",
   "execution_count": null,
   "metadata": {},
   "outputs": [],
   "source": [
    "result1.performancesFeatures()"
   ]
  },
  {
   "cell_type": "markdown",
   "metadata": {},
   "source": [
    "## Kernel normalization"
   ]
  },
  {
   "cell_type": "code",
   "execution_count": null,
   "metadata": {},
   "outputs": [],
   "source": [
    "kernel_names = ['linear', 'laplacian', 'gaussian']\n",
    "kernel_type = [{'linear':[1], 'laplacian':[0.2, 0.7], 'gaussian':[0.4, 0.7]},\n",
    "               {'linear':[1], 'laplacian':[0.2, 0.7], 'gaussian':[0.5, 1]}]\n",
    "estimator = ca.centeredKernelAlignment\n",
    "sampler = ms.mySampler(n_splits=3, test_size=.35, normalize_kernels = True)"
   ]
  },
  {
   "cell_type": "code",
   "execution_count": null,
   "metadata": {
    "scrolled": true
   },
   "outputs": [],
   "source": [
    "result3 = sampler.sample(kernel_type, estimator, ds_list, y_, valid_fold = 3, verbose=True)"
   ]
  },
  {
   "cell_type": "code",
   "execution_count": null,
   "metadata": {},
   "outputs": [],
   "source": [
    "w_dict, w_list = result3.votingOverCA(ds_names, kernel_names)\n",
    "ut.testConfigurations(estimator, y_, y_test, w_list, ds_list, ds_test, kernel_names)"
   ]
  },
  {
   "cell_type": "code",
   "execution_count": null,
   "metadata": {},
   "outputs": [],
   "source": [
    "result3.performancesFeatures()"
   ]
  },
  {
   "cell_type": "markdown",
   "metadata": {},
   "source": [
    "## Normalized data"
   ]
  },
  {
   "cell_type": "code",
   "execution_count": null,
   "metadata": {},
   "outputs": [],
   "source": [
    "kernel_names = ['linear', 'laplacian', 'gaussian']\n",
    "kernel_type = [{'linear':[1], 'laplacian':[0.2, 0.7], 'gaussian':[0.4, 0.7]},\n",
    "               {'linear':[1], 'laplacian':[0.2, 0.7], 'gaussian':[0.5, 1]}]\n",
    "estimator = ca.centeredKernelAlignment\n",
    "sampler = ms.mySampler(n_splits=3, test_size=.35, normalizing = True)"
   ]
  },
  {
   "cell_type": "code",
   "execution_count": null,
   "metadata": {
    "scrolled": true
   },
   "outputs": [],
   "source": [
    "result4 = sampler.sample(kernel_type, estimator, ds_list, y_, valid_fold = 3, verbose=True, exclusion_list = [[0, 3, 8, 13, 14], list(range(G.shape[1]-3)), []])"
   ]
  },
  {
   "cell_type": "code",
   "execution_count": null,
   "metadata": {},
   "outputs": [],
   "source": [
    "w_dict, w_list = result4.votingOverCA(ds_names, kernel_names)\n",
    "ut.testConfigurations(estimator, y_, y_test, w_list, ds_list, ds_test, kernel_names)"
   ]
  },
  {
   "cell_type": "code",
   "execution_count": null,
   "metadata": {},
   "outputs": [],
   "source": [
    "result4.performancesFeatures()"
   ]
  },
  {
   "cell_type": "markdown",
   "metadata": {},
   "source": [
    "## Origin Data Centering"
   ]
  },
  {
   "cell_type": "code",
   "execution_count": null,
   "metadata": {},
   "outputs": [],
   "source": [
    "kernel_names = ['linear', 'laplacian', 'gaussian']\n",
    "kernel_type = [{'linear':[1], 'laplacian':[0.2, 0.7], 'gaussian':[0.4, 0.7]},\n",
    "               {'linear':[1], 'laplacian':[0.2, 0.7], 'gaussian':[0.5, 1]}]\n",
    "estimator = ca.centeredKernelAlignment\n",
    "sampler = ms.mySampler(n_splits=3, test_size=.35, centering = True)"
   ]
  },
  {
   "cell_type": "code",
   "execution_count": null,
   "metadata": {
    "scrolled": true
   },
   "outputs": [],
   "source": [
    "result5 = sampler.sample(kernel_type, estimator, ds_list, y_, valid_fold = 3, verbose=True, exclusion_list = [[5,6,7,9,10,13,15,16,17,18,19], list(range(G.shape[1]-3)), []])"
   ]
  },
  {
   "cell_type": "code",
   "execution_count": null,
   "metadata": {},
   "outputs": [],
   "source": [
    "w_dict, w_list = result5.votingOverCA(ds_names, kernel_names)\n",
    "ut.testConfigurations(estimator, y_, y_test, w_list, ds_list, ds_test, kernel_names)"
   ]
  },
  {
   "cell_type": "code",
   "execution_count": null,
   "metadata": {
    "scrolled": true
   },
   "outputs": [],
   "source": [
    "result5.performancesFeatures()"
   ]
  },
  {
   "cell_type": "markdown",
   "metadata": {},
   "source": [
    "## Origin Data  Centering and Normalization"
   ]
  },
  {
   "cell_type": "code",
   "execution_count": null,
   "metadata": {},
   "outputs": [],
   "source": [
    "kernel_names = ['linear', 'laplacian', 'gaussian']\n",
    "kernel_type = [{'linear':[1], 'laplacian':[0.2, 0.7], 'gaussian':[0.4, 0.7]},\n",
    "               {'linear':[1], 'laplacian':[0.2, 0.7], 'gaussian':[0.5, 1]}]\n",
    "estimator = ca.centeredKernelAlignment\n",
    "sampler = ms.mySampler(n_splits=3, test_size=.35, centering = True, normalizing = True)"
   ]
  },
  {
   "cell_type": "code",
   "execution_count": null,
   "metadata": {},
   "outputs": [],
   "source": [
    "result6 = sampler.sample(kernel_type, estimator, ds_list, y_, valid_fold = 3, verbose=True, exclusion_list = [[5,6,7,9,10,13,15,16,17,18,19], list(range(G.shape[1]-3)), []])"
   ]
  },
  {
   "cell_type": "code",
   "execution_count": null,
   "metadata": {},
   "outputs": [],
   "source": [
    "w_dict, w_list = result6.votingOverCA(ds_names, kernel_names)\n",
    "ut.testConfigurations(estimator, y_, y_test, w_list, ds_list, ds_test, kernel_names)"
   ]
  },
  {
   "cell_type": "code",
   "execution_count": null,
   "metadata": {
    "scrolled": true
   },
   "outputs": [],
   "source": [
    "result6.performancesFeatures()"
   ]
  },
  {
   "cell_type": "markdown",
   "metadata": {},
   "source": [
    "## Normalization, Kernel Normalization"
   ]
  },
  {
   "cell_type": "code",
   "execution_count": null,
   "metadata": {},
   "outputs": [],
   "source": [
    "kernel_names = ['linear', 'laplacian', 'gaussian']\n",
    "kernel_type = [{'linear':[1], 'laplacian':[0.2, 0.7], 'gaussian':[0.4, 0.7]},\n",
    "               {'linear':[1], 'laplacian':[0.2, 0.7], 'gaussian':[0.5, 1]}]\n",
    "estimator = ca.centeredKernelAlignment\n",
    "sampler = ms.mySampler(n_splits=3, test_size=.35, normalizing = True, normalize_kernels = True)"
   ]
  },
  {
   "cell_type": "code",
   "execution_count": null,
   "metadata": {},
   "outputs": [],
   "source": [
    "result10 = sampler.sample(kernel_type, estimator, ds_list, y_, valid_fold = 3, verbose=True, exclusion_list = [[5,6,7,9,10,13,15,16,17,18,19], list(range(G.shape[1]-3)), []])"
   ]
  },
  {
   "cell_type": "code",
   "execution_count": null,
   "metadata": {},
   "outputs": [],
   "source": [
    "w_dict, w_list = result10.votingOverCA(ds_names, kernel_names)\n",
    "ut.testConfigurations(estimator, y_, y_test, w_list, ds_list, ds_test, kernel_names)"
   ]
  },
  {
   "cell_type": "code",
   "execution_count": null,
   "metadata": {
    "scrolled": false
   },
   "outputs": [],
   "source": [
    "result10.performancesFeatures()"
   ]
  },
  {
   "cell_type": "markdown",
   "metadata": {},
   "source": [
    "## Centering, Kernel Normalization"
   ]
  },
  {
   "cell_type": "code",
   "execution_count": 28,
   "metadata": {},
   "outputs": [],
   "source": [
    "kernel_names = ['linear', 'laplacian', 'gaussian']\n",
    "kernel_type = [{'linear':[1], 'laplacian':[0.2, 0.3], 'gaussian':[0.4, 0.7]},\n",
    "               {'linear':[1], 'laplacian':[0.2, 0.1], 'gaussian':[0.5, 0.2]}]\n",
    "estimator = ca.centeredKernelAlignment\n",
    "sampler = ms.mySampler(n_splits=3, test_size=.25, centering = True, normalize_kernels = True)"
   ]
  },
  {
   "cell_type": "code",
   "execution_count": 29,
   "metadata": {
    "scrolled": true
   },
   "outputs": [
    {
     "name": "stdout",
     "output_type": "stream",
     "text": [
      "\n",
      "1 split out of 3 ...\n",
      "\tWorking on config 1 of 2: {'linear': [1], 'laplacian': [0.2, 0.3], 'gaussian': [0.4, 0.7]}\n",
      "Fold no. 1\n",
      "Fold no. 2\n",
      "Fold no. 3\n",
      "Validation complete, config selected:[1, 0.2, 0.7]\n",
      "\tResult of 1:\n",
      "CA: 0.028482049832347676\n",
      "Accuracy: 0.6333333333333333\n",
      "Precision: 0.4560810810810811\n",
      "Recall: 0.5672268907563025\n",
      "[linear:1, laplacian:0.2, gaussian:0.7, ]\n",
      "\n",
      "eta vector: [ 0.35209412  7.83237376 -1.53704859]\n",
      "\n",
      "\n",
      "\tCompleted in 0.16666666666666666 minutes\n",
      "\tWorking on config 2 of 2: {'linear': [1], 'laplacian': [0.2, 0.1], 'gaussian': [0.5, 0.2]}\n",
      "Fold no. 1\n",
      "Fold no. 2\n",
      "Fold no. 3\n",
      "Validation complete, config selected:[1, 0.1, 0.5]\n",
      "\tResult of 1:\n",
      "CA: 0.028482049832347676\n",
      "Accuracy: 0.6333333333333333\n",
      "Precision: 0.4560810810810811\n",
      "Recall: 0.5672268907563025\n",
      "[linear:1, laplacian:0.2, gaussian:0.7, ]\n",
      "\n",
      "eta vector: [ 0.35209412  7.83237376 -1.53704859]\n",
      "\n",
      "CA: 0.028264457792389893\n",
      "Accuracy: 0.6319444444444444\n",
      "Precision: 0.45484949832775917\n",
      "Recall: 0.5714285714285714\n",
      "[linear:1, laplacian:0.1, gaussian:0.5, ]\n",
      "\n",
      "eta vector: [ 0.53488177 15.38383841 -2.26500199]\n",
      "\n",
      "\n",
      "\tCompleted in 0.35 minutes\n",
      "\n",
      "2 split out of 3 ...\n",
      "\tWorking on config 1 of 2: {'linear': [1], 'laplacian': [0.2, 0.3], 'gaussian': [0.4, 0.7]}\n",
      "Fold no. 1\n",
      "Fold no. 2\n",
      "Fold no. 3\n",
      "Validation complete, config selected:[1, 0.2, 0.4]\n",
      "\tResult of 2:\n",
      "CA: 0.02491245307065681\n",
      "Accuracy: 0.6916666666666667\n",
      "Precision: 0.527027027027027\n",
      "Recall: 0.6554621848739496\n",
      "[linear:1, laplacian:0.2, gaussian:0.4, ]\n",
      "\n",
      "eta vector: [ 1.03888486  8.87841248 -5.03900829]\n",
      "\n",
      "\n",
      "\tCompleted in 0.18333333333333332 minutes\n",
      "\tWorking on config 2 of 2: {'linear': [1], 'laplacian': [0.2, 0.1], 'gaussian': [0.5, 0.2]}\n",
      "Fold no. 1\n",
      "Fold no. 2\n",
      "Fold no. 3\n",
      "Validation complete, config selected:[1, 0.1, 0.2]\n",
      "\tResult of 2:\n",
      "CA: 0.02491245307065681\n",
      "Accuracy: 0.6916666666666667\n",
      "Precision: 0.527027027027027\n",
      "Recall: 0.6554621848739496\n",
      "[linear:1, laplacian:0.2, gaussian:0.4, ]\n",
      "\n",
      "eta vector: [ 1.03888486  8.87841248 -5.03900829]\n",
      "\n",
      "CA: 0.024481494284723886\n",
      "Accuracy: 0.6902777777777778\n",
      "Precision: 0.5245901639344263\n",
      "Recall: 0.6722689075630253\n",
      "[linear:1, laplacian:0.1, gaussian:0.2, ]\n",
      "\n",
      "eta vector: [ 1.17205821 15.95335897 -9.16018897]\n",
      "\n",
      "\n",
      "\tCompleted in 0.38333333333333336 minutes\n",
      "\n",
      "3 split out of 3 ...\n",
      "\tWorking on config 1 of 2: {'linear': [1], 'laplacian': [0.2, 0.3], 'gaussian': [0.4, 0.7]}\n",
      "Fold no. 1\n",
      "Fold no. 2\n",
      "Fold no. 3\n",
      "Validation complete, config selected:[1, 0.2, 0.4]\n",
      "\tResult of 3:\n",
      "CA: 0.030750399601666024\n",
      "Accuracy: 0.6652777777777777\n",
      "Precision: 0.494949494949495\n",
      "Recall: 0.6176470588235294\n",
      "[linear:1, laplacian:0.2, gaussian:0.4, ]\n",
      "\n",
      "eta vector: [ 1.06918269  8.67311897 -4.36159012]\n",
      "\n",
      "\n",
      "\tCompleted in 0.18333333333333332 minutes\n",
      "\tWorking on config 2 of 2: {'linear': [1], 'laplacian': [0.2, 0.1], 'gaussian': [0.5, 0.2]}\n",
      "Fold no. 1\n",
      "Fold no. 2\n",
      "Fold no. 3\n",
      "Validation complete, config selected:[1, 0.1, 0.2]\n",
      "\tResult of 3:\n",
      "CA: 0.030750399601666024\n",
      "Accuracy: 0.6652777777777777\n",
      "Precision: 0.494949494949495\n",
      "Recall: 0.6176470588235294\n",
      "[linear:1, laplacian:0.2, gaussian:0.4, ]\n",
      "\n",
      "eta vector: [ 1.06918269  8.67311897 -4.36159012]\n",
      "\n",
      "CA: 0.03040931026468291\n",
      "Accuracy: 0.6666666666666666\n",
      "Precision: 0.49673202614379086\n",
      "Recall: 0.6386554621848739\n",
      "[linear:1, laplacian:0.1, gaussian:0.2, ]\n",
      "\n",
      "eta vector: [ 1.08467408 15.6373073  -7.37056785]\n",
      "\n",
      "\n",
      "\tCompleted in 0.36666666666666664 minutes\n"
     ]
    }
   ],
   "source": [
    "result11 = sampler.sample(kernel_type, estimator, ds_list, y_, valid_fold = 3, verbose=True)"
   ]
  },
  {
   "cell_type": "code",
   "execution_count": 32,
   "metadata": {},
   "outputs": [
    {
     "name": "stdout",
     "output_type": "stream",
     "text": [
      "Perfomances computed for dictionary settings 1:\n",
      "\tAccuracy: 0.5568513119533528\n",
      "\tPrecision: 0.39285714285714285\n",
      "\tRecall: 0.6327433628318584\n",
      "Perfomances computed for dictionary settings 2:\n",
      "\tAccuracy: 0.5641399416909622\n",
      "\tPrecision: 0.40054495912806537\n",
      "\tRecall: 0.6504424778761062\n"
     ]
    }
   ],
   "source": [
    "w_dict, w_list = result11.votingOverCA(ds_names, kernel_names)\n",
    "ut.testConfigurations(estimator, y_, y_test, w_list, ds_list, ds_test, kernel_names)"
   ]
  },
  {
   "cell_type": "code",
   "execution_count": 33,
   "metadata": {
    "scrolled": true
   },
   "outputs": [
    {
     "name": "stdout",
     "output_type": "stream",
     "text": [
      "statistics of configuration 1\n",
      "{'config': {'linear': [[1], [1], [1]], 'laplacian': [[0.2], [0.2], [0.2]], 'gaussian': [[0.7], [0.4], [0.4]]}, 'CA': (0.02804830083489017, 5.774339046218112e-06), 'Accuracy': (0.6634259259259259, 0.0005688443072702334), 'Precision': (0.4926858676858677, 0.0008414498785551642), 'Recall': (0.6134453781512605, 0.0013064049149071402), 'eta': (array([ 0.82005389,  8.46130174, -3.64588233]), array([0.10964617, 0.20479944, 2.30007244]))}\n",
      "statistics of configuration 2\n",
      "{'config': {'linear': [[1], [1], [1]], 'laplacian': [[0.1], [0.1], [0.1]], 'gaussian': [[0.5], [0.2], [0.2]]}, 'CA': (0.027718420780598895, 6.005578591165746e-06), 'Accuracy': (0.662962962962963, 0.0005739883401920441), 'Precision': (0.49205722946865876, 0.0008215536018537393), 'Recall': (0.6274509803921569, 0.0017575657714066042), 'eta': (array([ 0.93053802, 15.65816823, -6.26525293]), array([0.0795446 , 0.05427653, 8.53479445]))}\n"
     ]
    }
   ],
   "source": [
    "result11.performancesFeatures()"
   ]
  },
  {
   "cell_type": "markdown",
   "metadata": {},
   "source": [
    "## Centering, Normalization, Kernel Normalization"
   ]
  },
  {
   "cell_type": "code",
   "execution_count": null,
   "metadata": {},
   "outputs": [],
   "source": [
    "kernel_names = ['linear', 'laplacian', 'gaussian']\n",
    "kernel_type = [{'linear':[1], 'laplacian':[0.2, 0.7], 'gaussian':[0.4, 0.7]},\n",
    "               {'linear':[1], 'laplacian':[0.2, 0.7], 'gaussian':[0.5, 1]}]\n",
    "estimator = ca.centeredKernelAlignment\n",
    "sampler = ms.mySampler(n_splits=3, test_size=.35, centering = True, normalizing = True, normalize_kernels = True)"
   ]
  },
  {
   "cell_type": "code",
   "execution_count": null,
   "metadata": {},
   "outputs": [],
   "source": [
    "result7 = sampler.sample(kernel_type, estimator, ds_list, y_, valid_fold = 3, verbose=True, exclusion_list = [[5,6,7,9,10,13,15,16,17,18,19], list(range(G.shape[1]-3)), []])"
   ]
  },
  {
   "cell_type": "code",
   "execution_count": null,
   "metadata": {},
   "outputs": [],
   "source": [
    "w_dict, w_list = result7.votingOverCA(ds_names, kernel_names)\n",
    "ut.testConfigurations(estimator, y_, y_test, w_list, ds_list, ds_test, kernel_names)"
   ]
  },
  {
   "cell_type": "code",
   "execution_count": null,
   "metadata": {
    "scrolled": true
   },
   "outputs": [],
   "source": [
    "result7.performancesFeatures()"
   ]
  },
  {
   "cell_type": "markdown",
   "metadata": {},
   "source": [
    "## L2 Penalty, Centering, K-Normalization"
   ]
  },
  {
   "cell_type": "code",
   "execution_count": null,
   "metadata": {},
   "outputs": [],
   "source": [
    "kernel_names = ['linear', 'laplacian', 'gaussian']\n",
    "kernel_type = [{'linear':[1], 'laplacian':[0.2, 0.7], 'gaussian':[0.4, 0.7]},\n",
    "               {'linear':[1], 'laplacian':[0.2, 0.7], 'gaussian':[0.5, 1]}]\n",
    "estimator = ca.centeredKernelAlignment\n",
    "sampler = ms.mySampler(n_splits=3, test_size=.35, lamb = 0.5, centering = True, normalize_kernels = False)"
   ]
  },
  {
   "cell_type": "code",
   "execution_count": null,
   "metadata": {
    "scrolled": true
   },
   "outputs": [],
   "source": [
    "result9 = sampler.sample(kernel_type, estimator, ds_list, y_, valid_fold = 3, verbose=True, exclusion_list = [[5,6,7,9,10,13,15,16,17,18,19], list(range(G.shape[1]-3)), []])"
   ]
  },
  {
   "cell_type": "code",
   "execution_count": null,
   "metadata": {},
   "outputs": [],
   "source": [
    "w_dict, w_list = result9.votingOverCA(ds_names, kernel_names)\n",
    "ut.testConfigurations(estimator, y_, y_test, w_list, ds_list, ds_test, kernel_names)"
   ]
  },
  {
   "cell_type": "code",
   "execution_count": null,
   "metadata": {
    "scrolled": true
   },
   "outputs": [],
   "source": [
    "result9.performancesFeatures()"
   ]
  },
  {
   "cell_type": "markdown",
   "metadata": {},
   "source": [
    "## Sparsity in eta, Centering, K-Normalization"
   ]
  },
  {
   "cell_type": "code",
   "execution_count": 3,
   "metadata": {},
   "outputs": [],
   "source": [
    "y = outputs[\"cvd_fail\"].values\n",
    "C = d_clinical.values\n",
    "#G = d_genetic.values\n",
    "#V = d_vampire.values"
   ]
  },
  {
   "cell_type": "code",
   "execution_count": 4,
   "metadata": {},
   "outputs": [],
   "source": [
    "tr_idx, ts_idx = next(StratifiedShuffleSplit(n_splits=1, test_size=0.25).split(C, y))"
   ]
  },
  {
   "cell_type": "code",
   "execution_count": 5,
   "metadata": {},
   "outputs": [],
   "source": [
    "y_ = y[tr_idx]\n",
    "y_test = y[ts_idx]\n",
    "C_ = C[tr_idx]\n",
    "C_test = C[ts_idx]\n",
    "#G_ = G[tr_idx]\n",
    "#G_test = G[ts_idx]\n",
    "#V_ = V[tr_idx]\n",
    "#V_test = V[ts_idx]"
   ]
  },
  {
   "cell_type": "code",
   "execution_count": 6,
   "metadata": {},
   "outputs": [],
   "source": [
    "ds_list = [C_]#, G_, V_]\n",
    "ds_test = [C_test]#, G_test, V_test]\n",
    "ds_names = ['clinic']#, 'genetic', 'vampire']"
   ]
  },
  {
   "cell_type": "code",
   "execution_count": 7,
   "metadata": {},
   "outputs": [],
   "source": [
    "kernel_names = ['linear', 'laplacian', 'sigmoid', 'polynomial', 'gaussian']\n",
    "kernel_type = [{'linear':[1], 'laplacian':[0.7, 1], 'sigmoid':[0.3, 0.6], 'polynomial':[2, 3], 'gaussian':[0.4, 0.7]},\n",
    "               {'linear':[1], 'laplacian':[1, 1.5], 'sigmoid':[0.4, 0.5], 'polynomial':[3, 4], 'gaussian':[0.5, 1]}]\n",
    "estimator = ca.centeredKernelAlignment\n",
    "sampler = ms.mySampler(n_splits=3, test_size=.25, sparsity = 0.7, centering = True, normalize_kernels = True)"
   ]
  },
  {
   "cell_type": "code",
   "execution_count": 8,
   "metadata": {
    "scrolled": true
   },
   "outputs": [
    {
     "name": "stdout",
     "output_type": "stream",
     "text": [
      "\n",
      "1 split out of 3 ...\n",
      "\tWorking on config 1 of 2: {'linear': [1], 'laplacian': [0.7, 1], 'sigmoid': [0.3, 0.6], 'polynomial': [2, 3], 'gaussian': [0.4, 0.7]}\n",
      "Fold no. 1\n"
     ]
    },
    {
     "name": "stderr",
     "output_type": "stream",
     "text": [
      "C:\\Users\\Lorenzo\\Documents\\Università\\Anaconda\\BCB\\NewLabs\\Project\\myLasso4.py:6: RuntimeWarning: invalid value encountered in true_divide\n",
      "  x = z/n\n",
      "C:\\Users\\Lorenzo\\Documents\\Università\\Anaconda\\BCB\\NewLabs\\Project\\myLasso4.py:29: RuntimeWarning: invalid value encountered in subtract\n",
      "  delta = np.linalg.norm(eta_new - eta)\n",
      "C:\\Users\\Lorenzo\\Documents\\Università\\Anaconda\\BCB\\NewLabs\\Project\\myGridSearch.py:75: RuntimeWarning: invalid value encountered in add\n",
      "  k_eta += eta_i * Ki\n"
     ]
    },
    {
     "ename": "KeyboardInterrupt",
     "evalue": "",
     "output_type": "error",
     "traceback": [
      "\u001b[1;31m---------------------------------------------------------------------------\u001b[0m",
      "\u001b[1;31mKeyboardInterrupt\u001b[0m                         Traceback (most recent call last)",
      "\u001b[1;32m<ipython-input-8-0956fc57741c>\u001b[0m in \u001b[0;36m<module>\u001b[1;34m()\u001b[0m\n\u001b[1;32m----> 1\u001b[1;33m \u001b[0mresult8\u001b[0m \u001b[1;33m=\u001b[0m \u001b[0msampler\u001b[0m\u001b[1;33m.\u001b[0m\u001b[0msample\u001b[0m\u001b[1;33m(\u001b[0m\u001b[0mkernel_type\u001b[0m\u001b[1;33m,\u001b[0m \u001b[0mestimator\u001b[0m\u001b[1;33m,\u001b[0m \u001b[0mds_list\u001b[0m\u001b[1;33m,\u001b[0m \u001b[0my_\u001b[0m\u001b[1;33m,\u001b[0m \u001b[0mvalid_fold\u001b[0m \u001b[1;33m=\u001b[0m \u001b[1;36m3\u001b[0m\u001b[1;33m,\u001b[0m \u001b[0mverbose\u001b[0m\u001b[1;33m=\u001b[0m\u001b[1;32mTrue\u001b[0m\u001b[1;33m)\u001b[0m\u001b[1;33m\u001b[0m\u001b[0m\n\u001b[0m",
      "\u001b[1;32m~\\Documents\\Università\\Anaconda\\BCB\\NewLabs\\Project\\mySampler.py\u001b[0m in \u001b[0;36msample\u001b[1;34m(self, kernelDict_list, estimator, X_list, y, valid_fold, verbose, exclusion_list)\u001b[0m\n\u001b[0;32m     77\u001b[0m                                         lamb=self.lamb, normalize_kernels=self.normalize_kernels).fit(trainSet_list, trainLabel)\n\u001b[0;32m     78\u001b[0m \u001b[1;33m\u001b[0m\u001b[0m\n\u001b[1;32m---> 79\u001b[1;33m                 \u001b[0msel_CA\u001b[0m\u001b[1;33m,\u001b[0m \u001b[0msel_kWrapp\u001b[0m\u001b[1;33m,\u001b[0m \u001b[0mweights\u001b[0m \u001b[1;33m=\u001b[0m \u001b[0mgs\u001b[0m\u001b[1;33m.\u001b[0m\u001b[0mtransform\u001b[0m\u001b[1;33m(\u001b[0m\u001b[0mtrainSet_list\u001b[0m\u001b[1;33m,\u001b[0m \u001b[0mverbose\u001b[0m \u001b[1;33m=\u001b[0m \u001b[0mverbose\u001b[0m\u001b[1;33m)\u001b[0m \u001b[1;31m# it was false\u001b[0m\u001b[1;33m\u001b[0m\u001b[0m\n\u001b[0m\u001b[0;32m     80\u001b[0m \u001b[1;33m\u001b[0m\u001b[0m\n\u001b[0;32m     81\u001b[0m                 \u001b[0mpred\u001b[0m \u001b[1;33m=\u001b[0m \u001b[0msel_kWrapp\u001b[0m\u001b[1;33m.\u001b[0m\u001b[0mpredict\u001b[0m\u001b[1;33m(\u001b[0m\u001b[0mtestSet_list\u001b[0m\u001b[1;33m,\u001b[0m \u001b[0mweights\u001b[0m\u001b[1;33m,\u001b[0m \u001b[0mtrainLabel\u001b[0m\u001b[1;33m,\u001b[0m \u001b[0mestimator\u001b[0m\u001b[1;33m,\u001b[0m \u001b[0mPtype\u001b[0m\u001b[1;33m=\u001b[0m\u001b[0mself\u001b[0m\u001b[1;33m.\u001b[0m\u001b[0mPtype\u001b[0m\u001b[1;33m)\u001b[0m\u001b[1;33m\u001b[0m\u001b[0m\n",
      "\u001b[1;32m~\\Documents\\Università\\Anaconda\\BCB\\NewLabs\\Project\\myGridSearch.py\u001b[0m in \u001b[0;36mtransform\u001b[1;34m(self, Xtr_list, verbose)\u001b[0m\n\u001b[0;32m     67\u001b[0m \u001b[1;33m\u001b[0m\u001b[0m\n\u001b[0;32m     68\u001b[0m                 \u001b[1;31m# compute eta vector\u001b[0m\u001b[1;33m\u001b[0m\u001b[1;33m\u001b[0m\u001b[0m\n\u001b[1;32m---> 69\u001b[1;33m                 \u001b[0meta\u001b[0m \u001b[1;33m=\u001b[0m \u001b[0mself\u001b[0m\u001b[1;33m.\u001b[0m\u001b[0mestimator\u001b[0m\u001b[1;33m.\u001b[0m\u001b[0mcomputeEta\u001b[0m\u001b[1;33m(\u001b[0m\u001b[0mkernelMatrix_list\u001b[0m\u001b[1;33m,\u001b[0m \u001b[0mIK_tr\u001b[0m\u001b[1;33m,\u001b[0m \u001b[0my\u001b[0m \u001b[1;33m=\u001b[0m \u001b[0mself\u001b[0m\u001b[1;33m.\u001b[0m\u001b[0m_y\u001b[0m\u001b[1;33m[\u001b[0m\u001b[0mtrain_index\u001b[0m\u001b[1;33m]\u001b[0m\u001b[1;33m,\u001b[0m \u001b[0msparsity\u001b[0m \u001b[1;33m=\u001b[0m \u001b[0mself\u001b[0m\u001b[1;33m.\u001b[0m\u001b[0msparsity\u001b[0m\u001b[1;33m,\u001b[0m \u001b[0mlamb\u001b[0m \u001b[1;33m=\u001b[0m \u001b[0mself\u001b[0m\u001b[1;33m.\u001b[0m\u001b[0mlamb\u001b[0m\u001b[1;33m,\u001b[0m \u001b[0mverbose\u001b[0m \u001b[1;33m=\u001b[0m \u001b[0mverbose\u001b[0m\u001b[1;33m)\u001b[0m\u001b[1;33m\u001b[0m\u001b[0m\n\u001b[0m\u001b[0;32m     70\u001b[0m \u001b[1;33m\u001b[0m\u001b[0m\n\u001b[0;32m     71\u001b[0m                 \u001b[1;31m# compute k_eta (approximation) for the validation set\u001b[0m\u001b[1;33m\u001b[0m\u001b[1;33m\u001b[0m\u001b[0m\n",
      "\u001b[1;32m~\\Documents\\Università\\Anaconda\\BCB\\NewLabs\\Project\\CortesAlignmentFile.py\u001b[0m in \u001b[0;36mcomputeEta\u001b[1;34m(K_list, IK, y, sparsity, lamb, maxIter, verbose)\u001b[0m\n\u001b[0;32m     55\u001b[0m     \u001b[1;32mdef\u001b[0m \u001b[0mcomputeEta\u001b[0m\u001b[1;33m(\u001b[0m\u001b[0mK_list\u001b[0m\u001b[1;33m,\u001b[0m \u001b[0mIK\u001b[0m\u001b[1;33m,\u001b[0m \u001b[0my\u001b[0m \u001b[1;33m=\u001b[0m \u001b[1;32mNone\u001b[0m\u001b[1;33m,\u001b[0m \u001b[0msparsity\u001b[0m \u001b[1;33m=\u001b[0m \u001b[1;36m0\u001b[0m\u001b[1;33m,\u001b[0m \u001b[0mlamb\u001b[0m \u001b[1;33m=\u001b[0m \u001b[1;36m0\u001b[0m\u001b[1;33m,\u001b[0m \u001b[0mmaxIter\u001b[0m \u001b[1;33m=\u001b[0m \u001b[1;36m0\u001b[0m\u001b[1;33m,\u001b[0m  \u001b[0mverbose\u001b[0m \u001b[1;33m=\u001b[0m \u001b[1;32mFalse\u001b[0m\u001b[1;33m)\u001b[0m\u001b[1;33m:\u001b[0m\u001b[1;33m\u001b[0m\u001b[0m\n\u001b[0;32m     56\u001b[0m \u001b[1;33m\u001b[0m\u001b[0m\n\u001b[1;32m---> 57\u001b[1;33m         \u001b[0mK_c_list\u001b[0m \u001b[1;33m=\u001b[0m \u001b[1;33m[\u001b[0m\u001b[0mcenteredKernelAlignment\u001b[0m\u001b[1;33m.\u001b[0m\u001b[0mcenteredKernel\u001b[0m\u001b[1;33m(\u001b[0m\u001b[0mK\u001b[0m\u001b[1;33m)\u001b[0m \u001b[1;32mfor\u001b[0m \u001b[0mK\u001b[0m \u001b[1;32min\u001b[0m \u001b[0mK_list\u001b[0m\u001b[1;33m]\u001b[0m\u001b[1;33m\u001b[0m\u001b[0m\n\u001b[0m\u001b[0;32m     58\u001b[0m         \u001b[0mM\u001b[0m \u001b[1;33m=\u001b[0m \u001b[0mcenteredKernelAlignment\u001b[0m\u001b[1;33m.\u001b[0m\u001b[0m_kernelSimilarityMatrix\u001b[0m\u001b[1;33m(\u001b[0m\u001b[0mK_c_list\u001b[0m\u001b[1;33m)\u001b[0m\u001b[1;33m\u001b[0m\u001b[0m\n\u001b[0;32m     59\u001b[0m         \u001b[0ma\u001b[0m \u001b[1;33m=\u001b[0m \u001b[0mcenteredKernelAlignment\u001b[0m\u001b[1;33m.\u001b[0m\u001b[0m_idealSimilarityVector\u001b[0m\u001b[1;33m(\u001b[0m\u001b[0mK_c_list\u001b[0m\u001b[1;33m,\u001b[0m \u001b[0mIK\u001b[0m\u001b[1;33m)\u001b[0m\u001b[1;33m\u001b[0m\u001b[0m\n",
      "\u001b[1;32m~\\Documents\\Università\\Anaconda\\BCB\\NewLabs\\Project\\CortesAlignmentFile.py\u001b[0m in \u001b[0;36m<listcomp>\u001b[1;34m(.0)\u001b[0m\n\u001b[0;32m     55\u001b[0m     \u001b[1;32mdef\u001b[0m \u001b[0mcomputeEta\u001b[0m\u001b[1;33m(\u001b[0m\u001b[0mK_list\u001b[0m\u001b[1;33m,\u001b[0m \u001b[0mIK\u001b[0m\u001b[1;33m,\u001b[0m \u001b[0my\u001b[0m \u001b[1;33m=\u001b[0m \u001b[1;32mNone\u001b[0m\u001b[1;33m,\u001b[0m \u001b[0msparsity\u001b[0m \u001b[1;33m=\u001b[0m \u001b[1;36m0\u001b[0m\u001b[1;33m,\u001b[0m \u001b[0mlamb\u001b[0m \u001b[1;33m=\u001b[0m \u001b[1;36m0\u001b[0m\u001b[1;33m,\u001b[0m \u001b[0mmaxIter\u001b[0m \u001b[1;33m=\u001b[0m \u001b[1;36m0\u001b[0m\u001b[1;33m,\u001b[0m  \u001b[0mverbose\u001b[0m \u001b[1;33m=\u001b[0m \u001b[1;32mFalse\u001b[0m\u001b[1;33m)\u001b[0m\u001b[1;33m:\u001b[0m\u001b[1;33m\u001b[0m\u001b[0m\n\u001b[0;32m     56\u001b[0m \u001b[1;33m\u001b[0m\u001b[0m\n\u001b[1;32m---> 57\u001b[1;33m         \u001b[0mK_c_list\u001b[0m \u001b[1;33m=\u001b[0m \u001b[1;33m[\u001b[0m\u001b[0mcenteredKernelAlignment\u001b[0m\u001b[1;33m.\u001b[0m\u001b[0mcenteredKernel\u001b[0m\u001b[1;33m(\u001b[0m\u001b[0mK\u001b[0m\u001b[1;33m)\u001b[0m \u001b[1;32mfor\u001b[0m \u001b[0mK\u001b[0m \u001b[1;32min\u001b[0m \u001b[0mK_list\u001b[0m\u001b[1;33m]\u001b[0m\u001b[1;33m\u001b[0m\u001b[0m\n\u001b[0m\u001b[0;32m     58\u001b[0m         \u001b[0mM\u001b[0m \u001b[1;33m=\u001b[0m \u001b[0mcenteredKernelAlignment\u001b[0m\u001b[1;33m.\u001b[0m\u001b[0m_kernelSimilarityMatrix\u001b[0m\u001b[1;33m(\u001b[0m\u001b[0mK_c_list\u001b[0m\u001b[1;33m)\u001b[0m\u001b[1;33m\u001b[0m\u001b[0m\n\u001b[0;32m     59\u001b[0m         \u001b[0ma\u001b[0m \u001b[1;33m=\u001b[0m \u001b[0mcenteredKernelAlignment\u001b[0m\u001b[1;33m.\u001b[0m\u001b[0m_idealSimilarityVector\u001b[0m\u001b[1;33m(\u001b[0m\u001b[0mK_c_list\u001b[0m\u001b[1;33m,\u001b[0m \u001b[0mIK\u001b[0m\u001b[1;33m)\u001b[0m\u001b[1;33m\u001b[0m\u001b[0m\n",
      "\u001b[1;32m~\\Documents\\Università\\Anaconda\\BCB\\NewLabs\\Project\\CortesAlignmentFile.py\u001b[0m in \u001b[0;36mcenteredKernel\u001b[1;34m(K)\u001b[0m\n\u001b[0;32m     21\u001b[0m         \u001b[0madd3\u001b[0m \u001b[1;33m=\u001b[0m \u001b[1;36m1\u001b[0m\u001b[1;33m/\u001b[0m\u001b[1;33m(\u001b[0m\u001b[0mNt\u001b[0m\u001b[1;33m*\u001b[0m\u001b[0mNt\u001b[0m\u001b[1;33m)\u001b[0m \u001b[1;33m*\u001b[0m \u001b[0mnp\u001b[0m\u001b[1;33m.\u001b[0m\u001b[0mdot\u001b[0m\u001b[1;33m(\u001b[0m\u001b[0mnp\u001b[0m\u001b[1;33m.\u001b[0m\u001b[0mdot\u001b[0m\u001b[1;33m(\u001b[0m\u001b[0moneNt\u001b[0m\u001b[1;33m.\u001b[0m\u001b[0mT\u001b[0m\u001b[1;33m,\u001b[0m \u001b[0mK\u001b[0m\u001b[1;33m)\u001b[0m\u001b[1;33m,\u001b[0m \u001b[0moneNs\u001b[0m\u001b[1;33m)\u001b[0m \u001b[1;33m*\u001b[0m \u001b[0mcomposite\u001b[0m\u001b[1;33m\u001b[0m\u001b[0m\n\u001b[0;32m     22\u001b[0m \u001b[1;33m\u001b[0m\u001b[0m\n\u001b[1;32m---> 23\u001b[1;33m         \u001b[1;32mreturn\u001b[0m \u001b[0mK\u001b[0m \u001b[1;33m-\u001b[0m \u001b[0madd1\u001b[0m \u001b[1;33m-\u001b[0m \u001b[0madd2\u001b[0m \u001b[1;33m+\u001b[0m \u001b[0madd3\u001b[0m\u001b[1;33m\u001b[0m\u001b[0m\n\u001b[0m\u001b[0;32m     24\u001b[0m \u001b[1;33m\u001b[0m\u001b[0m\n\u001b[0;32m     25\u001b[0m \u001b[1;33m\u001b[0m\u001b[0m\n",
      "\u001b[1;31mKeyboardInterrupt\u001b[0m: "
     ]
    }
   ],
   "source": [
    "result8 = sampler.sample(kernel_type, estimator, ds_list, y_, valid_fold = 3, verbose=True)"
   ]
  },
  {
   "cell_type": "code",
   "execution_count": null,
   "metadata": {},
   "outputs": [],
   "source": [
    "w_dict, w_list = result8.votingOverCA(ds_names, kernel_names)\n",
    "ut.testConfigurations(estimator, y_, y_test, w_list, ds_list, ds_test, kernel_names)"
   ]
  },
  {
   "cell_type": "code",
   "execution_count": null,
   "metadata": {
    "scrolled": true
   },
   "outputs": [],
   "source": [
    "result8.performancesFeatures()"
   ]
  }
 ],
 "metadata": {
  "kernelspec": {
   "display_name": "Python 3",
   "language": "python",
   "name": "python3"
  },
  "language_info": {
   "codemirror_mode": {
    "name": "ipython",
    "version": 3
   },
   "file_extension": ".py",
   "mimetype": "text/x-python",
   "name": "python",
   "nbconvert_exporter": "python",
   "pygments_lexer": "ipython3",
   "version": "3.7.0"
  }
 },
 "nbformat": 4,
 "nbformat_minor": 2
}
