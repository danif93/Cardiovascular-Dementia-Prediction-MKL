{
 "cells": [
  {
   "cell_type": "code",
   "execution_count": 6,
   "metadata": {},
   "outputs": [],
   "source": [
    "import numpy as np\n",
    "import itertools"
   ]
  },
  {
   "cell_type": "code",
   "execution_count": 7,
   "metadata": {},
   "outputs": [],
   "source": [
    "l = [[1,2,3], [4,5,6]]"
   ]
  },
  {
   "cell_type": "code",
   "execution_count": 8,
   "metadata": {},
   "outputs": [],
   "source": [
    "l2 = [l, l]"
   ]
  },
  {
   "cell_type": "code",
   "execution_count": 9,
   "metadata": {},
   "outputs": [
    {
     "data": {
      "text/plain": [
       "[[[1, 2, 3], [4, 5, 6]], [[1, 2, 3], [4, 5, 6]]]"
      ]
     },
     "execution_count": 9,
     "metadata": {},
     "output_type": "execute_result"
    }
   ],
   "source": [
    "l2"
   ]
  },
  {
   "cell_type": "code",
   "execution_count": 13,
   "metadata": {},
   "outputs": [],
   "source": [
    "configuration_list = [list(elem) for elem in itertools.product(*l)]"
   ]
  },
  {
   "cell_type": "code",
   "execution_count": 14,
   "metadata": {},
   "outputs": [
    {
     "data": {
      "text/plain": [
       "[[1, 4], [1, 5], [1, 6], [2, 4], [2, 5], [2, 6], [3, 4], [3, 5], [3, 6]]"
      ]
     },
     "execution_count": 14,
     "metadata": {},
     "output_type": "execute_result"
    }
   ],
   "source": [
    "configuration_list"
   ]
  },
  {
   "cell_type": "code",
   "execution_count": 15,
   "metadata": {},
   "outputs": [],
   "source": [
    "configuration_list2 = [list(elem) for elem in itertools.product(*[configuration_list, [list(elem) for elem in itertools.product(*l)]])]"
   ]
  },
  {
   "cell_type": "code",
   "execution_count": 16,
   "metadata": {
    "scrolled": true
   },
   "outputs": [
    {
     "data": {
      "text/plain": [
       "[[[1, 4], [1, 4]],\n",
       " [[1, 4], [1, 5]],\n",
       " [[1, 4], [1, 6]],\n",
       " [[1, 4], [2, 4]],\n",
       " [[1, 4], [2, 5]],\n",
       " [[1, 4], [2, 6]],\n",
       " [[1, 4], [3, 4]],\n",
       " [[1, 4], [3, 5]],\n",
       " [[1, 4], [3, 6]],\n",
       " [[1, 5], [1, 4]],\n",
       " [[1, 5], [1, 5]],\n",
       " [[1, 5], [1, 6]],\n",
       " [[1, 5], [2, 4]],\n",
       " [[1, 5], [2, 5]],\n",
       " [[1, 5], [2, 6]],\n",
       " [[1, 5], [3, 4]],\n",
       " [[1, 5], [3, 5]],\n",
       " [[1, 5], [3, 6]],\n",
       " [[1, 6], [1, 4]],\n",
       " [[1, 6], [1, 5]],\n",
       " [[1, 6], [1, 6]],\n",
       " [[1, 6], [2, 4]],\n",
       " [[1, 6], [2, 5]],\n",
       " [[1, 6], [2, 6]],\n",
       " [[1, 6], [3, 4]],\n",
       " [[1, 6], [3, 5]],\n",
       " [[1, 6], [3, 6]],\n",
       " [[2, 4], [1, 4]],\n",
       " [[2, 4], [1, 5]],\n",
       " [[2, 4], [1, 6]],\n",
       " [[2, 4], [2, 4]],\n",
       " [[2, 4], [2, 5]],\n",
       " [[2, 4], [2, 6]],\n",
       " [[2, 4], [3, 4]],\n",
       " [[2, 4], [3, 5]],\n",
       " [[2, 4], [3, 6]],\n",
       " [[2, 5], [1, 4]],\n",
       " [[2, 5], [1, 5]],\n",
       " [[2, 5], [1, 6]],\n",
       " [[2, 5], [2, 4]],\n",
       " [[2, 5], [2, 5]],\n",
       " [[2, 5], [2, 6]],\n",
       " [[2, 5], [3, 4]],\n",
       " [[2, 5], [3, 5]],\n",
       " [[2, 5], [3, 6]],\n",
       " [[2, 6], [1, 4]],\n",
       " [[2, 6], [1, 5]],\n",
       " [[2, 6], [1, 6]],\n",
       " [[2, 6], [2, 4]],\n",
       " [[2, 6], [2, 5]],\n",
       " [[2, 6], [2, 6]],\n",
       " [[2, 6], [3, 4]],\n",
       " [[2, 6], [3, 5]],\n",
       " [[2, 6], [3, 6]],\n",
       " [[3, 4], [1, 4]],\n",
       " [[3, 4], [1, 5]],\n",
       " [[3, 4], [1, 6]],\n",
       " [[3, 4], [2, 4]],\n",
       " [[3, 4], [2, 5]],\n",
       " [[3, 4], [2, 6]],\n",
       " [[3, 4], [3, 4]],\n",
       " [[3, 4], [3, 5]],\n",
       " [[3, 4], [3, 6]],\n",
       " [[3, 5], [1, 4]],\n",
       " [[3, 5], [1, 5]],\n",
       " [[3, 5], [1, 6]],\n",
       " [[3, 5], [2, 4]],\n",
       " [[3, 5], [2, 5]],\n",
       " [[3, 5], [2, 6]],\n",
       " [[3, 5], [3, 4]],\n",
       " [[3, 5], [3, 5]],\n",
       " [[3, 5], [3, 6]],\n",
       " [[3, 6], [1, 4]],\n",
       " [[3, 6], [1, 5]],\n",
       " [[3, 6], [1, 6]],\n",
       " [[3, 6], [2, 4]],\n",
       " [[3, 6], [2, 5]],\n",
       " [[3, 6], [2, 6]],\n",
       " [[3, 6], [3, 4]],\n",
       " [[3, 6], [3, 5]],\n",
       " [[3, 6], [3, 6]]]"
      ]
     },
     "execution_count": 16,
     "metadata": {},
     "output_type": "execute_result"
    }
   ],
   "source": [
    "configuration_list2"
   ]
  }
 ],
 "metadata": {
  "kernelspec": {
   "display_name": "Python 3",
   "language": "python",
   "name": "python3"
  },
  "language_info": {
   "codemirror_mode": {
    "name": "ipython",
    "version": 3
   },
   "file_extension": ".py",
   "mimetype": "text/x-python",
   "name": "python",
   "nbconvert_exporter": "python",
   "pygments_lexer": "ipython3",
   "version": "3.6.5"
  }
 },
 "nbformat": 4,
 "nbformat_minor": 2
}
