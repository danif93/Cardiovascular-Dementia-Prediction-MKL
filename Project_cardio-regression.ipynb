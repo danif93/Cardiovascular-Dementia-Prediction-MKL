{
 "cells": [
  {
   "cell_type": "code",
   "execution_count": 1,
   "metadata": {},
   "outputs": [
    {
     "name": "stderr",
     "output_type": "stream",
     "text": [
      "/Users/danilo/.conda/envs/bcb/lib/python3.7/site-packages/sklearn/utils/__init__.py:4: DeprecationWarning: Using or importing the ABCs from 'collections' instead of from 'collections.abc' is deprecated, and in 3.8 it will stop working\n",
      "  from collections import Sequence\n"
     ]
    }
   ],
   "source": [
    "import pandas as pd\n",
    "import os\n",
    "import numpy as np\n",
    "\n",
    "import Utils as ut\n",
    "import CortesAlignmentFile as ca\n",
    "import mySampler as ms\n",
    " \n",
    "from sklearn.model_selection import train_test_split, ShuffleSplit\n"
   ]
  },
  {
   "cell_type": "code",
   "execution_count": 2,
   "metadata": {},
   "outputs": [],
   "source": [
    "d_clinical = pd.read_csv(os.path.join('data', 'dataset_clinical_cleaned.csv'))\n",
    "d_genetic = pd.read_csv(os.path.join('data', 'dataset_genetic_cleaned_noOHE.csv'))\n",
    "d_vampire = pd.read_csv(os.path.join('data', 'dataset_vampire_cleaned.csv'))\n",
    "outputs = pd.read_csv(os.path.join('data', 'outputs_cleaned.csv'))"
   ]
  },
  {
   "cell_type": "markdown",
   "metadata": {},
   "source": [
    "## Heart Attack"
   ]
  },
  {
   "cell_type": "code",
   "execution_count": 3,
   "metadata": {},
   "outputs": [],
   "source": [
    "y_class = outputs[\"cvd_fail\"].values\n",
    "meaningful_idxs = np.where(y_class==1)\n",
    "y = outputs[\"cvd_time_age\"].values[meaningful_idxs]\n",
    "C = d_clinical.values[meaningful_idxs]\n",
    "G = d_genetic.values[meaningful_idxs]\n",
    "V = d_vampire.values[meaningful_idxs]"
   ]
  },
  {
   "cell_type": "code",
   "execution_count": 4,
   "metadata": {},
   "outputs": [],
   "source": [
    "# COMPUTATIONAL COMPLEXITY: Reduce #samples\n",
    "#tr_idx, ts_idx = next(StratifiedShuffleSplit(n_splits=1, test_size=0.75).split(C, y))\n",
    "C_, C_test, G_, G_test, V_, V_test, y_, y_test = train_test_split(C, G, V, y, test_size=0.25)"
   ]
  },
  {
   "cell_type": "code",
   "execution_count": 5,
   "metadata": {},
   "outputs": [],
   "source": [
    "ds_list = [C_, G_, V_]\n",
    "ds_test = [C_test, G_test, V_test]\n",
    "ds_names = ['clinic', 'genetic', 'vampire']"
   ]
  },
  {
   "cell_type": "markdown",
   "metadata": {},
   "source": [
    "## Basic approach"
   ]
  },
  {
   "cell_type": "code",
   "execution_count": 6,
   "metadata": {},
   "outputs": [],
   "source": [
    "kernel_names = ['linear', 'polynomial', 'gaussian']\n",
    "kernel_type = [{'linear':[0.5], 'polynomial':[2, 3, 7], 'gaussian':[0.1, 0.5, 0.7]},\n",
    "               {'linear':[0.2], 'polynomial':[4, 5, 8], 'gaussian':[0.7, 1]}]\n",
    "estimator = ca.centeredKernelAlignment\n",
    "sampler = ms.mySampler(n_splits=3, test_size=.25, Ptype=\"regression\")"
   ]
  },
  {
   "cell_type": "code",
   "execution_count": 7,
   "metadata": {},
   "outputs": [
    {
     "name": "stdout",
     "output_type": "stream",
     "text": [
      "\n",
      "1 split out of 3 ...\n",
      "\tWorking on config 1 of 2: {'linear': [0.5], 'polynomial': [2, 3, 7], 'gaussian': [0.1, 0.5, 0.7]}\n",
      "Fold no. 1\n",
      "\t\tPerfomances computed for 200\n",
      "\t\tPerfomances computed for 400\n",
      "\t\tPerfomances computed for 600\n",
      "Fold no. 2\n",
      "\t\tPerfomances computed for 200\n",
      "\t\tPerfomances computed for 400\n",
      "\t\tPerfomances computed for 600\n",
      "Fold no. 3\n",
      "\t\tPerfomances computed for 200\n",
      "\t\tPerfomances computed for 400\n",
      "\t\tPerfomances computed for 600\n",
      "Validation complete, config selected:[[0.5, 7, 0.7], [0.5, 2, 0.7], [0.5, 7, 0.5]]\n",
      "\tResult of 1:\n",
      "CA: 0.005816683923558076\n",
      "Average error: 7.6558238336786255\n",
      "Error variance: 33.1905957788202\n",
      "[linear:0.5, polynomial:7, gaussian:0.7, ]\n",
      "[linear:0.5, polynomial:2, gaussian:0.7, ]\n",
      "[linear:0.5, polynomial:7, gaussian:0.5, ]\n",
      "\n",
      "eta vector: [ 5.05369904e-07 -2.96107615e-28  1.96311182e-01  5.24043314e-07\n",
      " -5.22618858e-05  5.88321875e-01  1.77848071e-16  7.67597879e-60\n",
      " -7.84435650e-01]\n",
      "\n",
      "\n",
      "\tCompleted in 3.85 minutes\n",
      "\tWorking on config 2 of 2: {'linear': [0.2], 'polynomial': [4, 5, 8], 'gaussian': [0.7, 1]}\n",
      "Fold no. 1\n",
      "\t\tPerfomances computed for 200\n",
      "Fold no. 2\n",
      "\t\tPerfomances computed for 200\n",
      "Fold no. 3\n",
      "\t\tPerfomances computed for 200\n",
      "Validation complete, config selected:[[0.2, 8, 1], [0.2, 8, 1], [0.2, 4, 1]]\n",
      "\tResult of 1:\n",
      "CA: 0.005816683923558076\n",
      "Average error: 7.6558238336786255\n",
      "Error variance: 33.1905957788202\n",
      "[linear:0.5, polynomial:7, gaussian:0.7, ]\n",
      "[linear:0.5, polynomial:2, gaussian:0.7, ]\n",
      "[linear:0.5, polynomial:7, gaussian:0.5, ]\n",
      "\n",
      "eta vector: [ 5.05369904e-07 -2.96107615e-28  1.96311182e-01  5.24043314e-07\n",
      " -5.22618858e-05  5.88321875e-01  1.77848071e-16  7.67597879e-60\n",
      " -7.84435650e-01]\n",
      "\n",
      "CA: 0.005569372378215779\n",
      "Average error: 7.758500175644514\n",
      "Error variance: 37.661464141721666\n",
      "[linear:0.2, polynomial:8, gaussian:1, ]\n",
      "[linear:0.2, polynomial:8, gaussian:1, ]\n",
      "[linear:0.2, polynomial:4, gaussian:1, ]\n",
      "\n",
      "eta vector: [ 6.85801803e-08 -8.94172519e-33  7.76446470e-01  1.63595305e-09\n",
      " -2.97800174e-09 -1.69436424e-01 -6.18011889e-16  8.04725703e-37\n",
      " -6.06977905e-01]\n",
      "\n",
      "\n",
      "\tCompleted in 5.1 minutes\n",
      "\n",
      "2 split out of 3 ...\n",
      "\tWorking on config 1 of 2: {'linear': [0.5], 'polynomial': [2, 3, 7], 'gaussian': [0.1, 0.5, 0.7]}\n",
      "Fold no. 1\n",
      "\t\tPerfomances computed for 200\n",
      "\t\tPerfomances computed for 400\n",
      "\t\tPerfomances computed for 600\n",
      "Fold no. 2\n",
      "\t\tPerfomances computed for 200\n",
      "\t\tPerfomances computed for 400\n",
      "\t\tPerfomances computed for 600\n",
      "Fold no. 3\n",
      "\t\tPerfomances computed for 200\n",
      "\t\tPerfomances computed for 400\n",
      "\t\tPerfomances computed for 600\n",
      "Validation complete, config selected:[[0.5, 7, 0.5], [0.5, 7, 0.7], [0.5, 2, 0.5]]\n",
      "\tResult of 2:\n",
      "CA: 0.0051008584912667744\n",
      "Average error: 8.689620934901685\n",
      "Error variance: 34.559342285164256\n",
      "[linear:0.5, polynomial:7, gaussian:0.5, ]\n",
      "[linear:0.5, polynomial:7, gaussian:0.7, ]\n",
      "[linear:0.5, polynomial:2, gaussian:0.5, ]\n",
      "\n",
      "eta vector: [ 4.81630921e-08 -2.62963691e-29  1.63160157e-03  1.39604933e-08\n",
      " -1.92475913e-08 -7.07909617e-01 -2.31387366e-15  8.49046901e-21\n",
      "  7.06301148e-01]\n",
      "\n",
      "\n",
      "\tCompleted in 3.3 minutes\n",
      "\tWorking on config 2 of 2: {'linear': [0.2], 'polynomial': [4, 5, 8], 'gaussian': [0.7, 1]}\n",
      "Fold no. 1\n",
      "\t\tPerfomances computed for 200\n",
      "Fold no. 2\n",
      "\t\tPerfomances computed for 200\n",
      "Fold no. 3\n",
      "\t\tPerfomances computed for 200\n",
      "Validation complete, config selected:[[0.2, 5, 1], [0.2, 8, 1], [0.2, 5, 0.7]]\n",
      "\tResult of 2:\n",
      "CA: 0.0051008584912667744\n",
      "Average error: 8.689620934901685\n",
      "Error variance: 34.559342285164256\n",
      "[linear:0.5, polynomial:7, gaussian:0.5, ]\n",
      "[linear:0.5, polynomial:7, gaussian:0.7, ]\n",
      "[linear:0.5, polynomial:2, gaussian:0.5, ]\n",
      "\n",
      "eta vector: [ 4.81630921e-08 -2.62963691e-29  1.63160157e-03  1.39604933e-08\n",
      " -1.92475913e-08 -7.07909617e-01 -2.31387366e-15  8.49046901e-21\n",
      "  7.06301148e-01]\n",
      "\n",
      "CA: 0.005653088103779612\n",
      "Average error: 8.65601939994942\n",
      "Error variance: 33.223904463828184\n",
      "[linear:0.2, polynomial:5, gaussian:1, ]\n",
      "[linear:0.2, polynomial:8, gaussian:1, ]\n",
      "[linear:0.2, polynomial:5, gaussian:0.7, ]\n",
      "\n",
      "eta vector: [ 6.78499380e-06 -7.79363029e-20  8.12555835e-01  8.24278236e-07\n",
      " -5.72842053e-07 -4.80475673e-01  2.03485257e-14  7.59299563e-43\n",
      " -3.29994155e-01]\n",
      "\n",
      "\n",
      "\tCompleted in 4.433333333333334 minutes\n",
      "\n",
      "3 split out of 3 ...\n",
      "\tWorking on config 1 of 2: {'linear': [0.5], 'polynomial': [2, 3, 7], 'gaussian': [0.1, 0.5, 0.7]}\n",
      "Fold no. 1\n",
      "\t\tPerfomances computed for 200\n",
      "\t\tPerfomances computed for 400\n",
      "\t\tPerfomances computed for 600\n",
      "Fold no. 2\n",
      "\t\tPerfomances computed for 200\n",
      "\t\tPerfomances computed for 400\n",
      "\t\tPerfomances computed for 600\n",
      "Fold no. 3\n",
      "\t\tPerfomances computed for 200\n",
      "\t\tPerfomances computed for 400\n",
      "\t\tPerfomances computed for 600\n",
      "Validation complete, config selected:[[0.5, 7, 0.7], [0.5, 2, 0.7], [0.5, 7, 0.7]]\n",
      "\tResult of 3:\n",
      "CA: 0.005472954970394676\n",
      "Average error: 7.880172481763447\n",
      "Error variance: 36.02805463129078\n",
      "[linear:0.5, polynomial:7, gaussian:0.7, ]\n",
      "[linear:0.5, polynomial:2, gaussian:0.7, ]\n",
      "[linear:0.5, polynomial:7, gaussian:0.7, ]\n",
      "\n",
      "eta vector: [ 1.69843419e-08 -9.77411015e-30  9.71020744e-02  4.79536232e-08\n",
      " -4.41475599e-06 -7.50636121e-01  7.15945598e-17  2.48633688e-61\n",
      "  6.53541583e-01]\n",
      "\n",
      "\n",
      "\tCompleted in 3.316666666666667 minutes\n",
      "\tWorking on config 2 of 2: {'linear': [0.2], 'polynomial': [4, 5, 8], 'gaussian': [0.7, 1]}\n",
      "Fold no. 1\n",
      "\t\tPerfomances computed for 200\n",
      "Fold no. 2\n",
      "\t\tPerfomances computed for 200\n",
      "Fold no. 3\n",
      "\t\tPerfomances computed for 200\n",
      "Validation complete, config selected:[[0.2, 8, 1], [0.2, 8, 0.7], [0.2, 5, 0.7]]\n",
      "\tResult of 3:\n",
      "CA: 0.005472954970394676\n",
      "Average error: 7.880172481763447\n",
      "Error variance: 36.02805463129078\n",
      "[linear:0.5, polynomial:7, gaussian:0.7, ]\n",
      "[linear:0.5, polynomial:2, gaussian:0.7, ]\n",
      "[linear:0.5, polynomial:7, gaussian:0.7, ]\n",
      "\n",
      "eta vector: [ 1.69843419e-08 -9.77411015e-30  9.71020744e-02  4.79536232e-08\n",
      " -4.41475599e-06 -7.50636121e-01  7.15945598e-17  2.48633688e-61\n",
      "  6.53541583e-01]\n",
      "\n",
      "CA: 0.0052173492255492655\n",
      "Average error: 7.908863006049266\n",
      "Error variance: 36.38005207010673\n",
      "[linear:0.2, polynomial:8, gaussian:1, ]\n",
      "[linear:0.2, polynomial:8, gaussian:0.7, ]\n",
      "[linear:0.2, polynomial:5, gaussian:0.7, ]\n",
      "\n",
      "eta vector: [ 2.10750105e-09 -2.61323418e-34  7.62715642e-01  9.74724706e-10\n",
      " -3.94099322e-10 -1.28970530e-01  2.63490254e-18  2.87007907e-46\n",
      " -6.33743996e-01]\n",
      "\n",
      "\n",
      "\tCompleted in 4.45 minutes\n"
     ]
    }
   ],
   "source": [
    "result1 = sampler.sample(kernel_type, estimator, ds_list, y_, valid_fold = 3, verbose=True)"
   ]
  },
  {
   "cell_type": "code",
   "execution_count": 8,
   "metadata": {},
   "outputs": [
    {
     "ename": "NameError",
     "evalue": "name 'bestOverDict' is not defined",
     "output_type": "error",
     "traceback": [
      "\u001b[0;31m---------------------------------------------------------------------------\u001b[0m",
      "\u001b[0;31mNameError\u001b[0m                                 Traceback (most recent call last)",
      "\u001b[0;32m<ipython-input-8-db55534fc69e>\u001b[0m in \u001b[0;36m<module>\u001b[0;34m()\u001b[0m\n\u001b[1;32m      1\u001b[0m \u001b[0mw_dict\u001b[0m\u001b[0;34m,\u001b[0m \u001b[0mw_list\u001b[0m \u001b[0;34m=\u001b[0m \u001b[0mresult1\u001b[0m\u001b[0;34m.\u001b[0m\u001b[0mvotingOverCA\u001b[0m\u001b[0;34m(\u001b[0m\u001b[0mds_names\u001b[0m\u001b[0;34m,\u001b[0m \u001b[0mkernel_names\u001b[0m\u001b[0;34m)\u001b[0m\u001b[0;34m\u001b[0m\u001b[0m\n\u001b[0;32m----> 2\u001b[0;31m \u001b[0mut\u001b[0m\u001b[0;34m.\u001b[0m\u001b[0mtestConfigurations\u001b[0m\u001b[0;34m(\u001b[0m\u001b[0mestimator\u001b[0m\u001b[0;34m,\u001b[0m \u001b[0my_\u001b[0m\u001b[0;34m,\u001b[0m \u001b[0my_test\u001b[0m\u001b[0;34m,\u001b[0m \u001b[0mw_list\u001b[0m\u001b[0;34m,\u001b[0m \u001b[0mds_list\u001b[0m\u001b[0;34m,\u001b[0m \u001b[0mds_test\u001b[0m\u001b[0;34m,\u001b[0m \u001b[0mkernel_names\u001b[0m\u001b[0;34m,\u001b[0m \u001b[0mPtype\u001b[0m\u001b[0;34m=\u001b[0m\u001b[0;34m'regression'\u001b[0m\u001b[0;34m)\u001b[0m\u001b[0;34m\u001b[0m\u001b[0m\n\u001b[0m",
      "\u001b[0;32m~/Desktop/BCB_Project/Utils.py\u001b[0m in \u001b[0;36mtestConfigurations\u001b[0;34m(estimator, y_train, y_test, config_list, train_list, test_list, kernel_types, Ptype)\u001b[0m\n\u001b[1;32m    221\u001b[0m             \u001b[0mmeanErr\u001b[0m \u001b[0;34m=\u001b[0m \u001b[0mnp\u001b[0m\u001b[0;34m.\u001b[0m\u001b[0mmean\u001b[0m\u001b[0;34m(\u001b[0m\u001b[0mnp\u001b[0m\u001b[0;34m.\u001b[0m\u001b[0mabs\u001b[0m\u001b[0;34m(\u001b[0m\u001b[0mpred\u001b[0m\u001b[0;34m-\u001b[0m\u001b[0my_test\u001b[0m\u001b[0;34m)\u001b[0m\u001b[0;34m)\u001b[0m\u001b[0;34m\u001b[0m\u001b[0m\n\u001b[1;32m    222\u001b[0m             \u001b[0mvarErr\u001b[0m \u001b[0;34m=\u001b[0m \u001b[0mnp\u001b[0m\u001b[0;34m.\u001b[0m\u001b[0mvar\u001b[0m\u001b[0;34m(\u001b[0m\u001b[0mnp\u001b[0m\u001b[0;34m.\u001b[0m\u001b[0mabs\u001b[0m\u001b[0;34m(\u001b[0m\u001b[0mpred\u001b[0m\u001b[0;34m-\u001b[0m\u001b[0my_test\u001b[0m\u001b[0;34m)\u001b[0m\u001b[0;34m)\u001b[0m\u001b[0;34m\u001b[0m\u001b[0m\n\u001b[0;32m--> 223\u001b[0;31m             \u001b[0mbestOverDict\u001b[0m\u001b[0;34m.\u001b[0m\u001b[0mappend\u001b[0m\u001b[0;34m(\u001b[0m\u001b[0;34m{\u001b[0m\u001b[0;34m\"CA\"\u001b[0m\u001b[0;34m:\u001b[0m\u001b[0msel_CA\u001b[0m\u001b[0;34m,\u001b[0m \u001b[0;34m\"meanErr\"\u001b[0m\u001b[0;34m:\u001b[0m\u001b[0mmeanErr\u001b[0m\u001b[0;34m,\u001b[0m \u001b[0;34m\"varErr\"\u001b[0m\u001b[0;34m:\u001b[0m\u001b[0mvarErr\u001b[0m\u001b[0;34m,\u001b[0m \u001b[0;34m\"config\"\u001b[0m\u001b[0;34m:\u001b[0m\u001b[0msel_kWrapp\u001b[0m\u001b[0;34m,\u001b[0m \u001b[0;34m\"eta\"\u001b[0m\u001b[0;34m:\u001b[0m\u001b[0mweights\u001b[0m\u001b[0;34m}\u001b[0m\u001b[0;34m)\u001b[0m\u001b[0;34m\u001b[0m\u001b[0m\n\u001b[0m\u001b[1;32m    224\u001b[0m \u001b[0;34m\u001b[0m\u001b[0m\n\u001b[1;32m    225\u001b[0m             \u001b[0mprint\u001b[0m\u001b[0;34m(\u001b[0m\u001b[0;34m\"Perfomances computed for {} dictionary settings:\"\u001b[0m\u001b[0;34m.\u001b[0m\u001b[0mformat\u001b[0m\u001b[0;34m(\u001b[0m\u001b[0mcl_idx\u001b[0m\u001b[0;34m+\u001b[0m\u001b[0;36m1\u001b[0m\u001b[0;34m)\u001b[0m\u001b[0;34m)\u001b[0m\u001b[0;34m\u001b[0m\u001b[0m\n",
      "\u001b[0;31mNameError\u001b[0m: name 'bestOverDict' is not defined"
     ]
    }
   ],
   "source": [
    "w_dict, w_list = result1.votingOverCA(ds_names, kernel_names)\n",
    "ut.testConfigurations(estimator, y_, y_test, w_list, ds_list, ds_test, kernel_names, Ptype='regression')"
   ]
  },
  {
   "cell_type": "code",
   "execution_count": null,
   "metadata": {},
   "outputs": [],
   "source": [
    "w_dict"
   ]
  },
  {
   "cell_type": "code",
   "execution_count": 9,
   "metadata": {},
   "outputs": [
    {
     "name": "stdout",
     "output_type": "stream",
     "text": [
      "statistics of configuration 1\n",
      "{'config': {'linear': [[0.5, 0.5, 0.5], [0.5, 0.5, 0.5], [0.5, 0.5, 0.5]], 'polynomial': [[7, 2, 7], [7, 7, 2], [7, 2, 7]], 'gaussian': [[0.7, 0.7, 0.5], [0.5, 0.7, 0.5], [0.7, 0.7, 0.7]]}, 'CA': (0.005463499128406509, 8.544571472635737e-08), 'meanErr': (8.075205750114586, 0.19714172896473034), 'varErr': (34.59266423175841, 1.3424172993063515), 'eta': (array([ 1.90172446e-07, -1.10726031e-28,  9.83482858e-02,  1.95319144e-07,\n",
      "       -1.88986298e-05, -2.90074621e-01, -6.88143677e-16,  2.83015634e-21,\n",
      "        1.91802361e-01]), array([4.98367379e-14, 1.72286632e-56, 6.31746633e-03, 5.42223790e-14,\n",
      "       5.59773507e-10, 3.86094461e-01, 1.32338063e-30, 1.60195698e-41,\n",
      "       4.76984255e-01]))}\n",
      "statistics of configuration 2\n",
      "{'config': {'linear': [[0.2, 0.2, 0.2], [0.2, 0.2, 0.2], [0.2, 0.2, 0.2]], 'polynomial': [[8, 8, 4], [5, 8, 5], [8, 8, 5]], 'gaussian': [[1, 1, 1], [1, 1, 0.7], [1, 0.7, 0.7]]}, 'CA': (0.005479936569181553, 3.5644110302376846e-08), 'meanErr': (8.107794193881068, 0.1540436017455656), 'varErr': (35.75514022521886, 3.4772467227515977), 'eta': (array([ 2.28522716e-06, -2.59787676e-20,  7.83905982e-01,  2.75629638e-07,\n",
      "       -1.92071385e-07, -2.59627542e-01,  6.57771623e-15,  2.68242154e-37,\n",
      "       -5.23572019e-01]), array([1.01246863e-11, 1.34979274e-39, 4.41829646e-04, 1.50507715e-13,\n",
      "       7.24942636e-14, 2.46598632e-02, 9.48817969e-29, 1.43907299e-73,\n",
      "       1.88555986e-02]))}\n"
     ]
    }
   ],
   "source": [
    "result1.performancesFeatures()"
   ]
  },
  {
   "cell_type": "markdown",
   "metadata": {},
   "source": [
    "## Kernel normalization"
   ]
  },
  {
   "cell_type": "code",
   "execution_count": null,
   "metadata": {},
   "outputs": [],
   "source": [
    "kernel_names = ['linear', 'polynomial', 'gaussian']\n",
    "kernel_type = [{'linear':[0.5], 'polynomial':[2, 3], 'gaussian':[0.1, 0.3, 0.6]}#,\n",
    "               #{'linear':[0.2], 'polynomial':[4, 5, 8], 'gaussian':[0.7, 1]}\n",
    "              ]\n",
    "estimator = ca.centeredKernelAlignment\n",
    "sampler = ms.mySampler(n_splits=3, test_size=.25, Ptype=\"regression\", normalize_kernels = True)"
   ]
  },
  {
   "cell_type": "code",
   "execution_count": null,
   "metadata": {
    "scrolled": true
   },
   "outputs": [],
   "source": [
    "result3 = sampler.sample(kernel_type, estimator, ds_list, y_, valid_fold = 3, verbose=True)"
   ]
  },
  {
   "cell_type": "code",
   "execution_count": null,
   "metadata": {},
   "outputs": [],
   "source": [
    "w_dict, w_list = result3.votingOverCA(ds_names, kernel_names)\n",
    "ut.testConfigurations(estimator, y_, y_test, w_list, ds_list, ds_test, kernel_names, Ptype='regression')"
   ]
  },
  {
   "cell_type": "code",
   "execution_count": null,
   "metadata": {},
   "outputs": [],
   "source": [
    "w_dict"
   ]
  },
  {
   "cell_type": "code",
   "execution_count": null,
   "metadata": {},
   "outputs": [],
   "source": [
    "result3.performancesFeatures()"
   ]
  },
  {
   "cell_type": "markdown",
   "metadata": {},
   "source": [
    "## Normalized data"
   ]
  },
  {
   "cell_type": "code",
   "execution_count": null,
   "metadata": {},
   "outputs": [],
   "source": [
    "kernel_names = ['linear', 'polynomial', 'gaussian']\n",
    "kernel_type = [{'linear':[0.5], 'polynomial':[2, 3, 7], 'gaussian':[0.1, 0.5, 0.7]},\n",
    "               {'linear':[0.2], 'polynomial':[4, 5, 8], 'gaussian':[0.7, 1]}]\n",
    "estimator = ca.centeredKernelAlignment\n",
    "sampler = ms.mySampler(n_splits=3, test_size=.25, Ptype=\"regression\", normalizing = True)"
   ]
  },
  {
   "cell_type": "code",
   "execution_count": null,
   "metadata": {
    "scrolled": true
   },
   "outputs": [],
   "source": [
    "result4 = sampler.sample(kernel_type, estimator, ds_list, y_, valid_fold = 3, verbose=True, exclusion_list = [[0, 3, 8, 13, 14], list(range(G.shape[1]-3)), []])"
   ]
  },
  {
   "cell_type": "code",
   "execution_count": null,
   "metadata": {},
   "outputs": [],
   "source": [
    "w_dict, w_list = result4.votingOverCA(ds_names, kernel_names)\n",
    "ut.testConfigurations(estimator, y_, y_test, w_list, ds_list, ds_test, kernel_names, Ptype='regression')"
   ]
  },
  {
   "cell_type": "code",
   "execution_count": null,
   "metadata": {},
   "outputs": [],
   "source": [
    "w_dict"
   ]
  },
  {
   "cell_type": "code",
   "execution_count": null,
   "metadata": {},
   "outputs": [],
   "source": [
    "result4.performancesFeatures()"
   ]
  },
  {
   "cell_type": "markdown",
   "metadata": {},
   "source": [
    "## Origin Data Centering"
   ]
  },
  {
   "cell_type": "code",
   "execution_count": null,
   "metadata": {},
   "outputs": [],
   "source": [
    "kernel_names = ['linear', 'polynomial', 'gaussian']\n",
    "kernel_type = [{'linear':[0.5], 'polynomial':[2, 3, 7], 'gaussian':[0.1, 0.5, 0.7]},\n",
    "               {'linear':[0.2], 'polynomial':[4, 5, 8], 'gaussian':[0.7, 1]}]\n",
    "estimator = ca.centeredKernelAlignment\n",
    "sampler = ms.mySampler(n_splits=3, test_size=.25, Ptype=\"regression\", centering = True)"
   ]
  },
  {
   "cell_type": "code",
   "execution_count": null,
   "metadata": {
    "scrolled": true
   },
   "outputs": [],
   "source": [
    "result5 = sampler.sample(kernel_type, estimator, ds_list, y_, valid_fold = 3, verbose=True, exclusion_list = [[5,6,7,9,10,13,15,16,17,18,19], list(range(G.shape[1]-3)), []])"
   ]
  },
  {
   "cell_type": "code",
   "execution_count": null,
   "metadata": {},
   "outputs": [],
   "source": [
    "w_dict, w_list = result5.votingOverCA(ds_names, kernel_names)\n",
    "ut.testConfigurations(estimator, y_, y_test, w_list, ds_list, ds_test, kernel_names, Ptype='regression')"
   ]
  },
  {
   "cell_type": "code",
   "execution_count": null,
   "metadata": {},
   "outputs": [],
   "source": [
    "w_dict"
   ]
  },
  {
   "cell_type": "code",
   "execution_count": null,
   "metadata": {
    "scrolled": true
   },
   "outputs": [],
   "source": [
    "result5.performancesFeatures()"
   ]
  },
  {
   "cell_type": "markdown",
   "metadata": {},
   "source": [
    "## Origin Data  Centering and Normalization"
   ]
  },
  {
   "cell_type": "code",
   "execution_count": null,
   "metadata": {},
   "outputs": [],
   "source": [
    "kernel_names = ['linear', 'polynomial', 'gaussian']\n",
    "kernel_type = [{'linear':[0.5], 'polynomial':[2, 3, 7], 'gaussian':[0.1, 0.5, 0.7]},\n",
    "               {'linear':[0.2], 'polynomial':[4, 5, 8], 'gaussian':[0.7, 1]}]\n",
    "estimator = ca.centeredKernelAlignment\n",
    "sampler = ms.mySampler(n_splits=3, test_size=.25, Ptype=\"regression\", centering = True, normalizing = True)"
   ]
  },
  {
   "cell_type": "code",
   "execution_count": null,
   "metadata": {},
   "outputs": [],
   "source": [
    "result6 = sampler.sample(kernel_type, estimator, ds_list, y_, valid_fold = 3, verbose=True, exclusion_list = [[5,6,7,9,10,13,15,16,17,18,19], list(range(G.shape[1]-3)), []])"
   ]
  },
  {
   "cell_type": "code",
   "execution_count": null,
   "metadata": {},
   "outputs": [],
   "source": [
    "w_dict, w_list = result6.votingOverCA(ds_names, kernel_names)\n",
    "ut.testConfigurations(estimator, y_, y_test, w_list, ds_list, ds_test, kernel_names, Ptype='regression')"
   ]
  },
  {
   "cell_type": "code",
   "execution_count": null,
   "metadata": {},
   "outputs": [],
   "source": [
    "w_dict"
   ]
  },
  {
   "cell_type": "code",
   "execution_count": null,
   "metadata": {
    "scrolled": true
   },
   "outputs": [],
   "source": [
    "result6.performancesFeatures()"
   ]
  },
  {
   "cell_type": "markdown",
   "metadata": {},
   "source": [
    "## Normalization, Kernel Normalization"
   ]
  },
  {
   "cell_type": "code",
   "execution_count": null,
   "metadata": {},
   "outputs": [],
   "source": [
    "kernel_names = ['linear', 'polynomial', 'gaussian']\n",
    "kernel_type = [{'linear':[0.5], 'polynomial':[2, 3,4], 'gaussian':[0.1, 0.3, 0.6]},\n",
    "               {'linear':[0.2], 'polynomial':[4, 5, 8], 'gaussian':[0.7, 1]}\n",
    "              ]\n",
    "estimator = ca.centeredKernelAlignment\n",
    "sampler = ms.mySampler(n_splits=3, test_size=.25, Ptype=\"regression\", normalizing = True, normalize_kernels = True)"
   ]
  },
  {
   "cell_type": "code",
   "execution_count": null,
   "metadata": {},
   "outputs": [],
   "source": [
    "result10 = sampler.sample(kernel_type, estimator, ds_list, y_, valid_fold = 3, verbose=True, exclusion_list = [[5,6,7,9,10,13,15,16,17,18,19], list(range(G.shape[1]-3)), []])"
   ]
  },
  {
   "cell_type": "code",
   "execution_count": null,
   "metadata": {},
   "outputs": [],
   "source": [
    "w_dict, w_list = result10.votingOverCA(ds_names, kernel_names)\n",
    "ut.testConfigurations(estimator, y_, y_test, w_list, ds_list, ds_test, kernel_names, Ptype='regression')"
   ]
  },
  {
   "cell_type": "code",
   "execution_count": null,
   "metadata": {},
   "outputs": [],
   "source": [
    "w_dict"
   ]
  },
  {
   "cell_type": "code",
   "execution_count": null,
   "metadata": {
    "scrolled": false
   },
   "outputs": [],
   "source": [
    "result10.performancesFeatures()"
   ]
  },
  {
   "cell_type": "markdown",
   "metadata": {},
   "source": [
    "## Centering, Kernel Normalization"
   ]
  },
  {
   "cell_type": "code",
   "execution_count": null,
   "metadata": {},
   "outputs": [],
   "source": [
    "kernel_names = ['linear', 'polynomial', 'gaussian']\n",
    "kernel_type = [{'linear':[0.5], 'polynomial':[2, 3,4], 'gaussian':[0.1, 0.3, 0.6]},\n",
    "               {'linear':[0.2], 'polynomial':[4, 5, 8], 'gaussian':[0.7, 1]}\n",
    "              ]\n",
    "estimator = ca.centeredKernelAlignment\n",
    "sampler = ms.mySampler(n_splits=3, test_size=.25, Ptype=\"regression\", centering = True, normalize_kernels = True)"
   ]
  },
  {
   "cell_type": "code",
   "execution_count": null,
   "metadata": {
    "scrolled": true
   },
   "outputs": [],
   "source": [
    "result11 = sampler.sample(kernel_type, estimator, ds_list, y_, valid_fold = 3, verbose=True, exclusion_list = [[5,6,7,9,10,13,15,16,17,18,19], list(range(G.shape[1]-3)), []])"
   ]
  },
  {
   "cell_type": "code",
   "execution_count": null,
   "metadata": {},
   "outputs": [],
   "source": [
    "w_dict, w_list = result11.votingOverCA(ds_names, kernel_names)\n",
    "ut.testConfigurations(estimator, y_, y_test, w_list, ds_list, ds_test, kernel_names, Ptype='regression')"
   ]
  },
  {
   "cell_type": "code",
   "execution_count": null,
   "metadata": {},
   "outputs": [],
   "source": [
    "w_dict"
   ]
  },
  {
   "cell_type": "code",
   "execution_count": null,
   "metadata": {
    "scrolled": true
   },
   "outputs": [],
   "source": [
    "result11.performancesFeatures()"
   ]
  },
  {
   "cell_type": "markdown",
   "metadata": {},
   "source": [
    "## Centering, Normalization, Kernel Normalization"
   ]
  },
  {
   "cell_type": "code",
   "execution_count": null,
   "metadata": {},
   "outputs": [],
   "source": [
    "kernel_names = ['linear', 'polynomial', 'gaussian']\n",
    "kernel_type = [{'linear':[0.5], 'polynomial':[2, 3,4], 'gaussian':[0.1, 0.3, 0.6]},\n",
    "               {'linear':[0.2], 'polynomial':[4, 5, 8], 'gaussian':[0.7, 1]}\n",
    "              ]\n",
    "estimator = ca.centeredKernelAlignment\n",
    "sampler = ms.mySampler(n_splits=3, test_size=.25, Ptype=\"regression\", centering = True, normalizing = True, normalize_kernels = True)"
   ]
  },
  {
   "cell_type": "code",
   "execution_count": null,
   "metadata": {},
   "outputs": [],
   "source": [
    "result7 = sampler.sample(kernel_type, estimator, ds_list, y_, valid_fold = 3, verbose=True, exclusion_list = [[5,6,7,9,10,13,15,16,17,18,19], list(range(G.shape[1]-3)), []])"
   ]
  },
  {
   "cell_type": "code",
   "execution_count": null,
   "metadata": {},
   "outputs": [],
   "source": [
    "w_dict, w_list = result7.votingOverCA(ds_names, kernel_names)\n",
    "ut.testConfigurations(estimator, y_, y_test, w_list, ds_list, ds_test, kernel_names, Ptype='regression')"
   ]
  },
  {
   "cell_type": "code",
   "execution_count": null,
   "metadata": {},
   "outputs": [],
   "source": [
    "w_dict"
   ]
  },
  {
   "cell_type": "code",
   "execution_count": null,
   "metadata": {
    "scrolled": true
   },
   "outputs": [],
   "source": [
    "result7.performancesFeatures()"
   ]
  },
  {
   "cell_type": "markdown",
   "metadata": {},
   "source": [
    "## L2 Penalty, Centering, K-Normalization"
   ]
  },
  {
   "cell_type": "code",
   "execution_count": null,
   "metadata": {},
   "outputs": [],
   "source": [
    "kernel_names = ['linear', 'polynomial', 'gaussian']\n",
    "kernel_type = [{'linear':[0.5], 'polynomial':[2, 3,4], 'gaussian':[0.1, 0.3, 0.6]},\n",
    "               {'linear':[0.2], 'polynomial':[4, 5, 8], 'gaussian':[0.7, 1]}\n",
    "              ]\n",
    "estimator = ca.centeredKernelAlignment\n",
    "sampler = ms.mySampler(n_splits=3, test_size=.25, Ptype=\"regression\", lamb = 0.5, centering = True, normalize_kernels = False)"
   ]
  },
  {
   "cell_type": "code",
   "execution_count": null,
   "metadata": {
    "scrolled": true
   },
   "outputs": [],
   "source": [
    "result9 = sampler.sample(kernel_type, estimator, ds_list, y_, valid_fold = 3, verbose=True, exclusion_list = [[5,6,7,9,10,13,15,16,17,18,19], list(range(G.shape[1]-3)), []])"
   ]
  },
  {
   "cell_type": "code",
   "execution_count": null,
   "metadata": {},
   "outputs": [],
   "source": [
    "w_dict, w_list = result9.votingOverCA(ds_names, kernel_names)\n",
    "ut.testConfigurations(estimator, y_, y_test, w_list, ds_list, ds_test, kernel_names, Ptype='regression')"
   ]
  },
  {
   "cell_type": "code",
   "execution_count": null,
   "metadata": {},
   "outputs": [],
   "source": [
    "w_dict"
   ]
  },
  {
   "cell_type": "code",
   "execution_count": null,
   "metadata": {
    "scrolled": true
   },
   "outputs": [],
   "source": [
    "result9.performancesFeatures()"
   ]
  },
  {
   "cell_type": "markdown",
   "metadata": {},
   "source": [
    "## Sparsity in eta, Centering, K-Normalization"
   ]
  },
  {
   "cell_type": "code",
   "execution_count": 3,
   "metadata": {},
   "outputs": [],
   "source": [
    "y_class = outputs[\"cvd_fail\"].values\n",
    "meaningful_idxs = np.where(y_class==1)\n",
    "y = outputs[\"cvd_time_age\"].values[meaningful_idxs]\n",
    "C = d_clinical.values[meaningful_idxs]\n",
    "G = d_genetic.values[meaningful_idxs]\n",
    "V = d_vampire.values[meaningful_idxs]"
   ]
  },
  {
   "cell_type": "code",
   "execution_count": 4,
   "metadata": {},
   "outputs": [],
   "source": [
    "tr_idx, ts_idx = next(ShuffleSplit(n_splits=1, test_size=0.5).split(C, y))"
   ]
  },
  {
   "cell_type": "code",
   "execution_count": 5,
   "metadata": {},
   "outputs": [],
   "source": [
    "y_ = y[tr_idx]\n",
    "y_test = y[ts_idx]\n",
    "C_ = C[tr_idx]\n",
    "C_test = C[ts_idx]\n",
    "G_ = G[tr_idx]\n",
    "G_test = G[ts_idx]\n",
    "V_ = V[tr_idx]\n",
    "V_test = V[ts_idx]"
   ]
  },
  {
   "cell_type": "code",
   "execution_count": 6,
   "metadata": {},
   "outputs": [],
   "source": [
    "ds_list = [C_, G_, V_]\n",
    "ds_test = [C_test, G_test, V_test]\n",
    "ds_names = ['clinic', 'genetic', 'vampire']"
   ]
  },
  {
   "cell_type": "code",
   "execution_count": 7,
   "metadata": {},
   "outputs": [],
   "source": [
    "kernel_names = ['linear', 'polynomial', 'gaussian']\n",
    "kernel_type = [{'linear':[0.5], 'polynomial':[2, 3], 'gaussian':[0.1, 0.3]}#,\n",
    "               #{'linear':[0.2], 'polynomial':[4, 5, 8], 'gaussian':[0.7, 1]}\n",
    "              ]\n",
    "estimator = ca.centeredKernelAlignment\n",
    "sampler = ms.mySampler(n_splits=3, test_size=.25, Ptype=\"regression\", sparsity = 0.3, centering = True, normalize_kernels = True)"
   ]
  },
  {
   "cell_type": "code",
   "execution_count": 9,
   "metadata": {
    "scrolled": true
   },
   "outputs": [
    {
     "name": "stdout",
     "output_type": "stream",
     "text": [
      "\n",
      "1 split out of 3 ...\n",
      "\tWorking on config 1 of 1: {'linear': [0.5], 'polynomial': [2, 3], 'gaussian': [0.1, 0.3]}\n",
      "Fold no. 1\n",
      "Fold no. 2\n",
      "Fold no. 3\n",
      "Validation complete, config selected:[[0.5, 3, 0.3], [0.5, 2, 0.1], [0.5, 2, 0.1]]\n",
      "\tResult of 1:\n",
      "CA: 0.006847414199957387\n",
      "Average error: 9.231676732599034\n",
      "Error variance: 130.08956487754818\n",
      "[linear:0.5, polynomial:3, gaussian:0.3, ]\n",
      "[linear:0.5, polynomial:2, gaussian:0.1, ]\n",
      "[linear:0.5, polynomial:2, gaussian:0.1, ]\n",
      "\n",
      "eta vector: [ 0.05948608 -0.72685468  0.07174706  0.          0.          0.\n",
      "  0.          0.68043812  0.        ]\n",
      "\n",
      "\n",
      "\tCompleted in 2.3833333333333333 minutes\n",
      "\n",
      "2 split out of 3 ...\n",
      "\tWorking on config 1 of 1: {'linear': [0.5], 'polynomial': [2, 3], 'gaussian': [0.1, 0.3]}\n",
      "Fold no. 1\n",
      "Fold no. 2\n",
      "Fold no. 3\n",
      "Validation complete, config selected:[[0.5, 3, 0.1], [0.5, 2, 0.1], [0.5, 2, 0.1]]\n",
      "\tResult of 2:\n",
      "CA: 0.006655651159134598\n",
      "Average error: 119.55665577352771\n",
      "Error variance: 921789.4865830898\n",
      "[linear:0.5, polynomial:3, gaussian:0.1, ]\n",
      "[linear:0.5, polynomial:2, gaussian:0.1, ]\n",
      "[linear:0.5, polynomial:2, gaussian:0.1, ]\n",
      "\n",
      "eta vector: [ 0.03584221 -0.89615568  0.43466896  0.          0.          0.\n",
      "  0.          0.08175096  0.        ]\n",
      "\n",
      "\n",
      "\tCompleted in 2.3 minutes\n",
      "\n",
      "3 split out of 3 ...\n",
      "\tWorking on config 1 of 1: {'linear': [0.5], 'polynomial': [2, 3], 'gaussian': [0.1, 0.3]}\n",
      "Fold no. 1\n",
      "Fold no. 2\n",
      "Fold no. 3\n",
      "Validation complete, config selected:[[0.5, 2, 0.3], [0.5, 2, 0.1], [0.5, 2, 0.3]]\n",
      "\tResult of 3:\n",
      "CA: 0.0068755586784560365\n",
      "Average error: 26.412685117557228\n",
      "Error variance: 17752.068322371808\n",
      "[linear:0.5, polynomial:2, gaussian:0.3, ]\n",
      "[linear:0.5, polynomial:2, gaussian:0.1, ]\n",
      "[linear:0.5, polynomial:2, gaussian:0.3, ]\n",
      "\n",
      "eta vector: [ 0.05484056 -0.95764121  0.0610406   0.          0.          0.\n",
      "  0.          0.27602513  0.        ]\n",
      "\n",
      "\n",
      "\tCompleted in 2.3 minutes\n"
     ]
    }
   ],
   "source": [
    "result8 = sampler.sample(kernel_type, estimator, ds_list, y_, valid_fold = 3, verbose=True, exclusion_list = [[5,6,7,9,10,13,15,16,17,18,19], list(range(G.shape[1]-3)), []])"
   ]
  },
  {
   "cell_type": "code",
   "execution_count": 10,
   "metadata": {},
   "outputs": [
    {
     "name": "stdout",
     "output_type": "stream",
     "text": [
      "Perfomances computed for 1 dictionary settings:\n",
      "\tAverage error: 168207463991250.94\n",
      "\tError variance: 1.0854900425689533e+30\n"
     ]
    }
   ],
   "source": [
    "w_dict, w_list = result8.votingOverCA(ds_names, kernel_names)\n",
    "ut.testConfigurations(estimator, y_, y_test, w_list, ds_list, ds_test, kernel_names, Ptype='regression')"
   ]
  },
  {
   "cell_type": "code",
   "execution_count": 11,
   "metadata": {},
   "outputs": [
    {
     "data": {
      "text/plain": [
       "[{'clinic': {'linear': 0.5, 'polynomial': 3, 'gaussian': 0.3},\n",
       "  'genetic': {'linear': 0.5, 'polynomial': 2, 'gaussian': 0.1},\n",
       "  'vampire': {'linear': 0.5, 'polynomial': 2, 'gaussian': 0.1}}]"
      ]
     },
     "execution_count": 11,
     "metadata": {},
     "output_type": "execute_result"
    }
   ],
   "source": [
    "w_dict"
   ]
  },
  {
   "cell_type": "code",
   "execution_count": 12,
   "metadata": {
    "scrolled": true
   },
   "outputs": [
    {
     "name": "stdout",
     "output_type": "stream",
     "text": [
      "statistics of configuration 1\n",
      "{'config': {'linear': [[0.5, 0.5, 0.5], [0.5, 0.5, 0.5], [0.5, 0.5, 0.5]], 'polynomial': [[3, 2, 2], [3, 2, 2], [2, 2, 2]], 'gaussian': [[0.3, 0.1, 0.1], [0.1, 0.1, 0.1], [0.3, 0.1, 0.3]]}, 'CA': (0.006792874679182674, 9.547165838852482e-09), 'meanErr': (51.733672541227996, 2349.176368785072), 'varErr': (313223.88149011304, 185227803540.31204), 'eta': (array([ 0.05005628, -0.86021719,  0.18915221,  0.        ,  0.        ,\n",
      "        0.        ,  0.        ,  0.3460714 ,  0.        ]), array([0.00010462, 0.00952286, 0.03015834, 0.        , 0.        ,\n",
      "       0.        , 0.        , 0.06219096, 0.        ]))}\n"
     ]
    }
   ],
   "source": [
    "result8.performancesFeatures()"
   ]
  },
  {
   "cell_type": "code",
   "execution_count": null,
   "metadata": {},
   "outputs": [],
   "source": []
  }
 ],
 "metadata": {
  "kernelspec": {
   "display_name": "Python 3",
   "language": "python",
   "name": "python3"
  },
  "language_info": {
   "codemirror_mode": {
    "name": "ipython",
    "version": 3
   },
   "file_extension": ".py",
   "mimetype": "text/x-python",
   "name": "python",
   "nbconvert_exporter": "python",
   "pygments_lexer": "ipython3",
   "version": "3.7.0"
  }
 },
 "nbformat": 4,
 "nbformat_minor": 2
}
