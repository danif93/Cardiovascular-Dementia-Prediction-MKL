{
 "cells": [
  {
   "cell_type": "code",
   "execution_count": 4,
   "metadata": {},
   "outputs": [],
   "source": [
    "import pandas as pd\n",
    "import os\n",
    "import numpy as np\n",
    "\n",
    "import Utils as ut\n",
    "import CortesAlignmentFile as ca\n",
    "import mySampler as ms\n",
    " \n",
    "from sklearn.model_selection import StratifiedShuffleSplit, cross_validate\n",
    "from sklearn.linear_model import LogisticRegression\n",
    "from sklearn.metrics import accuracy_score, precision_score, recall_score\n",
    "from sklearn.preprocessing import normalize"
   ]
  },
  {
   "cell_type": "markdown",
   "metadata": {},
   "source": [
    "## Dataset Configuration"
   ]
  },
  {
   "cell_type": "code",
   "execution_count": 5,
   "metadata": {},
   "outputs": [],
   "source": [
    "d_clinical = pd.read_csv(os.path.join('data', 'dataset_clinical_cleaned.csv'))\n",
    "#d_genetic = pd.read_csv(os.path.join('data', 'dataset_genetic_cleaned_noOHE.csv'))\n",
    "#d_vampire = pd.read_csv(os.path.join('data', 'dataset_vampire_cleaned.csv'))\n",
    "outputs = pd.read_csv(os.path.join('data', 'outputs_cleaned.csv'))"
   ]
  },
  {
   "cell_type": "code",
   "execution_count": 6,
   "metadata": {},
   "outputs": [],
   "source": [
    "C = d_clinical.values\n",
    "#G = d_genetic.values\n",
    "#V = d_vampire.values"
   ]
  },
  {
   "cell_type": "code",
   "execution_count": 7,
   "metadata": {},
   "outputs": [],
   "source": [
    "y_d = outputs[\"dement_fail\"].values\n",
    "y_c = outputs[\"cvd_fail\"].values"
   ]
  },
  {
   "cell_type": "code",
   "execution_count": 8,
   "metadata": {},
   "outputs": [],
   "source": [
    "# COMPUTATIONAL COMPLEXITY: Reduce #samples\n",
    "tr_idx, ts_idx = next(StratifiedShuffleSplit(n_splits=1, test_size=0.25).split(C, y_d))"
   ]
  },
  {
   "cell_type": "code",
   "execution_count": 9,
   "metadata": {},
   "outputs": [],
   "source": [
    "C_ = C[tr_idx]\n",
    "C_test = C[ts_idx]\n",
    "#G_ = G[tr_idx]\n",
    "#G_test = G[ts_idx]\n",
    "#V_ = V[tr_idx]\n",
    "#V_test = V[ts_idx]"
   ]
  },
  {
   "cell_type": "code",
   "execution_count": 10,
   "metadata": {},
   "outputs": [],
   "source": [
    "y_d_ = y_d[tr_idx]\n",
    "y_d_test = y_d[ts_idx]\n",
    "\n",
    "y_c_ = y_c[tr_idx]\n",
    "y_c_test = y_c[ts_idx]"
   ]
  },
  {
   "cell_type": "code",
   "execution_count": 11,
   "metadata": {},
   "outputs": [],
   "source": [
    "ds_list = [C_]#, G_, V_]\n",
    "ds_test = [C_test]#, G_test, V_test]\n",
    "ds_names = ['clinic']#, 'genetic', 'vampire']"
   ]
  },
  {
   "cell_type": "markdown",
   "metadata": {},
   "source": [
    "## Utilities"
   ]
  },
  {
   "cell_type": "code",
   "execution_count": 12,
   "metadata": {},
   "outputs": [],
   "source": [
    "def centering_normalizing(train, test, exclusion_list = None):\n",
    "    \n",
    "    if exclusion_list is not None:\n",
    "        scale, train = ut.centering_normalizing(train, exclusion_list)\n",
    "    else:\n",
    "        scale, train = ut.centering_normalizing(train)\n",
    "\n",
    "    new_Xts = test-scale\n",
    "\n",
    "    if exclusion_list is not None:\n",
    "        new_Xts[:, exclusion_list] = test[:, exclusion_list]\n",
    "\n",
    "    return train, new_Xts, scale\n",
    "\n",
    "\n",
    "def normalizing(train, test):\n",
    "    return normalize(train), normalize(test)\n",
    "\n",
    "def make_regression(X, y, sparsity):\n",
    "\n",
    "    scores = np.zeros(len(sparsity))\n",
    "    \n",
    "    for idx, sp in enumerate(sparsity):\n",
    "        model = LogisticRegression(penalty = 'l1', C = sp)\n",
    "        scores[idx] = np.mean(cross_validate(model,  X, y, return_train_score=False, cv=3)['test_score'])\n",
    "        \n",
    "    return sparsity[np.argmax(scores)]\n",
    "\n",
    "\n",
    "def learn(C_, C_test, y, y_test, sparsity, centering = False, norm = False):\n",
    "    \n",
    "    if centering == True:\n",
    "        C_, C_test, _ = centering_normalizing(C_, C_test)#, [5,6,7,9,10,13,15,16,17,18,19])\n",
    "\n",
    "    if norm == True:\n",
    "         C_, C_test = normalizing(C_, C_test)\n",
    "\n",
    "    best_alpha = make_regression(C_, y, sparsity)\n",
    "    model = LogisticRegression(penalty = 'l1', C = best_alpha)\n",
    "    model.fit(C_, y)\n",
    "    y_pred = model.predict(C_test)\n",
    "    coef = model.coef_\n",
    "    \n",
    "    accuracy = ut.balanced_accuracy_score(y_test, y_pred)\n",
    "    precision = precision_score(y_test, y_pred)\n",
    "    recall = recall_score(y_test, y_pred)\n",
    "\n",
    "    print(\"\\tAccuracy: {}\".format(accuracy))\n",
    "    print(\"\\tPrecision: {}\".format(precision))\n",
    "    print(\"\\tRecall: {}\".format(recall))\n",
    "    print(\"Coef: {}\".format(coef))\n",
    "    print(\"BestLambda: {}\".format(best_alpha))"
   ]
  },
  {
   "cell_type": "code",
   "execution_count": 13,
   "metadata": {},
   "outputs": [],
   "source": [
    "sparsity = list(np.arange(0.1, 2, 0.2))"
   ]
  },
  {
   "cell_type": "markdown",
   "metadata": {},
   "source": [
    "## Origin Data Centering"
   ]
  },
  {
   "cell_type": "markdown",
   "metadata": {},
   "source": [
    "### Dementia"
   ]
  },
  {
   "cell_type": "code",
   "execution_count": 18,
   "metadata": {},
   "outputs": [
    {
     "name": "stdout",
     "output_type": "stream",
     "text": [
      "\tAccuracy: 0.6715945637514265\n",
      "\tPrecision: 0.27575757575757576\n",
      "\tRecall: 0.7647058823529411\n",
      "Coef: [[ 0.          0.          0.         -0.34944809  0.47924946 -4.33491868\n",
      "   0.          0.          1.68668473  0.          0.          0.\n",
      "   0.          0.         -0.1756032   0.          0.          0.\n",
      "   0.          0.          0.        ]]\n",
      "BestLambda: 0.5000000000000001\n"
     ]
    }
   ],
   "source": [
    "learn(C_, C_test, y_d_, y_d_test, sparsity, centering = True)"
   ]
  },
  {
   "cell_type": "markdown",
   "metadata": {},
   "source": [
    "### Cardio"
   ]
  },
  {
   "cell_type": "code",
   "execution_count": 19,
   "metadata": {},
   "outputs": [
    {
     "name": "stdout",
     "output_type": "stream",
     "text": [
      "\tAccuracy: 0.6411265609438443\n",
      "\tPrecision: 0.4723127035830619\n",
      "\tRecall: 0.6359649122807017\n",
      "Coef: [[ 0.24541592  0.          2.20349362 -0.75647233  0.23339294  0.52580679\n",
      "   0.          0.          0.71058628  2.84110754 -1.29468123  2.3778646\n",
      "  -3.18673149  8.22266713  0.         -0.09714606  0.          0.50942805\n",
      "   0.81592509  0.          1.18512638]]\n",
      "BestLambda: 1.9000000000000004\n"
     ]
    }
   ],
   "source": [
    "learn(C_, C_test, y_c_, y_c_test, sparsity, centering = True)"
   ]
  },
  {
   "cell_type": "markdown",
   "metadata": {},
   "source": [
    "## Origin Data  Centering and Normalization"
   ]
  },
  {
   "cell_type": "markdown",
   "metadata": {},
   "source": [
    "### Dementia"
   ]
  },
  {
   "cell_type": "code",
   "execution_count": 20,
   "metadata": {},
   "outputs": [
    {
     "name": "stdout",
     "output_type": "stream",
     "text": [
      "\tAccuracy: 0.5048760244838676\n",
      "\tPrecision: 0.3333333333333333\n",
      "\tRecall: 0.01680672268907563\n",
      "Coef: [[ 0.          0.          0.         -0.34940619  0.47929952 -4.3346685\n",
      "   0.          0.          1.68661418  0.          0.          0.\n",
      "   0.          0.         -0.17567118  0.          0.          0.\n",
      "   0.          0.          0.        ]]\n",
      "BestLambda: 0.5000000000000001\n"
     ]
    }
   ],
   "source": [
    "learn(C_, C_test, y_d_, y_d_test, sparsity, centering = True, norm = True)"
   ]
  },
  {
   "cell_type": "markdown",
   "metadata": {},
   "source": [
    "### Cardio"
   ]
  },
  {
   "cell_type": "code",
   "execution_count": 21,
   "metadata": {},
   "outputs": [
    {
     "name": "stdout",
     "output_type": "stream",
     "text": [
      "\tAccuracy: 0.5846452922699763\n",
      "\tPrecision: 0.5754716981132075\n",
      "\tRecall: 0.2675438596491228\n",
      "Coef: [[ 0.24295029  0.          2.20323597 -0.75412797  0.23335976  0.52585566\n",
      "   0.          0.          0.71051908  2.84089014 -1.29482284  2.3777739\n",
      "  -3.18657635  8.22248962  0.         -0.10014134  0.          0.51144475\n",
      "   0.82023147  0.          1.18526461]]\n",
      "BestLambda: 1.9000000000000004\n"
     ]
    }
   ],
   "source": [
    "learn(C_, C_test, y_c_, y_c_test, sparsity, centering = True, norm = True)"
   ]
  }
 ],
 "metadata": {
  "kernelspec": {
   "display_name": "Python 3",
   "language": "python",
   "name": "python3"
  },
  "language_info": {
   "codemirror_mode": {
    "name": "ipython",
    "version": 3
   },
   "file_extension": ".py",
   "mimetype": "text/x-python",
   "name": "python",
   "nbconvert_exporter": "python",
   "pygments_lexer": "ipython3",
   "version": "3.6.5"
  }
 },
 "nbformat": 4,
 "nbformat_minor": 2
}
