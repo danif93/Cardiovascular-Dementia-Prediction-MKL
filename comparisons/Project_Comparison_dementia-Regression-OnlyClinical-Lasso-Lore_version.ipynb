{
 "cells": [
  {
   "cell_type": "code",
   "execution_count": 1,
   "metadata": {},
   "outputs": [],
   "source": [
    "import pandas as pd\n",
    "import os\n",
    "import numpy as np\n",
    "\n",
    "import Utils as ut\n",
    "from sklearn.linear_model import Lasso\n",
    "from sklearn.preprocessing import normalize\n",
    " \n",
    "from sklearn.model_selection import StratifiedShuffleSplit, cross_val_score, cross_validate"
   ]
  },
  {
   "cell_type": "code",
   "execution_count": 2,
   "metadata": {},
   "outputs": [],
   "source": [
    "d_clinical = pd.read_csv(os.path.join('data', 'dataset_clinical_cleaned.csv'))\n",
    "#d_genetic = pd.read_csv(os.path.join('data', 'dataset_genetic_cleaned_noOHE.csv'))\n",
    "#d_vampire = pd.read_csv(os.path.join('data', 'dataset_vampire_cleaned.csv'))\n",
    "outputs = pd.read_csv(os.path.join('data', 'outputs_cleaned.csv'))"
   ]
  },
  {
   "cell_type": "code",
   "execution_count": 3,
   "metadata": {},
   "outputs": [],
   "source": [
    "y_class = outputs[\"dement_fail\"].values\n",
    "meaningful_idxs = np.where(y_class==1)\n",
    "y = outputs[\"dement_time_age\"].values[meaningful_idxs]\n",
    "C = d_clinical.values[meaningful_idxs]\n",
    "#G = d_genetic.values[meaningful_idxs]\n",
    "#V = d_vampire.values[meaningful_idxs]"
   ]
  },
  {
   "cell_type": "markdown",
   "metadata": {},
   "source": [
    "## Dementia"
   ]
  },
  {
   "cell_type": "code",
   "execution_count": 4,
   "metadata": {},
   "outputs": [],
   "source": [
    "y = outputs[\"cvd_fail\"].values\n",
    "C = d_clinical.values\n",
    "#G = d_genetic.values\n",
    "#V = d_vampire.values"
   ]
  },
  {
   "cell_type": "code",
   "execution_count": 5,
   "metadata": {},
   "outputs": [],
   "source": [
    "# COMPUTATIONAL COMPLEXITY: Reduce #samples\n",
    "tr_idx, ts_idx = next(StratifiedShuffleSplit(n_splits=1, test_size=0.25).split(C, y))"
   ]
  },
  {
   "cell_type": "code",
   "execution_count": 6,
   "metadata": {},
   "outputs": [],
   "source": [
    "y_ = y[tr_idx]\n",
    "y_test = y[ts_idx]\n",
    "C_ = C[tr_idx]\n",
    "C_test = C[ts_idx]\n",
    "#G_ = G[tr_idx]\n",
    "#G_test = G[ts_idx]\n",
    "#V_ = V[tr_idx]\n",
    "#V_test = V[ts_idx]"
   ]
  },
  {
   "cell_type": "code",
   "execution_count": 7,
   "metadata": {},
   "outputs": [],
   "source": [
    "ds_list = [C_]#, G_, V_]\n",
    "ds_test = [C_test]#, G_test, V_test]\n",
    "ds_names = ['clinic']#, 'genetic', 'vampire']"
   ]
  },
  {
   "cell_type": "code",
   "execution_count": 8,
   "metadata": {},
   "outputs": [],
   "source": [
    "def centering_normalizing(train, test, exclusion_list = None):\n",
    "    \n",
    "    if exclusion_list is not None:\n",
    "        scale, train = ut.centering_normalizing(train, exclusion_list)\n",
    "    else:\n",
    "        scale, train = ut.centering_normalizing(train)\n",
    "\n",
    "    new_Xts = test-scale\n",
    "\n",
    "    if exclusion_list is not None:\n",
    "        new_Xts[:, exclusion_list] = test[:, exclusion_list]\n",
    "\n",
    "    return train, new_Xts, scale\n",
    "\n",
    "def normalizing(train, test):\n",
    "    return normalize(train), normalize(test)"
   ]
  },
  {
   "cell_type": "code",
   "execution_count": 9,
   "metadata": {},
   "outputs": [],
   "source": [
    "def make_regression(X, y, sparsity):\n",
    "\n",
    "    scores = np.zeros(len(sparsity))\n",
    "    \n",
    "    for idx, sp in enumerate(sparsity):\n",
    "        model = Lasso(alpha = sp)\n",
    "        scores[idx] = np.mean(cross_validate(model,  X, y, return_train_score=False, cv=3)['test_score'])\n",
    "        \n",
    "    return sparsity[np.argmax(scores)]"
   ]
  },
  {
   "cell_type": "code",
   "execution_count": 10,
   "metadata": {},
   "outputs": [],
   "source": [
    "def learn(C_, C_test, y, y_test, sparsity, centering = False, norm = False):\n",
    "    if centering == True:\n",
    "        C_, C_test, _ = centering_normalizing(C_, C_test)#, [5,6,7,9,10,13,15,16,17,18,19])\n",
    "\n",
    "    if norm == True:\n",
    "         C_, C_test = normalizing(C_, C_test)\n",
    "\n",
    "    best_alpha = make_regression(C_, y, sparsity)\n",
    "    model = Lasso(alpha = best_alpha)\n",
    "    model.fit(C_, y)\n",
    "    y_pred = model.predict(C_test)\n",
    "    coef = model.coef_\n",
    "    \n",
    "    meanErr = np.mean(np.abs(y_pred-y_test))\n",
    "    varErr = np.var(np.abs(y_pred-y_test))\n",
    "\n",
    "    print(\"Average error: {}\".format(meanErr))\n",
    "    print(\"Error variance: {}\".format(varErr))\n",
    "    print(\"Coef: {}\".format(coef))\n",
    "    print(\"BestAlpha: {}\".format(best_alpha))"
   ]
  },
  {
   "cell_type": "code",
   "execution_count": null,
   "metadata": {},
   "outputs": [],
   "source": [
    "sparsity = [0.01, 0.03, 0.05, 0.07, 0.1, 0.12]"
   ]
  },
  {
   "cell_type": "markdown",
   "metadata": {},
   "source": [
    "## Basic approach"
   ]
  },
  {
   "cell_type": "code",
   "execution_count": 11,
   "metadata": {},
   "outputs": [
    {
     "name": "stdout",
     "output_type": "stream",
     "text": [
      "Average error: 0.798072716451704\n",
      "Error variance: 0.19173417225444245\n",
      "Coef: [ 0.00302669  0.00628166  0.         -0.01126625  0.00344043  0.\n",
      " -0.         -0.          0.01209665  0.05631938 -0.01268256  0.04079596\n",
      " -0.04153195  0.24105243 -0.00664638 -0.01504809  0.          0.\n",
      "  0.00668063 -0.          0.03210211]\n",
      "BestAlpha: 0.01\n"
     ]
    },
    {
     "name": "stderr",
     "output_type": "stream",
     "text": [
      "C:\\Users\\Lorenzo\\Anaconda3\\lib\\site-packages\\sklearn\\linear_model\\coordinate_descent.py:491: ConvergenceWarning: Objective did not converge. You might want to increase the number of iterations. Fitting data with very small alpha may cause precision problems.\n",
      "  ConvergenceWarning)\n"
     ]
    }
   ],
   "source": [
    "learn(C_, C_test, y_, y_test, sparsity)"
   ]
  },
  {
   "cell_type": "markdown",
   "metadata": {},
   "source": [
    "## Normalized data"
   ]
  },
  {
   "cell_type": "code",
   "execution_count": 12,
   "metadata": {},
   "outputs": [
    {
     "name": "stdout",
     "output_type": "stream",
     "text": [
      "Average error: 0.8839735268455662\n",
      "Error variance: 0.10223714891207361\n",
      "Coef: [-0.  0. -0. -0.  0.  0.  0. -0.  0.  0. -0.  0. -0.  0. -0. -0. -0.  0.\n",
      "  0.  0.  0.]\n",
      "BestAlpha: 0.01\n"
     ]
    }
   ],
   "source": [
    "learn(C_, C_test, y_, y_test, sparsity, norm = True)"
   ]
  },
  {
   "cell_type": "markdown",
   "metadata": {},
   "source": [
    "## Origin Data Centering"
   ]
  },
  {
   "cell_type": "code",
   "execution_count": 13,
   "metadata": {},
   "outputs": [
    {
     "name": "stdout",
     "output_type": "stream",
     "text": [
      "Average error: 3.3485817029263245\n",
      "Error variance: 6.033243528951659\n",
      "Coef: [-0.          0.         -0.         -0.21727138  0.07391699  0.\n",
      " -0.         -0.          0.26572281  0.         -0.          0.\n",
      " -0.          1.20944333 -0.         -0.         -0.          0.\n",
      "  0.          0.          0.        ]\n",
      "BestAlpha: 0.01\n"
     ]
    }
   ],
   "source": [
    "learn(C_, C_test, y_, y_test, sparsity, centering = True)"
   ]
  },
  {
   "cell_type": "markdown",
   "metadata": {},
   "source": [
    "## Origin Data  Centering and Normalization"
   ]
  },
  {
   "cell_type": "code",
   "execution_count": 14,
   "metadata": {},
   "outputs": [
    {
     "name": "stdout",
     "output_type": "stream",
     "text": [
      "Average error: 0.8432866613431059\n",
      "Error variance: 0.13348983190138347\n",
      "Coef: [-0.          0.         -0.         -0.21727138  0.07391699  0.\n",
      " -0.         -0.          0.26572281  0.         -0.          0.\n",
      " -0.          1.20944333 -0.         -0.         -0.          0.\n",
      "  0.          0.          0.        ]\n",
      "BestAlpha: 0.01\n"
     ]
    }
   ],
   "source": [
    "learn(C_, C_test, y_, y_test, sparsity, centering = True, norm = True)"
   ]
  }
 ],
 "metadata": {
  "kernelspec": {
   "display_name": "Python 3",
   "language": "python",
   "name": "python3"
  },
  "language_info": {
   "codemirror_mode": {
    "name": "ipython",
    "version": 3
   },
   "file_extension": ".py",
   "mimetype": "text/x-python",
   "name": "python",
   "nbconvert_exporter": "python",
   "pygments_lexer": "ipython3",
   "version": "3.7.0"
  }
 },
 "nbformat": 4,
 "nbformat_minor": 2
}
