{
 "cells": [
  {
   "cell_type": "code",
   "execution_count": 1,
   "metadata": {},
   "outputs": [
    {
     "name": "stderr",
     "output_type": "stream",
     "text": [
      "/Users/danilo/.conda/envs/bcb/lib/python3.7/site-packages/sklearn/utils/__init__.py:4: DeprecationWarning: Using or importing the ABCs from 'collections' instead of from 'collections.abc' is deprecated, and in 3.8 it will stop working\n",
      "  from collections import Sequence\n"
     ]
    }
   ],
   "source": [
    "import pandas as pd\n",
    "import os\n",
    "import numpy as np\n",
    "\n",
    "import Utils as ut\n",
    "import CortesAlignmentFile as ca\n",
    "import mySampler as ms\n",
    " \n",
    "from sklearn.model_selection import StratifiedShuffleSplit"
   ]
  },
  {
   "cell_type": "markdown",
   "metadata": {},
   "source": [
    "## Dataset Configuration"
   ]
  },
  {
   "cell_type": "code",
   "execution_count": 2,
   "metadata": {},
   "outputs": [],
   "source": [
    "d_clinical = pd.read_csv(os.path.join('data', 'dataset_clinical_cleaned.csv'))\n",
    "d_genetic = pd.read_csv(os.path.join('data', 'dataset_genetic_cleaned_noOHE.csv'))\n",
    "d_vampire = pd.read_csv(os.path.join('data', 'dataset_vampire_cleaned.csv'))\n",
    "outputs = pd.read_csv(os.path.join('data', 'outputs_cleaned.csv'))"
   ]
  },
  {
   "cell_type": "code",
   "execution_count": 3,
   "metadata": {},
   "outputs": [],
   "source": [
    "C = d_clinical.values\n",
    "G = d_genetic.values\n",
    "V = d_vampire.values"
   ]
  },
  {
   "cell_type": "code",
   "execution_count": 4,
   "metadata": {},
   "outputs": [],
   "source": [
    "y_d = outputs[\"dement_fail\"].values\n",
    "y_c = outputs[\"cvd_fail\"].values"
   ]
  },
  {
   "cell_type": "code",
   "execution_count": 5,
   "metadata": {},
   "outputs": [],
   "source": [
    "# COMPUTATIONAL COMPLEXITY: Reduce #samples\n",
    "tr_idx, ts_idx = next(StratifiedShuffleSplit(n_splits=1, test_size=0.25).split(C, y_d))"
   ]
  },
  {
   "cell_type": "code",
   "execution_count": 6,
   "metadata": {},
   "outputs": [],
   "source": [
    "C_ = C[tr_idx]\n",
    "C_test = C[ts_idx]\n",
    "G_ = G[tr_idx]\n",
    "G_test = G[ts_idx]\n",
    "V_ = V[tr_idx]\n",
    "V_test = V[ts_idx]"
   ]
  },
  {
   "cell_type": "code",
   "execution_count": 7,
   "metadata": {},
   "outputs": [],
   "source": [
    "y_d_ = y_d[tr_idx]\n",
    "y_d_test = y_d[ts_idx]\n",
    "\n",
    "y_c_ = y_c[tr_idx]\n",
    "y_c_test = y_c[ts_idx]"
   ]
  },
  {
   "cell_type": "code",
   "execution_count": 8,
   "metadata": {},
   "outputs": [],
   "source": [
    "ds_list = [C_, G_, V_]\n",
    "ds_test = [C_test, G_test, V_test]\n",
    "ds_names = ['clinic', 'genetic', 'vampire']"
   ]
  },
  {
   "cell_type": "markdown",
   "metadata": {},
   "source": [
    "## Kernel Definition"
   ]
  },
  {
   "cell_type": "code",
   "execution_count": 9,
   "metadata": {},
   "outputs": [],
   "source": [
    "kernel_names = ['linear', 'gaussian']\n",
    "kernel_type = [{'linear':[1], 'gaussian':[0.4, 0.7]},\n",
    "               {'linear':[1], 'gaussian':[0.5, 1]}]"
   ]
  },
  {
   "cell_type": "code",
   "execution_count": 10,
   "metadata": {},
   "outputs": [],
   "source": [
    "estimator = ca.centeredKernelAlignment"
   ]
  },
  {
   "cell_type": "markdown",
   "metadata": {},
   "source": [
    "## Basic approach"
   ]
  },
  {
   "cell_type": "code",
   "execution_count": 11,
   "metadata": {},
   "outputs": [],
   "source": [
    "sampler = ms.mySampler(n_splits=3, test_size=.25)"
   ]
  },
  {
   "cell_type": "markdown",
   "metadata": {},
   "source": [
    "### Dementia"
   ]
  },
  {
   "cell_type": "code",
   "execution_count": 12,
   "metadata": {},
   "outputs": [
    {
     "name": "stdout",
     "output_type": "stream",
     "text": [
      "\n",
      "1 split out of 3 ...\n",
      "\tWorking on config 1 of 2: {'linear': [1], 'gaussian': [0.4, 0.7]}\n",
      "Fold no. 1\n",
      "Fold no. 2\n",
      "Fold no. 3\n",
      "Validation complete, config selected:[[1, 0.4], [1, 0.7], [1, 0.7]]\n",
      "\tResult of 1:\n",
      "CA: 0.015180968250613602\n",
      "Accuracy: 0.4883268482490272\n",
      "Precision: 0.15476190476190477\n",
      "Recall: 0.43820224719101125\n",
      "[linear:1, gaussian:0.4, ]\n",
      "[linear:1, gaussian:0.7, ]\n",
      "[linear:1, gaussian:0.7, ]\n",
      "\n",
      "eta vector: [3.79175478e-05 3.54440968e-08 1.25911154e-04 3.54428078e-08\n",
      " 2.06170103e-11 3.54428013e-08]\n",
      "\n",
      "\n",
      "\tCompleted in 0.65 minutes\n",
      "\tWorking on config 2 of 2: {'linear': [1], 'gaussian': [0.5, 1]}\n",
      "Fold no. 1\n",
      "Fold no. 2\n",
      "Fold no. 3\n",
      "Validation complete, config selected:[[1, 0.5], [1, 1], [1, 1]]\n",
      "\tResult of 1:\n",
      "CA: 0.015180968250613602\n",
      "Accuracy: 0.4883268482490272\n",
      "Precision: 0.15476190476190477\n",
      "Recall: 0.43820224719101125\n",
      "[linear:1, gaussian:0.4, ]\n",
      "[linear:1, gaussian:0.7, ]\n",
      "[linear:1, gaussian:0.7, ]\n",
      "\n",
      "eta vector: [3.79175478e-05 3.54440968e-08 1.25911154e-04 3.54428078e-08\n",
      " 2.06170103e-11 3.54428013e-08]\n",
      "\n",
      "CA: 0.015180968250445792\n",
      "Accuracy: 0.4883268482490272\n",
      "Precision: 0.15476190476190477\n",
      "Recall: 0.43820224719101125\n",
      "[linear:1, gaussian:0.5, ]\n",
      "[linear:1, gaussian:1, ]\n",
      "[linear:1, gaussian:1, ]\n",
      "\n",
      "eta vector: [3.79175478e-05 3.54433022e-08 1.25911153e-04 3.54428014e-08\n",
      " 2.06170103e-11 3.54428013e-08]\n",
      "\n",
      "\n",
      "\tCompleted in 1.3333333333333333 minutes\n",
      "\n",
      "2 split out of 3 ...\n",
      "\tWorking on config 1 of 2: {'linear': [1], 'gaussian': [0.4, 0.7]}\n",
      "Fold no. 1\n",
      "Fold no. 2\n",
      "Fold no. 3\n",
      "Validation complete, config selected:[[1, 0.7], [1, 0.4], [1, 0.4]]\n",
      "\tResult of 2:\n",
      "CA: 0.01715458994199003\n",
      "Accuracy: 0.5155642023346303\n",
      "Precision: 0.18\n",
      "Recall: 0.5056179775280899\n",
      "[linear:1, gaussian:0.7, ]\n",
      "[linear:1, gaussian:0.4, ]\n",
      "[linear:1, gaussian:0.4, ]\n",
      "\n",
      "eta vector: [4.42373498e-05 3.61257616e-08 1.35280160e-04 3.61247774e-08\n",
      " 1.10078566e-11 3.61228007e-08]\n",
      "\n",
      "\n",
      "\tCompleted in 0.6833333333333333 minutes\n",
      "\tWorking on config 2 of 2: {'linear': [1], 'gaussian': [0.5, 1]}\n",
      "Fold no. 1\n",
      "Fold no. 2\n",
      "Fold no. 3\n",
      "Validation complete, config selected:[[1, 1], [1, 0.5], [1, 1]]\n",
      "\tResult of 2:\n",
      "CA: 0.01715458994199003\n",
      "Accuracy: 0.5155642023346303\n",
      "Precision: 0.18\n",
      "Recall: 0.5056179775280899\n",
      "[linear:1, gaussian:0.7, ]\n",
      "[linear:1, gaussian:0.4, ]\n",
      "[linear:1, gaussian:0.4, ]\n",
      "\n",
      "eta vector: [4.42373498e-05 3.61257616e-08 1.35280160e-04 3.61247774e-08\n",
      " 1.10078566e-11 3.61228007e-08]\n",
      "\n",
      "CA: 0.017154589941966877\n",
      "Accuracy: 0.5155642023346303\n",
      "Precision: 0.18\n",
      "Recall: 0.5056179775280899\n",
      "[linear:1, gaussian:1, ]\n",
      "[linear:1, gaussian:0.5, ]\n",
      "[linear:1, gaussian:1, ]\n",
      "\n",
      "eta vector: [4.42373498e-05 3.61257616e-08 1.35280160e-04 3.61230407e-08\n",
      " 1.10078566e-11 3.61228007e-08]\n",
      "\n",
      "\n",
      "\tCompleted in 1.3666666666666667 minutes\n",
      "\n",
      "3 split out of 3 ...\n",
      "\tWorking on config 1 of 2: {'linear': [1], 'gaussian': [0.4, 0.7]}\n",
      "Fold no. 1\n",
      "Fold no. 2\n",
      "Fold no. 3\n",
      "Validation complete, config selected:[[1, 0.4], [1, 0.4], [1, 0.4]]\n",
      "\tResult of 3:\n",
      "CA: 0.014797400617499542\n",
      "Accuracy: 0.4766536964980545\n",
      "Precision: 0.15384615384615385\n",
      "Recall: 0.449438202247191\n",
      "[linear:1, gaussian:0.4, ]\n",
      "[linear:1, gaussian:0.4, ]\n",
      "[linear:1, gaussian:0.4, ]\n",
      "\n",
      "eta vector: [ 3.55201334e-05  5.24735286e-08  1.95687308e-04  5.24789672e-08\n",
      " -1.28047460e-13  5.24753974e-08]\n",
      "\n",
      "\n",
      "\tCompleted in 0.6333333333333333 minutes\n",
      "\tWorking on config 2 of 2: {'linear': [1], 'gaussian': [0.5, 1]}\n",
      "Fold no. 1\n",
      "Fold no. 2\n",
      "Fold no. 3\n",
      "Validation complete, config selected:[[1, 0.5], [1, 0.5], [1, 0.5]]\n",
      "\tResult of 3:\n",
      "CA: 0.014797400617499542\n",
      "Accuracy: 0.4766536964980545\n",
      "Precision: 0.15384615384615385\n",
      "Recall: 0.449438202247191\n",
      "[linear:1, gaussian:0.4, ]\n",
      "[linear:1, gaussian:0.4, ]\n",
      "[linear:1, gaussian:0.4, ]\n",
      "\n",
      "eta vector: [ 3.55201334e-05  5.24735286e-08  1.95687308e-04  5.24789672e-08\n",
      " -1.28047460e-13  5.24753974e-08]\n",
      "\n",
      "CA: 0.014797400617391106\n",
      "Accuracy: 0.4766536964980545\n",
      "Precision: 0.15384615384615385\n",
      "Recall: 0.449438202247191\n",
      "[linear:1, gaussian:0.5, ]\n",
      "[linear:1, gaussian:0.5, ]\n",
      "[linear:1, gaussian:0.5, ]\n",
      "\n",
      "eta vector: [ 3.55201334e-05  5.24774466e-08  1.95687308e-04  5.24758782e-08\n",
      " -1.28047460e-13  5.24753974e-08]\n",
      "\n",
      "\n",
      "\tCompleted in 1.3333333333333333 minutes\n"
     ]
    }
   ],
   "source": [
    "result1 = sampler.sample(kernel_type, estimator, ds_list, y_d_, valid_fold = 3, verbose=True)"
   ]
  },
  {
   "cell_type": "code",
   "execution_count": 13,
   "metadata": {},
   "outputs": [
    {
     "name": "stdout",
     "output_type": "stream",
     "text": [
      "Perfomances computed for dictionary settings 1:\n",
      "\tAccuracy: 0.5189504373177842\n",
      "\tPrecision: 0.20612813370473537\n",
      "\tRecall: 0.6218487394957983\n",
      "Perfomances computed for dictionary settings 2:\n",
      "\tAccuracy: 0.4620991253644315\n",
      "\tPrecision: 0.17616580310880828\n",
      "\tRecall: 0.5714285714285714\n"
     ]
    }
   ],
   "source": [
    "w_dict, w_list = result1.votingOverCA(ds_names, kernel_names)\n",
    "ut.testConfigurations(estimator, y_d_, y_d_test, w_list, ds_list, ds_test, kernel_names)"
   ]
  },
  {
   "cell_type": "code",
   "execution_count": 14,
   "metadata": {},
   "outputs": [
    {
     "data": {
      "text/plain": [
       "[{'clinic': {'linear': 1, 'gaussian': 0.4},\n",
       "  'genetic': {'linear': 1, 'gaussian': 0.4},\n",
       "  'vampire': {'linear': 1, 'gaussian': 0.4}},\n",
       " {'clinic': {'linear': 1, 'gaussian': 0.5},\n",
       "  'genetic': {'linear': 1, 'gaussian': 0.5},\n",
       "  'vampire': {'linear': 1, 'gaussian': 1}}]"
      ]
     },
     "execution_count": 14,
     "metadata": {},
     "output_type": "execute_result"
    }
   ],
   "source": [
    "w_dict"
   ]
  },
  {
   "cell_type": "code",
   "execution_count": 15,
   "metadata": {},
   "outputs": [
    {
     "name": "stdout",
     "output_type": "stream",
     "text": [
      "statistics of configuration 1\n",
      "{'config': {'linear': [[1, 1, 1], [1, 1, 1], [1, 1, 1]], 'gaussian': [[0.4, 0.7, 0.7], [0.7, 0.4, 0.4], [0.4, 0.4, 0.4]]}, 'CA': (0.01571098627003439, 1.0665164690373546e-06), 'Accuracy': (0.49351491569390404, 0.0002657959326493283), 'Precision': (0.16286935286935286, 0.00014686930218065733), 'Recall': (0.46441947565543074, 0.0008696993926131663), 'eta': (array([3.92250104e-05, 4.13477957e-08, 1.52292874e-04, 4.13488508e-08,\n",
      "       1.04989398e-11, 4.13469998e-08]), array([1.35197061e-11, 6.19684115e-17, 9.56168161e-10, 6.20172596e-17,\n",
      "       7.18557348e-23, 6.19976830e-17]))}\n",
      "statistics of configuration 2\n",
      "{'config': {'linear': [[1, 1, 1], [1, 1, 1], [1, 1, 1]], 'gaussian': [[0.5, 1, 1], [1, 0.5, 1], [0.5, 0.5, 0.5]]}, 'CA': (0.015710986269934592, 1.0665164691404118e-06), 'Accuracy': (0.49351491569390404, 0.0002657959326493283), 'Precision': (0.16286935286935286, 0.00014686930218065733), 'Recall': (0.46441947565543074, 0.0008696993926131663), 'eta': (array([3.92250104e-05, 4.13488368e-08, 1.52292874e-04, 4.13472401e-08,\n",
      "       1.04989398e-11, 4.13469998e-08]), array([1.35197061e-11, 6.20006036e-17, 9.56168161e-10, 6.20004144e-17,\n",
      "       7.18557348e-23, 6.19976827e-17]))}\n"
     ]
    }
   ],
   "source": [
    "result1.performancesFeatures()"
   ]
  },
  {
   "cell_type": "markdown",
   "metadata": {},
   "source": [
    "### Cardio"
   ]
  },
  {
   "cell_type": "code",
   "execution_count": null,
   "metadata": {},
   "outputs": [
    {
     "name": "stdout",
     "output_type": "stream",
     "text": [
      "\n",
      "1 split out of 3 ...\n",
      "\tWorking on config 1 of 2: {'linear': [1], 'gaussian': [0.4, 0.7]}\n",
      "Fold no. 1\n",
      "Fold no. 2\n",
      "Fold no. 3\n",
      "Validation complete, config selected:[[1, 0.7], [1, 0.7], [1, 0.7]]\n",
      "\tResult of 1:\n",
      "CA: 0.01259490841709298\n",
      "Accuracy: 0.4669260700389105\n",
      "Precision: 0.30303030303030304\n",
      "Recall: 0.47058823529411764\n",
      "[linear:1, gaussian:0.7, ]\n",
      "[linear:1, gaussian:0.7, ]\n",
      "[linear:1, gaussian:0.7, ]\n",
      "\n",
      "eta vector: [2.99031754e-05 6.69556518e-08 2.59919442e-04 6.69566558e-08\n",
      " 1.75456113e-12 6.69566385e-08]\n",
      "\n",
      "\n",
      "\tCompleted in 0.7 minutes\n",
      "\tWorking on config 2 of 2: {'linear': [1], 'gaussian': [0.5, 1]}\n",
      "Fold no. 1\n",
      "Fold no. 2\n",
      "Fold no. 3\n",
      "Validation complete, config selected:[[1, 1], [1, 1], [1, 1]]\n",
      "\tResult of 1:\n",
      "CA: 0.01259490841709298\n",
      "Accuracy: 0.4669260700389105\n",
      "Precision: 0.30303030303030304\n",
      "Recall: 0.47058823529411764\n",
      "[linear:1, gaussian:0.7, ]\n",
      "[linear:1, gaussian:0.7, ]\n",
      "[linear:1, gaussian:0.7, ]\n",
      "\n",
      "eta vector: [2.99031754e-05 6.69556518e-08 2.59919442e-04 6.69566558e-08\n",
      " 1.75456113e-12 6.69566385e-08]\n",
      "\n",
      "CA: 0.012594908417120125\n",
      "Accuracy: 0.4669260700389105\n",
      "Precision: 0.30303030303030304\n",
      "Recall: 0.47058823529411764\n",
      "[linear:1, gaussian:1, ]\n",
      "[linear:1, gaussian:1, ]\n",
      "[linear:1, gaussian:1, ]\n",
      "\n",
      "eta vector: [2.99031754e-05 6.69556518e-08 2.59919442e-04 6.69566354e-08\n",
      " 1.75456113e-12 6.69566354e-08]\n",
      "\n",
      "\n",
      "\tCompleted in 1.3666666666666667 minutes\n",
      "\n",
      "2 split out of 3 ...\n",
      "\tWorking on config 1 of 2: {'linear': [1], 'gaussian': [0.4, 0.7]}\n",
      "Fold no. 1\n",
      "Fold no. 2\n",
      "Fold no. 3\n",
      "Validation complete, config selected:[[1, 0.7], [1, 0.7], [1, 0.7]]\n",
      "\tResult of 2:\n",
      "CA: 0.013758147329972614\n",
      "Accuracy: 0.5233463035019456\n",
      "Precision: 0.36059479553903345\n",
      "Recall: 0.5705882352941176\n",
      "[linear:1, gaussian:0.7, ]\n",
      "[linear:1, gaussian:0.7, ]\n",
      "[linear:1, gaussian:0.7, ]\n",
      "\n",
      "eta vector: [3.41620765e-05 5.54376936e-08 2.11077672e-04 5.54375081e-08\n",
      " 6.95392587e-12 5.54375005e-08]\n",
      "\n",
      "\n",
      "\tCompleted in 0.7 minutes\n",
      "\tWorking on config 2 of 2: {'linear': [1], 'gaussian': [0.5, 1]}\n",
      "Fold no. 1\n",
      "Fold no. 2\n",
      "Fold no. 3\n",
      "Validation complete, config selected:[[1, 1], [1, 1], [1, 1]]\n",
      "\tResult of 2:\n",
      "CA: 0.013758147329972614\n",
      "Accuracy: 0.5233463035019456\n",
      "Precision: 0.36059479553903345\n",
      "Recall: 0.5705882352941176\n",
      "[linear:1, gaussian:0.7, ]\n",
      "[linear:1, gaussian:0.7, ]\n",
      "[linear:1, gaussian:0.7, ]\n",
      "\n",
      "eta vector: [3.41620765e-05 5.54376936e-08 2.11077672e-04 5.54375081e-08\n",
      " 6.95392587e-12 5.54375005e-08]\n",
      "\n",
      "CA: 0.013758147329960883\n",
      "Accuracy: 0.5233463035019456\n",
      "Precision: 0.36059479553903345\n",
      "Recall: 0.5705882352941176\n",
      "[linear:1, gaussian:1, ]\n",
      "[linear:1, gaussian:1, ]\n",
      "[linear:1, gaussian:1, ]\n",
      "\n",
      "eta vector: [3.41620765e-05 5.54376936e-08 2.11077672e-04 5.54374981e-08\n",
      " 6.95392587e-12 5.54374981e-08]\n",
      "\n",
      "\n",
      "\tCompleted in 1.4 minutes\n",
      "\n",
      "3 split out of 3 ...\n",
      "\tWorking on config 1 of 2: {'linear': [1], 'gaussian': [0.4, 0.7]}\n",
      "Fold no. 1\n",
      "Fold no. 2\n",
      "Fold no. 3\n",
      "Validation complete, config selected:[[1, 0.4], [1, 0.4], [1, 0.7]]\n",
      "\tResult of 3:\n",
      "CA: 0.013767493868635449\n",
      "Accuracy: 0.5038910505836576\n",
      "Precision: 0.3333333333333333\n",
      "Recall: 0.5\n",
      "[linear:1, gaussian:0.4, ]\n",
      "[linear:1, gaussian:0.4, ]\n",
      "[linear:1, gaussian:0.7, ]\n",
      "\n",
      "eta vector: [3.35584878e-05 7.29094520e-08 2.47269879e-04 7.29129985e-08\n",
      " 7.36650720e-12 7.29081174e-08]\n",
      "\n",
      "\n",
      "\tCompleted in 0.65 minutes\n",
      "\tWorking on config 2 of 2: {'linear': [1], 'gaussian': [0.5, 1]}\n",
      "Fold no. 1\n",
      "Fold no. 2\n",
      "Fold no. 3\n"
     ]
    }
   ],
   "source": [
    "result1 = sampler.sample(kernel_type, estimator, ds_list, y_c_, valid_fold = 3, verbose=True)"
   ]
  },
  {
   "cell_type": "code",
   "execution_count": null,
   "metadata": {},
   "outputs": [],
   "source": [
    "w_dict, w_list = result1.votingOverCA(ds_names, kernel_names)\n",
    "ut.testConfigurations(estimator, y_c_, y_c_test, w_list, ds_list, ds_test, kernel_names)"
   ]
  },
  {
   "cell_type": "code",
   "execution_count": null,
   "metadata": {},
   "outputs": [],
   "source": [
    "w_dict"
   ]
  },
  {
   "cell_type": "code",
   "execution_count": null,
   "metadata": {},
   "outputs": [],
   "source": [
    "result1.performancesFeatures()"
   ]
  },
  {
   "cell_type": "markdown",
   "metadata": {},
   "source": [
    "## Kernel normalization"
   ]
  },
  {
   "cell_type": "code",
   "execution_count": null,
   "metadata": {},
   "outputs": [],
   "source": [
    "sampler = ms.mySampler(n_splits=3, test_size=.25, normalize_kernels = True)"
   ]
  },
  {
   "cell_type": "markdown",
   "metadata": {},
   "source": [
    "### Dementia"
   ]
  },
  {
   "cell_type": "code",
   "execution_count": null,
   "metadata": {},
   "outputs": [],
   "source": [
    "result1 = sampler.sample(kernel_type, estimator, ds_list, y_d_, valid_fold = 3, verbose=True)"
   ]
  },
  {
   "cell_type": "code",
   "execution_count": null,
   "metadata": {},
   "outputs": [],
   "source": [
    "w_dict, w_list = result1.votingOverCA(ds_names, kernel_names)\n",
    "ut.testConfigurations(estimator, y_d_, y_d_test, w_list, ds_list, ds_test, kernel_names)"
   ]
  },
  {
   "cell_type": "code",
   "execution_count": null,
   "metadata": {},
   "outputs": [],
   "source": [
    "w_dict"
   ]
  },
  {
   "cell_type": "code",
   "execution_count": null,
   "metadata": {},
   "outputs": [],
   "source": [
    "result1.performancesFeatures()"
   ]
  },
  {
   "cell_type": "markdown",
   "metadata": {},
   "source": [
    "### Cardio"
   ]
  },
  {
   "cell_type": "code",
   "execution_count": null,
   "metadata": {},
   "outputs": [],
   "source": [
    "result1 = sampler.sample(kernel_type, estimator, ds_list, y_c_, valid_fold = 3, verbose=True)"
   ]
  },
  {
   "cell_type": "code",
   "execution_count": null,
   "metadata": {},
   "outputs": [],
   "source": [
    "w_dict, w_list = result1.votingOverCA(ds_names, kernel_names)\n",
    "ut.testConfigurations(estimator, y_c_, y_c_test, w_list, ds_list, ds_test, kernel_names)"
   ]
  },
  {
   "cell_type": "code",
   "execution_count": null,
   "metadata": {},
   "outputs": [],
   "source": [
    "w_dict"
   ]
  },
  {
   "cell_type": "code",
   "execution_count": null,
   "metadata": {},
   "outputs": [],
   "source": [
    "result1.performancesFeatures()"
   ]
  },
  {
   "cell_type": "markdown",
   "metadata": {},
   "source": [
    "## Normalized data"
   ]
  },
  {
   "cell_type": "code",
   "execution_count": null,
   "metadata": {},
   "outputs": [],
   "source": [
    "sampler = ms.mySampler(n_splits=3, test_size=.25, normalizing = True)"
   ]
  },
  {
   "cell_type": "markdown",
   "metadata": {},
   "source": [
    "### Dementia"
   ]
  },
  {
   "cell_type": "code",
   "execution_count": null,
   "metadata": {},
   "outputs": [],
   "source": [
    "result1 = sampler.sample(kernel_type, estimator, ds_list, y_d_, valid_fold = 3, verbose=True, exclusion_list = [[5,6,7,9,10,13,15,16,17,18,19], list(range(G.shape[1]-3)), []])"
   ]
  },
  {
   "cell_type": "code",
   "execution_count": null,
   "metadata": {},
   "outputs": [],
   "source": [
    "w_dict, w_list = result1.votingOverCA(ds_names, kernel_names)\n",
    "ut.testConfigurations(estimator, y_d_, y_d_test, w_list, ds_list, ds_test, kernel_names)"
   ]
  },
  {
   "cell_type": "code",
   "execution_count": null,
   "metadata": {},
   "outputs": [],
   "source": [
    "w_dict"
   ]
  },
  {
   "cell_type": "code",
   "execution_count": null,
   "metadata": {},
   "outputs": [],
   "source": [
    "result1.performancesFeatures()"
   ]
  },
  {
   "cell_type": "markdown",
   "metadata": {},
   "source": [
    "### Cardio"
   ]
  },
  {
   "cell_type": "code",
   "execution_count": null,
   "metadata": {},
   "outputs": [],
   "source": [
    "result1 = sampler.sample(kernel_type, estimator, ds_list, y_c_, valid_fold = 3, verbose=True, exclusion_list = [[5,6,7,9,10,13,15,16,17,18,19], list(range(G.shape[1]-3)), []])"
   ]
  },
  {
   "cell_type": "code",
   "execution_count": null,
   "metadata": {},
   "outputs": [],
   "source": [
    "w_dict, w_list = result1.votingOverCA(ds_names, kernel_names)\n",
    "ut.testConfigurations(estimator, y_c_, y_c_test, w_list, ds_list, ds_test, kernel_names)"
   ]
  },
  {
   "cell_type": "code",
   "execution_count": null,
   "metadata": {},
   "outputs": [],
   "source": [
    "w_dict"
   ]
  },
  {
   "cell_type": "code",
   "execution_count": null,
   "metadata": {},
   "outputs": [],
   "source": [
    "result1.performancesFeatures()"
   ]
  },
  {
   "cell_type": "markdown",
   "metadata": {},
   "source": [
    "## Origin Data Centering"
   ]
  },
  {
   "cell_type": "code",
   "execution_count": null,
   "metadata": {},
   "outputs": [],
   "source": [
    "sampler = ms.mySampler(n_splits=3, test_size=.25, centering = True)"
   ]
  },
  {
   "cell_type": "markdown",
   "metadata": {},
   "source": [
    "### Dementia"
   ]
  },
  {
   "cell_type": "code",
   "execution_count": null,
   "metadata": {},
   "outputs": [],
   "source": [
    "result1 = sampler.sample(kernel_type, estimator, ds_list, y_d_, valid_fold = 3, verbose=True, exclusion_list = [[5,6,7,9,10,13,15,16,17,18,19], list(range(G.shape[1]-3)), []])"
   ]
  },
  {
   "cell_type": "code",
   "execution_count": null,
   "metadata": {},
   "outputs": [],
   "source": [
    "w_dict, w_list = result1.votingOverCA(ds_names, kernel_names)\n",
    "ut.testConfigurations(estimator, y_d_, y_d_test, w_list, ds_list, ds_test, kernel_names)"
   ]
  },
  {
   "cell_type": "code",
   "execution_count": null,
   "metadata": {},
   "outputs": [],
   "source": [
    "w_dict"
   ]
  },
  {
   "cell_type": "code",
   "execution_count": null,
   "metadata": {},
   "outputs": [],
   "source": [
    "result1.performancesFeatures()"
   ]
  },
  {
   "cell_type": "markdown",
   "metadata": {},
   "source": [
    "### Cardio"
   ]
  },
  {
   "cell_type": "code",
   "execution_count": null,
   "metadata": {},
   "outputs": [],
   "source": [
    "result1 = sampler.sample(kernel_type, estimator, ds_list, y_c_, valid_fold = 3, verbose=True, exclusion_list = [[5,6,7,9,10,13,15,16,17,18,19], list(range(G.shape[1]-3)), []])"
   ]
  },
  {
   "cell_type": "code",
   "execution_count": null,
   "metadata": {},
   "outputs": [],
   "source": [
    "w_dict, w_list = result1.votingOverCA(ds_names, kernel_names)\n",
    "ut.testConfigurations(estimator, y_c_, y_c_test, w_list, ds_list, ds_test, kernel_names)"
   ]
  },
  {
   "cell_type": "code",
   "execution_count": null,
   "metadata": {},
   "outputs": [],
   "source": [
    "w_dict"
   ]
  },
  {
   "cell_type": "code",
   "execution_count": null,
   "metadata": {},
   "outputs": [],
   "source": [
    "result1.performancesFeatures()"
   ]
  },
  {
   "cell_type": "markdown",
   "metadata": {},
   "source": [
    "## Origin Data  Centering and Normalization"
   ]
  },
  {
   "cell_type": "code",
   "execution_count": null,
   "metadata": {},
   "outputs": [],
   "source": [
    "sampler = ms.mySampler(n_splits=3, test_size=.25, centering = True, normalizing = True)"
   ]
  },
  {
   "cell_type": "markdown",
   "metadata": {},
   "source": [
    "### Dementia"
   ]
  },
  {
   "cell_type": "code",
   "execution_count": null,
   "metadata": {},
   "outputs": [],
   "source": [
    "result1 = sampler.sample(kernel_type, estimator, ds_list, y_d_, valid_fold = 3, verbose=True, exclusion_list = [[5,6,7,9,10,13,15,16,17,18,19], list(range(G.shape[1]-3)), []])"
   ]
  },
  {
   "cell_type": "code",
   "execution_count": null,
   "metadata": {},
   "outputs": [],
   "source": [
    "w_dict, w_list = result1.votingOverCA(ds_names, kernel_names)\n",
    "ut.testConfigurations(estimator, y_d_, y_d_test, w_list, ds_list, ds_test, kernel_names)"
   ]
  },
  {
   "cell_type": "code",
   "execution_count": null,
   "metadata": {},
   "outputs": [],
   "source": [
    "w_dict"
   ]
  },
  {
   "cell_type": "code",
   "execution_count": null,
   "metadata": {},
   "outputs": [],
   "source": [
    "result1.performancesFeatures()"
   ]
  },
  {
   "cell_type": "markdown",
   "metadata": {},
   "source": [
    "### Cardio"
   ]
  },
  {
   "cell_type": "code",
   "execution_count": null,
   "metadata": {},
   "outputs": [],
   "source": [
    "result1 = sampler.sample(kernel_type, estimator, ds_list, y_c_, valid_fold = 3, verbose=True, exclusion_list = [[5,6,7,9,10,13,15,16,17,18,19], list(range(G.shape[1]-3)), []])"
   ]
  },
  {
   "cell_type": "code",
   "execution_count": null,
   "metadata": {},
   "outputs": [],
   "source": [
    "w_dict, w_list = result1.votingOverCA(ds_names, kernel_names)\n",
    "ut.testConfigurations(estimator, y_c_, y_c_test, w_list, ds_list, ds_test, kernel_names)"
   ]
  },
  {
   "cell_type": "code",
   "execution_count": null,
   "metadata": {},
   "outputs": [],
   "source": [
    "w_dict"
   ]
  },
  {
   "cell_type": "code",
   "execution_count": null,
   "metadata": {},
   "outputs": [],
   "source": [
    "result1.performancesFeatures()"
   ]
  },
  {
   "cell_type": "markdown",
   "metadata": {},
   "source": [
    "## Normalization, Kernel Normalization"
   ]
  },
  {
   "cell_type": "code",
   "execution_count": null,
   "metadata": {},
   "outputs": [],
   "source": [
    "sampler = ms.mySampler(n_splits=3, test_size=.25, normalizing = True, normalize_kernels = True)"
   ]
  },
  {
   "cell_type": "markdown",
   "metadata": {},
   "source": [
    "### Dementia"
   ]
  },
  {
   "cell_type": "code",
   "execution_count": null,
   "metadata": {},
   "outputs": [],
   "source": [
    "result1 = sampler.sample(kernel_type, estimator, ds_list, y_d_, valid_fold = 3, verbose=True, exclusion_list = [[5,6,7,9,10,13,15,16,17,18,19], list(range(G.shape[1]-3)), []])"
   ]
  },
  {
   "cell_type": "code",
   "execution_count": null,
   "metadata": {},
   "outputs": [],
   "source": [
    "w_dict, w_list = result1.votingOverCA(ds_names, kernel_names)\n",
    "ut.testConfigurations(estimator, y_d_, y_d_test, w_list, ds_list, ds_test, kernel_names)"
   ]
  },
  {
   "cell_type": "code",
   "execution_count": null,
   "metadata": {},
   "outputs": [],
   "source": [
    "w_dict"
   ]
  },
  {
   "cell_type": "code",
   "execution_count": null,
   "metadata": {},
   "outputs": [],
   "source": [
    "result1.performancesFeatures()"
   ]
  },
  {
   "cell_type": "markdown",
   "metadata": {},
   "source": [
    "### Cardio"
   ]
  },
  {
   "cell_type": "code",
   "execution_count": null,
   "metadata": {},
   "outputs": [],
   "source": [
    "result1 = sampler.sample(kernel_type, estimator, ds_list, y_c_, valid_fold = 3, verbose=True, exclusion_list = [[5,6,7,9,10,13,15,16,17,18,19], list(range(G.shape[1]-3)), []])"
   ]
  },
  {
   "cell_type": "code",
   "execution_count": null,
   "metadata": {},
   "outputs": [],
   "source": [
    "w_dict, w_list = result1.votingOverCA(ds_names, kernel_names)\n",
    "ut.testConfigurations(estimator, y_c_, y_c_test, w_list, ds_list, ds_test, kernel_names)"
   ]
  },
  {
   "cell_type": "code",
   "execution_count": null,
   "metadata": {},
   "outputs": [],
   "source": [
    "w_dict"
   ]
  },
  {
   "cell_type": "code",
   "execution_count": null,
   "metadata": {},
   "outputs": [],
   "source": [
    "result1.performancesFeatures()"
   ]
  },
  {
   "cell_type": "markdown",
   "metadata": {},
   "source": [
    "## Centering, Kernel Normalization"
   ]
  },
  {
   "cell_type": "code",
   "execution_count": null,
   "metadata": {},
   "outputs": [],
   "source": [
    "sampler = ms.mySampler(n_splits=3, test_size=.25, centering = True, normalize_kernels = True)"
   ]
  },
  {
   "cell_type": "markdown",
   "metadata": {},
   "source": [
    "### Dementia"
   ]
  },
  {
   "cell_type": "code",
   "execution_count": null,
   "metadata": {},
   "outputs": [],
   "source": [
    "result1 = sampler.sample(kernel_type, estimator, ds_list, y_d_, valid_fold = 3, verbose=True, exclusion_list = [[5,6,7,9,10,13,15,16,17,18,19], list(range(G.shape[1]-3)), []])"
   ]
  },
  {
   "cell_type": "code",
   "execution_count": null,
   "metadata": {},
   "outputs": [],
   "source": [
    "w_dict, w_list = result1.votingOverCA(ds_names, kernel_names)\n",
    "ut.testConfigurations(estimator, y_d_, y_d_test, w_list, ds_list, ds_test, kernel_names)"
   ]
  },
  {
   "cell_type": "code",
   "execution_count": null,
   "metadata": {},
   "outputs": [],
   "source": [
    "w_dict"
   ]
  },
  {
   "cell_type": "code",
   "execution_count": null,
   "metadata": {},
   "outputs": [],
   "source": [
    "result1.performancesFeatures()"
   ]
  },
  {
   "cell_type": "markdown",
   "metadata": {},
   "source": [
    "### Cardio"
   ]
  },
  {
   "cell_type": "code",
   "execution_count": null,
   "metadata": {},
   "outputs": [],
   "source": [
    "result1 = sampler.sample(kernel_type, estimator, ds_list, y_c_, valid_fold = 3, verbose=True, exclusion_list = [[5,6,7,9,10,13,15,16,17,18,19], list(range(G.shape[1]-3)), []])"
   ]
  },
  {
   "cell_type": "code",
   "execution_count": null,
   "metadata": {},
   "outputs": [],
   "source": [
    "w_dict, w_list = result1.votingOverCA(ds_names, kernel_names)\n",
    "ut.testConfigurations(estimator, y_c_, y_c_test, w_list, ds_list, ds_test, kernel_names)"
   ]
  },
  {
   "cell_type": "code",
   "execution_count": null,
   "metadata": {},
   "outputs": [],
   "source": [
    "w_dict"
   ]
  },
  {
   "cell_type": "code",
   "execution_count": null,
   "metadata": {},
   "outputs": [],
   "source": [
    "result1.performancesFeatures()"
   ]
  },
  {
   "cell_type": "markdown",
   "metadata": {},
   "source": [
    "## Centering, Normalization, Kernel Normalization"
   ]
  },
  {
   "cell_type": "code",
   "execution_count": null,
   "metadata": {},
   "outputs": [],
   "source": [
    "sampler = ms.mySampler(n_splits=3, test_size=.25, centering = True, normalizing = True, normalize_kernels = True)"
   ]
  },
  {
   "cell_type": "markdown",
   "metadata": {},
   "source": [
    "### Dementia"
   ]
  },
  {
   "cell_type": "code",
   "execution_count": null,
   "metadata": {},
   "outputs": [],
   "source": [
    "result1 = sampler.sample(kernel_type, estimator, ds_list, y_d_, valid_fold = 3, verbose=True, exclusion_list = [[5,6,7,9,10,13,15,16,17,18,19], list(range(G.shape[1]-3)), []])"
   ]
  },
  {
   "cell_type": "code",
   "execution_count": null,
   "metadata": {},
   "outputs": [],
   "source": [
    "w_dict, w_list = result1.votingOverCA(ds_names, kernel_names)\n",
    "ut.testConfigurations(estimator, y_d_, y_d_test, w_list, ds_list, ds_test, kernel_names)"
   ]
  },
  {
   "cell_type": "code",
   "execution_count": null,
   "metadata": {},
   "outputs": [],
   "source": [
    "w_dict"
   ]
  },
  {
   "cell_type": "code",
   "execution_count": null,
   "metadata": {},
   "outputs": [],
   "source": [
    "result1.performancesFeatures()"
   ]
  },
  {
   "cell_type": "markdown",
   "metadata": {},
   "source": [
    "### Cardio"
   ]
  },
  {
   "cell_type": "code",
   "execution_count": null,
   "metadata": {},
   "outputs": [],
   "source": [
    "result1 = sampler.sample(kernel_type, estimator, ds_list, y_c_, valid_fold = 3, verbose=True, exclusion_list = [[5,6,7,9,10,13,15,16,17,18,19], list(range(G.shape[1]-3)), []])"
   ]
  },
  {
   "cell_type": "code",
   "execution_count": null,
   "metadata": {},
   "outputs": [],
   "source": [
    "w_dict, w_list = result1.votingOverCA(ds_names, kernel_names)\n",
    "ut.testConfigurations(estimator, y_c_, y_c_test, w_list, ds_list, ds_test, kernel_names)"
   ]
  },
  {
   "cell_type": "code",
   "execution_count": null,
   "metadata": {},
   "outputs": [],
   "source": [
    "w_dict"
   ]
  },
  {
   "cell_type": "code",
   "execution_count": null,
   "metadata": {},
   "outputs": [],
   "source": [
    "result1.performancesFeatures()"
   ]
  },
  {
   "cell_type": "markdown",
   "metadata": {},
   "source": [
    "## L2 Penalty, Centering, K-Normalization"
   ]
  },
  {
   "cell_type": "code",
   "execution_count": null,
   "metadata": {},
   "outputs": [],
   "source": [
    "sampler = ms.mySampler(n_splits=3, test_size=0.25, lamb = 0.5, centering = True, normalize_kernels = False)"
   ]
  },
  {
   "cell_type": "markdown",
   "metadata": {},
   "source": [
    "### Dementia"
   ]
  },
  {
   "cell_type": "code",
   "execution_count": null,
   "metadata": {},
   "outputs": [],
   "source": [
    "result1 = sampler.sample(kernel_type, estimator, ds_list, y_d_, valid_fold = 3, verbose=True, exclusion_list = [[5,6,7,9,10,13,15,16,17,18,19], list(range(G.shape[1]-3)), []])"
   ]
  },
  {
   "cell_type": "code",
   "execution_count": null,
   "metadata": {},
   "outputs": [],
   "source": [
    "w_dict, w_list = result1.votingOverCA(ds_names, kernel_names)\n",
    "ut.testConfigurations(estimator, y_d_, y_d_test, w_list, ds_list, ds_test, kernel_names)"
   ]
  },
  {
   "cell_type": "code",
   "execution_count": null,
   "metadata": {},
   "outputs": [],
   "source": [
    "w_dict"
   ]
  },
  {
   "cell_type": "code",
   "execution_count": null,
   "metadata": {},
   "outputs": [],
   "source": [
    "result1.performancesFeatures()"
   ]
  },
  {
   "cell_type": "markdown",
   "metadata": {},
   "source": [
    "### Cardio"
   ]
  },
  {
   "cell_type": "code",
   "execution_count": null,
   "metadata": {},
   "outputs": [],
   "source": [
    "result1 = sampler.sample(kernel_type, estimator, ds_list, y_c_, valid_fold = 3, verbose=True, exclusion_list = [[5,6,7,9,10,13,15,16,17,18,19], list(range(G.shape[1]-3)), []])"
   ]
  },
  {
   "cell_type": "code",
   "execution_count": null,
   "metadata": {},
   "outputs": [],
   "source": [
    "w_dict, w_list = result1.votingOverCA(ds_names, kernel_names)\n",
    "ut.testConfigurations(estimator, y_c_, y_c_test, w_list, ds_list, ds_test, kernel_names)"
   ]
  },
  {
   "cell_type": "code",
   "execution_count": null,
   "metadata": {},
   "outputs": [],
   "source": [
    "w_dict"
   ]
  },
  {
   "cell_type": "code",
   "execution_count": null,
   "metadata": {},
   "outputs": [],
   "source": [
    "result1.performancesFeatures()"
   ]
  },
  {
   "cell_type": "markdown",
   "metadata": {},
   "source": [
    "## Sparsity in eta, Centering, K-Normalization"
   ]
  },
  {
   "cell_type": "code",
   "execution_count": null,
   "metadata": {},
   "outputs": [],
   "source": [
    "# COMPUTATIONAL COMPLEXITY: Reduce #samples\n",
    "tr_idx, ts_idx = next(StratifiedShuffleSplit(n_splits=1, test_size=0.45).split(C, y_d))"
   ]
  },
  {
   "cell_type": "code",
   "execution_count": null,
   "metadata": {},
   "outputs": [],
   "source": [
    "C_ = C[tr_idx]\n",
    "C_test = C[ts_idx]\n",
    "G_ = G[tr_idx]\n",
    "G_test = G[ts_idx]\n",
    "V_ = V[tr_idx]\n",
    "V_test = V[ts_idx]"
   ]
  },
  {
   "cell_type": "code",
   "execution_count": null,
   "metadata": {},
   "outputs": [],
   "source": [
    "y_d_ = y_d[tr_idx]\n",
    "y_d_test = y_d[ts_idx]\n",
    "\n",
    "y_c_ = y_c[tr_idx]\n",
    "y_c_test = y_c[ts_idx]"
   ]
  },
  {
   "cell_type": "code",
   "execution_count": null,
   "metadata": {},
   "outputs": [],
   "source": [
    "ds_list = [C_, G_, V_]\n",
    "ds_test = [C_test, G_test, V_test]\n",
    "ds_names = ['clinic', 'genetic', 'vampire']"
   ]
  },
  {
   "cell_type": "code",
   "execution_count": null,
   "metadata": {},
   "outputs": [],
   "source": [
    "sampler = ms.mySampler(n_splits=3, test_size=.45, sparsity = 0.7, centering = True, normalize_kernels = True)"
   ]
  },
  {
   "cell_type": "markdown",
   "metadata": {},
   "source": [
    "### Dementia"
   ]
  },
  {
   "cell_type": "code",
   "execution_count": null,
   "metadata": {},
   "outputs": [],
   "source": [
    "result1 = sampler.sample(kernel_type, estimator, ds_list, y_d_, valid_fold = 3, verbose=True, exclusion_list = [[5,6,7,9,10,13,15,16,17,18,19], list(range(G.shape[1]-3)), []])"
   ]
  },
  {
   "cell_type": "code",
   "execution_count": null,
   "metadata": {},
   "outputs": [],
   "source": [
    "w_dict, w_list = result1.votingOverCA(ds_names, kernel_names)\n",
    "ut.testConfigurations(estimator, y_d_, y_d_test, w_list, ds_list, ds_test, kernel_names)"
   ]
  },
  {
   "cell_type": "code",
   "execution_count": null,
   "metadata": {},
   "outputs": [],
   "source": [
    "w_dict"
   ]
  },
  {
   "cell_type": "code",
   "execution_count": null,
   "metadata": {},
   "outputs": [],
   "source": [
    "result1.performancesFeatures()"
   ]
  },
  {
   "cell_type": "markdown",
   "metadata": {},
   "source": [
    "### Cardio"
   ]
  },
  {
   "cell_type": "code",
   "execution_count": null,
   "metadata": {},
   "outputs": [],
   "source": [
    "result1 = sampler.sample(kernel_type, estimator, ds_list, y_c_, valid_fold = 3, verbose=True, exclusion_list = [[5,6,7,9,10,13,15,16,17,18,19], list(range(G.shape[1]-3)), []])"
   ]
  },
  {
   "cell_type": "code",
   "execution_count": null,
   "metadata": {},
   "outputs": [],
   "source": [
    "w_dict, w_list = result1.votingOverCA(ds_names, kernel_names)\n",
    "ut.testConfigurations(estimator, y_c_, y_c_test, w_list, ds_list, ds_test, kernel_names)"
   ]
  },
  {
   "cell_type": "code",
   "execution_count": null,
   "metadata": {},
   "outputs": [],
   "source": [
    "w_dict"
   ]
  },
  {
   "cell_type": "code",
   "execution_count": null,
   "metadata": {},
   "outputs": [],
   "source": [
    "result1.performancesFeatures()"
   ]
  }
 ],
 "metadata": {
  "kernelspec": {
   "display_name": "Python 3",
   "language": "python",
   "name": "python3"
  },
  "language_info": {
   "codemirror_mode": {
    "name": "ipython",
    "version": 3
   },
   "file_extension": ".py",
   "mimetype": "text/x-python",
   "name": "python",
   "nbconvert_exporter": "python",
   "pygments_lexer": "ipython3",
   "version": "3.7.0"
  }
 },
 "nbformat": 4,
 "nbformat_minor": 2
}
