{
 "cells": [
  {
   "cell_type": "code",
   "execution_count": 1,
   "metadata": {},
   "outputs": [],
   "source": [
    "import pandas as pd\n",
    "import os\n",
    "import numpy as np\n",
    "\n",
    "import Utils as ut\n",
    "import CortesAlignmentFile as ca\n",
    "import mySampler as ms\n",
    " \n",
    "from sklearn.model_selection import StratifiedShuffleSplit, cross_validate\n",
    "from sklearn.linear_model import LogisticRegression\n",
    "from sklearn.metrics import accuracy_score, precision_score, recall_score\n",
    "from sklearn.preprocessing import normalize"
   ]
  },
  {
   "cell_type": "markdown",
   "metadata": {},
   "source": [
    "## Dataset Configuration"
   ]
  },
  {
   "cell_type": "code",
   "execution_count": 2,
   "metadata": {},
   "outputs": [],
   "source": [
    "d_toy = pd.read_csv(os.path.join('data', 'toyDataset.csv'))\n",
    "outputs = pd.read_csv(os.path.join('data', 'toyLabel.csv'))"
   ]
  },
  {
   "cell_type": "code",
   "execution_count": 3,
   "metadata": {},
   "outputs": [],
   "source": [
    "toy = d_toy.values\n",
    "y = outputs.values.reshape(-1)"
   ]
  },
  {
   "cell_type": "code",
   "execution_count": 4,
   "metadata": {},
   "outputs": [],
   "source": [
    "# COMPUTATIONAL COMPLEXITY: Reduce #samples\n",
    "tr_idx, ts_idx = next(StratifiedShuffleSplit(n_splits=1, test_size=0.25).split(toy, y))"
   ]
  },
  {
   "cell_type": "code",
   "execution_count": 5,
   "metadata": {},
   "outputs": [],
   "source": [
    "ds1 = np.hstack([toy[:,:5], toy[:,10:15]])\n",
    "ds1_tr = ds1[tr_idx]\n",
    "ds1_ts = ds1[ts_idx]\n",
    "\n",
    "ds2 = np.hstack([toy[:,5:10], toy[:,15:20]])\n",
    "ds2_tr = ds2[tr_idx]\n",
    "ds2_ts = ds2[ts_idx]\n",
    "\n",
    "ds3 = toy[:,20:]\n",
    "ds3_tr = ds3[tr_idx]\n",
    "ds3_ts = ds3[ts_idx]\n",
    "\n",
    "y_ = y[tr_idx]\n",
    "y_test = y[ts_idx]\n",
    "\n",
    "toy_ = ds1_tr\n",
    "toy_test = ds1_ts"
   ]
  },
  {
   "cell_type": "markdown",
   "metadata": {},
   "source": [
    "## Utilities"
   ]
  },
  {
   "cell_type": "code",
   "execution_count": 6,
   "metadata": {},
   "outputs": [],
   "source": [
    "def centering_normalizing(train, test, exclusion_list = None):\n",
    "    \n",
    "    if exclusion_list is not None:\n",
    "        scale, train = ut.centering_normalizing(train, exclusion_list)\n",
    "    else:\n",
    "        scale, train = ut.centering_normalizing(train)\n",
    "\n",
    "    new_Xts = test-scale\n",
    "\n",
    "    if exclusion_list is not None:\n",
    "        new_Xts[:, exclusion_list] = test[:, exclusion_list]\n",
    "\n",
    "    return train, new_Xts, scale\n",
    "\n",
    "\n",
    "def normalizing(train, test):\n",
    "    return normalize(train), normalize(test)\n",
    "\n",
    "\n",
    "def make_regression(X, y, sparsity):\n",
    "\n",
    "    scores = np.zeros(len(sparsity))\n",
    "    \n",
    "    for idx, sp in enumerate(sparsity):\n",
    "        model = LogisticRegression(penalty = 'l1', C = sp)\n",
    "        scores[idx] = np.mean(cross_validate(model,  X, y, return_train_score=False, cv=3)['test_score'])\n",
    "        \n",
    "    return sparsity[np.argmax(scores)]\n",
    "\n",
    "\n",
    "def learn(C_, C_test, y, y_test, sparsity, centering = False, norm = False):\n",
    "    \n",
    "    if centering == True:\n",
    "        C_, C_test, _ = centering_normalizing(C_, C_test)#, [5,6,7,9,10,13,15,16,17,18,19])\n",
    "\n",
    "    if norm == True:\n",
    "         C_, C_test = normalizing(C_, C_test)\n",
    "\n",
    "    best_alpha = make_regression(C_, y, sparsity)\n",
    "    model = LogisticRegression(penalty = 'l1', C = best_alpha)\n",
    "    model.fit(C_, y)\n",
    "    y_pred = model.predict(C_test)\n",
    "    coef = model.coef_\n",
    "    \n",
    "    accuracy = ut.balanced_accuracy_score(y_test, y_pred)\n",
    "    precision = precision_score(y_test, y_pred)\n",
    "    recall = recall_score(y_test, y_pred)\n",
    "\n",
    "    print(\"\\tAccuracy: {}\".format(accuracy))\n",
    "    print(\"\\tPrecision: {}\".format(precision))\n",
    "    print(\"\\tRecall: {}\".format(recall))\n",
    "    print(\"Coef: {}\".format(coef))\n",
    "    print(\"BestLambda: {}\".format(best_alpha))"
   ]
  },
  {
   "cell_type": "code",
   "execution_count": 7,
   "metadata": {},
   "outputs": [],
   "source": [
    "sparsity = list(np.arange(0.1, 2, 0.2))"
   ]
  },
  {
   "cell_type": "markdown",
   "metadata": {},
   "source": [
    "## Origin Data Centering"
   ]
  },
  {
   "cell_type": "markdown",
   "metadata": {},
   "source": [
    "### Cardio"
   ]
  },
  {
   "cell_type": "code",
   "execution_count": 11,
   "metadata": {},
   "outputs": [
    {
     "name": "stdout",
     "output_type": "stream",
     "text": [
      "\tAccuracy: 0.5472972972972974\n",
      "\tPrecision: 0.5365853658536586\n",
      "\tRecall: 0.5945945945945946\n",
      "Coef: [[0.         0.         0.         0.         0.         0.\n",
      "  0.70943101 0.         0.         0.        ]]\n",
      "BestLambda: 0.1\n"
     ]
    }
   ],
   "source": [
    "learn(toy_, toy_test, y_, y_test, sparsity, centering = True)"
   ]
  },
  {
   "cell_type": "markdown",
   "metadata": {},
   "source": [
    "## Origin Data  Centering and Normalization"
   ]
  },
  {
   "cell_type": "markdown",
   "metadata": {},
   "source": [
    "### Cardio"
   ]
  },
  {
   "cell_type": "code",
   "execution_count": 13,
   "metadata": {},
   "outputs": [
    {
     "name": "stdout",
     "output_type": "stream",
     "text": [
      "\tAccuracy: 0.5472972972972974\n",
      "\tPrecision: 0.5365853658536586\n",
      "\tRecall: 0.5945945945945946\n",
      "Coef: [[0.         0.         0.         0.         0.         0.\n",
      "  0.70943101 0.         0.         0.        ]]\n",
      "BestLambda: 0.1\n"
     ]
    }
   ],
   "source": [
    "learn(toy_, toy_test, y_, y_test, sparsity, centering = True, norm = True)"
   ]
  }
 ],
 "metadata": {
  "kernelspec": {
   "display_name": "Python 3",
   "language": "python",
   "name": "python3"
  },
  "language_info": {
   "codemirror_mode": {
    "name": "ipython",
    "version": 3
   },
   "file_extension": ".py",
   "mimetype": "text/x-python",
   "name": "python",
   "nbconvert_exporter": "python",
   "pygments_lexer": "ipython3",
   "version": "3.6.5"
  }
 },
 "nbformat": 4,
 "nbformat_minor": 2
}
