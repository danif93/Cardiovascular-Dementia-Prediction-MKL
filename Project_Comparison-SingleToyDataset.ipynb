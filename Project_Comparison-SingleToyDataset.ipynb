{
 "cells": [
  {
   "cell_type": "code",
   "execution_count": 1,
   "metadata": {},
   "outputs": [
    {
     "name": "stderr",
     "output_type": "stream",
     "text": [
      "/Users/danilo/.conda/envs/bcb/lib/python3.7/site-packages/sklearn/utils/__init__.py:4: DeprecationWarning: Using or importing the ABCs from 'collections' instead of from 'collections.abc' is deprecated, and in 3.8 it will stop working\n",
      "  from collections import Sequence\n"
     ]
    }
   ],
   "source": [
    "import pandas as pd\n",
    "import os\n",
    "import numpy as np\n",
    "\n",
    "import Utils as ut\n",
    "import CortesAlignmentFile as ca\n",
    "import mySampler as ms\n",
    " \n",
    "from sklearn.model_selection import StratifiedShuffleSplit, cross_validate\n",
    "from sklearn.linear_model import LogisticRegression\n",
    "from sklearn.metrics import accuracy_score, precision_score, recall_score\n",
    "from sklearn.preprocessing import normalize"
   ]
  },
  {
   "cell_type": "markdown",
   "metadata": {},
   "source": [
    "## Dataset Configuration"
   ]
  },
  {
   "cell_type": "code",
   "execution_count": 2,
   "metadata": {},
   "outputs": [],
   "source": [
    "d_toy = pd.read_csv(os.path.join('data', 'toyDataset.csv'))\n",
    "outputs = pd.read_csv(os.path.join('data', 'toyLabel.csv'))"
   ]
  },
  {
   "cell_type": "code",
   "execution_count": 3,
   "metadata": {},
   "outputs": [],
   "source": [
    "toy = d_toy.values\n",
    "y = outputs.values.reshape(-1)"
   ]
  },
  {
   "cell_type": "code",
   "execution_count": 4,
   "metadata": {},
   "outputs": [],
   "source": [
    "# COMPUTATIONAL COMPLEXITY: Reduce #samples\n",
    "tr_idx, ts_idx = next(StratifiedShuffleSplit(n_splits=1, test_size=0.25).split(toy, y))"
   ]
  },
  {
   "cell_type": "code",
   "execution_count": 5,
   "metadata": {},
   "outputs": [],
   "source": [
    "ds1 = np.hstack([toy[:,:5], toy[:,10:15]])\n",
    "ds1_tr = ds1[tr_idx]\n",
    "ds1_ts = ds1[ts_idx]\n",
    "\n",
    "ds2 = np.hstack([toy[:,5:10], toy[:,15:20]])\n",
    "ds2_tr = ds2[tr_idx]\n",
    "ds2_ts = ds2[ts_idx]\n",
    "\n",
    "ds3 = toy[:,20:]\n",
    "ds3_tr = ds3[tr_idx]\n",
    "ds3_ts = ds3[ts_idx]\n",
    "\n",
    "y_ = y[tr_idx]\n",
    "y_test = y[ts_idx]\n",
    "\n",
    "toy_ = ds1_tr\n",
    "toy_test = ds1_ts"
   ]
  },
  {
   "cell_type": "markdown",
   "metadata": {},
   "source": [
    "## Utilities"
   ]
  },
  {
   "cell_type": "code",
   "execution_count": 6,
   "metadata": {},
   "outputs": [],
   "source": [
    "def centering_normalizing(train, test, exclusion_list = None):\n",
    "    \n",
    "    if exclusion_list is not None:\n",
    "        scale, train = ut.centering_normalizing(train, exclusion_list)\n",
    "    else:\n",
    "        scale, train = ut.centering_normalizing(train)\n",
    "\n",
    "    new_Xts = test-scale\n",
    "\n",
    "    if exclusion_list is not None:\n",
    "        new_Xts[:, exclusion_list] = test[:, exclusion_list]\n",
    "\n",
    "    return train, new_Xts, scale\n",
    "\n",
    "\n",
    "def normalizing(train, test):\n",
    "    return normalize(train), normalize(test)\n",
    "\n",
    "\n",
    "def make_regression(X, y, sparsity):\n",
    "\n",
    "    scores = np.zeros(len(sparsity))\n",
    "    \n",
    "    for idx, sp in enumerate(sparsity):\n",
    "        model = LogisticRegression(penalty = 'l1', C = sp)\n",
    "        scores[idx] = np.mean(cross_validate(model,  X, y, return_train_score=False, cv=3)['test_score'])\n",
    "        \n",
    "    return scores[np.argmax(scores)]\n",
    "\n",
    "\n",
    "def learn(C_, C_test, y, y_test, sparsity, centering = False, norm = False):\n",
    "    \n",
    "    if centering == True:\n",
    "        C_, C_test, _ = centering_normalizing(C_, C_test)#, [5,6,7,9,10,13,15,16,17,18,19])\n",
    "\n",
    "    if norm == True:\n",
    "         C_, C_test = normalizing(C_, C_test)\n",
    "\n",
    "    best_alpha = make_regression(C_, y, sparsity)\n",
    "    model = LogisticRegression(penalty = 'l1', C = best_alpha)\n",
    "    model.fit(C_, y)\n",
    "    y_pred = model.predict(C_test)\n",
    "    coef = model.coef_\n",
    "    \n",
    "    accuracy = accuracy_score(y_test, y_pred)\n",
    "    precision = precision_score(y_test, y_pred)\n",
    "    recall = recall_score(y_test, y_pred)\n",
    "\n",
    "    print(\"\\tAccuracy: {}\".format(accuracy))\n",
    "    print(\"\\tPrecision: {}\".format(precision))\n",
    "    print(\"\\tRecall: {}\".format(recall))\n",
    "    print(\"Coef: {}\".format(coef))\n",
    "    print(\"BestLambda: {}\".format(best_alpha))"
   ]
  },
  {
   "cell_type": "code",
   "execution_count": 7,
   "metadata": {},
   "outputs": [],
   "source": [
    "sparsity = [0.01, 0.03, 0.05, 0.07, 0.1, 0.12]"
   ]
  },
  {
   "cell_type": "markdown",
   "metadata": {},
   "source": [
    "## Basic approach"
   ]
  },
  {
   "cell_type": "markdown",
   "metadata": {},
   "source": [
    "### Dementia"
   ]
  },
  {
   "cell_type": "code",
   "execution_count": 8,
   "metadata": {},
   "outputs": [
    {
     "name": "stdout",
     "output_type": "stream",
     "text": [
      "\tAccuracy: 0.5733333333333334\n",
      "\tPrecision: 0.5609756097560976\n",
      "\tRecall: 0.6216216216216216\n",
      "Coef: [[ 0.10425312  0.          0.          0.08854682  0.         -0.13742921\n",
      "   0.35897197  0.12050082 -0.17710167  0.06637022]]\n",
      "BestLambda: 0.6444444444444444\n"
     ]
    }
   ],
   "source": [
    "learn(toy_, toy_test, y_, y_test, sparsity)"
   ]
  },
  {
   "cell_type": "markdown",
   "metadata": {},
   "source": [
    "### Cardio"
   ]
  },
  {
   "cell_type": "code",
   "execution_count": 9,
   "metadata": {},
   "outputs": [
    {
     "name": "stdout",
     "output_type": "stream",
     "text": [
      "\tAccuracy: 0.5733333333333334\n",
      "\tPrecision: 0.5609756097560976\n",
      "\tRecall: 0.6216216216216216\n",
      "Coef: [[ 0.10425681  0.          0.          0.08854634  0.         -0.13744531\n",
      "   0.35897317  0.12049715 -0.17710262  0.06637184]]\n",
      "BestLambda: 0.6444444444444444\n"
     ]
    }
   ],
   "source": [
    "learn(toy_, toy_test, y_, y_test, sparsity)"
   ]
  },
  {
   "cell_type": "markdown",
   "metadata": {},
   "source": [
    "## Normalized data"
   ]
  },
  {
   "cell_type": "markdown",
   "metadata": {},
   "source": [
    "### Dementia"
   ]
  },
  {
   "cell_type": "code",
   "execution_count": 10,
   "metadata": {},
   "outputs": [
    {
     "name": "stdout",
     "output_type": "stream",
     "text": [
      "\tAccuracy: 0.6533333333333333\n",
      "\tPrecision: 0.6486486486486487\n",
      "\tRecall: 0.6486486486486487\n",
      "Coef: [[ 0.          0.          0.          0.          0.         -0.16897547\n",
      "   1.14854933  0.         -0.44948396  0.        ]]\n",
      "BestLambda: 0.6177777777777779\n"
     ]
    }
   ],
   "source": [
    "learn(toy_, toy_test, y_, y_test, sparsity, norm = True)"
   ]
  },
  {
   "cell_type": "markdown",
   "metadata": {},
   "source": [
    "### Cardio"
   ]
  },
  {
   "cell_type": "code",
   "execution_count": 11,
   "metadata": {},
   "outputs": [
    {
     "name": "stdout",
     "output_type": "stream",
     "text": [
      "\tAccuracy: 0.6533333333333333\n",
      "\tPrecision: 0.6486486486486487\n",
      "\tRecall: 0.6486486486486487\n",
      "Coef: [[ 0.          0.          0.          0.          0.         -0.16899248\n",
      "   1.14854889  0.         -0.44948506  0.        ]]\n",
      "BestLambda: 0.6177777777777779\n"
     ]
    }
   ],
   "source": [
    "learn(toy_, toy_test, y_, y_test, sparsity, norm = True)"
   ]
  },
  {
   "cell_type": "markdown",
   "metadata": {},
   "source": [
    "## Origin Data Centering"
   ]
  },
  {
   "cell_type": "markdown",
   "metadata": {},
   "source": [
    "### Dementia"
   ]
  },
  {
   "cell_type": "code",
   "execution_count": 12,
   "metadata": {},
   "outputs": [
    {
     "name": "stdout",
     "output_type": "stream",
     "text": [
      "\tAccuracy: 0.6266666666666667\n",
      "\tPrecision: 0.6097560975609756\n",
      "\tRecall: 0.6756756756756757\n",
      "Coef: [[ 0.          0.          0.          0.06380438  0.         -0.17913075\n",
      "   1.12221765  0.01351086 -0.46848729  0.01435427]]\n",
      "BestLambda: 0.648888888888889\n"
     ]
    }
   ],
   "source": [
    "learn(toy_, toy_test, y_, y_test, sparsity, centering = True)"
   ]
  },
  {
   "cell_type": "markdown",
   "metadata": {},
   "source": [
    "### Cardio"
   ]
  },
  {
   "cell_type": "code",
   "execution_count": 13,
   "metadata": {},
   "outputs": [
    {
     "name": "stdout",
     "output_type": "stream",
     "text": [
      "\tAccuracy: 0.6266666666666667\n",
      "\tPrecision: 0.6097560975609756\n",
      "\tRecall: 0.6756756756756757\n",
      "Coef: [[ 0.          0.          0.          0.06382848  0.         -0.17913185\n",
      "   1.12221843  0.01351239 -0.46847033  0.01435962]]\n",
      "BestLambda: 0.648888888888889\n"
     ]
    }
   ],
   "source": [
    "learn(toy_, toy_test, y_, y_test, sparsity, centering = True)"
   ]
  },
  {
   "cell_type": "markdown",
   "metadata": {},
   "source": [
    "## Origin Data  Centering and Normalization"
   ]
  },
  {
   "cell_type": "markdown",
   "metadata": {},
   "source": [
    "### Dementia"
   ]
  },
  {
   "cell_type": "code",
   "execution_count": 14,
   "metadata": {},
   "outputs": [
    {
     "name": "stdout",
     "output_type": "stream",
     "text": [
      "\tAccuracy: 0.6266666666666667\n",
      "\tPrecision: 0.6097560975609756\n",
      "\tRecall: 0.6756756756756757\n",
      "Coef: [[ 0.          0.          0.          0.06382798  0.         -0.17914437\n",
      "   1.12221571  0.01349412 -0.46847407  0.01436504]]\n",
      "BestLambda: 0.648888888888889\n"
     ]
    }
   ],
   "source": [
    "learn(toy_, toy_test, y_, y_test, sparsity, centering = True, norm = True)"
   ]
  },
  {
   "cell_type": "markdown",
   "metadata": {},
   "source": [
    "### Cardio"
   ]
  },
  {
   "cell_type": "code",
   "execution_count": 15,
   "metadata": {},
   "outputs": [
    {
     "name": "stdout",
     "output_type": "stream",
     "text": [
      "\tAccuracy: 0.6266666666666667\n",
      "\tPrecision: 0.6097560975609756\n",
      "\tRecall: 0.6756756756756757\n",
      "Coef: [[ 0.          0.          0.          0.06382531  0.         -0.17913564\n",
      "   1.12221852  0.01351011 -0.46847731  0.01436689]]\n",
      "BestLambda: 0.648888888888889\n"
     ]
    }
   ],
   "source": [
    "learn(toy_, toy_test, y_, y_test, sparsity, centering = True, norm = True)"
   ]
  }
 ],
 "metadata": {
  "kernelspec": {
   "display_name": "Python 3",
   "language": "python",
   "name": "python3"
  },
  "language_info": {
   "codemirror_mode": {
    "name": "ipython",
    "version": 3
   },
   "file_extension": ".py",
   "mimetype": "text/x-python",
   "name": "python",
   "nbconvert_exporter": "python",
   "pygments_lexer": "ipython3",
   "version": "3.7.0"
  }
 },
 "nbformat": 4,
 "nbformat_minor": 2
}
