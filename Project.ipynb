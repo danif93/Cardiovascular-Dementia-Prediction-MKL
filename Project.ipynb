{
 "cells": [
  {
   "cell_type": "code",
   "execution_count": 9,
   "metadata": {},
   "outputs": [],
   "source": [
    "import pandas as pd\n",
    "import os\n",
    "import numpy as np\n",
    "\n",
    "import Utils as ut\n",
    "import CortesAlignmentFile as ca\n",
    "import mySampler as ms\n",
    "\n",
    "from sklearn.model_selection import StratifiedShuffleSplit"
   ]
  },
  {
   "cell_type": "code",
   "execution_count": 10,
   "metadata": {},
   "outputs": [],
   "source": [
    "d_clinical = pd.read_csv(os.path.join('data', 'dataset_clinical_cleaned.csv'))\n",
    "d_genetic = pd.read_csv(os.path.join('data', 'dataset_genetic_cleaned.csv'))\n",
    "d_vampire = pd.read_csv(os.path.join('data', 'dataset_vampire_cleaned.csv'))\n",
    "outputs = pd.read_csv(os.path.join('data', 'outputs_cleaned.csv'))"
   ]
  },
  {
   "cell_type": "markdown",
   "metadata": {},
   "source": [
    "## Heart Attack"
   ]
  },
  {
   "cell_type": "code",
   "execution_count": 11,
   "metadata": {},
   "outputs": [],
   "source": [
    "y = outputs[\"cvd_fail\"].values\n",
    "C = d_clinical.values\n",
    "G = d_genetic.values\n",
    "V = d_vampire.values"
   ]
  },
  {
   "cell_type": "code",
   "execution_count": 12,
   "metadata": {},
   "outputs": [],
   "source": [
    "tr_idx, _ = next(StratifiedShuffleSplit(n_splits=1, test_size=0.95).split(C, y))"
   ]
  },
  {
   "cell_type": "code",
   "execution_count": 13,
   "metadata": {},
   "outputs": [],
   "source": [
    "y = y[tr_idx]\n",
    "C = C[tr_idx, :]\n",
    "G = G[tr_idx, :]\n",
    "V = V[tr_idx, :]"
   ]
  },
  {
   "cell_type": "code",
   "execution_count": 14,
   "metadata": {},
   "outputs": [],
   "source": [
    "ds_list = [C, G, V]"
   ]
  },
  {
   "cell_type": "code",
   "execution_count": 19,
   "metadata": {},
   "outputs": [],
   "source": [
    "kernel_type = [{'linear':[0.5], 'polynomial':[2, 3, 7], 'gaussian':[0.1, 0.5, 0.7]},\n",
    "               {'linear':[0.2], 'polynomial':[4, 5, 8], 'gaussian':[0.7, 1]}]\n",
    "estimator = ca.centeredKernelAlignment\n",
    "sampler = ms.mySampler(n_splits=3, test_size=.25)"
   ]
  },
  {
   "cell_type": "code",
   "execution_count": 20,
   "metadata": {},
   "outputs": [
    {
     "name": "stdout",
     "output_type": "stream",
     "text": [
      "1 split out of 3 ...\n",
      "\tWorking on config 1 of 2: {'linear': [0.5], 'polynomial': [2, 3, 7], 'gaussian': [0.1, 0.5, 0.7]}\n",
      "Fold no. 1\n",
      "\t\tPerfomances computed for 200\n",
      "\t\tPerfomances computed for 400\n",
      "\t\tPerfomances computed for 600\n",
      "Fold no. 2\n",
      "\t\tPerfomances computed for 200\n",
      "\t\tPerfomances computed for 400\n",
      "\t\tPerfomances computed for 600\n",
      "Fold no. 3\n",
      "\t\tPerfomances computed for 200\n",
      "\t\tPerfomances computed for 400\n",
      "\t\tPerfomances computed for 600\n",
      "Validation complete, config selected:[[0.5, 2, 0.1], [0.5, 7, 0.7], [0.5, 2, 0.5]]\n",
      "Triplet: 0.09234098812440253, <KernelFile.kernelWrapper object at 0x000002383A3D99E8>, [ 1.00490099e-11 -2.19870203e-17 -3.01066195e-02  5.58518592e-06\n",
      " -1.08303973e-06 -6.89268415e-01 -5.21428573e-09  4.31943381e-11\n",
      "  7.23880269e-01]\n",
      "[1. 1. 1. 1. 1. 1. 1. 1. 1. 1. 1. 1. 1. 1. 1. 1. 1. 1. 1. 1. 1. 1. 1. 1.\n",
      " 1. 1. 1. 1. 1. 1. 1. 1. 1. 1. 1.]\n",
      "\tWorking on config 2 of 2: {'linear': [0.2], 'polynomial': [4, 5, 8], 'gaussian': [0.7, 1]}\n",
      "Fold no. 1\n",
      "\t\tPerfomances computed for 200\n",
      "Fold no. 2\n",
      "\t\tPerfomances computed for 200\n",
      "Fold no. 3\n",
      "\t\tPerfomances computed for 200\n",
      "Validation complete, config selected:[[0.2, 4, 1], [0.2, 4, 0.7], [0.2, 5, 0.7]]\n",
      "Triplet: 0.0448045807793165, <KernelFile.kernelWrapper object at 0x000002383A3D98D0>, [ 1.76435084e-11 -8.15222471e-31  6.59317933e-01  2.05121551e-07\n",
      " -2.26203591e-07 -7.46745266e-01 -2.55108028e-11  7.20295882e-26\n",
      "  8.75863657e-02]\n",
      "[-1. -1. -1. -1. -1. -1. -1. -1. -1.  1. -1. -1. -1. -1. -1. -1. -1. -1.\n",
      " -1. -1. -1. -1. -1. -1. -1. -1. -1. -1. -1. -1. -1. -1. -1. -1. -1.]\n",
      "\tResult of 0:\n",
      "CA: 0.09234098812440253\n",
      "[linear:0.5, polynomial:2, gaussian:0.1, ]\n",
      "[linear:0.5, polynomial:7, gaussian:0.7, ]\n",
      "[linear:0.5, polynomial:2, gaussian:0.5, ]\n",
      "\n",
      "eta vector: [ 1.00490099e-11 -2.19870203e-17 -3.01066195e-02  5.58518592e-06\n",
      " -1.08303973e-06 -6.89268415e-01 -5.21428573e-09  4.31943381e-11\n",
      "  7.23880269e-01]\n",
      "CA: 0.0448045807793165\n",
      "[linear:0.2, polynomial:4, gaussian:1, ]\n",
      "[linear:0.2, polynomial:4, gaussian:0.7, ]\n",
      "[linear:0.2, polynomial:5, gaussian:0.7, ]\n",
      "\n",
      "eta vector: [ 1.76435084e-11 -8.15222471e-31  6.59317933e-01  2.05121551e-07\n",
      " -2.26203591e-07 -7.46745266e-01 -2.55108028e-11  7.20295882e-26\n",
      "  8.75863657e-02]\n",
      "2 split out of 3 ...\n",
      "\tWorking on config 1 of 2: {'linear': [0.5], 'polynomial': [2, 3, 7], 'gaussian': [0.1, 0.5, 0.7]}\n",
      "Fold no. 1\n",
      "\t\tPerfomances computed for 200\n",
      "\t\tPerfomances computed for 400\n",
      "\t\tPerfomances computed for 600\n",
      "Fold no. 2\n",
      "\t\tPerfomances computed for 200\n",
      "\t\tPerfomances computed for 400\n",
      "\t\tPerfomances computed for 600\n",
      "Fold no. 3\n",
      "\t\tPerfomances computed for 200\n",
      "\t\tPerfomances computed for 400\n",
      "\t\tPerfomances computed for 600\n",
      "Validation complete, config selected:[[0.5, 7, 0.7], [0.5, 7, 0.7], [0.5, 2, 0.7]]\n",
      "Triplet: 0.09649154134352719, <KernelFile.kernelWrapper object at 0x000002383A407080>, [-3.25662336e-16  1.76645951e-57 -7.98785187e-01  3.34936174e-10\n",
      " -5.34562513e-11  2.52912125e-01 -1.53910562e-12  1.20483442e-14\n",
      "  5.45873320e-01]\n",
      "[1. 1. 1. 1. 1. 1. 1. 1. 1. 1. 1. 1. 1. 1. 1. 1. 1. 1. 1. 1. 1. 1. 1. 1.\n",
      " 1. 1. 1. 1. 1. 1. 1. 1. 1. 1. 1.]\n",
      "\tWorking on config 2 of 2: {'linear': [0.2], 'polynomial': [4, 5, 8], 'gaussian': [0.7, 1]}\n",
      "Fold no. 1\n",
      "\t\tPerfomances computed for 200\n",
      "Fold no. 2\n",
      "\t\tPerfomances computed for 200\n",
      "Fold no. 3\n",
      "\t\tPerfomances computed for 200\n",
      "Validation complete, config selected:[[0.2, 4, 0.7], [0.2, 5, 1], [0.2, 4, 1]]\n",
      "Triplet: -0.0014339456090286847, <KernelFile.kernelWrapper object at 0x000002383A3E4EB8>, [-5.77164784e-13  2.65923337e-32  1.26190373e-06 -4.92752921e-17\n",
      "  2.15615979e-16  7.07106061e-01 -6.28215060e-22  2.25502789e-32\n",
      " -7.07107501e-01]\n",
      "[1. 1. 1. 1. 1. 1. 1. 1. 1. 1. 1. 1. 1. 1. 1. 1. 1. 1. 1. 1. 1. 1. 1. 1.\n",
      " 1. 1. 1. 1. 1. 1. 1. 1. 1. 1. 1.]\n",
      "\tResult of 1:\n",
      "CA: 0.09649154134352719\n",
      "[linear:0.5, polynomial:7, gaussian:0.7, ]\n",
      "[linear:0.5, polynomial:7, gaussian:0.7, ]\n",
      "[linear:0.5, polynomial:2, gaussian:0.7, ]\n",
      "\n",
      "eta vector: [-3.25662336e-16  1.76645951e-57 -7.98785187e-01  3.34936174e-10\n",
      " -5.34562513e-11  2.52912125e-01 -1.53910562e-12  1.20483442e-14\n",
      "  5.45873320e-01]\n",
      "CA: -0.0014339456090286847\n",
      "[linear:0.2, polynomial:4, gaussian:0.7, ]\n",
      "[linear:0.2, polynomial:5, gaussian:1, ]\n",
      "[linear:0.2, polynomial:4, gaussian:1, ]\n",
      "\n",
      "eta vector: [-5.77164784e-13  2.65923337e-32  1.26190373e-06 -4.92752921e-17\n",
      "  2.15615979e-16  7.07106061e-01 -6.28215060e-22  2.25502789e-32\n",
      " -7.07107501e-01]\n",
      "3 split out of 3 ...\n",
      "\tWorking on config 1 of 2: {'linear': [0.5], 'polynomial': [2, 3, 7], 'gaussian': [0.1, 0.5, 0.7]}\n",
      "Fold no. 1\n",
      "\t\tPerfomances computed for 200\n",
      "\t\tPerfomances computed for 400\n",
      "\t\tPerfomances computed for 600\n",
      "Fold no. 2\n",
      "\t\tPerfomances computed for 200\n",
      "\t\tPerfomances computed for 400\n",
      "\t\tPerfomances computed for 600\n",
      "Fold no. 3\n",
      "\t\tPerfomances computed for 200\n",
      "\t\tPerfomances computed for 400\n",
      "\t\tPerfomances computed for 600\n",
      "Validation complete, config selected:[[0.5, 3, 0.7], [0.5, 3, 0.1], [0.5, 2, 0.5]]\n",
      "Triplet: 0.0923021726835903, <KernelFile.kernelWrapper object at 0x00000238382BD128>, [-5.95157092e-12  3.91085835e-26 -6.88685195e-01  7.73359105e-06\n",
      " -2.86132647e-04 -2.79705779e-02 -1.31204153e-08  1.00670015e-10\n",
      "  7.24520715e-01]\n",
      "[1. 1. 1. 1. 1. 1. 1. 1. 1. 1. 1. 1. 1. 1. 1. 1. 1. 1. 1. 1. 1. 1. 1. 1.\n",
      " 1. 1. 1. 1. 1. 1. 1. 1. 1. 1. 1.]\n",
      "\tWorking on config 2 of 2: {'linear': [0.2], 'polynomial': [4, 5, 8], 'gaussian': [0.7, 1]}\n",
      "Fold no. 1\n",
      "\t\tPerfomances computed for 200\n",
      "Fold no. 2\n",
      "\t\tPerfomances computed for 200\n",
      "Fold no. 3\n",
      "\t\tPerfomances computed for 200\n",
      "Validation complete, config selected:[[0.2, 8, 0.7], [0.2, 8, 1], [0.2, 5, 0.7]]\n",
      "Triplet: -0.0002871904173045153, <KernelFile.kernelWrapper object at 0x000002383638D5F8>, [ 6.25572020e-08 -1.46363497e-54 -1.09182397e-02 -1.21371027e-17\n",
      "  6.75021092e-18  7.14030276e-01 -1.43419347e-22  3.06001991e-37\n",
      " -7.00029683e-01]\n",
      "[-1. -1. -1. -1. -1. -1. -1. -1. -1. -1. -1. -1. -1. -1. -1. -1. -1. -1.\n",
      " -1. -1. -1. -1. -1. -1. -1. -1. -1. -1. -1. -1. -1. -1. -1. -1. -1.]\n",
      "\tResult of 2:\n",
      "CA: 0.0923021726835903\n",
      "[linear:0.5, polynomial:3, gaussian:0.7, ]\n",
      "[linear:0.5, polynomial:3, gaussian:0.1, ]\n",
      "[linear:0.5, polynomial:2, gaussian:0.5, ]\n",
      "\n",
      "eta vector: [-5.95157092e-12  3.91085835e-26 -6.88685195e-01  7.73359105e-06\n",
      " -2.86132647e-04 -2.79705779e-02 -1.31204153e-08  1.00670015e-10\n",
      "  7.24520715e-01]\n",
      "CA: -0.0002871904173045153\n",
      "[linear:0.2, polynomial:8, gaussian:0.7, ]\n",
      "[linear:0.2, polynomial:8, gaussian:1, ]\n",
      "[linear:0.2, polynomial:5, gaussian:0.7, ]\n",
      "\n",
      "eta vector: [ 6.25572020e-08 -1.46363497e-54 -1.09182397e-02 -1.21371027e-17\n",
      "  6.75021092e-18  7.14030276e-01 -1.43419347e-22  3.06001991e-37\n",
      " -7.00029683e-01]\n"
     ]
    },
    {
     "name": "stderr",
     "output_type": "stream",
     "text": [
      "C:\\Users\\Lorenzo\\Anaconda3\\lib\\site-packages\\sklearn\\metrics\\classification.py:1135: UndefinedMetricWarning: Precision is ill-defined and being set to 0.0 due to no predicted samples.\n",
      "  'precision', 'predicted', average, warn_for)\n"
     ]
    }
   ],
   "source": [
    "result1 = sampler.sample(kernel_type, estimator, ds_list, y, valid_fold = 3, verbose=True)"
   ]
  },
  {
   "cell_type": "code",
   "execution_count": 21,
   "metadata": {},
   "outputs": [
    {
     "name": "stdout",
     "output_type": "stream",
     "text": [
      "statistics of configuration 0\n",
      "{'config': {'linear': [[0.5, 0.5, 0.5], [0.5, 0.5, 0.5], [0.5, 0.5, 0.5]], 'polynomial': [[2, 7, 2], [7, 7, 2], [3, 3, 2]], 'gaussian': [[0.1, 0.7, 0.5], [0.7, 0.7, 0.7], [0.7, 0.1, 0.5]]}, 'CA': (0.09371156738384001, 3.864378714677002e-06), 'Accuracy': (0.3142857142857143, 0.0), 'Precision': (0.3142857142857143, 0.0), 'Recall': (1.0, 0.0), 'eta': (array([ 1.36570444e-12, -7.32900676e-18, -5.05859001e-01,  4.43970397e-06,\n",
      "       -9.57385799e-05, -1.54775623e-01, -6.11208005e-09,  4.79588004e-11,\n",
      "        6.64758102e-01]), array([4.36027835e-23, 1.07428681e-34, 1.15190499e-01, 1.06232728e-11,\n",
      "       1.81251458e-08, 1.55990455e-01, 2.90871695e-17, 1.70002109e-21,\n",
      "       7.06686395e-03]))}\n",
      "statistics of configuration 1\n",
      "{'config': {'linear': [[0.2, 0.2, 0.2], [0.2, 0.2, 0.2], [0.2, 0.2, 0.2]], 'polynomial': [[4, 4, 5], [4, 5, 4], [8, 8, 5]], 'gaussian': [[1, 0.7, 0.7], [0.7, 1, 1], [0.7, 1, 0.7]]}, 'CA': (0.01436114825099443, 0.00046362046663154), 'Accuracy': (0.5523809523809523, 0.028480725623582767), 'Precision': (0.10476190476190476, 0.021950113378684803), 'Recall': (0.3333333333333333, 0.22222222222222224), 'eta': (array([ 2.08580894e-08, -2.62876713e-31,  2.16133652e-01,  6.83738505e-08,\n",
      "       -7.54011969e-08,  2.24797024e-01, -8.50360095e-12,  2.40098702e-26,\n",
      "       -4.39850273e-01]), array([8.69408048e-16, 1.52660777e-61, 9.82260260e-02, 9.34996687e-15,\n",
      "       1.13706810e-14, 4.71955201e-01, 1.44622458e-22, 1.15294665e-51,\n",
      "       1.39103053e-01]))}\n"
     ]
    }
   ],
   "source": [
    "result1.performancesFeatures()"
   ]
  },
  {
   "cell_type": "code",
   "execution_count": 28,
   "metadata": {},
   "outputs": [],
   "source": [
    "# wrapper testing\n",
    "\n",
    "kernel_type = [{'linear':[0.5], 'polynomial':[2, 3], 'gaussian':[0.1, 0.3, 0.6]}#,\n",
    "               #{'linear':[0.2], 'polynomial':[4, 5, 8], 'gaussian':[0.7, 1]}\n",
    "              ]\n",
    "estimator = ca.centeredKernelAlignment\n",
    "sampler = ms.mySampler(n_splits=3, test_size=.25, normalize_kernels = True)"
   ]
  },
  {
   "cell_type": "code",
   "execution_count": 29,
   "metadata": {},
   "outputs": [
    {
     "name": "stdout",
     "output_type": "stream",
     "text": [
      "1 split out of 3 ...\n",
      "\tWorking on config 1 of 1: {'linear': [0.5], 'polynomial': [2, 3], 'gaussian': [0.1, 0.3, 0.6]}\n",
      "Fold no. 1\n",
      "\t\tPerfomances computed for 200\n",
      "Fold no. 2\n",
      "\t\tPerfomances computed for 200\n",
      "Fold no. 3\n",
      "\t\tPerfomances computed for 200\n",
      "Validation complete, config selected:[[0.5, 3, 0.3], [0.5, 2, 0.6], [0.5, 3, 0.1]]\n",
      "Triplet: 0.09028538758176574, <KernelFile.kernelWrapper object at 0x000002383832FF28>, [-5.03450656e-06  7.93548718e-06  7.02079141e-01  2.72812182e-05\n",
      " -1.40103560e-05 -7.12029240e-01  2.23289195e-05 -5.01685364e-06\n",
      "  9.96191202e-03]\n",
      "[ 1.  1. -1.  1. -1.  1. -1.  1.  1.  1. -1. -1.  1. -1.  1.  1.  1.  1.\n",
      "  1.  1. -1. -1.  1. -1. -1.  1.  1.  1.  1. -1.  1.  1. -1. -1. -1.]\n",
      "\tResult of 0:\n",
      "CA: 0.09028538758176574\n",
      "[linear:0.5, polynomial:3, gaussian:0.3, ]\n",
      "[linear:0.5, polynomial:2, gaussian:0.6, ]\n",
      "[linear:0.5, polynomial:3, gaussian:0.1, ]\n",
      "\n",
      "eta vector: [-5.03450656e-06  7.93548718e-06  7.02079141e-01  2.72812182e-05\n",
      " -1.40103560e-05 -7.12029240e-01  2.23289195e-05 -5.01685364e-06\n",
      "  9.96191202e-03]\n",
      "2 split out of 3 ...\n",
      "\tWorking on config 1 of 1: {'linear': [0.5], 'polynomial': [2, 3], 'gaussian': [0.1, 0.3, 0.6]}\n",
      "Fold no. 1\n",
      "\t\tPerfomances computed for 200\n",
      "Fold no. 2\n",
      "\t\tPerfomances computed for 200\n",
      "Fold no. 3\n"
     ]
    },
    {
     "ename": "LinAlgError",
     "evalue": "Singular matrix",
     "output_type": "error",
     "traceback": [
      "\u001b[1;31m---------------------------------------------------------------------------\u001b[0m",
      "\u001b[1;31mLinAlgError\u001b[0m                               Traceback (most recent call last)",
      "\u001b[1;32m<ipython-input-29-a4c6de0cc77b>\u001b[0m in \u001b[0;36m<module>\u001b[1;34m()\u001b[0m\n\u001b[1;32m----> 1\u001b[1;33m \u001b[0mresult3\u001b[0m \u001b[1;33m=\u001b[0m \u001b[0msampler\u001b[0m\u001b[1;33m.\u001b[0m\u001b[0msample\u001b[0m\u001b[1;33m(\u001b[0m\u001b[0mkernel_type\u001b[0m\u001b[1;33m,\u001b[0m \u001b[0mestimator\u001b[0m\u001b[1;33m,\u001b[0m \u001b[0mds_list\u001b[0m\u001b[1;33m,\u001b[0m \u001b[0my\u001b[0m\u001b[1;33m,\u001b[0m \u001b[0mvalid_fold\u001b[0m \u001b[1;33m=\u001b[0m \u001b[1;36m3\u001b[0m\u001b[1;33m,\u001b[0m \u001b[0mverbose\u001b[0m\u001b[1;33m=\u001b[0m\u001b[1;32mTrue\u001b[0m\u001b[1;33m)\u001b[0m\u001b[1;33m\u001b[0m\u001b[0m\n\u001b[0m",
      "\u001b[1;32m~\\Documents\\Università\\Anaconda\\BCB\\NewLabs\\Project\\mySampler.py\u001b[0m in \u001b[0;36msample\u001b[1;34m(self, kernelDict_list, estimator, X_list, y, valid_fold, verbose)\u001b[0m\n\u001b[0;32m     31\u001b[0m \u001b[1;33m\u001b[0m\u001b[0m\n\u001b[0;32m     32\u001b[0m                 \u001b[0mgs\u001b[0m \u001b[1;33m=\u001b[0m \u001b[0mmgs\u001b[0m\u001b[1;33m.\u001b[0m\u001b[0mmyGridSearchCV\u001b[0m\u001b[1;33m(\u001b[0m\u001b[0mestimator\u001b[0m\u001b[1;33m,\u001b[0m \u001b[0mkernelDict\u001b[0m\u001b[1;33m,\u001b[0m \u001b[0mfold\u001b[0m \u001b[1;33m=\u001b[0m \u001b[0mvalid_fold\u001b[0m\u001b[1;33m,\u001b[0m \u001b[0msparsity\u001b[0m \u001b[1;33m=\u001b[0m \u001b[0mself\u001b[0m\u001b[1;33m.\u001b[0m\u001b[0msparsity\u001b[0m\u001b[1;33m,\u001b[0m \u001b[0mnormalize_kernels\u001b[0m \u001b[1;33m=\u001b[0m \u001b[0mself\u001b[0m\u001b[1;33m.\u001b[0m\u001b[0mnormalize_kernels\u001b[0m\u001b[1;33m)\u001b[0m\u001b[1;33m.\u001b[0m\u001b[0mfit\u001b[0m\u001b[1;33m(\u001b[0m\u001b[0mtrainSet_list\u001b[0m\u001b[1;33m,\u001b[0m \u001b[0mtrainLabel\u001b[0m\u001b[1;33m)\u001b[0m\u001b[1;33m\u001b[0m\u001b[0m\n\u001b[1;32m---> 33\u001b[1;33m                 \u001b[0msel_CA\u001b[0m\u001b[1;33m,\u001b[0m \u001b[0msel_kWrapp\u001b[0m\u001b[1;33m,\u001b[0m \u001b[0mweights\u001b[0m \u001b[1;33m=\u001b[0m \u001b[0mgs\u001b[0m\u001b[1;33m.\u001b[0m\u001b[0mtransform\u001b[0m\u001b[1;33m(\u001b[0m\u001b[0mtrainSet_list\u001b[0m\u001b[1;33m,\u001b[0m \u001b[0mverbose\u001b[0m \u001b[1;33m=\u001b[0m \u001b[0mverbose\u001b[0m\u001b[1;33m)\u001b[0m \u001b[1;31m# it was false\u001b[0m\u001b[1;33m\u001b[0m\u001b[0m\n\u001b[0m\u001b[0;32m     34\u001b[0m                 \u001b[0mprint\u001b[0m\u001b[1;33m(\u001b[0m\u001b[1;34m\"Triplet: {}, {}, {}\"\u001b[0m\u001b[1;33m.\u001b[0m\u001b[0mformat\u001b[0m\u001b[1;33m(\u001b[0m\u001b[0msel_CA\u001b[0m\u001b[1;33m,\u001b[0m \u001b[0msel_kWrapp\u001b[0m\u001b[1;33m,\u001b[0m \u001b[0mweights\u001b[0m\u001b[1;33m)\u001b[0m\u001b[1;33m)\u001b[0m\u001b[1;33m\u001b[0m\u001b[0m\n\u001b[0;32m     35\u001b[0m                 \u001b[0mpred\u001b[0m \u001b[1;33m=\u001b[0m \u001b[0msel_kWrapp\u001b[0m\u001b[1;33m.\u001b[0m\u001b[0mpredict\u001b[0m\u001b[1;33m(\u001b[0m\u001b[0mtestSet_list\u001b[0m\u001b[1;33m,\u001b[0m \u001b[0mweights\u001b[0m\u001b[1;33m,\u001b[0m \u001b[0mtrainLabel\u001b[0m\u001b[1;33m)\u001b[0m\u001b[1;33m\u001b[0m\u001b[0m\n",
      "\u001b[1;32m~\\Documents\\Università\\Anaconda\\BCB\\NewLabs\\Project\\myGridSearch.py\u001b[0m in \u001b[0;36mtransform\u001b[1;34m(self, Xtr_list, verbose)\u001b[0m\n\u001b[0;32m     72\u001b[0m                 \u001b[1;31m# compute eta vector\u001b[0m\u001b[1;33m\u001b[0m\u001b[1;33m\u001b[0m\u001b[0m\n\u001b[0;32m     73\u001b[0m                 \u001b[1;31m#if verbose: print(\"\\t\\tComputing eta for {}\".format(kw_idx))\u001b[0m\u001b[1;33m\u001b[0m\u001b[1;33m\u001b[0m\u001b[0m\n\u001b[1;32m---> 74\u001b[1;33m                 \u001b[0meta\u001b[0m \u001b[1;33m=\u001b[0m \u001b[0mself\u001b[0m\u001b[1;33m.\u001b[0m\u001b[0mestimator\u001b[0m\u001b[1;33m.\u001b[0m\u001b[0mcomputeEta\u001b[0m\u001b[1;33m(\u001b[0m\u001b[0mkernelMatrix_list\u001b[0m\u001b[1;33m,\u001b[0m \u001b[0mIK_tr\u001b[0m\u001b[1;33m,\u001b[0m \u001b[0msparsity\u001b[0m \u001b[1;33m=\u001b[0m \u001b[0mself\u001b[0m\u001b[1;33m.\u001b[0m\u001b[0msparsity\u001b[0m\u001b[1;33m,\u001b[0m \u001b[0mverbose\u001b[0m \u001b[1;33m=\u001b[0m \u001b[0mverbose\u001b[0m\u001b[1;33m)\u001b[0m\u001b[1;33m\u001b[0m\u001b[0m\n\u001b[0m\u001b[0;32m     75\u001b[0m \u001b[1;33m\u001b[0m\u001b[0m\n\u001b[0;32m     76\u001b[0m                 \u001b[1;31m# compute k_eta (approximation) for the validation set\u001b[0m\u001b[1;33m\u001b[0m\u001b[1;33m\u001b[0m\u001b[0m\n",
      "\u001b[1;32m~\\Documents\\Università\\Anaconda\\BCB\\NewLabs\\Project\\CortesAlignmentFile.py\u001b[0m in \u001b[0;36mcomputeEta\u001b[1;34m(K_list, IK, sparsity, verbose)\u001b[0m\n\u001b[0;32m     64\u001b[0m             \u001b[0ma\u001b[0m \u001b[1;33m=\u001b[0m \u001b[0mcenteredKernelAlignment\u001b[0m\u001b[1;33m.\u001b[0m\u001b[0m_idealSimilarityVector\u001b[0m\u001b[1;33m(\u001b[0m\u001b[0mK_c_list\u001b[0m\u001b[1;33m,\u001b[0m \u001b[0mIK\u001b[0m\u001b[1;33m)\u001b[0m\u001b[1;33m\u001b[0m\u001b[0m\n\u001b[0;32m     65\u001b[0m \u001b[1;33m\u001b[0m\u001b[0m\n\u001b[1;32m---> 66\u001b[1;33m             \u001b[0meta\u001b[0m \u001b[1;33m=\u001b[0m \u001b[0mnp\u001b[0m\u001b[1;33m.\u001b[0m\u001b[0mdot\u001b[0m\u001b[1;33m(\u001b[0m\u001b[0mnp\u001b[0m\u001b[1;33m.\u001b[0m\u001b[0mlinalg\u001b[0m\u001b[1;33m.\u001b[0m\u001b[0minv\u001b[0m\u001b[1;33m(\u001b[0m\u001b[0mM\u001b[0m\u001b[1;33m)\u001b[0m\u001b[1;33m,\u001b[0m \u001b[0ma\u001b[0m\u001b[1;33m)\u001b[0m\u001b[1;33m\u001b[0m\u001b[0m\n\u001b[0m\u001b[0;32m     67\u001b[0m \u001b[1;33m\u001b[0m\u001b[0m\n\u001b[0;32m     68\u001b[0m         \u001b[1;32mreturn\u001b[0m \u001b[0meta\u001b[0m \u001b[1;33m/\u001b[0m \u001b[0mnp\u001b[0m\u001b[1;33m.\u001b[0m\u001b[0mlinalg\u001b[0m\u001b[1;33m.\u001b[0m\u001b[0mnorm\u001b[0m\u001b[1;33m(\u001b[0m\u001b[0meta\u001b[0m\u001b[1;33m)\u001b[0m\u001b[1;33m\u001b[0m\u001b[0m\n",
      "\u001b[1;32m~\\Anaconda3\\lib\\site-packages\\numpy\\linalg\\linalg.py\u001b[0m in \u001b[0;36minv\u001b[1;34m(a)\u001b[0m\n\u001b[0;32m    526\u001b[0m     \u001b[0msignature\u001b[0m \u001b[1;33m=\u001b[0m \u001b[1;34m'D->D'\u001b[0m \u001b[1;32mif\u001b[0m \u001b[0misComplexType\u001b[0m\u001b[1;33m(\u001b[0m\u001b[0mt\u001b[0m\u001b[1;33m)\u001b[0m \u001b[1;32melse\u001b[0m \u001b[1;34m'd->d'\u001b[0m\u001b[1;33m\u001b[0m\u001b[0m\n\u001b[0;32m    527\u001b[0m     \u001b[0mextobj\u001b[0m \u001b[1;33m=\u001b[0m \u001b[0mget_linalg_error_extobj\u001b[0m\u001b[1;33m(\u001b[0m\u001b[0m_raise_linalgerror_singular\u001b[0m\u001b[1;33m)\u001b[0m\u001b[1;33m\u001b[0m\u001b[0m\n\u001b[1;32m--> 528\u001b[1;33m     \u001b[0mainv\u001b[0m \u001b[1;33m=\u001b[0m \u001b[0m_umath_linalg\u001b[0m\u001b[1;33m.\u001b[0m\u001b[0minv\u001b[0m\u001b[1;33m(\u001b[0m\u001b[0ma\u001b[0m\u001b[1;33m,\u001b[0m \u001b[0msignature\u001b[0m\u001b[1;33m=\u001b[0m\u001b[0msignature\u001b[0m\u001b[1;33m,\u001b[0m \u001b[0mextobj\u001b[0m\u001b[1;33m=\u001b[0m\u001b[0mextobj\u001b[0m\u001b[1;33m)\u001b[0m\u001b[1;33m\u001b[0m\u001b[0m\n\u001b[0m\u001b[0;32m    529\u001b[0m     \u001b[1;32mreturn\u001b[0m \u001b[0mwrap\u001b[0m\u001b[1;33m(\u001b[0m\u001b[0mainv\u001b[0m\u001b[1;33m.\u001b[0m\u001b[0mastype\u001b[0m\u001b[1;33m(\u001b[0m\u001b[0mresult_t\u001b[0m\u001b[1;33m,\u001b[0m \u001b[0mcopy\u001b[0m\u001b[1;33m=\u001b[0m\u001b[1;32mFalse\u001b[0m\u001b[1;33m)\u001b[0m\u001b[1;33m)\u001b[0m\u001b[1;33m\u001b[0m\u001b[0m\n\u001b[0;32m    530\u001b[0m \u001b[1;33m\u001b[0m\u001b[0m\n",
      "\u001b[1;32m~\\Anaconda3\\lib\\site-packages\\numpy\\linalg\\linalg.py\u001b[0m in \u001b[0;36m_raise_linalgerror_singular\u001b[1;34m(err, flag)\u001b[0m\n\u001b[0;32m     87\u001b[0m \u001b[1;33m\u001b[0m\u001b[0m\n\u001b[0;32m     88\u001b[0m \u001b[1;32mdef\u001b[0m \u001b[0m_raise_linalgerror_singular\u001b[0m\u001b[1;33m(\u001b[0m\u001b[0merr\u001b[0m\u001b[1;33m,\u001b[0m \u001b[0mflag\u001b[0m\u001b[1;33m)\u001b[0m\u001b[1;33m:\u001b[0m\u001b[1;33m\u001b[0m\u001b[0m\n\u001b[1;32m---> 89\u001b[1;33m     \u001b[1;32mraise\u001b[0m \u001b[0mLinAlgError\u001b[0m\u001b[1;33m(\u001b[0m\u001b[1;34m\"Singular matrix\"\u001b[0m\u001b[1;33m)\u001b[0m\u001b[1;33m\u001b[0m\u001b[0m\n\u001b[0m\u001b[0;32m     90\u001b[0m \u001b[1;33m\u001b[0m\u001b[0m\n\u001b[0;32m     91\u001b[0m \u001b[1;32mdef\u001b[0m \u001b[0m_raise_linalgerror_nonposdef\u001b[0m\u001b[1;33m(\u001b[0m\u001b[0merr\u001b[0m\u001b[1;33m,\u001b[0m \u001b[0mflag\u001b[0m\u001b[1;33m)\u001b[0m\u001b[1;33m:\u001b[0m\u001b[1;33m\u001b[0m\u001b[0m\n",
      "\u001b[1;31mLinAlgError\u001b[0m: Singular matrix"
     ]
    }
   ],
   "source": [
    "result3 = sampler.sample(kernel_type, estimator, ds_list, y, valid_fold = 3, verbose=True)"
   ]
  },
  {
   "cell_type": "code",
   "execution_count": null,
   "metadata": {},
   "outputs": [],
   "source": [
    "result3.performancesFeatures()"
   ]
  },
  {
   "cell_type": "code",
   "execution_count": null,
   "metadata": {},
   "outputs": [],
   "source": []
  }
 ],
 "metadata": {
  "kernelspec": {
   "display_name": "Python 3",
   "language": "python",
   "name": "python3"
  },
  "language_info": {
   "codemirror_mode": {
    "name": "ipython",
    "version": 3
   },
   "file_extension": ".py",
   "mimetype": "text/x-python",
   "name": "python",
   "nbconvert_exporter": "python",
   "pygments_lexer": "ipython3",
   "version": "3.6.5"
  }
 },
 "nbformat": 4,
 "nbformat_minor": 2
}
