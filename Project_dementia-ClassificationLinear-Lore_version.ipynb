{
 "cells": [
  {
   "cell_type": "code",
   "execution_count": 1,
   "metadata": {},
   "outputs": [],
   "source": [
    "import pandas as pd\n",
    "import os\n",
    "import numpy as np\n",
    "\n",
    "import Utils as ut\n",
    "import CortesAlignmentFile as ca\n",
    "import mySampler as ms\n",
    " \n",
    "from sklearn.model_selection import StratifiedShuffleSplit"
   ]
  },
  {
   "cell_type": "code",
   "execution_count": 2,
   "metadata": {},
   "outputs": [],
   "source": [
    "d_clinical = pd.read_csv(os.path.join('data', 'dataset_clinical_cleaned.csv'))\n",
    "d_genetic = pd.read_csv(os.path.join('data', 'dataset_genetic_cleaned_noOHE.csv'))\n",
    "d_vampire = pd.read_csv(os.path.join('data', 'dataset_vampire_cleaned.csv'))\n",
    "outputs = pd.read_csv(os.path.join('data', 'outputs_cleaned.csv'))"
   ]
  },
  {
   "cell_type": "markdown",
   "metadata": {},
   "source": [
    "## Dementia"
   ]
  },
  {
   "cell_type": "code",
   "execution_count": 3,
   "metadata": {},
   "outputs": [],
   "source": [
    "y = outputs[\"dement_fail\"].values\n",
    "C = d_clinical.values\n",
    "G = d_genetic.values\n",
    "V = d_vampire.values"
   ]
  },
  {
   "cell_type": "code",
   "execution_count": 4,
   "metadata": {},
   "outputs": [],
   "source": [
    "# COMPUTATIONAL COMPLEXITY: Reduce #samples\n",
    "tr_idx, ts_idx = next(StratifiedShuffleSplit(n_splits=1, test_size=0.5).split(C, y))"
   ]
  },
  {
   "cell_type": "code",
   "execution_count": 5,
   "metadata": {},
   "outputs": [],
   "source": [
    "y_ = y[tr_idx]\n",
    "y_test = y[ts_idx]\n",
    "C_ = C[tr_idx]\n",
    "C_test = C[ts_idx]\n",
    "G_ = G[tr_idx]\n",
    "G_test = G[ts_idx]\n",
    "V_ = V[tr_idx]\n",
    "V_test = V[ts_idx]"
   ]
  },
  {
   "cell_type": "code",
   "execution_count": 6,
   "metadata": {},
   "outputs": [],
   "source": [
    "ds_list = [C_, G_, V_]\n",
    "ds_test = [C_test, G_test, V_test]\n",
    "ds_names = ['clinic', 'genetic', 'vampire']"
   ]
  },
  {
   "cell_type": "markdown",
   "metadata": {},
   "source": [
    "## Basic approach"
   ]
  },
  {
   "cell_type": "code",
   "execution_count": null,
   "metadata": {},
   "outputs": [],
   "source": [
    "kernel_names = ['linear', 'gaussian']\n",
    "kernel_type = [{'linear':[1], 'gaussian':[0.4, 0.7]},\n",
    "               {'linear':[1], 'gaussian':[0.5, 1]}]\n",
    "estimator = ca.centeredKernelAlignment\n",
    "sampler = ms.mySampler(n_splits=3, test_size=.35)"
   ]
  },
  {
   "cell_type": "code",
   "execution_count": null,
   "metadata": {},
   "outputs": [],
   "source": [
    "result1 = sampler.sample(kernel_type, estimator, ds_list, y_, valid_fold = 3, verbose=True)"
   ]
  },
  {
   "cell_type": "code",
   "execution_count": null,
   "metadata": {},
   "outputs": [],
   "source": [
    "w_dict, w_list = result1.votingOverCA(ds_names, kernel_names)\n",
    "ut.testConfigurations(estimator, y_, y_test, w_list, ds_list, ds_test, kernel_names)"
   ]
  },
  {
   "cell_type": "code",
   "execution_count": null,
   "metadata": {},
   "outputs": [],
   "source": [
    "w_dict"
   ]
  },
  {
   "cell_type": "code",
   "execution_count": null,
   "metadata": {},
   "outputs": [],
   "source": [
    "result1.performancesFeatures()"
   ]
  },
  {
   "cell_type": "markdown",
   "metadata": {},
   "source": [
    "## Kernel normalization"
   ]
  },
  {
   "cell_type": "code",
   "execution_count": null,
   "metadata": {},
   "outputs": [],
   "source": [
    "kernel_names = ['linear', 'gaussian']\n",
    "kernel_type = [{'linear':[1], 'gaussian':[0.4, 0.7]},\n",
    "               {'linear':[1], 'gaussian':[0.5, 1]}]\n",
    "estimator = ca.centeredKernelAlignment\n",
    "sampler = ms.mySampler(n_splits=3, test_size=.35, normalize_kernels = True)"
   ]
  },
  {
   "cell_type": "code",
   "execution_count": null,
   "metadata": {
    "scrolled": true
   },
   "outputs": [],
   "source": [
    "result3 = sampler.sample(kernel_type, estimator, ds_list, y_, valid_fold = 3, verbose=True)"
   ]
  },
  {
   "cell_type": "code",
   "execution_count": null,
   "metadata": {},
   "outputs": [],
   "source": [
    "w_dict, w_list = result3.votingOverCA(ds_names, kernel_names)\n",
    "ut.testConfigurations(estimator, y_, y_test, w_list, ds_list, ds_test, kernel_names)"
   ]
  },
  {
   "cell_type": "code",
   "execution_count": null,
   "metadata": {},
   "outputs": [],
   "source": [
    "result3.performancesFeatures()"
   ]
  },
  {
   "cell_type": "markdown",
   "metadata": {},
   "source": [
    "## Normalized data"
   ]
  },
  {
   "cell_type": "code",
   "execution_count": null,
   "metadata": {},
   "outputs": [],
   "source": [
    "kernel_names = ['linear', 'gaussian']\n",
    "kernel_type = [{'linear':[1], 'gaussian':[0.4, 0.7]},\n",
    "               {'linear':[1], 'gaussian':[0.5, 1]}]\n",
    "estimator = ca.centeredKernelAlignment\n",
    "sampler = ms.mySampler(n_splits=3, test_size=.35, normalizing = True)"
   ]
  },
  {
   "cell_type": "code",
   "execution_count": null,
   "metadata": {
    "scrolled": true
   },
   "outputs": [],
   "source": [
    "result4 = sampler.sample(kernel_type, estimator, ds_list, y_, valid_fold = 3, verbose=True, exclusion_list = [[0, 3, 8, 13, 14], list(range(G.shape[1]-3)), []])"
   ]
  },
  {
   "cell_type": "code",
   "execution_count": null,
   "metadata": {},
   "outputs": [],
   "source": [
    "w_dict, w_list = result4.votingOverCA(ds_names, kernel_names)\n",
    "ut.testConfigurations(estimator, y_, y_test, w_list, ds_list, ds_test, kernel_names)"
   ]
  },
  {
   "cell_type": "code",
   "execution_count": null,
   "metadata": {},
   "outputs": [],
   "source": [
    "result4.performancesFeatures()"
   ]
  },
  {
   "cell_type": "markdown",
   "metadata": {},
   "source": [
    "## Origin Data Centering"
   ]
  },
  {
   "cell_type": "code",
   "execution_count": null,
   "metadata": {},
   "outputs": [],
   "source": [
    "kernel_names = ['linear', 'gaussian']\n",
    "kernel_type = [{'linear':[1], 'gaussian':[0.4, 0.7]},\n",
    "               {'linear':[1], 'gaussian':[0.5, 1]}]\n",
    "estimator = ca.centeredKernelAlignment\n",
    "sampler = ms.mySampler(n_splits=3, test_size=.35, centering = True)"
   ]
  },
  {
   "cell_type": "code",
   "execution_count": null,
   "metadata": {
    "scrolled": true
   },
   "outputs": [],
   "source": [
    "result5 = sampler.sample(kernel_type, estimator, ds_list, y_, valid_fold = 3, verbose=True, exclusion_list = [[5,6,7,9,10,13,15,16,17,18,19], list(range(G.shape[1]-3)), []])"
   ]
  },
  {
   "cell_type": "code",
   "execution_count": null,
   "metadata": {},
   "outputs": [],
   "source": [
    "w_dict, w_list = result5.votingOverCA(ds_names, kernel_names)\n",
    "ut.testConfigurations(estimator, y_, y_test, w_list, ds_list, ds_test, kernel_names)"
   ]
  },
  {
   "cell_type": "code",
   "execution_count": null,
   "metadata": {
    "scrolled": true
   },
   "outputs": [],
   "source": [
    "result5.performancesFeatures()"
   ]
  },
  {
   "cell_type": "markdown",
   "metadata": {},
   "source": [
    "## Origin Data  Centering and Normalization"
   ]
  },
  {
   "cell_type": "code",
   "execution_count": null,
   "metadata": {},
   "outputs": [],
   "source": [
    "kernel_names = ['linear', 'gaussian']\n",
    "kernel_type = [{'linear':[1], 'gaussian':[0.3, 0.7]},\n",
    "               {'linear':[1], 'gaussian':[0.5, 1]}]\n",
    "estimator = ca.centeredKernelAlignment\n",
    "sampler = ms.mySampler(n_splits=3, test_size=.35, centering = True, normalizing = True)"
   ]
  },
  {
   "cell_type": "code",
   "execution_count": null,
   "metadata": {},
   "outputs": [],
   "source": [
    "result6 = sampler.sample(kernel_type, estimator, ds_list, y_, valid_fold = 3, verbose=True, exclusion_list = [[5,6,7,9,10,13,15,16,17,18,19], list(range(G.shape[1]-3)), []])"
   ]
  },
  {
   "cell_type": "code",
   "execution_count": null,
   "metadata": {},
   "outputs": [],
   "source": [
    "w_dict, w_list = result6.votingOverCA(ds_names, kernel_names)\n",
    "ut.testConfigurations(estimator, y_, y_test, w_list, ds_list, ds_test, kernel_names)"
   ]
  },
  {
   "cell_type": "code",
   "execution_count": null,
   "metadata": {
    "scrolled": true
   },
   "outputs": [],
   "source": [
    "result6.performancesFeatures()"
   ]
  },
  {
   "cell_type": "markdown",
   "metadata": {},
   "source": [
    "## Normalization, Kernel Normalization"
   ]
  },
  {
   "cell_type": "code",
   "execution_count": null,
   "metadata": {},
   "outputs": [],
   "source": [
    "kernel_names = ['linear', 'gaussian']\n",
    "kernel_type = [{'linear':[1], 'gaussian':[0.3, 0.7]},\n",
    "               {'linear':[1], 'gaussian':[0.5, 1]}]\n",
    "estimator = ca.centeredKernelAlignment\n",
    "sampler = ms.mySampler(n_splits=3, test_size=.35, normalizing = True, normalize_kernels = True)"
   ]
  },
  {
   "cell_type": "code",
   "execution_count": null,
   "metadata": {},
   "outputs": [],
   "source": [
    "result10 = sampler.sample(kernel_type, estimator, ds_list, y_, valid_fold = 3, verbose=True, exclusion_list = [[5,6,7,9,10,13,15,16,17,18,19], list(range(G.shape[1]-3)), []])"
   ]
  },
  {
   "cell_type": "code",
   "execution_count": null,
   "metadata": {},
   "outputs": [],
   "source": [
    "w_dict, w_list = result10.votingOverCA(ds_names, kernel_names)\n",
    "ut.testConfigurations(estimator, y_, y_test, w_list, ds_list, ds_test, kernel_names)"
   ]
  },
  {
   "cell_type": "code",
   "execution_count": null,
   "metadata": {
    "scrolled": false
   },
   "outputs": [],
   "source": [
    "result10.performancesFeatures()"
   ]
  },
  {
   "cell_type": "markdown",
   "metadata": {},
   "source": [
    "## Centering, Kernel Normalization"
   ]
  },
  {
   "cell_type": "code",
   "execution_count": 7,
   "metadata": {},
   "outputs": [],
   "source": [
    "kernel_names = ['linear', 'gaussian']\n",
    "kernel_type = [{'linear':[1], 'gaussian':[0.3, 0.7]},\n",
    "               {'linear':[1], 'gaussian':[0.5, 1]}]\n",
    "estimator = ca.centeredKernelAlignment\n",
    "sampler = ms.mySampler(n_splits=3, test_size=.35, centering = True, normalize_kernels = True)"
   ]
  },
  {
   "cell_type": "code",
   "execution_count": 8,
   "metadata": {
    "scrolled": true
   },
   "outputs": [
    {
     "name": "stdout",
     "output_type": "stream",
     "text": [
      "\n",
      "1 split out of 3 ...\n",
      "\tWorking on config 1 of 2: {'linear': [1], 'gaussian': [0.3, 0.7]}\n",
      "Fold no. 1\n",
      "Fold no. 2\n",
      "Fold no. 3\n",
      "Validation complete, config selected:[[1, 0.7], [1, 0.7], [1, 0.7]]\n",
      "\tResult of 1:\n",
      "CA: 0.026914340188291957\n",
      "Accuracy: 0.48541666666666666\n",
      "Precision: 0.3559870550161812\n",
      "Recall: 0.6962025316455697\n",
      "[linear:1, gaussian:0.7, linear:1, ]\n",
      "[gaussian:0.7, linear:1, gaussian:0.7, ]\n",
      "\n",
      "eta vector: [  0.04577721   1.01492512 -28.86103881  38.17489174  -0.62449439\n",
      "   1.63459075]\n",
      "\n",
      "\n",
      "\tCompleted in 0.21666666666666667 minutes\n",
      "\tWorking on config 2 of 2: {'linear': [1], 'gaussian': [0.5, 1]}\n",
      "Fold no. 1\n",
      "Fold no. 2\n",
      "Fold no. 3\n",
      "Validation complete, config selected:[[1, 1], [1, 1], [1, 1]]\n",
      "\tResult of 1:\n",
      "CA: 0.026914340188291957\n",
      "Accuracy: 0.48541666666666666\n",
      "Precision: 0.3559870550161812\n",
      "Recall: 0.6962025316455697\n",
      "[linear:1, gaussian:0.7, linear:1, ]\n",
      "[gaussian:0.7, linear:1, gaussian:0.7, ]\n",
      "\n",
      "eta vector: [  0.04577721   1.01492512 -28.86103881  38.17489174  -0.62449439\n",
      "   1.63459075]\n",
      "\n",
      "CA: 0.028597407271773023\n",
      "Accuracy: 0.5895833333333333\n",
      "Precision: 0.24\n",
      "Recall: 0.11392405063291139\n",
      "[linear:1, gaussian:1, linear:1, ]\n",
      "[gaussian:1, linear:1, gaussian:1, ]\n",
      "\n",
      "eta vector: [  0.20751404   0.60449647 -31.49316579  28.39077375  -0.20634405\n",
      "   0.71703468]\n",
      "\n",
      "\n",
      "\tCompleted in 0.4 minutes\n",
      "\n",
      "2 split out of 3 ...\n",
      "\tWorking on config 1 of 2: {'linear': [1], 'gaussian': [0.3, 0.7]}\n",
      "Fold no. 1\n",
      "Fold no. 2\n",
      "Fold no. 3\n",
      "Validation complete, config selected:[[1, 0.3], [1, 0.3], [1, 0.3]]\n",
      "\tResult of 2:\n",
      "CA: 0.020010883121138055\n",
      "Accuracy: 0.49375\n",
      "Precision: 0.3559322033898305\n",
      "Recall: 0.6645569620253164\n",
      "[linear:1, gaussian:0.3, linear:1, ]\n",
      "[gaussian:0.3, linear:1, gaussian:0.3, ]\n",
      "\n",
      "eta vector: [-1.20047553e-01  1.96429058e+00 -2.05413233e+01  6.79335934e+01\n",
      " -1.83705878e-03  2.73495406e-02]\n",
      "\n",
      "\n",
      "\tCompleted in 0.2 minutes\n",
      "\tWorking on config 2 of 2: {'linear': [1], 'gaussian': [0.5, 1]}\n",
      "Fold no. 1\n",
      "Fold no. 2\n",
      "Fold no. 3\n",
      "Validation complete, config selected:[[1, 0.5], [1, 0.5], [1, 0.5]]\n",
      "\tResult of 2:\n",
      "CA: 0.020010883121138055\n",
      "Accuracy: 0.49375\n",
      "Precision: 0.3559322033898305\n",
      "Recall: 0.6645569620253164\n",
      "[linear:1, gaussian:0.3, linear:1, ]\n",
      "[gaussian:0.3, linear:1, gaussian:0.3, ]\n",
      "\n",
      "eta vector: [-1.20047553e-01  1.96429058e+00 -2.05413233e+01  6.79335934e+01\n",
      " -1.83705878e-03  2.73495406e-02]\n",
      "\n",
      "CA: 0.021918840711641317\n",
      "Accuracy: 0.4875\n",
      "Precision: 0.35526315789473684\n",
      "Recall: 0.6835443037974683\n",
      "[linear:1, gaussian:0.5, linear:1, ]\n",
      "[gaussian:0.5, linear:1, gaussian:0.5, ]\n",
      "\n",
      "eta vector: [-9.14350637e-02  1.22831862e+00 -2.68144500e+01  5.14172219e+01\n",
      "  1.46160950e-02 -4.38100142e-02]\n",
      "\n",
      "\n",
      "\tCompleted in 0.4 minutes\n",
      "\n",
      "3 split out of 3 ...\n",
      "\tWorking on config 1 of 2: {'linear': [1], 'gaussian': [0.3, 0.7]}\n",
      "Fold no. 1\n",
      "Fold no. 2\n",
      "Fold no. 3\n",
      "Validation complete, config selected:[[1, 0.3], [1, 0.7], [1, 0.7]]\n",
      "\tResult of 3:\n",
      "CA: 0.025306213674128195\n",
      "Accuracy: 0.45208333333333334\n",
      "Precision: 0.32441471571906355\n",
      "Recall: 0.6139240506329114\n",
      "[linear:1, gaussian:0.3, linear:1, ]\n",
      "[gaussian:0.7, linear:1, gaussian:0.7, ]\n",
      "\n",
      "eta vector: [  0.29431671   0.83476927 -32.54523241  42.88171548   0.0671099\n",
      "   0.077146  ]\n",
      "\n",
      "\n",
      "\tCompleted in 0.21666666666666667 minutes\n",
      "\tWorking on config 2 of 2: {'linear': [1], 'gaussian': [0.5, 1]}\n",
      "Fold no. 1\n",
      "Fold no. 2\n",
      "Fold no. 3\n",
      "Validation complete, config selected:[[1, 0.5], [1, 1], [1, 1]]\n",
      "\tResult of 3:\n",
      "CA: 0.025306213674128195\n",
      "Accuracy: 0.45208333333333334\n",
      "Precision: 0.32441471571906355\n",
      "Recall: 0.6139240506329114\n",
      "[linear:1, gaussian:0.3, linear:1, ]\n",
      "[gaussian:0.7, linear:1, gaussian:0.7, ]\n",
      "\n",
      "eta vector: [  0.29431671   0.83476927 -32.54523241  42.88171548   0.0671099\n",
      "   0.077146  ]\n",
      "\n",
      "CA: 0.0273948962109097\n",
      "Accuracy: 0.6020833333333333\n",
      "Precision: 0.2962962962962963\n",
      "Recall: 0.1518987341772152\n",
      "[linear:1, gaussian:0.5, linear:1, ]\n",
      "[gaussian:1, linear:1, gaussian:1, ]\n",
      "\n",
      "eta vector: [ 3.03607938e-01  5.16308554e-01 -3.53009625e+01  3.16859495e+01\n",
      "  1.43309311e-01 -2.48307287e-02]\n",
      "\n",
      "\n",
      "\tCompleted in 0.4 minutes\n"
     ]
    }
   ],
   "source": [
    "result11 = sampler.sample(kernel_type, estimator, ds_list, y_, valid_fold = 3, verbose=True, exclusion_list = [[5,6,7,9,10,13,15,16,17,18,19], list(range(G.shape[1]-3)), []])"
   ]
  },
  {
   "cell_type": "code",
   "execution_count": 9,
   "metadata": {},
   "outputs": [
    {
     "name": "stdout",
     "output_type": "stream",
     "text": [
      "Perfomances computed for dictionary settings 1:\n",
      "\tAccuracy: 0.5047410649161196\n",
      "\tPrecision: 0.35124508519003933\n",
      "\tRecall: 0.5929203539823009\n",
      "Perfomances computed for dictionary settings 2:\n",
      "\tAccuracy: 0.5054704595185996\n",
      "\tPrecision: 0.356234096692112\n",
      "\tRecall: 0.6194690265486725\n"
     ]
    }
   ],
   "source": [
    "w_dict, w_list = result11.votingOverCA(ds_names, kernel_names)\n",
    "ut.testConfigurations(estimator, y_, y_test, w_list, ds_list, ds_test, kernel_names)"
   ]
  },
  {
   "cell_type": "code",
   "execution_count": 10,
   "metadata": {
    "scrolled": true
   },
   "outputs": [
    {
     "name": "stdout",
     "output_type": "stream",
     "text": [
      "statistics of configuration 1\n",
      "{'config': {'linear': [[1, 1, 1], [1, 1, 1], [1, 1, 1]], 'gaussian': [[0.7, 0.7, 0.7], [0.3, 0.3, 0.3], [0.3, 0.7, 0.7]]}, 'CA': (0.02407714566118607, 8.69825733655828e-06), 'Accuracy': (0.47708333333333336, 0.00032407407407407423), 'Precision': (0.3454446580416917, 0.0002211297384966867), 'Recall': (0.6582278481012659, 0.001148320247823532), 'eta': (array([  0.07334879,   1.27132833, -27.31586484,  49.66340022,\n",
      "        -0.18640718,   0.57969543]), array([2.89963870e-02, 2.45507701e-01, 2.52094203e+01, 1.70592345e+02,\n",
      "       9.67524816e-02, 5.56815346e-01]))}\n",
      "statistics of configuration 2\n",
      "{'config': {'linear': [[1, 1, 1], [1, 1, 1], [1, 1, 1]], 'gaussian': [[1, 1, 1], [0.5, 0.5, 0.5], [0.5, 1, 1]]}, 'CA': (0.025970381398108016, 8.448496442297286e-06), 'Accuracy': (0.5597222222222222, 0.002634066358024691), 'Precision': (0.29718648473034437, 0.002214662145701896), 'Recall': (0.31645569620253167, 0.06761736901137638), 'eta': (array([ 1.39895637e-01,  7.83041214e-01, -3.12028594e+01,  3.71646484e+01,\n",
      "       -1.61395468e-02,  2.16131312e-01]), array([2.82959527e-02, 1.00432167e-01, 1.20456213e+01, 1.03377623e+02,\n",
      "       2.08491998e-02, 1.25512127e-01]))}\n"
     ]
    }
   ],
   "source": [
    "result11.performancesFeatures()"
   ]
  },
  {
   "cell_type": "markdown",
   "metadata": {},
   "source": [
    "## Centering, Normalization, Kernel Normalization"
   ]
  },
  {
   "cell_type": "code",
   "execution_count": null,
   "metadata": {},
   "outputs": [],
   "source": [
    "kernel_names = ['linear', 'gaussian']\n",
    "kernel_type = [{'linear':[1], 'gaussian':[0.3, 0.7]},\n",
    "               {'linear':[1], 'gaussian':[0.5, 1]}]\n",
    "estimator = ca.centeredKernelAlignment\n",
    "sampler = ms.mySampler(n_splits=3, test_size=.35, centering = True, normalizing = True, normalize_kernels = True)"
   ]
  },
  {
   "cell_type": "code",
   "execution_count": null,
   "metadata": {},
   "outputs": [],
   "source": [
    "result7 = sampler.sample(kernel_type, estimator, ds_list, y_, valid_fold = 3, verbose=True, exclusion_list = [[5,6,7,9,10,13,15,16,17,18,19], list(range(G.shape[1]-3)), []])"
   ]
  },
  {
   "cell_type": "code",
   "execution_count": null,
   "metadata": {},
   "outputs": [],
   "source": [
    "w_dict, w_list = result7.votingOverCA(ds_names, kernel_names)\n",
    "ut.testConfigurations(estimator, y_, y_test, w_list, ds_list, ds_test, kernel_names)"
   ]
  },
  {
   "cell_type": "code",
   "execution_count": null,
   "metadata": {
    "scrolled": true
   },
   "outputs": [],
   "source": [
    "result7.performancesFeatures()"
   ]
  },
  {
   "cell_type": "markdown",
   "metadata": {},
   "source": [
    "## L2 Penalty, Centering, K-Normalization"
   ]
  },
  {
   "cell_type": "code",
   "execution_count": null,
   "metadata": {},
   "outputs": [],
   "source": [
    "kernel_names = ['linear', 'gaussian']\n",
    "kernel_type = [{'linear':[1], 'gaussian':[0.3, 0.7]},\n",
    "               {'linear':[1], 'gaussian':[0.5, 1]}]\n",
    "estimator = ca.centeredKernelAlignment\n",
    "sampler = ms.mySampler(n_splits=3, test_size=.35, lamb = 0.5, centering = True, normalize_kernels = False)"
   ]
  },
  {
   "cell_type": "code",
   "execution_count": null,
   "metadata": {
    "scrolled": true
   },
   "outputs": [],
   "source": [
    "result9 = sampler.sample(kernel_type, estimator, ds_list, y_, valid_fold = 3, verbose=True, exclusion_list = [[5,6,7,9,10,13,15,16,17,18,19], list(range(G.shape[1]-3)), []])"
   ]
  },
  {
   "cell_type": "code",
   "execution_count": null,
   "metadata": {},
   "outputs": [],
   "source": [
    "w_dict, w_list = result9.votingOverCA(ds_names, kernel_names)\n",
    "ut.testConfigurations(estimator, y_, y_test, w_list, ds_list, ds_test, kernel_names)"
   ]
  },
  {
   "cell_type": "code",
   "execution_count": null,
   "metadata": {
    "scrolled": true
   },
   "outputs": [],
   "source": [
    "result9.performancesFeatures()"
   ]
  },
  {
   "cell_type": "markdown",
   "metadata": {},
   "source": [
    "## Sparsity in eta, Centering, K-Normalization"
   ]
  },
  {
   "cell_type": "code",
   "execution_count": 3,
   "metadata": {},
   "outputs": [],
   "source": [
    "y = outputs[\"cvd_fail\"].values\n",
    "C = d_clinical.values\n",
    "G = d_genetic.values\n",
    "V = d_vampire.values"
   ]
  },
  {
   "cell_type": "code",
   "execution_count": 4,
   "metadata": {},
   "outputs": [],
   "source": [
    "tr_idx, ts_idx = next(StratifiedShuffleSplit(n_splits=1, test_size=0.5).split(C, y))"
   ]
  },
  {
   "cell_type": "code",
   "execution_count": 5,
   "metadata": {},
   "outputs": [],
   "source": [
    "y_ = y[tr_idx]\n",
    "y_test = y[ts_idx]\n",
    "C_ = C[tr_idx]\n",
    "C_test = C[ts_idx]\n",
    "G_ = G[tr_idx]\n",
    "G_test = G[ts_idx]\n",
    "V_ = V[tr_idx]\n",
    "V_test = V[ts_idx]"
   ]
  },
  {
   "cell_type": "code",
   "execution_count": 6,
   "metadata": {},
   "outputs": [],
   "source": [
    "ds_list = [C_, G_, V_]\n",
    "ds_test = [C_test, G_test, V_test]\n",
    "ds_names = ['clinic', 'genetic', 'vampire']"
   ]
  },
  {
   "cell_type": "code",
   "execution_count": 7,
   "metadata": {},
   "outputs": [],
   "source": [
    "kernel_names = ['linear', 'gaussian']\n",
    "kernel_type = [{'linear':[1], 'gaussian':[0.3, 0.7]},\n",
    "               {'linear':[1], 'gaussian':[0.5, 1]}]\n",
    "estimator = ca.centeredKernelAlignment\n",
    "sampler = ms.mySampler(n_splits=3, test_size=.35, sparsity = 0.5, centering = True, normalize_kernels = True)"
   ]
  },
  {
   "cell_type": "code",
   "execution_count": 8,
   "metadata": {
    "scrolled": true
   },
   "outputs": [
    {
     "name": "stdout",
     "output_type": "stream",
     "text": [
      "\n",
      "1 split out of 3 ...\n",
      "\tWorking on config 1 of 2: {'linear': [1], 'gaussian': [0.3, 0.7]}\n",
      "Fold no. 1\n",
      "Fold no. 2\n",
      "Fold no. 3\n",
      "Validation complete, config selected:[[1, 0.7], [1, 0.3], [1, 0.3]]\n",
      "\tResult of 1:\n",
      "CA: 0.019485386161298163\n",
      "Accuracy: 0.5979166666666667\n",
      "Precision: 0.4279835390946502\n",
      "Recall: 0.6582278481012658\n",
      "[linear:1, gaussian:0.7, linear:1, ]\n",
      "[gaussian:0.3, linear:1, gaussian:0.3, ]\n",
      "\n",
      "eta vector: [8.73449399e-01 4.86835170e-01 8.02580970e-03 3.14506912e-03\n",
      " 1.76909964e-03 4.79374361e-04]\n",
      "\n",
      "\n",
      "\tCompleted in 0.18333333333333332 minutes\n",
      "\tWorking on config 2 of 2: {'linear': [1], 'gaussian': [0.5, 1]}\n",
      "Fold no. 1\n",
      "Fold no. 2\n",
      "Fold no. 3\n",
      "Validation complete, config selected:[[1, 1], [1, 0.5], [1, 0.5]]\n",
      "\tResult of 1:\n",
      "CA: 0.019485386161298163\n",
      "Accuracy: 0.5979166666666667\n",
      "Precision: 0.4279835390946502\n",
      "Recall: 0.6582278481012658\n",
      "[linear:1, gaussian:0.7, linear:1, ]\n",
      "[gaussian:0.3, linear:1, gaussian:0.3, ]\n",
      "\n",
      "eta vector: [8.73449399e-01 4.86835170e-01 8.02580970e-03 3.14506912e-03\n",
      " 1.76909964e-03 4.79374361e-04]\n",
      "\n",
      "CA: 0.019688447196029215\n",
      "Accuracy: 0.5958333333333333\n",
      "Precision: 0.4262295081967213\n",
      "Recall: 0.6582278481012658\n",
      "[linear:1, gaussian:1, linear:1, ]\n",
      "[gaussian:0.5, linear:1, gaussian:0.5, ]\n",
      "\n",
      "eta vector: [0.83073109 0.55658742 0.00761549 0.00581253 0.0017233  0.0012434 ]\n",
      "\n",
      "\n",
      "\tCompleted in 0.4 minutes\n",
      "\n",
      "2 split out of 3 ...\n",
      "\tWorking on config 1 of 2: {'linear': [1], 'gaussian': [0.3, 0.7]}\n",
      "Fold no. 1\n",
      "Fold no. 2\n",
      "Fold no. 3\n",
      "Validation complete, config selected:[[1, 0.7], [1, 0.7], [1, 0.3]]\n",
      "\tResult of 2:\n",
      "CA: 0.015873311328337796\n",
      "Accuracy: 0.5958333333333333\n",
      "Precision: 0.42857142857142855\n",
      "Recall: 0.6835443037974683\n",
      "[linear:1, gaussian:0.7, linear:1, ]\n",
      "[gaussian:0.7, linear:1, gaussian:0.3, ]\n",
      "\n",
      "eta vector: [0.87316374 0.48712531 0.01105634 0.01210532 0.0047836  0.0015343 ]\n",
      "\n",
      "\n",
      "\tCompleted in 0.2 minutes\n",
      "\tWorking on config 2 of 2: {'linear': [1], 'gaussian': [0.5, 1]}\n",
      "Fold no. 1\n",
      "Fold no. 2\n",
      "Fold no. 3\n",
      "Validation complete, config selected:[[1, 0.5], [1, 1], [1, 0.5]]\n",
      "\tResult of 2:\n",
      "CA: 0.015873311328337796\n",
      "Accuracy: 0.5958333333333333\n",
      "Precision: 0.42857142857142855\n",
      "Recall: 0.6835443037974683\n",
      "[linear:1, gaussian:0.7, linear:1, ]\n",
      "[gaussian:0.7, linear:1, gaussian:0.3, ]\n",
      "\n",
      "eta vector: [0.87316374 0.48712531 0.01105634 0.01210532 0.0047836  0.0015343 ]\n",
      "\n",
      "CA: 0.01578709675617963\n",
      "Accuracy: 0.5854166666666667\n",
      "Precision: 0.42084942084942084\n",
      "Recall: 0.689873417721519\n",
      "[linear:1, gaussian:0.5, linear:1, ]\n",
      "[gaussian:1, linear:1, gaussian:0.5, ]\n",
      "\n",
      "eta vector: [0.91320745 0.40673945 0.01185941 0.02091346 0.00511244 0.00331946]\n",
      "\n",
      "\n",
      "\tCompleted in 0.4 minutes\n",
      "\n",
      "3 split out of 3 ...\n",
      "\tWorking on config 1 of 2: {'linear': [1], 'gaussian': [0.3, 0.7]}\n",
      "Fold no. 1\n",
      "Fold no. 2\n",
      "Fold no. 3\n",
      "Validation complete, config selected:[[1, 0.7], [1, 0.7], [1, 0.3]]\n",
      "\tResult of 3:\n",
      "CA: 0.015127899940224466\n",
      "Accuracy: 0.6\n",
      "Precision: 0.43253968253968256\n",
      "Recall: 0.689873417721519\n",
      "[linear:1, gaussian:0.7, linear:1, ]\n",
      "[gaussian:0.7, linear:1, gaussian:0.3, ]\n",
      "\n",
      "eta vector: [0.87308227 0.48716315 0.01238183 0.0135651  0.0069165  0.00377617]\n",
      "\n",
      "\n",
      "\tCompleted in 0.18333333333333332 minutes\n",
      "\tWorking on config 2 of 2: {'linear': [1], 'gaussian': [0.5, 1]}\n",
      "Fold no. 1\n",
      "Fold no. 2\n",
      "Fold no. 3\n",
      "Validation complete, config selected:[[1, 1], [1, 1], [1, 0.5]]\n",
      "\tResult of 3:\n",
      "CA: 0.015127899940224466\n",
      "Accuracy: 0.6\n",
      "Precision: 0.43253968253968256\n",
      "Recall: 0.689873417721519\n",
      "[linear:1, gaussian:0.7, linear:1, ]\n",
      "[gaussian:0.7, linear:1, gaussian:0.3, ]\n",
      "\n",
      "eta vector: [0.87308227 0.48716315 0.01238183 0.0135651  0.0069165  0.00377617]\n",
      "\n",
      "CA: 0.015369906136479905\n",
      "Accuracy: 0.59375\n",
      "Precision: 0.4225941422594142\n",
      "Recall: 0.6392405063291139\n",
      "[linear:1, gaussian:1, linear:1, ]\n",
      "[gaussian:1, linear:1, gaussian:0.5, ]\n",
      "\n",
      "eta vector: [0.82942422 0.55805588 0.01167269 0.02028605 0.00657533 0.00617185]\n",
      "\n",
      "\n",
      "\tCompleted in 0.38333333333333336 minutes\n"
     ]
    }
   ],
   "source": [
    "result8 = sampler.sample(kernel_type, estimator, ds_list, y_, valid_fold = 3, verbose=True, exclusion_list = [[5,6,7,9,10,13,15,16,17,18,19], list(range(G.shape[1]-3)), []])"
   ]
  },
  {
   "cell_type": "code",
   "execution_count": 9,
   "metadata": {},
   "outputs": [
    {
     "name": "stdout",
     "output_type": "stream",
     "text": [
      "Perfomances computed for dictionary settings 1:\n",
      "\tAccuracy: 0.4762946754194019\n",
      "\tPrecision: 0.33207070707070707\n",
      "\tRecall: 0.581858407079646\n",
      "Perfomances computed for dictionary settings 2:\n",
      "\tAccuracy: 0.45951859956236324\n",
      "\tPrecision: 0.3313885647607935\n",
      "\tRecall: 0.6283185840707964\n"
     ]
    }
   ],
   "source": [
    "w_dict, w_list = result8.votingOverCA(ds_names, kernel_names)\n",
    "ut.testConfigurations(estimator, y_, y_test, w_list, ds_list, ds_test, kernel_names)"
   ]
  },
  {
   "cell_type": "code",
   "execution_count": 10,
   "metadata": {
    "scrolled": true
   },
   "outputs": [
    {
     "name": "stdout",
     "output_type": "stream",
     "text": [
      "statistics of configuration 1\n",
      "{'config': {'linear': [[1, 1, 1], [1, 1, 1], [1, 1, 1]], 'gaussian': [[0.7, 0.3, 0.3], [0.7, 0.7, 0.3], [0.7, 0.7, 0.3]]}, 'CA': (0.016828865809953474, 3.6211565448090923e-06), 'Accuracy': (0.5979166666666668, 2.8935185185184976e-06), 'Precision': (0.4296982167352537, 4.094566298353525e-06), 'Recall': (0.6772151898734178, 0.00018693585429685475), 'eta': (array([0.8732318 , 0.48704121, 0.01048799, 0.00960516, 0.00448973,\n",
      "       0.00192995]), array([2.47804446e-08, 2.14647611e-08, 3.32399562e-06, 2.12215710e-05,\n",
      "       4.45912916e-06, 1.88974130e-06]))}\n",
      "statistics of configuration 2\n",
      "{'config': {'linear': [[1, 1, 1], [1, 1, 1], [1, 1, 1]], 'gaussian': [[1, 0.5, 0.5], [0.5, 1, 0.5], [1, 1, 0.5]]}, 'CA': (0.01694848336289625, 3.7827089056325856e-06), 'Accuracy': (0.5916666666666667, 2.0254629629629487e-05), 'Precision': (0.42322435710185213, 5.022808684578233e-06), 'Recall': (0.6624472573839663, 0.0004361836600259939), 'eta': (array([0.85778759, 0.50712758, 0.01038253, 0.01567068, 0.00447036,\n",
      "       0.00357824]), array([1.53596526e-03, 5.03924813e-03, 3.83405744e-06, 4.86571257e-05,\n",
      "       4.12983310e-06, 4.08175592e-06]))}\n"
     ]
    }
   ],
   "source": [
    "result8.performancesFeatures()"
   ]
  }
 ],
 "metadata": {
  "kernelspec": {
   "display_name": "Python 3",
   "language": "python",
   "name": "python3"
  },
  "language_info": {
   "codemirror_mode": {
    "name": "ipython",
    "version": 3
   },
   "file_extension": ".py",
   "mimetype": "text/x-python",
   "name": "python",
   "nbconvert_exporter": "python",
   "pygments_lexer": "ipython3",
   "version": "3.7.0"
  }
 },
 "nbformat": 4,
 "nbformat_minor": 2
}
