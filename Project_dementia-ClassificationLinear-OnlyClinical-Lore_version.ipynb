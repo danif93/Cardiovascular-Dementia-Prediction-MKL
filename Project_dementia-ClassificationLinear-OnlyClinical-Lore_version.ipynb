{
 "cells": [
  {
   "cell_type": "code",
   "execution_count": 5,
   "metadata": {},
   "outputs": [],
   "source": [
    "import pandas as pd\n",
    "import os\n",
    "import numpy as np\n",
    "\n",
    "import Utils as ut\n",
    "import CortesAlignmentFile as ca\n",
    "import mySampler as ms\n",
    " \n",
    "from sklearn.model_selection import StratifiedShuffleSplit"
   ]
  },
  {
   "cell_type": "code",
   "execution_count": 6,
   "metadata": {},
   "outputs": [],
   "source": [
    "d_clinical = pd.read_csv(os.path.join('data', 'dataset_clinical_cleaned.csv'))\n",
    "#d_genetic = pd.read_csv(os.path.join('data', 'dataset_genetic_cleaned_noOHE.csv'))\n",
    "#d_vampire = pd.read_csv(os.path.join('data', 'dataset_vampire_cleaned.csv'))\n",
    "outputs = pd.read_csv(os.path.join('data', 'outputs_cleaned.csv'))"
   ]
  },
  {
   "cell_type": "markdown",
   "metadata": {},
   "source": [
    "## Dementia"
   ]
  },
  {
   "cell_type": "code",
   "execution_count": 7,
   "metadata": {},
   "outputs": [],
   "source": [
    "y = outputs[\"dement_fail\"].values\n",
    "C = d_clinical.values\n",
    "#G = d_genetic.values\n",
    "#V = d_vampire.values"
   ]
  },
  {
   "cell_type": "code",
   "execution_count": 8,
   "metadata": {},
   "outputs": [],
   "source": [
    "# COMPUTATIONAL COMPLEXITY: Reduce #samples\n",
    "tr_idx, ts_idx = next(StratifiedShuffleSplit(n_splits=1, test_size=0.25).split(C, y))"
   ]
  },
  {
   "cell_type": "code",
   "execution_count": 9,
   "metadata": {},
   "outputs": [],
   "source": [
    "y_ = y[tr_idx]\n",
    "y_test = y[ts_idx]\n",
    "C_ = C[tr_idx]\n",
    "C_test = C[ts_idx]\n",
    "#G_ = G[tr_idx]\n",
    "#G_test = G[ts_idx]\n",
    "#V_ = V[tr_idx]\n",
    "#V_test = V[ts_idx]"
   ]
  },
  {
   "cell_type": "code",
   "execution_count": 10,
   "metadata": {},
   "outputs": [],
   "source": [
    "ds_list = [C_]#, G_, V_]\n",
    "ds_test = [C_test]#, G_test, V_test]\n",
    "ds_names = ['clinic']#, 'genetic', 'vampire']"
   ]
  },
  {
   "cell_type": "markdown",
   "metadata": {},
   "source": [
    "## Basic approach"
   ]
  },
  {
   "cell_type": "code",
   "execution_count": null,
   "metadata": {},
   "outputs": [],
   "source": [
    "kernel_names = ['linear', 'laplacian', 'sigmoid', 'polynomial', 'gaussian']\n",
    "kernel_type = [{'linear':[1], 'laplacian':[0.1, 0.05], 'sigmoid':[0.3, 0.6], 'polynomial':[2, 3], 'gaussian':[0.4, 0.7]},\n",
    "               {'linear':[1], 'laplacian':[0.1, 0.15], 'sigmoid':[0.4, 0.5], 'polynomial':[3, 4], 'gaussian':[0.5, 1]}]\n",
    "estimator = ca.centeredKernelAlignment\n",
    "sampler = ms.mySampler(n_splits=3, test_size=.25)"
   ]
  },
  {
   "cell_type": "code",
   "execution_count": null,
   "metadata": {},
   "outputs": [],
   "source": [
    "result1 = sampler.sample(kernel_type, estimator, ds_list, y_, valid_fold = 3, verbose=True)"
   ]
  },
  {
   "cell_type": "code",
   "execution_count": null,
   "metadata": {},
   "outputs": [],
   "source": [
    "w_dict, w_list = result1.votingOverCA(ds_names, kernel_names)\n",
    "ut.testConfigurations(estimator, y_, y_test, w_list, ds_list, ds_test, kernel_names)"
   ]
  },
  {
   "cell_type": "code",
   "execution_count": null,
   "metadata": {},
   "outputs": [],
   "source": [
    "w_dict"
   ]
  },
  {
   "cell_type": "code",
   "execution_count": null,
   "metadata": {},
   "outputs": [],
   "source": [
    "result1.performancesFeatures()"
   ]
  },
  {
   "cell_type": "markdown",
   "metadata": {},
   "source": [
    "## Kernel normalization"
   ]
  },
  {
   "cell_type": "code",
   "execution_count": null,
   "metadata": {},
   "outputs": [],
   "source": [
    "kernel_names = ['linear', 'laplacian', 'sigmoid', 'polynomial', 'gaussian']\n",
    "kernel_type = [{'linear':[1], 'laplacian':[0.1, 0.05], 'sigmoid':[0.3, 0.6], 'polynomial':[2, 3], 'gaussian':[0.4, 0.7]},\n",
    "               {'linear':[1], 'laplacian':[0.1, 0.15], 'sigmoid':[0.4, 0.5], 'polynomial':[3, 4], 'gaussian':[0.5, 1]}]\n",
    "estimator = ca.centeredKernelAlignment\n",
    "sampler = ms.mySampler(n_splits=3, test_size=.25, normalize_kernels = True)"
   ]
  },
  {
   "cell_type": "code",
   "execution_count": null,
   "metadata": {
    "scrolled": true
   },
   "outputs": [],
   "source": [
    "result3 = sampler.sample(kernel_type, estimator, ds_list, y_, valid_fold = 3, verbose=True)"
   ]
  },
  {
   "cell_type": "code",
   "execution_count": null,
   "metadata": {},
   "outputs": [],
   "source": [
    "w_dict, w_list = result3.votingOverCA(ds_names, kernel_names)\n",
    "ut.testConfigurations(estimator, y_, y_test, w_list, ds_list, ds_test, kernel_names)"
   ]
  },
  {
   "cell_type": "code",
   "execution_count": null,
   "metadata": {},
   "outputs": [],
   "source": [
    "result3.performancesFeatures()"
   ]
  },
  {
   "cell_type": "markdown",
   "metadata": {},
   "source": [
    "## Normalized data"
   ]
  },
  {
   "cell_type": "code",
   "execution_count": null,
   "metadata": {},
   "outputs": [],
   "source": [
    "kernel_names = ['linear', 'laplacian', 'sigmoid', 'polynomial', 'gaussian']\n",
    "kernel_type = [{'linear':[1], 'laplacian':[0.1, 0.05], 'sigmoid':[0.3, 0.6], 'polynomial':[2, 3], 'gaussian':[0.4, 0.7]},\n",
    "               {'linear':[1], 'laplacian':[0.1, 0.15], 'sigmoid':[0.4, 0.5], 'polynomial':[3, 4], 'gaussian':[0.5, 1]}]\n",
    "estimator = ca.centeredKernelAlignment\n",
    "sampler = ms.mySampler(n_splits=3, test_size=.25, normalizing = True)"
   ]
  },
  {
   "cell_type": "code",
   "execution_count": null,
   "metadata": {
    "scrolled": true
   },
   "outputs": [],
   "source": [
    "result4 = sampler.sample(kernel_type, estimator, ds_list, y_, valid_fold = 3, verbose=True, exclusion_list = [[5,6,7,9,10,13,15,16,17,18,19]])"
   ]
  },
  {
   "cell_type": "code",
   "execution_count": null,
   "metadata": {},
   "outputs": [],
   "source": [
    "w_dict, w_list = result4.votingOverCA(ds_names, kernel_names)\n",
    "ut.testConfigurations(estimator, y_, y_test, w_list, ds_list, ds_test, kernel_names)"
   ]
  },
  {
   "cell_type": "code",
   "execution_count": null,
   "metadata": {},
   "outputs": [],
   "source": [
    "result4.performancesFeatures()"
   ]
  },
  {
   "cell_type": "markdown",
   "metadata": {},
   "source": [
    "## Origin Data Centering"
   ]
  },
  {
   "cell_type": "code",
   "execution_count": null,
   "metadata": {},
   "outputs": [],
   "source": [
    "kernel_names = ['linear', 'laplacian', 'sigmoid', 'polynomial', 'gaussian']\n",
    "kernel_type = [{'linear':[1], 'laplacian':[0.1, 0.05], 'sigmoid':[0.3, 0.6], 'polynomial':[2, 3], 'gaussian':[0.4, 0.7]},\n",
    "               {'linear':[1], 'laplacian':[0.1, 0.15], 'sigmoid':[0.4, 0.5], 'polynomial':[3, 4], 'gaussian':[0.5, 1]}]\n",
    "estimator = ca.centeredKernelAlignment\n",
    "sampler = ms.mySampler(n_splits=3, test_size=.25, centering = True)"
   ]
  },
  {
   "cell_type": "code",
   "execution_count": null,
   "metadata": {
    "scrolled": true
   },
   "outputs": [],
   "source": [
    "result5 = sampler.sample(kernel_type, estimator, ds_list, y_, valid_fold = 3, verbose=True, exclusion_list = [[5,6,7,9,10,13,15,16,17,18,19]])"
   ]
  },
  {
   "cell_type": "code",
   "execution_count": null,
   "metadata": {},
   "outputs": [],
   "source": [
    "w_dict, w_list = result5.votingOverCA(ds_names, kernel_names)\n",
    "ut.testConfigurations(estimator, y_, y_test, w_list, ds_list, ds_test, kernel_names)"
   ]
  },
  {
   "cell_type": "code",
   "execution_count": null,
   "metadata": {
    "scrolled": true
   },
   "outputs": [],
   "source": [
    "result5.performancesFeatures()"
   ]
  },
  {
   "cell_type": "markdown",
   "metadata": {},
   "source": [
    "## Origin Data  Centering and Normalization"
   ]
  },
  {
   "cell_type": "code",
   "execution_count": null,
   "metadata": {},
   "outputs": [],
   "source": [
    "kernel_names = ['linear', 'laplacian', 'sigmoid', 'polynomial', 'gaussian']\n",
    "kernel_type = [{'linear':[1], 'laplacian':[0.1, 0.05], 'sigmoid':[0.3, 0.6], 'polynomial':[2, 3], 'gaussian':[0.4, 0.7]},\n",
    "               {'linear':[1], 'laplacian':[0.1, 0.15], 'sigmoid':[0.4, 0.5], 'polynomial':[3, 4], 'gaussian':[0.5, 1]}]\n",
    "estimator = ca.centeredKernelAlignment\n",
    "sampler = ms.mySampler(n_splits=3, test_size=.35, centering = True, normalizing = True)"
   ]
  },
  {
   "cell_type": "code",
   "execution_count": null,
   "metadata": {},
   "outputs": [],
   "source": [
    "result6 = sampler.sample(kernel_type, estimator, ds_list, y_, valid_fold = 3, verbose=True, exclusion_list = [[5,6,7,9,10,13,15,16,17,18,19]])"
   ]
  },
  {
   "cell_type": "code",
   "execution_count": null,
   "metadata": {},
   "outputs": [],
   "source": [
    "w_dict, w_list = result6.votingOverCA(ds_names, kernel_names)\n",
    "ut.testConfigurations(estimator, y_, y_test, w_list, ds_list, ds_test, kernel_names)"
   ]
  },
  {
   "cell_type": "code",
   "execution_count": null,
   "metadata": {
    "scrolled": true
   },
   "outputs": [],
   "source": [
    "result6.performancesFeatures()"
   ]
  },
  {
   "cell_type": "markdown",
   "metadata": {},
   "source": [
    "## Normalization, Kernel Normalization"
   ]
  },
  {
   "cell_type": "code",
   "execution_count": null,
   "metadata": {},
   "outputs": [],
   "source": [
    "kernel_names = ['linear', 'laplacian', 'sigmoid', 'polynomial', 'gaussian']\n",
    "kernel_type = [{'linear':[1], 'laplacian':[0.1, 0.05], 'sigmoid':[0.3, 0.6], 'polynomial':[2, 3], 'gaussian':[0.4, 0.7]},\n",
    "               {'linear':[1], 'laplacian':[0.1, 0.15], 'sigmoid':[0.4, 0.5], 'polynomial':[3, 4], 'gaussian':[0.5, 1]}]\n",
    "estimator = ca.centeredKernelAlignment\n",
    "sampler = ms.mySampler(n_splits=3, test_size=.35, normalizing = True, normalize_kernels = True)"
   ]
  },
  {
   "cell_type": "code",
   "execution_count": null,
   "metadata": {},
   "outputs": [],
   "source": [
    "result10 = sampler.sample(kernel_type, estimator, ds_list, y_, valid_fold = 3, verbose=True, exclusion_list = [[5,6,7,9,10,13,15,16,17,18,19], list(range(G.shape[1]-3)), []])"
   ]
  },
  {
   "cell_type": "code",
   "execution_count": null,
   "metadata": {},
   "outputs": [],
   "source": [
    "w_dict, w_list = result10.votingOverCA(ds_names, kernel_names)\n",
    "ut.testConfigurations(estimator, y_, y_test, w_list, ds_list, ds_test, kernel_names)"
   ]
  },
  {
   "cell_type": "code",
   "execution_count": null,
   "metadata": {
    "scrolled": false
   },
   "outputs": [],
   "source": [
    "result10.performancesFeatures()"
   ]
  },
  {
   "cell_type": "markdown",
   "metadata": {},
   "source": [
    "## Centering, Kernel Normalization"
   ]
  },
  {
   "cell_type": "code",
   "execution_count": 11,
   "metadata": {},
   "outputs": [],
   "source": [
    "kernel_names = ['linear', 'laplacian', 'sigmoid', 'polynomial', 'gaussian']\n",
    "kernel_type = [{'linear':[1], 'laplacian':[0.1, 0.05], 'sigmoid':[0.3, 0.6], 'polynomial':[2, 3], 'gaussian':[0.4, 0.7]},\n",
    "               {'linear':[1], 'laplacian':[0.1, 0.15], 'sigmoid':[0.4, 0.5], 'polynomial':[3, 4], 'gaussian':[0.5, 1]}]\n",
    "estimator = ca.centeredKernelAlignment\n",
    "sampler = ms.mySampler(n_splits=3, test_size=.25, centering = True, normalize_kernels = True)"
   ]
  },
  {
   "cell_type": "code",
   "execution_count": 12,
   "metadata": {
    "scrolled": true
   },
   "outputs": [
    {
     "name": "stdout",
     "output_type": "stream",
     "text": [
      "\n",
      "1 split out of 3 ...\n",
      "\tWorking on config 1 of 2: {'linear': [1], 'laplacian': [0.1, 0.05], 'sigmoid': [0.3, 0.6], 'polynomial': [2, 3], 'gaussian': [0.4, 0.7]}\n",
      "Fold no. 1\n",
      "Fold no. 2\n",
      "Fold no. 3\n",
      "Validation complete, config selected:[1, 0.05, 0.3, 2, 0.4]\n",
      "\tResult of 1:\n",
      "CA: 0.020526871996112587\n",
      "Accuracy: 0.603112840466926\n",
      "Precision: 0.24444444444444444\n",
      "Recall: 0.6179775280898876\n",
      "[linear:1, laplacian:0.05, sigmoid:0.3, polynomial:2, gaussian:0.4, ]\n",
      "\n",
      "eta vector: [   0.80655534   -4.6520079    82.07401995 -248.96752957   14.41998378]\n",
      "\n",
      "\n",
      "\tCompleted in 1.3833333333333333 minutes\n",
      "\tWorking on config 2 of 2: {'linear': [1], 'laplacian': [0.1, 0.15], 'sigmoid': [0.4, 0.5], 'polynomial': [3, 4], 'gaussian': [0.5, 1]}\n",
      "Fold no. 1\n",
      "Fold no. 2\n",
      "Fold no. 3\n",
      "Validation complete, config selected:[1, 0.1, 0.4, 3, 0.5]\n",
      "\tResult of 1:\n",
      "CA: 0.020526871996112587\n",
      "Accuracy: 0.603112840466926\n",
      "Precision: 0.24444444444444444\n",
      "Recall: 0.6179775280898876\n",
      "[linear:1, laplacian:0.05, sigmoid:0.3, polynomial:2, gaussian:0.4, ]\n",
      "\n",
      "eta vector: [   0.80655534   -4.6520079    82.07401995 -248.96752957   14.41998378]\n",
      "\n",
      "CA: 0.020480407771138177\n",
      "Accuracy: 0.47470817120622566\n",
      "Precision: 0.12448132780082988\n",
      "Recall: 0.33707865168539325\n",
      "[linear:1, laplacian:0.1, sigmoid:0.4, polynomial:3, gaussian:0.5, ]\n",
      "\n",
      "eta vector: [  0.83992073  -2.36339733  33.57270548 -99.19306215   8.09842878]\n",
      "\n",
      "\n",
      "\tCompleted in 2.783333333333333 minutes\n",
      "\n",
      "2 split out of 3 ...\n",
      "\tWorking on config 1 of 2: {'linear': [1], 'laplacian': [0.1, 0.05], 'sigmoid': [0.3, 0.6], 'polynomial': [2, 3], 'gaussian': [0.4, 0.7]}\n",
      "Fold no. 1\n",
      "Fold no. 2\n",
      "Fold no. 3\n",
      "Validation complete, config selected:[1, 0.1, 0.3, 3, 0.7]\n",
      "\tResult of 2:\n",
      "CA: 0.0213429362794693\n",
      "Accuracy: 0.4766536964980545\n",
      "Precision: 0.1484375\n",
      "Recall: 0.42696629213483145\n",
      "[linear:1, laplacian:0.1, sigmoid:0.3, polynomial:3, gaussian:0.7, ]\n",
      "\n",
      "eta vector: [  0.39583708  -1.67661288  50.2513494  -81.06161535   4.08441435]\n",
      "\n",
      "\n",
      "\tCompleted in 1.3666666666666667 minutes\n",
      "\tWorking on config 2 of 2: {'linear': [1], 'laplacian': [0.1, 0.15], 'sigmoid': [0.4, 0.5], 'polynomial': [3, 4], 'gaussian': [0.5, 1]}\n",
      "Fold no. 1\n",
      "Fold no. 2\n",
      "Fold no. 3\n",
      "Validation complete, config selected:[1, 0.1, 0.4, 4, 0.5]\n",
      "\tResult of 2:\n",
      "CA: 0.0213429362794693\n",
      "Accuracy: 0.4766536964980545\n",
      "Precision: 0.1484375\n",
      "Recall: 0.42696629213483145\n",
      "[linear:1, laplacian:0.1, sigmoid:0.3, polynomial:3, gaussian:0.7, ]\n",
      "\n",
      "eta vector: [  0.39583708  -1.67661288  50.2513494  -81.06161535   4.08441435]\n",
      "\n",
      "CA: 0.0214483781682418\n",
      "Accuracy: 0.5330739299610895\n",
      "Precision: 0.1759656652360515\n",
      "Recall: 0.4606741573033708\n",
      "[linear:1, laplacian:0.1, sigmoid:0.4, polynomial:4, gaussian:0.5, ]\n",
      "\n",
      "eta vector: [  0.33465213  -1.79390729  37.61374224 -81.88792924   9.79674008]\n",
      "\n",
      "\n",
      "\tCompleted in 2.75 minutes\n",
      "\n",
      "3 split out of 3 ...\n",
      "\tWorking on config 1 of 2: {'linear': [1], 'laplacian': [0.1, 0.05], 'sigmoid': [0.3, 0.6], 'polynomial': [2, 3], 'gaussian': [0.4, 0.7]}\n",
      "Fold no. 1\n",
      "Fold no. 2\n",
      "Fold no. 3\n",
      "Validation complete, config selected:[1, 0.1, 0.3, 2, 0.4]\n",
      "\tResult of 3:\n",
      "CA: 0.025438157729311198\n",
      "Accuracy: 0.5797665369649806\n",
      "Precision: 0.22270742358078602\n",
      "Recall: 0.5730337078651685\n",
      "[linear:1, laplacian:0.1, sigmoid:0.3, polynomial:2, gaussian:0.4, ]\n",
      "\n",
      "eta vector: [   1.11512557   -2.89463169   92.895921   -282.33708082   16.16032315]\n",
      "\n",
      "\n",
      "\tCompleted in 1.3666666666666667 minutes\n",
      "\tWorking on config 2 of 2: {'linear': [1], 'laplacian': [0.1, 0.15], 'sigmoid': [0.4, 0.5], 'polynomial': [3, 4], 'gaussian': [0.5, 1]}\n",
      "Fold no. 1\n",
      "Fold no. 2\n",
      "Fold no. 3\n",
      "Validation complete, config selected:[1, 0.15, 0.4, 3, 0.5]\n",
      "\tResult of 3:\n",
      "CA: 0.025438157729311198\n",
      "Accuracy: 0.5797665369649806\n",
      "Precision: 0.22270742358078602\n",
      "Recall: 0.5730337078651685\n",
      "[linear:1, laplacian:0.1, sigmoid:0.3, polynomial:2, gaussian:0.4, ]\n",
      "\n",
      "eta vector: [   1.11512557   -2.89463169   92.895921   -282.33708082   16.16032315]\n",
      "\n",
      "CA: 0.02539336714375282\n",
      "Accuracy: 0.4727626459143969\n",
      "Precision: 0.1388888888888889\n",
      "Recall: 0.39325842696629215\n",
      "[linear:1, laplacian:0.15, sigmoid:0.4, polynomial:3, gaussian:0.5, ]\n",
      "\n",
      "eta vector: [   1.14767145   -1.96100047   38.6655106  -114.66298244    9.20410307]\n",
      "\n",
      "\n",
      "\tCompleted in 2.75 minutes\n"
     ]
    }
   ],
   "source": [
    "result11 = sampler.sample(kernel_type, estimator, ds_list, y_, valid_fold = 3, verbose=True, exclusion_list = [[5,6,7,9,10,13,15,16,17,18,19]])"
   ]
  },
  {
   "cell_type": "code",
   "execution_count": 13,
   "metadata": {},
   "outputs": [
    {
     "name": "stdout",
     "output_type": "stream",
     "text": [
      "Perfomances computed for dictionary settings 1:\n",
      "\tAccuracy: 0.5816326530612245\n",
      "\tPrecision: 0.26536312849162014\n",
      "\tRecall: 0.7983193277310925\n",
      "Perfomances computed for dictionary settings 2:\n",
      "\tAccuracy: 0.5787172011661808\n",
      "\tPrecision: 0.2638888888888889\n",
      "\tRecall: 0.7983193277310925\n"
     ]
    }
   ],
   "source": [
    "w_dict, w_list = result11.votingOverCA(ds_names, kernel_names)\n",
    "ut.testConfigurations(estimator, y_, y_test, w_list, ds_list, ds_test, kernel_names)"
   ]
  },
  {
   "cell_type": "code",
   "execution_count": 14,
   "metadata": {
    "scrolled": true
   },
   "outputs": [
    {
     "name": "stdout",
     "output_type": "stream",
     "text": [
      "statistics of configuration 1\n",
      "{'config': {'linear': [[1], [1], [1]], 'laplacian': [[0.05], [0.1], [0.1]], 'sigmoid': [[0.3], [0.3], [0.3]], 'polynomial': [[2], [3], [2]], 'gaussian': [[0.4], [0.7], [0.4]]}, 'CA': (0.022435988668297695, 4.617503021215098e-06), 'Accuracy': (0.553177691309987, 0.0030188025388558307), 'Precision': (0.20519645600841016, 0.0016895392229201729), 'Recall': (0.5393258426966292, 0.0066489921306232365), 'eta': (array([   0.772506  ,   -3.07441749,   75.07376345, -204.12207525,\n",
      "         11.55490709]), array([8.68090010e-02, 1.49165739e+00, 3.27595043e+02, 7.75752622e+03,\n",
      "       2.84089278e+01]))}\n",
      "statistics of configuration 2\n",
      "{'config': {'linear': [[1], [1], [1]], 'laplacian': [[0.1], [0.1], [0.15]], 'sigmoid': [[0.4], [0.4], [0.4]], 'polynomial': [[3], [4], [3]], 'gaussian': [[0.5], [0.5], [0.5]]}, 'CA': (0.022440717694377596, 4.5152305003927206e-06), 'Accuracy': (0.49351491569390404, 0.0007830886496725497), 'Precision': (0.14644529397525677, 0.00047032246243860365), 'Recall': (0.3970037453183521, 0.002552988539606392), 'eta': (array([  0.77408144,  -2.03943503,  36.61731944, -98.58132461,\n",
      "         9.03309064]), array([1.12334141e-01, 5.71291419e-02, 4.81920653e+00, 1.79221130e+02,\n",
      "       4.95332837e-01]))}\n"
     ]
    }
   ],
   "source": [
    "result11.performancesFeatures()"
   ]
  },
  {
   "cell_type": "markdown",
   "metadata": {},
   "source": [
    "## Centering, Normalization, Kernel Normalization"
   ]
  },
  {
   "cell_type": "code",
   "execution_count": null,
   "metadata": {},
   "outputs": [],
   "source": [
    "kernel_names = ['linear', 'laplacian', 'sigmoid', 'polynomial', 'gaussian']\n",
    "kernel_type = [{'linear':[1], 'laplacian':[0.1, 0.05], 'sigmoid':[0.3, 0.6], 'polynomial':[2, 3], 'gaussian':[0.4, 0.7]},\n",
    "               {'linear':[1], 'laplacian':[0.1, 0.15], 'sigmoid':[0.4, 0.5], 'polynomial':[3, 4], 'gaussian':[0.5, 1]}]\n",
    "estimator = ca.centeredKernelAlignment\n",
    "sampler = ms.mySampler(n_splits=3, test_size=.25, centering = True, normalizing = True, normalize_kernels = True)"
   ]
  },
  {
   "cell_type": "code",
   "execution_count": null,
   "metadata": {},
   "outputs": [],
   "source": [
    "result7 = sampler.sample(kernel_type, estimator, ds_list, y_, valid_fold = 3, verbose=True, exclusion_list = [[5,6,7,9,10,13,15,16,17,18,19]])"
   ]
  },
  {
   "cell_type": "code",
   "execution_count": null,
   "metadata": {},
   "outputs": [],
   "source": [
    "w_dict, w_list = result7.votingOverCA(ds_names, kernel_names)\n",
    "ut.testConfigurations(estimator, y_, y_test, w_list, ds_list, ds_test, kernel_names)"
   ]
  },
  {
   "cell_type": "code",
   "execution_count": null,
   "metadata": {
    "scrolled": true
   },
   "outputs": [],
   "source": [
    "result7.performancesFeatures()"
   ]
  },
  {
   "cell_type": "markdown",
   "metadata": {},
   "source": [
    "## L2 Penalty, Centering, K-Normalization"
   ]
  },
  {
   "cell_type": "code",
   "execution_count": 15,
   "metadata": {},
   "outputs": [],
   "source": [
    "kernel_names = ['linear', 'laplacian', 'sigmoid', 'polynomial', 'gaussian']\n",
    "kernel_type = [{'linear':[1], 'laplacian':[0.1, 0.05], 'sigmoid':[0.3, 0.6], 'polynomial':[2, 3], 'gaussian':[0.4, 0.7]},\n",
    "               {'linear':[1], 'laplacian':[0.1, 0.15], 'sigmoid':[0.4, 0.5], 'polynomial':[3, 4], 'gaussian':[0.5, 1]}]\n",
    "estimator = ca.centeredKernelAlignment\n",
    "sampler = ms.mySampler(n_splits=3, test_size=.25, lamb = 0.5, centering = True, normalize_kernels = False)"
   ]
  },
  {
   "cell_type": "code",
   "execution_count": 16,
   "metadata": {
    "scrolled": true
   },
   "outputs": [
    {
     "name": "stdout",
     "output_type": "stream",
     "text": [
      "\n",
      "1 split out of 3 ...\n",
      "\tWorking on config 1 of 2: {'linear': [1], 'laplacian': [0.1, 0.05], 'sigmoid': [0.3, 0.6], 'polynomial': [2, 3], 'gaussian': [0.4, 0.7]}\n",
      "Fold no. 1\n",
      "Fold no. 2\n",
      "Fold no. 3\n",
      "Validation complete, config selected:[1, 0.05, 0.6, 2, 0.4]\n",
      "\tResult of 1:\n",
      "CA: 0.020146067415361686\n",
      "Accuracy: 0.5622568093385214\n",
      "Precision: 0.23228346456692914\n",
      "Recall: 0.6629213483146067\n",
      "[linear:1, laplacian:0.05, sigmoid:0.6, polynomial:2, gaussian:0.4, ]\n",
      "\n",
      "eta vector: [ 0.06867573 -0.18130627 -0.08287536  0.01468922  0.00727067]\n",
      "\n",
      "\n",
      "\tCompleted in 1.2333333333333334 minutes\n",
      "\tWorking on config 2 of 2: {'linear': [1], 'laplacian': [0.1, 0.15], 'sigmoid': [0.4, 0.5], 'polynomial': [3, 4], 'gaussian': [0.5, 1]}\n",
      "Fold no. 1\n",
      "Fold no. 2\n",
      "Fold no. 3\n",
      "Validation complete, config selected:[1, 0.1, 0.5, 3, 0.5]\n",
      "\tResult of 1:\n",
      "CA: 0.020146067415361686\n",
      "Accuracy: 0.5622568093385214\n",
      "Precision: 0.23228346456692914\n",
      "Recall: 0.6629213483146067\n",
      "[linear:1, laplacian:0.05, sigmoid:0.6, polynomial:2, gaussian:0.4, ]\n",
      "\n",
      "eta vector: [ 0.06867573 -0.18130627 -0.08287536  0.01468922  0.00727067]\n",
      "\n",
      "CA: 0.020138986698797642\n",
      "Accuracy: 0.5291828793774319\n",
      "Precision: 0.18775510204081633\n",
      "Recall: 0.5168539325842697\n",
      "[linear:1, laplacian:0.1, sigmoid:0.5, polynomial:3, gaussian:0.5, ]\n",
      "\n",
      "eta vector: [ 0.05526533 -0.10603467 -0.09854588  0.08097452  0.01363645]\n",
      "\n",
      "\n",
      "\tCompleted in 2.5 minutes\n",
      "\n",
      "2 split out of 3 ...\n",
      "\tWorking on config 1 of 2: {'linear': [1], 'laplacian': [0.1, 0.05], 'sigmoid': [0.3, 0.6], 'polynomial': [2, 3], 'gaussian': [0.4, 0.7]}\n",
      "Fold no. 1\n",
      "Fold no. 2\n",
      "Fold no. 3\n",
      "Validation complete, config selected:[1, 0.05, 0.6, 2, 0.4]\n",
      "\tResult of 2:\n",
      "CA: 0.02304167132918587\n",
      "Accuracy: 0.4494163424124514\n",
      "Precision: 0.09243697478991597\n",
      "Recall: 0.24719101123595505\n",
      "[linear:1, laplacian:0.05, sigmoid:0.6, polynomial:2, gaussian:0.4, ]\n",
      "\n",
      "eta vector: [-0.07398945 -0.24545371  0.16659315  0.00292222  0.23932018]\n",
      "\n",
      "\n",
      "\tCompleted in 1.2333333333333334 minutes\n",
      "\tWorking on config 2 of 2: {'linear': [1], 'laplacian': [0.1, 0.15], 'sigmoid': [0.4, 0.5], 'polynomial': [3, 4], 'gaussian': [0.5, 1]}\n",
      "Fold no. 1\n",
      "Fold no. 2\n",
      "Fold no. 3\n",
      "Validation complete, config selected:[1, 0.1, 0.5, 3, 0.5]\n",
      "\tResult of 2:\n",
      "CA: 0.02304167132918587\n",
      "Accuracy: 0.4494163424124514\n",
      "Precision: 0.09243697478991597\n",
      "Recall: 0.24719101123595505\n",
      "[linear:1, laplacian:0.05, sigmoid:0.6, polynomial:2, gaussian:0.4, ]\n",
      "\n",
      "eta vector: [-0.07398945 -0.24545371  0.16659315  0.00292222  0.23932018]\n",
      "\n",
      "CA: 0.023050129363618648\n",
      "Accuracy: 0.5214007782101168\n",
      "Precision: 0.18725099601593626\n",
      "Recall: 0.5280898876404494\n",
      "[linear:1, laplacian:0.1, sigmoid:0.5, polynomial:3, gaussian:0.5, ]\n",
      "\n",
      "eta vector: [-0.06687001 -0.14912738  0.22299723  0.05385645  0.18069405]\n",
      "\n",
      "\n",
      "\tCompleted in 2.5 minutes\n",
      "\n",
      "3 split out of 3 ...\n",
      "\tWorking on config 1 of 2: {'linear': [1], 'laplacian': [0.1, 0.05], 'sigmoid': [0.3, 0.6], 'polynomial': [2, 3], 'gaussian': [0.4, 0.7]}\n",
      "Fold no. 1\n",
      "Fold no. 2\n",
      "Fold no. 3\n",
      "Validation complete, config selected:[1, 0.1, 0.6, 2, 0.4]\n",
      "\tResult of 3:\n",
      "CA: 0.021798695446922756\n",
      "Accuracy: 0.5038910505836576\n",
      "Precision: 0.15416666666666667\n",
      "Recall: 0.4157303370786517\n",
      "[linear:1, laplacian:0.1, sigmoid:0.6, polynomial:2, gaussian:0.4, ]\n",
      "\n",
      "eta vector: [ 0.01933932 -0.15565609  0.01499885  0.01539642  0.09349171]\n",
      "\n",
      "\n",
      "\tCompleted in 1.0333333333333334 minutes\n",
      "\tWorking on config 2 of 2: {'linear': [1], 'laplacian': [0.1, 0.15], 'sigmoid': [0.4, 0.5], 'polynomial': [3, 4], 'gaussian': [0.5, 1]}\n",
      "Fold no. 1\n",
      "Fold no. 2\n",
      "Fold no. 3\n",
      "Validation complete, config selected:[1, 0.1, 0.5, 3, 0.5]\n",
      "\tResult of 3:\n",
      "CA: 0.021798695446922756\n",
      "Accuracy: 0.5038910505836576\n",
      "Precision: 0.15416666666666667\n",
      "Recall: 0.4157303370786517\n",
      "[linear:1, laplacian:0.1, sigmoid:0.6, polynomial:2, gaussian:0.4, ]\n",
      "\n",
      "eta vector: [ 0.01933932 -0.15565609  0.01499885  0.01539642  0.09349171]\n",
      "\n",
      "CA: 0.02180008779519569\n",
      "Accuracy: 0.5291828793774319\n",
      "Precision: 0.17721518987341772\n",
      "Recall: 0.47191011235955055\n",
      "[linear:1, laplacian:0.1, sigmoid:0.5, polynomial:3, gaussian:0.5, ]\n",
      "\n",
      "eta vector: [ 0.02004079 -0.15626819  0.01082468  0.08403106  0.06471442]\n",
      "\n",
      "\n",
      "\tCompleted in 2.066666666666667 minutes\n"
     ]
    }
   ],
   "source": [
    "result9 = sampler.sample(kernel_type, estimator, ds_list, y_, valid_fold = 3, verbose=True, exclusion_list = [[5,6,7,9,10,13,15,16,17,18,19]])"
   ]
  },
  {
   "cell_type": "code",
   "execution_count": 17,
   "metadata": {},
   "outputs": [
    {
     "name": "stdout",
     "output_type": "stream",
     "text": [
      "Perfomances computed for dictionary settings 1:\n",
      "\tAccuracy: 0.5830903790087464\n",
      "\tPrecision: 0.2661064425770308\n",
      "\tRecall: 0.7983193277310925\n",
      "Perfomances computed for dictionary settings 2:\n",
      "\tAccuracy: 0.5787172011661808\n",
      "\tPrecision: 0.2638888888888889\n",
      "\tRecall: 0.7983193277310925\n"
     ]
    }
   ],
   "source": [
    "w_dict, w_list = result9.votingOverCA(ds_names, kernel_names)\n",
    "ut.testConfigurations(estimator, y_, y_test, w_list, ds_list, ds_test, kernel_names)"
   ]
  },
  {
   "cell_type": "code",
   "execution_count": 18,
   "metadata": {
    "scrolled": true
   },
   "outputs": [
    {
     "name": "stdout",
     "output_type": "stream",
     "text": [
      "statistics of configuration 1\n",
      "{'config': {'linear': [[1], [1], [1]], 'laplacian': [[0.05], [0.05], [0.1]], 'sigmoid': [[0.6], [0.6], [0.6]], 'polynomial': [[2], [2], [2]], 'gaussian': [[0.4], [0.4], [0.4]]}, 'CA': (0.021662144730490104, 1.40674338670479e-06), 'Accuracy': (0.5051880674448768, 0.002123002955718061), 'Precision': (0.1596290353411706, 0.003274425519593475), 'Recall': (0.4419475655430712, 0.029148957062099332), 'eta': (array([ 0.0046752 , -0.19413869,  0.03290555,  0.01100262,  0.11336085]), array([3.49974386e-03, 1.42627074e-03, 1.05327475e-02, 3.27297933e-05,\n",
      "       9.17188738e-03]))}\n",
      "statistics of configuration 2\n",
      "{'config': {'linear': [[1], [1], [1]], 'laplacian': [[0.1], [0.1], [0.1]], 'sigmoid': [[0.5], [0.5], [0.5]], 'polynomial': [[3], [3], [3]], 'gaussian': [[0.5], [0.5], [0.5]]}, 'CA': (0.021663067952537324, 1.4218458211312524e-06), 'Accuracy': (0.5265888456549935, 1.3458021906295062e-05), 'Precision': (0.18407376264339007, 2.3562364034556703e-05), 'Recall': (0.5056179775280899, 0.0005891512014476286), 'eta': (array([ 0.00281204, -0.13714341,  0.04509201,  0.07295401,  0.0863483 ]), array([0.00263459, 0.00049238, 0.01781879, 0.00018392, 0.00488539]))}\n"
     ]
    }
   ],
   "source": [
    "result9.performancesFeatures()"
   ]
  },
  {
   "cell_type": "markdown",
   "metadata": {},
   "source": [
    "## Sparsity in eta, Centering, K-Normalization"
   ]
  },
  {
   "cell_type": "code",
   "execution_count": 19,
   "metadata": {},
   "outputs": [],
   "source": [
    "y = outputs[\"cvd_fail\"].values\n",
    "C = d_clinical.values\n",
    "#G = d_genetic.values\n",
    "#V = d_vampire.values"
   ]
  },
  {
   "cell_type": "code",
   "execution_count": 20,
   "metadata": {},
   "outputs": [],
   "source": [
    "tr_idx, ts_idx = next(StratifiedShuffleSplit(n_splits=1, test_size=0.25).split(C, y))"
   ]
  },
  {
   "cell_type": "code",
   "execution_count": 21,
   "metadata": {},
   "outputs": [],
   "source": [
    "y_ = y[tr_idx]\n",
    "y_test = y[ts_idx]\n",
    "C_ = C[tr_idx]\n",
    "C_test = C[ts_idx]\n",
    "#G_ = G[tr_idx]\n",
    "#G_test = G[ts_idx]\n",
    "#V_ = V[tr_idx]\n",
    "#V_test = V[ts_idx]"
   ]
  },
  {
   "cell_type": "code",
   "execution_count": 22,
   "metadata": {},
   "outputs": [],
   "source": [
    "ds_list = [C_]#, G_, V_]\n",
    "ds_test = [C_test]#, G_test, V_test]\n",
    "ds_names = ['clinic']#, 'genetic', 'vampire']"
   ]
  },
  {
   "cell_type": "code",
   "execution_count": 23,
   "metadata": {},
   "outputs": [],
   "source": [
    "kernel_names = ['linear', 'laplacian', 'sigmoid', 'polynomial', 'gaussian']\n",
    "kernel_type = [{'linear':[1], 'laplacian':[0.1, 0.05], 'sigmoid':[0.3, 0.6], 'polynomial':[2, 3], 'gaussian':[0.4, 0.7]},\n",
    "               {'linear':[1], 'laplacian':[0.1, 0.15], 'sigmoid':[0.4, 0.5], 'polynomial':[3, 4], 'gaussian':[0.5, 1]}]\n",
    "estimator = ca.centeredKernelAlignment\n",
    "sampler = ms.mySampler(n_splits=3, test_size=.25, sparsity = 0.7, centering = True, normalize_kernels = True)"
   ]
  },
  {
   "cell_type": "code",
   "execution_count": 24,
   "metadata": {
    "scrolled": true
   },
   "outputs": [
    {
     "name": "stdout",
     "output_type": "stream",
     "text": [
      "\n",
      "1 split out of 3 ...\n",
      "\tWorking on config 1 of 2: {'linear': [1], 'laplacian': [0.1, 0.05], 'sigmoid': [0.3, 0.6], 'polynomial': [2, 3], 'gaussian': [0.4, 0.7]}\n",
      "Fold no. 1\n",
      "Fold no. 2\n",
      "Fold no. 3\n",
      "Validation complete, config selected:[1, 0.1, 0.3, 2, 0.7]\n",
      "\tResult of 1:\n",
      "CA: 0.019086145586624234\n",
      "Accuracy: 0.5486381322957199\n",
      "Precision: 0.38345864661654133\n",
      "Recall: 0.6\n",
      "[linear:1, laplacian:0.1, sigmoid:0.3, polynomial:2, gaussian:0.7, ]\n",
      "\n",
      "eta vector: [0.86432267 0.08634358 0.07340475 0.04222153 0.4881805 ]\n",
      "\n",
      "\n",
      "\tCompleted in 1.0666666666666667 minutes\n",
      "\tWorking on config 2 of 2: {'linear': [1], 'laplacian': [0.1, 0.15], 'sigmoid': [0.4, 0.5], 'polynomial': [3, 4], 'gaussian': [0.5, 1]}\n",
      "Fold no. 1\n",
      "Fold no. 2\n",
      "Fold no. 3\n",
      "Validation complete, config selected:[1, 0.15, 0.4, 3, 1]\n",
      "\tResult of 1:\n",
      "CA: 0.019086145586624234\n",
      "Accuracy: 0.5486381322957199\n",
      "Precision: 0.38345864661654133\n",
      "Recall: 0.6\n",
      "[linear:1, laplacian:0.1, sigmoid:0.3, polynomial:2, gaussian:0.7, ]\n",
      "\n",
      "eta vector: [0.86432267 0.08634358 0.07340475 0.04222153 0.4881805 ]\n",
      "\n",
      "CA: 0.0193832559574127\n",
      "Accuracy: 0.5505836575875487\n",
      "Precision: 0.3840304182509506\n",
      "Recall: 0.5941176470588235\n",
      "[linear:1, laplacian:0.15, sigmoid:0.4, polynomial:3, gaussian:1, ]\n",
      "\n",
      "eta vector: [0.81541287 0.12367271 0.09263433 0.05984981 0.55465646]\n",
      "\n",
      "\n",
      "\tCompleted in 2.183333333333333 minutes\n",
      "\n",
      "2 split out of 3 ...\n",
      "\tWorking on config 1 of 2: {'linear': [1], 'laplacian': [0.1, 0.05], 'sigmoid': [0.3, 0.6], 'polynomial': [2, 3], 'gaussian': [0.4, 0.7]}\n",
      "Fold no. 1\n",
      "Fold no. 2\n",
      "Fold no. 3\n",
      "Validation complete, config selected:[1, 0.1, 0.3, 2, 0.7]\n",
      "\tResult of 2:\n",
      "CA: 0.014991024271693996\n",
      "Accuracy: 0.5933852140077821\n",
      "Precision: 0.43010752688172044\n",
      "Recall: 0.7058823529411765\n",
      "[linear:1, laplacian:0.1, sigmoid:0.3, polynomial:2, gaussian:0.7, ]\n",
      "\n",
      "eta vector: [0.8652685  0.0872448  0.07317236 0.04214639 0.48638283]\n",
      "\n",
      "\n",
      "\tCompleted in 1.0666666666666667 minutes\n",
      "\tWorking on config 2 of 2: {'linear': [1], 'laplacian': [0.1, 0.15], 'sigmoid': [0.4, 0.5], 'polynomial': [3, 4], 'gaussian': [0.5, 1]}\n",
      "Fold no. 1\n",
      "Fold no. 2\n",
      "Fold no. 3\n",
      "Validation complete, config selected:[1, 0.15, 0.4, 3, 1]\n",
      "\tResult of 2:\n",
      "CA: 0.014991024271693996\n",
      "Accuracy: 0.5933852140077821\n",
      "Precision: 0.43010752688172044\n",
      "Recall: 0.7058823529411765\n",
      "[linear:1, laplacian:0.1, sigmoid:0.3, polynomial:2, gaussian:0.7, ]\n",
      "\n",
      "eta vector: [0.8652685  0.0872448  0.07317236 0.04214639 0.48638283]\n",
      "\n",
      "CA: 0.015219053821523885\n",
      "Accuracy: 0.5914396887159533\n",
      "Precision: 0.42857142857142855\n",
      "Recall: 0.7058823529411765\n",
      "[linear:1, laplacian:0.15, sigmoid:0.4, polynomial:3, gaussian:1, ]\n",
      "\n",
      "eta vector: [0.81688872 0.12507572 0.09233001 0.05981017 0.55221987]\n",
      "\n",
      "\n",
      "\tCompleted in 2.183333333333333 minutes\n",
      "\n",
      "3 split out of 3 ...\n",
      "\tWorking on config 1 of 2: {'linear': [1], 'laplacian': [0.1, 0.05], 'sigmoid': [0.3, 0.6], 'polynomial': [2, 3], 'gaussian': [0.4, 0.7]}\n",
      "Fold no. 1\n",
      "Fold no. 2\n",
      "Fold no. 3\n",
      "Validation complete, config selected:[1, 0.1, 0.3, 2, 0.7]\n",
      "\tResult of 3:\n",
      "CA: 0.01557649922222033\n",
      "Accuracy: 0.5933852140077821\n",
      "Precision: 0.4275092936802974\n",
      "Recall: 0.6764705882352942\n",
      "[linear:1, laplacian:0.1, sigmoid:0.3, polynomial:2, gaussian:0.7, ]\n",
      "\n",
      "eta vector: [0.86585212 0.08721768 0.07369154 0.04230584 0.48525555]\n",
      "\n",
      "\n",
      "\tCompleted in 1.15 minutes\n",
      "\tWorking on config 2 of 2: {'linear': [1], 'laplacian': [0.1, 0.15], 'sigmoid': [0.4, 0.5], 'polynomial': [3, 4], 'gaussian': [0.5, 1]}\n",
      "Fold no. 1\n",
      "Fold no. 2\n",
      "Fold no. 3\n",
      "Validation complete, config selected:[1, 0.15, 0.4, 3, 1]\n",
      "\tResult of 3:\n",
      "CA: 0.01557649922222033\n",
      "Accuracy: 0.5933852140077821\n",
      "Precision: 0.4275092936802974\n",
      "Recall: 0.6764705882352942\n",
      "[linear:1, laplacian:0.1, sigmoid:0.3, polynomial:2, gaussian:0.7, ]\n",
      "\n",
      "eta vector: [0.86585212 0.08721768 0.07369154 0.04230584 0.48525555]\n",
      "\n",
      "CA: 0.015772543674360144\n",
      "Accuracy: 0.5972762645914397\n",
      "Precision: 0.4312267657992565\n",
      "Recall: 0.6823529411764706\n",
      "[linear:1, laplacian:0.15, sigmoid:0.4, polynomial:3, gaussian:1, ]\n",
      "\n",
      "eta vector: [0.81814384 0.12507396 0.09316296 0.06007408 0.5501899 ]\n",
      "\n",
      "\n",
      "\tCompleted in 2.316666666666667 minutes\n"
     ]
    }
   ],
   "source": [
    "result8 = sampler.sample(kernel_type, estimator, ds_list, y_, valid_fold = 3, verbose=True, exclusion_list = [[5,6,7,9,10,13,15,16,17,18,19]])"
   ]
  },
  {
   "cell_type": "code",
   "execution_count": 25,
   "metadata": {},
   "outputs": [
    {
     "name": "stdout",
     "output_type": "stream",
     "text": [
      "Perfomances computed for dictionary settings 1:\n",
      "\tAccuracy: 0.5787172011661808\n",
      "\tPrecision: 0.41509433962264153\n",
      "\tRecall: 0.6814159292035398\n",
      "Perfomances computed for dictionary settings 2:\n",
      "\tAccuracy: 0.5874635568513119\n",
      "\tPrecision: 0.42318059299191374\n",
      "\tRecall: 0.6946902654867256\n"
     ]
    }
   ],
   "source": [
    "w_dict, w_list = result8.votingOverCA(ds_names, kernel_names)\n",
    "ut.testConfigurations(estimator, y_, y_test, w_list, ds_list, ds_test, kernel_names)"
   ]
  },
  {
   "cell_type": "code",
   "execution_count": 26,
   "metadata": {
    "scrolled": true
   },
   "outputs": [
    {
     "name": "stdout",
     "output_type": "stream",
     "text": [
      "statistics of configuration 1\n",
      "{'config': {'linear': [[1], [1], [1]], 'laplacian': [[0.1], [0.1], [0.1]], 'sigmoid': [[0.3], [0.3], [0.3]], 'polynomial': [[2], [2], [2]], 'gaussian': [[0.7], [0.7], [0.7]]}, 'CA': (0.016551223026846185, 3.2700463449848135e-06), 'Accuracy': (0.5784695201037614, 0.00044495584927688273), 'Precision': (0.413691822392853, 0.00045814759472217705), 'Recall': (0.6607843137254902, 0.0019915417147251084), 'eta': (array([0.86514776, 0.08693535, 0.07342288, 0.04222459, 0.48660629]), array([3.97161425e-07, 1.75217383e-07, 4.50889558e-08, 4.24220564e-09,\n",
      "       1.45085316e-06]))}\n",
      "statistics of configuration 2\n",
      "{'config': {'linear': [[1], [1], [1]], 'laplacian': [[0.15], [0.15], [0.15]], 'sigmoid': [[0.4], [0.4], [0.4]], 'polynomial': [[3], [3], [3]], 'gaussian': [[1], [1], [1]]}, 'CA': (0.016791617817765576, 3.409352626302252e-06), 'Accuracy': (0.5797665369649806, 0.00043149782737058755), 'Precision': (0.4146095375405452, 0.00046871640422921075), 'Recall': (0.6607843137254902, 0.002314494425221071), 'eta': (array([0.81681515, 0.12460746, 0.0927091 , 0.05991135, 0.55235541]), array([1.24574180e-06, 4.36882963e-07, 1.18429671e-07, 1.35022256e-08,\n",
      "       3.33422056e-06]))}\n"
     ]
    }
   ],
   "source": [
    "result8.performancesFeatures()"
   ]
  },
  {
   "cell_type": "code",
   "execution_count": null,
   "metadata": {},
   "outputs": [],
   "source": []
  }
 ],
 "metadata": {
  "kernelspec": {
   "display_name": "Python 3",
   "language": "python",
   "name": "python3"
  },
  "language_info": {
   "codemirror_mode": {
    "name": "ipython",
    "version": 3
   },
   "file_extension": ".py",
   "mimetype": "text/x-python",
   "name": "python",
   "nbconvert_exporter": "python",
   "pygments_lexer": "ipython3",
   "version": "3.6.5"
  }
 },
 "nbformat": 4,
 "nbformat_minor": 2
}
