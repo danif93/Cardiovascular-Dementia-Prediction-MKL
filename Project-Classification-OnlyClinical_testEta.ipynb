{
 "cells": [
  {
   "cell_type": "code",
   "execution_count": 1,
   "metadata": {},
   "outputs": [
    {
     "name": "stderr",
     "output_type": "stream",
     "text": [
      "/Users/danilo/.conda/envs/bcb/lib/python3.7/site-packages/sklearn/utils/__init__.py:4: DeprecationWarning: Using or importing the ABCs from 'collections' instead of from 'collections.abc' is deprecated, and in 3.8 it will stop working\n",
      "  from collections import Sequence\n"
     ]
    }
   ],
   "source": [
    "import pandas as pd\n",
    "import os\n",
    "import numpy as np\n",
    "\n",
    "import Utils as ut\n",
    "import CortesAlignmentFile as ca\n",
    "import mySampler as ms\n",
    " \n",
    "from sklearn.model_selection import StratifiedShuffleSplit\n",
    "\n",
    "from threading import Thread, Lock"
   ]
  },
  {
   "cell_type": "markdown",
   "metadata": {},
   "source": [
    "## Dataset Configuration"
   ]
  },
  {
   "cell_type": "code",
   "execution_count": 2,
   "metadata": {},
   "outputs": [],
   "source": [
    "d_clinical = pd.read_csv(os.path.join('data', 'dataset_clinical_cleaned.csv'))\n",
    "outputs = pd.read_csv(os.path.join('data', 'outputs_cleaned.csv'))\n",
    "\n",
    "C = d_clinical.values\n",
    "\n",
    "y_d = outputs[\"dement_fail\"].values\n",
    "y_c = outputs[\"cvd_fail\"].values"
   ]
  },
  {
   "cell_type": "code",
   "execution_count": 3,
   "metadata": {},
   "outputs": [],
   "source": [
    "tr_idx, ts_idx = next(StratifiedShuffleSplit(n_splits=1, test_size=0.25).split(C, y_d))\n",
    "\n",
    "C_ = C[tr_idx]\n",
    "C_test = C[ts_idx]\n",
    "\n",
    "y_d_ = y_d[tr_idx]\n",
    "y_d_test = y_d[ts_idx]\n",
    "\n",
    "y_c_ = y_c[tr_idx]\n",
    "y_c_test = y_c[ts_idx]"
   ]
  },
  {
   "cell_type": "code",
   "execution_count": 4,
   "metadata": {},
   "outputs": [],
   "source": [
    "ds_list = [C_]\n",
    "ds_test = [C_test]\n",
    "ds_names = ['clinic']"
   ]
  },
  {
   "cell_type": "markdown",
   "metadata": {},
   "source": [
    "## Kernel Definition"
   ]
  },
  {
   "cell_type": "code",
   "execution_count": 5,
   "metadata": {},
   "outputs": [],
   "source": [
    "kernel_names = ['linear', 'laplacian']\n",
    "kernel_type = [{'linear':[1], 'laplacian':[0.2, 0.4]},\n",
    "               {'linear':[1], 'laplacian':[0.3, 0.6]}]"
   ]
  },
  {
   "cell_type": "markdown",
   "metadata": {},
   "source": [
    "## Other shared parameters initialization"
   ]
  },
  {
   "cell_type": "code",
   "execution_count": 6,
   "metadata": {},
   "outputs": [],
   "source": [
    "estimator = ca.centeredKernelAlignment\n",
    "lock_dementia = Lock()\n",
    "lock_cardio = Lock()\n",
    "valid_fold = 3\n",
    "threads = []\n",
    "pen_params = [0.7, 1]"
   ]
  },
  {
   "cell_type": "markdown",
   "metadata": {},
   "source": [
    "## Thread"
   ]
  },
  {
   "cell_type": "code",
   "execution_count": 7,
   "metadata": {},
   "outputs": [],
   "source": [
    "def child(sampler,estimator,ds_list,ds_test,y_d_,y_d_test,y_c_,y_c_test,lock_dementia,lock_cardio,valid_fold,exclusion_list,verbose,approach):\n",
    "    \"\"\"\n",
    "    #DEMENTIA\n",
    "    \n",
    "    result1 = sampler.sample(kernel_type, estimator, ds_list, y_d_, valid_fold = valid_fold, verbose=verbose)\n",
    "    w_dict, w_list, lamb_list, sparsity = result1.votingOverCA(ds_names, kernel_names)\n",
    "    result1.performancesFeatures(fileToWrite = 'results_temp/Dementia_train.txt', header = '\\nDementia Laplacian - Gaussian\\n' + approach + '\\n', lock = lock_dementia)\n",
    "    ut.testConfigurations(estimator, y_d_, y_d_test, w_list, ds_list, ds_test, kernel_names, lamb_list, sparsity, 'classification', lock_dementia, fileToWrite = 'results_temp/Dementia_test.txt', header = 'Dementia Linear, Laplacian, Sigmoid, Polynomial, Gaussian \\n' + approach + '\\n', normalize = sampler.normalize_kernels, verbose=verbose)\n",
    "    \"\"\"   \n",
    "    # CARDIO\n",
    "    \n",
    "    result1 = sampler.sample(kernel_type, estimator, ds_list, y_c_, valid_fold = valid_fold, verbose=verbose)\n",
    "    w_dict, w_list, lamb_list, sparsity = result1.votingOverCA(ds_names, kernel_names)\n",
    "    result1.performancesFeatures(fileToWrite = 'results_temp/Cardio_train.txt', header = '\\nCardio Laplacian - Gaussian\\n' + approach + '\\n', lock = lock_cardio)\n",
    "    ut.testConfigurations(estimator, y_c_, y_c_test, w_list, ds_list, ds_test, kernel_names, lamb_list, sparsity, 'classification', lock_cardio, fileToWrite = 'results_temp/Cardio_test.txt', header = 'Cardio Linear, Laplacian, Sigmoid, Polynomial, Gaussian \\n' + approach + '\\n', normalize = sampler.normalize_kernels, verbose=verbose)\n"
   ]
  },
  {
   "cell_type": "markdown",
   "metadata": {},
   "source": [
    "## L2, Centering, Normalization"
   ]
  },
  {
   "cell_type": "code",
   "execution_count": null,
   "metadata": {},
   "outputs": [],
   "source": [
    "sampler = ms.mySampleWrapper(pen_params, n_splits=3, test_size=.25, sparsity = False, centering = True, normalizing = True)"
   ]
  },
  {
   "cell_type": "code",
   "execution_count": null,
   "metadata": {},
   "outputs": [],
   "source": [
    "t = Thread(target=child, args=(sampler, estimator, ds_list, ds_test, y_d_, y_d_test, y_c_, y_c_test, lock_dementia, lock_cardio, valid_fold, [[5,6,7,9,10,13,15,16,17,18,19]], False, 'L2 - Centering - Normalizing'))\n",
    "t.start()\n",
    "threads.append(t)"
   ]
  },
  {
   "cell_type": "markdown",
   "metadata": {},
   "source": [
    "## L2, Normalization, K-Normalization"
   ]
  },
  {
   "cell_type": "code",
   "execution_count": null,
   "metadata": {},
   "outputs": [],
   "source": [
    "sampler = ms.mySampleWrapper(pen_params, n_splits=3, test_size=.25, sparsity = False, centering = True, normalizing = True)"
   ]
  },
  {
   "cell_type": "code",
   "execution_count": null,
   "metadata": {},
   "outputs": [],
   "source": [
    "t = Thread(target=child, args=(sampler, estimator, ds_list, ds_test, y_d_, y_d_test, y_c_, y_c_test, lock_dementia, lock_cardio, valid_fold, [[5,6,7,9,10,13,15,16,17,18,19]], False, 'L2 - Normalizing - K Normalizing'))\n",
    "t.start()\n",
    "threads.append(t)"
   ]
  },
  {
   "cell_type": "markdown",
   "metadata": {},
   "source": [
    "## L2, Centering, K-Normalization"
   ]
  },
  {
   "cell_type": "code",
   "execution_count": 8,
   "metadata": {},
   "outputs": [],
   "source": [
    "sampler = ms.mySampleWrapper(pen_params, n_splits=3, test_size=.25, sparsity = False, centering = True, normalizing = True)"
   ]
  },
  {
   "cell_type": "code",
   "execution_count": 9,
   "metadata": {},
   "outputs": [
    {
     "name": "stdout",
     "output_type": "stream",
     "text": [
      "[13472.23557933  2895.17465679]\n",
      "[13472.23557933  3324.47038626]\n",
      "[13404.77546094  2761.88153304]\n",
      "[13404.77546094  3156.36978628]\n",
      "[11281.37188099  2477.86134003]\n",
      "[11281.37188099  2836.1368946 ]\n",
      "[28285.78680276  6556.05912033]\n",
      "[13472.23557933  3269.81095549]\n",
      "[13472.23557933  3016.40160492]\n",
      "[13404.77546094  3112.11766127]\n",
      "[13404.77546094  2849.71930814]\n",
      "[11281.37188099  2792.69092134]\n",
      "[11281.37188099  2575.94926057]\n",
      "[28285.78680276  6518.37176061]\n",
      "[14313.15935555  3205.86216976]\n",
      "[14313.15935555  3645.90282029]\n",
      "[14256.60112936  3175.3809935 ]\n",
      "[14256.60112936  3609.54174067]\n",
      "[12979.95441594  2701.11373854]\n",
      "[12979.95441594  3085.52542783]\n",
      "[30929.14265492  7353.61529904]\n",
      "[14313.15935555  3603.47441202]\n",
      "[14313.15935555  3276.46685497]\n",
      "[14256.60112936  3569.10684837]\n",
      "[14256.60112936  3237.02170878]\n",
      "[12979.95441594  3041.16615017]\n",
      "[12979.95441594  2797.24267061]\n",
      "[30929.14265492  7327.0636362 ]\n",
      "[14258.06962181  3098.81512794]\n",
      "[14258.06962181  3505.06868135]\n",
      "[17245.41842687  3681.6894864 ]\n",
      "[17245.41842687  4185.87588213]\n",
      "[13788.95232271  3025.78561073]\n",
      "[13788.95232271  3471.80918734]\n",
      "[33459.8844187   7895.23719538]\n",
      "[14258.06962181  3473.69117483]\n",
      "[14258.06962181  3133.57647784]\n",
      "[17245.41842687  4139.1271167 ]\n",
      "[17245.41842687  3749.01097839]\n",
      "[13788.95232271  3416.56658379]\n",
      "[13788.95232271  3144.56300826]\n",
      "[33459.8844187   7864.36739133]\n"
     ]
    }
   ],
   "source": [
    "t = Thread(target=child, args=(sampler, estimator, ds_list, ds_test, y_d_, y_d_test, y_c_, y_c_test, lock_dementia, lock_cardio, valid_fold, [[5,6,7,9,10,13,15,16,17,18,19]], False, 'L2 - Centering - K Normalizing'))\n",
    "t.start()\n",
    "threads.append(t)"
   ]
  },
  {
   "cell_type": "markdown",
   "metadata": {},
   "source": [
    "## L2, Centering, Normalization, K-Normalization"
   ]
  },
  {
   "cell_type": "code",
   "execution_count": null,
   "metadata": {},
   "outputs": [],
   "source": [
    "sampler = ms.mySampleWrapper(pen_params, n_splits=3, test_size=.25, sparsity = False, centering = True, normalizing = True)"
   ]
  },
  {
   "cell_type": "code",
   "execution_count": null,
   "metadata": {},
   "outputs": [],
   "source": [
    "t = Thread(target=child, args=(sampler, estimator, ds_list, ds_test, y_d_, y_d_test, y_c_, y_c_test, lock_dementia, lock_cardio, valid_fold, [[5,6,7,9,10,13,15,16,17,18,19]], False, 'L2 - Centering - Normalizing - K Normalizing'))\n",
    "t.start()\n",
    "threads.append(t)"
   ]
  },
  {
   "cell_type": "code",
   "execution_count": 10,
   "metadata": {},
   "outputs": [
    {
     "name": "stdout",
     "output_type": "stream",
     "text": [
      "[15055.84810492  3211.92857148]\n",
      "[15055.84810492  3670.89866707]\n",
      "[14271.12372564  2925.00189662]\n",
      "[14271.12372564  3361.33057529]\n",
      "[17470.94769747  3685.63404907]\n",
      "[17470.94769747  4117.73367458]\n",
      "[34803.21733249  8004.16550842]\n",
      "[15055.84810492  3619.90291175]\n",
      "[15055.84810492  3309.68316578]\n",
      "[14271.12372564  3305.98326177]\n",
      "[14271.12372564  3044.32010807]\n",
      "[17470.94769747  4106.85165945]\n",
      "[17470.94769747  3630.32395654]\n",
      "[34803.21733249  7038.26080711]\n",
      "[12388.64040637  2899.72777633]\n",
      "[12388.64040637  3331.94275801]\n",
      "[13783.44973277  3122.13101942]\n",
      "[13783.44973277  3513.94784827]\n",
      "[13089.13244976  2706.99613758]\n",
      "[13089.13244976  3127.92154145]\n",
      "[29041.76498319  6257.1631252 ]\n",
      "[12388.64040637  3275.65234126]\n",
      "[12388.64040637  3028.21138536]\n",
      "[13783.44973277  3491.56918753]\n",
      "[13783.44973277  3123.06745377]\n",
      "[13089.13244976  3067.46265136]\n",
      "[13089.13244976  2852.38691644]\n",
      "[29041.76498319  6989.70493851]\n",
      "[15391.94432993  3341.90371862]\n",
      "[15391.94432993  3809.06236607]\n",
      "[13855.7049197   2900.58418372]\n",
      "[13855.7049197   3375.62224016]\n",
      "[15509.74770062  3260.93805447]\n",
      "[15509.74770062  3718.68422098]\n",
      "[33390.19638172  6899.32435629]\n",
      "[15391.94432993  3761.21645778]\n",
      "[15391.94432993  3424.50642207]\n",
      "[13855.7049197   3298.96553304]\n",
      "[13855.7049197   3096.10853186]\n",
      "[15509.74770062  3670.81612761]\n",
      "[15509.74770062  3347.25235099]\n",
      "[33390.19638172  7738.82191968]\n",
      "[2.89768045e+07 1.83202858e+03]\n",
      "[2.89768045e+07 1.84130335e+03]\n",
      "Operations completed\n"
     ]
    }
   ],
   "source": [
    "for t in threads:\n",
    "    t.join()\n",
    "\n",
    "print(\"Operations completed\")\n",
    "threads = []"
   ]
  },
  {
   "cell_type": "markdown",
   "metadata": {},
   "source": [
    "## L1, Centering, Normalization"
   ]
  },
  {
   "cell_type": "code",
   "execution_count": null,
   "metadata": {},
   "outputs": [],
   "source": [
    "sampler = ms.mySampleWrapper(pen_params, n_splits=3, test_size=.25, sparsity = True, centering = True, normalizing = True)"
   ]
  },
  {
   "cell_type": "code",
   "execution_count": null,
   "metadata": {},
   "outputs": [],
   "source": [
    "t = Thread(target=child, args=(sampler, estimator, ds_list, ds_test, y_d_, y_d_test, y_c_, y_c_test, lock_dementia, lock_cardio, valid_fold, [[5,6,7,9,10,13,15,16,17,18,19]], False, 'L1 - Centering - Normalizing'))\n",
    "t.start()\n",
    "threads.append(t)"
   ]
  },
  {
   "cell_type": "markdown",
   "metadata": {},
   "source": [
    "## L1, Normalization, K-Normalization"
   ]
  },
  {
   "cell_type": "code",
   "execution_count": null,
   "metadata": {},
   "outputs": [],
   "source": [
    "sampler = ms.mySampleWrapper(pen_params, n_splits=3, test_size=.25, sparsity = True, centering = True, normalizing = True)"
   ]
  },
  {
   "cell_type": "code",
   "execution_count": null,
   "metadata": {},
   "outputs": [],
   "source": [
    "t = Thread(target=child, args=(sampler, estimator, ds_list, ds_test, y_d_, y_d_test, y_c_, y_c_test, lock_dementia, lock_cardio, valid_fold, [[5,6,7,9,10,13,15,16,17,18,19]], False, 'L1 - Normalizing - K Normalizing'))\n",
    "t.start()\n",
    "threads.append(t)"
   ]
  },
  {
   "cell_type": "markdown",
   "metadata": {},
   "source": [
    "## L1, Centering, K-Normalization"
   ]
  },
  {
   "cell_type": "code",
   "execution_count": null,
   "metadata": {},
   "outputs": [],
   "source": [
    "sampler = ms.mySampleWrapper(pen_params, n_splits=3, test_size=.25, sparsity = True, centering = True, normalizing = True)"
   ]
  },
  {
   "cell_type": "code",
   "execution_count": null,
   "metadata": {},
   "outputs": [],
   "source": [
    "t = Thread(target=child, args=(sampler, estimator, ds_list, ds_test, y_d_, y_d_test, y_c_, y_c_test, lock_dementia, lock_cardio, valid_fold, [[5,6,7,9,10,13,15,16,17,18,19]], False, 'L1 - Centering - K Normalizing'))\n",
    "t.start()\n",
    "threads.append(t)"
   ]
  },
  {
   "cell_type": "markdown",
   "metadata": {},
   "source": [
    "## L1, Centering, Normalization, K-Normalization"
   ]
  },
  {
   "cell_type": "code",
   "execution_count": null,
   "metadata": {},
   "outputs": [],
   "source": [
    "sampler = ms.mySampleWrapper(pen_params, n_splits=3, test_size=.25, sparsity = True, centering = True, normalizing = True)"
   ]
  },
  {
   "cell_type": "code",
   "execution_count": null,
   "metadata": {},
   "outputs": [],
   "source": [
    "t = Thread(target=child, args=(sampler, estimator, ds_list, ds_test, y_d_, y_d_test, y_c_, y_c_test, lock_dementia, lock_cardio, valid_fold, [[5,6,7,9,10,13,15,16,17,18,19]], False, 'L1 - Centering - Normalizing - K Normalizing'))\n",
    "t.start()\n",
    "threads.append(t)"
   ]
  },
  {
   "cell_type": "code",
   "execution_count": null,
   "metadata": {},
   "outputs": [],
   "source": [
    "for t in threads:\n",
    "    t.join()\n",
    "\n",
    "print(\"Operations completed\")\n",
    "threads = []"
   ]
  }
 ],
 "metadata": {
  "kernelspec": {
   "display_name": "Python 3",
   "language": "python",
   "name": "python3"
  },
  "language_info": {
   "codemirror_mode": {
    "name": "ipython",
    "version": 3
   },
   "file_extension": ".py",
   "mimetype": "text/x-python",
   "name": "python",
   "nbconvert_exporter": "python",
   "pygments_lexer": "ipython3",
   "version": "3.7.0"
  }
 },
 "nbformat": 4,
 "nbformat_minor": 2
}
