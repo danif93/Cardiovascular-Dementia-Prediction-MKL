{
 "cells": [
  {
   "cell_type": "code",
   "execution_count": 1,
   "metadata": {},
   "outputs": [
    {
     "name": "stderr",
     "output_type": "stream",
     "text": [
      "/Users/danilo/.conda/envs/bcb/lib/python3.7/site-packages/sklearn/utils/__init__.py:4: DeprecationWarning: Using or importing the ABCs from 'collections' instead of from 'collections.abc' is deprecated, and in 3.8 it will stop working\n",
      "  from collections import Sequence\n"
     ]
    }
   ],
   "source": [
    "import pandas as pd\n",
    "import os\n",
    "import numpy as np\n",
    "\n",
    "import Utils as ut\n",
    "import CortesAlignmentFile as ca\n",
    "import mySampler as ms\n",
    " \n",
    "from sklearn.model_selection import StratifiedShuffleSplit"
   ]
  },
  {
   "cell_type": "code",
   "execution_count": 2,
   "metadata": {},
   "outputs": [],
   "source": [
    "d_clinical = pd.read_csv(os.path.join('data', 'dataset_clinical_cleaned.csv'))\n",
    "d_genetic = pd.read_csv(os.path.join('data', 'dataset_genetic_cleaned_noOHE.csv'))\n",
    "d_vampire = pd.read_csv(os.path.join('data', 'dataset_vampire_cleaned.csv'))\n",
    "outputs = pd.read_csv(os.path.join('data', 'outputs_cleaned.csv'))"
   ]
  },
  {
   "cell_type": "markdown",
   "metadata": {},
   "source": [
    "## Dementia"
   ]
  },
  {
   "cell_type": "code",
   "execution_count": 3,
   "metadata": {},
   "outputs": [],
   "source": [
    "y = outputs[\"dement_fail\"].values\n",
    "C = d_clinical.values\n",
    "G = d_genetic.values\n",
    "V = d_vampire.values"
   ]
  },
  {
   "cell_type": "code",
   "execution_count": 4,
   "metadata": {},
   "outputs": [],
   "source": [
    "# COMPUTATIONAL COMPLEXITY: Reduce #samples\n",
    "tr_idx, ts_idx = next(StratifiedShuffleSplit(n_splits=1, test_size=0.75).split(C, y))"
   ]
  },
  {
   "cell_type": "code",
   "execution_count": 5,
   "metadata": {},
   "outputs": [],
   "source": [
    "y_ = y[tr_idx]\n",
    "y_test = y[ts_idx]\n",
    "C_ = C[tr_idx]\n",
    "C_test = C[ts_idx]\n",
    "G_ = G[tr_idx]\n",
    "G_test = G[ts_idx]\n",
    "V_ = V[tr_idx]\n",
    "V_test = V[ts_idx]"
   ]
  },
  {
   "cell_type": "code",
   "execution_count": 6,
   "metadata": {},
   "outputs": [],
   "source": [
    "ds_list = [C_, G_, V_]\n",
    "ds_test = [C_test, G_test, V_test]\n",
    "ds_names = ['clinic', 'genetic', 'vampire']"
   ]
  },
  {
   "cell_type": "markdown",
   "metadata": {},
   "source": [
    "## Basic approach"
   ]
  },
  {
   "cell_type": "code",
   "execution_count": 7,
   "metadata": {},
   "outputs": [],
   "source": [
    "kernel_names = ['linear', 'polynomial', 'gaussian']\n",
    "kernel_type = [{'linear':[0.5], 'polynomial':[2, 3, 7], 'gaussian':[0.1, 0.5, 0.7]},\n",
    "               {'linear':[0.2], 'polynomial':[4, 5, 8], 'gaussian':[0.7, 1]}]\n",
    "\n",
    "estimator = ca.centeredKernelAlignment\n",
    "sampler = ms.mySampler(n_splits=3, test_size=.25)"
   ]
  },
  {
   "cell_type": "code",
   "execution_count": 8,
   "metadata": {
    "scrolled": true
   },
   "outputs": [
    {
     "name": "stdout",
     "output_type": "stream",
     "text": [
      "1 split out of 3 ...\n",
      "\tWorking on config 1 of 2: {'linear': [0.5], 'polynomial': [2, 3], 'gaussian': [0.1, 0.5]}\n",
      "Fold no. 1\n",
      "Fold no. 2\n",
      "Fold no. 3\n",
      "Validation complete, config selected:[[0.5, 3, 0.5], [0.5, 3, 0.5], [0.5, 3, 0.5]]\n",
      "\tWorking on config 2 of 2: {'linear': [0.2], 'polynomial': [4, 5], 'gaussian': [0.7, 1]}\n",
      "Fold no. 1\n",
      "Fold no. 2\n",
      "Fold no. 3\n",
      "Validation complete, config selected:[[0.2, 4, 1], [0.2, 4, 1], [0.2, 4, 0.7]]\n",
      "\tResult of 1:\n",
      "CA: 0.0399761715551632\n",
      "Accuracy: 0.5174418604651163\n",
      "Precision: 0.19540229885057472\n",
      "Recall: 0.5666666666666667\n",
      "[linear:0.5, polynomial:3, gaussian:0.5, ]\n",
      "[linear:0.5, polynomial:3, gaussian:0.5, ]\n",
      "[linear:0.5, polynomial:3, gaussian:0.5, ]\n",
      "\n",
      "eta vector: [ 2.57480709e-07 -8.52177600e-14  5.22118522e-04 -3.82422497e-07\n",
      "  1.85829455e-05  7.07149120e-01  6.64650747e-13 -3.55783374e-26\n",
      " -7.07064247e-01]\n",
      "\n",
      "CA: 0.0384034381927207\n",
      "Accuracy: 0.5174418604651163\n",
      "Precision: 0.19540229885057472\n",
      "Recall: 0.5666666666666667\n",
      "[linear:0.2, polynomial:4, gaussian:1, ]\n",
      "[linear:0.2, polynomial:4, gaussian:1, ]\n",
      "[linear:0.2, polynomial:4, gaussian:0.7, ]\n",
      "\n",
      "eta vector: [ 1.85806407e-06 -1.21430378e-16  2.46208143e-02 -1.50552665e-06\n",
      "  4.17982839e-05 -7.16247534e-01  6.36871842e-12 -6.23001490e-33\n",
      "  6.97411846e-01]\n",
      "\n",
      "2 split out of 3 ...\n",
      "\tWorking on config 1 of 2: {'linear': [0.5], 'polynomial': [2, 3], 'gaussian': [0.1, 0.5]}\n",
      "Fold no. 1\n",
      "Fold no. 2\n",
      "Fold no. 3\n",
      "Validation complete, config selected:[[0.5, 3, 0.5], [0.5, 3, 0.1], [0.5, 3, 0.5]]\n",
      "\tWorking on config 2 of 2: {'linear': [0.2], 'polynomial': [4, 5], 'gaussian': [0.7, 1]}\n",
      "Fold no. 1\n",
      "Fold no. 2\n",
      "Fold no. 3\n",
      "Validation complete, config selected:[[0.2, 5, 1], [0.2, 5, 1], [0.2, 5, 0.7]]\n",
      "\tResult of 2:\n",
      "CA: 0.04014764148248084\n",
      "Accuracy: 0.5348837209302325\n",
      "Precision: 0.20238095238095238\n",
      "Recall: 0.5666666666666667\n",
      "[linear:0.5, polynomial:3, gaussian:0.5, ]\n",
      "[linear:0.5, polynomial:3, gaussian:0.1, ]\n",
      "[linear:0.5, polynomial:3, gaussian:0.5, ]\n",
      "\n",
      "eta vector: [ 4.03454497e-04 -1.31034460e-10  6.50053879e-01 -3.54761516e-04\n",
      "  9.57061546e-03  6.94761068e-01  2.44342474e-09 -1.26378621e-22\n",
      " -3.07644484e-01]\n",
      "\n",
      "CA: 0.037299352725682584\n",
      "Accuracy: 0.5348837209302325\n",
      "Precision: 0.20238095238095238\n",
      "Recall: 0.5666666666666667\n",
      "[linear:0.2, polynomial:5, gaussian:1, ]\n",
      "[linear:0.2, polynomial:5, gaussian:1, ]\n",
      "[linear:0.2, polynomial:5, gaussian:0.7, ]\n",
      "\n",
      "eta vector: [ 1.26568485e-06 -1.68764251e-20  2.23579009e-02 -2.90261166e-07\n",
      "  8.70077566e-08 -7.15347344e-01  1.26052436e-11 -2.17841920e-40\n",
      "  6.98411270e-01]\n",
      "\n",
      "3 split out of 3 ...\n",
      "\tWorking on config 1 of 2: {'linear': [0.5], 'polynomial': [2, 3], 'gaussian': [0.1, 0.5]}\n",
      "Fold no. 1\n",
      "Fold no. 2\n",
      "Fold no. 3\n",
      "Validation complete, config selected:[[0.5, 3, 0.5], [0.5, 3, 0.5], [0.5, 2, 0.1]]\n",
      "\tWorking on config 2 of 2: {'linear': [0.2], 'polynomial': [4, 5], 'gaussian': [0.7, 1]}\n",
      "Fold no. 1\n",
      "Fold no. 2\n",
      "Fold no. 3\n",
      "Validation complete, config selected:[[0.2, 5, 1], [0.2, 5, 1], [0.2, 5, 0.7]]\n",
      "\tResult of 3:\n",
      "CA: 0.03537355057182201\n",
      "Accuracy: 0.48255813953488375\n",
      "Precision: 0.16853932584269662\n",
      "Recall: 0.5\n",
      "[linear:0.5, polynomial:3, gaussian:0.5, ]\n",
      "[linear:0.5, polynomial:3, gaussian:0.5, ]\n",
      "[linear:0.5, polynomial:2, gaussian:0.1, ]\n",
      "\n",
      "eta vector: [ 1.52574175e-04 -4.70842035e-11  3.94346131e-01  5.36833267e-05\n",
      " -4.48809031e-03  7.19376673e-01 -4.00613424e-10  1.13287147e-15\n",
      " -5.71811300e-01]\n",
      "\n",
      "CA: 0.029900093123393517\n",
      "Accuracy: 0.47674418604651164\n",
      "Precision: 0.16666666666666666\n",
      "Recall: 0.5\n",
      "[linear:0.2, polynomial:5, gaussian:1, ]\n",
      "[linear:0.2, polynomial:5, gaussian:1, ]\n",
      "[linear:0.2, polynomial:5, gaussian:0.7, ]\n",
      "\n",
      "eta vector: [ 3.49628706e-08 -5.42807591e-22  6.69908886e-04 -1.27505522e-08\n",
      " -3.76080298e-08 -7.07374137e-01 -9.87651858e-14  1.70085287e-42\n",
      "  7.06839007e-01]\n",
      "\n"
     ]
    }
   ],
   "source": [
    "result1 = sampler.sample(kernel_type, estimator, ds_list, y_, valid_fold = 3, verbose=True)"
   ]
  },
  {
   "cell_type": "code",
   "execution_count": 9,
   "metadata": {},
   "outputs": [
    {
     "name": "stdout",
     "output_type": "stream",
     "text": [
      "Perfomances computed for 1 dictionary settings:\n",
      "\tAccuracy: 0.45330739299610895\n",
      "\tPrecision: 0.1702493551160791\n",
      "\tRecall: 0.5546218487394958\n",
      "Perfomances computed for 2 dictionary settings:\n",
      "\tAccuracy: 0.5778210116731517\n",
      "\tPrecision: 0.17369093231162197\n",
      "\tRecall: 0.38095238095238093\n"
     ]
    }
   ],
   "source": [
    "w_dict, w_list = result1.votingOverCA(ds_names, kernel_names)\n",
    "ut.testConfigurations(estimator, y_, y_test, w_list, ds_list, ds_test, kernel_names)"
   ]
  },
  {
   "cell_type": "code",
   "execution_count": 10,
   "metadata": {},
   "outputs": [
    {
     "name": "stdout",
     "output_type": "stream",
     "text": [
      "statistics of configuration 0\n",
      "{'config': {'linear': [[0.5, 0.5, 0.5], [0.5, 0.5, 0.5], [0.5, 0.5, 0.5]], 'polynomial': [[3, 3, 3], [3, 3, 3], [3, 3, 2]], 'gaussian': [[0.5, 0.5, 0.5], [0.5, 0.1, 0.5], [0.5, 0.5, 0.1]]}, 'CA': (0.03849912120315535, 4.889496208389129e-06), 'Accuracy': (0.5116279069767442, 0.0004732287723093553), 'Precision': (0.18877419235807458, 0.00021284184563042405), 'Recall': (0.5444444444444444, 0.000987654320987654), 'eta': (array([ 1.85428717e-04, -5.94012937e-11,  3.48307376e-01, -1.00486870e-04,\n",
      "        1.70036936e-03,  7.07095620e-01,  6.81158656e-10,  3.77623781e-16,\n",
      "       -5.28840010e-01]), array([2.76343494e-08, 2.93380603e-21, 7.13750348e-02, 3.28149818e-08,\n",
      "       3.43554041e-05, 1.00989434e-04, 1.57962823e-18, 2.85199535e-31,\n",
      "       2.75126237e-02]))}\n",
      "statistics of configuration 1\n",
      "{'config': {'linear': [[0.2, 0.2, 0.2], [0.2, 0.2, 0.2], [0.2, 0.2, 0.2]], 'polynomial': [[4, 4, 4], [5, 5, 5], [5, 5, 5]], 'gaussian': [[1, 1, 0.7], [1, 1, 0.7], [1, 1, 0.7]]}, 'CA': (0.0352009613472656, 1.4252769416515848e-05), 'Accuracy': (0.5096899224806202, 0.000593413857340303), 'Precision': (0.18814997263273125, 0.0002388831517986155), 'Recall': (0.5444444444444444, 0.000987654320987654), 'eta': (array([ 1.05290393e-06, -4.04825992e-17,  1.58828747e-02, -6.02846122e-07,\n",
      "        1.39492279e-05, -7.12989672e-01,  6.29173229e-12, -2.07667170e-33,\n",
      "        7.00887374e-01]), array([5.76587524e-13, 3.27627151e-33, 1.16570627e-04, 4.20251423e-13,\n",
      "       3.87787550e-10, 1.59021720e-05, 2.69016035e-23, 8.62512984e-66,\n",
      "       1.78774388e-05]))}\n"
     ]
    }
   ],
   "source": [
    "result1.performancesFeatures()"
   ]
  },
  {
   "cell_type": "markdown",
   "metadata": {},
   "source": [
    "## Kernel normalization"
   ]
  },
  {
   "cell_type": "code",
   "execution_count": 11,
   "metadata": {},
   "outputs": [],
   "source": [
    "kernel_names = ['linear', 'polynomial', 'gaussian']\n",
    "kernel_type = [{'linear':[0.5], 'polynomial':[2, 3], 'gaussian':[0.1, 0.3, 0.6]},\n",
    "               {'linear':[0.2], 'polynomial':[4, 5, 8], 'gaussian':[0.7, 1]}\n",
    "              ]\n",
    "estimator = ca.centeredKernelAlignment\n",
    "sampler = ms.mySampler(n_splits=3, test_size=.25, normalize_kernels = True)"
   ]
  },
  {
   "cell_type": "code",
   "execution_count": 12,
   "metadata": {},
   "outputs": [
    {
     "name": "stdout",
     "output_type": "stream",
     "text": [
      "1 split out of 3 ...\n",
      "\tWorking on config 1 of 2: {'linear': [0.5], 'polynomial': [2, 3], 'gaussian': [0.1, 0.3, 0.6]}\n",
      "Fold no. 1\n",
      "\t\tPerfomances computed for 200\n",
      "Fold no. 2\n",
      "\t\tPerfomances computed for 200\n",
      "Fold no. 3\n",
      "\t\tPerfomances computed for 200\n",
      "Validation complete, config selected:[[0.5, 3, 0.1], [0.5, 3, 0.1], [0.5, 2, 0.3]]\n",
      "\tWorking on config 2 of 2: {'linear': [0.2], 'polynomial': [4, 5, 8], 'gaussian': [0.7, 1]}\n",
      "Fold no. 1\n",
      "\t\tPerfomances computed for 200\n",
      "Fold no. 2\n",
      "\t\tPerfomances computed for 200\n",
      "Fold no. 3\n",
      "\t\tPerfomances computed for 200\n",
      "Validation complete, config selected:[[0.2, 8, 1], [0.2, 5, 0.7], [0.2, 4, 1]]\n",
      "\tResult of 1:\n",
      "CA: 0.042805566029267335\n",
      "Accuracy: 0.5\n",
      "Precision: 0.22549019607843138\n",
      "Recall: 0.7666666666666667\n",
      "[linear:0.5, polynomial:3, gaussian:0.1, ]\n",
      "[linear:0.5, polynomial:3, gaussian:0.1, ]\n",
      "[linear:0.5, polynomial:2, gaussian:0.3, ]\n",
      "\n",
      "eta vector: [ 9.86165562e-01 -1.65609681e-01  9.49288530e-04  2.43229746e-03\n",
      " -2.30412445e-03  3.36560197e-03  3.71844754e-03 -2.09783853e-03\n",
      " -3.03929058e-03]\n",
      "\n",
      "CA: 0.042400492034177735\n",
      "Accuracy: 0.5872093023255814\n",
      "Precision: 0.18461538461538463\n",
      "Recall: 0.4\n",
      "[linear:0.2, polynomial:8, gaussian:1, ]\n",
      "[linear:0.2, polynomial:5, gaussian:0.7, ]\n",
      "[linear:0.2, polynomial:4, gaussian:1, ]\n",
      "\n",
      "eta vector: [ 2.66152957e-03 -5.05055103e-05  2.42478882e-03  7.73368113e-06\n",
      " -3.29862775e-06  7.05891679e-01  8.11034042e-06 -8.40118464e-07\n",
      " -7.08310646e-01]\n",
      "\n",
      "2 split out of 3 ...\n",
      "\tWorking on config 1 of 2: {'linear': [0.5], 'polynomial': [2, 3], 'gaussian': [0.1, 0.3, 0.6]}\n",
      "Fold no. 1\n",
      "\t\tPerfomances computed for 200\n",
      "Fold no. 2\n",
      "\t\tPerfomances computed for 200\n",
      "Fold no. 3\n",
      "\t\tPerfomances computed for 200\n",
      "Validation complete, config selected:[[0.5, 2, 0.1], [0.5, 2, 0.1], [0.5, 3, 0.6]]\n",
      "\tWorking on config 2 of 2: {'linear': [0.2], 'polynomial': [4, 5, 8], 'gaussian': [0.7, 1]}\n",
      "Fold no. 1\n",
      "\t\tPerfomances computed for 200\n",
      "Fold no. 2\n",
      "\t\tPerfomances computed for 200\n",
      "Fold no. 3\n",
      "\t\tPerfomances computed for 200\n",
      "Validation complete, config selected:[[0.2, 4, 1], [0.2, 4, 0.7], [0.2, 8, 1]]\n",
      "\tResult of 2:\n",
      "CA: 0.035993773652019494\n",
      "Accuracy: 0.5348837209302325\n",
      "Precision: 0.22826086956521738\n",
      "Recall: 0.7\n",
      "[linear:0.5, polynomial:2, gaussian:0.1, ]\n",
      "[linear:0.5, polynomial:2, gaussian:0.1, ]\n",
      "[linear:0.5, polynomial:3, gaussian:0.6, ]\n",
      "\n",
      "eta vector: [ 9.72648329e-01 -2.32263664e-01  6.32879073e-04  8.22355565e-04\n",
      "  2.29952101e-03 -3.68058102e-04  2.11891647e-04  3.32236477e-04\n",
      "  1.47061922e-03]\n",
      "\n",
      "CA: 0.03598594815871393\n",
      "Accuracy: 0.4418604651162791\n",
      "Precision: 0.15625\n",
      "Recall: 0.5\n",
      "[linear:0.2, polynomial:4, gaussian:1, ]\n",
      "[linear:0.2, polynomial:4, gaussian:0.7, ]\n",
      "[linear:0.2, polynomial:8, gaussian:1, ]\n",
      "\n",
      "eta vector: [ 6.58753464e-03 -9.31618183e-05  1.06597145e-04 -4.10926705e-05\n",
      "  4.87967861e-05 -7.07134533e-01  4.51313738e-06  2.15405420e-06\n",
      "  7.07048324e-01]\n",
      "\n",
      "3 split out of 3 ...\n",
      "\tWorking on config 1 of 2: {'linear': [0.5], 'polynomial': [2, 3], 'gaussian': [0.1, 0.3, 0.6]}\n",
      "Fold no. 1\n",
      "\t\tPerfomances computed for 200\n",
      "Fold no. 2\n",
      "\t\tPerfomances computed for 200\n",
      "Fold no. 3\n",
      "\t\tPerfomances computed for 200\n",
      "Validation complete, config selected:[[0.5, 3, 0.1], [0.5, 2, 0.6], [0.5, 3, 0.1]]\n",
      "\tWorking on config 2 of 2: {'linear': [0.2], 'polynomial': [4, 5, 8], 'gaussian': [0.7, 1]}\n",
      "Fold no. 1\n",
      "\t\tPerfomances computed for 200\n",
      "Fold no. 2\n",
      "\t\tPerfomances computed for 200\n",
      "Fold no. 3\n",
      "\t\tPerfomances computed for 200\n",
      "Validation complete, config selected:[[0.2, 4, 0.7], [0.2, 5, 0.7], [0.2, 8, 1]]\n",
      "\tResult of 3:\n",
      "CA: 0.0350876102692804\n",
      "Accuracy: 0.5174418604651163\n",
      "Precision: 0.1728395061728395\n",
      "Recall: 0.4666666666666667\n",
      "[linear:0.5, polynomial:3, gaussian:0.1, ]\n",
      "[linear:0.5, polynomial:2, gaussian:0.6, ]\n",
      "[linear:0.5, polynomial:3, gaussian:0.1, ]\n",
      "\n",
      "eta vector: [ 0.9893608  -0.11712796 -0.00176175  0.0073694  -0.00797169  0.06254184\n",
      "  0.00281354 -0.00122613 -0.05834719]\n",
      "\n",
      "CA: 0.03499139309340961\n",
      "Accuracy: 0.5174418604651163\n",
      "Precision: 0.15584415584415584\n",
      "Recall: 0.4\n",
      "[linear:0.2, polynomial:4, gaussian:0.7, ]\n",
      "[linear:0.2, polynomial:5, gaussian:0.7, ]\n",
      "[linear:0.2, polynomial:8, gaussian:1, ]\n",
      "\n",
      "eta vector: [ 1.52280420e-03 -7.03389689e-05  9.67481845e-06  5.00037778e-06\n",
      " -2.10516390e-06  7.07103446e-01  3.44684152e-06 -4.76383811e-07\n",
      " -7.07108473e-01]\n",
      "\n"
     ]
    }
   ],
   "source": [
    "result3 = sampler.sample(kernel_type, estimator, ds_list, y_, valid_fold = 3, verbose=True)"
   ]
  },
  {
   "cell_type": "code",
   "execution_count": 13,
   "metadata": {},
   "outputs": [
    {
     "name": "stdout",
     "output_type": "stream",
     "text": [
      "Perfomances computed for 1 dictionary settings:\n",
      "\tAccuracy: 0.5729571984435797\n",
      "\tPrecision: 0.2544769085768143\n",
      "\tRecall: 0.7563025210084033\n",
      "Perfomances computed for 2 dictionary settings:\n",
      "\tAccuracy: 0.44455252918287935\n",
      "\tPrecision: 0.17154811715481172\n",
      "\tRecall: 0.5742296918767507\n"
     ]
    }
   ],
   "source": [
    "w_dict, w_list = result3.votingOverCA(ds_names, kernel_names)\n",
    "ut.testConfigurations(estimator, y_, y_test, w_list, ds_list, ds_test, kernel_names)"
   ]
  },
  {
   "cell_type": "code",
   "execution_count": 14,
   "metadata": {},
   "outputs": [
    {
     "name": "stdout",
     "output_type": "stream",
     "text": [
      "statistics of configuration 0\n",
      "{'config': {'linear': [[0.5, 0.5, 0.5], [0.5, 0.5, 0.5], [0.5, 0.5, 0.5]], 'polynomial': [[3, 3, 2], [2, 2, 3], [3, 2, 3]], 'gaussian': [[0.1, 0.1, 0.3], [0.1, 0.1, 0.6], [0.1, 0.6, 0.1]]}, 'CA': (0.03796231665018907, 1.186538762000716e-05), 'Accuracy': (0.5174418604651163, 0.0002028123309897236), 'Precision': (0.20886352393882943, 0.0006501443665972419), 'Recall': (0.6444444444444445, 0.016543209876543213), 'eta': (array([ 9.82724896e-01, -1.71667103e-01, -5.98617436e-05,  3.54135191e-03,\n",
      "       -2.65876304e-03,  2.18464610e-02,  2.24796070e-03, -9.97245668e-04,\n",
      "       -1.99719522e-02]), array([5.24701838e-05, 2.22771775e-03, 1.46490247e-06, 7.75897190e-06,\n",
      "       1.76458321e-05, 8.30380273e-04, 2.20926400e-06, 1.01040591e-06,\n",
      "       7.39719139e-04]))}\n",
      "statistics of configuration 1\n",
      "{'config': {'linear': [[0.2, 0.2, 0.2], [0.2, 0.2, 0.2], [0.2, 0.2, 0.2]], 'polynomial': [[8, 5, 4], [4, 4, 8], [4, 5, 8]], 'gaussian': [[1, 0.7, 1], [1, 0.7, 1], [0.7, 0.7, 1]]}, 'CA': (0.037792611095433755, 1.0781140002473789e-05), 'Accuracy': (0.5155038759689923, 0.003522925304969655), 'Precision': (0.16556984681984682, 0.00018139370654043495), 'Recall': (0.43333333333333335, 0.0022222222222222214), 'eta': (array([ 3.59062281e-03, -7.13354325e-05,  8.47020262e-04, -9.45287053e-06,\n",
      "        1.44643315e-05,  2.35286864e-01,  5.35677311e-06,  2.79183974e-07,\n",
      "       -2.36123598e-01]), array([4.70685619e-06, 3.03756572e-10, 1.24624247e-06, 5.01783629e-10,\n",
      "       5.89596112e-10, 4.44079289e-01, 3.98056428e-12, 1.77961966e-12,\n",
      "       4.44786879e-01]))}\n"
     ]
    }
   ],
   "source": [
    "result3.performancesFeatures()"
   ]
  },
  {
   "cell_type": "markdown",
   "metadata": {},
   "source": [
    "## Normalized data"
   ]
  },
  {
   "cell_type": "code",
   "execution_count": null,
   "metadata": {},
   "outputs": [],
   "source": [
    "kernel_names = ['linear', 'polynomial', 'gaussian']\n",
    "kernel_type = [{'linear':[0.5], 'polynomial':[2, 3, 7], 'gaussian':[0.1, 0.5, 0.7]},\n",
    "               {'linear':[0.2], 'polynomial':[4, 5, 8], 'gaussian':[0.7, 1]}]\n",
    "estimator = ca.centeredKernelAlignment\n",
    "sampler = ms.mySampler(n_splits=3, test_size=.25, normalizing = True)"
   ]
  },
  {
   "cell_type": "code",
   "execution_count": null,
   "metadata": {},
   "outputs": [],
   "source": [
    "result4 = sampler.sample(kernel_type, estimator, ds_list, y_, valid_fold = 3, verbose=True, exclusion_list = [[0, 3, 8, 13, 14], list(range(G.shape[1]-3)), []])"
   ]
  },
  {
   "cell_type": "code",
   "execution_count": null,
   "metadata": {},
   "outputs": [],
   "source": [
    "w_dict, w_list = result4.votingOverCA(ds_names, kernel_names)\n",
    "ut.testConfigurations(estimator, y_, y_test, w_list, ds_list, ds_test, kernel_names)"
   ]
  },
  {
   "cell_type": "code",
   "execution_count": null,
   "metadata": {},
   "outputs": [],
   "source": [
    "result4.performancesFeatures()"
   ]
  },
  {
   "cell_type": "markdown",
   "metadata": {},
   "source": [
    "## Origin Data Centering"
   ]
  },
  {
   "cell_type": "code",
   "execution_count": null,
   "metadata": {},
   "outputs": [],
   "source": [
    "kernel_names = ['linear', 'polynomial', 'gaussian']\n",
    "kernel_type = [{'linear':[0.5], 'polynomial':[2, 3, 7], 'gaussian':[0.1, 0.5, 0.7]},\n",
    "               {'linear':[0.2], 'polynomial':[4, 5, 8], 'gaussian':[0.7, 1]}]\n",
    "estimator = ca.centeredKernelAlignment\n",
    "sampler = ms.mySampler(n_splits=3, test_size=.25, centering = True)"
   ]
  },
  {
   "cell_type": "code",
   "execution_count": null,
   "metadata": {
    "scrolled": true
   },
   "outputs": [],
   "source": [
    "result5 = sampler.sample(kernel_type, estimator, ds_list, y_, valid_fold = 3, verbose=True, exclusion_list = [[5,6,7,9,10,13,15,16,17,18,19], list(range(G.shape[1]-3)), []])"
   ]
  },
  {
   "cell_type": "code",
   "execution_count": null,
   "metadata": {},
   "outputs": [],
   "source": [
    "w_dict, w_list = result5.votingOverCA(ds_names, kernel_names)\n",
    "ut.testConfigurations(estimator, y_, y_test, w_list, ds_list, ds_test, kernel_names)"
   ]
  },
  {
   "cell_type": "code",
   "execution_count": null,
   "metadata": {},
   "outputs": [],
   "source": [
    "result5.performancesFeatures()"
   ]
  },
  {
   "cell_type": "markdown",
   "metadata": {},
   "source": [
    "## Origin Data  Centering and Normalization"
   ]
  },
  {
   "cell_type": "code",
   "execution_count": null,
   "metadata": {},
   "outputs": [],
   "source": [
    "kernel_names = ['linear', 'polynomial', 'gaussian']\n",
    "kernel_type = [{'linear':[0.5], 'polynomial':[2, 3, 7], 'gaussian':[0.1, 0.5, 0.7]},\n",
    "               {'linear':[0.2], 'polynomial':[4, 5, 8], 'gaussian':[0.7, 1]}]\n",
    "estimator = ca.centeredKernelAlignment\n",
    "sampler = ms.mySampler(n_splits=3, test_size=.25, centering = True, normalizing = True)"
   ]
  },
  {
   "cell_type": "code",
   "execution_count": null,
   "metadata": {
    "scrolled": true
   },
   "outputs": [],
   "source": [
    "result6 = sampler.sample(kernel_type, estimator, ds_list, y_, valid_fold = 3, verbose=True, exclusion_list = [[5,6,7,9,10,13,15,16,17,18,19], list(range(G.shape[1]-3)), []])"
   ]
  },
  {
   "cell_type": "code",
   "execution_count": null,
   "metadata": {},
   "outputs": [],
   "source": [
    "w_dict, w_list = result6.votingOverCA(ds_names, kernel_names)\n",
    "ut.testConfigurations(estimator, y_, y_test, w_list, ds_list, ds_test, kernel_names)"
   ]
  },
  {
   "cell_type": "code",
   "execution_count": null,
   "metadata": {},
   "outputs": [],
   "source": [
    "result6.performancesFeatures()"
   ]
  },
  {
   "cell_type": "markdown",
   "metadata": {},
   "source": [
    "## Normalization, Kernel Normalization"
   ]
  },
  {
   "cell_type": "code",
   "execution_count": null,
   "metadata": {},
   "outputs": [],
   "source": [
    "kernel_names = ['linear', 'polynomial', 'gaussian']\n",
    "kernel_type = [{'linear':[0.5], 'polynomial':[2, 3, 4], 'gaussian':[0.1, 0.3, 0.6]},\n",
    "               {'linear':[0.2], 'polynomial':[4, 5, 8], 'gaussian':[0.7, 1]}\n",
    "              ]\n",
    "estimator = ca.centeredKernelAlignment\n",
    "sampler = ms.mySampler(n_splits=3, test_size=.25, normalizing = True, normalize_kernels = True)"
   ]
  },
  {
   "cell_type": "code",
   "execution_count": null,
   "metadata": {
    "scrolled": true
   },
   "outputs": [],
   "source": [
    "result10 = sampler.sample(kernel_type, estimator, ds_list, y_, valid_fold = 3, verbose=True, exclusion_list = [[5,6,7,9,10,13,15,16,17,18,19], list(range(G.shape[1]-3)), []])"
   ]
  },
  {
   "cell_type": "code",
   "execution_count": null,
   "metadata": {},
   "outputs": [],
   "source": [
    "w_dict, w_list = result10.votingOverCA(ds_names, kernel_names)\n",
    "ut.testConfigurations(estimator, y_, y_test, w_list, ds_list, ds_test, kernel_names)"
   ]
  },
  {
   "cell_type": "code",
   "execution_count": null,
   "metadata": {},
   "outputs": [],
   "source": [
    "result10.performancesFeatures()"
   ]
  },
  {
   "cell_type": "markdown",
   "metadata": {},
   "source": [
    "## Centering, Kernel Normalization"
   ]
  },
  {
   "cell_type": "code",
   "execution_count": null,
   "metadata": {},
   "outputs": [],
   "source": [
    "kernel_names = ['linear', 'polynomial', 'gaussian']\n",
    "kernel_type = [{'linear':[0.5], 'polynomial':[2, 3,4], 'gaussian':[0.1, 0.3, 0.6]},\n",
    "               {'linear':[0.2], 'polynomial':[4, 5, 8], 'gaussian':[0.7, 1]}\n",
    "              ]\n",
    "estimator = ca.centeredKernelAlignment\n",
    "sampler = ms.mySampler(n_splits=3, test_size=.25, centering = True, normalize_kernels = True)"
   ]
  },
  {
   "cell_type": "code",
   "execution_count": null,
   "metadata": {},
   "outputs": [],
   "source": [
    "result11 = sampler.sample(kernel_type, estimator, ds_list, y_, valid_fold = 3, verbose=True, exclusion_list = [[5,6,7,9,10,13,15,16,17,18,19], list(range(G.shape[1]-3)), []])"
   ]
  },
  {
   "cell_type": "code",
   "execution_count": null,
   "metadata": {},
   "outputs": [],
   "source": [
    "w_dict, w_list = result11.votingOverCA(ds_names, kernel_names)\n",
    "ut.testConfigurations(estimator, y_, y_test, w_list, ds_list, ds_test, kernel_names)"
   ]
  },
  {
   "cell_type": "code",
   "execution_count": null,
   "metadata": {},
   "outputs": [],
   "source": [
    "result11.performancesFeatures()"
   ]
  },
  {
   "cell_type": "markdown",
   "metadata": {},
   "source": [
    "## Centering, Normalization, Kernel Normalization"
   ]
  },
  {
   "cell_type": "code",
   "execution_count": null,
   "metadata": {},
   "outputs": [],
   "source": [
    "kernel_names = ['linear', 'polynomial', 'gaussian']\n",
    "kernel_type = [{'linear':[0.5], 'polynomial':[2, 3,4], 'gaussian':[0.1, 0.3, 0.6]},\n",
    "               {'linear':[0.2], 'polynomial':[4, 5, 8], 'gaussian':[0.7, 1]}\n",
    "              ]\n",
    "estimator = ca.centeredKernelAlignment\n",
    "sampler = ms.mySampler(n_splits=3, test_size=.25, centering = True, normalizing = True, normalize_kernels = True)"
   ]
  },
  {
   "cell_type": "code",
   "execution_count": null,
   "metadata": {},
   "outputs": [],
   "source": [
    "result7 = sampler.sample(kernel_type, estimator, ds_list, y_, valid_fold = 3, verbose=True, exclusion_list = [[5,6,7,9,10,13,15,16,17,18,19], list(range(G.shape[1]-3)), []])"
   ]
  },
  {
   "cell_type": "code",
   "execution_count": null,
   "metadata": {},
   "outputs": [],
   "source": [
    "w_dict, w_list = result7.votingOverCA(ds_names, kernel_names)\n",
    "ut.testConfigurations(estimator, y_, y_test, w_list, ds_list, ds_test, kernel_names)"
   ]
  },
  {
   "cell_type": "code",
   "execution_count": null,
   "metadata": {},
   "outputs": [],
   "source": [
    "result7.performancesFeatures()"
   ]
  },
  {
   "cell_type": "markdown",
   "metadata": {},
   "source": [
    "## L2 Penalty, Centering, K-Normalization"
   ]
  },
  {
   "cell_type": "code",
   "execution_count": null,
   "metadata": {},
   "outputs": [],
   "source": [
    "kernel_names = ['linear', 'polynomial', 'gaussian']\n",
    "kernel_type = [{'linear':[0.5], 'polynomial':[2, 3,4], 'gaussian':[0.1, 0.3, 0.6]},\n",
    "               {'linear':[0.2], 'polynomial':[4, 5, 8], 'gaussian':[0.7, 1]}\n",
    "              ]\n",
    "estimator = ca.centeredKernelAlignment\n",
    "sampler = ms.mySampler(n_splits=3, test_size=.25, lamb = 0.5, centering = True, normalize_kernels = False)"
   ]
  },
  {
   "cell_type": "code",
   "execution_count": null,
   "metadata": {},
   "outputs": [],
   "source": [
    "result9 = sampler.sample(kernel_type, estimator, ds_list, y_, valid_fold = 3, verbose=True, exclusion_list = [[5,6,7,9,10,13,15,16,17,18,19], list(range(G.shape[1]-3)), []])"
   ]
  },
  {
   "cell_type": "code",
   "execution_count": null,
   "metadata": {},
   "outputs": [],
   "source": [
    "w_dict, w_list = result9.votingOverCA(ds_names, kernel_names)\n",
    "ut.testConfigurations(estimator, y_, y_test, w_list, ds_list, ds_test, kernel_names)"
   ]
  },
  {
   "cell_type": "code",
   "execution_count": null,
   "metadata": {},
   "outputs": [],
   "source": [
    "result9.performancesFeatures()"
   ]
  },
  {
   "cell_type": "markdown",
   "metadata": {},
   "source": [
    "## Sparsity in eta, Centering, K-Normalization"
   ]
  },
  {
   "cell_type": "code",
   "execution_count": null,
   "metadata": {},
   "outputs": [],
   "source": [
    "y = outputs[\"dement_fail\"].values\n",
    "C = d_clinical.values\n",
    "G = d_genetic.values\n",
    "V = d_vampire.values"
   ]
  },
  {
   "cell_type": "code",
   "execution_count": null,
   "metadata": {},
   "outputs": [],
   "source": [
    "tr_idx, ts_idx = next(StratifiedShuffleSplit(n_splits=1, test_size=0.95).split(C, y))"
   ]
  },
  {
   "cell_type": "code",
   "execution_count": null,
   "metadata": {},
   "outputs": [],
   "source": [
    "y_ = y[tr_idx]\n",
    "y_test = y[ts_idx]\n",
    "C_ = C[tr_idx]\n",
    "C_test = C[ts_idx]\n",
    "G_ = G[tr_idx]\n",
    "G_test = G[ts_idx]\n",
    "V_ = V[tr_idx]\n",
    "V_test = V[ts_idx]"
   ]
  },
  {
   "cell_type": "code",
   "execution_count": null,
   "metadata": {},
   "outputs": [],
   "source": [
    "ds_list = [C_, G_, V_]\n",
    "ds_test = [C_test, G_test, V_test]\n",
    "ds_names = ['clinic', 'genetic', 'vampire']"
   ]
  },
  {
   "cell_type": "code",
   "execution_count": null,
   "metadata": {},
   "outputs": [],
   "source": [
    "kernel_names = ['linear', 'polynomial', 'gaussian']\n",
    "kernel_type = [{'linear':[0.5], 'polynomial':[2, 3], 'gaussian':[0.1, 0.3]}#,\n",
    "               #{'linear':[0.2], 'polynomial':[4, 5, 8], 'gaussian':[0.7, 1]}\n",
    "              ]\n",
    "estimator = ca.centeredKernelAlignment\n",
    "sampler = ms.mySampler(n_splits=3, test_size=.25, sparsity = 0.3, centering = True, normalize_kernels = True)"
   ]
  },
  {
   "cell_type": "code",
   "execution_count": null,
   "metadata": {},
   "outputs": [],
   "source": [
    "result8 = sampler.sample(kernel_type, estimator, ds_list, y_, valid_fold = 3, verbose=True, exclusion_list = [[5,6,7,9,10,13,15,16,17,18,19], list(range(G.shape[1]-3)), []])"
   ]
  },
  {
   "cell_type": "code",
   "execution_count": null,
   "metadata": {},
   "outputs": [],
   "source": [
    "w_dict, w_list = result8.votingOverCA(ds_names, kernel_names)\n",
    "ut.testConfigurations(estimator, y_, y_test, w_list, ds_list, ds_test, kernel_names)"
   ]
  },
  {
   "cell_type": "code",
   "execution_count": null,
   "metadata": {},
   "outputs": [],
   "source": [
    "result8.performancesFeatures()"
   ]
  }
 ],
 "metadata": {
  "kernelspec": {
   "display_name": "Python 3",
   "language": "python",
   "name": "python3"
  },
  "language_info": {
   "codemirror_mode": {
    "name": "ipython",
    "version": 3
   },
   "file_extension": ".py",
   "mimetype": "text/x-python",
   "name": "python",
   "nbconvert_exporter": "python",
   "pygments_lexer": "ipython3",
   "version": "3.7.0"
  }
 },
 "nbformat": 4,
 "nbformat_minor": 2
}
